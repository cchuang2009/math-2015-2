{
 "cells": [
  {
   "cell_type": "markdown",
   "metadata": {},
   "source": [
    "Degue Outbreak in Tainan, 2015\n",
    "==="
   ]
  },
  {
   "cell_type": "code",
   "execution_count": 1,
   "metadata": {
    "collapsed": true
   },
   "outputs": [],
   "source": [
    "%matplotlib inline\n"
   ]
  },
  {
   "cell_type": "markdown",
   "metadata": {},
   "source": [
    "Data Sources\n",
    "---\n",
    "<a href=\"http://data.tainan.gov.tw/dataset/dengue-dist\">Tainan City Government</a>"
   ]
  },
  {
   "cell_type": "code",
   "execution_count": 3,
   "metadata": {
    "collapsed": false
   },
   "outputs": [
    {
     "name": "stdout",
     "output_type": "stream",
     "text": [
      "['編號', '確診日', '區別', '里別', '道路名稱', '緯度座標', '經度座標\\n']\n",
      "['1', '2015/1/6', '關廟區', '南花里', '明德街', '22.987', '120.234\\n']\n"
     ]
    }
   ],
   "source": [
    "data_file = open('data/0908.csv')\n",
    " \n",
    "for index, line in enumerate(data_file.readlines()):\n",
    "    print ((line.split(',')))\n",
    "    if index == 1:\n",
    "        break"
   ]
  },
  {
   "cell_type": "markdown",
   "metadata": {},
   "source": [
    "After read in the data, we find the data not in *ascii* code (in Python-2.7 but normal in Python-3.4). Try to read again by \"Pandas.read_csv\":"
   ]
  },
  {
   "cell_type": "code",
   "execution_count": 4,
   "metadata": {
    "collapsed": false
   },
   "outputs": [
    {
     "data": {
      "text/plain": [
       "Index(['編號', '確診日', '區別', '里別', '道路名稱', '緯度座標', '經度座標'], dtype='object')"
      ]
     },
     "execution_count": 4,
     "metadata": {},
     "output_type": "execute_result"
    }
   ],
   "source": [
    "import pandas as pd\n",
    "data = pd.read_csv('data/0908.csv', nrows=5)\n",
    "data.columns"
   ]
  },
  {
   "cell_type": "markdown",
   "metadata": {},
   "source": [
    "Also readble by \"numpy.genfromtxt\"\n",
    "\n",
    "```python\n",
    "from numpy import genfromtxt\n",
    "data_file = genfromtxt('data/0908.csv', delimiter=',')\n",
    "```"
   ]
  },
  {
   "cell_type": "markdown",
   "metadata": {},
   "source": [
    "Subjects\n",
    "---\n",
    "\n",
    "- predict what the future migtht be;\n",
    "- make the scater plot for infected in local area.\n"
   ]
  },
  {
   "cell_type": "code",
   "execution_count": 5,
   "metadata": {
    "collapsed": false
   },
   "outputs": [
    {
     "name": "stdout",
     "output_type": "stream",
     "text": [
      "<class 'pandas.core.frame.DataFrame'>\n",
      "DatetimeIndex: 5263 entries, 2015-01-06 to 2015-09-06\n",
      "Data columns (total 6 columns):\n",
      "編號      5263 non-null int64\n",
      "區別      5263 non-null object\n",
      "里別      5263 non-null object\n",
      "道路名稱    5216 non-null object\n",
      "緯度座標    5263 non-null float64\n",
      "經度座標    5263 non-null float64\n",
      "dtypes: float64(2), int64(1), object(3)\n",
      "memory usage: 287.8+ KB\n"
     ]
    }
   ],
   "source": [
    "df = pd.DataFrame.from_csv('data/0908.csv',index_col=1)\n",
    "#df = df.sort_index()\n",
    "df.info()"
   ]
  },
  {
   "cell_type": "markdown",
   "metadata": {},
   "source": [
    "The \"index\" column is in Traditional Chinese; change the chinese name of items into English ones for convenient in the future."
   ]
  },
  {
   "cell_type": "code",
   "execution_count": 6,
   "metadata": {
    "collapsed": false
   },
   "outputs": [
    {
     "name": "stdout",
     "output_type": "stream",
     "text": [
      "<class 'pandas.core.frame.DataFrame'>\n",
      "Int64Index: 5263 entries, 1 to 5263\n",
      "Data columns (total 6 columns):\n",
      "date         5263 non-null object\n",
      "district     5263 non-null object\n",
      "alley        5263 non-null object\n",
      "street       5216 non-null object\n",
      "longitude    5263 non-null float64\n",
      "latitude     5263 non-null float64\n",
      "dtypes: float64(2), object(4)\n",
      "memory usage: 287.8+ KB\n"
     ]
    }
   ],
   "source": [
    "df = pd.DataFrame.from_csv('data/0908-en.csv',index_col=0,parse_dates=[0])\n",
    "#df = df.sort_index()\n",
    "df.info()"
   ]
  },
  {
   "cell_type": "code",
   "execution_count": 6,
   "metadata": {
    "collapsed": false
   },
   "outputs": [
    {
     "data": {
      "text/html": [
       "<div>\n",
       "<table border=\"1\" class=\"dataframe\">\n",
       "  <thead>\n",
       "    <tr style=\"text-align: right;\">\n",
       "      <th></th>\n",
       "      <th>longitude</th>\n",
       "      <th>latitude</th>\n",
       "    </tr>\n",
       "  </thead>\n",
       "  <tbody>\n",
       "    <tr>\n",
       "      <th>count</th>\n",
       "      <td>5263.000000</td>\n",
       "      <td>5263.000000</td>\n",
       "    </tr>\n",
       "    <tr>\n",
       "      <th>mean</th>\n",
       "      <td>23.011662</td>\n",
       "      <td>120.211114</td>\n",
       "    </tr>\n",
       "    <tr>\n",
       "      <th>std</th>\n",
       "      <td>0.048532</td>\n",
       "      <td>0.028581</td>\n",
       "    </tr>\n",
       "    <tr>\n",
       "      <th>min</th>\n",
       "      <td>22.906372</td>\n",
       "      <td>120.099911</td>\n",
       "    </tr>\n",
       "    <tr>\n",
       "      <th>25%</th>\n",
       "      <td>22.992000</td>\n",
       "      <td>120.194000</td>\n",
       "    </tr>\n",
       "    <tr>\n",
       "      <th>50%</th>\n",
       "      <td>23.006000</td>\n",
       "      <td>120.208053</td>\n",
       "    </tr>\n",
       "    <tr>\n",
       "      <th>75%</th>\n",
       "      <td>23.017000</td>\n",
       "      <td>120.219000</td>\n",
       "    </tr>\n",
       "    <tr>\n",
       "      <th>max</th>\n",
       "      <td>23.398983</td>\n",
       "      <td>120.538000</td>\n",
       "    </tr>\n",
       "  </tbody>\n",
       "</table>\n",
       "</div>"
      ],
      "text/plain": [
       "         longitude     latitude\n",
       "count  5263.000000  5263.000000\n",
       "mean     23.011662   120.211114\n",
       "std       0.048532     0.028581\n",
       "min      22.906372   120.099911\n",
       "25%      22.992000   120.194000\n",
       "50%      23.006000   120.208053\n",
       "75%      23.017000   120.219000\n",
       "max      23.398983   120.538000"
      ]
     },
     "execution_count": 6,
     "metadata": {},
     "output_type": "execute_result"
    }
   ],
   "source": [
    "df.describe()"
   ]
  },
  {
   "cell_type": "code",
   "execution_count": 11,
   "metadata": {
    "collapsed": false
   },
   "outputs": [
    {
     "data": {
      "text/plain": [
       "(            date district alley street  longitude  latitude\n",
       " index                                                      \n",
       " 1       2015/1/6      關廟區   南花里    明德街     22.987   120.234\n",
       " 2      2015/1/19       東區   文聖里    裕文路     22.979   120.197\n",
       " 3      2015/5/21       北區   六甲里    和緯路     22.997   120.198\n",
       " 4      2015/5/24       北區   六甲里    和緯路     22.997   120.198\n",
       " 5       2015/6/4       北區   六甲里    和緯路     23.005   120.209,\n",
       "            date district alley street  longitude  latitude\n",
       " index                                                     \n",
       " 5259   2015/9/6       北區   國興里    南園街     23.009   120.225\n",
       " 5260   2015/9/6      中西區   民主里    府前路     22.991   120.194\n",
       " 5261   2015/9/6      中西區   安海里    環河街     22.996   120.193\n",
       " 5262   2015/9/6       南區   金華里    尊南街     22.979   120.189\n",
       " 5263   2015/9/6       北區   東興里    小東路     22.999   120.228)"
      ]
     },
     "execution_count": 11,
     "metadata": {},
     "output_type": "execute_result"
    }
   ],
   "source": [
    "df.head(),df.tail()"
   ]
  },
  {
   "cell_type": "markdown",
   "metadata": {},
   "source": [
    "Before we continue, let's change the \"date\" data into pandas's format and add the count number for each data."
   ]
  },
  {
   "cell_type": "code",
   "execution_count": 7,
   "metadata": {
    "collapsed": false
   },
   "outputs": [],
   "source": [
    "df['date']=pd.to_datetime(df['date'])"
   ]
  },
  {
   "cell_type": "code",
   "execution_count": 8,
   "metadata": {
    "collapsed": true
   },
   "outputs": [],
   "source": [
    "df['num']=1"
   ]
  },
  {
   "cell_type": "code",
   "execution_count": 9,
   "metadata": {
    "collapsed": false
   },
   "outputs": [
    {
     "data": {
      "text/html": [
       "<div>\n",
       "<table border=\"1\" class=\"dataframe\">\n",
       "  <thead>\n",
       "    <tr style=\"text-align: right;\">\n",
       "      <th></th>\n",
       "      <th>date</th>\n",
       "      <th>num</th>\n",
       "    </tr>\n",
       "    <tr>\n",
       "      <th>index</th>\n",
       "      <th></th>\n",
       "      <th></th>\n",
       "    </tr>\n",
       "  </thead>\n",
       "  <tbody>\n",
       "    <tr>\n",
       "      <th>5259</th>\n",
       "      <td>2015-09-06</td>\n",
       "      <td>1</td>\n",
       "    </tr>\n",
       "    <tr>\n",
       "      <th>5260</th>\n",
       "      <td>2015-09-06</td>\n",
       "      <td>1</td>\n",
       "    </tr>\n",
       "    <tr>\n",
       "      <th>5261</th>\n",
       "      <td>2015-09-06</td>\n",
       "      <td>1</td>\n",
       "    </tr>\n",
       "    <tr>\n",
       "      <th>5262</th>\n",
       "      <td>2015-09-06</td>\n",
       "      <td>1</td>\n",
       "    </tr>\n",
       "    <tr>\n",
       "      <th>5263</th>\n",
       "      <td>2015-09-06</td>\n",
       "      <td>1</td>\n",
       "    </tr>\n",
       "  </tbody>\n",
       "</table>\n",
       "</div>"
      ],
      "text/plain": [
       "            date  num\n",
       "index                \n",
       "5259  2015-09-06    1\n",
       "5260  2015-09-06    1\n",
       "5261  2015-09-06    1\n",
       "5262  2015-09-06    1\n",
       "5263  2015-09-06    1"
      ]
     },
     "execution_count": 9,
     "metadata": {},
     "output_type": "execute_result"
    }
   ],
   "source": [
    "cases=df[['date','num']]\n",
    "cases.tail()"
   ]
  },
  {
   "cell_type": "markdown",
   "metadata": {},
   "source": [
    "Sum up the numbers of cases in the same days:\n",
    "--"
   ]
  },
  {
   "cell_type": "code",
   "execution_count": 10,
   "metadata": {
    "collapsed": false
   },
   "outputs": [
    {
     "data": {
      "text/plain": [
       "date\n",
       "2015-01-06      1\n",
       "2015-01-19      1\n",
       "2015-05-21      1\n",
       "2015-05-24      1\n",
       "2015-06-04      1\n",
       "2015-06-11      1\n",
       "2015-06-14      1\n",
       "2015-06-18      1\n",
       "2015-06-21      1\n",
       "2015-06-22      1\n",
       "2015-06-23      1\n",
       "2015-06-24      1\n",
       "2015-06-26      2\n",
       "2015-06-29      1\n",
       "2015-07-01      2\n",
       "2015-07-03      2\n",
       "2015-07-04      2\n",
       "2015-07-05      3\n",
       "2015-07-06      1\n",
       "2015-07-07      2\n",
       "2015-07-08      1\n",
       "2015-07-10      1\n",
       "2015-07-11      3\n",
       "2015-07-12      5\n",
       "2015-07-13      4\n",
       "2015-07-14      3\n",
       "2015-07-15      3\n",
       "2015-07-16      6\n",
       "2015-07-17      6\n",
       "2015-07-18      4\n",
       "             ... \n",
       "2015-08-07     57\n",
       "2015-08-09     30\n",
       "2015-08-10     96\n",
       "2015-08-11     55\n",
       "2015-08-12     51\n",
       "2015-08-13     62\n",
       "2015-08-14     65\n",
       "2015-08-15     67\n",
       "2015-08-16     62\n",
       "2015-08-17     67\n",
       "2015-08-18    130\n",
       "2015-08-19    112\n",
       "2015-08-20    127\n",
       "2015-08-21    190\n",
       "2015-08-22    111\n",
       "2015-08-23    147\n",
       "2015-08-24    166\n",
       "2015-08-25    180\n",
       "2015-08-26    227\n",
       "2015-08-27    193\n",
       "2015-08-28    126\n",
       "2015-08-29    167\n",
       "2015-08-30    137\n",
       "2015-08-31    232\n",
       "2015-09-01    276\n",
       "2015-09-02    319\n",
       "2015-09-03    290\n",
       "2015-09-04    471\n",
       "2015-09-05    298\n",
       "2015-09-06    369\n",
       "dtype: int64"
      ]
     },
     "execution_count": 10,
     "metadata": {},
     "output_type": "execute_result"
    }
   ],
   "source": [
    "cases_group = cases.groupby('date')\n",
    "cases_group.size()"
   ]
  },
  {
   "cell_type": "code",
   "execution_count": 11,
   "metadata": {
    "collapsed": false
   },
   "outputs": [
    {
     "data": {
      "text/html": [
       "<div>\n",
       "<table border=\"1\" class=\"dataframe\">\n",
       "  <thead>\n",
       "    <tr style=\"text-align: right;\">\n",
       "      <th></th>\n",
       "      <th>num</th>\n",
       "    </tr>\n",
       "    <tr>\n",
       "      <th>date</th>\n",
       "      <th></th>\n",
       "    </tr>\n",
       "  </thead>\n",
       "  <tbody>\n",
       "    <tr>\n",
       "      <th>2015-09-02</th>\n",
       "      <td>319</td>\n",
       "    </tr>\n",
       "    <tr>\n",
       "      <th>2015-09-03</th>\n",
       "      <td>290</td>\n",
       "    </tr>\n",
       "    <tr>\n",
       "      <th>2015-09-04</th>\n",
       "      <td>471</td>\n",
       "    </tr>\n",
       "    <tr>\n",
       "      <th>2015-09-05</th>\n",
       "      <td>298</td>\n",
       "    </tr>\n",
       "    <tr>\n",
       "      <th>2015-09-06</th>\n",
       "      <td>369</td>\n",
       "    </tr>\n",
       "  </tbody>\n",
       "</table>\n",
       "</div>"
      ],
      "text/plain": [
       "            num\n",
       "date           \n",
       "2015-09-02  319\n",
       "2015-09-03  290\n",
       "2015-09-04  471\n",
       "2015-09-05  298\n",
       "2015-09-06  369"
      ]
     },
     "execution_count": 11,
     "metadata": {},
     "output_type": "execute_result"
    }
   ],
   "source": [
    "cases_totals = cases_group.sum()\n",
    "#cases_totals.sort(columns='num').head()\n",
    "cases_totals.tail()"
   ]
  },
  {
   "cell_type": "markdown",
   "metadata": {},
   "source": [
    "Make the first observation\n",
    "---"
   ]
  },
  {
   "cell_type": "code",
   "execution_count": 12,
   "metadata": {
    "collapsed": false
   },
   "outputs": [
    {
     "data": {
      "image/png": "[encoded data removed]",
      "text/plain": [
       "<matplotlib.figure.Figure at 0x108070940>"
      ]
     },
     "metadata": {},
     "output_type": "display_data"
    }
   ],
   "source": [
    "my_plot = cases_totals.plot(kind='bar')"
   ]
  },
  {
   "cell_type": "code",
   "execution_count": 13,
   "metadata": {
    "collapsed": false
   },
   "outputs": [
    {
     "data": {
      "image/png": "[encoded data removed]",
      "text/plain": [
       "<matplotlib.figure.Figure at 0x105ae5c18>"
      ]
     },
     "metadata": {},
     "output_type": "display_data"
    }
   ],
   "source": [
    "my_plot = cases_totals.plot(kind='area')"
   ]
  },
  {
   "cell_type": "code",
   "execution_count": 14,
   "metadata": {
    "collapsed": false
   },
   "outputs": [
    {
     "data": {
      "image/png": "[encoded data removed]",
      "text/plain": [
       "<matplotlib.figure.Figure at 0x1088ba2e8>"
      ]
     },
     "metadata": {},
     "output_type": "display_data"
    }
   ],
   "source": [
    "my_plot = cases_totals.plot()"
   ]
  },
  {
   "cell_type": "markdown",
   "metadata": {},
   "source": [
    "We have observed the serious condition we have to face; however, the situation of the dengue fever is still not discussed. Stay tune, we will come back later. (Done)"
   ]
  },
  {
   "cell_type": "code",
   "execution_count": 15,
   "metadata": {
    "collapsed": false
   },
   "outputs": [
    {
     "data": {
      "text/plain": [
       "num    5263\n",
       "dtype: int64"
      ]
     },
     "execution_count": 15,
     "metadata": {},
     "output_type": "execute_result"
    }
   ],
   "source": [
    "#cases_totals = cases_group.sum()\n",
    "#cases_totals.sort(columns='num').head()\n",
    "cases_accum=cases_totals.sum()\n",
    "cases_accum.tail()"
   ]
  },
  {
   "cell_type": "markdown",
   "metadata": {},
   "source": [
    "If we want to look at the data by month, we can easily resample and sum it all up. You’ll notice I’m using ‘M’ as the period for resampling which means the data should be resampled on a month boundary."
   ]
  },
  {
   "cell_type": "code",
   "execution_count": 16,
   "metadata": {
    "collapsed": false
   },
   "outputs": [
    {
     "data": {
      "text/html": [
       "<div>\n",
       "<table border=\"1\" class=\"dataframe\">\n",
       "  <thead>\n",
       "    <tr style=\"text-align: right;\">\n",
       "      <th></th>\n",
       "      <th>num</th>\n",
       "    </tr>\n",
       "    <tr>\n",
       "      <th>date</th>\n",
       "      <th></th>\n",
       "    </tr>\n",
       "  </thead>\n",
       "  <tbody>\n",
       "    <tr>\n",
       "      <th>2015-01-06</th>\n",
       "      <td>1</td>\n",
       "    </tr>\n",
       "    <tr>\n",
       "      <th>2015-01-19</th>\n",
       "      <td>1</td>\n",
       "    </tr>\n",
       "    <tr>\n",
       "      <th>2015-05-21</th>\n",
       "      <td>1</td>\n",
       "    </tr>\n",
       "    <tr>\n",
       "      <th>2015-05-24</th>\n",
       "      <td>1</td>\n",
       "    </tr>\n",
       "    <tr>\n",
       "      <th>2015-06-04</th>\n",
       "      <td>1</td>\n",
       "    </tr>\n",
       "  </tbody>\n",
       "</table>\n",
       "</div>"
      ],
      "text/plain": [
       "            num\n",
       "date           \n",
       "2015-01-06    1\n",
       "2015-01-19    1\n",
       "2015-05-21    1\n",
       "2015-05-24    1\n",
       "2015-06-04    1"
      ]
     },
     "execution_count": 16,
     "metadata": {},
     "output_type": "execute_result"
    }
   ],
   "source": [
    "cases_patterns = cases.set_index('date')\n",
    "cases_patterns.head()"
   ]
  },
  {
   "cell_type": "code",
   "execution_count": 17,
   "metadata": {
    "collapsed": false
   },
   "outputs": [
    {
     "data": {
      "text/html": [
       "<div>\n",
       "<table border=\"1\" class=\"dataframe\">\n",
       "  <thead>\n",
       "    <tr style=\"text-align: right;\">\n",
       "      <th></th>\n",
       "      <th>num</th>\n",
       "    </tr>\n",
       "    <tr>\n",
       "      <th>date</th>\n",
       "      <th></th>\n",
       "    </tr>\n",
       "  </thead>\n",
       "  <tbody>\n",
       "    <tr>\n",
       "      <th>2015-01-31</th>\n",
       "      <td>2</td>\n",
       "    </tr>\n",
       "    <tr>\n",
       "      <th>2015-02-28</th>\n",
       "      <td>NaN</td>\n",
       "    </tr>\n",
       "    <tr>\n",
       "      <th>2015-03-31</th>\n",
       "      <td>NaN</td>\n",
       "    </tr>\n",
       "    <tr>\n",
       "      <th>2015-04-30</th>\n",
       "      <td>NaN</td>\n",
       "    </tr>\n",
       "    <tr>\n",
       "      <th>2015-05-31</th>\n",
       "      <td>2</td>\n",
       "    </tr>\n",
       "    <tr>\n",
       "      <th>2015-06-30</th>\n",
       "      <td>11</td>\n",
       "    </tr>\n",
       "    <tr>\n",
       "      <th>2015-07-31</th>\n",
       "      <td>202</td>\n",
       "    </tr>\n",
       "    <tr>\n",
       "      <th>2015-08-31</th>\n",
       "      <td>3023</td>\n",
       "    </tr>\n",
       "    <tr>\n",
       "      <th>2015-09-30</th>\n",
       "      <td>2023</td>\n",
       "    </tr>\n",
       "  </tbody>\n",
       "</table>\n",
       "</div>"
      ],
      "text/plain": [
       "             num\n",
       "date            \n",
       "2015-01-31     2\n",
       "2015-02-28   NaN\n",
       "2015-03-31   NaN\n",
       "2015-04-30   NaN\n",
       "2015-05-31     2\n",
       "2015-06-30    11\n",
       "2015-07-31   202\n",
       "2015-08-31  3023\n",
       "2015-09-30  2023"
      ]
     },
     "execution_count": 17,
     "metadata": {},
     "output_type": "execute_result"
    }
   ],
   "source": [
    "cases_patterns.resample('M',how=sum)"
   ]
  },
  {
   "cell_type": "code",
   "execution_count": 18,
   "metadata": {
    "collapsed": false,
    "scrolled": true
   },
   "outputs": [
    {
     "data": {
      "image/png": "[encoded data removed]",
      "text/plain": [
       "<matplotlib.figure.Figure at 0x1086a31d0>"
      ]
     },
     "metadata": {},
     "output_type": "display_data"
    }
   ],
   "source": [
    "cases_plot = cases_patterns.resample('M',how=sum).plot(title=\"Dengue Outbreak In Tainan\",legend=None)\n"
   ]
  },
  {
   "cell_type": "markdown",
   "metadata": {},
   "source": [
    "As we have known: it is \"outbreak\", i.e. not enough data to motivate the situation. Resample the data in \"week\" to observate again"
   ]
  },
  {
   "cell_type": "code",
   "execution_count": 19,
   "metadata": {
    "collapsed": false,
    "scrolled": true
   },
   "outputs": [
    {
     "data": {
      "image/png": "[encoded data removed]",
      "text/plain": [
       "<matplotlib.figure.Figure at 0x108e2e518>"
      ]
     },
     "metadata": {},
     "output_type": "display_data"
    }
   ],
   "source": [
    "import numpy as np\n",
    "cases_plot = (cases_patterns.resample('w',how=sum)).plot(title=\"Dengue Outbreak In Tainan\",legend=None)"
   ]
  },
  {
   "cell_type": "markdown",
   "metadata": {},
   "source": [
    "Question\n",
    "---\n",
    "Why is it called \"outbreak\"?"
   ]
  },
  {
   "cell_type": "code",
   "execution_count": 20,
   "metadata": {
    "collapsed": false,
    "scrolled": true
   },
   "outputs": [
    {
     "data": {
      "image/png": "[encoded data removed]",
      "text/plain": [
       "<matplotlib.figure.Figure at 0x108e2e358>"
      ]
     },
     "metadata": {},
     "output_type": "display_data"
    }
   ],
   "source": [
    "import numpy as np\n",
    "cases_plot = np.log10(cases_patterns.resample('w',how=sum)).plot(title=\"Dengue Outbreak In Tainan\",legend=None)"
   ]
  },
  {
   "cell_type": "markdown",
   "metadata": {},
   "source": [
    "The data looks like a straight line if we plot it with the data scaled by $\\log_{10}(\\bullet)$!\n",
    "\n",
    "Let us take some predictions by simple least square scheme."
   ]
  },
  {
   "cell_type": "code",
   "execution_count": 21,
   "metadata": {
    "collapsed": false
   },
   "outputs": [
    {
     "name": "stdout",
     "output_type": "stream",
     "text": [
      "<class 'pandas.core.frame.DataFrame'>\n",
      "DatetimeIndex: 35 entries, 2015-01-11 to 2015-09-06\n",
      "Freq: W-SUN\n",
      "Data columns (total 1 columns):\n",
      "num    17 non-null float64\n",
      "dtypes: float64(1)\n",
      "memory usage: 560.0 bytes\n"
     ]
    }
   ],
   "source": [
    "df3=np.log10(cases_patterns.resample('w',how=sum))\n",
    "df3.info()"
   ]
  },
  {
   "cell_type": "code",
   "execution_count": 22,
   "metadata": {
    "collapsed": false
   },
   "outputs": [],
   "source": [
    "df3['ind']=np.arange(1,len(df3)+1)\n"
   ]
  },
  {
   "cell_type": "code",
   "execution_count": 23,
   "metadata": {
    "collapsed": false
   },
   "outputs": [
    {
     "data": {
      "text/plain": [
       "<seaborn.axisgrid.FacetGrid at 0x10b2fae48>"
      ]
     },
     "execution_count": 23,
     "metadata": {},
     "output_type": "execute_result"
    },
    {
     "data": {
      "image/png": "[encoded data removed]",
      "text/plain": [
       "<matplotlib.figure.Figure at 0x1068bbbe0>"
      ]
     },
     "metadata": {},
     "output_type": "display_data"
    }
   ],
   "source": [
    "import seaborn as sns\n",
    "sns.lmplot('ind','num', df3)"
   ]
  },
  {
   "cell_type": "code",
   "execution_count": 24,
   "metadata": {
    "collapsed": false
   },
   "outputs": [
    {
     "data": {
      "text/plain": [
       "\n",
       "-------------------------Summary of Regression Analysis-------------------------\n",
       "\n",
       "Formula: Y ~ <x> + <intercept>\n",
       "\n",
       "Number of Observations:         17\n",
       "Number of Degrees of Freedom:   2\n",
       "\n",
       "R-squared:         0.6178\n",
       "Adj R-squared:     0.5923\n",
       "\n",
       "Rmse:              0.7549\n",
       "\n",
       "F-stat (1, 15):    24.2422, p-value:     0.0002\n",
       "\n",
       "Degrees of Freedom: model 1, resid 15\n",
       "\n",
       "-----------------------Summary of Estimated Coefficients------------------------\n",
       "      Variable       Coef    Std Err     t-stat    p-value    CI 2.5%   CI 97.5%\n",
       "--------------------------------------------------------------------------------\n",
       "             x     0.0965     0.0196       4.92     0.0002     0.0581     0.1349\n",
       "     intercept    -1.0195     0.5209      -1.96     0.0692    -2.0404     0.0015\n",
       "---------------------------------End of Summary---------------------------------"
      ]
     },
     "execution_count": 24,
     "metadata": {},
     "output_type": "execute_result"
    }
   ],
   "source": [
    "from pandas.stats.api import ols\n",
    "ols(y=df3['num'],x=df3['ind'])"
   ]
  },
  {
   "cell_type": "markdown",
   "metadata": {},
   "source": [
    "The fitting is very worse cause of the former data. Let us remove these data and re-do the fitting."
   ]
  },
  {
   "cell_type": "code",
   "execution_count": 25,
   "metadata": {
    "collapsed": false
   },
   "outputs": [
    {
     "data": {
      "text/html": [
       "<div>\n",
       "<table border=\"1\" class=\"dataframe\">\n",
       "  <thead>\n",
       "    <tr style=\"text-align: right;\">\n",
       "      <th></th>\n",
       "      <th>num</th>\n",
       "      <th>ind</th>\n",
       "    </tr>\n",
       "    <tr>\n",
       "      <th>date</th>\n",
       "      <th></th>\n",
       "      <th></th>\n",
       "    </tr>\n",
       "  </thead>\n",
       "  <tbody>\n",
       "    <tr>\n",
       "      <th>2015-01-11</th>\n",
       "      <td>0.000000</td>\n",
       "      <td>1</td>\n",
       "    </tr>\n",
       "    <tr>\n",
       "      <th>2015-01-18</th>\n",
       "      <td>NaN</td>\n",
       "      <td>2</td>\n",
       "    </tr>\n",
       "    <tr>\n",
       "      <th>2015-01-25</th>\n",
       "      <td>0.000000</td>\n",
       "      <td>3</td>\n",
       "    </tr>\n",
       "    <tr>\n",
       "      <th>2015-02-01</th>\n",
       "      <td>NaN</td>\n",
       "      <td>4</td>\n",
       "    </tr>\n",
       "    <tr>\n",
       "      <th>2015-02-08</th>\n",
       "      <td>NaN</td>\n",
       "      <td>5</td>\n",
       "    </tr>\n",
       "    <tr>\n",
       "      <th>2015-02-15</th>\n",
       "      <td>NaN</td>\n",
       "      <td>6</td>\n",
       "    </tr>\n",
       "    <tr>\n",
       "      <th>2015-02-22</th>\n",
       "      <td>NaN</td>\n",
       "      <td>7</td>\n",
       "    </tr>\n",
       "    <tr>\n",
       "      <th>2015-03-01</th>\n",
       "      <td>NaN</td>\n",
       "      <td>8</td>\n",
       "    </tr>\n",
       "    <tr>\n",
       "      <th>2015-03-08</th>\n",
       "      <td>NaN</td>\n",
       "      <td>9</td>\n",
       "    </tr>\n",
       "    <tr>\n",
       "      <th>2015-03-15</th>\n",
       "      <td>NaN</td>\n",
       "      <td>10</td>\n",
       "    </tr>\n",
       "    <tr>\n",
       "      <th>2015-03-22</th>\n",
       "      <td>NaN</td>\n",
       "      <td>11</td>\n",
       "    </tr>\n",
       "    <tr>\n",
       "      <th>2015-03-29</th>\n",
       "      <td>NaN</td>\n",
       "      <td>12</td>\n",
       "    </tr>\n",
       "    <tr>\n",
       "      <th>2015-04-05</th>\n",
       "      <td>NaN</td>\n",
       "      <td>13</td>\n",
       "    </tr>\n",
       "    <tr>\n",
       "      <th>2015-04-12</th>\n",
       "      <td>NaN</td>\n",
       "      <td>14</td>\n",
       "    </tr>\n",
       "    <tr>\n",
       "      <th>2015-04-19</th>\n",
       "      <td>NaN</td>\n",
       "      <td>15</td>\n",
       "    </tr>\n",
       "    <tr>\n",
       "      <th>2015-04-26</th>\n",
       "      <td>NaN</td>\n",
       "      <td>16</td>\n",
       "    </tr>\n",
       "    <tr>\n",
       "      <th>2015-05-03</th>\n",
       "      <td>NaN</td>\n",
       "      <td>17</td>\n",
       "    </tr>\n",
       "    <tr>\n",
       "      <th>2015-05-10</th>\n",
       "      <td>NaN</td>\n",
       "      <td>18</td>\n",
       "    </tr>\n",
       "    <tr>\n",
       "      <th>2015-05-17</th>\n",
       "      <td>NaN</td>\n",
       "      <td>19</td>\n",
       "    </tr>\n",
       "    <tr>\n",
       "      <th>2015-05-24</th>\n",
       "      <td>0.301030</td>\n",
       "      <td>20</td>\n",
       "    </tr>\n",
       "    <tr>\n",
       "      <th>2015-05-31</th>\n",
       "      <td>NaN</td>\n",
       "      <td>21</td>\n",
       "    </tr>\n",
       "    <tr>\n",
       "      <th>2015-06-07</th>\n",
       "      <td>0.000000</td>\n",
       "      <td>22</td>\n",
       "    </tr>\n",
       "    <tr>\n",
       "      <th>2015-06-14</th>\n",
       "      <td>0.301030</td>\n",
       "      <td>23</td>\n",
       "    </tr>\n",
       "    <tr>\n",
       "      <th>2015-06-21</th>\n",
       "      <td>0.301030</td>\n",
       "      <td>24</td>\n",
       "    </tr>\n",
       "    <tr>\n",
       "      <th>2015-06-28</th>\n",
       "      <td>0.698970</td>\n",
       "      <td>25</td>\n",
       "    </tr>\n",
       "    <tr>\n",
       "      <th>2015-07-05</th>\n",
       "      <td>1.000000</td>\n",
       "      <td>26</td>\n",
       "    </tr>\n",
       "    <tr>\n",
       "      <th>2015-07-12</th>\n",
       "      <td>1.113943</td>\n",
       "      <td>27</td>\n",
       "    </tr>\n",
       "    <tr>\n",
       "      <th>2015-07-19</th>\n",
       "      <td>1.477121</td>\n",
       "      <td>28</td>\n",
       "    </tr>\n",
       "    <tr>\n",
       "      <th>2015-07-26</th>\n",
       "      <td>1.880814</td>\n",
       "      <td>29</td>\n",
       "    </tr>\n",
       "    <tr>\n",
       "      <th>2015-08-02</th>\n",
       "      <td>2.033424</td>\n",
       "      <td>30</td>\n",
       "    </tr>\n",
       "    <tr>\n",
       "      <th>2015-08-09</th>\n",
       "      <td>2.340444</td>\n",
       "      <td>31</td>\n",
       "    </tr>\n",
       "    <tr>\n",
       "      <th>2015-08-16</th>\n",
       "      <td>2.660865</td>\n",
       "      <td>32</td>\n",
       "    </tr>\n",
       "    <tr>\n",
       "      <th>2015-08-23</th>\n",
       "      <td>2.946452</td>\n",
       "      <td>33</td>\n",
       "    </tr>\n",
       "    <tr>\n",
       "      <th>2015-08-30</th>\n",
       "      <td>3.077731</td>\n",
       "      <td>34</td>\n",
       "    </tr>\n",
       "    <tr>\n",
       "      <th>2015-09-06</th>\n",
       "      <td>3.353147</td>\n",
       "      <td>35</td>\n",
       "    </tr>\n",
       "  </tbody>\n",
       "</table>\n",
       "</div>"
      ],
      "text/plain": [
       "                 num  ind\n",
       "date                     \n",
       "2015-01-11  0.000000    1\n",
       "2015-01-18       NaN    2\n",
       "2015-01-25  0.000000    3\n",
       "2015-02-01       NaN    4\n",
       "2015-02-08       NaN    5\n",
       "2015-02-15       NaN    6\n",
       "2015-02-22       NaN    7\n",
       "2015-03-01       NaN    8\n",
       "2015-03-08       NaN    9\n",
       "2015-03-15       NaN   10\n",
       "2015-03-22       NaN   11\n",
       "2015-03-29       NaN   12\n",
       "2015-04-05       NaN   13\n",
       "2015-04-12       NaN   14\n",
       "2015-04-19       NaN   15\n",
       "2015-04-26       NaN   16\n",
       "2015-05-03       NaN   17\n",
       "2015-05-10       NaN   18\n",
       "2015-05-17       NaN   19\n",
       "2015-05-24  0.301030   20\n",
       "2015-05-31       NaN   21\n",
       "2015-06-07  0.000000   22\n",
       "2015-06-14  0.301030   23\n",
       "2015-06-21  0.301030   24\n",
       "2015-06-28  0.698970   25\n",
       "2015-07-05  1.000000   26\n",
       "2015-07-12  1.113943   27\n",
       "2015-07-19  1.477121   28\n",
       "2015-07-26  1.880814   29\n",
       "2015-08-02  2.033424   30\n",
       "2015-08-09  2.340444   31\n",
       "2015-08-16  2.660865   32\n",
       "2015-08-23  2.946452   33\n",
       "2015-08-30  3.077731   34\n",
       "2015-09-06  3.353147   35"
      ]
     },
     "execution_count": 25,
     "metadata": {},
     "output_type": "execute_result"
    }
   ],
   "source": [
    "df3"
   ]
  },
  {
   "cell_type": "markdown",
   "metadata": {},
   "source": [
    "Observe the data from 22nd element."
   ]
  },
  {
   "cell_type": "code",
   "execution_count": 26,
   "metadata": {
    "collapsed": false
   },
   "outputs": [
    {
     "data": {
      "text/plain": [
       "<seaborn.axisgrid.FacetGrid at 0x10b338f60>"
      ]
     },
     "execution_count": 26,
     "metadata": {},
     "output_type": "execute_result"
    },
    {
     "data": {
      "image/png": "[encoded data removed]",
      "text/plain": [
       "<matplotlib.figure.Figure at 0x10b340c18>"
      ]
     },
     "metadata": {},
     "output_type": "display_data"
    }
   ],
   "source": [
    "df4=df3[21:]\n",
    "sns.lmplot('ind','num', df4)"
   ]
  },
  {
   "cell_type": "markdown",
   "metadata": {},
   "source": [
    "See, the result is pretty good!"
   ]
  },
  {
   "cell_type": "code",
   "execution_count": 27,
   "metadata": {
    "collapsed": false
   },
   "outputs": [
    {
     "name": "stderr",
     "output_type": "stream",
     "text": [
      "/Users/chu-chinghuang/anaconda/lib/python3.4/site-packages/scipy/stats/stats.py:1277: UserWarning: kurtosistest only valid for n>=20 ... continuing anyway, n=14\n",
      "  \"anyway, n=%i\" % int(n))\n"
     ]
    },
    {
     "data": {
      "text/html": [
       "<table class=\"simpletable\">\n",
       "<caption>OLS Regression Results</caption>\n",
       "<tr>\n",
       "  <th>Dep. Variable:</th>            <td>y</td>        <th>  R-squared:         </th> <td>   0.820</td>\n",
       "</tr>\n",
       "<tr>\n",
       "  <th>Model:</th>                   <td>OLS</td>       <th>  Adj. R-squared:    </th> <td>   0.806</td>\n",
       "</tr>\n",
       "<tr>\n",
       "  <th>Method:</th>             <td>Least Squares</td>  <th>  F-statistic:       </th> <td>   59.33</td>\n",
       "</tr>\n",
       "<tr>\n",
       "  <th>Date:</th>             <td>Mon, 14 Sep 2015</td> <th>  Prob (F-statistic):</th> <td>3.38e-06</td>\n",
       "</tr>\n",
       "<tr>\n",
       "  <th>Time:</th>                 <td>08:13:44</td>     <th>  Log-Likelihood:    </th> <td> -54.889</td>\n",
       "</tr>\n",
       "<tr>\n",
       "  <th>No. Observations:</th>      <td>    14</td>      <th>  AIC:               </th> <td>   111.8</td>\n",
       "</tr>\n",
       "<tr>\n",
       "  <th>Df Residuals:</th>          <td>    13</td>      <th>  BIC:               </th> <td>   112.4</td>\n",
       "</tr>\n",
       "<tr>\n",
       "  <th>Df Model:</th>              <td>     1</td>      <th>                     </th>     <td> </td>   \n",
       "</tr>\n",
       "<tr>\n",
       "  <th>Covariance Type:</th>      <td>nonrobust</td>    <th>                     </th>     <td> </td>   \n",
       "</tr>\n",
       "</table>\n",
       "<table class=\"simpletable\">\n",
       "<tr>\n",
       "   <td></td>     <th>coef</th>     <th>std err</th>      <th>t</th>      <th>P>|t|</th> <th>[95.0% Conf. Int.]</th> \n",
       "</tr>\n",
       "<tr>\n",
       "  <th>x1</th> <td>   13.1860</td> <td>    1.712</td> <td>    7.703</td> <td> 0.000</td> <td>    9.488    16.884</td>\n",
       "</tr>\n",
       "</table>\n",
       "<table class=\"simpletable\">\n",
       "<tr>\n",
       "  <th>Omnibus:</th>       <td> 2.953</td> <th>  Durbin-Watson:     </th> <td>   0.051</td>\n",
       "</tr>\n",
       "<tr>\n",
       "  <th>Prob(Omnibus):</th> <td> 0.228</td> <th>  Jarque-Bera (JB):  </th> <td>   1.090</td>\n",
       "</tr>\n",
       "<tr>\n",
       "  <th>Skew:</th>          <td>-0.032</td> <th>  Prob(JB):          </th> <td>   0.580</td>\n",
       "</tr>\n",
       "<tr>\n",
       "  <th>Kurtosis:</th>      <td> 1.634</td> <th>  Cond. No.          </th> <td>    1.00</td>\n",
       "</tr>\n",
       "</table>"
      ],
      "text/plain": [
       "<class 'statsmodels.iolib.summary.Summary'>\n",
       "\"\"\"\n",
       "                            OLS Regression Results                            \n",
       "==============================================================================\n",
       "Dep. Variable:                      y   R-squared:                       0.820\n",
       "Model:                            OLS   Adj. R-squared:                  0.806\n",
       "Method:                 Least Squares   F-statistic:                     59.33\n",
       "Date:                Mon, 14 Sep 2015   Prob (F-statistic):           3.38e-06\n",
       "Time:                        08:13:44   Log-Likelihood:                -54.889\n",
       "No. Observations:                  14   AIC:                             111.8\n",
       "Df Residuals:                      13   BIC:                             112.4\n",
       "Df Model:                           1                                         \n",
       "Covariance Type:            nonrobust                                         \n",
       "==============================================================================\n",
       "                 coef    std err          t      P>|t|      [95.0% Conf. Int.]\n",
       "------------------------------------------------------------------------------\n",
       "x1            13.1860      1.712      7.703      0.000         9.488    16.884\n",
       "==============================================================================\n",
       "Omnibus:                        2.953   Durbin-Watson:                   0.051\n",
       "Prob(Omnibus):                  0.228   Jarque-Bera (JB):                1.090\n",
       "Skew:                          -0.032   Prob(JB):                        0.580\n",
       "Kurtosis:                       1.634   Cond. No.                         1.00\n",
       "==============================================================================\n",
       "\n",
       "Warnings:\n",
       "[1] Standard Errors assume that the covariance matrix of the errors is correctly specified.\n",
       "\"\"\""
      ]
     },
     "execution_count": 27,
     "metadata": {},
     "output_type": "execute_result"
    }
   ],
   "source": [
    "import statsmodels.formula.api as sm\n",
    "\n",
    "ols = sm.OLS(df4['ind'].values, df4['num'].values)\n",
    "ols.fit().summary()"
   ]
  },
  {
   "cell_type": "code",
   "execution_count": 28,
   "metadata": {
    "collapsed": false
   },
   "outputs": [
    {
     "data": {
      "text/plain": [
       "<matplotlib.legend.Legend at 0x10c647f98>"
      ]
     },
     "execution_count": 28,
     "metadata": {},
     "output_type": "execute_result"
    },
    {
     "data": {
      "image/png": "[encoded data removed]",
      "text/plain": [
       "<matplotlib.figure.Figure at 0x10b55df98>"
      ]
     },
     "metadata": {},
     "output_type": "display_data"
    }
   ],
   "source": [
    "#df['log total deaths'] = log10(df['total deaths'].values)\n",
    "import matplotlib.pyplot as plt\n",
    "x=df4['ind']\n",
    "ydata=df4['num']\n",
    "a0,b0 = np.polyfit(x,ydata,1)\n",
    "yfit = a0 * x + b0 \n",
    "plt.scatter(x,ydata,label='data')\n",
    "plt.plot(x,yfit,'r--',label='fit')\n",
    "plt.title('%.4f  $x$ %.4f' % (a0,b0) , size=20 )\n",
    "plt.xlim([0,50])\n",
    "plt.legend(loc='upper left')"
   ]
  },
  {
   "cell_type": "markdown",
   "metadata": {},
   "source": [
    "Final prediction\n",
    "---\n",
    "\n",
    "\\begin{eqnarray}\n",
    "\\log_{10}y_{\\text pred}&=&0.2671 x-5.9569 \\\\\n",
    "y_{\\text pred}&=& 10^{0.2671 x-5.9569}\\\\\n",
    "              &=& 1.104\\times10^{-6}\\cdot 10^{0.2671x}\n",
    "\\end{eqnarray}\n",
    " \n"
   ]
  },
  {
   "cell_type": "code",
   "execution_count": 36,
   "metadata": {
    "collapsed": false
   },
   "outputs": [
    {
     "data": {
      "text/plain": [
       "1.1043328726700492e-06"
      ]
     },
     "execution_count": 36,
     "metadata": {},
     "output_type": "execute_result"
    }
   ],
   "source": [
    "10**(-5.9569)"
   ]
  },
  {
   "cell_type": "code",
   "execution_count": 29,
   "metadata": {
    "collapsed": false
   },
   "outputs": [
    {
     "data": {
      "image/png": "[encoded data removed]",
      "text/plain": [
       "<matplotlib.figure.Figure at 0x10cd817b8>"
      ]
     },
     "metadata": {},
     "output_type": "display_data"
    }
   ],
   "source": [
    "cases_plot = (cases_patterns.resample('w',how=sum)).plot(title=\"Dengue Outbreak In Tainan\",legend=None)"
   ]
  },
  {
   "cell_type": "code",
   "execution_count": 30,
   "metadata": {
    "collapsed": false
   },
   "outputs": [],
   "source": [
    "df3['cases']=10**((df3['ind'])*0.2671-5.969)\n"
   ]
  },
  {
   "cell_type": "code",
   "execution_count": 31,
   "metadata": {
    "collapsed": false
   },
   "outputs": [
    {
     "data": {
      "text/plain": [
       "<matplotlib.axes._subplots.AxesSubplot at 0x10d9b0b70>"
      ]
     },
     "execution_count": 31,
     "metadata": {},
     "output_type": "execute_result"
    },
    {
     "data": {
      "image/png": "[encoded data removed]",
      "text/plain": [
       "<matplotlib.figure.Figure at 0x10cd819b0>"
      ]
     },
     "metadata": {},
     "output_type": "display_data"
    },
    {
     "data": {
      "image/png": "[encoded data removed]",
      "text/plain": [
       "<matplotlib.figure.Figure at 0x10d9aa7b8>"
      ]
     },
     "metadata": {},
     "output_type": "display_data"
    }
   ],
   "source": [
    " (cases_patterns.resample('w',how=sum)).plot(title=\"Dengue Outbreak In Tainan\",legend=None)\n",
    "df3.plot(y='cases',color='red',style='--')"
   ]
  },
  {
   "cell_type": "code",
   "execution_count": 33,
   "metadata": {
    "collapsed": false
   },
   "outputs": [
    {
     "data": {
      "text/plain": [
       "[<matplotlib.lines.Line2D at 0x10dd7aba8>,\n",
       " <matplotlib.lines.Line2D at 0x10de5c400>]"
      ]
     },
     "execution_count": 33,
     "metadata": {},
     "output_type": "execute_result"
    },
    {
     "data": {
      "image/png": "[encoded data removed]",
      "text/plain": [
       "<matplotlib.figure.Figure at 0x10dadb6d8>"
      ]
     },
     "metadata": {},
     "output_type": "display_data"
    }
   ],
   "source": [
    "plt.plot(df3.index,cases_patterns.resample('w',how=sum),df3.index,df3['cases'],'r--')"
   ]
  },
  {
   "cell_type": "markdown",
   "metadata": {},
   "source": [
    "Question\n",
    "---\n",
    "- How about the change of numbers of infected in the next future?\n",
    "- Predict how many infected cases during the forcoming December would be."
   ]
  },
  {
   "cell_type": "markdown",
   "metadata": {
    "collapsed": true
   },
   "source": [
    "Courage\n",
    "---\n",
    "Show me the dangerous courage that dengue has occupied"
   ]
  },
  {
   "cell_type": "code",
   "execution_count": 33,
   "metadata": {
    "collapsed": false
   },
   "outputs": [],
   "source": [
    "from numpy import genfromtxt\n",
    "data_file = genfromtxt('data/0908.csv', delimiter=',')\n",
    "\n",
    "date=data_file[1:,1]\n",
    "lats=data_file[1:,5]\n",
    "lons=data_file[1:,6]"
   ]
  },
  {
   "cell_type": "code",
   "execution_count": 25,
   "metadata": {
    "collapsed": false
   },
   "outputs": [
    {
     "data": {
      "text/plain": [
       "(array([ 22.987,  22.979,  22.997,  22.997,  23.005]),\n",
       " array([ 120.234,  120.197,  120.198,  120.198,  120.209]))"
      ]
     },
     "execution_count": 25,
     "metadata": {},
     "output_type": "execute_result"
    }
   ],
   "source": [
    "lats[:5],lons[:5]"
   ]
  },
  {
   "cell_type": "code",
   "execution_count": 26,
   "metadata": {
    "collapsed": false
   },
   "outputs": [
    {
     "data": {
      "text/plain": [
       "(array([ 22.987,  22.979,  22.997,  22.997,  23.005]),\n",
       " array([ 120.234,  120.197,  120.198,  120.198,  120.209]))"
      ]
     },
     "execution_count": 26,
     "metadata": {},
     "output_type": "execute_result"
    }
   ],
   "source": [
    "lats[:5],lons[:5]"
   ]
  },
  {
   "cell_type": "code",
   "execution_count": 27,
   "metadata": {
    "collapsed": false
   },
   "outputs": [
    {
     "data": {
      "text/plain": [
       "[<matplotlib.lines.Line2D at 0x10a9b5910>]"
      ]
     },
     "execution_count": 27,
     "metadata": {},
     "output_type": "execute_result"
    },
    {
     "data": {
      "image/png": "[encoded data removed]",
      "text/plain": [
       "<matplotlib.figure.Figure at 0x1091f9d10>"
      ]
     },
     "metadata": {},
     "output_type": "display_data"
    }
   ],
   "source": [
    "from mpl_toolkits.basemap import Basemap\n",
    "import matplotlib.pyplot as plt\n",
    "import numpy as np\n",
    " \n",
    "map = Basemap(projection='robin', resolution = 'l', area_thresh = 1000.0,\n",
    "              lat_0=0, lon_0=-130)\n",
    "map.drawcoastlines()\n",
    "map.drawcountries()\n",
    "map.fillcontinents(color = 'gray')\n",
    "map.drawmapboundary()\n",
    "map.drawmeridians(np.arange(0, 360, 30))\n",
    "map.drawparallels(np.arange(-90, 90, 30))\n",
    " \n",
    "x,y = map(lons, lats)\n",
    "map.plot(x, y, 'ro', markersize=6)"
   ]
  },
  {
   "cell_type": "code",
   "execution_count": 32,
   "metadata": {
    "collapsed": false
   },
   "outputs": [
    {
     "data": {
      "image/png": "[encoded data removed]",
      "text/plain": [
       "<matplotlib.figure.Figure at 0x106fe3bd0>"
      ]
     },
     "metadata": {},
     "output_type": "display_data"
    }
   ],
   "source": [
    "from mpl_toolkits.basemap import Basemap\n",
    "import matplotlib.pyplot as plt\n",
    "import numpy as np\n",
    "fig = plt.figure(figsize=(8,8)) \n",
    "map = Basemap(projection='mill' , \n",
    "                              resolution='i' ,\n",
    "                              llcrnrlon=119.0 , llcrnrlat=21.8,\n",
    "                              urcrnrlon=122.05 , urcrnrlat=25.4,\n",
    "                              lat_ts =20)\n",
    "map.drawcoastlines()\n",
    "map.drawmapboundary()\n",
    "\n",
    "map.scatter(lons, lats, latlon=True,\n",
    "          s=2, marker='o',  color=\"steelblue\", alpha=0.8); "
   ]
  },
  {
   "cell_type": "code",
   "execution_count": 28,
   "metadata": {
    "collapsed": false
   },
   "outputs": [
    {
     "data": {
      "image/png": "[encoded data removed]",
      "text/plain": [
       "<matplotlib.figure.Figure at 0x108f74b10>"
      ]
     },
     "metadata": {},
     "output_type": "display_data"
    }
   ],
   "source": [
    "from mpl_toolkits.basemap import Basemap\n",
    "import matplotlib.pyplot as plt\n",
    "import numpy as np\n",
    "fig = plt.figure(figsize=(8,8)) \n",
    "map = Basemap(projection='mill' , \n",
    "                              resolution='i' ,\n",
    "                              llcrnrlon=120.0 , llcrnrlat=22.7,\n",
    "                              urcrnrlon=120.8 , urcrnrlat=23.8,\n",
    "                              lat_ts =20)\n",
    "map.drawcoastlines()\n",
    "\n",
    "map.drawmapboundary()\n",
    "\n",
    "map.scatter(lons, lats, latlon=True,\n",
    "          s=3, marker='o',  color=\"steelblue\", alpha=0.8); "
   ]
  },
  {
   "cell_type": "code",
   "execution_count": 4,
   "metadata": {
    "collapsed": true
   },
   "outputs": [],
   "source": [
    "from JSAnimation.IPython_display import display_animation\n",
    "import matplotlib.pyplot as plt\n",
    "from matplotlib import animation"
   ]
  },
  {
   "cell_type": "code",
   "execution_count": 29,
   "metadata": {
    "collapsed": false
   },
   "outputs": [
    {
     "data": {
      "text/plain": [
       "<matplotlib.patches.Rectangle at 0x10ab2a210>"
      ]
     },
     "execution_count": 29,
     "metadata": {},
     "output_type": "execute_result"
    },
    {
     "data": {
      "image/png": "[encoded data removed]",
      "text/plain": [
       "<matplotlib.figure.Figure at 0x108fd0fd0>"
      ]
     },
     "metadata": {},
     "output_type": "display_data"
    }
   ],
   "source": [
    "fig = plt.figure(figsize=(8,8)) \n",
    "map = Basemap(projection='mill' , \n",
    "                              resolution='i' ,\n",
    "                              llcrnrlon=120.0 , llcrnrlat=22.7,\n",
    "                              urcrnrlon=120.8 , urcrnrlat=23.8,\n",
    "                              lat_ts =20)\n",
    "map.drawcoastlines()\n",
    "\n",
    "map.drawmapboundary()"
   ]
  },
  {
   "cell_type": "code",
   "execution_count": 26,
   "metadata": {
    "collapsed": false
   },
   "outputs": [
    {
     "data": {
      "text/plain": [
       "(5262, 5262)"
      ]
     },
     "execution_count": 26,
     "metadata": {},
     "output_type": "execute_result"
    }
   ],
   "source": [
    "len(np.isnan(lats[:-1])),len((lons[:-1]))"
   ]
  },
  {
   "cell_type": "code",
   "execution_count": 30,
   "metadata": {
    "collapsed": true
   },
   "outputs": [],
   "source": [
    "Nframes = len(lons)\n",
    "\n",
    "def animate(nf):\n",
    "    m=map.scatter(lons[:nf+3], lats[:nf+3], latlon=True,s=3, marker='o',  color=\"steelblue\", alpha=0.8); \n",
    "    return m"
   ]
  },
  {
   "cell_type": "code",
   "execution_count": null,
   "metadata": {
    "collapsed": false
   },
   "outputs": [],
   "source": [
    "anim = animation.FuncAnimation(fig, animate, frames=Nframes-3, interval=100)\n",
    "display_animation(anim, default_mode='once')"
   ]
  },
  {
   "cell_type": "code",
   "execution_count": 37,
   "metadata": {
    "collapsed": false
   },
   "outputs": [
    {
     "data": {
      "image/png": "[encoded data removed]",
      "text/plain": [
       "<matplotlib.figure.Figure at 0x10915df90>"
      ]
     },
     "metadata": {},
     "output_type": "display_data"
    }
   ],
   "source": [
    "fig = plt.figure(figsize=(8,8)) \n",
    "map = Basemap(projection='mill' , \n",
    "                              resolution='i' ,\n",
    "                              llcrnrlon=120.0 , llcrnrlat=22.7,\n",
    "                              urcrnrlon=120.8 , urcrnrlat=23.8,\n",
    "                              lat_ts =20)\n",
    "map.drawcoastlines()\n",
    "\n",
    "map.drawmapboundary()\n",
    "\n",
    "for i in np.arange(len(lons)/10-1):\n",
    "    map.scatter(lons[:3+10*i], lats[:3+i*10], latlon=True,\n",
    "          s=3, marker='o',  color=\"steelblue\", alpha=0.8); \n",
    "    plt.savefig(\"mapdata/base%05d.png\" %i, dpi=75)"
   ]
  },
  {
   "cell_type": "code",
   "execution_count": null,
   "metadata": {
    "collapsed": false
   },
   "outputs": [],
   "source": []
  },
  {
   "cell_type": "code",
   "execution_count": 38,
   "metadata": {
    "collapsed": true
   },
   "outputs": [],
   "source": [
    "def html_movie(plotfiles, interval_ms=300, width=800, height=600,casename='movie'):\n",
    "    import os\n",
    "    if not isinstance(plotfiles, (tuple,list)):\n",
    "        raise TypeError('html_movie: plotfiles=%s of wrong type %s' %\n",
    "                        (str(plotfiles), type(plotfiles)))\n",
    "    # Check that the plot files really exist\n",
    "    missing_files = [fname for fname in plotfiles if not os.path.isfile(fname)]\n",
    "    if missing_files:\n",
    "        raise ValueError('Missing plot files: %s' % str(missing_files)[1:-1])\n",
    "\n",
    "    ext = os.path.splitext(plotfiles[0])[-1]\n",
    "    if ext == '.png' or ext == '.jpg' or ext == '.jpeg' or ext == 'gif':\n",
    "        pass\n",
    "    else:\n",
    "        raise ValueError('Plotfiles (%s, ...) must be PNG files with '\\\n",
    "                         'extension .png' % plotfiles[0])\n",
    "        \n",
    "    header = \"\"\"\\\n",
    "<html>\n",
    "<head>\n",
    "    <meta charset=\"utf-8\" />\n",
    "    <meta name=\"viewport\" content=\"width=device-width\" />\n",
    "</head>\n",
    "<style type=\"text/css\">\n",
    "    body { \n",
    "       margin: 10; \n",
    "       padding: 10\n",
    "     }\n",
    "    input{\n",
    "       font-family:  Georgia, serif;\n",
    "       font-size: 1em; /* 20px / 10px */\n",
    "       color: #000 ;\n",
    "       background-color: #ffb200 ;    \n",
    "       border: 2px outset #b37d00 ;\n",
    "       border-radius: 10px;\n",
    "       width: 60px ;\n",
    "       text-decoration: none ;\n",
    "       background-color: #9cf ;\n",
    "       border-top: 1px solid #c0ffff ;\n",
    "       border-right: 1px solid #00f ;\n",
    "       border-bottom: 1px solid #00f ;\n",
    "       border-left: 1px solid #c0ffff ;\n",
    "    }\n",
    "    .push-down{\n",
    "       border: 1px solid #38538c;\n",
    "       background-color: #9cf;\n",
    "       //color: #FFFFFF;\n",
    "       text-shadow: 0px -1px 1px #213052;\n",
    "       box-shadow: inset 0 1px 10px 1px #5D88E3, 0px 1px 0 #1C2C4D, 0 6px 0px #1D3054, 0px 10px 25px rgba(0,0,0,.7);\n",
    "    }\n",
    "    .push-down:hover{\n",
    "       background: transparent;\n",
    "       box-shadow: inset 0 0px 20px 1px #88ADFC, 0px 1px 0 #1C2C4D, 0 6px 0px #1D3054, 0px 10px 25px rgba(0,0,0,.7);\n",
    "    }\n",
    "    .push-down:active{\n",
    "       box-shadow: inset 0 1px 10px 1px #5B89EB, 0 1px 0 #1A2847, 0 2px 0 #1C2D4D, 0px 3px 6px rgba(0,0,0,.9);\n",
    "       margin-top: 10px;\n",
    "    } \n",
    "</style> \n",
    "<body>\n",
    "<div align=\"center\">\n",
    "\"\"\"\n",
    "    no_images = len(plotfiles)\n",
    "    jscode = \"\"\"\n",
    "<script language=\"Javascript\">\n",
    "<!---\n",
    "var num_images_%(casename)s = %(no_images)d;\n",
    "var img_width = %(width)d;\n",
    "var img_height = %(height)d;\n",
    "var interval = %(interval_ms)d;\n",
    "var images_%(casename)s = new Array();\n",
    "\n",
    "function preload_images_%(casename)s()\n",
    "{\n",
    "   t = document.getElementById(\"progress\");\n",
    "\"\"\" % vars()\n",
    "\n",
    "    i = 0\n",
    "    for fname in plotfiles:\n",
    "        jscode += \"\"\"\n",
    "   t.innerHTML = \"Preloading image \";\n",
    "   images_%(casename)s[%(i)s] = new Image(img_width, img_height);\n",
    "   images_%(casename)s[%(i)s].src = \"%(fname)s\";\n",
    "        \"\"\" % vars()\n",
    "        i = i+1\n",
    "    jscode += \"\"\"\n",
    "   t.innerHTML = \"\";\n",
    "}\n",
    "\n",
    "function tick_%(casename)s()\n",
    "{\n",
    "   if (frame_%(casename)s > num_images_%(casename)s - 1)\n",
    "       frame_%(casename)s = 0;\n",
    "\n",
    "   document.movie.src = images_%(casename)s[frame_%(casename)s].src;\n",
    "   frame_%(casename)s += 1;\n",
    "   tt = setTimeout(\"tick_%(casename)s()\", interval);\n",
    "}\n",
    "\n",
    "function startup_tmpmovie()\n",
    "{\n",
    "   preload_images_%(casename)s();\n",
    "   frame_%(casename)s = 0;\n",
    "   setTimeout(\"tick_%(casename)s()\", interval);\n",
    "}\n",
    "\n",
    "function stopit()\n",
    "{ clearTimeout(tt); }\n",
    "\n",
    "function restart_tmpmovie()\n",
    "{ tt = setTimeout(\"tick_%(casename)s()\", interval); }\n",
    "\n",
    "function slower()\n",
    "{ interval = interval/0.7; }\n",
    "\n",
    "function faster()\n",
    "{ interval = interval*0.7; }\n",
    "\n",
    "// --->\n",
    "</script>\n",
    "\"\"\" % vars()\n",
    "    plotfile0 = plotfiles[0]\n",
    "    form = \"\"\"\n",
    "<form>\n",
    "&nbsp;\n",
    "<input type=\"button\" class=\"push-down\" value=\"Play\" onClick=\"startup_tmpmovie()\">\n",
    "<input type=\"button\" class=\"push-down\" value=\"Pause\" onClick=\"stopit()\">\n",
    "<input type=\"button\" class=\"push-down\" value=\"Replay\" onClick=\"restart_tmpmovie()\">\n",
    "&nbsp;\n",
    "<input type=\"button\" class=\"push-down\" value=\"Slower\" onClick=\"slower()\">\n",
    "<input type=\"button\" class=\"push-down\" value=\"Faster\" onClick=\"faster()\">\n",
    "</form>\n",
    "\n",
    "<p><div ID=\"progress\"></div></p>\n",
    "<img src=\"%(plotfile0)s\" name=\"movie\" border=2/></div>\n",
    "\"\"\" % vars()\n",
    "    footer = '\\n</body>\\n</html>\\n'\n",
    "    #print(footer)\n",
    "    return header, jscode, form, footer"
   ]
  },
  {
   "cell_type": "code",
   "execution_count": 39,
   "metadata": {
    "collapsed": true
   },
   "outputs": [],
   "source": [
    "def movieHTML(files, interval_ms=300, width=800, height=600,output='movie'):\n",
    "    import os,glob,re\n",
    "    #if not isinstance(plotfiles, (tuple,list)):\n",
    "    #    raise TypeError('html_movie: plotfiles=%s of wrong type %s' %\n",
    "    #                    (str(plotfiles), type(plotfiles)))\n",
    "    # Check that the plot files really exist\n",
    "    #missing_files = [fname for fname in plotfiles if not os.path.isfile(fname)]\n",
    "    #if missing_files:\n",
    "    #    raise ValueError('Missing plot files: %s' % str(missing_files)[1:-1])\n",
    "    #\n",
    "    # Don't make movie file, just an html file that can play png files\n",
    "    #files = self._prop['input_files']\n",
    "    if isinstance(files, str):\n",
    "       files = glob.glob(files)\n",
    "       files.sort()\n",
    "    #print '\\nMaking HTML code for displaying', ', '.join(files)\n",
    "    fps = 25;\n",
    "    interval_ms = 1000.0/fps\n",
    "    #outf = self._prop['output_file']\n",
    "    \n",
    "    if output is None:\n",
    "       output = 'test'\n",
    "       \n",
    "    #html_movie(files, interval_ms, casename=casename)   \n",
    "    \n",
    "    \n",
    "    header, jscode, form, footer = html_movie(files, interval_ms, casename=output)\n",
    "    casename = os.path.splitext(output)[0] + '.html'\n",
    "    print(casename)\n",
    "    f = open(casename, 'w')\n",
    "    f.write(header + jscode + form + footer)\n",
    "    f.close()"
   ]
  },
  {
   "cell_type": "code",
   "execution_count": 40,
   "metadata": {
    "collapsed": false
   },
   "outputs": [
    {
     "name": "stdout",
     "output_type": "stream",
     "text": [
      "movie.html\n"
     ]
    }
   ],
   "source": [
    "movieHTML(\"mapdata/base*.png\")"
   ]
  },
  {
   "cell_type": "code",
   "execution_count": 43,
   "metadata": {
    "collapsed": false
   },
   "outputs": [
    {
     "data": {
      "text/html": [
       "<div align=\"center\"><iframe src=movie.html width=700, height=500></iframe></div>"
      ],
      "text/plain": [
       "<IPython.core.display.HTML object>"
      ]
     },
     "execution_count": 43,
     "metadata": {},
     "output_type": "execute_result"
    }
   ],
   "source": [
    "from IPython.core.display import HTML\n",
    "filename=\"movie.html\"\n",
    "HTML('<div align=\"center\"><iframe src=%s width=700, height=500></iframe></div>' %filename)"
   ]
  },
  {
   "cell_type": "code",
   "execution_count": 34,
   "metadata": {
    "collapsed": false
   },
   "outputs": [
    {
     "name": "stderr",
     "output_type": "stream",
     "text": [
      "[NbConvertApp] Converting notebook maps.ipynb to html\n",
      "[NbConvertApp] Writing 657898 bytes to maps.html\n"
     ]
    }
   ],
   "source": [
    "%%bash \n",
    "ipython nbconvert maps.ipynb"
   ]
  },
  {
   "cell_type": "code",
   "execution_count": null,
   "metadata": {
    "collapsed": true
   },
   "outputs": [],
   "source": []
  }
 ],
 "metadata": {
  "kernelspec": {
   "display_name": "Python 3",
   "language": "python",
   "name": "python3"
  },
  "language_info": {
   "codemirror_mode": {
    "name": "ipython",
    "version": 3
   },
   "file_extension": ".py",
   "mimetype": "text/x-python",
   "name": "python",
   "nbconvert_exporter": "python",
   "pygments_lexer": "ipython3",
   "version": "3.4.3"
  }
 },
 "nbformat": 4,
 "nbformat_minor": 0
}
