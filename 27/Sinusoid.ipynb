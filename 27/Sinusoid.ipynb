{
 "cells": [
  {
   "cell_type": "markdown",
   "metadata": {},
   "source": [
    "Sinusoid\n",
    "===\n",
    "\n",
    "Sinusoids are used for all sorts of signal models in Electrical & Computer Engineering (ECE).  It is hard to overstate their importance in ECE.\n",
    "\n",
    "The basic sinusoid is a sine or cosine function over time.\n",
    "\n",
    "$$ X(t) = A \\cos(\\omega t+\\theta)$$\n",
    "\n",
    "where\n",
    "\n",
    "* $A$ is the *amplitude* of the sinusoid.\n",
    "* $\\omega$ is the *frequency* (in radians per second).  $\\omega=2\\pi f$ where $f$ is the frequency in cycles per second (Hertz, abbreviated Hz).\n",
    "* $f=1/T$ where $T$ is the *period* of the sinusoid, i.e., the sinusoid repeats every $T$ seconds.\n",
    "* $\\theta$ is a *phase offset*, in radians. \n",
    "\n",
    "Note,\n",
    "\n",
    "$$\\cos(\\omega t+\\theta) = \\sin(\\omega t +\\theta+\\pi/2)$$\n",
    "\n",
    "So we can use either $\\cos$ or $\\sin$ as our basic function.\n",
    "<br><br>\n"
   ]
  },
  {
   "cell_type": "code",
   "execution_count": null,
   "metadata": {
    "collapsed": true
   },
   "outputs": [],
   "source": [
    "%matplotlib inline\n",
    "from IPython.display import Audio, Image\n",
    "#from __future__ import division \n",
    "from numpy import pi,sin,exp,cos\n",
    "import numpy as np\n",
    "import matplotlib.pylab as plt"
   ]
  },
  {
   "cell_type": "code",
   "execution_count": null,
   "metadata": {
    "collapsed": false
   },
   "outputs": [],
   "source": [
    "plt.figure(figsize=(6,3))\n",
    "t=np.linspace(0,4,151) #lots of points\n",
    "f=1\n",
    "w=2*pi*f\n",
    "\n",
    "plt.plot(t,cos(w*t),'b',label='cos')\n",
    "plt.plot(t,sin(w*t),'r',label='sin')\n",
    "\n",
    "plt.legend()"
   ]
  },
  {
   "cell_type": "markdown",
   "metadata": {},
   "source": [
    "Lissajous Figures\n",
    "---\n",
    "Interesting plots of one sinusoid on the $X$ axis and a different one on the $Y$ axis. Vary the frequencies and phase to get a variety of interesting pictures. "
   ]
  },
  {
   "cell_type": "code",
   "execution_count": null,
   "metadata": {
    "collapsed": false
   },
   "outputs": [],
   "source": [
    "wt = np.linspace(0,10*pi,300)\n",
    "\n",
    "a=2\n",
    "b=3/4\n",
    "X=cos(a*wt)\n",
    "Y=cos(b*wt)\n",
    "#plt.xlim(X.min() * 1.1, X.max() * 1.1)\n",
    "#plt.ylim(Y.min() * 1.1, Y.max() * 1.1)\n",
    "plt.plot(X,Y)\n",
    "#plt.axes().axis('off') #eliminate the box\n",
    "plt.axes().set_aspect('equal')"
   ]
  },
  {
   "cell_type": "markdown",
   "metadata": {},
   "source": [
    "Frequencies High and Low\n",
    "---\n",
    "Frequencies in applications vary across many orders of magnitude:\n",
    "\n",
    "* Audio: \n",
    "    * Audible frequencies from 20 Hz to 20,000 Hz\n",
    "    * A above middle C: 440 Hz\n",
    "* Ultrasound Imaging: about 2 MHz\n",
    "* Power:\n",
    "    * 60 Hz in Taiwan;\n",
    "    * 50 Hz in many other countries, Japan for instance.\n",
    "* Radio: \n",
    "    * AM Broadcast: about 1 MHz\n",
    "    * FM Broadcast: about 100 MHz\n",
    "    * Wifi: about 2.4 GHz\n",
    "    * Microwave Oven: 2.45 GHz\n",
    "    * UD Research: up to 100 Ghz"
   ]
  },
  {
   "cell_type": "markdown",
   "metadata": {},
   "source": [
    "Complex Numbers and Euler's Formula\n",
    "---\n",
    "In analyzing sinusoids, we make great use of complex numbers.\n",
    "\n",
    "$$z = x + jy = |z|e^{j \\theta}$$\n",
    "\n",
    "where $|z| = \\sqrt{x^2+y^2}$, $\\theta = \\tan^{-1}(y/x)$, $x=\\operatorname{Re}(z)$, and  $y=\\operatorname{Im}(z)$.\n",
    "\n",
    "$$\\begin{align}\n",
    "z_1 + z_2 &= (x_1 + x_2) + j(y_1+y_2)\\\\\n",
    "z_1 z_2 &= (x_1x_2 -y_1y_2) + j(x_1y_2 + x_2y_1)\\\\\n",
    "  &= |z_1||z_2| e^{j(\\theta_1+\\theta_2)}\n",
    "\\end{align}$$\n",
    "\n",
    "We use this simple formula below to do a hard computation:\n",
    "\n",
    "$$\\operatorname{Re}(z_1) + \\operatorname{Re}(z_2) = \\operatorname{Re}(z_1+z_2)$$\n",
    "\n",
    "Perhaps the most important single formula in all of mathematics is *Euler's Formula*:\n",
    "\n",
    "$$\\mathbf{e^{j\\theta} = \\cos(\\theta) + j\\sin(\\theta)}$$\n",
    "\n",
    "Using Euler's formula, we can also write a complex number as\n",
    "\n",
    "$$z = |z| e^{j\\theta}$$\n",
    "where $\\theta=\\angle z$ is the angle of $z$.\n",
    "\n",
    "With $\\theta=\\pi$, Euler's formula can be rearranged as\n",
    "\n",
    "$$ e^{j\\pi}+1=0$$\n",
    "\n",
    "Thus combining the five most important mathematical values into one simple equation.\n",
    "\n",
    "<br><br>"
   ]
  },
  {
   "cell_type": "markdown",
   "metadata": {},
   "source": [
    "While we use sinusoids in lots of areas, we don't use trigonometry.  We use complex variables and Euler's formula.\n",
    "\n",
    "Euler's formula gives us simple formula for sinusiods:\n",
    "\n",
    "$$e^{j\\omega t} = \\cos(\\omega t) + j\\sin(\\omega t)$$\n",
    "\n",
    "Using Euler's formula, we can write sinusoids two different ways:\n",
    "\n",
    "$$\\cos(\\omega t) = \\operatorname{Re}(e^{j\\omega t}) = \\frac{e^{j\\omega t} + e^{-j\\omega t}}{2} $$\n",
    "\n",
    "Using the $\\operatorname{Re}(e^{j\\omega t})$ is especially handy when we add sinusoids together and the second formula when multiplying sinusoids.\n",
    "\n",
    "Here's an example of adding two sinusoids (with the same frequency):\n",
    "\n",
    "$$\\begin{align}\n",
    "\\cos(\\omega t) + 2\\cos(\\omega t + \\pi/4) &= \\operatorname{Re}(e^{j\\omega t}) + \\operatorname{Re}(2 e^{j\\omega t+j\\pi/4})\\\\\n",
    "  &= \\operatorname{Re}(e^{j\\omega t}+2 e^{j\\omega t+j\\pi/4})\\\\\n",
    "  &= \\operatorname{Re}((1+2 e^{j\\pi/4})e^{j \\omega t})\n",
    "\\end{align}$$\n",
    "\n",
    "Now add the two complex numbers together and convert to polar notation:\n"
   ]
  },
  {
   "cell_type": "markdown",
   "metadata": {},
   "source": [
    "Beat Frequency\n",
    "---\n",
    "Add two sinusoids with different frequencies:\n",
    "\n",
    "$$\\cos(\\omega_1 t) + \\cos(\\omega_2 t) = 2 \\cos\\big((\\omega_1-\\omega_2)t/2\\big)\\cos\\big((\\omega_1+\\omega_2)t/2\\big)$$\n",
    "\n",
    "$\\omega_1-\\omega_2$ is the *beat* frequency.  \n",
    "\n",
    "Guitar tuners adjust one note until the beat frequency against a reference is 0."
   ]
  },
  {
   "cell_type": "code",
   "execution_count": null,
   "metadata": {
    "collapsed": false
   },
   "outputs": [],
   "source": [
    "Fs = 22050\n",
    "f1 = 440\n",
    "f2 = 441\n",
    "t = np.linspace(0, 4, 4*Fs)\n",
    "plt.plot(t,cos(2*pi*f1*t) + cos(2*pi*f2*t))\n",
    "plt.axes().set_aspect('equal')"
   ]
  },
  {
   "cell_type": "markdown",
   "metadata": {},
   "source": [
    "Audio by IPython\n",
    "---\n",
    "Not only the plotting capacity brought by matplotlib, Audio availed by IPython can play music now."
   ]
  },
  {
   "cell_type": "code",
   "execution_count": null,
   "metadata": {
    "collapsed": false
   },
   "outputs": [],
   "source": [
    "Fs = 22050\n",
    "f1 = 440\n",
    "f2 = 441\n",
    "t = np.linspace(0, 4, 4*Fs)\n",
    "sound = cos(2*pi*f1*t) + cos(2*pi*f2*t)\n",
    "Audio(sound, rate=Fs)"
   ]
  },
  {
   "cell_type": "markdown",
   "metadata": {},
   "source": [
    "Frequency Shifting\n",
    "---\n",
    "Multiplying two sinusoids results in a frequency shift:\n",
    "\n",
    "$$\\cos(\\omega_1 t) \\cos(\\omega_2 t) = \\frac{\\cos((\\omega_1+\\omega_2)t)}{2} + \\frac{\\cos((\\omega_2-\\omega_1)t)}{2}$$\n",
    "\n",
    "This is how radio transmits a signal.  $\\omega_1$ represents the sound (typically a small frequency) and $\\omega_2$ the radio carrier frequency (typically much higher).\n"
   ]
  },
  {
   "cell_type": "code",
   "execution_count": null,
   "metadata": {
    "collapsed": false
   },
   "outputs": [],
   "source": [
    "Fs = 22050\n",
    "f1 = 440\n",
    "f2 = 441\n",
    "t = np.linspace(0, 4, 4*Fs)\n",
    "plt.plot(t,cos(2*pi*f1*t) * cos(2*pi*f2*t))"
   ]
  },
  {
   "cell_type": "code",
   "execution_count": null,
   "metadata": {
    "collapsed": false
   },
   "outputs": [],
   "source": [
    "Fs = 22050\n",
    "f1 = 440\n",
    "f2 = 441\n",
    "t = np.linspace(0, 4, 4*Fs)\n",
    "sound = cos(2*pi*f1*t) * cos(2*pi*f2*t)\n",
    "Audio(sound, rate=Fs)"
   ]
  },
  {
   "cell_type": "markdown",
   "metadata": {},
   "source": [
    "Music Notes\n",
    "---\n",
    "Music frequencies are exponential.  Each octave is a doubling in frequency.\n",
    "\n",
    "E.g., Note A can be 55 Hz, 110 Hz, 220 Hz, 440 Hz, 880 Hz, etc.\n",
    "\n",
    "$$A = 440*2^{m-4}$$\n",
    "\n",
    "where $m$ is octave number.  $m=4$ is the standard middle octave."
   ]
  },
  {
   "cell_type": "markdown",
   "metadata": {},
   "source": [
    "Music Scales\n",
    "---\n",
    "The conventional scale in western music consists of semitones $2^{1/12}$ apart."
   ]
  },
  {
   "cell_type": "code",
   "execution_count": null,
   "metadata": {
    "collapsed": false
   },
   "outputs": [],
   "source": [
    "2**(1/12)"
   ]
  },
  {
   "cell_type": "markdown",
   "metadata": {},
   "source": [
    "There are 12 semitones per octave,\n",
    "\n",
    "$$ (2^{(1/12)})^{12} = 2$$\n",
    "\n",
    "The major notes (white piano keys) are C, D, E, F, G, A, B, C5 (C5 is note C in the next octave.)\n",
    "\n",
    "The MIDI note number for A above middle C is $n=69$. "
   ]
  },
  {
   "cell_type": "code",
   "execution_count": null,
   "metadata": {
    "collapsed": true
   },
   "outputs": [],
   "source": [
    "C, D, E, F, G, A, B, C5 = 60, 62, 64, 65, 67, 69, 71, 72\n",
    "scale = [C, D, E, F, G, A, B, C5 ]"
   ]
  },
  {
   "cell_type": "code",
   "execution_count": null,
   "metadata": {
    "collapsed": false
   },
   "outputs": [],
   "source": [
    "Image('piano.jpg')"
   ]
  },
  {
   "cell_type": "code",
   "execution_count": null,
   "metadata": {
    "collapsed": false
   },
   "outputs": [],
   "source": [
    "# Let's play some sounds.  First, A above middle C:\n",
    "Fs = 22050 #samplerate\n",
    "dur = 3 #note duration in seconds\n",
    "t = np.linspace(0,dur,dur*Fs)\n",
    "f = 440\n",
    "Audio(sin(2*pi*f*t), rate=Fs)"
   ]
  },
  {
   "cell_type": "code",
   "execution_count": null,
   "metadata": {
    "collapsed": false
   },
   "outputs": [],
   "source": [
    "# Now let's play a scale:\n",
    "BaseNote = 440\n",
    "sound = []\n",
    "for note in scale:\n",
    "    f = BaseNote * 2**((note-69)/12)\n",
    "    sound.append(sin(2*pi*f*t))\n",
    "sound = np.concatenate(sound)\n",
    "Audio(sound, rate=Fs)"
   ]
  },
  {
   "cell_type": "markdown",
   "metadata": {},
   "source": [
    "Envelope Functions\n",
    "---\n",
    "The notes sound better if we apply an *envelope* function to soften the rise and fall.  Professional envelopes use an ADSR (Attack, Delay, Sustain, Release) shape, but we will start simply.\n",
    "\n",
    "The sine function starts at 0, rises to 1 (at pi/2), and returns to 0 (at pi). "
   ]
  },
  {
   "cell_type": "code",
   "execution_count": null,
   "metadata": {
    "collapsed": false
   },
   "outputs": [],
   "source": [
    "def sine_env(t):\n",
    "    return sin(pi*t/t[-1]) #t[-1] = last value\n",
    "plt.plot(t,sine_env(t))"
   ]
  },
  {
   "cell_type": "code",
   "execution_count": null,
   "metadata": {
    "collapsed": false
   },
   "outputs": [],
   "source": [
    "# That works, but even better is to make it flatter.  Here's a trick:\n",
    "def flute_env(t):\n",
    "    return sin(pi*t/t[-1])**0.4\n",
    "plt.plot(t,flute_env(t),'b')\n",
    "plt.plot(t,sine_env(t), 'r')"
   ]
  },
  {
   "cell_type": "markdown",
   "metadata": {},
   "source": [
    "All the code snippets have the same basic structure. sound=[] is an empty list. For each note in the song, the frequency is computed, a sinusoid of that frequency is created, and the sinusoid is appended to the list. When the for loop exits, the list of sounds is concatenated into a single longer sound. That sound is played with the Audio command."
   ]
  },
  {
   "cell_type": "code",
   "execution_count": null,
   "metadata": {
    "collapsed": false
   },
   "outputs": [],
   "source": [
    "BaseNote = 440\n",
    "\n",
    "sound = []\n",
    "for note in scale:\n",
    "    f = BaseNote * 2**((note-69)/12)\n",
    "    sinusoid = sin(2*pi*f*t)\n",
    "    sound.append(flute_env(t) * sinusoid)\n",
    "    \n",
    "sound = np.concatenate(sound)\n",
    "Audio(sound, rate=Fs)"
   ]
  },
  {
   "cell_type": "code",
   "execution_count": null,
   "metadata": {
    "collapsed": true
   },
   "outputs": [],
   "source": []
  },
  {
   "cell_type": "markdown",
   "metadata": {},
   "source": [
    "The sound from a stringed instrument (e.g., guitar or piano) rises quickly, then decreases slowly.\n"
   ]
  },
  {
   "cell_type": "code",
   "execution_count": null,
   "metadata": {
    "collapsed": false
   },
   "outputs": [],
   "source": [
    "def guitar_env(t):\n",
    "    return (1-exp(-80*t))*exp(-8*t)\n",
    "plt.plot(t,guitar_env(t))"
   ]
  },
  {
   "cell_type": "markdown",
   "metadata": {},
   "source": [
    "Here's an illustration of the guitar envelope times the sinusiod. The rise is very quick, almost impossible to see, but the decay is clear."
   ]
  },
  {
   "cell_type": "code",
   "execution_count": null,
   "metadata": {
    "collapsed": false
   },
   "outputs": [],
   "source": [
    "s = np.linspace(0,1,300)\n",
    "plt.plot(s,guitar_env(s)*sin(2*pi*30*s))"
   ]
  },
  {
   "cell_type": "code",
   "execution_count": null,
   "metadata": {
    "collapsed": false
   },
   "outputs": [],
   "source": [
    "BaseNote = 440\n",
    "dur = 0.5\n",
    "\n",
    "sound = []\n",
    "t = np.linspace(0,dur,dur*Fs)\n",
    "for note in scale:\n",
    "    f = BaseNote * 2**((note-69)/12)\n",
    "    sinusoid = cos(2*pi*f*t)\n",
    "    sound.append(guitar_env(t) * sinusoid)\n",
    "\n",
    "sound = np.concatenate(sound)\n",
    "Audio(sound, rate=Fs)"
   ]
  },
  {
   "cell_type": "markdown",
   "metadata": {},
   "source": [
    "Mary Had a Little Lamb\n",
    "---\n",
    "Let's play a song. Since the notes have different durations, we need to modify our code a bit. Each note has a frequency and duration. The song is a list of notes. When we create the song, we will loop over the notes."
   ]
  },
  {
   "cell_type": "code",
   "execution_count": null,
   "metadata": {
    "collapsed": true
   },
   "outputs": [],
   "source": [
    "mary = [ (E, 1/2), (D, 1/2), (C, 1/2), (D, 1/2), (E, 1/2), (E, 1/2), \n",
    "        (E, 1), (D, 1/2), (D, 1/2), (D, 1), (E, 1/2), (G, 1/2),\n",
    "        (G, 1), (E, 1/2), (D, 1/2), (C, 1/2), (D, 1/2), (E, 1/2),\n",
    "        (E, 1/2), (E, 1/2), (E, 1/2), (D, 1/2), (D, 1/2), (E, 1/2),\n",
    "        (D, 1/2), (C, 1)]"
   ]
  },
  {
   "cell_type": "code",
   "execution_count": null,
   "metadata": {
    "collapsed": false
   },
   "outputs": [],
   "source": [
    "BaseNote = 440\n",
    "\n",
    "sound = []\n",
    "for note in mary:\n",
    "    fnum, dur = note\n",
    "    t = np.linspace(0,dur,dur*Fs)\n",
    "    f = BaseNote * 2**((fnum-69)/12)\n",
    "    sinusoid = sin(2*pi*f*t)\n",
    "    sound.append(guitar_env(t) * sinusoid)\n",
    "    \n",
    "gsound = np.concatenate(sound)\n",
    "Audio(gsound, rate=Fs)"
   ]
  },
  {
   "cell_type": "code",
   "execution_count": null,
   "metadata": {
    "collapsed": false
   },
   "outputs": [],
   "source": [
    "BaseNote = 880\n",
    "\n",
    "sound = []\n",
    "for note in mary:\n",
    "    fnum, dur = note\n",
    "    t = np.linspace(0,dur,dur*Fs)\n",
    "    f = BaseNote * 2**((fnum-69)/12)\n",
    "    sinusoid = sin(2*pi*f*t)\n",
    "    sound.append(flute_env(t) * sinusoid)\n",
    "    \n",
    "fsound = np.concatenate(sound)\n",
    "Audio(fsound, rate=Fs)"
   ]
  },
  {
   "cell_type": "code",
   "execution_count": null,
   "metadata": {
    "collapsed": false
   },
   "outputs": [],
   "source": [
    "sound = gsound+0.3*fsound\n",
    "Audio(sound, rate=Fs)"
   ]
  },
  {
   "cell_type": "markdown",
   "metadata": {},
   "source": [
    "\n",
    "FM Modulation\n",
    "---\n",
    "Frequency modulation makes for an interesting sound.\n",
    "$X(t)=\\cos(2 \\pi f t+k\\sin(2\\pi f_m t))$\n",
    "Yamaha synthesizers were famous for their FM sound.\n",
    "The snippet and plot below illustrate FM modulation. See how the frequency increases and decreases."
   ]
  },
  {
   "cell_type": "code",
   "execution_count": null,
   "metadata": {
    "collapsed": false
   },
   "outputs": [],
   "source": [
    "s = np.linspace(0,1,700)\n",
    "plt.plot(s, cos(2*pi*30*s + 5*sin(2*pi*5*s)) ) "
   ]
  },
  {
   "cell_type": "code",
   "execution_count": null,
   "metadata": {
    "collapsed": false
   },
   "outputs": [],
   "source": [
    "BaseNote = 220\n",
    "\n",
    "fmsound = []\n",
    "for note in mary:\n",
    "    fnum, dur = note\n",
    "    t = np.linspace(0,dur,dur*Fs)\n",
    "    f = BaseNote * 2**((fnum-69)/12)\n",
    "    FMsinusoid = cos(2*pi*f*t + 10*sin(4.1*pi*f*t)) \n",
    "    fmsound.append( guitar_env(t) * FMsinusoid )\n",
    "    \n",
    "fmsound = np.concatenate(fmsound)\n",
    "Audio(fmsound, rate=Fs)"
   ]
  },
  {
   "cell_type": "code",
   "execution_count": null,
   "metadata": {
    "collapsed": false
   },
   "outputs": [],
   "source": [
    "sound = fmsound+0.5*fsound\n",
    "Audio(sound, rate=Fs)"
   ]
  },
  {
   "cell_type": "markdown",
   "metadata": {},
   "source": [
    "AM Modulation or Tremolo\n",
    "---\n",
    "Tremolo is an amplitude modulation of the note. The envelope has ripples. We must keep the tremolo frequency below the lower limit of hearing, 20 Hz.\n",
    "\n",
    "$$X(t)=(1+d\\sin(2\\pi f_rt))\\cos(2\\pi f t)$$\n",
    "$d$ is the depth of the tremolo."
   ]
  },
  {
   "cell_type": "code",
   "execution_count": null,
   "metadata": {
    "collapsed": false
   },
   "outputs": [],
   "source": [
    "s = np.linspace(0,1,300)\n",
    "tremolo = 1+0.6*sin(2*pi*5*s)\n",
    "plt.plot(s,tremolo*cos(2*pi*30*s))"
   ]
  },
  {
   "cell_type": "code",
   "execution_count": null,
   "metadata": {
    "collapsed": false
   },
   "outputs": [],
   "source": [
    "BaseNote = 440\n",
    "depth = 0.6\n",
    "tremfreq = 8\n",
    "\n",
    "amsound = []\n",
    "for note in mary:\n",
    "    fnum, dur = note\n",
    "    t = np.linspace(0,dur,dur*Fs)\n",
    "    tremolo = 1 + depth*sin(2*pi*tremfreq*t)\n",
    "    f = BaseNote * 2**((fnum-69)/12)\n",
    "    sinusoid = cos(2*pi*f*t)\n",
    "    amsound.append(guitar_env(t)  * tremolo * sinusoid)\n",
    "    \n",
    "amsound = np.concatenate(amsound)\n",
    "Audio(amsound, rate=Fs)"
   ]
  },
  {
   "cell_type": "code",
   "execution_count": null,
   "metadata": {
    "collapsed": false
   },
   "outputs": [],
   "source": [
    "sound = amsound+0.5*fsound\n",
    "Audio(sound, rate=Fs)"
   ]
  },
  {
   "cell_type": "markdown",
   "metadata": {},
   "source": [
    "Exercise\n",
    "---\n",
    "As a famous DJ like you, try to play a song in the tune."
   ]
  },
  {
   "cell_type": "code",
   "execution_count": null,
   "metadata": {
    "collapsed": false
   },
   "outputs": [],
   "source": [
    "from IPython.core.display import HTML\n",
    "css_file = '../styles/numericalmoocstyle.css'\n",
    "HTML(open(css_file, \"r\").read())"
   ]
  },
  {
   "cell_type": "code",
   "execution_count": null,
   "metadata": {
    "collapsed": false
   },
   "outputs": [],
   "source": [
    "%%bash \n",
    "\n",
    "ipython nbconvert --to html Sinusoid.ipynb"
   ]
  },
  {
   "cell_type": "code",
   "execution_count": null,
   "metadata": {
    "collapsed": true
   },
   "outputs": [],
   "source": []
  },
  {
   "cell_type": "code",
   "execution_count": null,
   "metadata": {
    "collapsed": false
   },
   "outputs": [],
   "source": [
    "# Let's play some sounds.  First, A above middle C:\n",
    "plt.figure(figsize=(10,3))\n",
    "Fs = 44100 #samplerate\n",
    "dur = 3 #note duration in seconds\n",
    "t = np.linspace(0,dur,dur*Fs)\n",
    "\n",
    "#plt.plot(t, cos(2*pi*f*t) ) \n",
    "f = 64\n",
    "plt.plot(t, cos(2*pi*f*t)) \n",
    "Audio(cos(2*pi*f*t), rate=Fs)"
   ]
  },
  {
   "cell_type": "code",
   "execution_count": null,
   "metadata": {
    "collapsed": false
   },
   "outputs": [],
   "source": [
    "def SoundRange(freq):\n",
    "    \n",
    "    plt.figure(figsize=(10,3))\n",
    "    Fs = 44100 #samplerate\n",
    "    dur = 3 #note duration in seconds\n",
    "    t = np.linspace(0,dur,dur*Fs)\n",
    "\n",
    "    #plt.plot(t, cos(2*pi*f*t) ) \n",
    "    f = freq\n",
    "    return plt.plot(t, cos(2*pi*f*t)),Audio(cos(2*pi*f*t), rate=Fs)"
   ]
  },
  {
   "cell_type": "code",
   "execution_count": null,
   "metadata": {
    "collapsed": false
   },
   "outputs": [],
   "source": [
    "freq=20000\n",
    "\n",
    "Fs=44100\n",
    "SoundRange(freq)\n",
    "t = np.linspace(0,3,3*Fs)\n",
    "Audio(cos(2*pi*freq*t), rate=Fs)"
   ]
  },
  {
   "cell_type": "code",
   "execution_count": null,
   "metadata": {
    "collapsed": false
   },
   "outputs": [],
   "source": [
    "from ipywidgets import StaticInteract, RangeWidget\n",
    "StaticInteract(SoundRange,\n",
    "               freq=RangeWidget(20, 20000,1000))"
   ]
  },
  {
   "cell_type": "code",
   "execution_count": null,
   "metadata": {
    "collapsed": true
   },
   "outputs": [],
   "source": []
  }
 ],
 "metadata": {
  "kernelspec": {
   "display_name": "Python 3",
   "language": "python",
   "name": "python3"
  },
  "language_info": {
   "codemirror_mode": {
    "name": "ipython",
    "version": 3
   },
   "file_extension": ".py",
   "mimetype": "text/x-python",
   "name": "python",
   "nbconvert_exporter": "python",
   "pygments_lexer": "ipython3",
   "version": "3.4.3"
  }
 },
 "nbformat": 4,
 "nbformat_minor": 0
}
