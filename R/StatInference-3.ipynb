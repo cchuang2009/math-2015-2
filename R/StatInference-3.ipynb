{
 "cells": [
  {
   "cell_type": "markdown",
   "metadata": {},
   "source": [
    "<big><b><div class=\"alert alert-success\">\n",
    "Point Estimation\n",
    "</div></b></big>\n",
    "<div class=\"alert alert-warning\">\n",
    "\n",
    " **a)** Sample mean\n",
    "  $$ \\bar X=\\sum_{i=1}^n\\frac{X_i}{n}$$\n",
    " \n",
    " **b)** (biased) Sample Variance\n",
    " $$ \\hat{\\sigma^2}=\\frac{1}{n}\\sum_{i=1}^n   (X_i-\\bar X)^2$$\n",
    " **c)** (unbiased) Sample Variance\n",
    " $$ s^2_n=\\frac{1}{n-1}\\sum_{i=1}^n  (X_i-\\bar X)^2$$"
   ]
  },
  {
   "cell_type": "code",
   "execution_count": null,
   "metadata": {
    "collapsed": true
   },
   "outputs": [],
   "source": []
  },
  {
   "cell_type": "markdown",
   "metadata": {
    "collapsed": true
   },
   "source": [
    "\n",
    "Sample mean\n",
    "  $$ \\bar X=\\sum_{i=1}^n\\frac{X_i}{n}, E \\bar X= \\frac{1}{n}E \\sum_{i=1}^nX_i=\\frac{n\\mu}{n}=\\mu$$\n",
    "  \n",
    "  \\begin{eqnarray}\n",
    "  \\hbox{variance} &=& E \\left( \\bar X -\\mu \\right)^2 \\\\ \n",
    "                  &=& \\sum_{i=1}^n \\frac{1}{n^2} E  (X_i-\\mu)^2\n",
    "                  &=& \\frac{\\sigma^2}{n}\n",
    "\\end{eqnarray}\n",
    "\n",
    "Since \n",
    "$$ \\hbox{Var} \\bar X =  \\frac{\\sigma^2}{n}\\le \\sigma^2=\\hbox{Var} X_1 $$\n",
    "\n",
    "the unbiased estimator $\\bar X$ has smaller variance than the unbiased estimator $X_1$.\n",
    "\n",
    "The *Weak Law of Large Numbers* states that \n",
    "$$\\bar X \\to \\mu \\text{ in probabolity.}$$ \n",
    "Thus, as the sample size increases, the estimator $\\bar X$ converges in probability to the estimand $\\mu$.\n",
    "\n"
   ]
  },
  {
   "cell_type": "markdown",
   "metadata": {},
   "source": [
    "Sample Variance\n",
    "---\n",
    "Estimation of variance, $\\sigma^2$:\n",
    "$$ \\hat{\\sigma^2}=\\frac{1}{n}\\sum_{i=1}^n   (X_i-\\bar X)^2$$\n",
    "\n",
    "\n",
    "It's known as biased estimate since:\n",
    "\n",
    "\\begin{eqnarray}\n",
    "  E \\hat{\\sigma^2} &=& \\frac{1}{n}\\sum_{i=1}^n  E  (X_i-\\bar X)^2 \\\\ \n",
    "                  &=& \\frac{1}{n}\\sum_{i=1}^n  E \\left(-\\frac{1}{n}(X_1-\\mu)-\\cdots+\n",
    "                      \\frac{n-1}{n}(X_i-\\mu)-\\cdots-\\frac{1}{n}(X_n-\\mu)\\right)^2  \\\\ \n",
    "                  &=& \\frac{1}{n} \\cdot\\sum_{i=1}^n \\frac{(n-1)+(n-1)^2}{n^2}  \\sigma^2 \n",
    "                      +\\sum_{i}\\sum_{i\\ne j}c_{ij}E(X_i-\\mu)(X_j-\\mu)\\\\\n",
    "                  &=& \\frac{n-1}{n}\\sigma^2 (\\ne \\sigma^2)\n",
    "\\end{eqnarray}\n",
    "\n",
    "Note that the final result comes from the fact: $\\{X_i\\}$ are independent with each other. It's called *biased* estimator.\n",
    "\n",
    "The following is another popular variance esitmator:\n",
    "\n",
    "$$ s^2_n=\\frac{1}{n-1}\\sum_{i=1}^n  (X_i-\\bar X)^2$$\n",
    "since it is unbiased:\n",
    "$$ E s^2_n= \\frac{1}{n-1}\\sum_{i=1}^n  E  (X_i-\\bar X)^2=\\frac{n}{n-1}\\cdot \\frac{n-1}{n}\\cdot\\sigma^2=\\sigma^2$$"
   ]
  },
  {
   "cell_type": "markdown",
   "metadata": {},
   "source": [
    "Review\n",
    "---\n",
    "1. (Yes or No) Let $\\{X_1,\\cdots, X_n\\}$ are i.i.d $N(0,\\sigma^2)$ r.v.'s and \n",
    "   $\\{Z_1,\\cdots, Z_n\\}$ are i.i.d $N(0,1)$ r.v.'s. Is the following variables is the same:\n",
    "   \\begin{eqnarray}\n",
    "    U_X &=&\\frac{\\bar X}{\\sqrt{\\frac{1}{n-1}\\sum_{i=1}^n  E  (X_i-\\bar X)^2}}\\\\\n",
    "    U_Z &=&\\frac{\\bar Z}{\\sqrt{\\frac{1}{n-1}\\sum_{i=1}^n  E  (Z_i-\\bar Z)^2}}\n",
    "   \\end{eqnarray}\n",
    "\n",
    "Answer\n",
    "---\n",
    "Yes, $Z_i=X_i/\\sigma$."
   ]
  },
  {
   "cell_type": "markdown",
   "metadata": {
    "collapsed": false
   },
   "source": [
    "Observation by R-codes:"
   ]
  },
  {
   "cell_type": "code",
   "execution_count": null,
   "metadata": {
    "collapsed": false
   },
   "outputs": [],
   "source": [
    "sigma2=4\n",
    "u <- function() {\n",
    "      x <- rnorm(10, mean = 0, sd = sigma2)\n",
    "      mean(x) / sd(x)\n",
    "  }"
   ]
  },
  {
   "cell_type": "code",
   "execution_count": null,
   "metadata": {
    "collapsed": false
   },
   "outputs": [],
   "source": [
    "# 5000 U~X/2\n",
    "u5000 <- replicate(5000, u())\n",
    "summary(u5000)"
   ]
  },
  {
   "cell_type": "code",
   "execution_count": null,
   "metadata": {
    "collapsed": false
   },
   "outputs": [],
   "source": [
    "# Draw quantile-Quantile plots of U against N(0,1)\n",
    "\n",
    "library(lattice)\n",
    "qqmath(~u5000, distribution = qnorm, aspect = \"xy\", pch = \".\", cex = 4,ylab=\"U\")"
   ]
  },
  {
   "cell_type": "markdown",
   "metadata": {
    "collapsed": false
   },
   "source": [
    "Example: Point Estimate of Population \n",
    "---\n",
    "Problem\n",
    "\n",
    "Find a point estimate of mean university student height with the sample data from survey.\n",
    "\n",
    "Solution\n",
    "\n",
    "For convenience, we begin with saving the survey data of student heights in a variable height.survey.\n",
    "And it's 172.38cm"
   ]
  },
  {
   "cell_type": "code",
   "execution_count": null,
   "metadata": {
    "collapsed": true
   },
   "outputs": [],
   "source": [
    "library(MASS)                  # load the MASS package \n",
    "height.survey = survey$Height"
   ]
  },
  {
   "cell_type": "code",
   "execution_count": null,
   "metadata": {
    "collapsed": false
   },
   "outputs": [],
   "source": [
    "cat(sprintf(\"The estimated average of height is %.3f cm\",mean(height.survey, na.rm=TRUE)))  # skip missing values "
   ]
  },
  {
   "cell_type": "markdown",
   "metadata": {},
   "source": [
    "Interval Estimate of Population Mean with Known Variance\n",
    "---\n",
    "\n",
    "After we found a point estimate of the population mean, we would need a way to quantify its accuracy. Here, we discuss the case where the population variance $\\sigma^2$ is assumed known.\n",
    "\n",
    "Let us denote the $100(1 −\\alpha∕2)$ percentile of the standard normal distribution as $Z_{\\alpha∕2}$. For random sample of sufficiently large size, the end points of the interval estimate at $(1 − \\alpha)$ confidence level is given as follows:\n",
    "\n",
    "\n",
    "\\begin{eqnarray*}\n",
    "  1 - \\alpha & = & {\\cal P} (| Z | \\leqslant z_{\\alpha / 2})\\\\\n",
    "  & = & {\\cal P} \\left( \\left| \\frac{\\bar{X} -{\\mu}}{\\sigma /\n",
    "  \\sqrt{n}} \\right| \\leqslant z_{\\alpha / 2} \\right)\\\\\n",
    "  \\Rightarrow &  & \\left| \\frac{\\bar{X} -{\\mu}}{\\sigma / \\sqrt{n}} \\right|\n",
    "  \\leqslant z_{\\alpha / 2}\\\\\n",
    "  \\Rightarrow &  & \\bar{X} - z_{\\alpha / 2} \\frac{\\sigma}{\\sqrt{n}} \\leqslant\n",
    "  {\\mu} \\leqslant \\bar{X} + \\frac{\\sigma}{\\sqrt{n}} z_{\\alpha / 2}\n",
    "\\end{eqnarray*}\n",
    "i.e for random sample of sufficiently large size, the interval estimated at\n",
    "$(1 - \\alpha)$ of sample mean is\n",
    "$$ \\left[ \\bar{x} - z_{\\alpha / 2} \\frac{\\sigma}{\\sqrt{n}}, \\bar{x} +\n",
    "   z_{\\alpha / 2} \\frac{\\sigma}{\\sqrt{n}} \\right] $$"
   ]
  },
  {
   "cell_type": "code",
   "execution_count": null,
   "metadata": {
    "collapsed": false
   },
   "outputs": [],
   "source": [
    "options(repr.plot.width=6)\n",
    "options(repr.plot.height=4)\n",
    "oldpar <- par(mar = c(5, 6, 4, 2) + 0.1) \n",
    "mu <- 0; sigma <- 1 \n",
    "x <- seq(-4, 4, .01) \n",
    "\n",
    "fx <-dnorm(x)\n",
    "plot(x, fx, type = \"l\", col='red',lwd = 2,xlab=\"\",main=expression(frac(bar(x)-mu,sigma/sqrt(n))%~~%Z==N(0,1)),\n",
    "        ylab=expression(frac(1,sqrt(2*pi))* e^{-x^2/2})) \n",
    "\n",
    "x0 <- x[x >= 1.645]    # define region to fill\n",
    "x0 <- c(x0[1], x0) ;  fx0 <- fx[x >= 1.645]\n",
    "fx0 <- c(0, fx0)\n",
    "\n",
    "text(0,0.12,expression(P(group(\"|\",Z,\"|\") <= z[alpha/2])==1-alpha))\n",
    "\n",
    "text(3,0.09,expression(P(Z >= z[alpha/2])==alpha/2))\n",
    "polygon(x0, fx0, col=\"gray\")\n",
    "\n",
    "\n",
    "\n",
    "y0 <- x[x <= -1.645]    # define region to fill\n",
    "y0 <- c( y0,y0[length(y0)]) ;  fy0 <- fx[x <= -1.645]\n",
    "fy0 <- c(fy0,0)\n",
    "text(-3,0.09,expression(P(Z <= -z[alpha/2])==alpha/2))\n",
    "polygon(y0, fy0, col=\"gray\")\n",
    "\n",
    "abline(h=0, col=\"gray\") ; \n",
    "abline(v=0, col=\"gray\")"
   ]
  },
  {
   "cell_type": "markdown",
   "metadata": {},
   "source": [
    "Problem\n",
    "---\n",
    "Assume the population standard deviation $\\sigma^2$ of the student height in survey is $9.48^2$. Find the margin of error and interval estimate at 95% confidence level.\n",
    "\n",
    "**Solution**\n",
    "We first filter out missing values in survey\\$Height with the na.omit function, and save it in height.response."
   ]
  },
  {
   "cell_type": "code",
   "execution_count": null,
   "metadata": {
    "collapsed": true
   },
   "outputs": [],
   "source": [
    "library(MASS)                  # load the MASS package \n",
    "height.response = na.omit(survey$Height)"
   ]
  },
  {
   "cell_type": "code",
   "execution_count": null,
   "metadata": {
    "collapsed": false
   },
   "outputs": [],
   "source": [
    "n = length(height.response) \n",
    "sigma = 9.48                   # population standard deviation \n",
    "sem = sigma/sqrt(n);       # standard error of the mean \n",
    "cat(sprintf(\"standard error of mean is %.3f \",sem))  "
   ]
  },
  {
   "cell_type": "code",
   "execution_count": null,
   "metadata": {
    "collapsed": false
   },
   "outputs": [],
   "source": [
    "E = qnorm(.975)*sem\n",
    "cat(sprintf(\"margin of error  %.3f \",E))  "
   ]
  },
  {
   "cell_type": "code",
   "execution_count": null,
   "metadata": {
    "collapsed": false
   },
   "outputs": [],
   "source": [
    "xbar <- mean(height.response)   # sample mean \n",
    "I<-xbar + c(-E, E)\n",
    "cat(sprintf(\"Estimated interval of sample mean is [%.3f,%.3f] \",I[1],I[2]))  "
   ]
  },
  {
   "cell_type": "markdown",
   "metadata": {},
   "source": [
    "Interval Estimate of Population Mean with Unknown Variance\n",
    "---"
   ]
  },
  {
   "cell_type": "markdown",
   "metadata": {},
   "source": [
    "If $\\sigma$ is unknown, we have to replace the unknown parameter by some sample value, $s_n$, introduced before:\n",
    "$$ s^2_n=\\frac{1}{n-1}\\sum_{i=1}^n  (X_i-\\bar X)^2$$\n",
    "since it is unbiased estimator of $\\sigma$."
   ]
  },
  {
   "cell_type": "code",
   "execution_count": null,
   "metadata": {
    "collapsed": false
   },
   "outputs": [],
   "source": [
    "x <- seq(-4, 4, .1) \n",
    "dt(x,df=1)\n",
    "tail(x,n=1)"
   ]
  },
  {
   "cell_type": "code",
   "execution_count": null,
   "metadata": {
    "collapsed": false
   },
   "outputs": [],
   "source": [
    "oldpar <- par(mar = c(5, 6, 4, 2) + 0.1) \n",
    "options(repr.plot.width=7)\n",
    "options(repr.plot.height=4)\n",
    "mu <- 0; sigma <- 1 \n",
    "x <- seq(-4, 4, .01) \n",
    "\n",
    "fx <-dt(x,df=1)\n",
    "\n",
    "\n",
    "\n",
    "plot(x, fx, type = \"l\", col='red',lwd = 2,xlab=\"\",main=expression(T[n]%~~%frac(bar(x)-mu,s/sqrt(n))),\n",
    "        ylab=expression(paste(\"pdf of \", T[n]))) \n",
    "\n",
    "x0 <- x[x >= 1.645]    # define region to fill\n",
    "x0 <- c(x0[1], x0,tail(x0,n=1)) ;  fx0 <- fx[x >= 1.645]\n",
    "fx0 <- c(0, fx0,0)\n",
    "\n",
    "text(0,0.12,expression(P(group(\"|\",T[n],\"|\") <= t[alpha/2])==1-alpha),col='red')\n",
    "\n",
    "text(3,0.09,expression(P(T[n] >= t[alpha/2])==alpha/2))\n",
    "polygon(x0, fx0, col=\"gray\")\n",
    "\n",
    "\n",
    "\n",
    "y0 <- x[x <= -1.645]    # define region to fill\n",
    "y0 <- c( y0[1],y0,y0[length(y0)]) ;  fy0 <- fx[x <= -1.645]\n",
    "fy0 <- c(0,fy0,0)\n",
    "text(-3,0.09,expression(P(T[n] <= -t[alpha/2])==alpha/2))\n",
    "polygon(y0, fy0, col=\"gray\")\n",
    "\n",
    "abline(h=0, col=\"gray\") ; \n",
    "abline(v=0, col=\"gray\")"
   ]
  },
  {
   "cell_type": "markdown",
   "metadata": {
    "collapsed": false
   },
   "source": [
    "Facts\n",
    "---\n",
    "- $Z\\sim N(0,1)\\to Z^2\\sim \\chi^2_1$: i.e square of $N(0,1)$-r.v. is $\\chi^2$-square r.v. with degree 1.\n",
    "- $\\{X_i\\}^{n}_{i=1}$ i.i.d. $N(0,1)$ r.v.'s $\\to$ $X^2=\\sum_i^n X_i^2$ is $\\chi^2$-square r.v. with degree n ( $E X^2=n$).\n",
    "- $\\{X_i\\}^{n}_{i=1}$ i.i.d. $N(\\mu,\\sigma^2)$ r.v.'s $\\to$ $X^2=\\sum_i^n (X_i-\\mu)^2/\\sigma^2$ is $\\chi^2$-square r.v. with degree n ( $E X^2=n$).\n",
    "- $\\{X_i\\}^{n}_{i=1}$ i.i.d. $N(\\mu,\\sigma^2)$ r.v.'s $\\to$ $(n-1) s_n^2/\\sigma^2=\\sum_i^n (X_i-\\bar X)^2/\\sigma^2$ is $\\chi^2$-square r.v. with degree $n-1$ ( $E (n-1) s_n^2/\\sigma^2=n-1$).\n",
    "- *student*-r.v. is defined as follows:\n",
    "  $$ t=\\frac{\\bar X-\\mu}{s_n/\\sqrt n}$$\n",
    " Note that $$ E s_n^2 = \\sigma^2$$\n",
    "- pdf of $t_n$ is\n",
    "\n",
    " $$ f_{T_n}(t)=\\frac{\\Gamma[(n+1)/2]}{\\sqrt{n\\pi}\\Gamma{[n/2]}}\\left( 1+\\frac{t^2}{n}\\right)^{-(n+1)/2}$$"
   ]
  },
  {
   "cell_type": "markdown",
   "metadata": {
    "collapsed": false
   },
   "source": [
    "As case with known varianve:\n",
    "\n",
    "\\begin{eqnarray*}\n",
    "  1 - \\alpha & = & {\\cal P} (| T | \\leqslant t_{\\alpha / 2})\\\\\n",
    "  & = & {\\cal P} \\left( \\left| \\frac{\\bar{X} -{\\mu}}{s_n /\n",
    "  \\sqrt{n}} \\right| \\leqslant t_{\\alpha / 2} \\right)\\\\\n",
    "  \\Rightarrow &  & \\left| \\frac{\\bar{X} -{\\mu}}{s_n / \\sqrt{n}} \\right|\n",
    "  \\leqslant t_{\\alpha / 2}\\\\\n",
    "  \\Rightarrow &  & \\bar{X} - t_{\\alpha / 2} \\frac{s_n}{\\sqrt{n}} \\leqslant\n",
    "  {\\mu} \\leqslant \\bar{X} + \\frac{s_n}{\\sqrt{n}} t_{\\alpha / 2}\n",
    "\\end{eqnarray*}\n",
    "i.e for random sample of sufficiently large size, the interval estimated at\n",
    "$(1 - \\alpha)$ of sample mean is\n",
    "$$ \\left[ \\bar{x} - t_{\\alpha / 2} \\frac{s_n}{\\sqrt{n}}, \\bar{x} +\n",
    "   t_{\\alpha / 2} \\frac{s_n}{\\sqrt{n}} \\right] $$"
   ]
  },
  {
   "cell_type": "markdown",
   "metadata": {},
   "source": [
    "Problem\n",
    "---\n",
    "Without assuming the population standard deviation of the student height in survey, find the margin of error and interval estimate at 95% confidence level.\n",
    "\n",
    "**Solution**\n",
    "We first filter out missing values in survey\\$Height with the na.omit function, and save it in height.response."
   ]
  },
  {
   "cell_type": "code",
   "execution_count": null,
   "metadata": {
    "collapsed": true
   },
   "outputs": [],
   "source": [
    "library(MASS)                  # load the MASS package \n",
    "height.response = na.omit(survey$Height)"
   ]
  },
  {
   "cell_type": "code",
   "execution_count": null,
   "metadata": {
    "collapsed": false
   },
   "outputs": [],
   "source": [
    "n = length(height.response) \n",
    "s = sd(height.response)        # sample standard deviation \n",
    "SE = s/sqrt(n);            # standard error estimate \n",
    "cat(sprintf(\"standard error of mean is %.3f \",SE)) "
   ]
  },
  {
   "cell_type": "code",
   "execution_count": null,
   "metadata": {
    "collapsed": false
   },
   "outputs": [],
   "source": [
    "E = qt(.975, df=n-1)*SE;     # margin of error \n",
    "cat(sprintf(\"margin of error  %.3f \",E))  "
   ]
  },
  {
   "cell_type": "code",
   "execution_count": null,
   "metadata": {
    "collapsed": false
   },
   "outputs": [],
   "source": [
    "xbar <- mean(height.response)   # sample mean \n",
    "I <- xbar + c(-E, E) \n",
    "cat(sprintf(\"Estimated interval of sample mean is [%.3f,%.3f] \",I[1],I[2]))  "
   ]
  },
  {
   "cell_type": "markdown",
   "metadata": {},
   "source": [
    "Sampling Size of Population Mean\n",
    "---\n",
    "The quality of a sample survey can be improved by increasing the sample size. The formula below provide the sample size needed under the requirement of population mean interval estimate at $(1 −\\alpha)$ confidence level, margin of error $E$, and population variance $\\sigma^2$. Here, $z_{\\alpha/2}$ is the $100(1 − \\alpha∕2)$ percentile of the standard normal distribution.\n",
    "\n",
    "\\begin{eqnarray*}\n",
    "  1 - \\alpha & = &  {\\cal P} \\left( \\left| \\frac{\\bar{X} -{\\mu}}{\\sigma /\n",
    "  \\sqrt{n}} \\right| \\leqslant z_{\\alpha / 2} \\right)\\\\\n",
    "  \\Rightarrow &  & \\left| \\frac{\\bar{x} -{\\mu}}{\\sigma / \\sqrt{n}} \\right|\n",
    "  = z_{\\alpha / 2}\\\\\n",
    "  \\Rightarrow n& = & \\frac{z_{\\alpha/2}^2\\sigma^2}{E^2}\n",
    "\\end{eqnarray*}\n",
    "where $ E=\\bar{X} -{\\mu}$\n",
    "\n"
   ]
  },
  {
   "cell_type": "markdown",
   "metadata": {},
   "source": [
    "Problem\n",
    "---\n",
    "Assume the population standard deviation σ of the student height in survey is 9.48. Find the sample size needed to achieve a 1.2 centimeters margin of error at $95\\%$ confidence level.\n",
    "\n",
    "**Solution**\n",
    "Since there are two tails of the normal distribution, the 95% confidence level would imply the 97.5th percentile of the normal distribution at the upper tail. Therefore, $z_{\\alpha/2}$ is given by qnorm(.975)."
   ]
  },
  {
   "cell_type": "markdown",
   "metadata": {},
   "source": []
  },
  {
   "cell_type": "code",
   "execution_count": null,
   "metadata": {
    "collapsed": false
   },
   "outputs": [],
   "source": [
    "zstar <- qnorm(.975) \n",
    "sigma <- 9.48 \n",
    "E <- 1.2 \n",
    "n<-zstar^2 * sigma^2/ E^2 \n",
    "cat(sprintf(\"Approximated sample size of population mean requires %d at least.\",ceiling(n)))"
   ]
  },
  {
   "cell_type": "code",
   "execution_count": null,
   "metadata": {
    "collapsed": true
   },
   "outputs": [],
   "source": [
    "answer <- function(arg1,arg2){\n",
    "    cat(sprintf(arg1,arg2))\n",
    "}"
   ]
  },
  {
   "cell_type": "code",
   "execution_count": null,
   "metadata": {
    "collapsed": false
   },
   "outputs": [],
   "source": [
    "arg1 <- \"Approximated size of samples for population mean requires %d at least.\"\n",
    "arg2 <- ceiling(n)\n",
    "answer(arg1,arg2)"
   ]
  },
  {
   "cell_type": "markdown",
   "metadata": {
    "collapsed": true
   },
   "source": [
    "Normal approximation to the binomial distribution\n",
    "---\n",
    "￼If $n$ is sufficiently large, then the statistic\n",
    "$$ Z = \\frac{􏰓x-np}{np(1 − p)} ∼ N (0, 1)$$\n",
    "\n",
    "is approximately distributed as normal with mean 0 and standard deviation 1 (i.e., the standard normal distribution). A better approximation to the normal distribution is given by \n",
    "$ Z = \\frac{􏰓x-np+0.5}{np(1 − p)}$ when $X<np$ and $ Z = \\frac{􏰓x-np-0.5}{np(1 − p)}$ when $X>np$."
   ]
  },
  {
   "cell_type": "markdown",
   "metadata": {},
   "source": [
    "Sample distribution of a proportion\n",
    "---\n",
    "For binomial distribution, consider  the sample proportion, $ \\bar p = x/ n$\n",
    "￼￼￼￼￼￼￼￼￼where $x$ is the number of successes in the sample of size $n$.\n",
    "\n",
    "- mean of $ \\bar p$: $EX/n=np/n=p$;\n",
    "- standard deviation of $ \\bar p$: $\\hbox{sd}(X)/ n=\\sqrt{np(1-p)}/n=\\sqrt{p(1-p)/n}$.\n",
    "Then\n",
    "$$ Z\\sim \\frac{\\bar p -p}{\\sqrt{p(1-p)/n}}$$\n",
    "\n",
    "This approximation is particularly good when $np > 5$ and $n(1 − p) > 5$."
   ]
  },
  {
   "cell_type": "markdown",
   "metadata": {},
   "source": [
    "Example\n",
    "---\n",
    "(Five-year survival among lung-cancer patients)\n",
    "\n",
    "Consider the five-year survival among patients under 40 years-old who have been diagnosed with lung cancer. The mean proportion 􏰓of individuals surviving is $p = 0.10$ (implying that the standard deviation of the 5-year survival is $\\sqrt{0.10(1 − 0.10)} = 0.30$).\n",
    "\n",
    "If we select repeated samples of size $n = 50$ patients diagnosed with lung cancer, what fraction of the samples will have 20% or more survivors? That is, “what percent of the time 10 $(= 50\\times0.20)$ or more patients will be alive after 5 years”?\n"
   ]
  },
  {
   "cell_type": "markdown",
   "metadata": {},
   "source": [
    "Since $np = (50)(0.1) = 5 ≥ 5$ and $n(1 − p) = (50)(0.9) = 45 > 5$, use the following normal approximation:\n",
    "\\begin{eqnarray}\n",
    "   {\\cal P}(\\bar p\\ge0.2)&=&{\\cal P}\\left( \\frac{\\bar p -p}{\\sqrt{p(1-p)/n}} \n",
    "       \\ge\\frac{0.2 -p}{\\sqrt{p(1-p)/n}}\\right)\\\\\n",
    "       &=&{\\cal P}\\left( Z\\ge\\frac{0.2 -0.1}{\\sqrt{0.1(1-0.1)/50}}\\right)\\\\\n",
    "       &=&{\\cal P}(Z\\ge2.36)=0.009\n",
    "\\end{eqnarray}"
   ]
  },
  {
   "cell_type": "code",
   "execution_count": null,
   "metadata": {
    "collapsed": false
   },
   "outputs": [],
   "source": [
    "pnorm(2.36,lower.tail=F)"
   ]
  },
  {
   "cell_type": "code",
   "execution_count": 79,
   "metadata": {
    "collapsed": false
   },
   "outputs": [
    {
     "name": "stdout",
     "output_type": "stream",
     "text": [
      "        Testing Hypothesis\n",
      "---------------------------------------\n",
      "  H0: μ ≥ 0.100 v.s. Ha: μ < 0.100\n",
      "  α level: 0.05, p-value: 0.99\n",
      "  z_α: -1.64, μ+z_α*σ/√n : 0.03\n",
      " \n",
      "       do not Reject H0\n",
      "                       α = 0.050 p = 0.991\n",
      "-----[------|-------o-------------------\n",
      "                 μ0 = 0.10\n",
      "\n",
      "x:  0.03  0.20\n",
      "Z: -1.64  2.36\n"
     ]
    }
   ],
   "source": [
    "a<-0.05\n",
    "n<-50\n",
    "mean=0.1\n",
    "\n",
    "sd=sqrt(0.1*(1-0.1))\n",
    "x0=0.2\n",
    "ztest(x=x0,n=n,mean=mean,sd=sd,alpha=a,type=\"greater\")"
   ]
  },
  {
   "cell_type": "markdown",
   "metadata": {},
   "source": [
    "Hypothesis\n",
    "---\n",
    "If it is known from previous studies that the five-year survival rate of lung cancer patients that are older than 40 years old is $p_0=$8.2%, we might want to test whether the five-year survival among the younger lung-cancer patients is the same as that of the older ones."
   ]
  },
  {
   "cell_type": "markdown",
   "metadata": {},
   "source": [
    "1. State the null hypothesis:\n",
    "  - Two-sided hypothesis: $H_0 : p = p_0$\n",
    "  - One-sidedhypothesis: $H_0 : p\\ge p_0$ or $H_0 : p\\le p_0$\n",
    "2. State the alternative hypothesis $H_1$\n",
    "  - Two-sided hypothesis: $H_1 : p\\ne p_0$\n",
    "  - One-sidedhypothesis: $H_1 :p<p_0$ or $H_1 :p>p_0$\n",
    "3. The alpha level of this test is $\\alpha$% (usually 5% or 1%)\n",
    "4. The test statistic is $Z =\\frac{\\bar p -p}{\\sqrt{p(1-p)/n}}$\n",
    "5. Reject the null hypothesis if:\n",
    "  - Two-sided hypothesis: ${\\cal P}(|Z| > z) < \\alpha$\n",
    "  - One-sided hypothesis: ${\\cal P}(Z < −z) < \\alpha$ or ${\\cal P}(Z >z) < \\alpha$ respectively\n",
    "  \n",
    " where $z$ is the observed value of the statistic: $\\frac{\\bar p -p_0}{\\sqrt{p(1-p)/n}}$"
   ]
  },
  {
   "cell_type": "markdown",
   "metadata": {},
   "source": [
    "From a sample of $n = 52$ patients under the age of 40 that have been diagnosed with lung cancer the proportion surviving after five years is $\\bar p = 0.115$.\n",
    "\n",
    "1. $H_0 : p=0.082$\n",
    "2. $H_1 : p\\ne0.082$\n",
    "3. The alpha level of this test is 0.01 (according to the textbook)\n",
    "4. The test statistic is $Z =\\frac{\\bar p -p}{\\sqrt{p(1-p)/n}}$\n",
    "5. We will reject the null hypothesis if ${\\cal P}(|Z| > z) < \\alpha$.\n",
    "\n",
    "Since $${\\cal P}(|Z| > 0.87) = {\\cal P}(Z > 0.87) + {\\cal P}(Z < −0.87) = 0.192 + 0.192 = 0.384 > 0.05,$$ \n",
    "where\n",
    "$$\\frac{\\bar p -p}{\\sqrt{p(1-p)/n}}=\\frac{0.115 -0.082}{\\sqrt{0.082(1-0.082)/52}}=0.87$$\n",
    "\n",
    "we do not reject the null hypothesis. That is, there is no evidence to indicate that the five-year survival of lung cancer patients who are younger than 40 years of age is different than that of the older patients.\n"
   ]
  },
  {
   "cell_type": "code",
   "execution_count": 77,
   "metadata": {
    "collapsed": false
   },
   "outputs": [
    {
     "data": {
      "text/html": [
       "0.867335944351128"
      ],
      "text/latex": [
       "0.867335944351128"
      ],
      "text/markdown": [
       "0.867335944351128"
      ],
      "text/plain": [
       "[1] 0.8673359"
      ]
     },
     "execution_count": 77,
     "metadata": {},
     "output_type": "execute_result"
    },
    {
     "data": {
      "text/html": [
       "0.384300404207392"
      ],
      "text/latex": [
       "0.384300404207392"
      ],
      "text/markdown": [
       "0.384300404207392"
      ],
      "text/plain": [
       "[1] 0.3843004"
      ]
     },
     "execution_count": 77,
     "metadata": {},
     "output_type": "execute_result"
    }
   ],
   "source": [
    "(0.115-0.082)/sqrt(0.082*(1-0.082)/52)\n",
    "2*pnorm(0.87,lower.tail=F)"
   ]
  },
  {
   "cell_type": "code",
   "execution_count": 76,
   "metadata": {
    "collapsed": false
   },
   "outputs": [
    {
     "name": "stdout",
     "output_type": "stream",
     "text": [
      "        Testing Hypothesis\n",
      "---------------------------------------\n",
      "  H0: μ = 0.082 v.s. Ha: μ ‡ 0.082\n",
      "  α level: 0.050, p-value: 0.3858\n",
      "  z_(α/2): -1.960, z_(1-α/2): 1.960,\n",
      "  μ+z_(α/2)*σ/√n : 0.007,   μ+z_(1-α/2)*σ/√n : 0.157\n",
      " \n",
      "              Do not Reject H0\n",
      "                       p = 0.386 α = 0.050\n",
      "               μ0 = 0.08\n",
      "\n",
      "---------[---------o------|--------]---\n",
      "x:      0.01             0.12    0.16\n",
      "Z:     -1.96             0.87     1.96\n"
     ]
    }
   ],
   "source": [
    "a<-0.05\n",
    "n<-52\n",
    "mean=0.082\n",
    "\n",
    "sd=sqrt(0.082*(1-0.082))\n",
    "x0=0.115\n",
    "ztest(x=x0,n=n,mean=mean,sd=sd,alpha=a,type=\"two\")"
   ]
  },
  {
   "cell_type": "markdown",
   "metadata": {
    "collapsed": true
   },
   "source": [
    "Serum iron levels and cystic fibrosis\n",
    "---\n",
    "In this example $\\bar x_1$ = 18μmol/l is the sample mean iron level in a sample of $n_1$ = 9 healthy children with standard deviation $s_1$ = 5.9μmol/l, and the iron levels among $n_2$ = 13 children with cystic fibrosis where $\\bar x_2$ = 11.9μmol/l and $s_2$ = 6.3μmol/l respectively.\n",
    "\n",
    "\n",
    "Then the two-sided confidence interval of the true difference in iron levels between healthy children and children with cystic fibrosis with $\\alpha=5\\%$ is"
   ]
  },
  {
   "cell_type": "code",
   "execution_count": 26,
   "metadata": {
    "collapsed": false
   },
   "outputs": [],
   "source": [
    "source(\"Rcodes/twoSampletest.R\")"
   ]
  },
  {
   "cell_type": "code",
   "execution_count": 53,
   "metadata": {
    "collapsed": false
   },
   "outputs": [
    {
     "name": "stdout",
     "output_type": "stream",
     "text": [
      "        Testing Hypothesis\n",
      "---------------------------------------\n",
      "  H0: μ1 = μ2 v.s. Ha: μ1 ‡ μ2\n",
      "  α level: 0.050, p-value: 0.0161\n",
      "  t_(20,α/2): -2.086, t_(20,1-α/2): 2.086,\n",
      "  t_(20,α/2)*s*√(1/n1+1/n2) : -5.554,   t_(20,1-α/2)*s*√(1/n1+1/n2) : 5.554\n",
      " \n",
      "              Reject H0\n",
      "                       p = 0.016 α = 0.050\n",
      "              μ1 = μ2\n",
      "-------[--------o--------]-----|---\n",
      "X:   -5.55              5.55  7.00\n",
      "T:   -2.09              2.09  2.63\n",
      "\n",
      "##(1-0.050) - confidence interval is##\n",
      "\n",
      "                   [7.000+(-5.554),7.000+(5.554)] = [1.446,12.554]\n"
     ]
    }
   ],
   "source": [
    "a<-0.05\n",
    "n1<-9\n",
    "n2<-13\n",
    "s1<-5.9\n",
    "s2<-6.3\n",
    "mean1<-18.9\n",
    "mean2<-11.9\n",
    "df<-n1+n2-2\n",
    "mean<-mean1-mean2\n",
    "\n",
    "sd<-((n1-1)*s1+(n2-1)*s2)/(n1+n2-2)\n",
    "x0<-mean1-mean2\n",
    "twoSampletest(x=x0,n1=n1,n2=n2,sd1=sd1,sd2=sd2,alpha=a,type=\"both\")"
   ]
  },
  {
   "cell_type": "code",
   "execution_count": null,
   "metadata": {
    "collapsed": true
   },
   "outputs": [],
   "source": []
  }
 ],
 "metadata": {
  "kernelspec": {
   "display_name": "R",
   "language": "R",
   "name": "ir"
  },
  "language_info": {
   "codemirror_mode": "r",
   "file_extension": ".r",
   "mimetype": "text/x-r-source",
   "name": "R",
   "pygments_lexer": "r",
   "version": "3.2.2"
  }
 },
 "nbformat": 4,
 "nbformat_minor": 0
}
