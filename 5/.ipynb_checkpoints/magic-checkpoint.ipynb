{
 "metadata": {
  "name": "",
  "signature": "sha256:f686dd172c4b667ec039053ccc921e4a9107e63a1714e67ac27bc6e55ac35d28"
 },
 "nbformat": 3,
 "nbformat_minor": 0,
 "worksheets": [
  {
   "cells": [
    {
     "cell_type": "markdown",
     "metadata": {},
     "source": [
      "# Magic\n",
      "\n",
      "What you don't have any idea is called *MAGIC*; otherwise, it is called *TRIVIAL*. "
     ]
    },
    {
     "cell_type": "markdown",
     "metadata": {},
     "source": [
      "Suppose that 100 digits, each with integer value between 0 and 9, are created by random. Take any  oans ne from the first digits and follows the following rule to do:\n",
      "\n",
      "       Move the position to the next one according to the value of chosen digit, e.g. \"3\" means moves 3 steps, and \"0\" moves 10\n",
      "       steps. Continue the process till can not move again. And I can guess the final figid what you get."
     ]
    },
    {
     "cell_type": "code",
     "collapsed": false,
     "input": [
      "import random as rd \n",
      "import numpy as np\n",
      "import scipy.stats as stats\n",
      "import numpy as np\n",
      "from ipy_table import *"
     ],
     "language": "python",
     "metadata": {},
     "outputs": [],
     "prompt_number": 2
    },
    {
     "cell_type": "code",
     "collapsed": false,
     "input": [
      "x=np.floor(np.random.uniform(0,10,100))\n",
      "xx=x.astype(int)\n",
      "y=np.reshape(x.astype(int),(10,10))"
     ],
     "language": "python",
     "metadata": {},
     "outputs": [],
     "prompt_number": 3
    },
    {
     "cell_type": "code",
     "collapsed": false,
     "input": [
      "print(y)"
     ],
     "language": "python",
     "metadata": {},
     "outputs": [
      {
       "output_type": "stream",
       "stream": "stdout",
       "text": [
        "[[2 4 0 8 0 8 7 2 9 4]\n",
        " [2 4 4 5 3 6 7 3 1 7]\n",
        " [9 8 4 4 4 4 2 4 4 3]\n",
        " [4 7 3 7 8 4 2 5 0 4]\n",
        " [8 5 5 8 0 1 5 9 4 3]\n",
        " [3 6 6 3 8 0 3 6 2 9]\n",
        " [2 8 2 9 4 0 3 6 7 6]\n",
        " [5 2 1 6 8 8 2 0 8 5]\n",
        " [3 6 5 9 9 1 2 7 5 8]\n",
        " [1 0 1 0 3 9 6 6 1 8]]\n"
       ]
      }
     ],
     "prompt_number": 4
    },
    {
     "cell_type": "code",
     "collapsed": false,
     "input": [
      "def magic(first,x):\n",
      "    i=first\n",
      "    num=[]\n",
      "    while i <= np.size(x):\n",
      "        #print(i,int(x[i]))\n",
      "        num=np.append(num,int(i))\n",
      "        if x[i-1]==0.:\n",
      "           i+=10; \n",
      "        else: i+=int(x[i-1]);\n",
      "    return num.astype(int)"
     ],
     "language": "python",
     "metadata": {},
     "outputs": [],
     "prompt_number": 5
    },
    {
     "cell_type": "code",
     "collapsed": false,
     "input": [
      "make_table(y)"
     ],
     "language": "python",
     "metadata": {},
     "outputs": [
      {
       "html": [
        "<table border=\"1\" cellpadding=\"3\" cellspacing=\"0\"  style=\"border:1px solid black;border-collapse:collapse;\"><tr><td>2</td><td>4</td><td>0</td><td>8</td><td>0</td><td>8</td><td>7</td><td>2</td><td>9</td><td>4</td></tr><tr><td>2</td><td>4</td><td>4</td><td>5</td><td>3</td><td>6</td><td>7</td><td>3</td><td>1</td><td>7</td></tr><tr><td>9</td><td>8</td><td>4</td><td>4</td><td>4</td><td>4</td><td>2</td><td>4</td><td>4</td><td>3</td></tr><tr><td>4</td><td>7</td><td>3</td><td>7</td><td>8</td><td>4</td><td>2</td><td>5</td><td>0</td><td>4</td></tr><tr><td>8</td><td>5</td><td>5</td><td>8</td><td>0</td><td>1</td><td>5</td><td>9</td><td>4</td><td>3</td></tr><tr><td>3</td><td>6</td><td>6</td><td>3</td><td>8</td><td>0</td><td>3</td><td>6</td><td>2</td><td>9</td></tr><tr><td>2</td><td>8</td><td>2</td><td>9</td><td>4</td><td>0</td><td>3</td><td>6</td><td>7</td><td>6</td></tr><tr><td>5</td><td>2</td><td>1</td><td>6</td><td>8</td><td>8</td><td>2</td><td>0</td><td>8</td><td>5</td></tr><tr><td>3</td><td>6</td><td>5</td><td>9</td><td>9</td><td>1</td><td>2</td><td>7</td><td>5</td><td>8</td></tr><tr><td>1</td><td>0</td><td>1</td><td>0</td><td>3</td><td>9</td><td>6</td><td>6</td><td>1</td><td>8</td></tr></table>"
       ],
       "metadata": {},
       "output_type": "pyout",
       "prompt_number": 6,
       "text": [
        "<ipy_table.IpyTable at 0x10358d890>"
       ]
      }
     ],
     "prompt_number": 6
    },
    {
     "cell_type": "code",
     "collapsed": false,
     "input": [
      "num=magic(3,x)\n",
      "print(num)"
     ],
     "language": "python",
     "metadata": {},
     "outputs": [
      {
       "output_type": "stream",
       "stream": "stdout",
       "text": [
        "[ 3 13 17 24 28 32 39 49 53 59 61 63 65 69 76 84 93 94]\n"
       ]
      }
     ],
     "prompt_number": 7
    },
    {
     "cell_type": "code",
     "collapsed": false,
     "input": [
      "make_table(y)\n",
      "for i in num:\n",
      "    if i==100:\n",
      "       set_cell_style(9, 9, color='pink') \n",
      "    set_cell_style((i-1)/10, (i-1)%10, color='pink')\n",
      "set_cell_style(0, 2, color='red')"
     ],
     "language": "python",
     "metadata": {},
     "outputs": [
      {
       "html": [
        "<table border=\"1\" cellpadding=\"3\" cellspacing=\"0\"  style=\"border:1px solid black;border-collapse:collapse;\"><tr><td>2</td><td>4</td><td  style=\"background-color:red;\">0</td><td>8</td><td>0</td><td>8</td><td>7</td><td>2</td><td>9</td><td>4</td></tr><tr><td>2</td><td>4</td><td  style=\"background-color:pink;\">4</td><td>5</td><td>3</td><td>6</td><td  style=\"background-color:pink;\">7</td><td>3</td><td>1</td><td>7</td></tr><tr><td>9</td><td>8</td><td>4</td><td  style=\"background-color:pink;\">4</td><td>4</td><td>4</td><td>2</td><td  style=\"background-color:pink;\">4</td><td>4</td><td>3</td></tr><tr><td>4</td><td  style=\"background-color:pink;\">7</td><td>3</td><td>7</td><td>8</td><td>4</td><td>2</td><td>5</td><td  style=\"background-color:pink;\">0</td><td>4</td></tr><tr><td>8</td><td>5</td><td>5</td><td>8</td><td>0</td><td>1</td><td>5</td><td>9</td><td  style=\"background-color:pink;\">4</td><td>3</td></tr><tr><td>3</td><td>6</td><td  style=\"background-color:pink;\">6</td><td>3</td><td>8</td><td>0</td><td>3</td><td>6</td><td  style=\"background-color:pink;\">2</td><td>9</td></tr><tr><td  style=\"background-color:pink;\">2</td><td>8</td><td  style=\"background-color:pink;\">2</td><td>9</td><td  style=\"background-color:pink;\">4</td><td>0</td><td>3</td><td>6</td><td  style=\"background-color:pink;\">7</td><td>6</td></tr><tr><td>5</td><td>2</td><td>1</td><td>6</td><td>8</td><td  style=\"background-color:pink;\">8</td><td>2</td><td>0</td><td>8</td><td>5</td></tr><tr><td>3</td><td>6</td><td>5</td><td  style=\"background-color:pink;\">9</td><td>9</td><td>1</td><td>2</td><td>7</td><td>5</td><td>8</td></tr><tr><td>1</td><td>0</td><td  style=\"background-color:pink;\">1</td><td  style=\"background-color:pink;\">0</td><td>3</td><td>9</td><td>6</td><td>6</td><td>1</td><td>8</td></tr></table>"
       ],
       "metadata": {},
       "output_type": "pyout",
       "prompt_number": 8,
       "text": [
        "<ipy_table.IpyTable at 0x1077cf250>"
       ]
      }
     ],
     "prompt_number": 8
    },
    {
     "cell_type": "code",
     "collapsed": false,
     "input": [
      "b=1\n",
      "num=magic(b,x)\n",
      "\n",
      "make_table(y)\n",
      "for i in num:\n",
      "    if i==100:\n",
      "       set_cell_style(9, 9, color='pink') \n",
      "    set_cell_style((i-1)/10, (i-1)%10, color='pink')\n",
      "set_cell_style(0, b-1, color='red')"
     ],
     "language": "python",
     "metadata": {},
     "outputs": [
      {
       "html": [
        "<table border=\"1\" cellpadding=\"3\" cellspacing=\"0\"  style=\"border:1px solid black;border-collapse:collapse;\"><tr><td  style=\"background-color:red;\">2</td><td>4</td><td  style=\"background-color:pink;\">0</td><td>8</td><td>0</td><td>8</td><td>7</td><td>2</td><td>9</td><td>4</td></tr><tr><td>2</td><td>4</td><td  style=\"background-color:pink;\">4</td><td>5</td><td>3</td><td>6</td><td  style=\"background-color:pink;\">7</td><td>3</td><td>1</td><td>7</td></tr><tr><td>9</td><td>8</td><td>4</td><td  style=\"background-color:pink;\">4</td><td>4</td><td>4</td><td>2</td><td  style=\"background-color:pink;\">4</td><td>4</td><td>3</td></tr><tr><td>4</td><td  style=\"background-color:pink;\">7</td><td>3</td><td>7</td><td>8</td><td>4</td><td>2</td><td>5</td><td  style=\"background-color:pink;\">0</td><td>4</td></tr><tr><td>8</td><td>5</td><td>5</td><td>8</td><td>0</td><td>1</td><td>5</td><td>9</td><td  style=\"background-color:pink;\">4</td><td>3</td></tr><tr><td>3</td><td>6</td><td  style=\"background-color:pink;\">6</td><td>3</td><td>8</td><td>0</td><td>3</td><td>6</td><td  style=\"background-color:pink;\">2</td><td>9</td></tr><tr><td  style=\"background-color:pink;\">2</td><td>8</td><td  style=\"background-color:pink;\">2</td><td>9</td><td  style=\"background-color:pink;\">4</td><td>0</td><td>3</td><td>6</td><td  style=\"background-color:pink;\">7</td><td>6</td></tr><tr><td>5</td><td>2</td><td>1</td><td>6</td><td>8</td><td  style=\"background-color:pink;\">8</td><td>2</td><td>0</td><td>8</td><td>5</td></tr><tr><td>3</td><td>6</td><td>5</td><td  style=\"background-color:pink;\">9</td><td>9</td><td>1</td><td>2</td><td>7</td><td>5</td><td>8</td></tr><tr><td>1</td><td>0</td><td  style=\"background-color:pink;\">1</td><td  style=\"background-color:pink;\">0</td><td>3</td><td>9</td><td>6</td><td>6</td><td>1</td><td>8</td></tr></table>"
       ],
       "metadata": {},
       "output_type": "pyout",
       "prompt_number": 10,
       "text": [
        "<ipy_table.IpyTable at 0x1077cf550>"
       ]
      }
     ],
     "prompt_number": 10
    },
    {
     "cell_type": "code",
     "collapsed": false,
     "input": [
      "b=10\n",
      "num=magic(b,x)\n",
      "\n",
      "make_table(y)\n",
      "for i in num:\n",
      "    if i==100:\n",
      "       set_cell_style(9, 9, color='pink') \n",
      "    set_cell_style((i-1)/10, (i-1)%10, color='pink')\n",
      "set_cell_style(0, b-1, color='red')"
     ],
     "language": "python",
     "metadata": {},
     "outputs": [
      {
       "html": [
        "<table border=\"1\" cellpadding=\"3\" cellspacing=\"0\"  style=\"border:1px solid black;border-collapse:collapse;\"><tr><td>2</td><td>4</td><td>0</td><td>8</td><td>0</td><td>8</td><td>7</td><td>2</td><td>9</td><td  style=\"background-color:red;\">4</td></tr><tr><td>2</td><td>4</td><td>4</td><td  style=\"background-color:pink;\">5</td><td>3</td><td>6</td><td>7</td><td>3</td><td  style=\"background-color:pink;\">1</td><td  style=\"background-color:pink;\">7</td></tr><tr><td>9</td><td>8</td><td>4</td><td>4</td><td>4</td><td>4</td><td  style=\"background-color:pink;\">2</td><td>4</td><td  style=\"background-color:pink;\">4</td><td>3</td></tr><tr><td>4</td><td>7</td><td  style=\"background-color:pink;\">3</td><td>7</td><td>8</td><td  style=\"background-color:pink;\">4</td><td>2</td><td>5</td><td>0</td><td  style=\"background-color:pink;\">4</td></tr><tr><td>8</td><td>5</td><td>5</td><td  style=\"background-color:pink;\">8</td><td>0</td><td>1</td><td>5</td><td>9</td><td>4</td><td>3</td></tr><tr><td>3</td><td  style=\"background-color:pink;\">6</td><td>6</td><td>3</td><td>8</td><td>0</td><td>3</td><td  style=\"background-color:pink;\">6</td><td>2</td><td>9</td></tr><tr><td>2</td><td>8</td><td>2</td><td  style=\"background-color:pink;\">9</td><td>4</td><td>0</td><td>3</td><td>6</td><td>7</td><td>6</td></tr><tr><td>5</td><td>2</td><td  style=\"background-color:pink;\">1</td><td  style=\"background-color:pink;\">6</td><td>8</td><td>8</td><td>2</td><td>0</td><td>8</td><td  style=\"background-color:pink;\">5</td></tr><tr><td>3</td><td>6</td><td>5</td><td>9</td><td  style=\"background-color:pink;\">9</td><td>1</td><td>2</td><td>7</td><td>5</td><td>8</td></tr><tr><td>1</td><td>0</td><td>1</td><td  style=\"background-color:pink;\">0</td><td>3</td><td>9</td><td>6</td><td>6</td><td>1</td><td>8</td></tr></table>"
       ],
       "metadata": {},
       "output_type": "pyout",
       "prompt_number": 28,
       "text": [
        "<ipy_table.IpyTable at 0x1077cf5d0>"
       ]
      }
     ],
     "prompt_number": 28
    },
    {
     "cell_type": "code",
     "collapsed": false,
     "input": [],
     "language": "python",
     "metadata": {},
     "outputs": []
    }
   ],
   "metadata": {}
  }
 ]
}