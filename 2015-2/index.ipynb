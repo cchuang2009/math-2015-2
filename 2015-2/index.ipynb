{
 "cells": [
  {
   "cell_type": "markdown",
   "metadata": {
    "internals": {
     "slide_type": "subslide"
    },
    "slideshow": {
     "slide_type": "slide"
    }
   },
   "source": [
    "Truth Behind the Scenes\n",
    "===\n",
    "\n",
    "Welcome to challenge the world!\n",
    "> Content under Creative Commons Attribution license CC-BY 4.0, code under MIT license (c)2015 C.C.Huang."
   ]
  },
  {
   "cell_type": "markdown",
   "metadata": {
    "internals": {
     "frag_number": 1,
     "slide_helper": "subslide_end"
    },
    "slide_helper": "subslide_end",
    "slideshow": {
     "slide_type": "fragment"
    }
   },
   "source": [
    "\n",
    "## Who \n",
    "---\n",
    "- cchuang, \n",
    "\n",
    "and\n",
    "\n",
    "- You"
   ]
  },
  {
   "cell_type": "markdown",
   "metadata": {
    "internals": {
     "frag_helper": "fragment_end",
     "frag_number": 1,
     "slide_helper": "subslide_end",
     "slide_type": "subslide"
    },
    "slide_helper": "subslide_end",
    "slideshow": {
     "slide_type": "subslide"
    }
   },
   "source": [
    "## How\n",
    "\n",
    "- Lectures\n",
    "- Labs\n",
    "- Home Work\n",
    "- on-line Review Quizzes\n",
    "- Group Project"
   ]
  },
  {
   "cell_type": "markdown",
   "metadata": {
    "internals": {
     "frag_helper": "fragment_end",
     "frag_number": 1,
     "slide_helper": "subslide_end",
     "slide_type": "subslide"
    },
    "slide_helper": "subslide_end",
    "slideshow": {
     "slide_type": "subslide"
    }
   },
   "source": [
    "Lecture Resources\n",
    "===\n",
    "\n",
    "- [CGU] http://diffusion.cgu.edu.tw/2015/math/2015-1\n",
    "- [github] https://github.com/cchuang2009"
   ]
  },
  {
   "cell_type": "markdown",
   "metadata": {
    "internals": {
     "frag_helper": "fragment_end",
     "frag_number": 1,
     "slide_helper": "subslide_end",
     "slide_type": "subslide"
    },
    "slide_helper": "subslide_end",
    "slideshow": {
     "slide_type": "subslide"
    }
   },
   "source": [
    "Reference Books \t\n",
    "===\n",
    "Art:\n",
    "---\n",
    "* **B. Artalay**: Math and the Mona Lisa: The art and Science of Leonardo Da Vinci\n",
    "* **Jan Steward**, The New Mathematics of the Living World,\n"
   ]
  },
  {
   "cell_type": "markdown",
   "metadata": {
    "internals": {
     "frag_helper": "fragment_end",
     "frag_number": 1,
     "slide_helper": "subslide_end",
     "slide_type": "subslide"
    },
    "slide_helper": "subslide_end",
    "slideshow": {
     "slide_type": "subslide"
    }
   },
   "source": [
    "Science and Computer:\n",
    "---\n",
    "* **Hans Petter Langtangen**: Python Scripting for Computational Science, 3rd Ed. 2007, Springer Publ.\n",
    "* **Hans Petter Langtangen**: A Primer on Scientific Programming with Python, 2012, Springer Publ.\n",
    "* **Robert K. Adair**: The Physics of Baseball 3rd Ed. 2002, Perennial.\n",
    "* **Ben O'Donnell, et. al.**: Computing the Sir Model: Fractal dimension leads to vaccination strategies.\n",
    "* **Christopher R. Myers and James P. Sethna**: Python for Education, IEEE Computing in Science and Engineering, pp 75-79  May/June, 2007.\n",
    "* **Allen Hunt**: A new Conceptual Model for Forest Fires Based on Percolation Theory, Complexity, pp 12-17, Vol 13, N.3 2008\n",
    "* ** Angela B. Shiflet and George W. Shiflet **: Introduction to Computational Science, 2014"
   ]
  },
  {
   "cell_type": "markdown",
   "metadata": {
    "internals": {
     "frag_helper": "fragment_end",
     "frag_number": 1,
     "slide_type": "subslide"
    },
    "slideshow": {
     "slide_type": "subslide"
    }
   },
   "source": [
    "Course Syllabus\n",
    "---\n",
    "Mathematics is an important field in scientific study. Nowadays, It becomes more vivid than ever due to the progress in innovatory science and introduction of modern technology, such as computers and internet. Such kind of technology also bring the new phenomena which human being always neglect or have not observed in the history. "
   ]
  },
  {
   "cell_type": "markdown",
   "metadata": {
    "internals": {
     "frag_helper": "fragment_end",
     "frag_number": 7,
     "slide_helper": "subslide_end"
    },
    "slide_helper": "slide_end",
    "slideshow": {
     "slide_type": "fragment"
    }
   },
   "source": [
    "This course will be an introduction to the mathematical modeling of systems in nature and around our life. \n",
    "\n",
    "Observations on the specific topics dicussed in the lecture would be progressed by theoretical analysis and computer simulation simulataneously with which we could explore truth and the secret behind the problems deeply  more than ever (hope so)..\n",
    "\n",
    "Though the computer skills is not the necessary in this course, pedagogy always includes an introduction to mathematical model building, exploring simple hands-on and simulated experiments using computers mathematical software.\n",
    "\n",
    "The models introduced in this course includes:\n",
    "\n",
    "- Epidemic Model: Fractal dimension leads to vaccination strategies:\n",
    "- Baseball: The reason way the slider of Chien-Ming Wang is very hard to be hit.\n",
    "- Random : How to estimate the true value of pi only by tossing a stick on ruled paper?\n",
    "- Percolation: Why does the forest fire damage human beings?\n",
    "- Weather prediction: The path of Typhoon affected by Coriolis Force.\n",
    "\n",
    "Mostly, numerical analysis will be taken to explore reality behind the selected models instead of induced by pure mathematical theory while it is too complicate to lay-in. Students will have the opportunity to develop and analyze mathematical models of real world both in continuous and discrete processes."
   ]
  },
  {
   "cell_type": "markdown",
   "metadata": {
    "internals": {
     "frag_helper": "fragment_end",
     "frag_number": 7,
     "slide_helper": "subslide_end",
     "slide_type": "subslide"
    },
    "slide_helper": "subslide_end",
    "slideshow": {
     "slide_type": "slide"
    }
   },
   "source": [
    "中文課程簡介\n",
    "---\n",
    "自從上世紀以來，數學在定性研究上有許多突破性的發展，再加上計算機軟硬體的快速進展，這就是常被用來探討生活中許多現象產生的原因。這一門課程，我們將結合兩者的長處，藉由探討實際的例子，介紹各種可以應用到學生本業的實用工具。課程涵蓋的例子，主要包含：\n",
    "\n",
    "* 花朵的模型，為什麼植物知道 Fibonacci 的級數理論?\n",
    "* 傳染病模型: 2003 SARS 為什麼像森林的火災，來勢洶洶重創台灣, 港, 大陸? Dengue Fever in Tainan.\n",
    "* 為什麼王建民的 Sinker 那麼厲害?\n",
    "* 花豹的斑紋，蛇的斑紋，為什麼跟心臟電壓有關係?\n",
    "\n",
    "這些例子所包含的數學工具，包含甚廣，從數論，微分方程，最佳化等等分析理論到圖學，隨機理論皆涵蓋，也是醫學、工程及管理領域，常見的工具，課程的另一目的，即藉由探討實際問題中，學習如何學以致用的精諦。"
   ]
  },
  {
   "cell_type": "markdown",
   "metadata": {
    "internals": {
     "frag_helper": "fragment_end",
     "frag_number": 7,
     "slide_helper": "subslide_end",
     "slide_type": "subslide"
    },
    "slide_helper": "slide_end",
    "slideshow": {
     "slide_type": "subslide"
    }
   },
   "source": [
    "[Topics]\n",
    "- [Basics of Python](8/2014-2-8.ipynb)\n",
    "- [Discrete Dynamics](1/2013-2-math-1.ipynb)\n",
    "- [Topology: Dimensions, Chaos, Fractals](2/2014-2-math-2.ipynb)\n",
    "- [Sequences: Basic of Numerics, Sound, and Images](3/2013-2-3.ipynb)\n",
    "- [Animation: Pursuit Curves, Blind men and Elephant, and Storage of Radioative Waste](4/2013-2-4-1.ipynb)\n",
    "- [Epidemic Model](14/sir.ipynb)\n",
    "- [Fly Fly to the Sky: Phugoid](5/2013-2-5-1.ipynb)\n",
    "- [Magic](5/magic.ipynb)\n",
    "- [Probability](6/2013-2-6.ipynb)\n",
    "- [Estime $\\pi$ by Buffon Needle Model](6/Buffons_Needle_Sim.ipynb)\n",
    "- [Spiral and Spots](6/reactiondiff-2.ipynb)\n",
    "- [Markov Chain: From Money Ball... ](7/2013-2-7.ipynb)\n",
    "- [Lottery](8/lottey.ipynb)\n",
    "- [Greatest Indian Rope-Strick](13/index.ipynb)\n",
    "- [Trajectory of Whale swimming](10/Analyzing whale tracks.ipynb)\n",
    "- [FIFA the Soccer](11/soccer.ipynb)\n",
    "- [Schrödinger Wall](12/widget.ipynb)\n",
    "- [Awesome Butterfly Ball: Magnus Effect](18/baseball.ipynb) \n",
    "- [Titanics Accident- Seaborn Introduction](17/titanic_seaborn.ipynb)\n",
    "- [Competition among Apple Inc, TMSC, Samsung - Pandas Introduction](20/Final.ipynb)"
   ]
  },
  {
   "cell_type": "markdown",
   "metadata": {
    "internals": {
     "frag_helper": "fragment_end",
     "frag_number": 7,
     "slide_helper": "subslide_end",
     "slide_type": "subslide"
    },
    "slide_helper": "slide_end",
    "slideshow": {
     "slide_type": "slide"
    }
   },
   "source": [
    "How to Run Codes\n",
    "---\n",
    "- get the codes from the following link(ipynb, to run on your site; html, just read)\n",
    "  - <a href=\"https://github.com/cchuang2009/math-2015-2/\">2015 Sources on GitHub</a>\n",
    "  - <a href=\"http://diffusion.cgu.edu.tw/2014/math/2014-2\">diffusion.cgu.edu.tw/2014/math/2014-2</a>\n",
    "  \n",
    "- set up the same Python/Jupyter environment to run\n",
    "  - get <a href=\"diffusion.cgu.edu.tw/ftp/porteus/\">our live linux</a>\n",
    "  -  install <a href=\"http://continuum.io/downloads\">Anaconda</a>\n",
    "    run as I ran on lecture. \n",
    "  - register a <a href=\"https://cloud.sagemath.com\">sagemath account</a>, upload the ipynb and run."
   ]
  },
  {
   "cell_type": "markdown",
   "metadata": {
    "internals": {
     "frag_helper": "fragment_end",
     "frag_number": 7,
     "slide_type": "subslide"
    },
    "slideshow": {
     "slide_type": "slide"
    }
   },
   "source": [
    "Software Requirements\n",
    "===\n",
    "\n",
    "* Python - 2.7.x or 3.4.x\n",
    "* SciPy/NumPy, Pandas, Sympy; \n",
    "* Matplotlib, seaborn, Bokeh;\n",
    "* IPython ( >2.+), ipywidgets, JSAnimation, ipy_table, \n",
    "\n",
    "<b>[Optional]</b>\n",
    "\n",
    "- ivisual (>0.1.90),"
   ]
  },
  {
   "cell_type": "code",
   "execution_count": null,
   "metadata": {
    "collapsed": false,
    "internals": {
     "frag_helper": "fragment_end",
     "frag_number": 7,
     "slide_helper": "subslide_end"
    },
    "slide_helper": "subslide_end",
    "slideshow": {
     "slide_type": "-"
    }
   },
   "outputs": [],
   "source": [
    "%install_ext https://raw.githubusercontent.com/rasbt/watermark/master/watermark.py"
   ]
  },
  {
   "cell_type": "code",
   "execution_count": null,
   "metadata": {
    "collapsed": false,
    "internals": {
     "frag_helper": "fragment_end",
     "frag_number": 7,
     "slide_helper": "subslide_end",
     "slide_type": "subslide"
    },
    "slide_helper": "subslide_end",
    "slideshow": {
     "slide_type": "subslide"
    }
   },
   "outputs": [],
   "source": [
    "%load_ext watermark\n",
    "\n",
    "%watermark -p IPython,sympy,scipy,numpy,matplotlib,pandas,seaborn,JSAnimation,scikit_image,Bokeh,nbconvert"
   ]
  },
  {
   "cell_type": "markdown",
   "metadata": {
    "internals": {
     "frag_helper": "fragment_end",
     "frag_number": 7,
     "slide_helper": "subslide_end",
     "slide_type": "subslide"
    },
    "slide_helper": "subslide_end",
    "slideshow": {
     "slide_type": "subslide"
    }
   },
   "source": [
    "Installation Howto\n",
    "---\n",
    "- install **anaconda** ( Linux, Mac, Windows);\n",
    "- register an account at **SageCloud** (Any Devices);\n",
    "- install platform on USB stick (>8G bytes) to play on your own computer or laptop "
   ]
  },
  {
   "cell_type": "markdown",
   "metadata": {
    "internals": {
     "frag_helper": "fragment_end",
     "frag_number": 7,
     "slide_helper": "subslide_end",
     "slide_type": "subslide"
    },
    "slide_helper": "subslide_end",
    "slideshow": {
     "slide_type": "subslide"
    }
   },
   "source": [
    "Grading\n",
    "---\n",
    "* Lecture Attendance: 20%\n",
    "* Computer Practices: 20%\n",
    "* Conceptual Quizzes: 30%\n",
    "* Group project AND Term Report: 30%\n",
    "\n",
    "**Final Project**\n",
    "\n",
    "-  Your chance to show off what you learned\n",
    "-  Hand-ins:\n",
    "• written paper (<= 6 pages) • screencast\n",
    "• poster\n",
    "• optional: webpage"
   ]
  },
  {
   "cell_type": "markdown",
   "metadata": {
    "internals": {
     "frag_helper": "fragment_end",
     "frag_number": 7,
     "slide_helper": "subslide_end",
     "slide_type": "subslide"
    },
    "slide_helper": "subslide_end",
    "slideshow": {
     "slide_type": "subslide"
    }
   },
   "source": [
    "Office hour \n",
    "---\n",
    "* Tuesday, 12:00 P.M. ~ 13:00 P.M.        \n",
    "* Wednesday, 12:00 P.M. ~ 13:00 P.M."
   ]
  },
  {
   "cell_type": "markdown",
   "metadata": {
    "internals": {
     "frag_helper": "fragment_end",
     "frag_number": 7,
     "slide_helper": "subslide_end",
     "slide_type": "subslide"
    },
    "slide_helper": "slide_end",
    "slideshow": {
     "slide_type": "subslide"
    }
   },
   "source": [
    "Survey\n",
    "---\n",
    "You have to follow the link to complete the survey:\n",
    "\n",
    "\n",
    "- [LoginIn](http://120.126.22.84/CGU)"
   ]
  },
  {
   "cell_type": "markdown",
   "metadata": {
    "internals": {
     "frag_helper": "fragment_end",
     "frag_number": 7,
     "slide_helper": "subslide_end",
     "slide_type": "subslide"
    },
    "slide_helper": "slide_end",
    "slideshow": {
     "slide_type": "slide"
    }
   },
   "source": [
    "### Marilvn vos Savant\n",
    "<b>\n",
    "\n",
    "         To acquire knowledge, one must study; \n",
    "         but to acquire wisdom one must observe. \n",
    "\n",
    "</b>"
   ]
  },
  {
   "cell_type": "code",
   "execution_count": null,
   "metadata": {
    "collapsed": false,
    "internals": {
     "frag_helper": "fragment_end",
     "frag_number": 7,
     "slide_helper": "subslide_end",
     "slide_type": "subslide"
    },
    "slide_helper": "subslide_end",
    "slideshow": {
     "slide_type": "slide"
    }
   },
   "outputs": [],
   "source": [
    "from IPython.core.display import HTML\n",
    "def css_styling():\n",
    "    styles = open(\"styles/custom.css\", \"r\").read()\n",
    "    return HTML(styles)\n",
    "css_styling()"
   ]
  },
  {
   "cell_type": "code",
   "execution_count": null,
   "metadata": {
    "collapsed": false,
    "internals": {
     "frag_helper": "fragment_end",
     "frag_number": 7,
     "slide_type": "subslide"
    },
    "slideshow": {
     "slide_type": "subslide"
    }
   },
   "outputs": [],
   "source": [
    "# <!-- collapse=False -->\n",
    "HtmlCode=\"\"\"\n",
    "<div class=\"stage\" style=\"width: 240px; height: 160px;\">\n",
    "<div class=\"spinner\">\n",
    "<img style=\"-webkit-transform: rotateY(0deg) translateZ(165px); -moz-transform: rotateY(0deg) translateZ(165px); -ms-transform: rotateY(0deg) translateZ(165px); padding: 0px 20px;\" src=\"imgs/ms.gif\" alt=\"\" height=\"200px\" width=\"200px\">\n",
    "<img style=\"-webkit-transform: rotateY(72deg) translateZ(165px); -moz-transform: rotateY(72deg) translateZ(165px); -ms-transform: rotateY(72deg) translateZ(165px); padding: 0px 13.5px;\" src=\"imgs/fft.gif\" alt=\"\" height=\"200px\" width=\"200px\">\n",
    "<img style=\"-webkit-transform: rotateY(144deg) translateZ(165px); -moz-transform: rotateY(144deg) translateZ(165px); -ms-transform: rotateY(144deg) translateZ(165px); padding: 0px 0px;\" src=\"imgs/elephant.gif\" alt=\"\" height=\"200px\" width=\"200px\">\n",
    "<img style=\"-webkit-transform: rotateY(216deg) translateZ(165px); -moz-transform: rotateY(216deg) translateZ(165px); -ms-transform: rotateY(216deg) translateZ(165px); padding: 0px 13.5px;\" src=\"imgs/traj.png\" alt=\"\" height=\"200px\" width=\"200px\">\n",
    "<img style=\"-webkit-transform: rotateY(288deg) translateZ(165px); -moz-transform: rotateY(288deg) translateZ(165px); -ms-transform: rotateY(288deg) translateZ(165px); padding: 0px 1px;\" src=\"imgs/Monalisa.png\" alt=\"\" height=\"300px\" width=\"200px\">\n",
    "</div>\n",
    "</div>\n",
    "<p><p><p>\n",
    "\"\"\"\n",
    "HTML(HtmlCode)"
   ]
  },
  {
   "cell_type": "code",
   "execution_count": null,
   "metadata": {
    "collapsed": false,
    "internals": {
     "frag_helper": "fragment_end",
     "frag_number": 7,
     "slide_helper": "subslide_end"
    },
    "slide_helper": "slide_end",
    "slideshow": {
     "slide_type": "skip"
    }
   },
   "outputs": [],
   "source": []
  },
  {
   "cell_type": "code",
   "execution_count": null,
   "metadata": {
    "collapsed": false,
    "internals": {
     "frag_helper": "fragment_end",
     "frag_number": 7,
     "slide_helper": "subslide_end",
     "slide_type": "subslide"
    },
    "slide_helper": "slide_end",
    "slideshow": {
     "slide_type": "slide"
    }
   },
   "outputs": [],
   "source": [
    "from IPython.display import YouTubeVideo,Image\n",
    "#  Dean Martin - Mona Lisa \n",
    "YouTubeVideo('iRe6AZlswmw')"
   ]
  },
  {
   "cell_type": "code",
   "execution_count": null,
   "metadata": {
    "collapsed": false
   },
   "outputs": [],
   "source": [
    "Image('imgs/vermeer-01x.jpg')"
   ]
  },
  {
   "cell_type": "code",
   "execution_count": null,
   "metadata": {
    "collapsed": false
   },
   "outputs": [],
   "source": [
    "Image('imgs/vermeer-2x.jpg')"
   ]
  },
  {
   "cell_type": "code",
   "execution_count": null,
   "metadata": {
    "collapsed": false
   },
   "outputs": [],
   "source": [
    "Image('imgs/PicassoGuernica.jpg')"
   ]
  },
  {
   "cell_type": "markdown",
   "metadata": {
    "internals": {
     "frag_helper": "fragment_end",
     "frag_number": 7,
     "slide_type": "subslide"
    },
    "slideshow": {
     "slide_type": "slide"
    }
   },
   "source": [
    "## What The Golden ratio is\n"
   ]
  },
  {
   "cell_type": "markdown",
   "metadata": {
    "internals": {
     "frag_helper": "fragment_end",
     "frag_number": 24,
     "slide_helper": "subslide_end"
    },
    "slide_helper": "slide_end",
    "slideshow": {
     "slide_type": "fragment"
    }
   },
   "source": [
    "$$\\gamma \\sim1.6180339887498949 \\quad\\left(= \\frac{1+\\sqrt 5}{2}\\right)$$"
   ]
  },
  {
   "cell_type": "markdown",
   "metadata": {
    "internals": {
     "frag_helper": "fragment_end",
     "frag_number": 24,
     "slide_type": "subslide"
    },
    "slideshow": {
     "slide_type": "slide"
    }
   },
   "source": [
    "# Secrect in Art"
   ]
  },
  {
   "cell_type": "markdown",
   "metadata": {
    "internals": {
     "frag_helper": "fragment_end",
     "frag_number": 26,
     "slide_helper": "subslide_end"
    },
    "slide_helper": "subslide_end",
    "slideshow": {
     "slide_type": "fragment"
    }
   },
   "source": [
    "Mona Lisa\n",
    "---\n",
    "<table>\n",
    "<tr><td><img src=\"imgs/Monalisa.png\" width=40% /></td>\n",
    "    <td>What is the relation between $\\gamma$ and this materpiece?</td>\n",
    "</tr>\n",
    "</table>"
   ]
  },
  {
   "cell_type": "markdown",
   "metadata": {},
   "source": [
    "Histogram equalization\n",
    "---\n",
    "takes a grayscale image and attempts to distribute intensity more evenly along the range of possible values. Pixels still rank the same (a coordinate with a higher value than another will still have a higher value after the transform), but the image as a whole becomes far more contrasted and normalized."
   ]
  },
  {
   "cell_type": "code",
   "execution_count": null,
   "metadata": {
    "collapsed": false
   },
   "outputs": [],
   "source": [
    "from skimage.color import rgb2gray\n",
    "from skimage.exposure import equalize_hist\n",
    "\n",
    "def show_images(images,titles=None):\n",
    "    \"\"\"Display a list of images\"\"\"\n",
    "    n_ims = len(images)\n",
    "    if titles is None: titles = ['(%d)' % i for i in range(1,n_ims + 1)]\n",
    "    fig = plt.figure()\n",
    "    n = 1\n",
    "    for image,title in zip(images,titles):\n",
    "        a = fig.add_subplot(1,n_ims,n) # Make subplot\n",
    "        if image.ndim == 2: # Is image grayscale?\n",
    "            plt.gray() # Only place in this blog you can't replace 'gray' with 'grey'\n",
    "        plt.imshow(image)\n",
    "        a.set_title(title)\n",
    "        n += 1\n",
    "    fig.set_size_inches(np.array(fig.get_size_inches()) * n_ims)\n",
    "    plt.show()\n",
    "\n",
    "gray_image = rgb2gray(Monalisa)\n",
    "\n",
    "\n",
    "equalized_image = equalize_hist(gray_image)\n",
    "\n",
    "show_images(images=[Monalisa,gray_image,equalized_image ],\n",
    "            titles=[\"Color\",\"Grayscale\",\"Histogram Equalized\"])\n"
   ]
  },
  {
   "cell_type": "code",
   "execution_count": null,
   "metadata": {
    "collapsed": false,
    "internals": {
     "frag_helper": "fragment_end",
     "frag_number": 26,
     "slide_helper": "subslide_end",
     "slide_type": "subslide"
    },
    "slide_helper": "subslide_end",
    "slideshow": {
     "slide_type": "subslide"
    }
   },
   "outputs": [],
   "source": [
    "%matplotlib inline\n",
    "\n",
    "import matplotlib.pyplot as plt\n",
    "import numpy as np\n",
    "from skimage.segmentation import slic,mark_boundaries\n",
    "from skimage.data import lena\n",
    "from skimage.util import img_as_float\n",
    "import skimage.io as io"
   ]
  },
  {
   "cell_type": "code",
   "execution_count": null,
   "metadata": {
    "collapsed": false,
    "internals": {
     "frag_helper": "fragment_end",
     "frag_number": 26,
     "slide_helper": "subslide_end",
     "slide_type": "subslide"
    },
    "slide_helper": "subslide_end",
    "slideshow": {
     "slide_type": "subslide"
    }
   },
   "outputs": [],
   "source": [
    "Monalisa = io.imread('imgs/Monalisa.png')\n",
    "print('image shape:', Monalisa.shape)\n",
    "io.imshow(Monalisa)\n",
    "#io.show()"
   ]
  },
  {
   "cell_type": "code",
   "execution_count": null,
   "metadata": {
    "collapsed": false,
    "internals": {
     "frag_helper": "fragment_end",
     "frag_number": 26,
     "slide_helper": "subslide_end",
     "slide_type": "subslide"
    },
    "slide_helper": "subslide_end",
    "slideshow": {
     "slide_type": "subslide"
    }
   },
   "outputs": [],
   "source": [
    "import skimage \n",
    "Monalisa_zoom = Monalisa[55:320, 120:280]\n",
    "#Monalisa_filter=skimage.restoration.denoise_tv_chambolle(Monalisa_zoom, weight=0.1)\n",
    "io.imshow(Monalisa_zoom) #io.imshow(Monalisa_filter)"
   ]
  },
  {
   "cell_type": "code",
   "execution_count": null,
   "metadata": {
    "collapsed": false,
    "internals": {
     "frag_helper": "fragment_end",
     "frag_number": 26,
     "slide_helper": "subslide_end",
     "slide_type": "subslide"
    },
    "slide_helper": "subslide_end",
    "slideshow": {
     "slide_type": "subslide"
    }
   },
   "outputs": [],
   "source": [
    "# Estimate the ratio of height/width of beautiful face we catched\n",
    "RR=(320-55)/(280.-120)\n",
    "Error=(RR-1.618)/1.618\n",
    "print(RR)\n",
    "print('error = %s' %Error)"
   ]
  },
  {
   "cell_type": "markdown",
   "metadata": {},
   "source": [
    "## What about 1.65625"
   ]
  },
  {
   "cell_type": "markdown",
   "metadata": {
    "internals": {
     "frag_helper": "fragment_end",
     "frag_number": 26,
     "slide_type": "subslide"
    },
    "slideshow": {
     "slide_type": "subslide"
    }
   },
   "source": [
    "Sunflower\n",
    "---"
   ]
  },
  {
   "cell_type": "code",
   "execution_count": null,
   "metadata": {
    "collapsed": false,
    "internals": {
     "frag_helper": "fragment_end",
     "frag_number": 32,
     "slide_helper": "subslide_end"
    },
    "slide_helper": "subslide_end",
    "slideshow": {
     "slide_type": "fragment"
    }
   },
   "outputs": [],
   "source": [
    "from IPython.display import Image\n",
    "Image(\"imgs/sunflower121.png\")"
   ]
  },
  {
   "cell_type": "code",
   "execution_count": null,
   "metadata": {
    "collapsed": false,
    "internals": {
     "frag_helper": "fragment_end",
     "frag_number": 32,
     "slide_type": "subslide"
    },
    "slideshow": {
     "slide_type": "subslide"
    }
   },
   "outputs": [],
   "source": [
    "55/34."
   ]
  },
  {
   "cell_type": "markdown",
   "metadata": {
    "internals": {
     "frag_helper": "fragment_end",
     "frag_number": 34,
     "slide_helper": "subslide_end"
    },
    "slide_helper": "slide_end",
    "slideshow": {
     "slide_type": "fragment"
    }
   },
   "source": [
    "<div align=\"center\"><font color=\"red\" size=14>It is very close to $\\gamma$!</font></div>"
   ]
  },
  {
   "cell_type": "markdown",
   "metadata": {
    "internals": {
     "frag_helper": "fragment_end",
     "frag_number": 34,
     "slide_helper": "subslide_end",
     "slide_type": "subslide"
    },
    "slide_helper": "subslide_end",
    "slideshow": {
     "slide_type": "slide"
    }
   },
   "source": [
    "## Fibonicci Sequence\n",
    "The term follows the following rules:<br>\n",
    "\\begin{aligned}\n",
    "f_0,f_1 &=&1, \\\\\n",
    "f_2&=&f_0+f_1=2,\\\\\n",
    "   \\vdots\\\\\n",
    "f_{n+1}&=&f_n+f_{n-1}, n=1,2,3,\n",
    "\\end{aligned}\n",
    "\n",
    "This means:<br>\n",
    "$$\\{f_n\\}^{\\infty}_0 = 1,1,2,3,5,8,13,21,34,55,89,\\cdots$$"
   ]
  },
  {
   "cell_type": "markdown",
   "metadata": {
    "internals": {
     "frag_helper": "fragment_end",
     "frag_number": 34,
     "slide_type": "subslide"
    },
    "slideshow": {
     "slide_type": "subslide"
    }
   },
   "source": [
    "Limit of Rotio of Sequences\n",
    "---\n",
    "As well-known:\n",
    "$$\\mathbf{f_n=C_1\\left(\\frac{1+\\sqrt5}{2}\\right)^n+C_2\\left(\\frac{\\sqrt 5 -1}{2}\\right)^n}$$\n"
   ]
  },
  {
   "cell_type": "markdown",
   "metadata": {
    "internals": {
     "frag_helper": "fragment_end",
     "frag_number": 37,
     "slide_helper": "subslide_end"
    },
    "slide_helper": "subslide_end",
    "slideshow": {
     "slide_type": "fragment"
    }
   },
   "source": [
    "### Conclusion\n",
    "---\n",
    "$$\\mathbf{\\lim\\limits_{n\\to\\infty}\\frac{f_{n+1}}{f_n}=\\frac{1+\\sqrt5}{2}\\sim1.6180339887498949}$$\n",
    "\n",
    "<font color=\"red\"><b>Just the Golden Ratio!</b></font>"
   ]
  },
  {
   "cell_type": "markdown",
   "metadata": {
    "internals": {
     "frag_helper": "fragment_end",
     "frag_number": 37,
     "slide_helper": "subslide_end",
     "slide_type": "subslide"
    },
    "slide_helper": "slide_end",
    "slideshow": {
     "slide_type": "subslide"
    }
   },
   "source": [
    "## Math Description\n",
    "Replace the $\\mathbf{f_n=a r^{n}}$:\n",
    "\\begin{eqnarray}\n",
    "\\mathbf{f_{n+1}=f_n+f_{n-1}}&\\Longrightarrow&r^2=r+1\\\\\n",
    "r&=&\\left(\\frac{1+\\sqrt5}{2}\\right)\\text{ or }\\left(\\frac{\\sqrt 5 -1}{2}\\right)\n",
    "\\end{eqnarray}\n",
    "This proves:\n",
    "$$\\mathbf{f_n=C_1\\left(\\frac{1+\\sqrt5}{2}\\right)^n+C_2\\left(\\frac{\\sqrt 5 -1}{2}\\right)^n}$$\n"
   ]
  },
  {
   "cell_type": "markdown",
   "metadata": {},
   "source": [
    "Unit In Radical Degree\n",
    "---\n",
    "\n",
    "$$\\frac{1+\\sqrt5}{2}( \\quad\\times360^\\circ\\mod 360^\\circ)\\to 222.49223595^\\circ$$\n",
    "or congrunt to\n",
    "$$ 360^\\circ-222.49223595^\\circ=137.50776405003785^\\circ$$"
   ]
  },
  {
   "cell_type": "code",
   "execution_count": null,
   "metadata": {
    "collapsed": false,
    "internals": {
     "frag_helper": "fragment_end",
     "frag_number": 40,
     "slide_helper": "subslide_end"
    },
    "slide_helper": "slide_end",
    "slideshow": {
     "slide_type": "fragment"
    }
   },
   "outputs": [],
   "source": [
    "360-360*1.618%360"
   ]
  },
  {
   "cell_type": "code",
   "execution_count": null,
   "metadata": {
    "collapsed": false
   },
   "outputs": [],
   "source": [
    "360/((1.+np.sqrt(5.))/2.)**2"
   ]
  },
  {
   "cell_type": "markdown",
   "metadata": {},
   "source": [
    "## The Code the plants already know\n",
    "\n",
    "$$\\theta=\\lim\\limits_{n\\to\\infty}\\frac{a_{n-2}}{a_n}\\cdot360^\\circ$$"
   ]
  },
  {
   "cell_type": "markdown",
   "metadata": {},
   "source": [
    "\n",
    "Around the center of plant's organ, called *apex*, there are primodiums. The primodium will grows from inner to outside.\n",
    "\n",
    "The primodiums grow in the angle, $\\theta=137.5$, to get the maximal sunshine, biologists say."
   ]
  },
  {
   "cell_type": "markdown",
   "metadata": {},
   "source": [
    "While the growing, there are two spirals created, called generated and divergent spirals. The former is created in the angle between the directions of consective primodiums they grows , and the other is the angle between the tops of positions of consective primodiums:\n",
    "<br>\n",
    "<table>\n",
    "<tr>\n",
    "   <td><img src=\"imgs/sunflower1.png\">\n",
    "   <td><img src=\"imgs/sunflower2.png\">\n",
    "</tr>\n",
    "</table>"
   ]
  },
  {
   "cell_type": "markdown",
   "metadata": {},
   "source": [
    "### Note that 34,55 are Fibonicci numbers!"
   ]
  },
  {
   "cell_type": "code",
   "execution_count": null,
   "metadata": {
    "collapsed": false
   },
   "outputs": [],
   "source": [
    "55/34."
   ]
  },
  {
   "cell_type": "code",
   "execution_count": null,
   "metadata": {
    "collapsed": false
   },
   "outputs": [],
   "source": [
    "from numpy import pi,sin,cos,sqrt\n",
    "plt.figure(figsize=(6,6))\n",
    "plt.xlim(-25,25)\n",
    "plt.ylim(-25,25)\n",
    "\n",
    "c=1;r=1;num=500;\n",
    "\n",
    "for n in np.arange(1,num):\n",
    "  R=c*sqrt(n-1);\n",
    "  rr=float(n)/float(num)+0.3;\n",
    "  size=0.6*(2+4*n/float(num))  \n",
    "\n",
    "  angle=(n-1)*pi*137.5/180. #best angle about 137.5\n",
    "  x=R*cos(angle);y=R*sin(angle)\n",
    "  plt.scatter(x, y,c='r', s=size*80, alpha=0.4)"
   ]
  },
  {
   "cell_type": "markdown",
   "metadata": {
    "internals": {
     "frag_helper": "fragment_end",
     "frag_number": 40,
     "slide_helper": "subslide_end",
     "slide_type": "subslide"
    },
    "slide_helper": "subslide_end",
    "slideshow": {
     "slide_type": "slide"
    }
   },
   "source": [
    "Animation Show\n",
    "---\n",
    "One Pictire is better than one thousand words, and one animation is better than one thousand pictures.\n",
    "\n",
    "To simulate the plants' growth model, let the points expand by degree, $137.52^\\circ$, toward outside."
   ]
  },
  {
   "cell_type": "code",
   "execution_count": null,
   "metadata": {
    "collapsed": false,
    "internals": {
     "frag_helper": "fragment_end",
     "frag_number": 40,
     "slide_helper": "subslide_end",
     "slide_type": "subslide"
    },
    "slide_helper": "subslide_end",
    "slideshow": {
     "slide_type": "subslide"
    }
   },
   "outputs": [],
   "source": [
    "from JSAnimation.IPython_display import display_animation\n",
    "import matplotlib.pyplot as plt\n",
    "from matplotlib import animation\n",
    "import numpy as np\n",
    "\n",
    "fig = plt.figure(figsize=(6,6))\n",
    "\n",
    "ax = plt.axes(xlim=(-2, 2), ylim=(-2, 2),aspect=\"equal\");\n",
    "#ar=137.52\n",
    "ar=139.5\n",
    "r0=0.1\n",
    "r=0.03\n",
    "deg2rad=np.pi/180.\n",
    "c = ax.add_patch(plt.Circle((0, 0), radius=r0,color=\"#ff0000\",facecolor='none'))\n",
    "Nframes = 50\n",
    "def animate(nframe):\n",
    "    f = nframe\n",
    "    rm=r0+np.sqrt(f)*0.014\n",
    "    ang=f*ar*deg2rad\n",
    "    gam= 0.5*(1.4-f/float(Nframes))\n",
    "    c = ax.add_patch(plt.Circle((r*f*np.cos(ang), r*f*np.sin(ang)), radius=rm, color=\"red\",facecolor='none',alpha=gam))\n",
    "    return c"
   ]
  },
  {
   "cell_type": "code",
   "execution_count": null,
   "metadata": {
    "collapsed": false,
    "internals": {
     "frag_helper": "fragment_end",
     "frag_number": 40,
     "slide_helper": "subslide_end",
     "slide_type": "subslide"
    },
    "slide_helper": "slide_end",
    "slideshow": {
     "slide_type": "subslide"
    }
   },
   "outputs": [],
   "source": [
    "anim = animation.FuncAnimation(fig, animate, frames=Nframes, interval=100)\n",
    "display_animation(anim, default_mode='once')\n"
   ]
  },
  {
   "cell_type": "markdown",
   "metadata": {
    "internals": {
     "frag_helper": "fragment_end",
     "frag_number": 40,
     "slide_helper": "subslide_end",
     "slide_type": "subslide"
    },
    "slide_helper": "slide_end",
    "slideshow": {
     "slide_type": "slide"
    }
   },
   "source": [
    "## Review Exercise:\n",
    "\n",
    "1. Consider the image <img  size=10% src=\"imgs/Chrysanthemum.png\"> Dive out the concern golden ratio."
   ]
  },
  {
   "cell_type": "markdown",
   "metadata": {
    "slideshow": {
     "slide_type": "fragment"
    }
   },
   "source": [
    "Review Exercise\n",
    "---\n",
    "Dive out the concern golden ratio hidden in the above picture."
   ]
  },
  {
   "cell_type": "markdown",
   "metadata": {
    "slideshow": {
     "slide_type": "slide"
    }
   },
   "source": [
    "All Perfeact?\n",
    "---\n",
    "Not all plants grow by using the congrant angle, $137.52^\\circ$, reference above. But how does the quantity affect the plants' shape?\n",
    "\n"
   ]
  },
  {
   "cell_type": "code",
   "execution_count": null,
   "metadata": {
    "collapsed": false,
    "slideshow": {
     "slide_type": "subslide"
    }
   },
   "outputs": [],
   "source": [
    "%matplotlib inline\n",
    "import matplotlib.pyplot as plt\n",
    "import numpy as np\n",
    "from ipywidgets import interactive\n",
    "from IPython.display import display"
   ]
  },
  {
   "cell_type": "code",
   "execution_count": null,
   "metadata": {
    "collapsed": true,
    "slideshow": {
     "slide_type": "subslide"
    }
   },
   "outputs": [],
   "source": [
    "def flowerReplicate(ar=137.52):\n",
    "    fig = plt.figure(figsize=(6,6))\n",
    "    ax = plt.axes(xlim=(-2, 2), ylim=(-2, 2),aspect=\"equal\");\n",
    "\n",
    "    r0=0.1\n",
    "    r=0.03\n",
    "    deg2rad=np.pi/180.\n",
    "    c = ax.add_patch(plt.Circle((0, 0), radius=r0,color=\"#ff0000\"))\n",
    "    N = 80\n",
    "    for i in np.arange(N):\n",
    "        rm=r0+np.sqrt(i)*0.014\n",
    "        ang=i*ar*deg2rad\n",
    "        gam= 0.5*(1.4-i/float(N))\n",
    "        c = ax.add_patch(plt.Circle((r*i*np.cos(ang), r*i*np.sin(ang)), radius=rm, color=\"red\",alpha=gam))\n",
    "    return c"
   ]
  },
  {
   "cell_type": "code",
   "execution_count": null,
   "metadata": {
    "collapsed": false,
    "slideshow": {
     "slide_type": "subslide"
    }
   },
   "outputs": [],
   "source": [
    "w = interactive(flowerReplicate, ar=(136.,140.,0.2))\n",
    "display(w)"
   ]
  },
  {
   "cell_type": "markdown",
   "metadata": {},
   "source": [
    "Dowry Problem\n",
    "---\n",
    "A sultan has granted a commoner a chance to marry one of his $n$ daughters, (for instance $n=100$). The commoner will be presented with the daughters one at a time and, when each daughter is presented, the commoner will be told the daughter's dowry (which is fixed in advance). Upon being presented with a daughter, the commoner must immediately decide whether to accept or reject her (he is not allowed to return to a previously rejected daughter). However, the sultan will allow the marriage to take place only if the commoner picks the daughter with the overall highest dowry. Then what is the commoner's best strategy, assuming he knows nothing about the distribution of dowries (Mosteller 1987)?\n",
    "\n",
    "References\n",
    "---\n",
    "\n",
    "1. Havil, J. \"Optimal Choice.\" §13.13 in Gamma: Exploring Euler's Constant. Princeton, NJ: Princeton University Press, pp. 34-138, 2003.\n",
    "2. Honsberger, R. \"Some Surprises in Probability.\" Ch. 5 in Mathematical Plums (Ed. R. Honsberger). Washington, DC: Math. Assoc. Amer., pp. 104-110, 1979.\n",
    "3. Mosteller, F. \"Choosing the Largest Dowry.\" Problem 47 in Fifty Challenging Problems in Probability with Solutions. New York: Dover, pp. 73-77, 1987.\n",
    "4. Sloane, N. J. A. Sequences A007676/M0869, A007677/M2343, A054404 and A068985 in \"The On-Line Encyclopedia of Integer Sequences.\"\n"
   ]
  },
  {
   "cell_type": "markdown",
   "metadata": {},
   "source": [
    "a). Since we do not know anything about the distribution of the dowries, it seems that a reasonable strategy is \n",
    "\n",
    "<font color=\"brown\">\n",
    "to wait until a certain number $k$ of daughters have been presented, and then pick the highest dowry thereafter.\n",
    "</fon>"
   ]
  },
  {
   "cell_type": "markdown",
   "metadata": {},
   "source": [
    "b). Let $D$ be the position of the highest dowry, e.g. $D = 1$ if the first daughter is that with the highest dowry, $D = 2$ if the second daughter is that with the highest dowry. "
   ]
  },
  {
   "cell_type": "markdown",
   "metadata": {},
   "source": [
    "c). The best strategy is:\n",
    "    $$\\cal P(\\text{Win})=\\sum_{i=1}^n  P(\\text{Win}|D=i)P(D=i)$$"
   ]
  },
  {
   "cell_type": "markdown",
   "metadata": {},
   "source": [
    "Induction\n",
    "---\n",
    "i). $P(D=i)=1/n$;\n",
    "\n",
    "ii). The probability that you will choose the largest dowry if it is in the $i$th position is equal to the probability that the highest of the first $i − 1$ dowries belongs to one of the first $k$ daughters. This equals $k/(i − 1)$. If the highest dowry of the first $i − 1$ were not in the first $k$ daughter​s you would choose it before getting to the largest dowry, thus losing the game.\n",
    "\n",
    "\n",
    "\n",
    "```\n",
    "     Max among [1,i-1]              D\n",
    "1 2  3 ... {k}  k+1 ... i-2   i-1  [i]  i+1 ...\n",
    "                 -       -     -    +\n",
    "  loss(0)        |    win(1)\n",
    "\n",
    "         prob max at i > [1,k] = k/(i-1)   \n",
    "\n",
    "```\n",
    "\n",
    "The probability of winning is then given by\n",
    "$$\n",
    "\\pi_k=0\\cdot P(i\\le k)+1\\cdot P(i>k)=\\frac{1}{n}\\sum_{i=k+1}^{n}\\frac{k}{i-1}\n",
    "$$\n",
    "\n",
    "Now you want to choose $k$ such that this probability is maximum. "
   ]
  },
  {
   "cell_type": "markdown",
   "metadata": {},
   "source": [
    "iii). Note that\n",
    "$$\\ln(m)\\approx1+\\frac{1}{1}+\\frac{1}{2}+\\cdots+\\frac{1}{m};$$\n",
    "\n",
    "And then\n",
    "$$\\pi_k\\approx\\frac{k}{n}(\\ln n-\\ln k)=-\\frac{k}{n}\\ln (k/n).$$\n",
    "\n",
    "iv). To get the maximal $k$, consider the maximum of following function, $(x=k/n)$: \n",
    "$$ f(x)=-x \\ln x, 0<x<1$$\n",
    "\n",
    "And the maximum is $ x=1/e$, where $e$ is Euler number."
   ]
  },
  {
   "cell_type": "markdown",
   "metadata": {},
   "source": [
    "Conclusion\n",
    "---\n",
    "In general the answer is going to pass on $n/e$ ladies, where $n$ is the total number of daughter​s. Because the answer must be an **exact integer**, check the few integers just above the optimal value.\n",
    "\n",
    "i.e. $k=37$ if $n=100$ since $n/e\\approx36.787$\n",
    "\n",
    "The best strategy is choose the $i$-daughter after 37 daugher and owning dowry a little high thereafter."
   ]
  },
  {
   "cell_type": "code",
   "execution_count": null,
   "metadata": {
    "collapsed": false
   },
   "outputs": [],
   "source": [
    "100/2.71828"
   ]
  },
  {
   "cell_type": "code",
   "execution_count": null,
   "metadata": {
    "collapsed": false
   },
   "outputs": [],
   "source": [
    "eps=1e-6\n",
    "x=np.linspace(0+eps,1,101)\n",
    "\n",
    "plt.plot(x,-x*np.log(x))\n",
    "plt.plot((1/np.e,1/np.e),(0,0.5))\n",
    "plt.text(0.4,0.4,'$(e,1/e)$',size=20)"
   ]
  },
  {
   "cell_type": "markdown",
   "metadata": {
    "internals": {
     "frag_helper": "fragment_end",
     "frag_number": 40,
     "slide_helper": "subslide_end",
     "slide_type": "subslide"
    },
    "slide_helper": "subslide_end",
    "slideshow": {
     "slide_type": "slide"
    }
   },
   "source": [
    "Sound\n",
    "==="
   ]
  },
  {
   "cell_type": "code",
   "execution_count": null,
   "metadata": {
    "collapsed": true
   },
   "outputs": [],
   "source": [
    "from IPython.display import Audio, Image\n",
    "#from __future__ import division \n",
    "from numpy import pi,sin,exp,cos\n",
    "import numpy as np\n",
    "import matplotlib.pylab as plt"
   ]
  },
  {
   "cell_type": "markdown",
   "metadata": {},
   "source": [
    "Basic of Sound\n",
    "---\n",
    "is a sine or cosine function over time.\n",
    "\n",
    "$$ X(t) = A \\cos(\\omega t+\\theta)$$\n",
    "\n",
    "where\n",
    "\n",
    "* $A$ is the *amplitude* of the sinusoid.\n",
    "* $\\omega$ is the *frequency* (in radians per second).  $\\omega=2\\pi f$ where $f$ is the frequency in cycles per second (Hertz, abbreviated Hz).\n",
    "* $f=1/T$ where $T$ is the *period* of the sinusoid, i.e., the sinusoid repeats every $T$ seconds.\n",
    "* $\\theta$ is a *phase offset*, in radians. \n"
   ]
  },
  {
   "cell_type": "markdown",
   "metadata": {},
   "source": [
    "|Note|\tFrequency (Hz)|\tWavelength (cm)|\n",
    "|:---:|:---:|:---:|\n",
    "|$C_0$\t|16.35\t|2109.89|\n",
    "| $C^\\hbox{#}_0$/$D^b_0$ |\t17.32|\t1991.47|\n",
    "|$D_0$|\t18.35\t|1879.69|\n",
    " |$D^\\hbox{#}_0$/$E^b_0$ | \t19.45\t|1774.20|\n",
    "|$E_0$|\t20.60|\t1674.62|\n",
    "|$F_0$\t|21.83\t|1580.63|\n",
    "| $F^\\hbox{#}_0$/$G^b_0$ |\t23.12\t|1491.91|\n",
    "|$G_0$|\t24.50\t|1408.18|\n",
    "| $G^\\hbox{#}_0$/$A^b_0$ \t|25.96\t|1329.14|\n",
    "|$A_0$\t|27.50|\t1254.55|\n",
    "|$A^\\hbox{#}_0$/$B^b_0$ |\t29.14\t|1184.13|\n",
    "|$B_0$|\t30.87\t|1117.67|\n",
    "|$C_1$\t|32.70\t|1054.94|\n",
    "| $C^\\hbox{#}_1$/$D^b_1$|\t34.65\t|995.73|\n",
    "|$D_1$\t|36.71\t|939.85|\n",
    "| $D^\\hbox{#}_1$/$E^b_1$ |\t38.89\t|887.10|\n",
    "|$E_1$\t|41.20\t|837.31|\n",
    "|$F_1$\t|43.65\t|790.31|\n",
    "| $F^\\hbox{#}_1$/$G^b_1$ |\t46.25\t|745.96|\n",
    "|$G_1$\t|49.00\t|704.09|\n",
    "| $G^\\hbox{#}_1$/$A^b_1 $|\t51.91\t|664.57|\n",
    "|$A_1$\t|55.00|\t627.27|\n",
    "|$A^\\hbox{#}_1$/$B^b_1$ |\t58.27\t|592.07|\n",
    "|$B_1$\t|61.74|\t558.84|\n",
    "|$C_2$\t|65.41|\t527.47|\n",
    "| $C^\\hbox{#}_2$/$D^b_2$ |\t69.30|\t497.87|\n",
    "|$D_2$\t|73.42|\t469.92|\n",
    " |$D^\\hbox{#}_2$/$E^b_2$ |\t77.78|\t443.55|\n",
    "|$E_2$\t|82.41|\t418.65|\n",
    "|$F_2$\t|87.31|\t395.16|\n",
    " |$F^\\hbox{#}_2$/$G^b_2$ |\t92.50|\t372.98|\n",
    "|$G_2$\t|98.00|\t352.04|\n",
    " |$G^\\hbox{#}_2$/$A^b_2 $|\t103.83\t|332.29|\n",
    "|$A_2$\t|110.00|\t313.64|\n",
    "| $A^\\hbox{#}_2$/$B^b_2$\t|116.54\t|296.03|\n",
    "|$B_2$\t|123.47\t|279.42|\n",
    "|$C_3$\t|130.81\t|263.74|\n",
    " |$C^\\hbox{#}_3$/$D^b_3$\t|138.59\t|248.93|\n",
    "|$D_3$\t|146.83|\t234.96|\n",
    " |$D^\\hbox{#}_3$/$E^b_3$  |\t155.56\t|221.77|\n",
    "|$E_3$\t|164.81\t|209.33|\n",
    "|$F_3$\t|174.61\t|197.58|\n",
    "| $F^\\hbox{#}_3$/$G^b_3$\t|185.00\t|186.49|\n",
    "|$G_3$\t|196.00\t|176.02|\n",
    " |$G^\\hbox{#}_3$/$A^b_3 $\t|207.65|\t166.14|\n",
    "|$A_3$\t|220.00\t|156.82|\n",
    " |$A^\\hbox{#}_3$/$B^b_3$ |\t233.08|\t148.02|\n",
    "|$B_3$|\t246.94\t|139.71|\n",
    "|$C_4$\t|261.63|\t131.87|\n",
    "| $C^\\hbox{#}_4$/$D^b_4$ |\t277.18\t|124.47|\n",
    "|$D_4$\t|293.66\t|117.48|\n",
    "| $D^\\hbox{#}_4$/$E^b_4$  |\t311.13\t|110.89|\n",
    "|$E_4$\t|329.63|\t104.66|\n",
    "|$F_4$\t|349.23|\t98.79|\n",
    "| $F^\\hbox{#}_4$/$G^b_4$|\t369.99|\t93.24|\n",
    "|$G_4$\t|392.00|\t88.01|\n",
    "| $G^\\hbox{#}_4$/$A^b_4 $|\t415.30\t|83.07|\n",
    "|$A_4$\t|440.00\t|78.41|\n",
    "| $A^\\hbox{#}_4$/$B^b_4$|\t466.16\t|74.01|\n",
    "|$B_4$\t|493.88\t|69.85|\n",
    "|$C_5$\t|523.25\t|65.93|\n",
    "| $C^\\hbox{#}_5$/$D^b_5$| \t554.37|\t62.23|\n",
    "|$D_5$\t|587.33\t|58.74|\n",
    "| $D^\\hbox{#}_5$/$E^b_5$ |\t622.25|\t55.44|\n",
    "|$E_5$\t|659.25\t|52.33|\n",
    "|$F_5$\t|698.46|\t49.39|\n",
    "| $F^\\hbox{#}_5$/$G^b_5$ |\t739.99\t|46.62|\n",
    "|$G_5$\t|783.99\t|44.01|\n",
    " |$G^\\hbox{#}_5$/$A^b_5 $|\t830.61\t|41.54|\n",
    "|$A_5$\t|880.00|\t39.20|\n",
    "| $A^\\hbox{#}_5$/$B^b_5$\t|932.33\t|37.00|\n",
    "|$B_5$\t|987.77\t|34.93|\n",
    "|$C_6$|\t1046.50\t|32.97|\n",
    "| $C^\\hbox{#}_6$/$D^b_6$ |\t1108.73\t|31.12|\n",
    "|$D_6$|\t1174.66|\t29.37|\n",
    "| $D^\\hbox{#}_6$/$E^b_6$ |\t1244.51\t|27.72|\n",
    "|$E_6$\t|1318.51|\t26.17|\n",
    "|$F_6$\t|1396.91|\t24.70|\n",
    "| $F^\\hbox{#}_6$/$G^b_6$|\t1479.98\t|23.31|\n",
    "|$G_6$\t|1567.98|\t22.00|\n",
    "| $G^\\hbox{#}_6$/$A^b_6 $|\t1661.22\t|20.77|\n",
    "|$A_6$\t|1760.00|\t19.60|\n",
    " |$A^\\hbox{#}_6$/$B^b_6$ |\t1864.66\t|18.50|\n",
    "|$B_6$\t|1975.53|\t17.46|\n",
    "|$C_7$\t|2093.00|\t16.48|\n",
    "| $C^\\hbox{#}_7$/$D^b_7$|\t2217.46\t|15.56|\n",
    "|$D_7$\t|2349.32|\t14.69|\n",
    "| $D^\\hbox{#}_7$/$E^b_7$  |\t2489.02\t|13.86|\n",
    "|$E_7$\t|2637.02\t|13.08|\n",
    "|$F_7$\t|2793.83|\t12.35|\n",
    "| $F^\\hbox{#}_7$/$G^b_7$ |\t2959.96|\t11.66|\n",
    "|$G_7$\t|3135.96\t|11.00|\n",
    "| $G^\\hbox{#}_7$/$A^b_7 $|\t3322.44\t|10.38|\n",
    "|$A_7$\t|3520.00|\t9.80|\n",
    " |$A^\\hbox{#}_7$/$B^b_7$\t|3729.31\t|9.25|\n",
    "|$B_7$|\t3951.07|\t8.73|\n",
    "|$C_8$|\t4186.01\t|8.24|\n",
    "| $C^\\hbox{#}_8$/$D^b_8$|\t4434.92\t|7.78|\n",
    "|$D_8$\t|4698.63|\t7.34|\n",
    "|$D^\\hbox{#}_8$/$E^b_8$ \t|4978.03\t|6.93|\n",
    "|$E_8$\t|5274.04|\t6.54|\n",
    "|$F_8$\t|5587.65|\t6.17|\n",
    " |$F^\\hbox{#}_8$/$G^b_8$ |\t5919.91|\t5.83|\n",
    "|$G_8$|\t6271.93|\t5.50|\n",
    " |$G^\\hbox{#}_8$/$A^b_8 $\t|6644.88\t|5.19|\n",
    "|$A_8$\t|7040.00|\t4.90|\n",
    " |$A^\\hbox{#}_8$/$B^b_8$\t|7458.62|\t4.63|\n",
    "|$B_8$\t|7902.13\t|4.37|\n",
    "\n"
   ]
  },
  {
   "cell_type": "markdown",
   "metadata": {},
   "source": [
    "Thanks to Sound function supported by IPython, Audio,\n",
    "we can play sound track from codes:"
   ]
  },
  {
   "cell_type": "markdown",
   "metadata": {},
   "source": [
    "Taiwan's Folk: Rain falling down the tunnel\n",
    "---"
   ]
  },
  {
   "cell_type": "code",
   "execution_count": null,
   "metadata": {
    "collapsed": false
   },
   "outputs": [],
   "source": [
    "A,B,C, D, E, F, G, A5, B5, C5,D5,E5,F5,G5,A6,B6 = 57,59,\\\n",
    "  60, 62, 64, 65, 67, 69, 71, 72,74,76,77,79,81,83\n",
    "scale = [C, D, E, F, G, A, B, C5 ,D5, E5,F5,G5,A6,B6 ]"
   ]
  },
  {
   "cell_type": "code",
   "execution_count": null,
   "metadata": {
    "collapsed": false
   },
   "outputs": [],
   "source": [
    "train=[(D5,1),(E5,1), (D5,1/2),(E5,1/2),(D5,1/2),(C5,1/2),\n",
    "       (D5,1/2),(E5,1/4),(E5,1/4),(D5,1/2),(C5,1/2),(D5,1),(C5,1/2),(A5,1/2),\n",
    "       (G,1/2),(G,1/2),(A5,1/2),(C5,1/2),(G,2),\n",
    "       (A5,1),(D5,1),(A5,1/2),(C5,1/2),(C5,1/2),(A5,1/2),\n",
    "       (D5,1/2),(C5,1/4),(D5,1/2),(C5,1/4),\n",
    "       (A5,1/2),(C5,1/2),(A5,1/2),(C5,1/2),\n",
    "       (G,1/2),(G,1/4),(G,1/4),(G,1/2),(G,1/2),\n",
    "       (A5,1/2),(C5,1/2),(A5,1/2),(G,1/2),(D,3/2),(A5,1/2),(G,2)]"
   ]
  },
  {
   "cell_type": "code",
   "execution_count": null,
   "metadata": {
    "collapsed": true
   },
   "outputs": [],
   "source": [
    "def sine_env(t):\n",
    "    return sin(pi*t/t[-1]) #t[-1] = last value\n",
    "#plt.plot(t,sine_env(t))\n",
    "def flute_env(t):\n",
    "    return sin(pi*t/t[-1])**0.4"
   ]
  },
  {
   "cell_type": "code",
   "execution_count": null,
   "metadata": {
    "collapsed": false
   },
   "outputs": [],
   "source": [
    "Fs = 22050 #samplerate\n",
    "# Solo by flute\n",
    "BaseNote = 466.16\n",
    "\n",
    "sound = []\n",
    "for note in train:\n",
    "    fnum, dur = note\n",
    "    t = np.linspace(0,dur/2,dur/2*Fs)\n",
    "    f = BaseNote * 2**((fnum-69)/12)\n",
    "    sinusoid = sin(2*pi*f*t)\n",
    "    #sound.append(guitar_env(t) * sinusoid)\n",
    "    sound.append(flute_env(t) * sinusoid)\n",
    "gsound = np.concatenate(sound)\n",
    "Audio(gsound, rate=Fs)"
   ]
  },
  {
   "cell_type": "code",
   "execution_count": null,
   "metadata": {
    "collapsed": false
   },
   "outputs": [],
   "source": [
    "euler=[(D,1),(B5,1),(C,1),(C5,1),(D,1),(C5,1),(C,1/2),(C5,1/2),(D,1/2),(C5,1/2),(F,1),(G,1),(D5,1),(0,1),\n",
    "    (F,1),(G,1),(D,1),(E,1),(G,1),(E,1),(D,1),(0,1),(G,1/2),(E,1/2),(A5,1),(0,1),(D,1),(C5,1),(B5,1),(F,1),\n",
    "    (B5,1/2),(C,1/2),(E,1/2),(G,1/2),(D,1),(A5,1),(A5,1),(D,1),(F,1),(D5,1),(B5,1),(B5,1),\n",
    "    (G,1),(B5,1),(D,1),(F,1),(B5,1),(0,1),(D5,1),(E,1),(A5,1),(D5,1/2),(D5,1/2),(D5,1/2)]\n",
    "BaseNote = 466.16\n",
    "\n",
    "sound = []\n",
    "for note in euler:\n",
    "    fnum, dur = note\n",
    "    t = np.linspace(0,dur/2,dur/2*Fs)\n",
    "    f = BaseNote * 2**((fnum-69)/12)\n",
    "    sinusoid = sin(2*pi*f*t)\n",
    "    #sound.append(guitar_env(t) * sinusoid)\n",
    "    sound.append(flute_env(t) * sinusoid)\n",
    "gsound = np.concatenate(sound)\n",
    "\n",
    "Audio(gsound, rate=Fs)"
   ]
  },
  {
   "cell_type": "markdown",
   "metadata": {
    "internals": {
     "frag_helper": "fragment_end",
     "frag_number": 40,
     "slide_helper": "subslide_end",
     "slide_type": "subslide"
    },
    "slide_helper": "subslide_end",
    "slideshow": {
     "slide_type": "subslide"
    }
   },
   "source": [
    "Recall of Nature\n",
    "---\n",
    "Befitting the largest mammal on earth, the call of an adult blue whale is loud (amptitude) and low (frequencies). \n",
    "The sound carries farther than any other animal sound, and can be detected over a thousand miles\n",
    "away. The call has a distinct pattern, which usually precedes a series of B *moans*."
   ]
  },
  {
   "cell_type": "markdown",
   "metadata": {
    "internals": {
     "frag_helper": "fragment_end",
     "frag_number": 40,
     "slide_type": "subslide"
    },
    "slideshow": {
     "slide_type": "subslide"
    }
   },
   "source": [
    "Pattern of Tones\n",
    "---\n",
    "\n",
    "The B call is simpler and easier to analyze, which consists of:\n",
    "\n",
    "- a fundamental frequency around *16-17* hertz \n",
    "- and a series of harmonics(multiples) of the fundamental frequency. \n",
    "\n",
    "Here, the amplitude of the call is modulated to produce a loud moan followed by weaker moan."
   ]
  },
  {
   "cell_type": "markdown",
   "metadata": {
    "internals": {
     "frag_helper": "fragment_end",
     "frag_number": 48
    },
    "slideshow": {
     "slide_type": "fragment"
    }
   },
   "source": [
    "Simulation of Sound\n",
    "---\n",
    "- The signal itself is treated as a sum of harmonics \n",
    "\n",
    "$$y_0=\\sum_{n=0}^\\infty\\sin(2 \\pi n f_0 t)$$\n",
    "\n",
    "\n",
    "\n"
   ]
  },
  {
   "cell_type": "markdown",
   "metadata": {
    "internals": {
     "frag_helper": "fragment_end",
     "frag_number": 49
    },
    "slideshow": {
     "slide_type": "fragment"
    }
   },
   "source": [
    "- The envelope of the signal is treated as a decaying sine wave of the form \n",
    "$$A=A_0 e^{-B t}\\sin(2 \\pi f_m t)$$ \n",
    "where the amplitude $A_0$, the decay rate $B$, and the modulating\n",
    "frequency $f_m$.\n",
    "\n"
   ]
  },
  {
   "cell_type": "markdown",
   "metadata": {},
   "source": [
    "- Whale call: \n",
    "$$ A\\cdot y_0$$"
   ]
  },
  {
   "cell_type": "markdown",
   "metadata": {
    "internals": {
     "frag_helper": "fragment_end",
     "frag_number": 50,
     "slide_helper": "subslide_end"
    },
    "slide_helper": "slide_end",
    "slideshow": {
     "slide_type": "fragment"
    }
   },
   "source": [
    "- Because blue whale calls are so low, they are barely audible to humans (within 20Hz to 20kHz). The time scale\n",
    "in the data being modeled is compressed by a factor of 10 to raise the pitch and make\n",
    "it more clearly audible. The model works with the same $\\times 10$ audible frequencies."
   ]
  },
  {
   "cell_type": "code",
   "execution_count": null,
   "metadata": {
    "collapsed": true,
    "internals": {
     "frag_helper": "fragment_end",
     "frag_number": 50,
     "slide_helper": "subslide_end",
     "slide_type": "subslide"
    },
    "slide_helper": "subslide_end",
    "slideshow": {
     "slide_type": "slide"
    }
   },
   "outputs": [],
   "source": [
    "%matplotlib inline\n",
    "\n",
    "import numpy as np\n",
    "from numpy import sin,pi,exp\n",
    "import matplotlib.pylab as plt\n",
    "from IPython.display import Audio, Image"
   ]
  },
  {
   "cell_type": "code",
   "execution_count": null,
   "metadata": {
    "collapsed": false,
    "internals": {
     "frag_helper": "fragment_end",
     "frag_number": 50,
     "slide_helper": "subslide_end",
     "slide_type": "subslide"
    },
    "slide_helper": "subslide_end",
    "slideshow": {
     "slide_type": "subslide"
    }
   },
   "outputs": [],
   "source": [
    "fs = 4000;\n",
    "xmax=1.5\n",
    "t = np.linspace(0,xmax,fs);\n",
    "# Set the fundamental frequency of the call.\n",
    "f0 = 175;\n",
    "# Create the harmonics.\n",
    "y0 = sin(2*pi*f0*t) + sin(2*pi*2*f0*t) + sin(2*pi*3*f0*t);\n",
    "# Set the additional parameters in the model.\n",
    "A0 = 2; #Initial amplitude.\n",
    "B = 1.5; # Amplitude decay rate.\n",
    "fm = 0.65; # Frequency of the modulating envelope.\n",
    "# Create the envelope\n",
    "\n",
    "A = A0*exp(-B*t)*sin(2*pi*fm*t);"
   ]
  },
  {
   "cell_type": "code",
   "execution_count": null,
   "metadata": {
    "collapsed": false,
    "internals": {
     "frag_helper": "fragment_end",
     "frag_number": 50,
     "slide_helper": "subslide_end",
     "slide_type": "subslide"
    },
    "slide_helper": "slide_end",
    "slideshow": {
     "slide_type": "subslide"
    }
   },
   "outputs": [],
   "source": [
    "call = A*y0;\n",
    "# Plot the model call and listen to it.\n",
    "plt.figure(figsize=(12,3))\n",
    "plt.plot(t,call)\n",
    "plt.xlabel('Time');plt.ylabel('Amplitude');plt.xlim(0,xmax)\n",
    "plt.title(' Blue Whale B Call Model')\n",
    "\n",
    "Audio(call.astype(np.int16),rate=fs)"
   ]
  },
  {
   "cell_type": "markdown",
   "metadata": {},
   "source": [
    "Answer to Golden Ear\n",
    "---\n",
    "e = 2.718 2818 2845 9045 2353 6028 74 7135 2662 4977 5724 7093 6999 ...\n"
   ]
  },
  {
   "cell_type": "markdown",
   "metadata": {
    "internals": {
     "frag_helper": "fragment_end",
     "frag_number": 50,
     "slide_helper": "subslide_end",
     "slide_type": "subslide"
    },
    "slide_helper": "subslide_end",
    "slideshow": {
     "slide_type": "slide"
    }
   },
   "source": [
    "Big Data\n",
    "===\n",
    "How to dig out useful information from data polls."
   ]
  },
  {
   "cell_type": "markdown",
   "metadata": {
    "slideshow": {
     "slide_type": "subslide"
    }
   },
   "source": [
    "```\n",
    "Where McDonald is, Kentuchy Fried Chicken is.\n",
    "```"
   ]
  },
  {
   "cell_type": "code",
   "execution_count": null,
   "metadata": {
    "collapsed": true
   },
   "outputs": [],
   "source": [
    "import locale\n",
    "#locale.setlocale(locale.LC_ALL, '')"
   ]
  },
  {
   "cell_type": "code",
   "execution_count": null,
   "metadata": {
    "collapsed": false,
    "internals": {
     "frag_helper": "fragment_end",
     "frag_number": 50,
     "slide_helper": "subslide_end",
     "slide_type": "subslide"
    },
    "slide_helper": "subslide_end",
    "slideshow": {
     "slide_type": "subslide"
    }
   },
   "outputs": [],
   "source": [
    "import pandas as pd\n",
    "data = pd.read_csv('data/POIAsia.csv', nrows=5)\n",
    "data.columns"
   ]
  },
  {
   "cell_type": "code",
   "execution_count": null,
   "metadata": {
    "collapsed": false
   },
   "outputs": [],
   "source": [
    "from dask import dataframe as dd\n",
    "columns = [\"name\", \"amenity\", \"Longitude\", \"Latitude\"]\n",
    "# data = dd.read_csv('data/POIAsia.csv', usecols=columns,header=int )\n",
    "\n",
    "data = dd.read_csv('data/POIAsia.csv', usecols=columns)\n",
    "data.columns"
   ]
  },
  {
   "cell_type": "code",
   "execution_count": null,
   "metadata": {
    "collapsed": false
   },
   "outputs": [],
   "source": [
    "len(data)"
   ]
  },
  {
   "cell_type": "code",
   "execution_count": null,
   "metadata": {
    "collapsed": false,
    "internals": {
     "frag_helper": "fragment_end",
     "frag_number": 50,
     "slide_helper": "subslide_end",
     "slide_type": "subslide"
    },
    "slide_helper": "subslide_end",
    "slideshow": {
     "slide_type": "subslide"
    }
   },
   "outputs": [],
   "source": [
    "# get rid of incompleted data (with null value)\n",
    "with_name = data[data.name.notnull()]\n",
    "with_amenity = data[data.amenity.notnull()]"
   ]
  },
  {
   "cell_type": "code",
   "execution_count": null,
   "metadata": {
    "collapsed": false,
    "internals": {
     "frag_helper": "fragment_end",
     "frag_number": 50,
     "slide_helper": "subslide_end",
     "slide_type": "subslide"
    },
    "slide_helper": "subslide_end",
    "slideshow": {
     "slide_type": "subslide"
    }
   },
   "outputs": [],
   "source": [
    "is_starbucks = with_name.name.str.contains('[Ss]tarbucks')\n",
    "\n",
    "starbucks = with_name[is_starbucks]"
   ]
  },
  {
   "cell_type": "code",
   "execution_count": null,
   "metadata": {
    "collapsed": false,
    "internals": {
     "frag_helper": "fragment_end",
     "frag_number": 50,
     "slide_helper": "subslide_end",
     "slide_type": "subslide"
    },
    "slide_helper": "subslide_end",
    "slideshow": {
     "slide_type": "subslide"
    }
   },
   "outputs": [],
   "source": [
    "is_KFC= with_name.name.str.contains('[Kk][Ff][Cc]')\n",
    "\n",
    "KFC = with_name[is_KFC]\n",
    "dd.compute(KFC.name.count())"
   ]
  },
  {
   "cell_type": "code",
   "execution_count": null,
   "metadata": {
    "collapsed": false,
    "internals": {
     "frag_helper": "fragment_end",
     "frag_number": 50,
     "slide_helper": "subslide_end",
     "slide_type": "subslide"
    },
    "slide_helper": "slide_end",
    "slideshow": {
     "slide_type": "subslide"
    }
   },
   "outputs": [],
   "source": [
    "is_mcdonald = with_name.name.str.contains('[Mm]c[Dd]onald')\n",
    "mcdonald = with_name[is_mcdonald]\n",
    "\n",
    "dd.compute(mcdonald.name.count())"
   ]
  },
  {
   "cell_type": "code",
   "execution_count": null,
   "metadata": {
    "collapsed": false,
    "internals": {
     "frag_helper": "fragment_end",
     "frag_number": 50,
     "slide_helper": "subslide_end",
     "slide_type": "subslide"
    },
    "slide_helper": "subslide_end",
    "slideshow": {
     "slide_type": "slide"
    }
   },
   "outputs": [],
   "source": [
    "locs = dd.compute(starbucks.Longitude,\n",
    "                  starbucks.Latitude,\n",
    "                  KFC.Longitude,\n",
    "                  KFC.Latitude,\n",
    "                  mcdonald.Longitude,\n",
    "                  mcdonald.Latitude)\n",
    "\n",
    "# extract arrays of values from the series:\n",
    "lon_s, lat_s, lon_k, lat_k, lon_m, lat_m = [loc.values for loc in locs]"
   ]
  },
  {
   "cell_type": "code",
   "execution_count": null,
   "metadata": {
    "collapsed": true,
    "internals": {
     "frag_helper": "fragment_end",
     "frag_number": 50,
     "slide_helper": "subslide_end",
     "slide_type": "subslide"
    },
    "slide_helper": "subslide_end",
    "slideshow": {
     "slide_type": "subslide"
    }
   },
   "outputs": [],
   "source": [
    "%matplotlib inline\n",
    "import matplotlib.pyplot as plt\n",
    "from mpl_toolkits.basemap import Basemap\n",
    "\n",
    "def draw_Taiwan():\n",
    "    \"\"\"initialize a basemap centered on the Taiwan\"\"\"\n",
    "    return Basemap(projection='lcc', resolution='l',\n",
    "                   llcrnrlon=120, urcrnrlon=122,\n",
    "                   llcrnrlat=20, urcrnrlat=26, lat_1=23,lon_0=122,area_thresh=1000)"
   ]
  },
  {
   "cell_type": "code",
   "execution_count": null,
   "metadata": {
    "collapsed": false,
    "internals": {
     "frag_helper": "fragment_end",
     "frag_number": 50,
     "slide_helper": "subslide_end",
     "slide_type": "subslide"
    },
    "slide_helper": "subslide_end",
    "slideshow": {
     "slide_type": "subslide"
    }
   },
   "outputs": [],
   "source": [
    "fig, ax = plt.subplots(figsize=(15, 15))\n",
    "\n",
    "m = draw_Taiwan()    \n",
    "# Draw map background\n",
    "m.fillcontinents(color='white', lake_color='#eeeeee')\n",
    "m.drawstates(color='lightgray')\n",
    "m.drawcoastlines(color='gray')\n",
    "m.drawcountries(color='lightgray')\n",
    "m.drawmapboundary(fill_color='#eeeeee')\n",
    "\n",
    "# Plot the values in Starbucks Green and Dunkin Donuts Orange\n",
    "style = dict(s=5, marker='o', alpha=0.5, zorder=2)\n",
    "#m.scatter(lon_s, lat_s, latlon=True,\n",
    "#          label=\"Starbucks\", color='#00592D', **style)\n",
    "m.scatter(lon_k, lat_k, latlon=True,\n",
    "          label=\"KFC Fried Chicken\", color='#22AA36', **style)\n",
    "m.scatter(lon_m, lat_m, latlon=True,\n",
    "          label=\"McDonald's Burger\", color='#FC772A', **style)\n",
    "\n",
    "plt.legend(loc='lower left', frameon=False);"
   ]
  },
  {
   "cell_type": "code",
   "execution_count": null,
   "metadata": {
    "collapsed": false,
    "internals": {
     "frag_helper": "fragment_end",
     "frag_number": 50,
     "slide_helper": "subslide_end",
     "slide_type": "subslide"
    },
    "slide_helper": "slide_end",
    "slideshow": {
     "slide_type": "subslide"
    }
   },
   "outputs": [],
   "source": [
    "is_fastfood = with_amenity.amenity.str.contains('fast_food')\n",
    "fastfood = with_amenity[is_fastfood]\n",
    "fastfood.name.value_counts().head(12)"
   ]
  },
  {
   "cell_type": "markdown",
   "metadata": {
    "internals": {
     "frag_helper": "fragment_end",
     "frag_number": 50,
     "slide_helper": "subslide_end",
     "slide_type": "subslide"
    },
    "slide_helper": "slide_end",
    "slideshow": {
     "slide_type": "slide"
    }
   },
   "source": [
    "Next\n",
    "---\n",
    "- [Differential Equations](4/2015-1-4.ipynb), [(HTML format)]((4/2013-2-4-1..html)\n",
    "   - Including: Legend of famous detative, Holmos, Travel to the moon, Dog chasing, 4-cats Pursuit Curves,  Storage for Radioative Waste, etc. \n",
    "- [Phugoid](5/2015-1-5.ipynb), [(HTML format)](5/2014-2-5..html)\n",
    "  - Flying, the dream of human beings, Traffic Jam"
   ]
  },
  {
   "cell_type": "code",
   "execution_count": null,
   "metadata": {
    "collapsed": false,
    "internals": {
     "frag_helper": "fragment_end",
     "frag_number": 50,
     "slide_helper": "subslide_end",
     "slide_type": "subslide"
    },
    "slide_helper": "subslide_end",
    "slideshow": {
     "slide_type": "slide"
    }
   },
   "outputs": [],
   "source": [
    "%%bash\n",
    "\n",
    "ipython nbconvert index.ipynb\n"
   ]
  },
  {
   "cell_type": "code",
   "execution_count": null,
   "metadata": {
    "collapsed": false,
    "internals": {
     "frag_helper": "fragment_end",
     "frag_number": 50,
     "slide_helper": "subslide_end",
     "slide_type": "subslide"
    },
    "slide_helper": "slide_end",
    "slideshow": {
     "slide_type": "subslide"
    }
   },
   "outputs": [],
   "source": [
    "# Execute this cell to load the notebook's style sheet, then ignore it\n",
    "from IPython.core.display import HTML\n",
    "css_file = 'styles/custom.css'\n",
    "HTML(open(css_file, \"r\").read())"
   ]
  },
  {
   "cell_type": "markdown",
   "metadata": {
    "internals": {
     "frag_helper": "fragment_end",
     "frag_number": 50,
     "slide_helper": "subslide_end",
     "slide_type": "subslide"
    },
    "slide_helper": "subslide_end",
    "slideshow": {
     "slide_type": "slide"
    }
   },
   "source": [
    "Appendix \n",
    "---\n",
    "Without doubt, HTML5 strengtens ability and functionalities on IPython notebook user interface more than other interfaces. The IPython notebook functionality (i.e. what you do with the Browser) can be extended using Javascript extensions. \n",
    "\n",
    "Here the examples to show how to install the monitoring extension about installed packages and display what kind of extensions were installed:"
   ]
  },
  {
   "cell_type": "code",
   "execution_count": null,
   "metadata": {
    "collapsed": false,
    "internals": {
     "frag_helper": "fragment_end",
     "frag_number": 50,
     "slide_type": "subslide"
    },
    "slideshow": {
     "slide_type": "subslide"
    }
   },
   "outputs": [],
   "source": [
    "#%install_ext http://raw.github.com/jrjohansson/version_information/master/version_information.py\n",
    "%load_ext version_information\n",
    "%reload_ext version_information\n",
    "\n",
    "%version_information numpy, scipy, matplotlib, JSAnimation,dask\n"
   ]
  },
  {
   "cell_type": "code",
   "execution_count": null,
   "metadata": {
    "collapsed": false
   },
   "outputs": [],
   "source": [
    "from notebook.services.config import ConfigManager\n",
    "cm = ConfigManager()\n",
    "cm.update('notebook', {\"load_extensions\": {\"livereveal/main\": True}})"
   ]
  },
  {
   "cell_type": "code",
   "execution_count": null,
   "metadata": {
    "collapsed": false,
    "internals": {
     "frag_helper": "fragment_end",
     "frag_number": 50,
     "slide_helper": "subslide_end"
    },
    "slide_helper": "subslide_end",
    "slideshow": {
     "slide_type": "-"
    }
   },
   "outputs": [],
   "source": [
    "from notebook.services.config import ConfigManager\n",
    "from IPython.display import HTML\n",
    "ip = get_ipython()\n",
    "cm = ConfigManager(parent=ip, profile_dir=ip.profile_dir.location)\n",
    "extensions =cm.get(\"notebook\")\n",
    "print(extensions)\n",
    "table = \"\"\n",
    "for ext in extensions['load_extensions']:\n",
    "    table += \"<tr><td>%s</td>\\n\" % (ext)\n",
    "\n",
    "top = \"\"\"\n",
    "<table border=\"1\">\n",
    "  <tr>\n",
    "    <th>Extension name</th>\n",
    "  </tr>\n",
    "\"\"\"\n",
    "bottom = \"\"\"\n",
    "</table>\n",
    "\"\"\"\n",
    "HTML(top + table + bottom)"
   ]
  },
  {
   "cell_type": "markdown",
   "metadata": {
    "collapsed": true,
    "internals": {
     "frag_helper": "fragment_end",
     "frag_number": 50,
     "slide_helper": "subslide_end"
    },
    "slide_helper": "slide_end",
    "slideshow": {
     "slide_type": "slide"
    }
   },
   "source": [
    "Dengue Outbreak In Tainan\n",
    "===\n",
    "Dengue is not native disease in Taiwan, at least not in epidemic history; but we can not ignore that it will come true if we still do nothing about it. \n",
    "\n",
    "- [Tainan's Dengue outbreak](1/maps.ipynb)"
   ]
  },
  {
   "cell_type": "markdown",
   "metadata": {
    "slideshow": {
     "slide_type": "slide"
    }
   },
   "source": [
    "NEXT Week\n",
    "===\n",
    "\n",
    "Remember to bring your devices or PC equipment; I will help you to release their power! "
   ]
  },
  {
   "cell_type": "code",
   "execution_count": null,
   "metadata": {
    "collapsed": true
   },
   "outputs": [],
   "source": []
  },
  {
   "cell_type": "code",
   "execution_count": null,
   "metadata": {
    "collapsed": false,
    "internals": {
     "frag_helper": "fragment_end",
     "frag_number": 50,
     "slide_type": "subslide"
    },
    "slideshow": {
     "slide_type": "subslide"
    }
   },
   "outputs": [],
   "source": [
    "# Execute this cell to load the notebook's style sheet, then ignore it\n",
    "from IPython.core.display import HTML\n",
    "css_file = 'styles/numericalmoocstyle.css'\n",
    "HTML(open(css_file, \"r\").read())"
   ]
  },
  {
   "cell_type": "code",
   "execution_count": null,
   "metadata": {
    "collapsed": false
   },
   "outputs": [],
   "source": [
    "1+2"
   ]
  },
  {
   "cell_type": "code",
   "execution_count": null,
   "metadata": {
    "collapsed": true
   },
   "outputs": [],
   "source": []
  }
 ],
 "metadata": {
  "kernelspec": {
   "display_name": "Python 3",
   "language": "python",
   "name": "python3"
  },
  "language_info": {
   "codemirror_mode": {
    "name": "ipython",
    "version": 3
   },
   "file_extension": ".py",
   "mimetype": "text/x-python",
   "name": "python",
   "nbconvert_exporter": "python",
   "pygments_lexer": "ipython3",
   "version": "3.4.4"
  }
 },
 "nbformat": 4,
 "nbformat_minor": 0
}
