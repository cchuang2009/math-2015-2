{
 "cells": [
  {
   "cell_type": "markdown",
   "metadata": {},
   "source": [
    "# Curvature"
   ]
  },
  {
   "cell_type": "markdown",
   "metadata": {},
   "source": [
    "From WikiMedia\n",
    "---\n",
    "French mathematician, <a href=\"https://en.wikipedia.org/wiki/Augustin-Louis_Cauchy\">**Cauchy**</a>, defined the centre of curvature C as the intersection point of two infinitely close normals to the curve, the radius of curvature as the distance from the point to C, and the curvature itself as the inverse of the radius of curvature.\n",
    "\n",
    "In brief, the behavior around $(x,f(x))$ is determined by Tangent vector and the curvature depends on it's instantaneous rate of changes, i.e. derivative. "
   ]
  },
  {
   "cell_type": "markdown",
   "metadata": {},
   "source": [
    "Curvature of a graph\n",
    "---\n",
    "For the less general case of a plane curve given explicitly as $y=f(x)$, and now using primes for derivatives with respect to coordinate  x , the curvature is\n",
    "\n",
    "$$\\kappa = \\frac{|y''|}{(1+y'^2)^{3/2}} $$\n",
    "\n",
    "Parametric Curve\n",
    "---\n",
    "For a plane curve given parametrically in Cartesian coordinates as $X(t) = (x(t),y(t))$, the curvature is\n",
    "\n",
    "$$\\kappa = \\frac{|x'y''-y'x''|}{(x'^2+y'^2)^{3/2}}$$"
   ]
  },
  {
   "cell_type": "markdown",
   "metadata": {},
   "source": [
    "Mathematatical Formula for Curvature\n",
    "---\n",
    "Let $\\phi$ be the angle of the instantaneous rate of change, i.e.\n",
    "$$\\tan\\phi=\\frac{dy}{dx}$$\n",
    "The curvatare $\\kappa$ is the derivative of $\\phi$ with respect to $s$, the unit of arc length:\n",
    "\\begin{eqnarray}\n",
    "   \\sec^2\\phi\\frac{d \\phi}{d s} &=&\\frac{d(dy/dx)}{ds}\\\\\n",
    "   \\Longrightarrow \\kappa=\\frac{d \\phi}{d s} &=&\\frac{1}{\\sec^2\\phi}\\cdot \\frac{|x'y''-y'x''|}{(x'^2+y'^2)^{1/2}}\\\\\n",
    "     &=&  \\frac{|x'y''-y'x''|}{(x'^2+y'^2)^{3/2}}\n",
    "\\end{eqnarray}   \n",
    "since $ds=\\sqrt{dx^2+dy^2}   $"
   ]
  },
  {
   "cell_type": "code",
   "execution_count": null,
   "metadata": {
    "collapsed": true
   },
   "outputs": [],
   "source": [
    "%matplotlib inline\n",
    "\n",
    "import numpy as np\n",
    "import matplotlib.pylab as plt\n",
    "from numpy import exp,sin,cos,linspace"
   ]
  },
  {
   "cell_type": "markdown",
   "metadata": {},
   "source": [
    "Example\n",
    "---\n",
    "\n",
    "For $y=x^2$, the curvature is calculated as follows:\n",
    "\n",
    "$$\\kappa=\\frac{(x^2)''}{(1+((x^2)')^2)^{3/2}}=\\frac{2}{(1+4x^2)^{3/2}}$$"
   ]
  },
  {
   "cell_type": "code",
   "execution_count": null,
   "metadata": {
    "collapsed": false
   },
   "outputs": [],
   "source": [
    "x=linspace(0,4,101)\n",
    "plt.figure(figsize=(2,8))\n",
    "plt.plot(x,x**2)\n"
   ]
  },
  {
   "cell_type": "code",
   "execution_count": null,
   "metadata": {
    "collapsed": false
   },
   "outputs": [],
   "source": [
    "x=np.linspace(-2,2,101)\n",
    "plt.figure(figsize=(2,8))\n",
    "plt.plot(x,x**3)\n"
   ]
  },
  {
   "cell_type": "code",
   "execution_count": null,
   "metadata": {
    "collapsed": true
   },
   "outputs": [],
   "source": [
    "?linspace"
   ]
  },
  {
   "cell_type": "code",
   "execution_count": null,
   "metadata": {
    "collapsed": false
   },
   "outputs": [],
   "source": [
    "x=np.linspace(-2,2,101)\n",
    "plt.figure(figsize=(4,8))\n",
    "kappa=np.abs(6*x)/(1+9*x**4)**1.5\n",
    "plt.plot(x,x**3)\n",
    "plt.plot(x,kappa)"
   ]
  },
  {
   "cell_type": "markdown",
   "metadata": {},
   "source": [
    "Note\n",
    "---\n",
    "However, to get the first and sencond order derivatives requires the symbolic computation, which could be available by SymPy library.\n",
    "\n",
    "Is it possible to get the derivatives only by numerical scheme? First, the first-order derivative is defined by the following limit:\n",
    "$$ f'(x)=\\lim\\limits_{h\\to0}\\frac{f(x+h)-f(x)}{h}$$\n",
    "\n",
    "Take smaller $h$, for instance $h=0.01$, we have the approximation\n",
    "$$ f'(x)\\sim \\frac{f(x+h)-f(x)}{h}$$"
   ]
  },
  {
   "cell_type": "code",
   "execution_count": null,
   "metadata": {
    "collapsed": true
   },
   "outputs": [],
   "source": [
    "def Der(f,x,h=0.01):\n",
    "    return (f(x+h)-f(x))/h\n",
    "def func1(x):\n",
    "    return x*x"
   ]
  },
  {
   "cell_type": "code",
   "execution_count": null,
   "metadata": {
    "collapsed": false
   },
   "outputs": [],
   "source": [
    "h=0.01\n",
    "fd=(func1(x+h)-func1(x))/h"
   ]
  },
  {
   "cell_type": "code",
   "execution_count": null,
   "metadata": {
    "collapsed": false
   },
   "outputs": [],
   "source": [
    "plt.plot(x,x*x,x,fd,x,2*x,'r--')"
   ]
  },
  {
   "cell_type": "markdown",
   "metadata": {},
   "source": [
    "Second Order Derivative\n",
    "---\n",
    "As the same reason,\n",
    "$$f''(x)\\sim \\frac{f(x+h)-2f(x)+f(x-h)}{h^2}$$"
   ]
  },
  {
   "cell_type": "code",
   "execution_count": null,
   "metadata": {
    "collapsed": false
   },
   "outputs": [],
   "source": [
    "fdd=(func1(x+h)-2*func1(x)+func1(x-h))/h**2"
   ]
  },
  {
   "cell_type": "code",
   "execution_count": null,
   "metadata": {
    "collapsed": false
   },
   "outputs": [],
   "source": [
    "x=np.linspace(0,2,101)\n",
    "plt.figure(figsize=(4,8))\n",
    "kappa=2/(1+4*x*x)**1.5\n",
    "plt.plot(x,x**2)\n",
    "plt.plot(x,kappa)\n",
    "plt.plot(x,fdd/(1+fd**2)**1.5,'r--',label='Curvature')\n",
    "plt.legend()"
   ]
  },
  {
   "cell_type": "markdown",
   "metadata": {},
   "source": [
    "Conclusion\n",
    "---\n",
    "Obviously, the curvatures lines,  made by  symbolic and numeric schemes, almost coincide. "
   ]
  },
  {
   "cell_type": "markdown",
   "metadata": {},
   "source": [
    "Exercise\n",
    "---\n",
    "1. Compare the curvature of $x^2$ and $x^3$. Is it true that one of curvature of the curve is always greater more than another one's? "
   ]
  },
  {
   "cell_type": "markdown",
   "metadata": {},
   "source": [
    "Question\n",
    "===\n",
    "If you attend 400m running race competition, which track is your favor? Inner or outer lane? Suppose that the racing field is round."
   ]
  },
  {
   "cell_type": "code",
   "execution_count": null,
   "metadata": {
    "collapsed": false
   },
   "outputs": [],
   "source": [
    "wt = np.linspace(0,2*np.pi,300)\n",
    "X1 = cos(wt)\n",
    "Y1 = sin(wt)\n",
    "X2 = 2*cos(wt)\n",
    "Y2 = 2*sin(wt)\n",
    "i=1\n",
    "for i in range(5):\n",
    "    r=1+0.2*i\n",
    "    plt.plot(r*cos(wt),r*sin(wt),'r--')\n",
    "    i=i+1\n",
    "\n",
    "plt.xlim(X2.min() * 1.1, X2.max() * 1.1)\n",
    "plt.ylim(Y2.min() * 1.1, Y2.max() * 1.1)\n",
    "plt.plot(X1,Y1,'blue',X2,Y2,'blue')\n",
    "plt.axes().set_aspect('equal')"
   ]
  },
  {
   "cell_type": "markdown",
   "metadata": {},
   "source": [
    "Circle in Parametric Coordinates\n",
    "---\n",
    "\n",
    "The coordinates of point on the circle with radius $R$ centered at $(0,0)$, is $(R\\cos\\theta,R\\sin\\theta)$.\n",
    "\n",
    "$$\\kappa = \\frac{|x'y''-y'x''|}{(x'^2+y'^2)^{3/2}}=\\frac{1}{R}$$\n",
    "\n",
    "This means,\n",
    "     \n",
    "     The larger the circle, the more degree of curvature.\n"
   ]
  },
  {
   "cell_type": "markdown",
   "metadata": {},
   "source": [
    "Question\n",
    "---\n",
    "Why is it much harder to stand on baseball than stand on earth?"
   ]
  },
  {
   "cell_type": "code",
   "execution_count": null,
   "metadata": {
    "collapsed": true
   },
   "outputs": [],
   "source": []
  },
  {
   "cell_type": "markdown",
   "metadata": {},
   "source": [
    "Sympy, Symbolic Library\n",
    "---\n",
    "The defict in Python the symbolic capacity. Sympy compensates such capacity for python.\n",
    "Here, an example to get the formula for finding out the center of circle, passing through three given coordinates. \n",
    "\n",
    "- (x1,y1), (x2,y2), (x3,y3) given;\n",
    "- center of circle is on the intersection of normal lines which are orthogonal to the connected lines connected any two given points, and pass through the center of lines. "
   ]
  },
  {
   "cell_type": "code",
   "execution_count": null,
   "metadata": {
    "collapsed": true
   },
   "outputs": [],
   "source": [
    "from sympy import symbols,solve,pprint,simplify"
   ]
  },
  {
   "cell_type": "code",
   "execution_count": null,
   "metadata": {
    "collapsed": false
   },
   "outputs": [],
   "source": [
    "C0,C1,C3=symbols('C0 C1,C3')\n",
    "x1,y1,x2,y2,x3,y3,s=symbols('x1 y1 x2 y2 x3 y3 s')\n",
    "x,y=symbols(' x y')"
   ]
  },
  {
   "cell_type": "code",
   "execution_count": null,
   "metadata": {
    "collapsed": false
   },
   "outputs": [],
   "source": [
    "cx1,cy1=(x2+x1)/2,(y2+y1)/2\n",
    "line1=y-cy1+(x2-x1)/(y2-y1)*(x-cx1)"
   ]
  },
  {
   "cell_type": "code",
   "execution_count": null,
   "metadata": {
    "collapsed": false
   },
   "outputs": [],
   "source": [
    "cx2,cy2=(x3+x1)/2,(y3+y1)/2\n",
    "line2=y-cy2+(x3-x1)/(y3-y1)*(x-cx2)"
   ]
  },
  {
   "cell_type": "code",
   "execution_count": null,
   "metadata": {
    "collapsed": false
   },
   "outputs": [],
   "source": [
    "solve({line1,line2},{x,y})"
   ]
  },
  {
   "cell_type": "code",
   "execution_count": null,
   "metadata": {
    "collapsed": false
   },
   "outputs": [],
   "source": [
    "simplify(_)"
   ]
  },
  {
   "cell_type": "code",
   "execution_count": null,
   "metadata": {
    "collapsed": false
   },
   "outputs": [],
   "source": [
    "\n",
    "pprint(_)"
   ]
  },
  {
   "cell_type": "code",
   "execution_count": null,
   "metadata": {
    "collapsed": true
   },
   "outputs": [],
   "source": [
    "def point(x1,y1,x2,y2,x3,y3):\n",
    "    return( (-(y1 - y2)*(x1**2 - x3**2 + y1**2 - y3**2) + (y1 - y3)*(x1**2 - x2**2 + y1**2 - y2**2))/(2*((x1 - x2)*(y1 - y3) - (x1 - x3)*(y1 - y2))),((x1 - x2)*(x1**2 - x3**2 + y1**2 - y3**2) - (x1 - x3)*(x1**2 - x2**2 + y1**2 - y2**2))/(2*((x1 - x2)*(y1 - y3) - (x1 - x3)*(y1 - y2))))"
   ]
  },
  {
   "cell_type": "code",
   "execution_count": null,
   "metadata": {
    "collapsed": false
   },
   "outputs": [],
   "source": [
    "point(-1/np.sqrt(2),1/np.sqrt(2),0,1,-1,0)"
   ]
  },
  {
   "cell_type": "markdown",
   "metadata": {},
   "source": [
    "Note\n",
    "---\n",
    "Error because of computing"
   ]
  },
  {
   "cell_type": "code",
   "execution_count": null,
   "metadata": {
    "collapsed": true
   },
   "outputs": [],
   "source": []
  },
  {
   "cell_type": "markdown",
   "metadata": {},
   "source": [
    "Challenge\n",
    "---\n",
    "\n",
    "Which way is it easiest to Taipei from campus? \n",
    "\n",
    "The steps:\n",
    "- get the sequence of coordinates, (e.g. by <a href=\"http://arohatgi.info/WebPlotDigitizer/\">webPlotdigitizer</a> from google map);\n",
    "- three points forms a circle, the curvature in this subsectin is inverse of its radius;\n",
    "- replace the curvature by the average of consectitive curvatures;\n",
    "- total curvature is sum of all the averages of curvages:\n",
    "\n",
    "$$\\kappa_{\\text{total}}=\\int_s \\kappa(s) d s\\sim\\kappa_1+\\kappa_2+\\cdots+\\kappa_n$$\n"
   ]
  },
  {
   "cell_type": "code",
   "execution_count": null,
   "metadata": {
    "collapsed": false
   },
   "outputs": [],
   "source": [
    "from IPython.display import HTML\n",
    "\n",
    "HTML(\"<iframe src=http://diffusion.cgu.edu.tw/2014/computer/2014-2/GPSCoord-7.html width=80% height=500/>\")"
   ]
  },
  {
   "cell_type": "code",
   "execution_count": null,
   "metadata": {
    "collapsed": false
   },
   "outputs": [],
   "source": [
    "\"\"\"Define Fibonicci Sequence, f(n)=f(n-1)+f(n-2),f(0)=f(1)=1\"\"\"\n",
    "def fibo(n):\n",
    "    a=np.zeros(n)\n",
    "    a[0]=a[1]=1\n",
    "    for i in range(n):\n",
    "        a[2:n+1]=a[0:n-2]+a[1:n-1]\n",
    "    return a"
   ]
  },
  {
   "cell_type": "code",
   "execution_count": null,
   "metadata": {
    "collapsed": false
   },
   "outputs": [],
   "source": [
    "a=fibo(10)\n",
    "a"
   ]
  },
  {
   "cell_type": "code",
   "execution_count": null,
   "metadata": {
    "collapsed": false
   },
   "outputs": [],
   "source": [
    "\"\"\"get the sequence of avervage of two consectitive elements, avg[n]=(a(n)+a[n-a])/2 \"\"\"\n",
    "def avg(a):\n",
    "    b=np.zeros(len(a))\n",
    "    b[0]=a[0]\n",
    "    for i in range(len(b)):\n",
    "        b[1:]=(a[:len(a)-1]+a[1:])/2.\n",
    "    return b"
   ]
  },
  {
   "cell_type": "code",
   "execution_count": null,
   "metadata": {
    "collapsed": false
   },
   "outputs": [],
   "source": [
    "b=avg(a)\n",
    "b"
   ]
  },
  {
   "cell_type": "code",
   "execution_count": null,
   "metadata": {
    "collapsed": false
   },
   "outputs": [],
   "source": [
    "plt.scatter(range(len(b)),np.log(b),color='red')\n",
    "plt.scatter(range(len(b)),np.log(a))\n",
    "plt.axes().set_aspect('equal')"
   ]
  },
  {
   "cell_type": "code",
   "execution_count": null,
   "metadata": {
    "collapsed": false
   },
   "outputs": [],
   "source": [
    "np.sum(b)"
   ]
  },
  {
   "cell_type": "code",
   "execution_count": null,
   "metadata": {
    "collapsed": false
   },
   "outputs": [],
   "source": [
    "N = 2\n",
    "window = np.ones(N)/N\n",
    "smooth = np.convolve(a,window,'same')\n",
    "smooth"
   ]
  },
  {
   "cell_type": "code",
   "execution_count": null,
   "metadata": {
    "collapsed": false
   },
   "outputs": [],
   "source": [
    "plt.scatter(range(len(b)),np.log(smooth),color='red')\n",
    "plt.scatter(range(len(b)),np.log(a))\n",
    "plt.axes().set_aspect('equal')"
   ]
  },
  {
   "cell_type": "code",
   "execution_count": null,
   "metadata": {
    "collapsed": true
   },
   "outputs": [],
   "source": []
  },
  {
   "cell_type": "markdown",
   "metadata": {},
   "source": [
    "Question\n",
    "---\n",
    "Certain drug is administered intravenously to a patient at the continuous rate of 5 milligrams per hours. The patient's body removes the drug from the bloodstream at a rate proportional to the amount of the drug in the blood. Formulate the problem and find its solution."
   ]
  },
  {
   "cell_type": "markdown",
   "metadata": {},
   "source": [
    "1. \n",
    "         5       5       5       5       5      5\n",
    "          \n",
    "         |-------|-------|-------|  ...  |--:---|  ...\n",
    "                 t1      t2      t3             tn\n",
    "                                            t\n",
    "         5exp(kt)                                   \n",
    "                                            \n",
    "                5exp(k(t-t1))\n",
    "                \n",
    "                       5expk((t-t2))\n",
    "                             \n",
    "                             5exp(k(t-t3))"
   ]
  },
  {
   "cell_type": "markdown",
   "metadata": {},
   "source": [
    "Let\n",
    "$f_n(t)$ = the left amount injected at $n$  hour. It is trivial that $f_n(t)=0$ if $t>n$.\n",
    "\n",
    "Then\n",
    "\\begin{eqnarray}\n",
    "  \\frac{d}{d t}f_n(t) &=& k f_n(t) \\\\\n",
    "  f_n(n)        &=& 5 \\\\\n",
    "  f_n(t)        &=&0, \\text{ for }t\\lt n\\\\\n",
    "\\Longrightarrow f_n(t)  &=& 5e^{k (t-n)}\\chi_{\\{t\\gt n\\}}\n",
    "\\end{eqnarray}\n",
    "where $\\chi_I$ is equal to 1 if $I$ satisfies, 0 otherwise.\n",
    "\n",
    "\n",
    "\n",
    "Then \n",
    "\\begin{eqnarray}\n",
    "  \\text{Total Amount} &=& \\text{ injected at initial }+\\text{ injected at 1 hour }+\\cdots \\\\\n",
    "       &=&5e^{k t}+5e^{k( t-1)}\\chi_{\\{t\\gt 1\\}}+5e^{k( t-2)}\\chi_{\\{t\\gt 2\\}}+\\cdots\n",
    "\\end{eqnarray}\n",
    "until the time $t-k$ is negative"
   ]
  },
  {
   "cell_type": "markdown",
   "metadata": {},
   "source": [
    "Graph Plotting\n",
    "===\n",
    "\n",
    "Pictures in Theory\n",
    "---\n",
    "Just make the picture of $y=f(t)$\n",
    "\n",
    "Picture by Computer\n",
    "---\n",
    "A little work has to be done, define an ordered sequence of time-*variables* and evaluate all the function values at each point, i.e.\n",
    "\n",
    "```\n",
    "    t0,    t1,    t2,    t3,    ..., tn\n",
    "    \n",
    "    f(t0), f(t1), f(t2), f(t3), ..., f(tn)\n",
    "        \n",
    "```\n",
    "Then makes the connected line for $(t_{i-1},f(t_{i-1}))$ to $(t_i,f(t_i))$. "
   ]
  },
  {
   "cell_type": "code",
   "execution_count": null,
   "metadata": {
    "collapsed": false
   },
   "outputs": [],
   "source": [
    "#Exercise picture for x**2\n",
    "a=0 #begin point\n",
    "b=4 #end point\n",
    "n=101 # number of partition\n",
    "t=np.linspace(a,b,n)\n",
    "plt.plot(t,t*t)"
   ]
  },
  {
   "cell_type": "markdown",
   "metadata": {},
   "source": [
    "Exponential Decay\n",
    "---\n",
    "For $k<0$,\n",
    "\n",
    "$$f'(t)=kf(t)\\to f(t)=C e^{kt}$$"
   ]
  },
  {
   "cell_type": "code",
   "execution_count": null,
   "metadata": {
    "collapsed": false
   },
   "outputs": [],
   "source": [
    "k=-0.1\n",
    "plt.figure(figsize=(8,4))\n",
    "t=np.linspace(0,20,101)\n",
    "f=5*exp(k*t)\n",
    "plt.plot(t,f)\n",
    "plt.ylim(0,6)"
   ]
  },
  {
   "cell_type": "code",
   "execution_count": null,
   "metadata": {
    "collapsed": false
   },
   "outputs": [],
   "source": [
    "#Exercise picture \n",
    "a=0 #begin point\n",
    "b=4 #end point\n",
    "n=101 # number of partition\n",
    "t=np.linspace(a,b,n)\n",
    "f=exp(3*t)\n",
    "plt.plot(t,f)"
   ]
  },
  {
   "cell_type": "markdown",
   "metadata": {},
   "source": [
    "Shift Time \n",
    "---\n",
    "Suppose that $t$ \n",
    "\n",
    "```\n",
    "    t0,    t1,    t2,    t3,    ..., tn\n",
    "        \n",
    "```\n",
    "1. define a sequence with value being 1;\n",
    "2. find out the shift index, such as $\\mathbf{[t-1<0]}$, time before i;\n",
    "\n",
    "   - $\\mathbf{[t-1<0]}=0$: return true if satisfies, 0 otherwise;\n",
    "   - $\\mathbf{index[t-1<0]=0}$: reset the elements in index to zero if satisfies the condition;  \n",
    "3. reset the values on the index found in 2) to 0;\n",
    "4. multiple the expontial term by the reset index sequence."
   ]
  },
  {
   "cell_type": "code",
   "execution_count": null,
   "metadata": {
    "collapsed": false
   },
   "outputs": [],
   "source": [
    "# Example: shift time variable with 1 unit\n",
    "index=np.ones(len(t))\n",
    "t=np.linspace(0,20,101)\n",
    "\n",
    "index[t-1<0]=0\n",
    "index,t"
   ]
  },
  {
   "cell_type": "code",
   "execution_count": null,
   "metadata": {
    "collapsed": false
   },
   "outputs": [],
   "source": [
    "k=-1\n",
    "plt.figure(figsize=(8,4))\n",
    "t=np.linspace(0,20,101)\n",
    "index=np.ones(len(t))\n",
    "f=0.5*exp(k*t)\n",
    "i=1\n",
    "while i<20 :\n",
    "    index[t-i<0]=0\n",
    "    f=f+index*0.5*exp(k*(t-i))\n",
    "    i=i+1\n",
    "plt.plot(t,f)\n",
    "\n",
    "plt.ylim(0,2)"
   ]
  },
  {
   "cell_type": "code",
   "execution_count": null,
   "metadata": {
    "collapsed": false
   },
   "outputs": [],
   "source": [
    "def ts(t,i):\n",
    "    #s=zeros(lent)\n",
    "    for ti in t:\n",
    "        if (ti-1<0):\n",
    "            t[ti-1<0]=0\n",
    "    return t"
   ]
  },
  {
   "cell_type": "code",
   "execution_count": null,
   "metadata": {
    "collapsed": false
   },
   "outputs": [],
   "source": [
    "%%bash \n",
    "ipython nbconvert --to html Curvature.ipynb\n"
   ]
  },
  {
   "cell_type": "code",
   "execution_count": null,
   "metadata": {
    "collapsed": true
   },
   "outputs": [],
   "source": []
  }
 ],
 "metadata": {
  "kernelspec": {
   "display_name": "Python 3",
   "language": "python",
   "name": "python3"
  },
  "language_info": {
   "codemirror_mode": {
    "name": "ipython",
    "version": 3
   },
   "file_extension": ".py",
   "mimetype": "text/x-python",
   "name": "python",
   "nbconvert_exporter": "python",
   "pygments_lexer": "ipython3",
   "version": "3.4.3"
  }
 },
 "nbformat": 4,
 "nbformat_minor": 0
}
