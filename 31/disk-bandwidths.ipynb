{
 "cells": [
  {
   "cell_type": "markdown",
   "metadata": {},
   "source": [
    "Measuring Disk Bandwidth\n",
    "----------------------------\n",
    "\n",
    "We measure the speed of writing and reading data to and from disk in Megabytes per Second (MB/s).  We find that disk bandwidth is strongly impacted by the following factors:\n",
    "\n",
    "1.  Reading and writing a few large blocks of data is faster than\n",
    "    reading/writing many many small blocks of data\n",
    "2.  Reading is faster than writing\n",
    "3.  Solid state drives are faster than spinning disk *especially for\n",
    "    many small reads/writes*\n",
    "\n",
    "In this notebook we measure the impact of file size on disk bandwidths for both reading and writing."
   ]
  },
  {
   "cell_type": "code",
   "execution_count": null,
   "metadata": {
    "collapsed": true
   },
   "outputs": [],
   "source": [
    "%load_ext watermark\n",
    "%watermark -a \"name ? sequence number: \" \\\n",
    "   -d -v -m -p numpy"
   ]
  },
  {
   "cell_type": "code",
   "execution_count": null,
   "metadata": {
    "collapsed": true
   },
   "outputs": [],
   "source": [
    "import numpy as np\n",
    "import os\n",
    "from time import time, sleep"
   ]
  },
  {
   "cell_type": "code",
   "execution_count": null,
   "metadata": {
    "collapsed": false
   },
   "outputs": [],
   "source": [
    "import shutil\n",
    "if os.path.exists('tmp'):\n",
    "    shutil.rmtree('tmp')\n",
    "os.mkdir('tmp')"
   ]
  },
  {
   "cell_type": "markdown",
   "metadata": {},
   "source": [
    "Write Bandwidth\n",
    "-----------------\n",
    "\n",
    "We create random bytes of varying sizes using numpy\n",
    "\n",
    "    data = np.random.random(n).tobytes()\n",
    "    \n",
    "We write these bytes to many different files.  For large file sizes we write only a few files, for small file sizes we write many files.  We measure the total runtime and compare that to the number of bytes written per file size."
   ]
  },
  {
   "cell_type": "code",
   "execution_count": null,
   "metadata": {
    "collapsed": false
   },
   "outputs": [],
   "source": [
    "nk = 2**28\n",
    "nks = [(int(nk / k), min(1000, k)) for k in 2**np.arange(0, 19)]\n",
    "nks"
   ]
  },
  {
   "cell_type": "code",
   "execution_count": null,
   "metadata": {
    "collapsed": true
   },
   "outputs": [],
   "source": [
    "def median(L):\n",
    "    return sorted(L)[len(L) // 2]  # asymptotically inefficient"
   ]
  },
  {
   "cell_type": "code",
   "execution_count": null,
   "metadata": {
    "collapsed": false
   },
   "outputs": [],
   "source": [
    "%%time\n",
    "write_bandwidths = dict()\n",
    "for n, k in nks:\n",
    "    data = np.random.random(int(n / 8)).tobytes()\n",
    "    filenames = [os.path.join('tmp', '%d-%d' % (n, i)) for i in range(k)]   \n",
    "\n",
    "    start = time()\n",
    "    for fn in filenames:\n",
    "        with open(fn, 'wb') as f:\n",
    "            f.write(data)\n",
    "            os.fsync(f)  # sync file system with disk (avoids file system magic)\n",
    "    end = time()\n",
    "    \n",
    "    write_bandwidths[n] = (n*k) / (end - start) / 1e6\n",
    "    \n",
    "    sleep(1)  # let things settle between runs"
   ]
  },
  {
   "cell_type": "code",
   "execution_count": null,
   "metadata": {
    "collapsed": false
   },
   "outputs": [],
   "source": [
    "%%time\n",
    "write_bandwidths = dict()\n",
    "for n, k in nks:\n",
    "    data = np.random.random(int(n / 8)).tobytes()\n",
    "    filenames = [os.path.join('tmp', '%d-%d' % (n, i)) for i in range(k)]   \n",
    "\n",
    "    start = time()\n",
    "    for fn in filenames:\n",
    "        with open(fn, 'wb') as f:\n",
    "            f.write(data)\n",
    "            os.fsync(f)  # sync file system with disk (avoids file system magic)\n",
    "    end = time()\n",
    "    \n",
    "    write_bandwidths[n] = (n*k) / (end - start) / 1e6\n",
    "    \n",
    "    sleep(1)  # let things settle between runs"
   ]
  },
  {
   "cell_type": "code",
   "execution_count": null,
   "metadata": {
    "collapsed": false
   },
   "outputs": [],
   "source": [
    "write_bandwidths  # MB/s"
   ]
  },
  {
   "cell_type": "code",
   "execution_count": null,
   "metadata": {
    "collapsed": false
   },
   "outputs": [],
   "source": [
    "write_bandwidths  # MB/s"
   ]
  },
  {
   "cell_type": "code",
   "execution_count": null,
   "metadata": {
    "collapsed": false
   },
   "outputs": [],
   "source": [
    "from matplotlib import pyplot as plt\n",
    "%matplotlib inline\n",
    "x = sorted(write_bandwidths.keys())\n",
    "y = [write_bandwidths[k] for k in x]\n",
    "plt.figure(figsize=(12, 6))\n",
    "plt.title(\"Write Bandwidths by File Size\")\n",
    "plt.xlabel(\"File size (bytes)\")\n",
    "plt.ylabel(\"Bandwidth (MB/s)\")\n",
    "plt.semilogx(x, y)"
   ]
  },
  {
   "cell_type": "code",
   "execution_count": null,
   "metadata": {
    "collapsed": false
   },
   "outputs": [],
   "source": [
    "from matplotlib import pyplot as plt\n",
    "%matplotlib inline\n",
    "x = sorted(write_bandwidths.keys())\n",
    "y = [write_bandwidths[k] for k in x]\n",
    "plt.figure(figsize=(12, 6))\n",
    "plt.title(\"Write Bandwidths by File Size\")\n",
    "plt.xlabel(\"File size (bytes)\")\n",
    "plt.ylabel(\"Bandwidth (MB/s)\")\n",
    "plt.semilogx(x, y)"
   ]
  },
  {
   "cell_type": "markdown",
   "metadata": {},
   "source": [
    "### Clear file system buffers\n",
    "\n",
    "Warning, your file system likely caches recent writes in RAM.  For accurate results you need to clear out your file system buffers before running the code below.  A simple way to clear out file system buffers is to restart your machine.\n",
    "\n",
    "Alternatively your operating system likely has a mechanism to clear the cache.  On Ubuntu 14.04 I use the following: http://ubuntuforums.org/showthread.php?t=589975\n",
    "\n",
    "```\n",
    "$ sudo su \n",
    "# sync\n",
    "# echo 3 > /proc/sys/vm/drop_caches\n",
    "```"
   ]
  },
  {
   "cell_type": "markdown",
   "metadata": {},
   "source": [
    "### Read bandwidths\n",
    "\n"
   ]
  },
  {
   "cell_type": "code",
   "execution_count": null,
   "metadata": {
    "collapsed": false
   },
   "outputs": [],
   "source": [
    "read_bandwidths = dict()\n",
    "\n",
    "for n, k in nks:\n",
    "    filenames = [os.path.join('tmp', '%d-%d' % (n, i)) for i in range(k)]   \n",
    "\n",
    "    start = time()\n",
    "    for fn in filenames:\n",
    "        with open(fn, 'rb') as f:\n",
    "            _ = f.read()\n",
    "    end = time()\n",
    "\n",
    "    read_bandwidths[n] = (n * k) / (end - start) / 1e6\n",
    "    \n",
    "    sleep(1)  # let things settle between runs"
   ]
  },
  {
   "cell_type": "code",
   "execution_count": null,
   "metadata": {
    "collapsed": false
   },
   "outputs": [],
   "source": [
    "from matplotlib import pyplot as plt\n",
    "%matplotlib inline\n",
    "x = sorted(read_bandwidths.keys())\n",
    "read = [read_bandwidths[k] for k in x]\n",
    "write = [write_bandwidths[k] for k in x]\n",
    "plt.figure(figsize=(12, 6))\n",
    "plt.title(\"Bandwidths by File Size\")\n",
    "plt.xlabel(\"File size (bytes)\")\n",
    "plt.ylabel(\"Bandwidth (MB/s)\")\n",
    "plt.semilogx(x, read, label='read (MB/s)', color='blue')\n",
    "plt.semilogx(x, write, label='write (MB/s)', color='green')\n",
    "plt.legend(loc='best')"
   ]
  },
  {
   "cell_type": "code",
   "execution_count": null,
   "metadata": {
    "collapsed": false
   },
   "outputs": [],
   "source": [
    "read_bandwidths"
   ]
  },
  {
   "cell_type": "code",
   "execution_count": null,
   "metadata": {
    "collapsed": true
   },
   "outputs": [],
   "source": []
  }
 ],
 "metadata": {
  "kernelspec": {
   "display_name": "Python 3",
   "language": "python",
   "name": "python3"
  },
  "language_info": {
   "codemirror_mode": {
    "name": "ipython",
    "version": 3
   },
   "file_extension": ".py",
   "mimetype": "text/x-python",
   "name": "python",
   "nbconvert_exporter": "python",
   "pygments_lexer": "ipython3",
   "version": "3.4.3"
  }
 },
 "nbformat": 4,
 "nbformat_minor": 0
}
