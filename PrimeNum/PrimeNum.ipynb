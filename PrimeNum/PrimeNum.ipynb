{
 "cells": [
  {
   "cell_type": "markdown",
   "metadata": {},
   "source": [
    "What sort of Hypothesis is the *Riemann Hypothesis*\n",
    "===\n",
    "Consider the seemingly innocuous series of questions:\n",
    "\n",
    "- How many prime numbers (2, 3, 5, 7, 11, 13, 17, ...) are there less than 100?\n",
    "- How many less than 10,000?\n",
    "- How many less than 1,000,000?\n",
    "\n",
    "More generally, how many primes are there less than any given\n",
    "number $X$?\n",
    "Riemann proposed, a century and half ago, a strikingly simple-to-describe “very good approximation” to the number of primes less than a given number $X$. We now see that if we could prove this Hypothesis of Riemann we would have the key to a wealth of powerful mathematics. Mathematicians are eager to find that key."
   ]
  },
  {
   "cell_type": "code",
   "execution_count": 36,
   "metadata": {
    "collapsed": false
   },
   "outputs": [],
   "source": [
    "%matplotlib inline\n",
    "import matplotlib.pylab as plt\n",
    "from numpy import log,sqrt\n",
    "from IPython.display import IFrame\n",
    "from IPython.display import display,clear_output,HTML\n",
    "\n",
    "import numpy\n",
    "import numpy as np\n",
    "import math\n",
    "import time\n",
    "import sys"
   ]
  },
  {
   "cell_type": "markdown",
   "metadata": {},
   "source": [
    "People of the lecture\n",
    "---\n",
    "1. Bernhard Riemann:\n",
    "2. Carl Friedrish Gauss"
   ]
  },
  {
   "cell_type": "code",
   "execution_count": 50,
   "metadata": {
    "collapsed": false
   },
   "outputs": [
    {
     "data": {
      "text/html": [
       "\n",
       "        <iframe\n",
       "            width=\"800\"\n",
       "            height=\"400\"\n",
       "            src=\"https://en.wikipedia.org/wiki/Bernhard_Riemann\"\n",
       "            frameborder=\"0\"\n",
       "            allowfullscreen\n",
       "        ></iframe>\n",
       "        "
      ],
      "text/plain": [
       "<IPython.lib.display.IFrame at 0x10947fef0>"
      ]
     },
     "execution_count": 50,
     "metadata": {},
     "output_type": "execute_result"
    }
   ],
   "source": [
    "IFrame('https://en.wikipedia.org/wiki/Bernhard_Riemann',width=800,height=400) "
   ]
  },
  {
   "cell_type": "code",
   "execution_count": 52,
   "metadata": {
    "collapsed": false
   },
   "outputs": [
    {
     "data": {
      "text/html": [
       "\n",
       "        <iframe\n",
       "            width=\"800\"\n",
       "            height=\"500\"\n",
       "            src=\"https://en.wikipedia.org/wiki/Carl_Friedrich_Gauss\"\n",
       "            frameborder=\"0\"\n",
       "            allowfullscreen\n",
       "        ></iframe>\n",
       "        "
      ],
      "text/plain": [
       "<IPython.lib.display.IFrame at 0x109540470>"
      ]
     },
     "execution_count": 52,
     "metadata": {},
     "output_type": "execute_result"
    }
   ],
   "source": [
    "IFrame('https://en.wikipedia.org/wiki/Carl_Friedrich_Gauss',width=800,height=500) "
   ]
  },
  {
   "cell_type": "markdown",
   "metadata": {},
   "source": [
    "Prime Number\n",
    "---\n",
    "A positive integer is called *prime number* if it cannot be divided by other integers.\n",
    "\n",
    "The first 5 prime numbers in ordered are 2, 3, 5, 7, 11, i.e. we can see that the 5th prime is 11.\n",
    "<br>\n",
    "\n",
    "Question\n",
    "---\n",
    "What is the 1000st prime number?"
   ]
  },
  {
   "cell_type": "code",
   "execution_count": null,
   "metadata": {
    "collapsed": true
   },
   "outputs": [],
   "source": [
    "def isPrime(x):\n",
    "    if (x==1):\n",
    "        return False\n",
    "    for i in range(2,x):\n",
    "        if x%i==0:\n",
    "            return False\n",
    "    return True\n",
    "\n",
    "def getPrimes(maxValue):\n",
    "    primes = []\n",
    "    for i in range(1,maxValue):\n",
    "        if isPrime(i):\n",
    "            primes.append(i)\n",
    "    return primes"
   ]
  },
  {
   "cell_type": "code",
   "execution_count": null,
   "metadata": {
    "collapsed": false
   },
   "outputs": [],
   "source": [
    "primes = getPrimes(10000)\n",
    "p1000=primes[1000-1]\n",
    "print(\"the 1000st prime number is\", p1000)"
   ]
  },
  {
   "cell_type": "code",
   "execution_count": null,
   "metadata": {
    "collapsed": false
   },
   "outputs": [],
   "source": [
    "lent=len(primes)\n",
    "print(\"There are\", lent, \"primes numbers within 10000.\")"
   ]
  },
  {
   "cell_type": "markdown",
   "metadata": {},
   "source": [
    "Practice\n",
    "---\n",
    "\n",
    "What is the 98765st prime number?"
   ]
  },
  {
   "cell_type": "code",
   "execution_count": null,
   "metadata": {
    "collapsed": true
   },
   "outputs": [],
   "source": []
  },
  {
   "cell_type": "code",
   "execution_count": null,
   "metadata": {
    "collapsed": false
   },
   "outputs": [],
   "source": [
    "%%timeit\n",
    "getPrimes(10000)"
   ]
  },
  {
   "cell_type": "markdown",
   "metadata": {},
   "source": []
  },
  {
   "cell_type": "code",
   "execution_count": null,
   "metadata": {
    "collapsed": false
   },
   "outputs": [],
   "source": [
    "def showState(l, p, nx):\n",
    "    numbers = ''\n",
    "    for n in l:\n",
    "        style=''\n",
    "        if n<0:\n",
    "            style+='text-decoration: line-through; background-color: rgb(171, 231, 255);'\n",
    "        if n==p:\n",
    "            style+='background-color: rgb(230,255,95);'\n",
    "        if n==nx:\n",
    "            style+='background-color: rgb(150, 233, 150);'\n",
    "        if n==0:\n",
    "            style+='background-color: rgb(220,220,220); color: rgb(220,220,220);'    \n",
    "        numbers+='<td style=\"color: rgb(50,50,50); padding:0; width:1.5em; border-color: rgb(240,240,240); text-align:center;{0}\">{1}</td>'.format(style, abs(n))\n",
    "    s = \"\"\"<table style='font-size: 12px; height:0.7em; '>\n",
    "    <tr style=\"height: 0.7em;\"'>{0}</tr></table>\"\"\".format(numbers)\n",
    "    h = HTML(s)\n",
    "    display(h)\n",
    "    \n",
    "\n",
    "def sieve(size, showStates=True):\n",
    "    l = list(range(2,size+1)) #generate the candidate set\n",
    "    idx = lambda x: x-2 #just a simple mapping from number in list to list index\n",
    "    p = 2 #seed with initial prime\n",
    "    \n",
    "    for iteration in range(len(l)):\n",
    "        #mark every multiple of p\n",
    "        for i in range(p*2, size+1, p):\n",
    "            l[idx(i)] = -i\n",
    "                \n",
    "        #find the next unmarked value, that's the next p\n",
    "        nextPrime = 0\n",
    "        for i in l[idx(p+1):]:\n",
    "            if i>0:\n",
    "                nextPrime = i\n",
    "                break\n",
    "        \n",
    "        if (showStates):\n",
    "            showState(l, p, nextPrime)\n",
    "            for i in range(p*2, size+1, p):\n",
    "                l[idx(i)] = 0\n",
    "                \n",
    "        p = nextPrime\n",
    "        \n",
    "        #if we haven't found any unmarked values, we're done\n",
    "        if p == 0:\n",
    "            break\n",
    "            \n",
    "    #return all unmarked values    \n",
    "    return filter(lambda x: x>0, l)\n",
    "\n",
    "sieve(58, True)"
   ]
  },
  {
   "cell_type": "code",
   "execution_count": null,
   "metadata": {
    "collapsed": false
   },
   "outputs": [],
   "source": [
    "def sieve1(size, showStates=True):\n",
    "    l = list(range(2,size+1)) #generate the candidate set\n",
    "    idx = lambda x: x-2 #just a simple mapping from number in list to list index\n",
    "    p = 2 #seed with initial prime\n",
    "    \n",
    "    for iteration in range(len(l)):\n",
    "        #mark every multiple of p\n",
    "        for i in range(p*2, size+1, p):\n",
    "            l[idx(i)] = -i\n",
    "                \n",
    "        #find the next unmarked value, that's the next p\n",
    "        nextPrime = 0\n",
    "        for i in l[idx(p+1):]:\n",
    "            if i>0:\n",
    "                nextPrime = i\n",
    "                break\n",
    "        \n",
    "        if (showStates):\n",
    "            time.sleep(1)\n",
    "            clear_output()\n",
    "            showState(l, p, nextPrime)\n",
    "            sys.stdout.flush()\n",
    "            for i in range(p*2, size+1, p):\n",
    "                l[idx(i)] = 0\n",
    "                \n",
    "        p = nextPrime\n",
    "        \n",
    "        #if we haven't found any unmarked values, we're done\n",
    "        if p == 0:\n",
    "            break\n",
    "            \n",
    "    #return all unmarked values  \n",
    "    return filter(lambda x: x>0, l)\n",
    "\n",
    "#sieve(58, True)"
   ]
  },
  {
   "cell_type": "code",
   "execution_count": null,
   "metadata": {
    "collapsed": false
   },
   "outputs": [],
   "source": [
    "sieve1(58, True)"
   ]
  },
  {
   "cell_type": "code",
   "execution_count": null,
   "metadata": {
    "collapsed": true
   },
   "outputs": [],
   "source": [
    "def prime1(upto=100):\n",
    "    # The first prime is 2, \n",
    "    primes=[]\n",
    "    if (upto >1):\n",
    "       primes=[2]\n",
    "       # test whether the odd numbers after 3 is prime\n",
    "       for num in range(3,upto+1,2):\n",
    "           isprime=True\n",
    "           # test the factor no more than square of number \n",
    "           for factor in range(3,1+int(math.sqrt(num)),2):\n",
    "               if not num % factor: isprime=False; break\n",
    "           if isprime: primes.append(num)           \n",
    "    return primes"
   ]
  },
  {
   "cell_type": "code",
   "execution_count": null,
   "metadata": {
    "collapsed": false
   },
   "outputs": [],
   "source": [
    "not 0"
   ]
  },
  {
   "cell_type": "code",
   "execution_count": null,
   "metadata": {
    "collapsed": false
   },
   "outputs": [],
   "source": [
    "%time  x=prime1(1000000)"
   ]
  },
  {
   "cell_type": "code",
   "execution_count": null,
   "metadata": {
    "collapsed": true
   },
   "outputs": [],
   "source": [
    "def FastPrime(max):\n",
    "    possible_primes =  np.arange(3,max+1, 2)\n",
    "    curr_index = -1\n",
    "    max_index = len(possible_primes)\n",
    "    for latest_prime in possible_primes:\n",
    "        curr_index +=1\n",
    "        if not latest_prime : continue\n",
    "        for index_variable_not_named_j in np.arange((curr_index+latest_prime),max_index, latest_prime): \n",
    "            possible_primes[index_variable_not_named_j]=0\n",
    "    np.insert(possible_primes,0,2)\n",
    "    return [x for x in possible_primes if x > 0]"
   ]
  },
  {
   "cell_type": "code",
   "execution_count": null,
   "metadata": {
    "collapsed": false
   },
   "outputs": [],
   "source": [
    "%time  x=FastPrime(1000000)"
   ]
  },
  {
   "cell_type": "code",
   "execution_count": null,
   "metadata": {
    "collapsed": false
   },
   "outputs": [],
   "source": [
    "y=np.linspace(1,len(x)+1,len(x))\n",
    "gx=np.linspace(2,1000000,10000000-1)"
   ]
  },
  {
   "cell_type": "code",
   "execution_count": null,
   "metadata": {
    "collapsed": false
   },
   "outputs": [],
   "source": [
    "%matplotlib inline\n",
    "import matplotlib.pylab as plt\n",
    "from numpy import log,sqrt\n",
    "plt.plot(x,y,gx,gx/log(gx))"
   ]
  },
  {
   "cell_type": "code",
   "execution_count": null,
   "metadata": {
    "collapsed": true
   },
   "outputs": [],
   "source": []
  },
  {
   "cell_type": "code",
   "execution_count": null,
   "metadata": {
    "collapsed": false
   },
   "outputs": [],
   "source": [
    "def maxPrime(n):\n",
    "    return int(0.5+(float(n)*log(n)+ n*log(log(n))))\n",
    "    \n",
    "limit = maxPrime(10000)\n",
    "print('The 10000th prime has a value < {0}'.format(limit))"
   ]
  },
  {
   "cell_type": "code",
   "execution_count": null,
   "metadata": {
    "collapsed": true
   },
   "outputs": [],
   "source": []
  },
  {
   "cell_type": "markdown",
   "metadata": {},
   "source": [
    "How many primes are there\n",
    "---\n",
    "Let us count the prime number within an upper bound.\n",
    "You can see that there are 25 primes less than 100, so you might encapsulate this by saying that the chances that a number less than 100 is prime is 1 in 4, i.e. $\\frac{25}{100}=\\frac{1}{4}$."
   ]
  },
  {
   "cell_type": "code",
   "execution_count": null,
   "metadata": {
    "collapsed": false
   },
   "outputs": [],
   "source": [
    "len(FastPrime(101))"
   ]
  },
  {
   "cell_type": "code",
   "execution_count": null,
   "metadata": {
    "collapsed": false
   },
   "outputs": [],
   "source": [
    "x=np.linspace(1,100,100,dtype=int)\n",
    "#y=[len(FastPrime(i+1))/(i) for i in x]\n",
    "y=[len(prime1(i))/(i) for i in x]"
   ]
  },
  {
   "cell_type": "code",
   "execution_count": null,
   "metadata": {
    "collapsed": false
   },
   "outputs": [],
   "source": [
    "plt.plot(x,y)"
   ]
  },
  {
   "cell_type": "markdown",
   "metadata": {},
   "source": [
    "Get much feeling, use step function"
   ]
  },
  {
   "cell_type": "code",
   "execution_count": null,
   "metadata": {
    "collapsed": false
   },
   "outputs": [],
   "source": [
    "plt.step(x,y)"
   ]
  },
  {
   "cell_type": "code",
   "execution_count": null,
   "metadata": {
    "collapsed": false
   },
   "outputs": [],
   "source": [
    "max=1000\n",
    "x=np.linspace(1,max,max,dtype=int)\n",
    "#y=[len(FastPrime(i+1))/(i) for i in x]\n",
    "y=[len(prime1(i))/(i) for i in x]"
   ]
  },
  {
   "cell_type": "code",
   "execution_count": null,
   "metadata": {
    "collapsed": false
   },
   "outputs": [],
   "source": [
    "plt.step(x,y)"
   ]
  },
  {
   "cell_type": "markdown",
   "metadata": {
    "collapsed": true
   },
   "source": [
    "Question\n",
    "---\n",
    "Primes, then, seem to be thinning out. \n",
    "\n",
    "What is the chance of a number being a prime number which is randomly chosen from 1 to 1 billion?"
   ]
  },
  {
   "cell_type": "code",
   "execution_count": null,
   "metadata": {
    "collapsed": true
   },
   "outputs": [],
   "source": []
  },
  {
   "cell_type": "markdown",
   "metadata": {},
   "source": [
    "Approximation for Curves of number of Primes\n",
    "---"
   ]
  },
  {
   "cell_type": "code",
   "execution_count": null,
   "metadata": {
    "collapsed": true
   },
   "outputs": [],
   "source": [
    "max=1000\n",
    "x=np.linspace(1,max,max,dtype=int)\n",
    "#y=[len(FastPrime(i+1))/(i) for i in x]\n",
    "y=[len(prime1(i)) for i in x]"
   ]
  },
  {
   "cell_type": "code",
   "execution_count": null,
   "metadata": {
    "collapsed": false
   },
   "outputs": [],
   "source": [
    "plt.figure(figsize=(6,6))\n",
    "plt.plot(x,x,label=\"All numbers\")\n",
    "plt.step(x,y,label=\"number of primes\")\n",
    "plt.legend()"
   ]
  },
  {
   "cell_type": "markdown",
   "metadata": {},
   "source": [
    "What the curve of length of prime numbers\n",
    "---\n",
    "\n",
    "Carl Friedrich Gauss' result:\n",
    "\n",
    "  &nbsp;&nbsp;&nbsp;The number of primes up to $X$ is approximately $X$ divided by twice the number of digits of $X$.\n",
    "  \n",
    "for example,\n",
    "\n",
    "- number of primes less than 99 should be roughly:\n",
    "  $$\\frac{99}{2\\times2}= 24.75\\approx25$$\n",
    "\n",
    "- number of primes less than 9999 should be roughly:\n",
    "  $$\\frac{9999}{2\\times4}= 153.625\\approx154$$ \n",
    "  \n",
    "Precisely, the function of predicted number of prime numbers up to $X$ is defined as follows:\n",
    "\n",
    "$$ G(X)=\\int^X_2\\frac{dx}{\\log(x)}$$\n",
    "\n",
    "where $\\log(\\circ)$ is natural logrithm function."
   ]
  },
  {
   "cell_type": "code",
   "execution_count": null,
   "metadata": {
    "collapsed": false
   },
   "outputs": [],
   "source": [
    "x=np.linspace(2,49,99)\n",
    "plt.fill_between(x,1/np.log(x), color=\"green\", alpha=0.3);\n",
    "x2=np.linspace(2,100,99)\n",
    "plt.plot(x2,1/np.log(x2),color='green',label=r'$1/{\\log(x)}$')\n",
    "plt.text(48,0.4,'X')\n",
    "plt.text(7,0.13,r'$\\int_2^X\\frac{dx}{\\log(x)}$',size=16)\n",
    "\n",
    "plt.legend()"
   ]
  },
  {
   "cell_type": "code",
   "execution_count": null,
   "metadata": {
    "collapsed": false
   },
   "outputs": [],
   "source": [
    "len(prime1(1000))"
   ]
  },
  {
   "cell_type": "code",
   "execution_count": null,
   "metadata": {
    "collapsed": false
   },
   "outputs": [],
   "source": [
    "len(prime1(9999))/2/4"
   ]
  },
  {
   "cell_type": "code",
   "execution_count": null,
   "metadata": {
    "collapsed": true
   },
   "outputs": [],
   "source": [
    "from scipy.integrate import quad"
   ]
  },
  {
   "cell_type": "code",
   "execution_count": null,
   "metadata": {
    "collapsed": true
   },
   "outputs": [],
   "source": [
    "def integrand(x):\n",
    "    return 1/(np.log(x))\n",
    "x_lower = 2\n",
    "\n",
    "def G(X=100):\n",
    "    x_upper = X\n",
    "    val, abserr = quad(integrand, x_lower, x_upper)\n",
    "    return val"
   ]
  },
  {
   "cell_type": "code",
   "execution_count": null,
   "metadata": {
    "collapsed": false
   },
   "outputs": [],
   "source": [
    "G(999999)"
   ]
  },
  {
   "cell_type": "code",
   "execution_count": null,
   "metadata": {
    "collapsed": false
   },
   "outputs": [],
   "source": [
    "len(prime1(999999))"
   ]
  },
  {
   "cell_type": "code",
   "execution_count": null,
   "metadata": {
    "collapsed": false
   },
   "outputs": [],
   "source": [
    "G(99)"
   ]
  },
  {
   "cell_type": "code",
   "execution_count": null,
   "metadata": {
    "collapsed": false
   },
   "outputs": [],
   "source": [
    "max=250\n",
    "x=np.linspace(1,max,max,dtype=int)\n",
    "#y=[len(FastPrime(i+1))/(i) for i in x]\n",
    "y=[len(prime1(i)) for i in x]\n",
    "Gx=np.linspace(2,max,100)\n",
    "Gy=[G(x) for x in Gx]"
   ]
  },
  {
   "cell_type": "code",
   "execution_count": null,
   "metadata": {
    "collapsed": false
   },
   "outputs": [],
   "source": [
    "#plt.figure(figsize=(6,6))\n",
    "plt.step(Gx,Gy,label=\"Gauss Approximation\")\n",
    "plt.step(x,y,label=\"number of primes\",color='red')\n",
    "plt.legend(loc='upper left')"
   ]
  },
  {
   "cell_type": "markdown",
   "metadata": {},
   "source": [
    "Awesone the Gauss' approximation!\n",
    "\n",
    "Gauss was an inveterate computer: \n",
    "\n",
    "&nbsp;&nbsp;(a). he wrote in his 1849 letter that there are 216,745 prime numbers less than three million.\n",
    "\n",
    "&nbsp;&nbsp;(b). Gauss’s curve $G(X)$ predicted that there would be 216,970 primes (maybe you calculus scheme is better than Gauss's).\n",
    "\n",
    "True of wrong about the above?"
   ]
  },
  {
   "cell_type": "markdown",
   "metadata": {},
   "source": [
    "What is the best fit\n",
    "---\n"
   ]
  },
  {
   "cell_type": "code",
   "execution_count": null,
   "metadata": {
    "collapsed": false
   },
   "outputs": [],
   "source": [
    "plt.figure(figsize=(12,6))\n",
    "plt.step(Gx,Gy,label=r\"$Li(X)$=Gauss Approximation\")\n",
    "plt.step(x,y,label=r\"$\\pi(X)$=number of primes\",color='red')\n",
    "plt.plot(x,x/np.log(x),label=r'$x/\\log(x)$')\n",
    "plt.legend(loc='upper left')"
   ]
  },
  {
   "cell_type": "markdown",
   "metadata": {},
   "source": [
    "The Riemann Hypothesis \n",
    "---\n",
    "For any real number $X$ the number of prime numbers less than $X$ is approximately $Li(X)$ and this approximation is essentially square root accurate."
   ]
  },
  {
   "cell_type": "code",
   "execution_count": null,
   "metadata": {
    "collapsed": true
   },
   "outputs": [],
   "source": []
  },
  {
   "cell_type": "code",
   "execution_count": null,
   "metadata": {
    "collapsed": true
   },
   "outputs": [],
   "source": []
  },
  {
   "cell_type": "code",
   "execution_count": null,
   "metadata": {
    "collapsed": true
   },
   "outputs": [],
   "source": []
  },
  {
   "cell_type": "code",
   "execution_count": null,
   "metadata": {
    "collapsed": true
   },
   "outputs": [],
   "source": []
  },
  {
   "cell_type": "markdown",
   "metadata": {},
   "source": [
    "<h2>Problem</h2>\n",
    "\n",
    "The four adjacent digits in the 1000-digit number that have the greatest product are 9 × 9 × 8 × 9 = 5832.\n",
    "\n",
    "<pre style='font-size: 11px; line-height: 1; margin-left: 10em;'>\n",
    "73167176531330624919225119674426574742355349194934\n",
    "96983520312774506326239578318016984801869478851843\n",
    "85861560789112949495459501737958331952853208805511\n",
    "12540698747158523863050715693290963295227443043557\n",
    "66896648950445244523161731856403098711121722383113\n",
    "62229893423380308135336276614282806444486645238749\n",
    "30358907296290491560440772390713810515859307960866\n",
    "70172427121883998797908792274921901699720888093776\n",
    "65727333001053367881220235421809751254540594752243\n",
    "52584907711670556013604839586446706324415722155397\n",
    "53697817977846174064955149290862569321978468622482\n",
    "83972241375657056057490261407972968652414535100474\n",
    "82166370484403199890008895243450658541227588666881\n",
    "16427171479924442928230863465674813919123162824586\n",
    "17866458359124566529476545682848912883142607690042\n",
    "24219022671055626321111109370544217506941658960408\n",
    "07198403850962455444362981230987879927244284909188\n",
    "84580156166097919133875499200524063689912560717606\n",
    "05886116467109405077541002256983155200055935729725\n",
    "71636269561882670428252483600823257530420752963450\n",
    "</pre>\n",
    "Find the thirteen adjacent digits in the 1000-digit number that have the greatest product. What is the value of this product?\n",
    "\n",
    "---"
   ]
  },
  {
   "cell_type": "code",
   "execution_count": null,
   "metadata": {
    "collapsed": false
   },
   "outputs": [],
   "source": [
    "source = '''\n",
    "73167176531330624919225119674426574742355349194934\n",
    "96983520312774506326239578318016984801869478851843\n",
    "85861560789112949495459501737958331952853208805511\n",
    "12540698747158523863050715693290963295227443043557\n",
    "66896648950445244523161731856403098711121722383113\n",
    "62229893423380308135336276614282806444486645238749\n",
    "30358907296290491560440772390713810515859307960866\n",
    "70172427121883998797908792274921901699720888093776\n",
    "65727333001053367881220235421809751254540594752243\n",
    "52584907711670556013604839586446706324415722155397\n",
    "53697817977846174064955149290862569321978468622482\n",
    "83972241375657056057490261407972968652414535100474\n",
    "82166370484403199890008895243450658541227588666881\n",
    "16427171479924442928230863465674813919123162824586\n",
    "17866458359124566529476545682848912883142607690042\n",
    "24219022671055626321111109370544217506941658960408\n",
    "07198403850962455444362981230987879927244284909188\n",
    "84580156166097919133875499200524063689912560717606\n",
    "05886116467109405077541002256983155200055935729725\n",
    "71636269561882670428252483600823257530420752963450\n",
    "'''.replace('\\n','')\n",
    "\n",
    "#break the source string into a series of 13 character long slices at every possible position\n",
    "window_size = 13\n",
    "slices = [source[x:x+window_size] for x in range(len(source) - window_size + 1)]\n",
    "\n",
    "#compute the product of each slice\n",
    "products = [np.product(np.array(list(row),dtype=int)) for row in slices]\n",
    "max(products)"
   ]
  },
  {
   "cell_type": "code",
   "execution_count": null,
   "metadata": {
    "collapsed": false
   },
   "outputs": [],
   "source": [
    "plt.plot(products)"
   ]
  },
  {
   "cell_type": "code",
   "execution_count": null,
   "metadata": {
    "collapsed": false
   },
   "outputs": [],
   "source": [
    "len(products)"
   ]
  },
  {
   "cell_type": "code",
   "execution_count": null,
   "metadata": {
    "collapsed": false
   },
   "outputs": [],
   "source": [
    "z=np.random.randint(0,10,100)"
   ]
  },
  {
   "cell_type": "code",
   "execution_count": null,
   "metadata": {
    "collapsed": false
   },
   "outputs": [],
   "source": [
    "print(np.product(z[:10]))"
   ]
  },
  {
   "cell_type": "code",
   "execution_count": null,
   "metadata": {
    "collapsed": false
   },
   "outputs": [],
   "source": [
    "num=1000\n",
    "size=13\n",
    "z=np.random.randint(0,10,num)\n",
    "products=np.zeros(len(z)-size)\n",
    "for i in range(len(z)-size):\n",
    "    products[i]=int(np.product(z[i:size+i]))\n",
    "int(max(products))"
   ]
  },
  {
   "cell_type": "code",
   "execution_count": null,
   "metadata": {
    "collapsed": false
   },
   "outputs": [],
   "source": [
    "plt.plot(products)"
   ]
  },
  {
   "cell_type": "code",
   "execution_count": null,
   "metadata": {
    "collapsed": true
   },
   "outputs": [],
   "source": []
  }
 ],
 "metadata": {
  "kernelspec": {
   "display_name": "Python 3",
   "language": "python",
   "name": "python3"
  },
  "language_info": {
   "codemirror_mode": {
    "name": "ipython",
    "version": 3
   },
   "file_extension": ".py",
   "mimetype": "text/x-python",
   "name": "python",
   "nbconvert_exporter": "python",
   "pygments_lexer": "ipython3",
   "version": "3.4.3"
  }
 },
 "nbformat": 4,
 "nbformat_minor": 0
}
