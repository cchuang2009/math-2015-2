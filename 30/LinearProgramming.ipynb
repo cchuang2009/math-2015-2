{
 "cells": [
  {
   "cell_type": "markdown",
   "metadata": {},
   "source": [
    "<font face=\"chalkduster\">\n",
    "Clash of clans\n",
    "===\n",
    "one of new favorate game last year, users have to build their base with buildings to obtain resources, create troops and defend against attacks, \n",
    "\n",
    "<img src=\"imgs/0.png\" width=80% align=\"center\">\n",
    "As well as building your base, you can also put together a raiding party and attacking other bases.\n",
    "In this post, I'll describe the use of a mathematical technique called linear programming so as to get the best combination of Giants, Wizards etc in a raiding party.\n",
    "\n",
    "To train a warrior costs Elixir (a resource that you mine and/or plunder) but also costs space in your army camps.\n",
    "\n",
    "Here are the various warriors available to me at the moment (as you build better buildings you get more warriors etc...).\n",
    "\n",
    "<table>\n",
    "<tr>   \n",
    "   <th>\n",
    "   <div align=\"left\">Barbarian<br>\n",
    "                       Damage per second: 18,<br> Hitpoints: 78,<br> Housing Space: 1,<br> Elixir Cost: 80</div>\n",
    "   </th>\n",
    "   <th>\n",
    "   <div align=\"left\">Archer <br>\n",
    "   Damage per second: 16,<br>\n",
    "   Hitpoints: 33, <br>Housing Space: 1,<br> Elixir Cost: 160</div>\n",
    "   </th>\n",
    "   <th>\n",
    "   <div align=\"left\">Goblin <br>\n",
    "   Damage per second: 19,<br> Hitpoints: 36,<br> Housing Space: 1,<br> Elixir Cost: 60)</div>\n",
    "   </th>\n",
    "<tr>\n",
    "<tr>\n",
    "   <div align=\"center\">\n",
    "   <td><img src=\"imgs/1.png\" width=50% />\n",
    "   </td>\n",
    "   </div>\n",
    "   <div align=\"center\">\n",
    "   <td><img src=\"imgs/2.png\" width=50% />\n",
    "   </td>\n",
    "   </div>\n",
    "   <div align=\"center\">\n",
    "   <td><img src=\"imgs/3.png\" width=50% />\n",
    "   </td>\n",
    "   </div>\n",
    "<tr>\n",
    "<tr>   \n",
    "   <th>\n",
    "   <div align=\"left\">Giant <br>Damage per second: 24,<br>\n",
    "   Hitpoints: 520,<br> Housing Space: 5,<br> Elixir Cost: 2000 </div>\n",
    "   </th>\n",
    "   <th>\n",
    "   <div align=\"left\">Wall Breaker <br>Damage per second: 32,<br> Hitpoints: 35,<br>\n",
    "   Housing Space: 2,<br> Elixir Cost: 2500</div>\n",
    "   </th>\n",
    "   <th>\n",
    "   <div align=\"left\"> Balloon <br>Damage per second: 72,<br> Hitpoints: 280,<br>\n",
    "   Housing Space: 5,<br> Elixir Cost: 3500)</div>\n",
    "   </th>\n",
    "<tr>\n",
    "\n",
    "<tr>\n",
    "   <div align=\"center\">\n",
    "   <td><img src=\"imgs/4.png\" width=50% />\n",
    "   </td>\n",
    "   </div>\n",
    "   <div align=\"center\">\n",
    "   <td><img src=\"imgs/5.png\" width=50% />\n",
    "   </td>\n",
    "   </div>\n",
    "   <div align=\"center\">\n",
    "   <td><img src=\"imgs/6.png\" width=50% />\n",
    "   </td>\n",
    "   </div>\n",
    "<tr>\n",
    "<tr>   \n",
    "   <th>\n",
    "   <div align=\"left\">Wizards <br>Damage per second: 125,<br> Hitpoints: 130,<br>\n",
    "   Housing Space: 4,<br> Elixir Cost: 3000</div>\n",
    "   </th>\n",
    "   <th>\n",
    "   <div align=\"left\">Healer <br>Damage per second: NA, <br>Hitpoints: 600,<br>\n",
    "   Housing Space: 14,<br> Elixir Cost: 6000</div>\n",
    "   </th>\n",
    "   <th>\n",
    "   <div align=\"left\">Dragon <br>Damage per second: 140,<br> Hitpoints: 1900,<br>\n",
    "   Housing Space: 20,<br> Elixir Cost: 25000</div>\n",
    "   </th>\n",
    "<tr>\n",
    "\n",
    "<tr>\n",
    "   <div align=\"center\">\n",
    "   <td><img src=\"imgs/7.png\" width=50% />\n",
    "   </td>\n",
    "   </div>\n",
    "   <div align=\"center\">\n",
    "   <td><img src=\"imgs/8.png\" width=50% />\n",
    "   </td>\n",
    "   </div>\n",
    "   <div align=\"center\">\n",
    "   <td><img src=\"imgs/9.png\" width=50% />\n",
    "   </td>\n",
    "   </div>\n",
    "<tr>\n",
    "<tr>\n",
    "</table>\n",
    "</font>\n",
    "Requirement\n",
    "---\n",
    "1. glpk: GNU/glpk\n",
    "2. cvxopt\n",
    "3. PuLP\n",
    "\n",
    "```\n",
    "   PuLP is an LP modeler written in python. PuLP can generate MPS or LP \n",
    "   files and call GLPK[1], COIN CLP/SBB[2], CPLEX[3] and XPRESS[4] to solve \n",
    "   linear problems. \n",
    "   install:\n",
    "   > pip install pulp\n",
    "\n",
    "\n",
    "```\n",
    "\n",
    " "
   ]
  },
  {
   "cell_type": "markdown",
   "metadata": {},
   "source": [
    "<big><big>\n",
    "$$\\mathbf{\\color{red}{\\ddagger\\dagger\\dagger\\dagger\\dagger\\dagger\\dagger\\dagger\\dagger\\ddagger}}$$\n",
    "</big></big>"
   ]
  },
  {
   "cell_type": "markdown",
   "metadata": {},
   "source": [
    "Solver of <font color=\"red\">integer</font> Linear Programming\n",
    "---\n",
    "The syntax of ```ilp``` is shown via using \"help(cvxopt.glpk.ilp)\":\n",
    "\n",
    "```python\n",
    " Solves a mixed integer linear program using GLPK.\n",
    "    \n",
    "    (status, x) = ilp(c, G, h, A, b, I, B)\n",
    "    \n",
    "    PURPOSE\n",
    "    Solves the mixed integer linear programming problem\n",
    "    \n",
    "        minimize    c'*x\n",
    "        subject to  G*x <= h\n",
    "                    A*x = b\n",
    "                    x[k] is integer for k in I\n",
    "                    x[k] is binary for k in B\n",
    "```"
   ]
  },
  {
   "cell_type": "markdown",
   "metadata": {
    "collapsed": true
   },
   "source": [
    "Warming Up\n",
    "---\n",
    "**Minimize** $2x_1+x_2$<br>\n",
    "**subject to:**<br>\n",
    "&nbsp;&nbsp;&nbsp;&nbsp;$-x_1+x_2\\le1$<br>\n",
    "&nbsp;&nbsp;&nbsp;&nbsp;$-x_1-x_2\\le-2\\quad(\\text{i.e. }x_1+x_2\\ge2)$<br>\n",
    "&nbsp;&nbsp;&nbsp;&nbsp;$\\qquad -x_2\\le0\\quad(\\text{i.e. }x_2\\ge0)$<br>\n",
    "&nbsp;&nbsp;&nbsp;&nbsp;$x_1-2x_2\\le4$<br>\n",
    "\n",
    "How CVXOPT Work\n",
    "---\n",
    "- variable\n",
    "  $$x_{2\\times1}=\\left[\\matrix{x_1\\\\x_2}\\right]$$\n",
    "- problem\n",
    "  minimize $\\mathbf{c_{1\\times2} x_{2\\times1}}$ where\n",
    "  $$c_{1\\times2}=\\left[\\matrix{2 &1}\\right]$$\n",
    "- with constrains  \n",
    "  reconstruct all $n$ conditions into matrix, including bounds of variables, \n",
    "  $\\mathbf{x^t_{1\\times2}A_{2\\times n}=b_{1\\times n}}$, i.e.\n",
    "\\begin{eqnarray}  \n",
    "  A_{2\\times n} &=&   \\left[\\matrix{-1 &-1&0&1 \\\\ 1 &-1&-1&-2}\\right]\\\\\n",
    "  b &=& \\left[\\matrix{1 &-2&0&4}\\right]\n",
    "\\end{eqnarray}  \n",
    "\n"
   ]
  },
  {
   "cell_type": "code",
   "execution_count": 185,
   "metadata": {
    "collapsed": false
   },
   "outputs": [
    {
     "name": "stdout",
     "output_type": "stream",
     "text": [
      "     pcost       dcost       gap    pres   dres   k/t\n",
      " 0:  2.6471e+00 -7.0588e-01  2e+01  8e-01  2e+00  1e+00\n",
      " 1:  3.0726e+00  2.8437e+00  1e+00  1e-01  2e-01  3e-01\n",
      " 2:  2.4891e+00  2.4808e+00  1e-01  1e-02  2e-02  5e-02\n",
      " 3:  2.4999e+00  2.4998e+00  1e-03  1e-04  2e-04  5e-04\n",
      " 4:  2.5000e+00  2.5000e+00  1e-05  1e-06  2e-06  5e-06\n",
      " 5:  2.5000e+00  2.5000e+00  1e-07  1e-08  2e-08  5e-08\n",
      "Optimal solution found.\n",
      "[ 5.00e-01]\n",
      "[ 1.50e+00]\n",
      "\n"
     ]
    }
   ],
   "source": [
    "from cvxopt import matrix, solvers,glpk\n",
    "A = matrix([ [-1.0, -1.0, 0.0, 1.0], [1.0, -1.0, -1.0, -2.0] ])\n",
    "b = matrix([ 1.0, -2.0, 0.0, 4.0 ])\n",
    "c = matrix([ 2.0, 1.0 ])\n",
    "sol=solvers.lp(c,A,b);\n",
    "print(sol['x'])"
   ]
  },
  {
   "cell_type": "markdown",
   "metadata": {},
   "source": [
    "This shows the solution is in **floating**, $(x_1,x_2)=(0.5,1.5)$,<br> but how about the solution in **integer**?\n",
    "By solver, **glpk.ilp**, we can also consider the solution in interger,  $(x_1,x_2)=(1,1)$, as follows:"
   ]
  },
  {
   "cell_type": "code",
   "execution_count": 194,
   "metadata": {
    "collapsed": false
   },
   "outputs": [
    {
     "name": "stdout",
     "output_type": "stream",
     "text": [
      "optimal, [ 0.00e+00]\n",
      "[ 0.00e+00]\n",
      "[ 1.00e+00]\n",
      "\n",
      "Solution of (X1,X2) is (0,0).\n"
     ]
    }
   ],
   "source": [
    "G = matrix([[1,-1,0,0],\n",
    "            [1,0,-1,0],\n",
    "            [1,0,0,-1],\n",
    "          ],tc='d') # The the cost vector\n",
    "\n",
    "h=matrix([1,0,0,0],tc='d')\n",
    "c = matrix([-1,-2,-3],tc='d')\n",
    "\n",
    "(x,status)=glpk.ilp(c,G,h,I=set([0,1,2]))\n",
    "print(\"%s, %s\" %(x,status))\n",
    "print(\"Solution of (X1,X2) is (%s,%s).\" %(int(status[0]), int(status[1])))"
   ]
  },
  {
   "cell_type": "code",
   "execution_count": 1,
   "metadata": {
    "collapsed": true
   },
   "outputs": [],
   "source": [
    "%matplotlib inline\n",
    "\n",
    "import matplotlib.pylab as plt\n",
    "import numpy as np\n",
    "from IPython.display import HTML\n",
    "from cvxopt import matrix, solvers,glpk"
   ]
  },
  {
   "cell_type": "code",
   "execution_count": 171,
   "metadata": {
    "collapsed": false
   },
   "outputs": [
    {
     "data": {
      "text/plain": [
       "[<matplotlib.lines.Line2D at 0x10a4b4da0>]"
      ]
     },
     "execution_count": 171,
     "metadata": {},
     "output_type": "execute_result"
    },
    {
     "data": {
      "image/png": "[encoded data removed]",
      "text/plain": [
       "<matplotlib.figure.Figure at 0x10a458f60>"
      ]
     },
     "metadata": {},
     "output_type": "display_data"
    }
   ],
   "source": [
    "plt.figure(figsize=(5,10))\n",
    "x1=np.linspace(0,6,101)\n",
    "l1=1+x1\n",
    "l2=2-x1\n",
    "l3=0.5*x1-2\n",
    "solf=2.5-2*x1\n",
    "soli=3-2*x1\n",
    "\n",
    "sol11=4-2*x1\n",
    "sol12=6-2*x1\n",
    "sol13=10-2*x1\n",
    "\n",
    "plt.plot(x1,l1,'r--',alpha=0.3)\n",
    "plt.plot(x1,l2,'r--',alpha=0.3)\n",
    "plt.plot(x1,l3,'r--',alpha=0.3)\n",
    "plt.plot((6,.5,2,4,6),(7,1.5,0,0,1),color=\"red\",linewidth=5,alpha=0.4)\n",
    "\n",
    "plt.text(3,2,\"Region\",fontsize=20,color=\"red\",alpha=0.8)\n",
    "plt.text(1.5,-1.8,r'$2x_1+x_2=2.5$',fontsize=18,color=\"blue\")\n",
    "plt.text(1.2,1,r'$2x_1+x_2=3$',fontsize=18,color=\"green\")\n",
    "\n",
    "plt.plot([0.5,1.],[1.5,1.], 'og')\n",
    "plt.grid()\n",
    "plt.plot(x1[:30],solf[:30],color=\"blue\")\n",
    "plt.plot(x1[:30],soli[:30],color=\"green\")\n",
    "\n",
    "#plt.plot(x1[:30],sol11[:30],color=\"gray\",alpha=0.3)\n",
    "#plt.plot(x1[:30],sol12[:30],color=\"gray\",alpha=0.3)\n",
    "#plt.plot(x1[:30],sol13[:30],color=\"gray\",alpha=0.3)\n",
    "#,x1,l2,x1,l3)"
   ]
  },
  {
   "cell_type": "code",
   "execution_count": 203,
   "metadata": {
    "collapsed": false
   },
   "outputs": [
    {
     "data": {
      "image/png": "[encoded data removed]",
      "text/plain": [
       "<matplotlib.figure.Figure at 0x10e002978>"
      ]
     },
     "metadata": {},
     "output_type": "display_data"
    }
   ],
   "source": [
    "with(plt.xkcd()):\n",
    "  plt.figure(figsize=(6,8))\n",
    "  \n",
    "  plt.plot(x1,l1,'r--',alpha=0.3)\n",
    "  plt.plot(x1,l2,'r--',alpha=0.3)\n",
    "  plt.plot(x1,l3,'r--',alpha=0.3)\n",
    "  plt.plot((6,.5,2,4,6),(7,1.5,0,0,1),color=\"red\",linewidth=5,alpha=0.4)\n",
    "\n",
    "  plt.text(3,2,\"Region\",fontsize=20,color=\"red\",alpha=0.8)\n",
    "  plt.text(1.5,-1.8,r'$2x_1+x_2=2.5$',fontsize=18,color=\"blue\")\n",
    "  plt.text(1.2,1,r'$2x_1+x_2=3$',fontsize=18,color=\"green\")\n",
    "\n",
    "  plt.plot([0.5,1.],[1.5,1.], 'Dg')\n",
    "  plt.grid(True)\n",
    "  plt.plot(x1[:30],solf[:30],color=\"blue\")\n",
    "  plt.plot(x1[:30],soli[:30],color=\"green\")  "
   ]
  },
  {
   "cell_type": "markdown",
   "metadata": {},
   "source": [
    "Observation\n",
    "---\n",
    "\n",
    "The linear constraints, ($\\sum a_{in} x_{i}\\le b_{n}$), make the region having linear boundary, reference above. While the following optimal problem is considered:\n",
    "$$ \\sum c_{in}x_i$$\n",
    "the solution could be found by moving the following planes (or lines) parallelled \n",
    "$$ \\sum c_{in}x_i = C$$\n",
    "until not intersected with the region and the optimal solution is the biggest or smallest one among $C$.\n",
    "\n",
    "\n",
    "```Thus the optimal position is almost occured at certain corner of region or certain point near boundary (integer optimal case). ```\n"
   ]
  },
  {
   "cell_type": "markdown",
   "metadata": {},
   "source": [
    "Optimization with bounds\n",
    "---\n",
    "maximize $x_1 + x_2$ \n",
    "```\n",
    "s.t:\n",
    " X2 + X6      = 2\n",
    " X1 + X2 + X5 = 2\n",
    " X1 + X4      = 2\n",
    " X1           >=0\n",
    " X2           >=0 \n",
    "``` "
   ]
  },
  {
   "cell_type": "code",
   "execution_count": 1,
   "metadata": {
    "collapsed": false
   },
   "outputs": [
    {
     "name": "stdout",
     "output_type": "stream",
     "text": [
      "     pcost       dcost       gap    pres   dres   k/t\n",
      " 0:  2.6471e+00 -7.0588e-01  2e+01  8e-01  2e+00  1e+00\n",
      " 1:  3.0726e+00  2.8437e+00  1e+00  1e-01  2e-01  3e-01\n",
      " 2:  2.4891e+00  2.4808e+00  1e-01  1e-02  2e-02  5e-02\n",
      " 3:  2.4999e+00  2.4998e+00  1e-03  1e-04  2e-04  5e-04\n",
      " 4:  2.5000e+00  2.5000e+00  1e-05  1e-06  2e-06  5e-06\n",
      " 5:  2.5000e+00  2.5000e+00  1e-07  1e-08  2e-08  5e-08\n",
      "Optimal solution found.\n",
      "[ 5.00e-01]\n",
      "[ 1.50e+00]\n",
      "\n"
     ]
    }
   ],
   "source": [
    "from cvxopt import matrix, solvers,glpk \n",
    "A = matrix([ [-1.0, -1.0, 0.0, 1.0], [1.0, -1.0, -1.0, -2.0] ]) \n",
    "b = matrix([ 1.0, -2.0, 0.0, 4.0 ]) \n",
    "c = matrix([ 2.0, 1.0 ]) \n",
    "sol=solvers.lp(c,A,b); print(sol['x'])"
   ]
  },
  {
   "cell_type": "code",
   "execution_count": 2,
   "metadata": {
    "collapsed": false
   },
   "outputs": [
    {
     "name": "stdout",
     "output_type": "stream",
     "text": [
      "optimal [ 0.00e+00]\n",
      "[ 2.00e+00]\n",
      "[ 0.00e+00]\n",
      "[ 2.00e+00]\n",
      "[ 0.00e+00]\n",
      "[ 0.00e+00]\n",
      "\n"
     ]
    }
   ],
   "source": [
    "import cvxopt.glpk\n",
    "import cvxopt\n",
    "c=cvxopt.matrix([1,1,0,0,0,0])\n",
    "G=cvxopt.matrix([[1.0,0,0,0,0,0], [0,1,0,0,0,0]])\n",
    "h=cvxopt.matrix([0.0,0.0])\n",
    "A=cvxopt.matrix([[0.0,1,0,0,0,6], [1,1,0,0,1,0], [1,0,0,1,0,0]])\n",
    "b=cvxopt.matrix([2.0, 2, 2])\n",
    "(status, c)=cvxopt.glpk.ilp(-c,-(G.T),-h,A.T,b,I=set([0,1,2,3,4,5]))\n",
    "print(status, c)"
   ]
  },
  {
   "cell_type": "code",
   "execution_count": null,
   "metadata": {
    "collapsed": false
   },
   "outputs": [],
   "source": []
  },
  {
   "cell_type": "markdown",
   "metadata": {},
   "source": [
    "<big><big>\n",
    "$$\\mathbf{\\color{red}{\\dagger\\dagger\\dagger\\dagger\\dagger\\dagger\\dagger\\dagger\\dagger\\dagger}}$$\n",
    "</big></big>"
   ]
  },
  {
   "cell_type": "markdown",
   "metadata": {},
   "source": [
    "Back to the Game\n",
    "---\n",
    "\n",
    "To summarise the information about the players I'm going to put the costs in a vector $c$ and the housing space in a vector $h$ (indexed using the same order as the images above):\n",
    "\n",
    "$$c=(80,160,60,2000,2500,3500,3000,6000,25000)$$\n",
    "$$ h=(1,1,1,5,2,5,4,14,20)$$\n",
    "\n",
    "Currently we have a capacity of 50 housing spaces per camp and I have 4 camps so we have an upper bound on the total amount of housing space of $K=200$.\n",
    "\n",
    "If we let the vector $x$ denote a raiding party so that $x_i$ is the number of warriors of type $i$ (using the ordering above) then we have the corresponding housing space constraint:\n",
    "$$\\sum_{i=1}^9h_ix_i\\leq K$$\n",
    "\n",
    "we can now try and do two things:\n",
    "\n",
    "- Get a full set of camps by minimising the overall cost.\n",
    "- Get the most powerful raiding party that can fit in my camps.\n",
    "\n",
    "we will solve both of these problems using what is called ```Integer Linear Programming```. The integer part of that is due to the fact that we must have whole parts of warriors.\n",
    "\n",
    "Minimising my costs\n",
    "---\n",
    "The cost of a given rading party $x$ is given by:\n",
    "$$C(x) = \\sum_{i=1}^9c_ix_i$$\n",
    "\n",
    "Thus to minimise this cost and fill the camps we need to solve the following minimisation problem:\n",
    "$$ \\text{minimise }C(x) = \\sum_{i=1}^9c_ix_i$$\n",
    "\n",
    "such that:\n",
    "$$H(x)=\\sum_{i=1}^9h_ix_i= K$$\n",
    "and\n",
    "$$x_i\\in\\mathbb{Z}_{\\geq0}$$\n",
    "Now solve the problem by ```cvxopt.glpk.ilp```:"
   ]
  },
  {
   "cell_type": "code",
   "execution_count": 2,
   "metadata": {
    "collapsed": false
   },
   "outputs": [
    {
     "name": "stdout",
     "output_type": "stream",
     "text": [
      "optimal, [ 0.00e+00]\n",
      "[ 0.00e+00]\n",
      "[ 2.00e+02]\n",
      "[ 0.00e+00]\n",
      "[ 0.00e+00]\n",
      "[ 0.00e+00]\n",
      "[ 0.00e+00]\n",
      "[ 0.00e+00]\n",
      "[ 0.00e+00]\n",
      "\n"
     ]
    }
   ],
   "source": [
    "G = matrix([[1.0,0,0,0,0,0,0,0,0],\n",
    "            [0,1,0,0,0,0,0,0,0],\n",
    "            [0,0,1,0,0,0,0,0,0],\n",
    "            [0,0,0,1,0,0,0,0,0],\n",
    "            [0,0,0,0,1,0,0,0,0],\n",
    "            [0,0,0,0,0,1,0,0,0],\n",
    "            [0,0,0,0,0,0,1,0,0],\n",
    "            [0,0,0,0,0,0,0,1,0],\n",
    "            [0,0,0,0,0,0,0,0,1]\n",
    "          ]) # The the cost vector\n",
    "\n",
    "A = matrix([1,1,1,5,2,5,4,14,20],tc='d')\n",
    "b=matrix([200],tc='d')\n",
    "\n",
    "c = matrix([80,160,60,2000,2500,3500,3000,6000,25000] ,tc='d') # Set the 'housing space' constraints vector\n",
    "#h=matrix([200,0,0,0,0,0,0,0,0,0],tc='d')\n",
    "h=matrix([0.0,0,0,0,0,0,0,0,0])\n",
    "\n",
    "(x,status)=glpk.ilp(c,-G.T,-h,A.T,b,I=set([0,1,2,3,4,5,6,7,8]))\n",
    "print(\"%s, %s\" %(x,status))"
   ]
  },
  {
   "cell_type": "code",
   "execution_count": 4,
   "metadata": {
    "collapsed": false
   },
   "outputs": [],
   "source": [
    "def sol(x):\n",
    "    l='<table><tr><th>Barbarian</th><th>Archer</th><th>Goblin</th>'\n",
    "    l=l+'<th>Giant</th><th>Wall Breaker</th><th>Balloon</th>'\n",
    "    l=l+'<th>Wizards</th><th>Healer</th><th>Dragon</th></tr><tr>'\n",
    "    for i in range(len(x)):\n",
    "        l=l+'<td><div align=\"center\">%s</div></td>' %(int(x[i]))\n",
    "    l=l+\"</tr></table>\"\n",
    "    return(HTML(l))"
   ]
  },
  {
   "cell_type": "code",
   "execution_count": 5,
   "metadata": {
    "collapsed": false
   },
   "outputs": [
    {
     "data": {
      "text/html": [
       "<table><tr><th>Barbarian</th><th>Archer</th><th>Goblin</th><th>Giant</th><th>Wall Breaker</th><th>Balloon</th><th>Wizards</th><th>Healer</th><th>Dragon</th></tr><tr><td><div align=\"center\">0</div></td><td><div align=\"center\">0</div></td><td><div align=\"center\">200</div></td><td><div align=\"center\">0</div></td><td><div align=\"center\">0</div></td><td><div align=\"center\">0</div></td><td><div align=\"center\">0</div></td><td><div align=\"center\">0</div></td><td><div align=\"center\">0</div></td></tr></table>"
      ],
      "text/plain": [
       "<IPython.core.display.HTML object>"
      ]
     },
     "execution_count": 5,
     "metadata": {},
     "output_type": "execute_result"
    }
   ],
   "source": [
    "sol(status)"
   ]
  },
  {
   "cell_type": "markdown",
   "metadata": {},
   "source": [
    "The output is (disappointing but expected): $x=(0,0,200,0,0,0,0,0)$ which implies that I should have 200 Goblins.\n",
    "\n",
    "If you're familiar with the game this is not a very sensible way to go as Goblins are really only good at getting loot from defenceless bases.\n",
    "\n",
    "We can add a couple more constraints so that we don't have too many goblins (let's limit it to 10) and also so that we have at least one healer:\n",
    "\n"
   ]
  },
  {
   "cell_type": "markdown",
   "metadata": {},
   "source": [
    "Next\n",
    "---\n",
    "Now two additional conditions added\n",
    "- $x_2\\le10$ (i.e. <font color=\"red\">$-x_2\\ge-10$</font>): Don't want more than 10 goblins\n",
    "- $x_7\\ge1$: Want 1 healer at least"
   ]
  },
  {
   "cell_type": "code",
   "execution_count": 6,
   "metadata": {
    "collapsed": false
   },
   "outputs": [
    {
     "data": {
      "text/html": [
       "<table><tr><th>Barbarian</th><th>Archer</th><th>Goblin</th><th>Giant</th><th>Wall Breaker</th><th>Balloon</th><th>Wizards</th><th>Healer</th><th>Dragon</th></tr><tr><td><div align=\"center\">176</div></td><td><div align=\"center\">0</div></td><td><div align=\"center\">10</div></td><td><div align=\"center\">0</div></td><td><div align=\"center\">0</div></td><td><div align=\"center\">0</div></td><td><div align=\"center\">0</div></td><td><div align=\"center\">1</div></td><td><div align=\"center\">0</div></td></tr></table>"
      ],
      "text/plain": [
       "<IPython.core.display.HTML object>"
      ]
     },
     "execution_count": 6,
     "metadata": {},
     "output_type": "execute_result"
    }
   ],
   "source": [
    "G = matrix([[1.0,0,0,0,0,0,0,0,0],\n",
    "            [0,1,0,0,0,0,0,0,0],\n",
    "            [0,0,1,0,0,0,0,0,0],\n",
    "            [0,0,0,1,0,0,0,0,0],\n",
    "            [0,0,0,0,1,0,0,0,0],\n",
    "            [0,0,0,0,0,1,0,0,0],\n",
    "            [0,0,0,0,0,0,1,0,0],\n",
    "            [0,0,0,0,0,0,0,1,0],\n",
    "            [0,0,0,0,0,0,0,0,1],\n",
    "            [0,0,-1,0,0,0,0,0,0],\n",
    "          ]) # The the cost vector\n",
    "\n",
    "h=matrix([0.0,0,0,0,0,0,0,1,0,-10])\n",
    "\n",
    "\n",
    "A = matrix([1,1,1,5,2,5,4,14,20],tc='d')\n",
    "b=matrix([200],tc='d')\n",
    "\n",
    "c = matrix([80,160,60,2000,2500,3500,3000,6000,25000] ,tc='d') # Set the 'housing space' constraints vector\n",
    "#h=matrix([200,0,0,0,0,0,0,0,0,0],tc='d')\n",
    "\n",
    "(x,status)=glpk.ilp(c,-G.T,-h,A.T,b,I=set([0,1,2,3,4,5,6,7,8]))\n",
    "sol(status)"
   ]
  },
  {
   "cell_type": "markdown",
   "metadata": {},
   "source": [
    "This gives us $x=(176,0,10,0,0,0,0,1,0)$.\n",
    "\n",
    "This is again not very satisfying as we're basically filling our raiding party with the cheapest options. That was the purpose of this approach though. \n",
    "\n",
    "The next thing we'll look at is how to actually get a good raiding part."
   ]
  },
  {
   "cell_type": "markdown",
   "metadata": {},
   "source": [
    "Getting the 'best' raiding party.\n",
    "---\n",
    "As you can see on the images, every warrior is different: some fly, some are better against buildings, some have more hitpoints than others etc...\n",
    "\n",
    "One way of getting the 'best' raiding party could be to maximise the damage per second of the raiding party. To do this, let's define the following vector (which is just the damage per second that can be read off of the images above):\n",
    "\n",
    "$$d=(18,16,19,24,32,72,125,0,140)$$\n",
    "\n",
    "\n",
    "\n",
    "Now our maximisation problem can be written as:\n",
    "\n",
    "$$\\text{maximise } \\sum_{i=1}^9d_ix_i$$\n",
    "\n",
    "\n",
    "such that:\n",
    "\n",
    "$$H(x)=\\sum_{i=1}^9h_ix_i\\leq K$$\n",
    "\n",
    "and\n",
    "$$x_i\\in\\mathbb{Z}_{\\geq0}$$\n",
    "\n",
    "\n",
    "Here's the complete code to do this:\n"
   ]
  },
  {
   "cell_type": "code",
   "execution_count": 7,
   "metadata": {
    "collapsed": false
   },
   "outputs": [
    {
     "data": {
      "text/html": [
       "<table><tr><th>Barbarian</th><th>Archer</th><th>Goblin</th><th>Giant</th><th>Wall Breaker</th><th>Balloon</th><th>Wizards</th><th>Healer</th><th>Dragon</th></tr><tr><td><div align=\"center\">0</div></td><td><div align=\"center\">0</div></td><td><div align=\"center\">2</div></td><td><div align=\"center\">0</div></td><td><div align=\"center\">0</div></td><td><div align=\"center\">0</div></td><td><div align=\"center\">46</div></td><td><div align=\"center\">1</div></td><td><div align=\"center\">0</div></td></tr></table>"
      ],
      "text/plain": [
       "<IPython.core.display.HTML object>"
      ]
     },
     "execution_count": 7,
     "metadata": {},
     "output_type": "execute_result"
    }
   ],
   "source": [
    "damagepersecond = matrix([18, 16, 19, 24, 32, 72, 125, 0, 140],tc='d')\n",
    "\n",
    "G = matrix([[1.0,0,0,0,0,0,0,0,0],\n",
    "            [0,1,0,0,0,0,0,0,0],\n",
    "            [0,0,1,0,0,0,0,0,0],\n",
    "            [0,0,0,1,0,0,0,0,0],\n",
    "            [0,0,0,0,1,0,0,0,0],\n",
    "            [0,0,0,0,0,1,0,0,0],\n",
    "            [0,0,0,0,0,0,1,0,0],\n",
    "            [0,0,0,0,0,0,0,1,0],\n",
    "            [0,0,0,0,0,0,0,0,1],\n",
    "            [0,0,-1,0,0,0,0,0,0],\n",
    "            [-1,-1,-1,-5,-2,-5,-4,-14,-20]\n",
    "          ]) # The the cost vector\n",
    "\n",
    "h=matrix([0.0,0,0,0,0,0,0,1,0,-10,-200])\n",
    "\n",
    "\n",
    "#A = matrix([1,1,1,5,2,5,4,14,20],tc='d')\n",
    "#b=matrix([200],tc='d')\n",
    "\n",
    "c= matrix([18, 16, 19, 24, 32, 72, 125, 0, 140],tc='d')\n",
    "\n",
    "(x,status)=glpk.ilp(-c,-G.T,-h,I=set([0,1,2,3,4,5,6,7,8]))\n",
    "sol(status)"
   ]
  },
  {
   "cell_type": "markdown",
   "metadata": {},
   "source": [
    "The result of the above is $x=(0,0,2,0,0,0,46,1,0)$. I.e take 2 goblins, 46 wizards and 1 healer.\n",
    "The problem with this raiding party is that wizards are actually quite fragile (archers towers and cannons can pretty much just pick them off).\n",
    "\n",
    "So perhaps instead of maximising the damage per second we could maximise the total hit points of the party.\n",
    "\n",
    "To do this we need to define the vector of hitpoints:\n",
    "\n",
    "$$p=(78,33,36,520,35,280,130,600,1900)$$\n",
    "\n",
    "\n",
    "Now our maximisation problem can be written as:\n",
    "$$\\text{maximise } \\sum_{i=1}^9p_ix_i$$\n",
    "\n",
    "such that:\n",
    "\n",
    "$$H(x)=\\sum_{i=1}^9h_ix_i\\leq K$$\n",
    "\n",
    "and\n",
    "$$x_i\\in\\mathbb{Z}_{\\geq0}$$\n",
    "\n",
    "\n",
    "Here's the Sage code to do this:\n"
   ]
  },
  {
   "cell_type": "markdown",
   "metadata": {},
   "source": [
    "The problem with this is that wall breakers are good for just that: breaking walls. They carry a bomb up to a wall and then they explode. So let's add some more constraints to our optimisation problem so as to get something a bit more useful.\n",
    "Let's make sure that we always have at least 20 housing capacity worth of distance attackers (Archers or Wizards):\n",
    "$$x_1h_1+x_6h_6 \\geq 20$$\n",
    "\n",
    "Let's ensure that we have at least 1 air attacker (so that once the air defenses are out of the way we can finish off the base):\n",
    "$$x_5+x_8\\geq1 $$\n",
    "\n",
    "Let's ensure that we always have some wall breakers to clear the walls for our ground units (1 per 5 giants and 1 per 20 barbarians say):\n",
    "$$ 5x_4\\geq x_3$$\n",
    "\n",
    "\n",
    "$$20x_4\\geq x_0 $$\n",
    "\n",
    "The code to solve this is given here:"
   ]
  },
  {
   "cell_type": "code",
   "execution_count": 8,
   "metadata": {
    "collapsed": false
   },
   "outputs": [
    {
     "data": {
      "text/html": [
       "<table><tr><th>Barbarian</th><th>Archer</th><th>Goblin</th><th>Giant</th><th>Wall Breaker</th><th>Balloon</th><th>Wizards</th><th>Healer</th><th>Dragon</th></tr><tr><td><div align=\"center\">1</div></td><td><div align=\"center\">20</div></td><td><div align=\"center\">0</div></td><td><div align=\"center\">23</div></td><td><div align=\"center\">5</div></td><td><div align=\"center\">0</div></td><td><div align=\"center\">0</div></td><td><div align=\"center\">1</div></td><td><div align=\"center\">2</div></td></tr></table>"
      ],
      "text/plain": [
       "<IPython.core.display.HTML object>"
      ]
     },
     "execution_count": 8,
     "metadata": {},
     "output_type": "execute_result"
    }
   ],
   "source": [
    "damagepersecond = matrix([18, 16, 19, 24, 32, 72, 125, 0, 140],tc='d')\n",
    "\n",
    "G = matrix([[1.0,0,0,0,0,0,0,0,0],\n",
    "            [0,1,0,0,0,0,0,0,0],\n",
    "            [0,0,1,0,0,0,0,0,0],\n",
    "            [0,0,0,1,0,0,0,0,0],\n",
    "            [0,0,0,0,1,0,0,0,0],\n",
    "            [0,0,0,0,0,1,0,0,0],\n",
    "            [0,0,0,0,0,0,1,0,0],\n",
    "            [0,0,0,0,0,0,0,1,0],\n",
    "            [0,0,0,0,0,0,0,0,1],\n",
    "            [0,0,-1,0,0,0,0,0,0],\n",
    "            [-1,-1,-1,-5,-2,-5,-4,-14,-20],\n",
    "            [0,1,0,0,0,0,4,0,0],\n",
    "            [0,0,0,0,0,1,0,0,1],\n",
    "            [0,0,0,-1,5,0,0,0,0],\n",
    "            [-1,0,0,0,20,0,0,0,0]\n",
    "          ]) # The the cost vector\n",
    "\n",
    "h=matrix([0.0,0,0,0,0,0,0,1,0,-10,-200,20,1,0,0])\n",
    "\n",
    "\n",
    "#A = matrix([1,1,1,5,2,5,4,14,20],tc='d')\n",
    "#b=matrix([200],tc='d')\n",
    "\n",
    "p=matrix([78,33,36,520,35,280,130,600,1900],tc='d')\n",
    "c= p\n",
    "\n",
    "(x,status)=glpk.ilp(-c,-G.T,-h,I=set([0,1,2,3,4,5,6,7,8]))\n",
    "#print(\"%s, %s\" %(x,status))\n",
    "sol(status)"
   ]
  },
  {
   "cell_type": "markdown",
   "metadata": {},
   "source": [
    "\n",
    "\n",
    "This gives $x=(1,20,0,23,5,0,0,1,2)$: so take 1 Barbarian, 20 Archers, 23 Giants, 5 Wall Breakers, 1 Healer and 2 Dragons.\n",
    "\n",
    "The above would give us the most hit points but now we're missing out on **the damage power of wizards**.\n",
    "\n",
    "Perhaps we could try and balance both hitpoints damage.\n",
    "\n",
    "In essence we have what's called a multi objective optimisation problem. One approach to solve this is to simply weight both objectives.\n",
    "\n",
    "We're going to use $\\alpha$ to denote the importance of the hitpoints and $1-\\alpha$ the importance of the damage.\n",
    "\n",
    "Our optimisation function then becomes:\n",
    "$$\\alpha\\sum_{i=1}^9p_ix_i+(1-\\alpha)\\sum_{i=1}^9d_ix_i$$\n"
   ]
  },
  {
   "cell_type": "code",
   "execution_count": 9,
   "metadata": {
    "collapsed": false
   },
   "outputs": [
    {
     "data": {
      "text/html": [
       "<table><tr><th>Barbarian</th><th>Archer</th><th>Goblin</th><th>Giant</th><th>Wall Breaker</th><th>Balloon</th><th>Wizards</th><th>Healer</th><th>Dragon</th></tr><tr><td><div align=\"center\">11</div></td><td><div align=\"center\">0</div></td><td><div align=\"center\">0</div></td><td><div align=\"center\">25</div></td><td><div align=\"center\">5</div></td><td><div align=\"center\">0</div></td><td><div align=\"center\">5</div></td><td><div align=\"center\">1</div></td><td><div align=\"center\">1</div></td></tr></table>"
      ],
      "text/plain": [
       "<IPython.core.display.HTML object>"
      ]
     },
     "execution_count": 9,
     "metadata": {},
     "output_type": "execute_result"
    }
   ],
   "source": [
    "alpha0=0.5\n",
    "\n",
    "c= alpha0*p+(1-alpha0)*damagepersecond\n",
    "(x,status)=glpk.ilp(-c,-G.T,-h,I=set([0,1,2,3,4,5,6,7,8]))\n",
    "#print(\"%s, %s\" %(x,status))\n",
    "sol(status)"
   ]
  },
  {
   "cell_type": "markdown",
   "metadata": {},
   "source": [
    "\n",
    "Using the same constraints as before and taking α=.5 (so that both damage and hit points have equal weighting) we get $x=(11,0,0,25,5,0,5,1,1)$. Thus we should be taking in to battle: 11 Barbarians, 25 Giants, 5 Wall Breakers, 5 Wizards, 1 Healer and 1 Dragon.\n",
    "\n",
    "This feels much more balanced than anything we've had so far and not far off what I've been using as my own raiding party.\n",
    "\n",
    "Given that everything is nicely coded \n",
    "we can quickly obtain the make up of the optimal raiding party for a range of values of  $\\alpha$:\n"
   ]
  },
  {
   "cell_type": "code",
   "execution_count": 11,
   "metadata": {
    "collapsed": false
   },
   "outputs": [],
   "source": [
    "n=50\n",
    "alphaInd=np.linspace(0,1,n+1)\n",
    "Barbarian=np.zeros(n+1,dtype=int)\n",
    "Archer=Barbarian.copy()\n",
    "Goblin=Barbarian.copy()\n",
    "Giant=Barbarian.copy()\n",
    "WallBreaker=Barbarian.copy()\n",
    "Balloon=Barbarian.copy()\n",
    "Wizards=Barbarian.copy()\n",
    "Healer=Barbarian.copy()\n",
    "Dragon=Barbarian.copy()\n",
    "for i in range(len(alphaInd)):\n",
    "    c= alphaInd[i]*p+(1-alphaInd[i])*damagepersecond\n",
    "\n",
    "    (x,status)=glpk.ilp(-c,-G.T,-h,I=set([0,1,2,3,4,5,6,7,8]))\n",
    "    Barbarian[i]=status[0]\n",
    "    Archer[i]=status[1]\n",
    "    Goblin[i]=status[2]\n",
    "    Giant[i]=status[3]\n",
    "    WallBreaker[i]=status[4]\n",
    "    Balloon[i]=status[5]\n",
    "    Wizards[i]=status[6]\n",
    "    Healer[i]=status[7]\n",
    "    Dragon[i]=status[8]"
   ]
  },
  {
   "cell_type": "code",
   "execution_count": 207,
   "metadata": {
    "collapsed": false
   },
   "outputs": [
    {
     "data": {
      "text/plain": [
       "<matplotlib.text.Text at 0x10cf2c860>"
      ]
     },
     "execution_count": 207,
     "metadata": {},
     "output_type": "execute_result"
    },
    {
     "data": {
      "image/png": "[encoded data removed]",
      "text/plain": [
       "<matplotlib.figure.Figure at 0x10cf84240>"
      ]
     },
     "metadata": {},
     "output_type": "display_data"
    }
   ],
   "source": [
    "plt.figure(figsize=(12,6))\n",
    "plt.plot(alpha,Barbarian,'o',alpha,Archer,'o',alpha,Goblin,'+',alpha,Giant,'^',alpha,WallBreaker,'<', \\\n",
    "         alpha,Balloon,'o', \\\n",
    "         alpha,Wizards,'+',alpha,Healer,'.',alpha,Dragon,'>',alpha=0.4)\n",
    "plt.legend(('Barbarian','Archer','Goblin','Giant','Wall Breaker','Balloon','Wizards','Healer','Dragon'))\n",
    "plt.ylabel('Number of Warriors',size=18)\n",
    "plt.xlabel(r'$\\alpha$',size=20)"
   ]
  },
  {
   "cell_type": "code",
   "execution_count": 31,
   "metadata": {
    "collapsed": false
   },
   "outputs": [
    {
     "data": {
      "text/plain": [
       "<matplotlib.text.Text at 0x10ab8df60>"
      ]
     },
     "execution_count": 31,
     "metadata": {},
     "output_type": "execute_result"
    },
    {
     "data": {
      "image/png": "[encoded data removed]",
      "text/plain": [
       "<matplotlib.figure.Figure at 0x10a7d2898>"
      ]
     },
     "metadata": {},
     "output_type": "display_data"
    }
   ],
   "source": [
    "plt.figure(figsize=(12,6))\n",
    "plt.plot(alphaInd,Barbarian,'s',color=\"red\")\n",
    "plt.plot(alphaInd,Archer,'o',color=\"blue\")\n",
    "plt.plot(alphaInd,Goblin,'>',color=\"yellow\")\n",
    "plt.plot(alphaInd,Giant,'<',color=\"pink\")\n",
    "plt.plot(alphaInd,WallBreaker,'<',color=\"purple\")\n",
    "plt.plot(alphaInd,Balloon,'*',color=\"gray\")\n",
    "plt.plot(alphaInd,Wizards,'D',color=\"green\")\n",
    "plt.plot(alphaInd,Healer,'^',color=\"orange\")\n",
    "plt.plot(alphaInd,Dragon,'--',color=\"black\")\n",
    "\n",
    "plt.legend(('Barbarian','Archer','Goblin','Giant','Wall Breaker','Balloon','Wizards','Healer','Dragon'))\n",
    "plt.ylabel('Number of Warriors',size=18)\n",
    "plt.xlabel(r'$\\alpha$',size=20)"
   ]
  },
  {
   "cell_type": "code",
   "execution_count": 37,
   "metadata": {
    "collapsed": false
   },
   "outputs": [
    {
     "data": {
      "text/plain": [
       "<matplotlib.text.Text at 0x10bb9fef0>"
      ]
     },
     "execution_count": 37,
     "metadata": {},
     "output_type": "execute_result"
    },
    {
     "data": {
      "image/png": "[encoded data removed]",
      "text/plain": [
       "<matplotlib.figure.Figure at 0x10bbaf7f0>"
      ]
     },
     "metadata": {},
     "output_type": "display_data"
    }
   ],
   "source": [
    "plt.figure(figsize=(12,6))\n",
    "plt.plot(alphaInd,Barbarian,'s',color=\"red\")\n",
    "plt.plot(alphaInd,Archer,'o',color=\"blue\")\n",
    "plt.plot(alphaInd,Goblin,'>',color=\"yellow\")\n",
    "plt.plot(alphaInd,Giant,'<',color=\"pink\")\n",
    "plt.plot(alphaInd,WallBreaker,'<',color=\"purple\")\n",
    "plt.plot(alphaInd,Balloon,'*',color=\"gray\")\n",
    "plt.plot(alphaInd,Wizards,'D',color=\"green\")\n",
    "plt.plot(alphaInd,Healer,'^',color=\"orange\")\n",
    "plt.plot(alphaInd,Dragon,'--',color=\"black\")\n",
    "\n",
    "plt.legend(('Barbarian','Archer','Goblin','Giant','Wall Breaker','Balloon','Wizards','Healer','Dragon'),loc='upper left')\n",
    "plt.ylabel('Number of Warriors',size=18)\n",
    "plt.ylim([0,30])\n",
    "plt.xlabel(r'$\\alpha$',size=20)"
   ]
  },
  {
   "cell_type": "markdown",
   "metadata": {},
   "source": [
    "We see that as α increases (so that we care more about hit points) the number of Wizards we should use slowly decreases (at one point the constraint for ranged attacking units kicks in and we replace the Wizards with Archers).\n",
    "\n",
    "You could easily tweak the constraints to perhaps ensure your party always has some Goblins or otherwise. I think this is a nice example where a mathematical model can be used to solve a problem but at the same time must not be taken far from the problem itself. There might be some players who only choose to attack bases with a particular type of defence so they can tweak/add constraints to the problem accordingly.\n"
   ]
  },
  {
   "cell_type": "code",
   "execution_count": null,
   "metadata": {
    "collapsed": true
   },
   "outputs": [],
   "source": []
  }
 ],
 "metadata": {
  "kernelspec": {
   "display_name": "Python 3",
   "language": "python",
   "name": "python3"
  },
  "language_info": {
   "codemirror_mode": {
    "name": "ipython",
    "version": 3
   },
   "file_extension": ".py",
   "mimetype": "text/x-python",
   "name": "python",
   "nbconvert_exporter": "python",
   "pygments_lexer": "ipython3",
   "version": "3.4.3"
  }
 },
 "nbformat": 4,
 "nbformat_minor": 0
}
