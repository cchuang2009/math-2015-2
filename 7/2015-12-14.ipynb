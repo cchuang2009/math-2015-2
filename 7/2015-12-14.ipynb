{
 "cells": [
  {
   "cell_type": "markdown",
   "metadata": {
    "slideshow": {
     "slide_type": "slide"
    }
   },
   "source": [
    "# Markov Chains"
   ]
  },
  {
   "cell_type": "markdown",
   "metadata": {
    "slideshow": {
     "slide_type": "subslide"
    }
   },
   "source": [
    "## Overview\n",
    "\n",
    "Markov chains are one of the most fundamental classes of stochastic processes\n",
    "\n",
    "### Objects\n",
    "\n",
    "1. array/matrix object by numpy\n",
    "2. the tool package of eigenvalue/eigenvector operation in scipy\n",
    "3. Monte-Carlo Markov Chain simulation (MCMC)\n",
    "4. efficient vectorized algorithm.\n",
    "\n",
    "\n",
    "### Attributes\n",
    "\n",
    "1. simple, flexible and supported by many elegant theoretical results\n",
    "2. valuable for building intuition about random dynamic models\n",
    "3. very useful in their own right\n",
    "\n",
    "### Reference\n",
    "\n",
    "    1. Thomas J. Sargent and John Stachurski, http://quant-econ.net\n",
    "    2. Richard Weber, http://www.statslab.cam.ac.uk/~rrw1/markov\n",
    "    3. Eugenia Stoimenova, http://www.math.bas.bg/~jeni/\n",
    "    4. http://www.tcs.hut.fi/Studies\n",
    "    5. http://steep.inrialpes.fr/~Arnaud\n",
    "    6. http://www.philol.msu.ru/~lex/khmelev/published/llc/khmelev.html\n",
    "    7. 李中傑, 棒球比賽宛如是一個馬可夫過程, 真理大學\n"
   ]
  },
  {
   "cell_type": "code",
   "execution_count": null,
   "metadata": {
    "collapsed": false,
    "slideshow": {
     "slide_type": "subslide"
    }
   },
   "outputs": [],
   "source": [
    "from IPython.display import YouTubeVideo\n",
    "YouTubeVideo(\"AiAHlZVgXjk\")"
   ]
  },
  {
   "cell_type": "code",
   "execution_count": null,
   "metadata": {
    "collapsed": false,
    "slideshow": {
     "slide_type": "subslide"
    }
   },
   "outputs": [],
   "source": [
    "from IPython.display import YouTubeVideo\n",
    "YouTubeVideo(\"jIKJUIFkTro\")"
   ]
  },
  {
   "cell_type": "code",
   "execution_count": null,
   "metadata": {
    "collapsed": false,
    "slideshow": {
     "slide_type": "slide"
    }
   },
   "outputs": [],
   "source": [
    "import numpy as np\n",
    "import scipy as sp\n",
    "from scipy.linalg import eig\n",
    "from numpy import cumsum\n",
    "from numpy.random import uniform\n",
    "from IPython.display import HTML"
   ]
  },
  {
   "cell_type": "code",
   "execution_count": null,
   "metadata": {
    "collapsed": false,
    "slideshow": {
     "slide_type": "subslide"
    }
   },
   "outputs": [],
   "source": [
    "def printP(P):\n",
    "    l='<div align=\"center\"><table>';\n",
    "    row=len(P[:,0])\n",
    "    i=j=k=0;\n",
    "    l=l+\"<tr><td>State</td>\"\n",
    "    for k in range(row):\n",
    "          k1=k+1\n",
    "          l=l+'<td><div align=\"center\">%s</div></td>' % (k1)\n",
    "          k++1  \n",
    "    for i in range(1,row+1):\n",
    "        l=l+'<tr><td><div align=\"center\">%s</div></td>' %i\n",
    "        for j in range(1,row+1):\n",
    "            l=l+\"<td> %1.4f </td>\" %(P[i-1,j-1]);\n",
    "            j++1\n",
    "        l=l+\"</tr>\"\n",
    "        i++1\n",
    "    l=l+\"</table></div>\"\n",
    "    return HTML(l)"
   ]
  },
  {
   "cell_type": "code",
   "execution_count": null,
   "metadata": {
    "collapsed": false,
    "slideshow": {
     "slide_type": "subslide"
    }
   },
   "outputs": [],
   "source": [
    "def printP2(P,states):\n",
    "    \"\"\"\n",
    "    printP2(P,states):\n",
    "      input: P, transition probability matrix,\n",
    "          states, array of all states\n",
    "      output: well-formated HTML table for the transition Probability matrix       \n",
    "    \"\"\"\n",
    "    #if states:\n",
    "    #    states=np.arange(size(P[0,]))\n",
    "    l='<div align=\"center\"><table>';\n",
    "    row=len(P[:,0])\n",
    "    i=j=k=0;\n",
    "    l=l+\"<tr><td>State</td>\";\n",
    "    #for n in arange(size(states)):\n",
    "        \n",
    "    for k in range(row):\n",
    "          l=l+'<td><div align=\"center\">%s</div></td>' % (states[k])\n",
    "          k++1\n",
    "    l=l+'</tr>';        \n",
    "    for i in range(1,row+1):\n",
    "        l=l+'<tr><td><div align=\"center\">%s</div></td>' %states[i-1]\n",
    "        for j in range(1,row+1):\n",
    "            l=l+\"<td> %1.4f </td>\" %P[i-1,j-1];\n",
    "            j++1\n",
    "        l=l+\"</tr>\"\n",
    "        i++1\n",
    "    l=l+\"</table></div>\"\n",
    "    return HTML(l)"
   ]
  },
  {
   "cell_type": "code",
   "execution_count": null,
   "metadata": {
    "collapsed": false,
    "slideshow": {
     "slide_type": "subslide"
    }
   },
   "outputs": [],
   "source": [
    "def StableDist(P):\n",
    "    \"\"\"\n",
    "    StableDist(P)\n",
    "      input: P, transition probability matrix,\n",
    "      output: stable distribution \n",
    "    \"\"\"\n",
    "    evals, evecs = sp.linalg.eig(P,left=True,right=False)\n",
    "    eps=1e-6\n",
    "    ind=evals[:]>1.-eps\n",
    "    p0=np.transpose(evecs[:,ind]/sum(evecs[:,ind]))\n",
    "    return p0"
   ]
  },
  {
   "cell_type": "markdown",
   "metadata": {
    "slideshow": {
     "slide_type": "slide"
    }
   },
   "source": [
    "## Markov and Markov Chains\n",
    "\n",
    "Markov chains have been introduced by the Russian mathematician Andrei Andreyevich Markov in the early 1900s.\n",
    "\n"
   ]
  },
  {
   "cell_type": "markdown",
   "metadata": {
    "slideshow": {
     "slide_type": "subslide"
    }
   },
   "source": [
    "## Introduction\n",
    "\n",
    "<div class=\"alert alert-success\" align=\"center\">\n",
    "    The system is `evolving` randomly in time\n",
    "</div>\n",
    "\n",
    "\n",
    "A system at time $t=0,1,2,\\cdots$\n",
    "The system can be in one state of a collection of possible states, e.g. **$S$={Happy,So-so,Blue}**\n",
    "The observation of the system is considered as an experience whose (random) result is the state’s system, so called stochastic process.\n",
    "\n"
   ]
  },
  {
   "cell_type": "markdown",
   "metadata": {
    "slideshow": {
     "slide_type": "subslide"
    }
   },
   "source": [
    "## Definition\n",
    "\n",
    "A discrete time **markov chain** is a stochastic process modeling a sequence of random variables within a system. The likelihood of the next random variable in the sequence only depends on the current state. \n",
    "\n",
    "\n",
    "\n",
    "\n",
    "Formally, given a sequence of events $X_0,X_1,... X_n$ the probability of transitioning to state $i_n$ can be written as:\n",
    "\n",
    "$$P\\left\\{X_n=i_n| X_0=i_0,...,X_{n-1}=i_{n-1}\\right\\} = P\\left\\{X_n=i_n | X_{n-1}=i_{n-1} \\right\\}$$\n",
    "\n",
    "A stochastic matrix describes the dynamics of a Markov chain $\\{X_n\\}$ that takes values in the state space $S$.\n",
    "\n",
    "Formally, we say that a discrete time stochastic process $\\{X_n\\}$ taking values in S is a Markov chain with stochastic matrix $P$ (called **transtition matrix**) if \n",
    "$$   {\\cal P}\\{X_{n+1}=j|X_n=i\\}=P[i,j] $$\n",
    "\n",
    "for any $t\\ge0$ and $i,j\\in S$; here $\\cal P$ means probability.\n"
   ]
  },
  {
   "cell_type": "markdown",
   "metadata": {
    "slideshow": {
     "slide_type": "subslide"
    }
   },
   "source": [
    "## examples :\n",
    "\n",
    "    – state of an engine (working, not working)\n",
    "    – weather (rain, cloud, snow, sun)\n",
    "    – robot’s position on a grid\n",
    "<p>\n",
    "<div class=\"alert alert-success\" align=\"center\">\n",
    "    What kind of experience do you have about Markov property? \n",
    "</div>\n"
   ]
  },
  {
   "cell_type": "markdown",
   "metadata": {
    "slideshow": {
     "slide_type": "subslide"
    }
   },
   "source": [
    "## Stochastic Matrices\n",
    "\n",
    "A stochastic matrix (or Markov matrix) is an n×n square matrix $P=P[i,j]$ such that\n",
    "\n",
    "each element $P[i,j]$ is nonnegative, and each row $P[i,⋅]$ sums to one\n",
    "\n",
    "Let $S:=0,\\cdots,n$\n",
    "\n",
    "Evidently, each row $P[i,⋅]$ can be regarded as a distribution (probability mass function) on $S$."
   ]
  },
  {
   "cell_type": "markdown",
   "metadata": {
    "slideshow": {
     "slide_type": "subslide"
    }
   },
   "source": [
    "## Example (Drunkard walk)\n",
    "\n",
    "A random walk on the number line where, at each step, the position may change by +1 or −1 with equal probability.\n",
    "\n",
    "\n",
    "```           \n",
    "                     p   O    p\n",
    "                        /|\\\n",
    "                   <--- / \\ --->             \n",
    "         ----------|-----|-----|----|---------\n",
    "                  n-1    n    n+1\n",
    "```\n",
    "\n",
    "From any position there are two possible transitions, to the next or previous integer. The transition probabilities depend only on the current position, not on the manner in which the position was reached. For example, the transition probabilities from 5 to 4 and 5 to 6 are both 0.5, and all other transition probabilities from 5 are 0. These probabilities are independent of whether the system was previously in 4 or 6.\n",
    "\n",
    "Suppose the the drunk man will fall down valley if he go 10 steps straightly toward east. And his first step is toward east and never go west if he is back to the intial position.\n"
   ]
  },
  {
   "cell_type": "markdown",
   "metadata": {
    "slideshow": {
     "slide_type": "subslide"
    }
   },
   "source": [
    "Transition Matrix of The position\n",
    "---\n",
    "The transition probability from state $i$ to state $j$, $p_{i,j}$:\n",
    "$$P=(p_{ij}),0\\le i,j\\le10$$"
   ]
  },
  {
   "cell_type": "code",
   "execution_count": null,
   "metadata": {
    "collapsed": false,
    "slideshow": {
     "slide_type": "slide"
    }
   },
   "outputs": [],
   "source": [
    "P=np.zeros((11,11))\n",
    "P=np.matrix(P)\n",
    "P[0,1]=P[10,10]=1.\n",
    "for i in np.arange(1,10):\n",
    "    P[i,i-1]=P[i,i+1]=1/2.\n",
    "P    "
   ]
  },
  {
   "cell_type": "code",
   "execution_count": null,
   "metadata": {
    "collapsed": false,
    "slideshow": {
     "slide_type": "subslide"
    }
   },
   "outputs": [],
   "source": [
    "n=np.arange(np.size(P[0,]))\n",
    "printP2(P,n)"
   ]
  },
  {
   "cell_type": "markdown",
   "metadata": {
    "slideshow": {
     "slide_type": "slide"
    }
   },
   "source": [
    "What is his position after 20 steps?\n",
    "---\n"
   ]
  },
  {
   "cell_type": "markdown",
   "metadata": {
    "slideshow": {
     "slide_type": "fragment"
    }
   },
   "source": [
    "\n",
    "Just $P^{20}=(p_{i,j}^{20})$ where \n",
    "$$p_{i,j}^{20}=\\text{Probability of entering state }j\\text{ after moving 20 steps randomly and starting from }i\\text{ state.}$$ "
   ]
  },
  {
   "cell_type": "code",
   "execution_count": null,
   "metadata": {
    "collapsed": false,
    "slideshow": {
     "slide_type": "subslide"
    }
   },
   "outputs": [],
   "source": [
    "printP2(P**20,n)"
   ]
  },
  {
   "cell_type": "markdown",
   "metadata": {
    "slideshow": {
     "slide_type": "slide"
    }
   },
   "source": [
    "Okay, what happens eventually?\n",
    "---\n",
    "\n",
    "Suppose that he always walk left and right if not falling down the valley."
   ]
  },
  {
   "cell_type": "code",
   "execution_count": null,
   "metadata": {
    "collapsed": false,
    "slideshow": {
     "slide_type": "subslide"
    }
   },
   "outputs": [],
   "source": [
    "printP2(P**100,n)"
   ]
  },
  {
   "cell_type": "markdown",
   "metadata": {
    "slideshow": {
     "slide_type": "fragment"
    }
   },
   "source": [
    "What happens at the even rows, in which there are 5 transtion probabilities are zero?\n",
    "---"
   ]
  },
  {
   "cell_type": "code",
   "execution_count": null,
   "metadata": {
    "collapsed": false,
    "slideshow": {
     "slide_type": "slide"
    }
   },
   "outputs": [],
   "source": [
    "printP2(P**1001,n)"
   ]
  },
  {
   "cell_type": "markdown",
   "metadata": {
    "slideshow": {
     "slide_type": "subslide"
    }
   },
   "source": [
    "## Discussions\n",
    "\n",
    " \n",
    "- Eventually, the drunkard would fall down the valley. But why?\n",
    "\n",
    "Roughtly, we can make the folloing simple conclusion\n",
    "```\n",
    "   Once he falled down the valley, says at 1001 step here, he never move again!\n",
    "```   "
   ]
  },
  {
   "cell_type": "code",
   "execution_count": null,
   "metadata": {
    "collapsed": false,
    "slideshow": {
     "slide_type": "subslide"
    }
   },
   "outputs": [],
   "source": [
    "stableS=StableDist(P)\n",
    "stableS"
   ]
  },
  {
   "cell_type": "code",
   "execution_count": null,
   "metadata": {
    "collapsed": false,
    "slideshow": {
     "slide_type": "fragment"
    }
   },
   "outputs": [],
   "source": [
    "stableS*P"
   ]
  },
  {
   "cell_type": "markdown",
   "metadata": {
    "slideshow": {
     "slide_type": "fragment"
    }
   },
   "source": [
    "## Question:\n",
    "\n",
    "What's your conclusion about the last two results?"
   ]
  },
  {
   "cell_type": "markdown",
   "metadata": {
    "slideshow": {
     "slide_type": "slide"
    }
   },
   "source": [
    "## Note:\n",
    "Numpy provides two kinds of data type to store vector/matrix data, **array() and matrix()**. However, there are some differences between these types, especially the algebraic calculation."
   ]
  },
  {
   "cell_type": "markdown",
   "metadata": {
    "slideshow": {
     "slide_type": "slide"
    }
   },
   "source": [
    "<h3> Drunkard Example again</h3>\n",
    "Suppose that the state \"0\"  also represents falling valley. Reconsider the example again."
   ]
  },
  {
   "cell_type": "code",
   "execution_count": null,
   "metadata": {
    "collapsed": false,
    "slideshow": {
     "slide_type": "subslide"
    }
   },
   "outputs": [],
   "source": [
    "P2=P\n",
    "P2[0,0]=1.;P2[0,1]=0.;\n",
    "printP2(P2,n)"
   ]
  },
  {
   "cell_type": "code",
   "execution_count": null,
   "metadata": {
    "collapsed": false,
    "slideshow": {
     "slide_type": "subslide"
    }
   },
   "outputs": [],
   "source": [
    "printP2(P2**1000,n)"
   ]
  },
  {
   "cell_type": "code",
   "execution_count": null,
   "metadata": {
    "collapsed": false,
    "slideshow": {
     "slide_type": "subslide"
    }
   },
   "outputs": [],
   "source": [
    "printP2(P2**1001,n)"
   ]
  },
  {
   "cell_type": "code",
   "execution_count": null,
   "metadata": {
    "collapsed": false,
    "slideshow": {
     "slide_type": "subslide"
    }
   },
   "outputs": [],
   "source": [
    "StableDist(P)"
   ]
  },
  {
   "cell_type": "markdown",
   "metadata": {
    "collapsed": false,
    "slideshow": {
     "slide_type": "subslide"
    }
   },
   "source": [
    "Question\n",
    "---\n",
    "What the situation does the drunkard still alive? Why?"
   ]
  },
  {
   "cell_type": "markdown",
   "metadata": {
    "slideshow": {
     "slide_type": "slide"
    }
   },
   "source": [
    "<h3> Note: Difference between Array and Matrix Operations</h3>\n",
    "Matrices can be treated as a 2D values (data). However, matrix operations are different from general value arithmatic operations.  For instance:\n",
    "$ M\\times M=0$ does not imply $M=0$ for matrix $M$. "
   ]
  },
  {
   "cell_type": "code",
   "execution_count": null,
   "metadata": {
    "collapsed": false,
    "slideshow": {
     "slide_type": "subslide"
    }
   },
   "outputs": [],
   "source": [
    "A=np.array([[1,-1],[1,-1]])\n",
    "B=np.matrix(A)\n",
    "A,B"
   ]
  },
  {
   "cell_type": "code",
   "execution_count": null,
   "metadata": {
    "collapsed": false,
    "slideshow": {
     "slide_type": "subslide"
    }
   },
   "outputs": [],
   "source": [
    "printP(A*A)"
   ]
  },
  {
   "cell_type": "code",
   "execution_count": null,
   "metadata": {
    "collapsed": false,
    "slideshow": {
     "slide_type": "subslide"
    }
   },
   "outputs": [],
   "source": [
    "printP(B*B)"
   ]
  },
  {
   "cell_type": "markdown",
   "metadata": {
    "slideshow": {
     "slide_type": "slide"
    }
   },
   "source": [
    "## Example (Learning Or Not)\n",
    "\n",
    "Arnorld, a student in the class, would be in one of four states:\n",
    "\n",
    "    1. learning\n",
    "    2. watch his facebook,\n",
    "    3. write exercise or lab report,\n",
    "    4. dozing off.\n",
    "\n",
    "Every ten minutes, Arnold can change his activity or continue the current one. Suppose that the behavior of Arnold's changing state is a process without memory.\n",
    "\n",
    "    - When he dozes off, there is 9 chances over 10 that he will not wake up the next ten minute, otherwise 1 chance over 10 that he will wake up and listen what he had lost.\n",
    "    - When he wakes up, there is 1 chance over 3 that listens lecture, and 1 chance over 3 that logins his facebook, and 1 chance over 3 that will write lab report;\n",
    "    - when teacher ask to him shutdown his cell phone, there is 3 chances over 5 that he will fall in asleep, and 2 chances over 5 that he will write his lab report.\n",
    "    - when teacher stop his writing staff, there is 1 chances over 4 that he will attend the lecture listening, and 1 chances over 2 that he will doze off.\n",
    "\n"
   ]
  },
  {
   "cell_type": "markdown",
   "metadata": {
    "slideshow": {
     "slide_type": "subslide"
    }
   },
   "source": [
    "# Example (continued)\n",
    "\n",
    "**State $S$**: 1 for listening, 2 for using cell phone, 3 for writing, and 4 for dozzling.\n",
    "\n",
    "**The first state**: 1\n",
    "\n",
    "**Question**: After ten minutes, in what state is Arnold we can predict? How about 20 minutes? and so on?\n"
   ]
  },
  {
   "cell_type": "markdown",
   "metadata": {
    "slideshow": {
     "slide_type": "subslide"
    }
   },
   "source": [
    "## Answer (continued)\n",
    "\n",
    "After ten minutes,\n",
    "\n",
    "1. $1\\to1$ (still listening to the lecture): 1/3\n",
    "2. $1\\to2$: 1/3\n",
    "3. $1\\to3$: 1/3\n",
    "4. $1\\to4$: 0\n",
    "\n"
   ]
  },
  {
   "cell_type": "markdown",
   "metadata": {
    "slideshow": {
     "slide_type": "subslide"
    }
   },
   "source": [
    "\n",
    "<div class=\"alert alert-success\" align=\"center\">\n",
    "    The case becomes more `complicated` while time elapses!\n",
    "\n",
    "</div>\n",
    "\n",
    "\n",
    "The probability transtion matrix would do much help!"
   ]
  },
  {
   "cell_type": "code",
   "execution_count": null,
   "metadata": {
    "collapsed": false,
    "slideshow": {
     "slide_type": "subslide"
    }
   },
   "outputs": [],
   "source": [
    "P1=np.matrix([[1/3.,1/3.,1/3.,0],[0,0,2/5.,3/5.],[1/4.,1/4.,0,1/2.],[1/10.,0,0,9/10.]])"
   ]
  },
  {
   "cell_type": "code",
   "execution_count": null,
   "metadata": {
    "collapsed": false,
    "slideshow": {
     "slide_type": "subslide"
    }
   },
   "outputs": [],
   "source": [
    "printP(P1)"
   ]
  },
  {
   "cell_type": "markdown",
   "metadata": {
    "slideshow": {
     "slide_type": "slide"
    }
   },
   "source": [
    "## Example (continued)\n",
    "\n",
    "After the first result, the transition states from any state could be any state in $S$; the following calculation shows the probability, staring from state 1 to any states and back to state again:\n",
    "$$\n",
    "1 \\to [1,2,3,4] \\to 1\\\\\n",
    "   P(X_2=1|X_0=1)=\\sum_{i\\in S}P(X_1=i|X_0=1)\\times P(X_2=1|X_1=i)\n",
    "$$\n",
    "\n",
    "Above result describes the case that Arnold still awake and keeps on listening after two time units elapsed.\n",
    "\n",
    "<h3>Symbols</h3>\n",
    "\n",
    "$P(X_{n+1}=j|X_n=i)$: the probability of being in $i$-state at time $n+1$ given by condition which is in state $i$ at time $n$. "
   ]
  },
  {
   "cell_type": "markdown",
   "metadata": {
    "slideshow": {
     "slide_type": "subslide"
    }
   },
   "source": [
    "## Question:\n",
    "\n",
    "1. Does this mean that the person always awakes at the first twenty minutes?\n",
    "2. How many changes does this person awake and listen to the lectecure during two hours? (very hard)"
   ]
  },
  {
   "cell_type": "markdown",
   "metadata": {},
   "source": [
    "<h2>Note</h2>\n",
    "$$P(X_2=1|X_0=1)= \\sum_i P(X_2=1|X_1=i)P(X_1=i|X_0=1)=\\sum_i P(X_1=1|X_0=i)P(X_1=i|X_0=1)=P^2[1,1]$$"
   ]
  },
  {
   "cell_type": "code",
   "execution_count": null,
   "metadata": {
    "collapsed": false
   },
   "outputs": [],
   "source": [
    "printP(P1**2)"
   ]
  },
  {
   "cell_type": "markdown",
   "metadata": {},
   "source": [
    "<div class=\"alert alert-success\" align=\"center\">\n",
    "<b>Answer for last question<b>: Only about <code>2</code> chances over 10, he is still listening after 20 minutes.\n",
    "</div>"
   ]
  },
  {
   "cell_type": "code",
   "execution_count": null,
   "metadata": {
    "collapsed": false,
    "slideshow": {
     "slide_type": "notes"
    }
   },
   "outputs": [],
   "source": [
    "StableDist(P1)"
   ]
  },
  {
   "cell_type": "code",
   "execution_count": null,
   "metadata": {
    "collapsed": false,
    "slideshow": {
     "slide_type": "subslide"
    }
   },
   "outputs": [],
   "source": [
    "printP(P1**10)"
   ]
  },
  {
   "cell_type": "code",
   "execution_count": null,
   "metadata": {
    "collapsed": false,
    "slideshow": {
     "slide_type": "subslide"
    }
   },
   "outputs": [],
   "source": [
    "printP(P1**100)"
   ]
  },
  {
   "cell_type": "markdown",
   "metadata": {
    "slideshow": {
     "slide_type": "subslide"
    }
   },
   "source": [
    "<div class=\"alert alert-success\" align=\"center\">\n",
    "How about the last two computed results? \n",
    "</div>"
   ]
  },
  {
   "cell_type": "markdown",
   "metadata": {},
   "source": [
    "## Observation\n",
    "\n",
    "While at the (large) $n$ step, the transtion probability seems to be distributed as constant as follows:\n",
    "\n",
    "$$\\pi_n=(p_1,p_2,p_3,p_4)^{t=n}$$\n",
    "\n",
    "Then the transtion probability to the next step should be\n",
    "\n",
    "1. state 1: $p_1*p_{11}+p_2*p_{21}+p_3*p_{31}+p_4*p_{41}(\\sim p_1)$\n",
    "$$   \n",
    "   P(X_{n+1}=1) = P(X_n=1) P(X_{n+1}=1|X_n=1)+P(X_n=2) P(X_{n+1}=1|X_n=2)+\\cdots+P(X_n=4) P(X_{n+1}=1|X_n=4) \n",
    "$$\n",
    "2. states $i=2,3,4$: $p_1*p_{1i}+p_2*p_{2i}+p_3*p_{3i}+p_4*p_{4i}(\\sim p_i)$\n",
    "3. $$ (p_1,p_2,p_3,p_4)^{n+1}=(p_1,p_2,p_3,p_4)^{n}\\times P$$\n",
    "\n",
    "This implies: $$ \\pi_{n+1}=\\pi_n\\times P$$ if time $n$ is large enough (eventually). This is stable if the following exists:\n",
    "$$\\pi=\\lim_{n\\to\\infty}\\pi_{n+1}=\\lim_{n\\to\\infty}\\pi_n\\times P=\\pi P$$\n"
   ]
  },
  {
   "cell_type": "markdown",
   "metadata": {
    "slideshow": {
     "slide_type": "subslide"
    }
   },
   "source": [
    "## Tools for evaluate stable $\\pi$\n",
    "\n",
    "Although $\\pi$ is calculated by matrix theory, NumPy/SciPy is the best choice for computing Linear Algebra and for computing transition matix!\n"
   ]
  },
  {
   "cell_type": "markdown",
   "metadata": {
    "slideshow": {
     "slide_type": "slide"
    }
   },
   "source": [
    "## Mathematical Background\n",
    "\n",
    "**Definition**\n",
    "\n",
    "An $n×k$ matrix is a rectangular array $A$ of numbers with $n$ rows and $k$ columns:\n",
    "\n",
    "\\begin{split}A = \\left[ \\begin{array}{cccc} a_{11} & a_{12} & \\cdots & a_{1k} \\\\ a_{21} & a_{22} & \\cdots & a_{2k} \\\\ \\vdots & \\vdots & & \\vdots \\\\ a_{n1} & a_{n2} & \\cdots & a_{nk} \\end{array} \\right]\\end{split}\n",
    "\n",
    "$A$ is called square matrix if $n=k$."
   ]
  },
  {
   "cell_type": "markdown",
   "metadata": {
    "slideshow": {
     "slide_type": "subslide"
    }
   },
   "source": [
    "**Definition**\n",
    "---\n",
    "Let $P$ be an $n×n$ square matrix\n",
    "\n",
    "**a).** If $\\lambda$ is scalar and $\\vec v$ is a non-zero vector in $\\mathbb{R}^n$ such that \n",
    "$$\\mathbb{P\\vec v=\\lambda \\vec v},$$\n",
    "then we say that $\\lambda$ is a **right eigenvalue** of $P$, and $\\vec v$ is a **right eigenvector**.\n",
    "\n",
    "**b).** If $\\lambda$ is scalar and $\\vec v$ is a non-zero vector in $\\mathbb{R}^n$ such that \n",
    "$$\\mathbb{\\vec v P=\\lambda \\vec v},$$\n",
    "then we say that $\\lambda$ is a **left eigenvalue **of $P$, and $\\vec v$ is a **left eigenvector**\n"
   ]
  },
  {
   "cell_type": "markdown",
   "metadata": {
    "slideshow": {
     "slide_type": "subslide"
    }
   },
   "source": [
    "\n",
    "<div class=\"alert alert-success\" align=\"center\">\n",
    "<big>Left {*eigenvalues*, *eigenvectors*} is the key point to describe the stable property for $P$.</big>\n",
    "</div>"
   ]
  },
  {
   "cell_type": "markdown",
   "metadata": {
    "slideshow": {
     "slide_type": "subslide"
    }
   },
   "source": [
    "**Theorem**\n",
    "Let $P$ be an $n×n$ Transition matrix. 1 is an eigenvalue since\n",
    "$$ P\\cdot[1,1,\\cdots,1]^t=\\left[\\sum_i^n p_{1i},\\cdots,\\sum_i^n p_{ni}\\right]=[1,1,\\cdots,1]^t$$\n"
   ]
  },
  {
   "cell_type": "markdown",
   "metadata": {
    "slideshow": {
     "slide_type": "fragment"
    }
   },
   "source": [
    "\n",
    "\n",
    "**Theorem** (Accumulated Effect)\n",
    "\n",
    "$\\vec v P=\\lambda \\vec v$ impies $\\lambda^m$ is eigenvalue of $P^m$ with the same eigenvector:\n",
    "\n",
    "$$\\vec v P^m=(\\vec v P) P^{m-1}=\\lambda \\vec v P^{m-1}=\\lambda^2 \\vec v P^{m-2}=\\cdots= \\lambda^m\\vec v $$\n",
    "\n"
   ]
  },
  {
   "cell_type": "markdown",
   "metadata": {
    "slideshow": {
     "slide_type": "fragment"
    }
   },
   "source": [
    "\n",
    "**Theorem**\n",
    "\n",
    "Every left eigenvalue $\\lambda_j$ satisfies $|\\lambda_j|\\le1$\n",
    "$$ \\lambda_j^m \\vec v = \\sum_i^n v_i p^m_{ij} \\\\\n",
    "   |\\lambda_j^m|\\cdot ||\\vec v|| \\le \\sum_i^n |v_i| p_{ij} \\\\\n",
    "   |\\lambda_j^m|  \\le \\sum_i^n  p_{ij}\\le C \\\\\n",
    "$$   \n",
    "This proves the theorem since the last result would holds for every $m\\ge1$.\n",
    "\n",
    "<div align=\"center\"><big>\n",
    "(If not, $\\lambda^m$ should be not bounded for some $m$ large enough.)\n",
    "</big>\n",
    "</div>\n",
    "   "
   ]
  },
  {
   "cell_type": "markdown",
   "metadata": {
    "slideshow": {
     "slide_type": "slide"
    }
   },
   "source": [
    "## Example\n",
    "\n",
    "**Definition**\n",
    "\n",
    "Suppose that $P$ is a $2x2$ transition matrix, $P$, as follows:\n",
    "\n",
    "\\begin{split}P = \\left[ \\begin{array}{cc} p_{11} & p_{12}\\\\ p_{21} & p_{22} \\end{array} \\right]\\end{split}\n",
    "\n",
    "\n",
    "**Facts**\n",
    "\n",
    "1. If $p_{12}=p_{21}=0$ $\\to$ 2 recurrent states and $\\lambda=1$ with multiplicity 2.\n",
    "2. If $p_{12}=p_{21}=1$ $\\to$ periodic and eigenvalues are 1 and $\\lambda=-1$ (otherwise $|\\lambda|<1$).\n"
   ]
  },
  {
   "cell_type": "markdown",
   "metadata": {
    "slideshow": {
     "slide_type": "slide"
    }
   },
   "source": [
    "## Neumann's Theorem\n",
    "\n",
    "If $∥A^k∥\\lt 1$ for some $k∈\\mathbb{N}$, then $I−A$ is invertible, and\n",
    "\n",
    "\\begin{split} (I - A)^{-1} = \\sum_{k=0}^{\\infty} A^k \\end{split} where \\begin{split} \\| A \\| := \\max_{\\| x \\| = 1} \\| A x \\| \\end{split}\n"
   ]
  },
  {
   "cell_type": "markdown",
   "metadata": {
    "slideshow": {
     "slide_type": "subslide"
    }
   },
   "source": [
    "## Properties of MC\n",
    "\n",
    "1. A state $j$ is said to be **accessible** from a state $i$ if $ P^n(i,j)>0$ for some $n\\ge0$. \n",
    "2. Periodic: A state $ i$ has **period** $k$ if any return to state $i$ must occur in multiples of $k$ time steps. If $k = 1$, then the state is said to be *aperiodic*\n",
    "3. Recurrence: A state $i$ is said to be *transient* if, given that we start in state $i$, there is a non-zero probability that we will never return to $i$.  A state $i$ is said to be *recurrent* if and only if the expected number, starting from $i$, back to $i$ is infinite.\n",
    "$$\\text{ recurrent if } \\sum_{n\\ge 1}P_{i,i}^n=\\infty;\\\\\n",
    "  \\text{ transient if } \\sum_{n\\ge 1}P_{i,i}^n<\\infty;\\\\                       \n",
    "$$\n",
    "4. A state $i$ is called *absorbing* if it is impossible to leave this state.\n",
    "5. Ergodicity: A state $i$ is said to be ergodic if it is aperiodic and positive recurrent. In other words, a state i is ergodic if it is recurrent, has a period of 1 and it has finite mean recurrence time. If all states in an irreducible Markov chain are ergodic, then the chain is said to be ergodic.\n",
    "6. $\\pi$ is called stationary if\n",
    "   \n",
    "$$\n",
    "   \\pi=[\\pi_1,\\cdots,\\pi_n], \\pi_i\\ge0; \\\\\n",
    "   \\sum_{i\\in S}\\pi_i=1;\\\\\n",
    "   \\pi=\\pi P\n",
    "$$ \n",
    "\n"
   ]
  },
  {
   "cell_type": "markdown",
   "metadata": {
    "slideshow": {
     "slide_type": "subslide"
    }
   },
   "source": [
    "## Theorem\n",
    "An irreducible chain has a stationary distribution if and only if all of its states are positive recurrent, i.e.\n",
    "$$ \\pi=\\pi P$$"
   ]
  },
  {
   "cell_type": "markdown",
   "metadata": {
    "slideshow": {
     "slide_type": "subslide"
    }
   },
   "source": [
    "## Note\n",
    "An irreducible aperiod Markov chain satisfies:\n",
    "$$ \\pi=\\pi P \\\\\n",
    "   \\to \\pi(I_n-1\\cdot P)=0$$\n",
    "   This means $\\pi$ is the eigenvector of $P$ with respect to the eigenvalue <font color=\"red\">\"$1$\"</font>.   <br>  \n",
    "   <img src=\"images/invariant.png\">   \n"
   ]
  },
  {
   "cell_type": "code",
   "execution_count": null,
   "metadata": {
    "collapsed": false,
    "slideshow": {
     "slide_type": "slide"
    }
   },
   "outputs": [],
   "source": [
    "B=np.matrix([[0.4,0.6],[0.2,0.8]])\n",
    "printP(B)"
   ]
  },
  {
   "cell_type": "code",
   "execution_count": null,
   "metadata": {
    "collapsed": false,
    "slideshow": {
     "slide_type": "subslide"
    }
   },
   "outputs": [],
   "source": [
    "evals, evecs =sp.linalg.eig(B,left=True,right=False)\n",
    "\n",
    "evals=np.real(evals)\n",
    "evals"
   ]
  },
  {
   "cell_type": "code",
   "execution_count": null,
   "metadata": {
    "collapsed": false,
    "slideshow": {
     "slide_type": "subslide"
    }
   },
   "outputs": [],
   "source": [
    "ev0=evecs[:,1];ev0"
   ]
  },
  {
   "cell_type": "code",
   "execution_count": null,
   "metadata": {
    "collapsed": false,
    "slideshow": {
     "slide_type": "subslide"
    }
   },
   "outputs": [],
   "source": [
    "ev0=ev0/sum(ev0);ev0"
   ]
  },
  {
   "cell_type": "code",
   "execution_count": null,
   "metadata": {
    "collapsed": false,
    "slideshow": {
     "slide_type": "subslide"
    }
   },
   "outputs": [],
   "source": [
    "ev1=StableDist(B)\n",
    "ev1"
   ]
  },
  {
   "cell_type": "code",
   "execution_count": null,
   "metadata": {
    "collapsed": false,
    "slideshow": {
     "slide_type": "subslide"
    }
   },
   "outputs": [],
   "source": [
    "ev1*B"
   ]
  },
  {
   "cell_type": "markdown",
   "metadata": {
    "slideshow": {
     "slide_type": "slide"
    }
   },
   "source": [
    "## Procedure for Evaluating $\\pi$\n",
    "\n",
    "1. Find out all the eigenvalues of $P$ with eigenvales repectively; \n",
    "\n",
    "2. the eigenvector with respect to eigenvale 1 is the stable distribution, $\\pi$, that  we want to find.\n",
    "\n",
    "## By SciPy\n",
    "\n",
    "1. Find eigenvalues by <br>\n",
    "   <font color=\"brown\">eigvals,eigvecs=scipy.linalg.eig(P,left=True,right=False)</font>\n",
    "\n",
    "2. Suppose that eigvec = eigvec[:,i] is the eigenvector with respect to eigenvalue1. It is the stable distribution, $\\pi$ if eigenvec is unit vector; otherwise, $\\pi$ is <font color=\"brown\">eigvec/sum(eigvec)</font> since total sum of transition probability is equal to 1."
   ]
  },
  {
   "cell_type": "code",
   "execution_count": null,
   "metadata": {
    "collapsed": false,
    "slideshow": {
     "slide_type": "subslide"
    }
   },
   "outputs": [],
   "source": [
    "A = np.matrix([[0.7,0.2,0.1],[0,0.5,0.5],[0.,0.9,0.1]])\n",
    "printP(A)"
   ]
  },
  {
   "cell_type": "code",
   "execution_count": null,
   "metadata": {
    "collapsed": false,
    "slideshow": {
     "slide_type": "subslide"
    }
   },
   "outputs": [],
   "source": [
    "printP(A**1000)"
   ]
  },
  {
   "cell_type": "code",
   "execution_count": null,
   "metadata": {
    "collapsed": false,
    "slideshow": {
     "slide_type": "subslide"
    }
   },
   "outputs": [],
   "source": [
    "printP(A**2000)"
   ]
  },
  {
   "cell_type": "code",
   "execution_count": null,
   "metadata": {
    "collapsed": false,
    "slideshow": {
     "slide_type": "subslide"
    }
   },
   "outputs": [],
   "source": [
    "evals, evecs =sp.linalg.eig(A,left=True,right=False)\n",
    "\n",
    "evals=np.real(evals)\n",
    "evals"
   ]
  },
  {
   "cell_type": "code",
   "execution_count": null,
   "metadata": {
    "collapsed": false,
    "slideshow": {
     "slide_type": "subslide"
    }
   },
   "outputs": [],
   "source": [
    "ev0=evecs[:,1]\n",
    "ev0"
   ]
  },
  {
   "cell_type": "code",
   "execution_count": null,
   "metadata": {
    "collapsed": false,
    "slideshow": {
     "slide_type": "subslide"
    }
   },
   "outputs": [],
   "source": [
    "ev0=ev0/sum(ev0);ev0"
   ]
  },
  {
   "cell_type": "code",
   "execution_count": null,
   "metadata": {
    "collapsed": false,
    "slideshow": {
     "slide_type": "subslide"
    }
   },
   "outputs": [],
   "source": [
    "eps=1e-6\n",
    "ind=evals[:]>1.-eps\n",
    "#evals[:,ind]\n",
    "evecs[:,ind]/sum(evecs[:,ind])"
   ]
  },
  {
   "cell_type": "code",
   "execution_count": null,
   "metadata": {
    "collapsed": false,
    "slideshow": {
     "slide_type": "subslide"
    }
   },
   "outputs": [],
   "source": [
    "StableDist(A)"
   ]
  },
  {
   "cell_type": "markdown",
   "metadata": {
    "slideshow": {
     "slide_type": "slide"
    }
   },
   "source": [
    "## Frog on the 7 lily pad\n",
    "\n",
    "A frog hops about on 7 lily pads. The numbers next to arrows show the probabilities with which, at the next jump, \n",
    "he jumps to a neighbouring lily pad (and when out-going probabilities sum to less than 1 he stays where he is with \n",
    "the remaining probability).\n",
    "<p>\n",
    "<img src=\"images/frog.png\">\n"
   ]
  },
  {
   "cell_type": "markdown",
   "metadata": {
    "slideshow": {
     "slide_type": "subslide"
    }
   },
   "source": [
    "## Challenges\n",
    "\n",
    "    a) Starting in state 1, what is the probability that we are still in state 1 after 3 steps?\n",
    "    b) after 5 steps?\n",
    "    c) after 100 steps (or eventually)?\n",
    "\n"
   ]
  },
  {
   "cell_type": "code",
   "execution_count": null,
   "metadata": {
    "collapsed": false,
    "slideshow": {
     "slide_type": "subslide"
    }
   },
   "outputs": [],
   "source": [
    "P=np.matrix([[0,1,0,0,0,0,0],\n",
    "             [0,1/2.,1/2.,0,0,0,0],\n",
    "             [1/2.,0,1/2.,0,0,0,0],\n",
    "             [0,0,1/4.,1/2.,1/4.,0,0],\n",
    "             [0,0,0,0,0,1/2.,1/2.],\n",
    "             [0,0,1,0,0,0,0],\n",
    "             [0,0,0,0,0,0,1]])\n",
    "printP(P)"
   ]
  },
  {
   "cell_type": "code",
   "execution_count": null,
   "metadata": {
    "collapsed": false,
    "slideshow": {
     "slide_type": "subslide"
    }
   },
   "outputs": [],
   "source": [
    "printP(P*P*P)"
   ]
  },
  {
   "cell_type": "code",
   "execution_count": null,
   "metadata": {
    "collapsed": false,
    "slideshow": {
     "slide_type": "subslide"
    }
   },
   "outputs": [],
   "source": [
    "printP(P**5)"
   ]
  },
  {
   "cell_type": "code",
   "execution_count": null,
   "metadata": {
    "collapsed": false,
    "slideshow": {
     "slide_type": "subslide"
    }
   },
   "outputs": [],
   "source": [
    "P000=P**100\n",
    "P000[0,0]"
   ]
  },
  {
   "cell_type": "code",
   "execution_count": null,
   "metadata": {
    "collapsed": false,
    "slideshow": {
     "slide_type": "subslide"
    }
   },
   "outputs": [],
   "source": [
    "printP(P**1000)"
   ]
  },
  {
   "cell_type": "markdown",
   "metadata": {
    "slideshow": {
     "slide_type": "slide"
    }
   },
   "source": [
    "## Problem\n",
    "\n",
    "Suppose that the climate record is as follows (one-day transition):\n",
    "\n",
    "           cloud  sun rain  snow\n",
    "    cloud   0.6   0.2  0.2    0\n",
    "     sun    0.7   0.3    0    0\n",
    "    rain    0.55    0  0.4  0.05\n",
    "    snow    0       0  0.5  0.5\n",
    "\n",
    "What about the climate of tomorrow, and the day after tomorrow? Guess where the place locates. How to introtruce the climate information for travellers?\n"
   ]
  },
  {
   "cell_type": "markdown",
   "metadata": {
    "slideshow": {
     "slide_type": "slide"
    }
   },
   "source": [
    "Problem\n",
    "---\n",
    "\n",
    "Physicians who diagnose asymptomatic gallstones are faced with the decision to either immediately remove the gall bladder to prevent possible life-threatening complications or to postpone surgery until complications do occur. What is the long-term trend of each strategy?\n",
    "\n",
    "        A      C    R     W     D\n",
    "    A  0.95  0.04   0     0    0.01 \n",
    "    C   0      0   0.995  0    0.005\n",
    "    R   0      0   0.09  0.90  0.01 \n",
    "    W   0      0   0     0.99  0.01\n",
    "    D   0      0   0      0     1 \n",
    "\n",
    "Where the state is one of the follows:\n",
    "\n",
    "    A (1): Asymptomatic gallstone; postpone surgery from 4-month delay with 0.95 probability;\n",
    "    C (2): cholecystitis or biliary complications; will require surgery with 0.04 probability;\n",
    "    D (5): natual death state; with probability 0.01 due to age\n",
    "    R (3): Recovery state;\n",
    "    W (4): well state; 99% well recovery and 1% to death\n",
    "\n",
    "Ninety percent of the patients move onto the well state (W) while 9% stay in the recovery state each year and 1% die of natural causes. If the disease progresses and becomes symptomatic, then surgery is performed with a risk of death from complications due to surgery of 0.005.\n",
    "\n",
    "a). Contruct the transition matrix, $P$.<br>\n",
    "b). Is there any stationary state? What does it mean?<br>\n",
    "c). What is your suggestion for a 60 years old patient in state A?<br>"
   ]
  },
  {
   "cell_type": "markdown",
   "metadata": {},
   "source": [
    "# Markov Chain Model for Baseball\n",
    "\n",
    "        \n",
    "```\n",
    "   Yogi Berra\n",
    "   \n",
    "   It's not over until it's over.\n",
    "```"
   ]
  },
  {
   "cell_type": "markdown",
   "metadata": {
    "slideshow": {
     "slide_type": "subslide"
    }
   },
   "source": [
    "## RUNNERS AND OUTS COMBINATIONS\n",
    "```     \n",
    "      state ( xyz , outs)\n",
    "      \n",
    "      xyz: runners on on the bases x,y,z\n",
    "      outs: number of outs\n",
    "```     \n",
    "\n",
    "Runners (on any base): 0(none) 1     2     3     12     13     23     123\n",
    "\n",
    "         0: (0,0)[1]  (1,0)[2]  (2,0)[3]  (3,0)[4]  (12,0)[5]  (13,0)[6]  (23,0)[7]  (123,0)[8]\n",
    "    Outs 1: (0,1)[9]  (1,1)[10] (2,1)[11] (3,1)[12] (12,1)[13] (13,1)[14] (23,1)[15] (123,1)[16]\n",
    "         2: (0,2)[17] (1,2)[18] (2,2)[19] (3,2)[20] (12,2)[21] (13,2)[22] (23,2)[23] (123,2)[24]\n",
    "\n",
    " Three outs state [25]\n",
    "\n",
    "There are 25 states considered, in other words, the transition matrix, $P$, is a $25\\times25$ matrix.\n"
   ]
  },
  {
   "cell_type": "markdown",
   "metadata": {
    "slideshow": {
     "slide_type": "subslide"
    }
   },
   "source": [
    "## States of Markov Chain Model for Baseball\n",
    "\n",
    "<table border=\"1\" cellpadding=\"2\" cellspacing=\"2\" width=\"70%\">\n",
    "<tbody>\n",
    "<tr>\n",
    "<td align=\"center\" valign=\"top\">no.<br>\n",
    "</td>\n",
    "<td align=\"center\" valign=\"top\">state<br>\n",
    "</td>\n",
    "<td align=\"center\" valign=\"top\">no.<br>\n",
    "</td>\n",
    "<td align=\"center\" valign=\"top\">state<br>\n",
    "</td>\n",
    "<td align=\"center\" valign=\"top\">no.<br>\n",
    "</td>\n",
    "<td align=\"center\" valign=\"top\">state<br>\n",
    "</td>\n",
    "</tr>\n",
    "<tr>\n",
    "<td align=\"center\" valign=\"top\">1<br>\n",
    "</td>\n",
    "<td align=\"center\" valign=\"top\">(0,0)<br>\n",
    "</td>\n",
    "<td align=\"center\" valign=\"top\">9<br>\n",
    "</td>\n",
    "<td align=\"center\" valign=\"top\">(0,1)<br>\n",
    "</td>\n",
    "<td align=\"center\" valign=\"top\">17<br>\n",
    "</td>\n",
    "<td align=\"center\" valign=\"top\">(0,2)<br>\n",
    "</td>\n",
    "</tr>\n",
    "<tr>\n",
    "<td align=\"center\" valign=\"top\">2<br>\n",
    "</td>\n",
    "<td align=\"center\" valign=\"top\">(1,0)<br>\n",
    "</td>\n",
    "<td align=\"center\" valign=\"top\">10<br>\n",
    "</td>\n",
    "<td align=\"center\" valign=\"top\">(1,1)<br>\n",
    "</td>\n",
    "<td align=\"center\" valign=\"top\">18<br>\n",
    "</td>\n",
    "<td align=\"center\" valign=\"top\">(1,2)<br>\n",
    "</td>\n",
    "</tr>\n",
    "<tr>\n",
    "<td align=\"center\" valign=\"top\">3<br>\n",
    "</td>\n",
    "<td align=\"center\" valign=\"top\">(2,0)<br>\n",
    "</td>\n",
    "<td align=\"center\" valign=\"top\">11<br>\n",
    "</td>\n",
    "<td align=\"center\" valign=\"top\">(2,1)<br>\n",
    "</td>\n",
    "<td align=\"center\" valign=\"top\">19<br>\n",
    "</td>\n",
    "<td align=\"center\" valign=\"top\">(2,2)<br>\n",
    "</td>\n",
    "</tr>\n",
    "<tr>\n",
    "<td align=\"center\" valign=\"top\">4<br>\n",
    "</td>\n",
    "<td align=\"center\" valign=\"top\">(3,0)<br>\n",
    "</td>\n",
    "<td align=\"center\" valign=\"top\">12<br>\n",
    "</td>\n",
    "<td align=\"center\" valign=\"top\">(3,1)<br>\n",
    "</td>\n",
    "<td align=\"center\" valign=\"top\">20<br>\n",
    "</td>\n",
    "<td align=\"center\" valign=\"top\">(3,2)<br>\n",
    "</td>\n",
    "</tr>\n",
    "<tr>\n",
    "<td align=\"center\" valign=\"top\">5<br>\n",
    "</td>\n",
    "<td align=\"center\" valign=\"top\">(12,0)<br>\n",
    "</td>\n",
    "<td align=\"center\" valign=\"top\">13<br>\n",
    "</td>\n",
    "<td align=\"center\" valign=\"top\">(12,1)<br>\n",
    "</td>\n",
    "<td align=\"center\" valign=\"top\">21<br>\n",
    "</td>\n",
    "<td align=\"center\" valign=\"top\">(12,2)<br>\n",
    "</td>\n",
    "</tr>\n",
    "<tr>\n",
    "<td align=\"center\" valign=\"top\">6<br>\n",
    "</td>\n",
    "<td align=\"center\" valign=\"top\">(13,0)<br>\n",
    "</td>\n",
    "<td align=\"center\" valign=\"top\">14<br>\n",
    "</td>\n",
    "<td align=\"center\" valign=\"top\">(13,1)<br>\n",
    "</td>\n",
    "<td align=\"center\" valign=\"top\">22<br>\n",
    "</td>\n",
    "<td align=\"center\" valign=\"top\">(13,2)<br>\n",
    "</td>\n",
    "</tr>\n",
    "<tr>\n",
    "<td align=\"center\" valign=\"top\">7<br>\n",
    "</td>\n",
    "<td align=\"center\" valign=\"top\">(23,0)<br>\n",
    "</td>\n",
    "<td align=\"center\" valign=\"top\">15<br>\n",
    "</td>\n",
    "<td align=\"center\" valign=\"top\">(23,1)<br>\n",
    "</td>\n",
    "<td align=\"center\" valign=\"top\">23<br>\n",
    "</td>\n",
    "<td align=\"center\" valign=\"top\">(23,2)<br>\n",
    "</td>\n",
    "</tr>\n",
    "<tr>\n",
    "<td align=\"center\" valign=\"top\">8<br>\n",
    "</td>\n",
    "<td valign=\"top\">(123,0)<br>\n",
    "</td>\n",
    "<td align=\"center\" valign=\"top\">16<br>\n",
    "</td>\n",
    "<td align=\"center\" valign=\"top\">(123,1)<br>\n",
    "</td>\n",
    "<td align=\"center\" valign=\"top\">24<br>\n",
    "</td>\n",
    "<td align=\"center\" valign=\"top\">(123,2)<br>\n",
    "</td>\n",
    "</tr>\n",
    "<tr>\n",
    "<td colspan=\"4\" valign=\"top\"><br>\n",
    "</td>\n",
    "<td align=\"center\" valign=\"top\">25<br>\n",
    "</td>\n",
    "<td align=\"center\" valign=\"top\">(X,3)<br>\n",
    "</td>\n",
    "</tr>\n",
    "</tbody>\n",
    "</table>\n",
    "\n"
   ]
  },
  {
   "cell_type": "code",
   "execution_count": null,
   "metadata": {
    "collapsed": true
   },
   "outputs": [],
   "source": [
    "state=['(0,0)','(1,0)','(2,0)','(3,0)','(12,0)','(13,0)','(23,0)','(123,0)','(0,1)','(1,1)','(2,1)','(3,1)',\n",
    "      '(12,1)','(13,1)','(23,1)','(123,1)','(0,2)','(1,2)','(2,2)','(3,2)','(12,2)','(13,2)','(23,2)',\n",
    "       '(123,2)','(X,3)']"
   ]
  },
  {
   "cell_type": "markdown",
   "metadata": {
    "slideshow": {
     "slide_type": "subslide"
    }
   },
   "source": [
    "## Note1\n",
    "\n",
    "Not all the tansition from state $i$ to state $j$ could occur, i.e. there are some $p_{ij}=0$ for certain $i,j$.\n",
    "For instance, the transition from (0,0), state 1, to (0,2), state 17, is impossible.\n",
    "\n"
   ]
  },
  {
   "cell_type": "markdown",
   "metadata": {},
   "source": [
    "## Note 2\n",
    "\n",
    "Data from 2009 MLB postseason: there are 560 occurences for state 1, (0,0) and\n",
    "\n",
    "\n",
    "                    Times\n",
    "    (0,0) -> (0,0)    13\n",
    "             (1,0)   123\n",
    "             (2,0)    26\n",
    "             (3,0)     1\n",
    "             (0,1)   397\n",
    "\n",
    "This shows that \"triple\" (with probability 0.00179) is more difficult than home run (with probability 0.0232)!\n"
   ]
  },
  {
   "cell_type": "code",
   "execution_count": null,
   "metadata": {
    "collapsed": true
   },
   "outputs": [],
   "source": [
    "print(1/560.);print(13/560.)"
   ]
  },
  {
   "cell_type": "markdown",
   "metadata": {},
   "source": [
    "Question\n",
    "---\n",
    "\n",
    "a). What are the probability $p_{1,2},p_{1,3},p_{1,4}$ given by the data, in note2? What is the meaning of these results?<br>\n",
    "b). Is it possible, transition from state (1,2) to (1,2)? If yes, what happens?\n"
   ]
  },
  {
   "cell_type": "markdown",
   "metadata": {},
   "source": [
    "## Note 3\n",
    "\n",
    "State 25 means that it is an absorbing state, i,e. no more player while entering this state. \n",
    "Then $$ P=\\left(\\matrix{ A_{24\\times24} &B_{24\\times1}\\\\0_{1\\times24} &1}\\right)$$\n"
   ]
  },
  {
   "cell_type": "code",
   "execution_count": null,
   "metadata": {
    "collapsed": false,
    "slideshow": {
     "slide_type": "subslide"
    }
   },
   "outputs": [],
   "source": [
    "def printP(P):\n",
    "    l='<div align=\"center\"><small><small><small><small><table>';\n",
    "    row=P.shape[0]\n",
    "    col=P.shape[1]\n",
    "    i=j=k=0;\n",
    "    l=l+\"<tr><td> State/State </td>\"\n",
    "    for k in range(col):\n",
    "          k1=k+1\n",
    "          l=l+'<td><div align=\"center\">%s<br>%s</div></td>' % (k1,state[k])\n",
    "          k++1  \n",
    "    for i in range(1,row+1):\n",
    "        l=l+'<tr><td><div align=\"center\">%s %s</div></td>' %(i,state[i-1])\n",
    "        for j in range(1,col+1):\n",
    "            if (P[i-1,j-1]<1e-6):\n",
    "                P[i-1,j-1]=0\n",
    "            if ((P[i-1,j-1])==0): \n",
    "               l=l+\"<td> 0 </td>\"\n",
    "            else:\n",
    "               l=l+\"<td> %.3f </td>\" %(P[i-1,j-1]);\n",
    "            j++1\n",
    "        l=l+\"</tr>\"\n",
    "        i++1\n",
    "    l=l+\"</table></small></small></small></small></div>\"\n",
    "    return HTML(l)"
   ]
  },
  {
   "cell_type": "code",
   "execution_count": null,
   "metadata": {
    "collapsed": false,
    "slideshow": {
     "slide_type": "subslide"
    }
   },
   "outputs": [],
   "source": [
    "def printP2(P):\n",
    "    l='<div align=\"center\"><small><small><small><small><table>';\n",
    "    row=P.shape[0]\n",
    "    col=P.shape[1]\n",
    "    i=j=k=0;\n",
    "    l=l+\"<tr><td>State/State</td>\"\n",
    "    for k in range(col):\n",
    "          k1=k+1\n",
    "          l=l+'<td><div align=\"center\">%s<br>%s</div></td>' % (k1,state[k])\n",
    "          k++1  \n",
    "    for i in range(1,row+1):\n",
    "        l=l+'<tr><td><div align=\"center\">%s %s</div></td>' %(i,state[i-1])\n",
    "        for j in range(1,col+1):\n",
    "            if (P[i-1,j-1]<1e-6):\n",
    "                P[i-1,j-1]=0\n",
    "            l=l+\"<td> %.3f </td>\" %(P[i-1,j-1]);\n",
    "            j++1\n",
    "        l=l+\"</tr>\"\n",
    "        i++1\n",
    "    l=l+\"</table></small></small></small></small></div>\"\n",
    "    return HTML(l)"
   ]
  },
  {
   "cell_type": "markdown",
   "metadata": {},
   "source": [
    "## Transition matrix for 2009 MLB Postseason"
   ]
  },
  {
   "cell_type": "code",
   "execution_count": null,
   "metadata": {
    "collapsed": false
   },
   "outputs": [],
   "source": [
    "n=np.arange(1,26)\n",
    "P=np.matrix([[0.023,0.22,0.046,0.002,0.,0.,0.,0.,0.709,0.,0.,0.,0.,0.,0.,0.,0.,0.,0.,0.,0.,0.,0.,0.,0.]\n",
    "            ,[0.026,0.,0.035,0.,0.243,0.026,0.052,0.,0.,0.339,0.157,0.,0.,0.,0.,0.122,0.,0.,0.,0.,0.,0.,0.,0.,0.]\n",
    "            ,[0.,0.026,0.026,0.026,0.079,0.132,0.,0.,0.026,0.158,0.422,0.105,0.,0.,0.,0.,0.,0.,0.,0.,0.,0.,0.,0.,0.]\n",
    "            ,[0.,0.667,0.,0.,0.,0.,0.,0.,0.,0.,0.,0.333,0.,0.,0.,0.,0.,0.,0.,0.,0.,0.,0.,0.,0.] \n",
    "            ,[0.091,0.,0.,0.,0.030,0.061,0.030,0.061,0.,0.030,0.030,0.,0.303,0.091,0.152,0.,0.,0.,0.,0.121,0.,0.,0.,0.,0.] \n",
    "            ,[0.,0.,0.,0.,0.2,0.,0.1,0.2,0.,0.1,0.,0.,0.,0.3,0.,0.,0.1,0.,0.,0.,0.,0.,0.,0.,0.] \n",
    "            ,[0.,0.125,0.125,0.,0.,0.,0.,0.125,0.,0.,0.,0.125,0.,0.,0.5,0.,0.,0.,0.,0.,0.,0.,0.,0.,0.]             \n",
    "            ,[0.,0.,0.,0.,0.,0.,0.,0.286,0.,0.,0.,0.,0.,0.,0.,0.428,0.,0.,0.,0.,0.143,0.,0.143,0.,0.]  \n",
    "            ,[0.,0.,0.,0.,0.,0.,0.,0.,0.035,0.241,0.032,0.007,0.,0.,0.,0.,0.685,0.,0.,0.,0.,0.,0.,0.,0.] \n",
    "            ,[0.,0.,0.,0.,0.,0.,0.,0.,0.021,0.,0.007,0.,0.201,0.014,0.014,0.,0.,0.563,0.097,0.,0.,0.,0.,0.,0.083]              \n",
    "            ,[0.,0.,0.,0.,0.,0.,0.,0.,0.,0.069,0.028,0.,0.25,0.083,0.014,0.,0.,0.028,0.403,0.083,0.,0.,0.,0.,0.042]              \n",
    "            ,[0.,0.,0.,0.,0.,0.,0.,0.,0.071,0.286,0.143,0.,0.,0.143,0.,0.,0.215,0.,0.071,0.071,0.,0.,0.,0.,0.]              \n",
    "            ,[0.,0.,0.,0.,0.,0.,0.,0.,0.,0.,0.062,0.,0.062,0.,0.016,0.125,0.,0.,0.,0.016,0.406,0.094,0.094,0.,0.125] \n",
    "            ,[0.,0.,0.,0.,0.,0.,0.,0.,0.056,0.,0.,0.056,0.11,0.,0.,0.111,0.,0.278,0.167,0.,0.,0.222,0.,0.,0.]   \n",
    "            ,[0.,0.,0.,0.,0.,0.,0.,0.,0.067,0.067,0.,0.,0.,0.067,0.,0.333,0.,0.,0.067,0.2,0.,0.067,0.132,0.,0.]                                        \n",
    "            ,[0.,0.,0.,0.,0.,0.,0.,0.,0.,0.,0.,0.,0.091,0.,0.,0.182,0.,0.,0.0,0.,0.045,0.045,0.045,0.455,0.137]                                        \n",
    "            ,[0.,0.,0.,0.,0.,0.,0.,0.,0.,0.,0.,0.,0.,0.,0.,0.,0.039,0.232,0.054,0.006,0.,0.,0.,0.,0.669] \n",
    "            ,[0.,0.,0.,0.,0.,0.,0.,0.,0.,0.,0.,0.,0.,0.,0.,0.,0.039,0.,0.039,0.013,0.161,0.052,0.032,0.,0.664]                                                     \n",
    "            ,[0.,0.,0.,0.,0.,0.,0.,0.,0.,0.,0.,0.,0.,0.,0.,0.,0.02,0.102,0.02,0.01,0.225,0.02,0.,0.,0.603]\n",
    "            ,[0.,0.,0.,0.,0.,0.,0.,0.,0.,0.,0.,0.,0.,0.,0.,0.,0.,0.167,0.,0.,0.042,0.125,0.,0.,0.666]\n",
    "            ,[0.,0.,0.,0.,0.,0.,0.,0.,0.,0.,0.,0.,0.,0.,0.,0.,0.012,0.,0.059,0.024,0.071,0.035,0.024,0.129,0.646]\n",
    "            ,[0.,0.,0.,0.,0.,0.,0.,0.,0.,0.,0.,0.,0.,0.,0.,0.,0.,0.,0.043,0.,0.088,0.,0.043,0.13,0.696]\n",
    "            ,[0.,0.,0.,0.,0.,0.,0.,0.,0.,0.,0.,0.,0.,0.,0.,0.,0.,0.091,0.,0.,0.,0.045,0.045,0.319,0.5]\n",
    "            ,[0.,0.,0.,0.,0.,0.,0.,0.,0.,0.,0.,0.,0.,0.,0.,0.,0.,0.,0.029,0.,0.086,0.,0.029,0.142,0.714]\n",
    "            ,[0.,0.,0.,0.,0.,0.,0.,0.,0.,0.,0.,0.,0.,0.,0.,0.,0.,0.,0.,0.,0.,0.,0.,0.,1.]                       \n",
    "            ])\n",
    "printP(P)"
   ]
  },
  {
   "cell_type": "code",
   "execution_count": null,
   "metadata": {
    "collapsed": false
   },
   "outputs": [],
   "source": [
    "sum(np.transpose(P))\n"
   ]
  },
  {
   "cell_type": "code",
   "execution_count": null,
   "metadata": {
    "collapsed": false
   },
   "outputs": [],
   "source": [
    "P100=P**(4)\n",
    "printP(P100)"
   ]
  },
  {
   "cell_type": "markdown",
   "metadata": {},
   "source": [
    "## Facts\n",
    "\n",
    "1. $$P^2=\\left(\\matrix{ A_{24\\times24} &B_{24\\times1}\\\\0_{1\\times24} &1}\\right)\n",
    "         \\left(\\matrix{ A_{24\\times24} &B_{24\\times1}\\\\0_{1\\times24} &1}\\right)\n",
    "        =\\left(\\matrix{&A^2 ,&(I+A)B \\cr &0 ,&I}\\right) \\\\\n",
    "     P^n=\\left(\\matrix{&A^n ,&(I+A+\\cdots+A^{n-1})B \\cr &0 ,&I}\\right)\n",
    "   $$\n",
    "2. Fundamental matrix $W=(I-A)^{-1}$\n",
    "   $$\\lim_{n\\to\\infty}P^n=\\left(\\matrix{&0_{24\\times24} ,&W B \\cr &0 ,&I}\\right)$$"
   ]
  },
  {
   "cell_type": "markdown",
   "metadata": {},
   "source": [
    "## How many are there hitters until the game over?\n",
    "\n",
    "From the definition of $A_{24\\times24}$, \n",
    "- $ 1\\cdot A^0_{ij}$: the run of hitter himself,\n",
    "- $ 1\\cdot A_{ij}$:  one more hit and transtion from $i$-state to $j$-state,\n",
    "- $ 1\\cdot A^2_{ij}$:  two more hits and transtion from $i$-state to $j$-state,\n",
    "\n",
    "and so on. Thus,  the expected sum of hitters from $i$-state to $j$-states is\n",
    "\n",
    "$$ 1\\cdot A^0_{ij}+1\\cdot A_{ij}+1\\cdot A^2_{ij}+1\\cdot A^3_{ij}+\\cdots = W_{ij}$$\n"
   ]
  },
  {
   "cell_type": "markdown",
   "metadata": {
    "collapsed": false,
    "slideshow": {
     "slide_type": "subslide"
    }
   },
   "source": [
    "## Fundamental Matrix $W$\n",
    "\n",
    "$$W=I_n+A+A^2+\\cdots=\\frac{1}{I_n-A}$$\n",
    "\n",
    "In other words, $W$ brings the infomation when the game is over. By Neumann theorem, W (sum of infinite matrices) exists since $||A||<1$ and it is easy to calulate the inverse of matrix by linalg submodule in numpy:"
   ]
  },
  {
   "cell_type": "code",
   "execution_count": null,
   "metadata": {
    "collapsed": false
   },
   "outputs": [],
   "source": [
    "from numpy.linalg import inv\n",
    "I24=np.identity(24)\n",
    "A,B=P[0:24,0:24],P[:24,24:25]\n",
    "W=inv(I24-A)\n"
   ]
  },
  {
   "cell_type": "code",
   "execution_count": null,
   "metadata": {
    "collapsed": false
   },
   "outputs": [],
   "source": [
    "printP(W)"
   ]
  },
  {
   "cell_type": "markdown",
   "metadata": {},
   "source": [
    "Meaning of $W$\n",
    "---\n",
    "- $W_{1,1}=1.036$, no one on base and one out: the interger <b>1</b> is just the hitter himself, and the additional part, <b>.036</b>, is contributed by hitting the homerun. \n",
    "- $W_{1,2}=0.234$, one-base hit\n",
    "- $W_{1,3}=0.059$, two-base hit \n",
    "\n",
    "and so on."
   ]
  },
  {
   "cell_type": "markdown",
   "metadata": {},
   "source": [
    "## Sum of each row of $W$\n",
    "While at $i_0$-state,\n",
    "\n",
    "$W_{i_0,j}$: expected number of hitters from $i_0$-state to $j$-state during same half-inning,  \n",
    "\n",
    "$\\sum_{j=1}^{24} W_{i_0,j}$: total expected numbers of hitters from $i_0$-state to end of half-inning."
   ]
  },
  {
   "cell_type": "code",
   "execution_count": null,
   "metadata": {
    "collapsed": false,
    "slideshow": {
     "slide_type": "subslide"
    }
   },
   "outputs": [],
   "source": [
    "def printW(P):\n",
    "    l='<div align=\"center\"><table>';\n",
    "    row=P.shape[0]\n",
    "    col=P.shape[1]\n",
    "    i=j=k=0;\n",
    "    l=l+\"<tr>\"\n",
    "    for k in range(3):\n",
    "          k1=k+1\n",
    "          l=l+'<th><div align=\"center\">State</div></th>' \n",
    "          l=l+'<th><div align=\"center\">Expected Hitters</div></th>'\n",
    "          k++1\n",
    "    l=l+'</tr>'    \n",
    "    for i in range(1,int((row+1)/3)+1):\n",
    "        l=l+'<tr><td><div align=\"center\">%s %s (%d out)</div></td>' %(i,state[i-1],np.float((i-1)/8))\n",
    "        for j in range(1,col+1):\n",
    "            if (P[i-1,j-1]<1e-6):\n",
    "                P[i-1,j-1]=0\n",
    "            l=l+'<td><div align=\"center\"> %.3f </div></td>' %(P[i-1,j-1]);\n",
    "            j++1\n",
    "        l=l+'<td><div align=\"center\">%s %s (%d out)</div></td>' %(8+i,state[8+i-1],np.float((8+i-1)/8))\n",
    "        for j in range(1,col+1):\n",
    "            if (P[i-1,j-1]<1e-6):\n",
    "                P[i-1,j-1]=0\n",
    "            l=l+'<td><div align=\"center\"> %.3f </div></td>' %(P[8+i-1,j-1]);\n",
    "            j++1\n",
    "        l=l+'<td><div align=\"center\">%s %s (%d out)</div></td>' %(16+i,state[16+i-1],np.float((16+i-1)/8))\n",
    "        for j in range(1,col+1):\n",
    "            if (P[i-1,j-1]<1e-6):\n",
    "                P[i-1,j-1]=0\n",
    "            l=l+'<td><div align=\"center\"> %.3f </div></td>' %(P[16+i-1,j-1]);\n",
    "            j++1\n",
    "        l=l+\"</tr>\"\n",
    "        i++1\n",
    "    l=l+\"</table></div>\"\n",
    "    return HTML(l)"
   ]
  },
  {
   "cell_type": "code",
   "execution_count": null,
   "metadata": {
    "collapsed": false
   },
   "outputs": [],
   "source": [
    "printW(sum(W.transpose()).transpose())"
   ]
  },
  {
   "cell_type": "markdown",
   "metadata": {},
   "source": [
    "## Discussion\n",
    "\n",
    "$$\\sum_{j}W_{7,j}=4.546, \\sum_{j}W_{15,j}=3.169, \\sum_{j} W_{24,j}=1.433$$\n",
    "\n",
    "- $\\sum_{j}W_{7,j}$: there are 4.546 hitters expected until the half inning over while two teamers are on bases 2 and 3 respectively.\n",
    "- $\\sum_{j}W_{15,j}$: : there are 3.169 hitters expected until the half inning over after 1 out while two teamers are on bases 2 and 3 respectively.\n",
    "- $\\sum_{j}W_{24,j}$: : there are only 1.433 hitters expected until the half inning over after 2 out but three teamers are on bases 1, 2 and 3 respectively."
   ]
  },
  {
   "cell_type": "markdown",
   "metadata": {},
   "source": [
    "## Problems\n",
    "\n",
    "1). How many would hitter be in half inn from the following data (2009 postseason)?<br>\n",
    "2). Suppose that during of the fifth half-inning, the team A is still two runs behind but there are two runners on base 2 and 3 . Now the pitcher is at bat next. How do you to make decision if you were the manager? \n"
   ]
  },
  {
   "cell_type": "markdown",
   "metadata": {},
   "source": [
    "## Another Interesting Concern\n",
    "\n",
    "The most concerned is \n",
    "```\n",
    "How about the expected final score?\n",
    "```\n",
    "For instance, the expected score for state 10 (1,1), after one run can be calculated  by the following:\n",
    "$$ R_{1,1}^{1s}=1\\times P_{1,1}+0\\times(1-P_{1,1})=0.023$$\n",
    "i.e. home run in this case."
   ]
  },
  {
   "cell_type": "markdown",
   "metadata": {},
   "source": [
    "## Example\n",
    " \n",
    "The case of one step from state 18 (1.2), one on base and 2 outs:\n",
    "\n",
    "                Next State    score(s)\n",
    "     18 (1,2)    17 (0,2)        2\n",
    "                 18 (1,2)        1\n",
    "                 19 (2,2)        1\n",
    "                 20 (3,2)        1\n",
    " \n",
    "other steps get zero. And the Expected score is:\n",
    "$$ R_{18,1}^{1s}= 2\\times P_{18,17}+1\\times (P_{18,18}+P_{18,19}+P_{18,20})=0.13$$"
   ]
  },
  {
   "cell_type": "markdown",
   "metadata": {},
   "source": [
    "## Matrix $R^{1s}$\n",
    "---\n",
    "\n",
    " $R^{1s}_{i,j}$: the expected scoring from $i$-state to $j$-state after 1 run."
   ]
  },
  {
   "cell_type": "code",
   "execution_count": null,
   "metadata": {
    "collapsed": true
   },
   "outputs": [],
   "source": [
    "R=np.matrix([[0.023],[0.087],[0.105],[0.667],[0.455],[0.5],[0.625],[0.286],\n",
    "             [0.035],[0.049],[0.097],[0.786],[0.219],[0.833],[0.667],[0.5],\n",
    "             [0.039],[0.129],[0.173],[0.167],[0.329],[0.217],[0.273],[0.457]])"
   ]
  },
  {
   "cell_type": "code",
   "execution_count": null,
   "metadata": {
    "collapsed": false
   },
   "outputs": [],
   "source": [
    "printWR(R)"
   ]
  },
  {
   "cell_type": "markdown",
   "metadata": {},
   "source": [
    "## Run Potential Matrix\n",
    "\n",
    "$$RP=W\\times R=(W_{i,j})(R^{1s}_{j,1})$$\n",
    "\n",
    "Intrincally, \n",
    "\n",
    "<b>Expected scores in one game = expected hitters $\\times$ expected scores</b>\n"
   ]
  },
  {
   "cell_type": "markdown",
   "metadata": {},
   "source": [
    "## Data of $W\\times R$   "
   ]
  },
  {
   "cell_type": "code",
   "execution_count": null,
   "metadata": {
    "collapsed": false,
    "slideshow": {
     "slide_type": "subslide"
    }
   },
   "outputs": [],
   "source": [
    "def printWR(P):\n",
    "    l='<div align=\"center\"><table>';\n",
    "    row=P.shape[0]\n",
    "    col=P.shape[1]\n",
    "    i=j=k=0;\n",
    "    l=l+\"<tr>\"\n",
    "    for k in range(3):\n",
    "          k1=k+1\n",
    "          l=l+\"<th>State/Scores</th>\"  \n",
    "          l=l+'<th><div align=\"center\">Expected Scores</div></th>'\n",
    "          k++1\n",
    "    l=l+'</tr>'    \n",
    "    for i in range(1,int((row+1)/3)+1):\n",
    "        l=l+'<tr><td><div align=\"center\">%s %s (%d out)</div></td>' %(i,state[i-1],np.float((i-1)/8))\n",
    "        for j in range(1,col+1):\n",
    "            if (P[i-1,j-1]<1e-6):\n",
    "                P[i-1,j-1]=0\n",
    "            l=l+'<td><div align=\"center\"> %.3f </div></td>' %(P[i-1,j-1]);\n",
    "            j++1\n",
    "        l=l+'<td><div align=\"center\">%s %s (%d out)</div></td>' %(8+i,state[8+i-1],np.float((8+i-1)/8))\n",
    "        for j in range(1,col+1):\n",
    "            if (P[i-1,j-1]<1e-6):\n",
    "                P[i-1,j-1]=0\n",
    "            l=l+'<td><div align=\"center\"> %.3f </div></td>' %(P[8+i-1,j-1]);\n",
    "            j++1\n",
    "        l=l+'<td><div align=\"center\">%s %s (%d out)</div></td>' %(16+i,state[16+i-1],np.float((16+i-1)/8))\n",
    "        for j in range(1,col+1):\n",
    "            if (P[i-1,j-1]<1e-6):\n",
    "                P[i-1,j-1]=0\n",
    "            l=l+'<td><div align=\"center\"> %.3f </div></td>' %(P[16+i-1,j-1]);\n",
    "            j++1\n",
    "        l=l+\"</tr>\"\n",
    "        i++1\n",
    "    l=l+\"</table></div>\"\n",
    "    return HTML(l)"
   ]
  },
  {
   "cell_type": "code",
   "execution_count": null,
   "metadata": {
    "collapsed": false
   },
   "outputs": [],
   "source": [
    "printWR(W*R)"
   ]
  },
  {
   "cell_type": "markdown",
   "metadata": {},
   "source": [
    "## Tseng's Playbook\n",
    "\n",
    "曾紀恩被人所熟知的戰術 : 在無人出局一壘有人的狀態下,命令打者以犧牲短打來將跑者送到二壘。二壘有人一出局後的兩個打席,若有一支安打就有機會得分。相對地,無人出局一壘有人,想要得分,好像要在三個打席中出現兩支安打才行。\n",
    "\n",
    "Is it reasonable?\n",
    "\n",
    "Answer: Tseng's playbook gets 0.628 (**RP(2,1)**, 1 0ut and one on two base) smarller than 0.997 (**RP(1,0)**, no out and one on base 1). "
   ]
  },
  {
   "cell_type": "markdown",
   "metadata": {
    "collapsed": true
   },
   "source": [
    "Discrete-time Markov chain Simulation\n",
    "---\n",
    "Suppose that we have some results about Markov chains, how could we confirm these facts by experiments? For instance, to describe the fact about the drunkard falling valley, should we let them to test?\n",
    "\n",
    "Monte-Carlo simulation of Markov Chain (MCMC) can take over the risk to make experiment safely, at least no one hurt."
   ]
  },
  {
   "cell_type": "markdown",
   "metadata": {},
   "source": [
    "Drunkard Example Revisit\n",
    "---\n"
   ]
  },
  {
   "cell_type": "code",
   "execution_count": null,
   "metadata": {
    "collapsed": true
   },
   "outputs": [],
   "source": [
    "%matplotlib inline\n",
    "import matplotlib.pylab as plt"
   ]
  },
  {
   "cell_type": "markdown",
   "metadata": {},
   "source": [
    " Initially, at $x=5$ and begin the test. "
   ]
  },
  {
   "cell_type": "code",
   "execution_count": null,
   "metadata": {
    "collapsed": true
   },
   "outputs": [],
   "source": [
    "N=10\n",
    "nsteps = 100\n",
    "x = np.zeros(nsteps)\n",
    "x[0] = 5"
   ]
  },
  {
   "cell_type": "markdown",
   "metadata": {},
   "source": [
    "Go left if the random uniform data $<0.5$ otherwise go right."
   ]
  },
  {
   "cell_type": "code",
   "execution_count": null,
   "metadata": {
    "collapsed": false
   },
   "outputs": [],
   "source": [
    "for t in range(nsteps - 1):\n",
    "    if 0 < x[t] < N:\n",
    "        if (np.random.rand()>0.5):\n",
    "            x[t+1] = x[t]+1           \n",
    "        else:\n",
    "            x[t+1] = x[t]-1\n",
    "    elif x[t]==0:\n",
    "         x[t+1]=x[t]+1        \n",
    "    # The evolution stops if we reach $N$.\n",
    "    else:\n",
    "        x[t+1] = x[t]"
   ]
  },
  {
   "cell_type": "code",
   "execution_count": null,
   "metadata": {
    "collapsed": false
   },
   "outputs": [],
   "source": [
    "plt.figure(figsize=(6,3));\n",
    "plt.ylim(0,10)\n",
    "plt.step(range(len(x)),x);"
   ]
  },
  {
   "cell_type": "markdown",
   "metadata": {},
   "source": [
    "Note\n",
    "---\n",
    "Have you notice that\n",
    "```\n",
    "The simulated trajectory of drunkward is differecnt at each experiment even at same intial position. \n",
    "```"
   ]
  },
  {
   "cell_type": "markdown",
   "metadata": {},
   "source": [
    "\n",
    "One hundred drunkwards are at randomly generated positions\n"
   ]
  },
  {
   "cell_type": "code",
   "execution_count": null,
   "metadata": {
    "collapsed": false
   },
   "outputs": [],
   "source": [
    "def BDMC(x0,N=10,nsteps=1000):\n",
    "    x = np.zeros(nsteps)\n",
    "    x[0] = x0\n",
    "    for t in range(nsteps - 1):\n",
    "        if 0 < x[t] < N:\n",
    "           if (np.random.rand()>0.5):\n",
    "              x[t+1] = x[t]+1\n",
    "           else:\n",
    "              x[t+1] = x[t]-1\n",
    "        elif x[t]==0:\n",
    "             x[t+1]=x[t]+1\n",
    "        else:\n",
    "           x[t+1] = x[t]\n",
    "    plt.figure(figsize=(6,3));\n",
    "    plt.step(range(len(x)),x);\n",
    "    plt.ylim(0,N)\n",
    "    return x"
   ]
  },
  {
   "cell_type": "code",
   "execution_count": null,
   "metadata": {
    "collapsed": false
   },
   "outputs": [],
   "source": [
    "y=BDMC(4,nsteps=100)"
   ]
  },
  {
   "cell_type": "markdown",
   "metadata": {},
   "source": [
    "Continued\n",
    "---\n",
    "```\n",
    "One experiment (especially by computer simulation) says nothing at all.\n",
    "```\n",
    "\n",
    "\n",
    "\n",
    "Now, we will simulate many independent trials of this Markov chain. We could run the previous simulation with a loop, but it would be very slow (two nested for loops). Instead, we vectorize the simulation by considering all independent trials at once. There is a single loop over time. At every time step, we update all trials simultaneously with vectorized operations on vectors. The vector **x** now contains the initial position of all trials, at a particular time. At initialization time, the initial positions are set to random numbers between 0 and $N$."
   ]
  },
  {
   "cell_type": "code",
   "execution_count": null,
   "metadata": {
    "collapsed": false
   },
   "outputs": [],
   "source": [
    "# generated initial positions of all trials\n",
    "ntrials = 100\n",
    "x = np.random.randint(size=ntrials, \n",
    "                      low=0, high=N+1)\n",
    "x"
   ]
  },
  {
   "cell_type": "code",
   "execution_count": null,
   "metadata": {
    "collapsed": false
   },
   "outputs": [],
   "source": [
    "def simulate(x, nsteps):\n",
    "    \"\"\"Run the simulation.\"\"\"\n",
    "    for _ in range(nsteps - 1):\n",
    "        # Which trials to update?\n",
    "        upd = (0 < x) & (x < N)\n",
    "        # In which trials go right\n",
    "        right = 1*(np.random.rand(ntrials)>0.5)\n",
    "        # In which trialsgo left\n",
    "        left = 1*(np.random.rand(ntrials)<0.5)\n",
    "        # We update position for all trials.\n",
    "        x[upd] += right[upd] - left[upd]\n",
    "        upd0 =(x==0)\n",
    "        \n",
    "        x[upd0] +=1\n",
    "    return x    "
   ]
  },
  {
   "cell_type": "code",
   "execution_count": null,
   "metadata": {
    "collapsed": true
   },
   "outputs": [],
   "source": [
    "bins = np.linspace(0, N, 20);"
   ]
  },
  {
   "cell_type": "code",
   "execution_count": null,
   "metadata": {
    "collapsed": false
   },
   "outputs": [],
   "source": [
    "plt.figure(figsize=(16,4));\n",
    "nsteps_list = [10,100,1000]\n",
    "x = np.random.randint(size=ntrials, \n",
    "                      low=0, high=N+1)\n",
    "z=x/ntrials\n",
    "plt.subplot(1, len(nsteps_list)+1, 1);\n",
    "plt.hist(x, bins=bins);\n",
    "plt.title(\"Initial positions of 100 trials\");\n",
    "plt.xlim(0,10)\n",
    "plt.ylim(0,100)\n",
    "plt.ylabel(\"Number of Trials\");\n",
    "for i, nsteps in enumerate(nsteps_list):\n",
    "    plt.subplot(1, len(nsteps_list)+1, i + 2);\n",
    "    y=simulate(x, nsteps)\n",
    "    plt.hist(y, bins=bins);\n",
    "    #plt.step(x)\n",
    "    plt.xlim(0,10)\n",
    "    plt.ylim(0,100)\n",
    "    plt.xlabel(\"Distribution of States\");\n",
    "    #if i == 0:\n",
    "    #    plt.ylabel(\"number of trials\");\n",
    "    plt.title(\"After {0:d} steps\".format(nsteps));"
   ]
  },
  {
   "cell_type": "markdown",
   "metadata": {
    "collapsed": true
   },
   "source": [
    "Eventually, drunkward (  &nbsp;  &nbsp;   &nbsp;   &nbsp;    )."
   ]
  },
  {
   "cell_type": "markdown",
   "metadata": {
    "collapsed": true
   },
   "source": [
    "Computer Practice\n",
    "---\n",
    "Suppose that stetps, 0 and 10, represent faiiling down the valley. Make a experiment for 200 drunkwards as above. \n",
    "\n",
    "Challenge\n",
    "---\n",
    "Before the drunkward falling the valley, how many do he walk around? "
   ]
  },
  {
   "cell_type": "code",
   "execution_count": null,
   "metadata": {
    "collapsed": true
   },
   "outputs": [],
   "source": [
    "from matplotlib import animation\n",
    "from JSAnimation import IPython_display\n",
    "from ipywidgets import interactive\n",
    "import matplotlib.patches as patches\n",
    "import matplotlib.path as path"
   ]
  },
  {
   "cell_type": "code",
   "execution_count": null,
   "metadata": {
    "collapsed": false
   },
   "outputs": [],
   "source": [
    "x = np.random.randint(size=ntrials, \n",
    "                      low=0, high=N+1)\n",
    "anim = plt.figure(figsize=(6,6))\n",
    "ax = anim.add_subplot(111)\n",
    "ax.set_title(\"Drunkward's Walking\",fontsize=14)\n",
    "\n",
    "ax.hist(x, bins=bins);\n",
    "plt.title(\"Initial positions of 100 trials\");\n",
    "plt.xlim(-1,11)\n",
    "plt.ylim(0,100)\n",
    "plt.ylabel(\"Number of Trials\");\n",
    "\n",
    "def init():\n",
    "    return None\n",
    "def animate(i):\n",
    "    y=simulate(x, 5*i)\n",
    "    result=ax.hist(y, bins=bins);\n",
    "    return result,\n"
   ]
  },
  {
   "cell_type": "code",
   "execution_count": null,
   "metadata": {
    "collapsed": false
   },
   "outputs": [],
   "source": [
    "x = np.random.randint(size=ntrials, \n",
    "                      low=0, high=N+1)\n",
    "alpha1 =0.05\n",
    "anim = plt.figure(figsize=(6,6))\n",
    "ax = anim.add_subplot(111)\n",
    "ax.set_title(\"Drunkward's Walking\",fontsize=14)\n",
    "\n",
    "ax.hist(x, bins=bins,alpha=alpha1);\n",
    "\n",
    "plt.title(\"Initial positions of 100 trials\");\n",
    "plt.xlim(0,10)\n",
    "plt.ylim(0,100)\n",
    "plt.ylabel(\"Number of Trials\");\n",
    "\n",
    "def init():\n",
    "    return None\n",
    "def animate(i,alpha1=0.04):\n",
    "    y=simulate(x, 5*i)\n",
    "    #alpha1 =alpha1+0.03\n",
    "    result=ax.hist(y, bins=bins,alpha=alpha1);\n",
    "    return result,\n"
   ]
  },
  {
   "cell_type": "code",
   "execution_count": null,
   "metadata": {
    "collapsed": false
   },
   "outputs": [],
   "source": [
    "x = np.random.randint(size=ntrials, \n",
    "                      low=0, high=N+1)\n",
    "#n, bins = np.histogram(x, N+1)\n",
    "n=x\n",
    "\n",
    "anim = plt.figure(figsize=(6,6))\n",
    "ax = anim.add_subplot(111)\n",
    "ax.set_title(\"Drunkward's Walking\",fontsize=14)\n",
    "\n",
    "#ax.hist(x, bins=bins);\n",
    "plt.title(\"Initial positions of 100 trials\");\n",
    "plt.xlim(0,10)\n",
    "plt.ylim(0,100)\n",
    "plt.ylabel(\"Number of Trials\");\n",
    "bins = np.linspace(0, N, N+1);\n",
    "left = np.array(bins[:-1])\n",
    "right = np.array(bins[1:])\n",
    "bottom = np.zeros(len(left))\n",
    "top = bottom \n",
    "nrects = len(left)\n",
    "nverts = nrects*(1 + 3 + 1)\n",
    "verts = np.zeros((nverts, 2))\n",
    "codes = np.ones(nverts, int) * path.Path.LINETO\n",
    "codes[0::5] = path.Path.MOVETO\n",
    "codes[4::5] = path.Path.CLOSEPOLY\n",
    "verts[0::5, 0] = left\n",
    "verts[0::5, 1] = bottom\n",
    "verts[1::5, 0] = left\n",
    "verts[1::5, 1] = top\n",
    "verts[2::5, 0] = right\n",
    "verts[2::5, 1] = top\n",
    "verts[3::5, 0] = right\n",
    "verts[3::5, 1] = bottom\n",
    "\n",
    "barpath = path.Path(verts, codes)\n",
    "patch = patches.PathPatch(\n",
    "    barpath, facecolor='green', edgecolor='yellow', alpha=0.5)\n",
    "ax.add_patch(patch)\n",
    "\n",
    "ax.set_xlim(0,10)\n",
    "ax.set_ylim(0,100)\n",
    "def init():\n",
    "    return None\n",
    "def animate(i):\n",
    "    y=simulate(x, 5*i)\n",
    "    #result=ax.hist(y, bins=bins);\n",
    "    #return result,\n",
    "    n, bins = np.histogram(y, 10)\n",
    "    top = bottom +n\n",
    "    verts[1::5, 1] = top\n",
    "    verts[2::5, 1] = top\n",
    "    return [patch, ]\n"
   ]
  },
  {
   "cell_type": "code",
   "execution_count": null,
   "metadata": {
    "collapsed": false
   },
   "outputs": [],
   "source": [
    "animation.FuncAnimation(anim, animate, init_func=init,frames=20)     "
   ]
  },
  {
   "cell_type": "code",
   "execution_count": null,
   "metadata": {
    "collapsed": false
   },
   "outputs": [],
   "source": [
    "n, bins = np.histogram(x, N)\n",
    "n,bins"
   ]
  },
  {
   "cell_type": "code",
   "execution_count": null,
   "metadata": {
    "collapsed": false
   },
   "outputs": [],
   "source": [
    "t=np.arange(11)\n",
    "t"
   ]
  },
  {
   "cell_type": "code",
   "execution_count": null,
   "metadata": {
    "collapsed": false
   },
   "outputs": [],
   "source": [
    "bins"
   ]
  },
  {
   "cell_type": "code",
   "execution_count": null,
   "metadata": {
    "collapsed": false
   },
   "outputs": [],
   "source": [
    "n,bottom"
   ]
  },
  {
   "cell_type": "code",
   "execution_count": null,
   "metadata": {
    "collapsed": false
   },
   "outputs": [],
   "source": [
    "verts[0::5, 0]"
   ]
  },
  {
   "cell_type": "code",
   "execution_count": null,
   "metadata": {
    "collapsed": false
   },
   "outputs": [],
   "source": [
    "verts"
   ]
  },
  {
   "cell_type": "code",
   "execution_count": null,
   "metadata": {
    "collapsed": true
   },
   "outputs": [],
   "source": []
  }
 ],
 "metadata": {
  "kernelspec": {
   "display_name": "Python 3",
   "language": "python",
   "name": "python3"
  },
  "language_info": {
   "codemirror_mode": {
    "name": "ipython",
    "version": 3
   },
   "file_extension": ".py",
   "mimetype": "text/x-python",
   "name": "python",
   "nbconvert_exporter": "python",
   "pygments_lexer": "ipython3",
   "version": "3.4.3"
  }
 },
 "nbformat": 4,
 "nbformat_minor": 0
}
