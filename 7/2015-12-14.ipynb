{
 "cells": [
  {
   "cell_type": "markdown",
   "metadata": {
    "slideshow": {
     "slide_type": "slide"
    }
   },
   "source": [
    "# Markov Chains"
   ]
  },
  {
   "cell_type": "markdown",
   "metadata": {
    "slideshow": {
     "slide_type": "subslide"
    }
   },
   "source": [
    "## Overview\n",
    "\n",
    "Markov chains are one of the most fundamental classes of stochastic processes\n",
    "\n",
    "### Objects\n",
    "\n",
    "1. array/matrix object by numpy\n",
    "2. the tool package of eigenvalue/eigenvector operation in scipy\n",
    "3. Monte-Carlo Markov Chain simulation (MCMC)\n",
    "4. efficient vectorized algorithm.\n",
    "\n",
    "\n",
    "### Attributes\n",
    "\n",
    "1. simple, flexible and supported by many elegant theoretical results\n",
    "2. valuable for building intuition about random dynamic models\n",
    "3. very useful in their own right\n",
    "\n",
    "### Reference\n",
    "\n",
    "    1. Thomas J. Sargent and John Stachurski, http://quant-econ.net\n",
    "    2. Richard Weber, http://www.statslab.cam.ac.uk/~rrw1/markov\n",
    "    3. Eugenia Stoimenova, http://www.math.bas.bg/~jeni/\n",
    "    4. http://www.tcs.hut.fi/Studies\n",
    "    5. http://steep.inrialpes.fr/~Arnaud\n",
    "    6. http://www.philol.msu.ru/~lex/khmelev/published/llc/khmelev.html\n",
    "    7. 李中傑, 棒球比賽宛如是一個馬可夫過程, 真理大學\n"
   ]
  },
  {
   "cell_type": "code",
   "execution_count": null,
   "metadata": {
    "collapsed": false,
    "slideshow": {
     "slide_type": "subslide"
    }
   },
   "outputs": [],
   "source": [
    "from IPython.display import YouTubeVideo\n",
    "YouTubeVideo(\"AiAHlZVgXjk\")"
   ]
  },
  {
   "cell_type": "code",
   "execution_count": null,
   "metadata": {
    "collapsed": false,
    "slideshow": {
     "slide_type": "subslide"
    }
   },
   "outputs": [],
   "source": [
    "from IPython.display import YouTubeVideo\n",
    "YouTubeVideo(\"jIKJUIFkTro\")"
   ]
  },
  {
   "cell_type": "code",
   "execution_count": 1,
   "metadata": {
    "collapsed": false,
    "slideshow": {
     "slide_type": "slide"
    }
   },
   "outputs": [],
   "source": [
    "import numpy as np\n",
    "import scipy as sp\n",
    "from scipy.linalg import eig\n",
    "from numpy import cumsum\n",
    "from numpy.random import uniform\n",
    "from IPython.display import HTML"
   ]
  },
  {
   "cell_type": "code",
   "execution_count": null,
   "metadata": {
    "collapsed": false,
    "slideshow": {
     "slide_type": "subslide"
    }
   },
   "outputs": [],
   "source": [
    "def printP(P):\n",
    "    l='<div align=\"center\"><table>';\n",
    "    row=len(P[:,0])\n",
    "    i=j=k=0;\n",
    "    l=l+\"<tr><td>State</td>\"\n",
    "    for k in range(row):\n",
    "          k1=k+1\n",
    "          l=l+'<td><div align=\"center\">%s</div></td>' % (k1)\n",
    "          k++1  \n",
    "    for i in range(1,row+1):\n",
    "        l=l+'<tr><td><div align=\"center\">%s</div></td>' %i\n",
    "        for j in range(1,row+1):\n",
    "            l=l+\"<td> %1.4f </td>\" %(P[i-1,j-1]);\n",
    "            j++1\n",
    "        l=l+\"</tr>\"\n",
    "        i++1\n",
    "    l=l+\"</table></div>\"\n",
    "    return HTML(l)"
   ]
  },
  {
   "cell_type": "code",
   "execution_count": null,
   "metadata": {
    "collapsed": false,
    "slideshow": {
     "slide_type": "subslide"
    }
   },
   "outputs": [],
   "source": [
    "def printP2(P,states):\n",
    "    \"\"\"\n",
    "    printP2(P,states):\n",
    "      input: P, transition probability matrix,\n",
    "          states, array of all states\n",
    "      output: well-formated HTML table for the transition Probability matrix       \n",
    "    \"\"\"\n",
    "    #if states:\n",
    "    #    states=np.arange(size(P[0,]))\n",
    "    l='<div align=\"center\"><table>';\n",
    "    row=len(P[:,0])\n",
    "    i=j=k=0;\n",
    "    l=l+\"<tr><td>State</td>\";\n",
    "    #for n in arange(size(states)):\n",
    "        \n",
    "    for k in range(row):\n",
    "          l=l+'<td><div align=\"center\">%s</div></td>' % (states[k])\n",
    "          k++1\n",
    "    l=l+'</tr>';        \n",
    "    for i in range(1,row+1):\n",
    "        l=l+'<tr><td><div align=\"center\">%s</div></td>' %states[i-1]\n",
    "        for j in range(1,row+1):\n",
    "            l=l+\"<td> %1.4f </td>\" %P[i-1,j-1];\n",
    "            j++1\n",
    "        l=l+\"</tr>\"\n",
    "        i++1\n",
    "    l=l+\"</table></div>\"\n",
    "    return HTML(l)"
   ]
  },
  {
   "cell_type": "code",
   "execution_count": null,
   "metadata": {
    "collapsed": false,
    "slideshow": {
     "slide_type": "subslide"
    }
   },
   "outputs": [],
   "source": [
    "def StableDist(P):\n",
    "    \"\"\"\n",
    "    StableDist(P)\n",
    "      input: P, transition probability matrix,\n",
    "      output: stable distribution \n",
    "    \"\"\"\n",
    "    evals, evecs = sp.linalg.eig(P,left=True,right=False)\n",
    "    eps=1e-6\n",
    "    ind=evals[:]>1.-eps\n",
    "    p0=np.transpose(evecs[:,ind]/sum(evecs[:,ind]))\n",
    "    return p0"
   ]
  },
  {
   "cell_type": "markdown",
   "metadata": {
    "slideshow": {
     "slide_type": "slide"
    }
   },
   "source": [
    "## Markov and Markov Chains\n",
    "\n",
    "Markov chains have been introduced by the Russian mathematician Andrei Andreyevich Markov in the early 1900s.\n",
    "\n"
   ]
  },
  {
   "cell_type": "markdown",
   "metadata": {
    "slideshow": {
     "slide_type": "subslide"
    }
   },
   "source": [
    "## Introduction\n",
    "\n",
    "<div class=\"alert alert-success\" align=\"center\">\n",
    "    The system is `evolving` randomly in time\n",
    "</div>\n",
    "\n",
    "\n",
    "A system at time $t=0,1,2,\\cdots$\n",
    "The system can be in one state of a collection of possible states, e.g. **$S$={Happy,So-so,Blue}**\n",
    "The observation of the system is considered as an experience whose (random) result is the state’s system, so called stochastic process.\n",
    "\n"
   ]
  },
  {
   "cell_type": "markdown",
   "metadata": {
    "slideshow": {
     "slide_type": "subslide"
    }
   },
   "source": [
    "## Definition\n",
    "\n",
    "A discrete time **markov chain** is a stochastic process modeling a sequence of random variables within a system. The likelihood of the next random variable in the sequence only depends on the current state. \n",
    "\n",
    "\n",
    "\n",
    "\n",
    "Formally, given a sequence of events $X_0,X_1,... X_n$ the probability of transitioning to state $i_n$ can be written as:\n",
    "\n",
    "$$P\\left\\{X_n=i_n| X_0=i_0,...,X_{n-1}=i_{n-1}\\right\\} = P\\left\\{X_n=i_n | X_{n-1}=i_{n-1} \\right\\}$$\n",
    "\n",
    "A stochastic matrix describes the dynamics of a Markov chain $\\{X_n\\}$ that takes values in the state space $S$.\n",
    "\n",
    "Formally, we say that a discrete time stochastic process $\\{X_n\\}$ taking values in S is a Markov chain with stochastic matrix $P$ (called **transtition matrix**) if \n",
    "$$   {\\cal P}\\{X_{n+1}=j|X_n=i\\}=P[i,j] $$\n",
    "\n",
    "for any $t\\ge0$ and $i,j\\in S$; here $\\cal P$ means probability.\n"
   ]
  },
  {
   "cell_type": "markdown",
   "metadata": {
    "slideshow": {
     "slide_type": "subslide"
    }
   },
   "source": [
    "## examples :\n",
    "\n",
    "    – state of an engine (working, not working)\n",
    "    – weather (rain, cloud, snow, sun)\n",
    "    – robot’s position on a grid\n",
    "<p>\n",
    "<div class=\"alert alert-success\" align=\"center\">\n",
    "    What kind of experience do you have about Markov property? \n",
    "</div>\n"
   ]
  },
  {
   "cell_type": "markdown",
   "metadata": {
    "slideshow": {
     "slide_type": "subslide"
    }
   },
   "source": [
    "## Stochastic Matrices\n",
    "\n",
    "A stochastic matrix (or Markov matrix) is an n×n square matrix $P=P[i,j]$ such that\n",
    "\n",
    "each element $P[i,j]$ is nonnegative, and each row $P[i,⋅]$ sums to one\n",
    "\n",
    "Let $S:=0,\\cdots,n$\n",
    "\n",
    "Evidently, each row $P[i,⋅]$ can be regarded as a distribution (probability mass function) on $S$."
   ]
  },
  {
   "cell_type": "markdown",
   "metadata": {
    "slideshow": {
     "slide_type": "subslide"
    }
   },
   "source": [
    "## Example (Drunkard walk)\n",
    "\n",
    "A random walk on the number line where, at each step, the position may change by +1 or −1 with equal probability.\n",
    "\n",
    "\n",
    "```           \n",
    "                     p   O    p\n",
    "                        /|\\\n",
    "                   <--- / \\ --->             \n",
    "         ----------|-----|-----|----|---------\n",
    "                  n-1    n    n+1\n",
    "```\n",
    "\n",
    "From any position there are two possible transitions, to the next or previous integer. The transition probabilities depend only on the current position, not on the manner in which the position was reached. For example, the transition probabilities from 5 to 4 and 5 to 6 are both 0.5, and all other transition probabilities from 5 are 0. These probabilities are independent of whether the system was previously in 4 or 6.\n",
    "\n",
    "Suppose the the drunk man will fall down valley if he go 10 steps straightly toward east. And his first step is toward east and never go west if he is back to the intial position.\n"
   ]
  },
  {
   "cell_type": "markdown",
   "metadata": {
    "slideshow": {
     "slide_type": "subslide"
    }
   },
   "source": [
    "Transition Matrix of The position\n",
    "---\n",
    "The transition probability from state $i$ to state $j$, $p_{i,j}$:\n",
    "$$P=(p_{ij}),0\\le i,j\\le10$$"
   ]
  },
  {
   "cell_type": "code",
   "execution_count": null,
   "metadata": {
    "collapsed": false,
    "slideshow": {
     "slide_type": "slide"
    }
   },
   "outputs": [],
   "source": [
    "P=np.zeros((11,11))\n",
    "P=np.matrix(P)\n",
    "P[0,1]=P[10,10]=1.\n",
    "for i in np.arange(1,10):\n",
    "    P[i,i-1]=P[i,i+1]=1/2.\n",
    "P    "
   ]
  },
  {
   "cell_type": "code",
   "execution_count": null,
   "metadata": {
    "collapsed": false,
    "slideshow": {
     "slide_type": "subslide"
    }
   },
   "outputs": [],
   "source": [
    "n=np.arange(np.size(P[0,]))\n",
    "printP2(P,n)"
   ]
  },
  {
   "cell_type": "markdown",
   "metadata": {
    "slideshow": {
     "slide_type": "slide"
    }
   },
   "source": [
    "What is his position after 20 steps?\n",
    "---\n"
   ]
  },
  {
   "cell_type": "markdown",
   "metadata": {
    "slideshow": {
     "slide_type": "fragment"
    }
   },
   "source": [
    "\n",
    "Just $P^{20}=(p_{i,j}^{20})$ where \n",
    "$$p_{i,j}^{20}=\\text{Probability of entering state }j\\text{ after moving 20 steps randomly and starting from }i\\text{ state.}$$ "
   ]
  },
  {
   "cell_type": "code",
   "execution_count": null,
   "metadata": {
    "collapsed": false,
    "slideshow": {
     "slide_type": "subslide"
    }
   },
   "outputs": [],
   "source": [
    "printP2(P**20,n)"
   ]
  },
  {
   "cell_type": "markdown",
   "metadata": {
    "slideshow": {
     "slide_type": "slide"
    }
   },
   "source": [
    "Okay, what happens eventually?\n",
    "---\n",
    "\n",
    "Suppose that he always walk left and right if not falling down the valley."
   ]
  },
  {
   "cell_type": "code",
   "execution_count": null,
   "metadata": {
    "collapsed": false,
    "slideshow": {
     "slide_type": "subslide"
    }
   },
   "outputs": [],
   "source": [
    "printP2(P**100,n)"
   ]
  },
  {
   "cell_type": "markdown",
   "metadata": {
    "slideshow": {
     "slide_type": "fragment"
    }
   },
   "source": [
    "What happens at the even rows, in which there are 5 transtion probabilities are zero?\n",
    "---"
   ]
  },
  {
   "cell_type": "code",
   "execution_count": null,
   "metadata": {
    "collapsed": false,
    "slideshow": {
     "slide_type": "slide"
    }
   },
   "outputs": [],
   "source": [
    "printP2(P**1001,n)"
   ]
  },
  {
   "cell_type": "markdown",
   "metadata": {
    "slideshow": {
     "slide_type": "subslide"
    }
   },
   "source": [
    "## Discussions\n",
    "\n",
    " \n",
    "- Eventually, the drunkard would fall down the valley. But why?\n",
    "\n",
    "Roughtly, we can make the folloing simple conclusion\n",
    "```\n",
    "   Once he falled down the valley, says at 1001 step here, he never move again!\n",
    "```   "
   ]
  },
  {
   "cell_type": "code",
   "execution_count": null,
   "metadata": {
    "collapsed": false,
    "slideshow": {
     "slide_type": "subslide"
    }
   },
   "outputs": [],
   "source": [
    "stableS=StableDist(P)\n",
    "stableS"
   ]
  },
  {
   "cell_type": "code",
   "execution_count": null,
   "metadata": {
    "collapsed": false,
    "slideshow": {
     "slide_type": "fragment"
    }
   },
   "outputs": [],
   "source": [
    "stableS*P"
   ]
  },
  {
   "cell_type": "markdown",
   "metadata": {
    "slideshow": {
     "slide_type": "fragment"
    }
   },
   "source": [
    "## Question:\n",
    "\n",
    "What's your conclusion about the last two results?"
   ]
  },
  {
   "cell_type": "markdown",
   "metadata": {
    "slideshow": {
     "slide_type": "slide"
    }
   },
   "source": [
    "## Note:\n",
    "Numpy provides two kinds of data type to store vector/matrix data, **array() and matrix()**. However, there are some differences between these types, especially the algebraic calculation."
   ]
  },
  {
   "cell_type": "markdown",
   "metadata": {
    "slideshow": {
     "slide_type": "slide"
    }
   },
   "source": [
    "<h3> Drunkard Example again</h3>\n",
    "Suppose that the state \"0\"  also represents falling valley. Reconsider the example again."
   ]
  },
  {
   "cell_type": "code",
   "execution_count": null,
   "metadata": {
    "collapsed": false,
    "slideshow": {
     "slide_type": "subslide"
    }
   },
   "outputs": [],
   "source": [
    "P2=P\n",
    "P2[0,0]=1.;P2[0,1]=0.;\n",
    "printP2(P2,n)"
   ]
  },
  {
   "cell_type": "code",
   "execution_count": null,
   "metadata": {
    "collapsed": false,
    "slideshow": {
     "slide_type": "subslide"
    }
   },
   "outputs": [],
   "source": [
    "printP2(P2**1000,n)"
   ]
  },
  {
   "cell_type": "code",
   "execution_count": null,
   "metadata": {
    "collapsed": false,
    "slideshow": {
     "slide_type": "subslide"
    }
   },
   "outputs": [],
   "source": [
    "printP2(P2**1001,n)"
   ]
  },
  {
   "cell_type": "code",
   "execution_count": null,
   "metadata": {
    "collapsed": false,
    "slideshow": {
     "slide_type": "subslide"
    }
   },
   "outputs": [],
   "source": [
    "StableDist(P)"
   ]
  },
  {
   "cell_type": "markdown",
   "metadata": {
    "collapsed": false,
    "slideshow": {
     "slide_type": "subslide"
    }
   },
   "source": [
    "Question\n",
    "---\n",
    "What the situation does the drunkard still alive? Why?"
   ]
  },
  {
   "cell_type": "markdown",
   "metadata": {
    "slideshow": {
     "slide_type": "slide"
    }
   },
   "source": [
    "<h3> Note: Difference between Array and Matrix Operations</h3>\n",
    "Matrices can be treated as a 2D values (data). However, matrix operations are different from general value arithmatic operations.  For instance:\n",
    "$ M\\times M=0$ does not imply $M=0$ for matrix $M$. "
   ]
  },
  {
   "cell_type": "code",
   "execution_count": null,
   "metadata": {
    "collapsed": false,
    "slideshow": {
     "slide_type": "subslide"
    }
   },
   "outputs": [],
   "source": [
    "A=np.array([[1,-1],[1,-1]])\n",
    "B=np.matrix(A)\n",
    "A,B"
   ]
  },
  {
   "cell_type": "code",
   "execution_count": null,
   "metadata": {
    "collapsed": false,
    "slideshow": {
     "slide_type": "subslide"
    }
   },
   "outputs": [],
   "source": [
    "printP(A*A)"
   ]
  },
  {
   "cell_type": "code",
   "execution_count": null,
   "metadata": {
    "collapsed": false,
    "slideshow": {
     "slide_type": "subslide"
    }
   },
   "outputs": [],
   "source": [
    "printP(B*B)"
   ]
  },
  {
   "cell_type": "markdown",
   "metadata": {
    "slideshow": {
     "slide_type": "slide"
    }
   },
   "source": [
    "## Example (Learning Or Not)\n",
    "\n",
    "Arnorld, a student in the class, would be in one of four states:\n",
    "\n",
    "    1. learning\n",
    "    2. watch his facebook,\n",
    "    3. write exercise or lab report,\n",
    "    4. dozing off.\n",
    "\n",
    "Every ten minutes, Arnold can change his activity or continue the current one. Suppose that the behavior of Arnold's changing state is a process without memory.\n",
    "\n",
    "    - When he dozes off, there is 9 chances over 10 that he will not wake up the next ten minute, otherwise 1 chance over 10 that he will wake up and listen what he had lost.\n",
    "    - When he wakes up, there is 1 chance over 3 that listens lecture, and 1 chance over 3 that logins his facebook, and 1 chance over 3 that will write lab report;\n",
    "    - when teacher ask to him shutdown his cell phone, there is 3 chances over 5 that he will fall in asleep, and 2 chances over 5 that he will write his lab report.\n",
    "    - when teacher stop his writing staff, there is 1 chances over 4 that he will attend the lecture listening, and 1 chances over 2 that he will doze off.\n",
    "\n"
   ]
  },
  {
   "cell_type": "markdown",
   "metadata": {
    "slideshow": {
     "slide_type": "subslide"
    }
   },
   "source": [
    "# Example (continued)\n",
    "\n",
    "**State $S$**: 1 for listening, 2 for using cell phone, 3 for writing, and 4 for dozzling.\n",
    "\n",
    "**The first state**: 1\n",
    "\n",
    "**Question**: After ten minutes, in what state is Arnold we can predict? How about 20 minutes? and so on?\n"
   ]
  },
  {
   "cell_type": "markdown",
   "metadata": {
    "slideshow": {
     "slide_type": "subslide"
    }
   },
   "source": [
    "## Answer (continued)\n",
    "\n",
    "After ten minutes,\n",
    "\n",
    "1. $1\\to1$ (still listening to the lecture): 1/3\n",
    "2. $1\\to2$: 1/3\n",
    "3. $1\\to3$: 1/3\n",
    "4. $1\\to4$: 0\n",
    "\n"
   ]
  },
  {
   "cell_type": "markdown",
   "metadata": {
    "slideshow": {
     "slide_type": "subslide"
    }
   },
   "source": [
    "\n",
    "<div class=\"alert alert-success\" align=\"center\">\n",
    "    The case becomes more `complicated` while time elapses!\n",
    "\n",
    "</div>\n",
    "\n",
    "\n",
    "The probability transtion matrix would do much help!"
   ]
  },
  {
   "cell_type": "code",
   "execution_count": null,
   "metadata": {
    "collapsed": false,
    "slideshow": {
     "slide_type": "subslide"
    }
   },
   "outputs": [],
   "source": [
    "P1=np.matrix([[1/3.,1/3.,1/3.,0],[0,0,2/5.,3/5.],[1/4.,1/4.,0,1/2.],[1/10.,0,0,9/10.]])"
   ]
  },
  {
   "cell_type": "code",
   "execution_count": null,
   "metadata": {
    "collapsed": false,
    "slideshow": {
     "slide_type": "subslide"
    }
   },
   "outputs": [],
   "source": [
    "printP(P1)"
   ]
  },
  {
   "cell_type": "markdown",
   "metadata": {
    "slideshow": {
     "slide_type": "slide"
    }
   },
   "source": [
    "## Example (continued)\n",
    "\n",
    "After the first result, the transition states from any state could be any state in $S$; the following calculation shows the probability, staring from state 1 to any states and back to state again:\n",
    "$$\n",
    "1 \\to [1,2,3,4] \\to 1\\\\\n",
    "   P(X_2=1|X_0=1)=\\sum_{i\\in S}P(X_1=i|X_0=1)\\times P(X_2=1|X_1=i)\n",
    "$$\n",
    "\n",
    "Above result describes the case that Arnold still awake and keeps on listening after two time units elapsed.\n",
    "\n",
    "<h3>Symbols</h3>\n",
    "\n",
    "$P(X_{n+1}=j|X_n=i)$: the probability of being in $i$-state at time $n+1$ given by condition which is in state $i$ at time $n$. "
   ]
  },
  {
   "cell_type": "markdown",
   "metadata": {
    "slideshow": {
     "slide_type": "subslide"
    }
   },
   "source": [
    "## Question:\n",
    "\n",
    "1. Does this mean that the person always awakes at the first twenty minutes?\n",
    "2. How many changes does this person awake and listen to the lectecure during two hours? (very hard)"
   ]
  },
  {
   "cell_type": "markdown",
   "metadata": {},
   "source": [
    "<h2>Note</h2>\n",
    "$$P(X_2=1|X_0=1)= \\sum_i P(X_2=1|X_1=i)P(X_1=i|X_0=1)=\\sum_i P(X_1=1|X_0=i)P(X_1=i|X_0=1)=P^2[1,1]$$"
   ]
  },
  {
   "cell_type": "code",
   "execution_count": null,
   "metadata": {
    "collapsed": false
   },
   "outputs": [],
   "source": [
    "printP(P1**2)"
   ]
  },
  {
   "cell_type": "markdown",
   "metadata": {},
   "source": [
    "<div class=\"alert alert-success\" align=\"center\">\n",
    "<b>Answer for last question<b>: Only about <code>2</code> chances over 10, he is still listening after 20 minutes.\n",
    "</div>"
   ]
  },
  {
   "cell_type": "code",
   "execution_count": null,
   "metadata": {
    "collapsed": false,
    "slideshow": {
     "slide_type": "notes"
    }
   },
   "outputs": [],
   "source": [
    "StableDist(P1)"
   ]
  },
  {
   "cell_type": "code",
   "execution_count": null,
   "metadata": {
    "collapsed": false,
    "slideshow": {
     "slide_type": "subslide"
    }
   },
   "outputs": [],
   "source": [
    "printP(P1**10)"
   ]
  },
  {
   "cell_type": "code",
   "execution_count": null,
   "metadata": {
    "collapsed": false,
    "slideshow": {
     "slide_type": "subslide"
    }
   },
   "outputs": [],
   "source": [
    "printP(P1**100)"
   ]
  },
  {
   "cell_type": "markdown",
   "metadata": {
    "slideshow": {
     "slide_type": "subslide"
    }
   },
   "source": [
    "<div class=\"alert alert-success\" align=\"center\">\n",
    "How about the last two computed results? \n",
    "</div>"
   ]
  },
  {
   "cell_type": "markdown",
   "metadata": {},
   "source": [
    "## Observation\n",
    "\n",
    "While at the (large) $n$ step, the transtion probability seems to be distributed as constant as follows:\n",
    "\n",
    "$$\\pi_n=(p_1,p_2,p_3,p_4)^{t=n}$$\n",
    "\n",
    "Then the transtion probability to the next step should be\n",
    "\n",
    "1. state 1: $p_1*p_{11}+p_2*p_{21}+p_3*p_{31}+p_4*p_{41}(\\sim p_1)$\n",
    "$$   \n",
    "   P(X_{n+1}=1) = P(X_n=1) P(X_{n+1}=1|X_n=1)+P(X_n=2) P(X_{n+1}=1|X_n=2)+\\cdots+P(X_n=4) P(X_{n+1}=1|X_n=4) \n",
    "$$\n",
    "2. states $i=2,3,4$: $p_1*p_{1i}+p_2*p_{2i}+p_3*p_{3i}+p_4*p_{4i}(\\sim p_i)$\n",
    "3. $$ (p_1,p_2,p_3,p_4)^{n+1}=(p_1,p_2,p_3,p_4)^{n}\\times P$$\n",
    "\n",
    "This implies: $$ \\pi_{n+1}=\\pi_n\\times P$$ if time $n$ is large enough (eventually). This is stable if the following exists:\n",
    "$$\\pi=\\lim_{n\\to\\infty}\\pi_{n+1}=\\lim_{n\\to\\infty}\\pi_n\\times P=\\pi P$$\n"
   ]
  },
  {
   "cell_type": "markdown",
   "metadata": {
    "slideshow": {
     "slide_type": "subslide"
    }
   },
   "source": [
    "## Tools for evaluate stable $\\pi$\n",
    "\n",
    "Although $\\pi$ is calculated by matrix theory, NumPy/SciPy is the best choice for computing Linear Algebra and for computing transition matix!\n"
   ]
  },
  {
   "cell_type": "markdown",
   "metadata": {
    "slideshow": {
     "slide_type": "slide"
    }
   },
   "source": [
    "## Mathematical Background\n",
    "\n",
    "**Definition**\n",
    "\n",
    "An $n×k$ matrix is a rectangular array $A$ of numbers with $n$ rows and $k$ columns:\n",
    "\n",
    "\\begin{split}A = \\left[ \\begin{array}{cccc} a_{11} & a_{12} & \\cdots & a_{1k} \\\\ a_{21} & a_{22} & \\cdots & a_{2k} \\\\ \\vdots & \\vdots & & \\vdots \\\\ a_{n1} & a_{n2} & \\cdots & a_{nk} \\end{array} \\right]\\end{split}\n",
    "\n",
    "$A$ is called square matrix if $n=k$."
   ]
  },
  {
   "cell_type": "markdown",
   "metadata": {
    "slideshow": {
     "slide_type": "subslide"
    }
   },
   "source": [
    "**Definition**\n",
    "---\n",
    "Let $P$ be an $n×n$ square matrix\n",
    "\n",
    "**a).** If $\\lambda$ is scalar and $\\vec v$ is a non-zero vector in $\\mathbb{R}^n$ such that \n",
    "$$\\mathbb{P\\vec v=\\lambda \\vec v},$$\n",
    "then we say that $\\lambda$ is a **right eigenvalue** of $P$, and $\\vec v$ is a **right eigenvector**.\n",
    "\n",
    "**b).** If $\\lambda$ is scalar and $\\vec v$ is a non-zero vector in $\\mathbb{R}^n$ such that \n",
    "$$\\mathbb{\\vec v P=\\lambda \\vec v},$$\n",
    "then we say that $\\lambda$ is a **left eigenvalue **of $P$, and $\\vec v$ is a **left eigenvector**\n"
   ]
  },
  {
   "cell_type": "markdown",
   "metadata": {
    "slideshow": {
     "slide_type": "subslide"
    }
   },
   "source": [
    "\n",
    "<div class=\"alert alert-success\" align=\"center\">\n",
    "<big>Left {*eigenvalues*, *eigenvectors*} is the key point to describe the stable property for $P$.</big>\n",
    "</div>"
   ]
  },
  {
   "cell_type": "markdown",
   "metadata": {
    "slideshow": {
     "slide_type": "subslide"
    }
   },
   "source": [
    "**Theorem**\n",
    "Let $P$ be an $n×n$ Transition matrix. 1 is an eigenvalue since\n",
    "$$ P\\cdot[1,1,\\cdots,1]^t=\\left[\\sum_i^n p_{1i},\\cdots,\\sum_i^n p_{ni}\\right]=[1,1,\\cdots,1]^t$$\n"
   ]
  },
  {
   "cell_type": "markdown",
   "metadata": {
    "slideshow": {
     "slide_type": "fragment"
    }
   },
   "source": [
    "\n",
    "\n",
    "**Theorem** (Accumulated Effect)\n",
    "\n",
    "$\\vec v P=\\lambda \\vec v$ impies $\\lambda^m$ is eigenvalue of $P^m$ with the same eigenvector:\n",
    "\n",
    "$$\\vec v P^m=(\\vec v P) P^{m-1}=\\lambda \\vec v P^{m-1}=\\lambda^2 \\vec v P^{m-2}=\\cdots= \\lambda^m\\vec v $$\n",
    "\n"
   ]
  },
  {
   "cell_type": "markdown",
   "metadata": {
    "slideshow": {
     "slide_type": "fragment"
    }
   },
   "source": [
    "\n",
    "**Theorem**\n",
    "\n",
    "Every left eigenvalue $\\lambda_j$ satisfies $|\\lambda_j|\\le1$\n",
    "$$ \\lambda_j^m \\vec v = \\sum_i^n v_i p^m_{ij} \\\\\n",
    "   |\\lambda_j^m|\\cdot ||\\vec v|| \\le \\sum_i^n |v_i| p_{ij} \\\\\n",
    "   |\\lambda_j^m|  \\le \\sum_i^n  p_{ij}\\le C \\\\\n",
    "$$   \n",
    "This proves the theorem since the last result would holds for every $m\\ge1$.\n",
    "\n",
    "<div align=\"center\"><big>\n",
    "(If not, $\\lambda^m$ should be not bounded for some $m$ large enough.)\n",
    "</big>\n",
    "</div>\n",
    "   "
   ]
  },
  {
   "cell_type": "markdown",
   "metadata": {
    "slideshow": {
     "slide_type": "slide"
    }
   },
   "source": [
    "## Example\n",
    "\n",
    "**Definition**\n",
    "\n",
    "Suppose that $P$ is a $2x2$ transition matrix, $P$, as follows:\n",
    "\n",
    "\\begin{split}P = \\left[ \\begin{array}{cc} p_{11} & p_{12}\\\\ p_{21} & p_{22} \\end{array} \\right]\\end{split}\n",
    "\n",
    "\n",
    "**Facts**\n",
    "\n",
    "1. If $p_{12}=p_{21}=0$ $\\to$ 2 recurrent states and $\\lambda=1$ with multiplicity 2.\n",
    "2. If $p_{12}=p_{21}=1$ $\\to$ periodic and eigenvalues are 1 and $\\lambda=-1$ (otherwise $|\\lambda|<1$).\n"
   ]
  },
  {
   "cell_type": "markdown",
   "metadata": {
    "slideshow": {
     "slide_type": "slide"
    }
   },
   "source": [
    "## Neumann's Theorem\n",
    "\n",
    "If $∥A^k∥\\lt 1$ for some $k∈\\mathbb{N}$, then $I−A$ is invertible, and\n",
    "\n",
    "\\begin{split} (I - A)^{-1} = \\sum_{k=0}^{\\infty} A^k \\end{split} where \\begin{split} \\| A \\| := \\max_{\\| x \\| = 1} \\| A x \\| \\end{split}\n"
   ]
  },
  {
   "cell_type": "markdown",
   "metadata": {
    "slideshow": {
     "slide_type": "subslide"
    }
   },
   "source": [
    "## Properties of MC\n",
    "\n",
    "1. A state $j$ is said to be **accessible** from a state $i$ if $ P^n(i,j)>0$ for some $n\\ge0$. \n",
    "2. Periodic: A state $ i$ has **period** $k$ if any return to state $i$ must occur in multiples of $k$ time steps. If $k = 1$, then the state is said to be *aperiodic*\n",
    "3. Recurrence: A state $i$ is said to be *transient* if, given that we start in state $i$, there is a non-zero probability that we will never return to $i$.  A state $i$ is said to be *recurrent* if and only if the expected number, starting from $i$, back to $i$ is infinite.\n",
    "$$\\text{ recurrent if } \\sum_{n\\ge 1}P_{i,i}^n=\\infty;\\\\\n",
    "  \\text{ transient if } \\sum_{n\\ge 1}P_{i,i}^n<\\infty;\\\\                       \n",
    "$$\n",
    "4. A state $i$ is called *absorbing* if it is impossible to leave this state.\n",
    "5. Ergodicity: A state $i$ is said to be ergodic if it is aperiodic and positive recurrent. In other words, a state i is ergodic if it is recurrent, has a period of 1 and it has finite mean recurrence time. If all states in an irreducible Markov chain are ergodic, then the chain is said to be ergodic.\n",
    "6. $\\pi$ is called stationary if\n",
    "   \n",
    "$$\n",
    "   \\pi=[\\pi_1,\\cdots,\\pi_n], \\pi_i\\ge0; \\\\\n",
    "   \\sum_{i\\in S}\\pi_i=1;\\\\\n",
    "   \\pi=\\pi P\n",
    "$$ \n",
    "\n"
   ]
  },
  {
   "cell_type": "markdown",
   "metadata": {
    "slideshow": {
     "slide_type": "subslide"
    }
   },
   "source": [
    "## Theorem\n",
    "An irreducible chain has a stationary distribution if and only if all of its states are positive recurrent, i.e.\n",
    "$$ \\pi=\\pi P$$"
   ]
  },
  {
   "cell_type": "markdown",
   "metadata": {
    "slideshow": {
     "slide_type": "subslide"
    }
   },
   "source": [
    "## Note\n",
    "An irreducible aperiod Markov chain satisfies:\n",
    "$$ \\pi=\\pi P \\\\\n",
    "   \\to \\pi(I_n-1\\cdot P)=0$$\n",
    "   This means $\\pi$ is the eigenvector of $P$ with respect to the eigenvalue <font color=\"red\">\"$1$\"</font>.   <br>  \n",
    "   <img src=\"images/invariant.png\">   \n"
   ]
  },
  {
   "cell_type": "code",
   "execution_count": null,
   "metadata": {
    "collapsed": false,
    "slideshow": {
     "slide_type": "slide"
    }
   },
   "outputs": [],
   "source": [
    "B=np.matrix([[0.4,0.6],[0.2,0.8]])\n",
    "printP(B)"
   ]
  },
  {
   "cell_type": "code",
   "execution_count": null,
   "metadata": {
    "collapsed": false,
    "slideshow": {
     "slide_type": "subslide"
    }
   },
   "outputs": [],
   "source": [
    "evals, evecs =sp.linalg.eig(B,left=True,right=False)\n",
    "\n",
    "evals=np.real(evals)\n",
    "evals"
   ]
  },
  {
   "cell_type": "code",
   "execution_count": null,
   "metadata": {
    "collapsed": false,
    "slideshow": {
     "slide_type": "subslide"
    }
   },
   "outputs": [],
   "source": [
    "ev0=evecs[:,1];ev0"
   ]
  },
  {
   "cell_type": "code",
   "execution_count": null,
   "metadata": {
    "collapsed": false,
    "slideshow": {
     "slide_type": "subslide"
    }
   },
   "outputs": [],
   "source": [
    "ev0=ev0/sum(ev0);ev0"
   ]
  },
  {
   "cell_type": "code",
   "execution_count": null,
   "metadata": {
    "collapsed": false,
    "slideshow": {
     "slide_type": "subslide"
    }
   },
   "outputs": [],
   "source": [
    "ev1=StableDist(B)\n",
    "ev1"
   ]
  },
  {
   "cell_type": "code",
   "execution_count": null,
   "metadata": {
    "collapsed": false,
    "slideshow": {
     "slide_type": "subslide"
    }
   },
   "outputs": [],
   "source": [
    "ev1*B"
   ]
  },
  {
   "cell_type": "markdown",
   "metadata": {
    "slideshow": {
     "slide_type": "slide"
    }
   },
   "source": [
    "## Procedure for Evaluating $\\pi$\n",
    "\n",
    "1. Find out all the eigenvalues of $P$ with eigenvales repectively; \n",
    "\n",
    "2. the eigenvector with respect to eigenvale 1 is the stable distribution, $\\pi$, that  we want to find.\n",
    "\n",
    "## By SciPy\n",
    "\n",
    "1. Find eigenvalues by <br>\n",
    "   <font color=\"brown\">eigvals,eigvecs=scipy.linalg.eig(P,left=True,right=False)</font>\n",
    "\n",
    "2. Suppose that eigvec = eigvec[:,i] is the eigenvector with respect to eigenvalue1. It is the stable distribution, $\\pi$ if eigenvec is unit vector; otherwise, $\\pi$ is <font color=\"brown\">eigvec/sum(eigvec)</font> since total sum of transition probability is equal to 1."
   ]
  },
  {
   "cell_type": "code",
   "execution_count": null,
   "metadata": {
    "collapsed": false,
    "slideshow": {
     "slide_type": "subslide"
    }
   },
   "outputs": [],
   "source": [
    "A = np.matrix([[0.7,0.2,0.1],[0,0.5,0.5],[0.,0.9,0.1]])\n",
    "printP(A)"
   ]
  },
  {
   "cell_type": "code",
   "execution_count": null,
   "metadata": {
    "collapsed": false,
    "slideshow": {
     "slide_type": "subslide"
    }
   },
   "outputs": [],
   "source": [
    "printP(A**1000)"
   ]
  },
  {
   "cell_type": "code",
   "execution_count": null,
   "metadata": {
    "collapsed": false,
    "slideshow": {
     "slide_type": "subslide"
    }
   },
   "outputs": [],
   "source": [
    "printP(A**2000)"
   ]
  },
  {
   "cell_type": "code",
   "execution_count": null,
   "metadata": {
    "collapsed": false,
    "slideshow": {
     "slide_type": "subslide"
    }
   },
   "outputs": [],
   "source": [
    "evals, evecs =sp.linalg.eig(A,left=True,right=False)\n",
    "\n",
    "evals=np.real(evals)\n",
    "evals"
   ]
  },
  {
   "cell_type": "code",
   "execution_count": null,
   "metadata": {
    "collapsed": false,
    "slideshow": {
     "slide_type": "subslide"
    }
   },
   "outputs": [],
   "source": [
    "ev0=evecs[:,1]\n",
    "ev0"
   ]
  },
  {
   "cell_type": "code",
   "execution_count": null,
   "metadata": {
    "collapsed": false,
    "slideshow": {
     "slide_type": "subslide"
    }
   },
   "outputs": [],
   "source": [
    "ev0=ev0/sum(ev0);ev0"
   ]
  },
  {
   "cell_type": "code",
   "execution_count": null,
   "metadata": {
    "collapsed": false,
    "slideshow": {
     "slide_type": "subslide"
    }
   },
   "outputs": [],
   "source": [
    "eps=1e-6\n",
    "ind=evals[:]>1.-eps\n",
    "#evals[:,ind]\n",
    "evecs[:,ind]/sum(evecs[:,ind])"
   ]
  },
  {
   "cell_type": "code",
   "execution_count": null,
   "metadata": {
    "collapsed": false,
    "slideshow": {
     "slide_type": "subslide"
    }
   },
   "outputs": [],
   "source": [
    "StableDist(A)"
   ]
  },
  {
   "cell_type": "markdown",
   "metadata": {
    "slideshow": {
     "slide_type": "slide"
    }
   },
   "source": [
    "## Frog on the 7 lily pad\n",
    "\n",
    "A frog hops about on 7 lily pads. The numbers next to arrows show the probabilities with which, at the next jump, \n",
    "he jumps to a neighbouring lily pad (and when out-going probabilities sum to less than 1 he stays where he is with \n",
    "the remaining probability).\n",
    "<p>\n",
    "<img src=\"images/frog.png\">\n"
   ]
  },
  {
   "cell_type": "markdown",
   "metadata": {
    "slideshow": {
     "slide_type": "subslide"
    }
   },
   "source": [
    "## Challenges\n",
    "\n",
    "    a) Starting in state 1, what is the probability that we are still in state 1 after 3 steps?\n",
    "    b) after 5 steps?\n",
    "    c) after 100 steps (or eventually)?\n",
    "\n"
   ]
  },
  {
   "cell_type": "code",
   "execution_count": null,
   "metadata": {
    "collapsed": false,
    "slideshow": {
     "slide_type": "subslide"
    }
   },
   "outputs": [],
   "source": [
    "P=np.matrix([[0,1,0,0,0,0,0],\n",
    "             [0,1/2.,1/2.,0,0,0,0],\n",
    "             [1/2.,0,1/2.,0,0,0,0],\n",
    "             [0,0,1/4.,1/2.,1/4.,0,0],\n",
    "             [0,0,0,0,0,1/2.,1/2.],\n",
    "             [0,0,1,0,0,0,0],\n",
    "             [0,0,0,0,0,0,1]])\n",
    "printP(P)"
   ]
  },
  {
   "cell_type": "code",
   "execution_count": null,
   "metadata": {
    "collapsed": false,
    "slideshow": {
     "slide_type": "subslide"
    }
   },
   "outputs": [],
   "source": [
    "printP(P*P*P)"
   ]
  },
  {
   "cell_type": "code",
   "execution_count": null,
   "metadata": {
    "collapsed": false,
    "slideshow": {
     "slide_type": "subslide"
    }
   },
   "outputs": [],
   "source": [
    "printP(P**5)"
   ]
  },
  {
   "cell_type": "code",
   "execution_count": null,
   "metadata": {
    "collapsed": false,
    "slideshow": {
     "slide_type": "subslide"
    }
   },
   "outputs": [],
   "source": [
    "P000=P**100\n",
    "P000[0,0]"
   ]
  },
  {
   "cell_type": "code",
   "execution_count": null,
   "metadata": {
    "collapsed": false,
    "slideshow": {
     "slide_type": "subslide"
    }
   },
   "outputs": [],
   "source": [
    "printP(P**1000)"
   ]
  },
  {
   "cell_type": "markdown",
   "metadata": {
    "slideshow": {
     "slide_type": "slide"
    }
   },
   "source": [
    "## Problem\n",
    "\n",
    "Suppose that the climate record is as follows (one-day transition):\n",
    "\n",
    "           cloud  sun rain  snow\n",
    "    cloud   0.6   0.2  0.2    0\n",
    "     sun    0.7   0.3    0    0\n",
    "    rain    0.55    0  0.4  0.05\n",
    "    snow    0       0  0.5  0.5\n",
    "\n",
    "What about the climate of tomorrow, and the day after tomorrow? Guess where the place locates. How to introtruce the climate information for travellers?\n"
   ]
  },
  {
   "cell_type": "markdown",
   "metadata": {
    "slideshow": {
     "slide_type": "slide"
    }
   },
   "source": [
    "Problem\n",
    "---\n",
    "\n",
    "Physicians who diagnose asymptomatic gallstones are faced with the decision to either immediately remove the gall bladder to prevent possible life-threatening complications or to postpone surgery until complications do occur. What is the long-term trend of each strategy?\n",
    "\n",
    "        A      C    R     W     D\n",
    "    A  0.95  0.04   0     0    0.01 \n",
    "    C   0      0   0.995  0    0.005\n",
    "    R   0      0   0.09  0.90  0.01 \n",
    "    W   0      0   0     0.99  0.01\n",
    "    D   0      0   0      0     1 \n",
    "\n",
    "Where the state is one of the follows:\n",
    "\n",
    "    A (1): Asymptomatic gallstone; postpone surgery from 4-month delay with 0.95 probability;\n",
    "    C (2): cholecystitis or biliary complications; will require surgery with 0.04 probability;\n",
    "    D (5): natual death state; with probability 0.01 due to age\n",
    "    R (3): Recovery state;\n",
    "    W (4): well state; 99% well recovery and 1% to death\n",
    "\n",
    "Ninety percent of the patients move onto the well state (W) while 9% stay in the recovery state each year and 1% die of natural causes. If the disease progresses and becomes symptomatic, then surgery is performed with a risk of death from complications due to surgery of 0.005.\n",
    "\n",
    "a). Contruct the transition matrix, $P$.<br>\n",
    "b). Is there any stationary state? What does it mean?<br>\n",
    "c). What is your suggestion for a 60 years old patient in state A?<br>"
   ]
  },
  {
   "cell_type": "markdown",
   "metadata": {},
   "source": [
    "# Markov Chain Model for Baseball\n",
    "\n",
    "        \n",
    "```\n",
    "   Yogi Berra\n",
    "   \n",
    "   It's not over until it's over.\n",
    "```"
   ]
  },
  {
   "cell_type": "markdown",
   "metadata": {
    "slideshow": {
     "slide_type": "subslide"
    }
   },
   "source": [
    "## RUNNERS AND OUTS COMBINATIONS\n",
    "```     \n",
    "      state ( xyz , outs)\n",
    "      \n",
    "      xyz: runners on on the bases x,y,z\n",
    "      outs: number of outs\n",
    "```     \n",
    "\n",
    "Runners (on any base): 0(none) 1     2     3     12     13     23     123\n",
    "\n",
    "         0: (0,0)[1]  (1,0)[2]  (2,0)[3]  (3,0)[4]  (12,0)[5]  (13,0)[6]  (23,0)[7]  (123,0)[8]\n",
    "    Outs 1: (0,1)[9]  (1,1)[10] (2,1)[11] (3,1)[12] (12,1)[13] (13,1)[14] (23,1)[15] (123,1)[16]\n",
    "         2: (0,2)[17] (1,2)[18] (2,2)[19] (3,2)[20] (12,2)[21] (13,2)[22] (23,2)[23] (123,2)[24]\n",
    "\n",
    " Three outs state [25]\n",
    "\n",
    "There are 25 states considered, in other words, the transition matrix, $P$, is a $25\\times25$ matrix.\n"
   ]
  },
  {
   "cell_type": "markdown",
   "metadata": {
    "slideshow": {
     "slide_type": "subslide"
    }
   },
   "source": [
    "## States of Markov Chain Model for Baseball\n",
    "\n",
    "<table border=\"1\" cellpadding=\"2\" cellspacing=\"2\" width=\"70%\">\n",
    "<tbody>\n",
    "<tr>\n",
    "<td align=\"center\" valign=\"top\">no.<br>\n",
    "</td>\n",
    "<td align=\"center\" valign=\"top\">state<br>\n",
    "</td>\n",
    "<td align=\"center\" valign=\"top\">no.<br>\n",
    "</td>\n",
    "<td align=\"center\" valign=\"top\">state<br>\n",
    "</td>\n",
    "<td align=\"center\" valign=\"top\">no.<br>\n",
    "</td>\n",
    "<td align=\"center\" valign=\"top\">state<br>\n",
    "</td>\n",
    "</tr>\n",
    "<tr>\n",
    "<td align=\"center\" valign=\"top\">1<br>\n",
    "</td>\n",
    "<td align=\"center\" valign=\"top\">(0,0)<br>\n",
    "</td>\n",
    "<td align=\"center\" valign=\"top\">9<br>\n",
    "</td>\n",
    "<td align=\"center\" valign=\"top\">(0,1)<br>\n",
    "</td>\n",
    "<td align=\"center\" valign=\"top\">17<br>\n",
    "</td>\n",
    "<td align=\"center\" valign=\"top\">(0,2)<br>\n",
    "</td>\n",
    "</tr>\n",
    "<tr>\n",
    "<td align=\"center\" valign=\"top\">2<br>\n",
    "</td>\n",
    "<td align=\"center\" valign=\"top\">(1,0)<br>\n",
    "</td>\n",
    "<td align=\"center\" valign=\"top\">10<br>\n",
    "</td>\n",
    "<td align=\"center\" valign=\"top\">(1,1)<br>\n",
    "</td>\n",
    "<td align=\"center\" valign=\"top\">18<br>\n",
    "</td>\n",
    "<td align=\"center\" valign=\"top\">(1,2)<br>\n",
    "</td>\n",
    "</tr>\n",
    "<tr>\n",
    "<td align=\"center\" valign=\"top\">3<br>\n",
    "</td>\n",
    "<td align=\"center\" valign=\"top\">(2,0)<br>\n",
    "</td>\n",
    "<td align=\"center\" valign=\"top\">11<br>\n",
    "</td>\n",
    "<td align=\"center\" valign=\"top\">(2,1)<br>\n",
    "</td>\n",
    "<td align=\"center\" valign=\"top\">19<br>\n",
    "</td>\n",
    "<td align=\"center\" valign=\"top\">(2,2)<br>\n",
    "</td>\n",
    "</tr>\n",
    "<tr>\n",
    "<td align=\"center\" valign=\"top\">4<br>\n",
    "</td>\n",
    "<td align=\"center\" valign=\"top\">(3,0)<br>\n",
    "</td>\n",
    "<td align=\"center\" valign=\"top\">12<br>\n",
    "</td>\n",
    "<td align=\"center\" valign=\"top\">(3,1)<br>\n",
    "</td>\n",
    "<td align=\"center\" valign=\"top\">20<br>\n",
    "</td>\n",
    "<td align=\"center\" valign=\"top\">(3,2)<br>\n",
    "</td>\n",
    "</tr>\n",
    "<tr>\n",
    "<td align=\"center\" valign=\"top\">5<br>\n",
    "</td>\n",
    "<td align=\"center\" valign=\"top\">(12,0)<br>\n",
    "</td>\n",
    "<td align=\"center\" valign=\"top\">13<br>\n",
    "</td>\n",
    "<td align=\"center\" valign=\"top\">(12,1)<br>\n",
    "</td>\n",
    "<td align=\"center\" valign=\"top\">21<br>\n",
    "</td>\n",
    "<td align=\"center\" valign=\"top\">(12,2)<br>\n",
    "</td>\n",
    "</tr>\n",
    "<tr>\n",
    "<td align=\"center\" valign=\"top\">6<br>\n",
    "</td>\n",
    "<td align=\"center\" valign=\"top\">(13,0)<br>\n",
    "</td>\n",
    "<td align=\"center\" valign=\"top\">14<br>\n",
    "</td>\n",
    "<td align=\"center\" valign=\"top\">(13,1)<br>\n",
    "</td>\n",
    "<td align=\"center\" valign=\"top\">22<br>\n",
    "</td>\n",
    "<td align=\"center\" valign=\"top\">(13,2)<br>\n",
    "</td>\n",
    "</tr>\n",
    "<tr>\n",
    "<td align=\"center\" valign=\"top\">7<br>\n",
    "</td>\n",
    "<td align=\"center\" valign=\"top\">(23,0)<br>\n",
    "</td>\n",
    "<td align=\"center\" valign=\"top\">15<br>\n",
    "</td>\n",
    "<td align=\"center\" valign=\"top\">(23,1)<br>\n",
    "</td>\n",
    "<td align=\"center\" valign=\"top\">23<br>\n",
    "</td>\n",
    "<td align=\"center\" valign=\"top\">(23,2)<br>\n",
    "</td>\n",
    "</tr>\n",
    "<tr>\n",
    "<td align=\"center\" valign=\"top\">8<br>\n",
    "</td>\n",
    "<td valign=\"top\">(123,0)<br>\n",
    "</td>\n",
    "<td align=\"center\" valign=\"top\">16<br>\n",
    "</td>\n",
    "<td align=\"center\" valign=\"top\">(123,1)<br>\n",
    "</td>\n",
    "<td align=\"center\" valign=\"top\">24<br>\n",
    "</td>\n",
    "<td align=\"center\" valign=\"top\">(123,2)<br>\n",
    "</td>\n",
    "</tr>\n",
    "<tr>\n",
    "<td colspan=\"4\" valign=\"top\"><br>\n",
    "</td>\n",
    "<td align=\"center\" valign=\"top\">25<br>\n",
    "</td>\n",
    "<td align=\"center\" valign=\"top\">(X,3)<br>\n",
    "</td>\n",
    "</tr>\n",
    "</tbody>\n",
    "</table>\n",
    "\n"
   ]
  },
  {
   "cell_type": "code",
   "execution_count": null,
   "metadata": {
    "collapsed": true
   },
   "outputs": [],
   "source": [
    "state=['(0,0)','(1,0)','(2,0)','(3,0)','(12,0)','(13,0)','(23,0)','(123,0)','(0,1)','(1,1)','(2,1)','(3,1)',\n",
    "      '(12,1)','(13,1)','(23,1)','(123,1)','(0,2)','(1,2)','(2,2)','(3,2)','(12,2)','(13,2)','(23,2)',\n",
    "       '(123,2)','(X,3)']"
   ]
  },
  {
   "cell_type": "markdown",
   "metadata": {
    "slideshow": {
     "slide_type": "subslide"
    }
   },
   "source": [
    "## Note1\n",
    "\n",
    "Not all the tansition from state $i$ to state $j$ could occur, i.e. there are some $p_{ij}=0$ for certain $i,j$.\n",
    "For instance, the transition from (0,0), state 1, to (0,2), state 17, is impossible.\n",
    "\n"
   ]
  },
  {
   "cell_type": "markdown",
   "metadata": {},
   "source": [
    "## Note 2\n",
    "\n",
    "Data from 2009 MLB postseason: there are 560 occurences for state 1, (0,0) and\n",
    "\n",
    "\n",
    "                    Times\n",
    "    (0,0) -> (0,0)    13\n",
    "             (1,0)   123\n",
    "             (2,0)    26\n",
    "             (3,0)     1\n",
    "             (0,1)   397\n",
    "\n",
    "This shows that \"triple\" (with probability 0.00179) is more difficult than home run (with probability 0.0232)!\n"
   ]
  },
  {
   "cell_type": "code",
   "execution_count": null,
   "metadata": {
    "collapsed": true
   },
   "outputs": [],
   "source": [
    "print(1/560.);print(13/560.)"
   ]
  },
  {
   "cell_type": "markdown",
   "metadata": {},
   "source": [
    "Question\n",
    "---\n",
    "\n",
    "a). What are the probability $p_{1,2},p_{1,3},p_{1,4}$ given by the data, in note2? What is the meaning of these results?<br>\n",
    "b). Is it possible, transition from state (1,2) to (1,2)? If yes, what happens?\n"
   ]
  },
  {
   "cell_type": "markdown",
   "metadata": {},
   "source": [
    "## Note 3\n",
    "\n",
    "State 25 means that it is an absorbing state, i,e. no more player while entering this state. \n",
    "Then $$ P=\\left(\\matrix{ A_{24\\times24} &B_{24\\times1}\\\\0_{1\\times24} &1}\\right)$$\n"
   ]
  },
  {
   "cell_type": "code",
   "execution_count": null,
   "metadata": {
    "collapsed": false,
    "slideshow": {
     "slide_type": "subslide"
    }
   },
   "outputs": [],
   "source": [
    "def printP(P):\n",
    "    l='<div align=\"center\"><small><small><small><small><table>';\n",
    "    row=P.shape[0]\n",
    "    col=P.shape[1]\n",
    "    i=j=k=0;\n",
    "    l=l+\"<tr><td> State/State </td>\"\n",
    "    for k in range(col):\n",
    "          k1=k+1\n",
    "          l=l+'<td><div align=\"center\">%s<br>%s</div></td>' % (k1,state[k])\n",
    "          k++1  \n",
    "    for i in range(1,row+1):\n",
    "        l=l+'<tr><td><div align=\"center\">%s %s</div></td>' %(i,state[i-1])\n",
    "        for j in range(1,col+1):\n",
    "            if (P[i-1,j-1]<1e-6):\n",
    "                P[i-1,j-1]=0\n",
    "            if ((P[i-1,j-1])==0): \n",
    "               l=l+\"<td> 0 </td>\"\n",
    "            else:\n",
    "               l=l+\"<td> %.3f </td>\" %(P[i-1,j-1]);\n",
    "            j++1\n",
    "        l=l+\"</tr>\"\n",
    "        i++1\n",
    "    l=l+\"</table></small></small></small></small></div>\"\n",
    "    return HTML(l)"
   ]
  },
  {
   "cell_type": "code",
   "execution_count": null,
   "metadata": {
    "collapsed": false,
    "slideshow": {
     "slide_type": "subslide"
    }
   },
   "outputs": [],
   "source": [
    "def printP2(P):\n",
    "    l='<div align=\"center\"><small><small><small><small><table>';\n",
    "    row=P.shape[0]\n",
    "    col=P.shape[1]\n",
    "    i=j=k=0;\n",
    "    l=l+\"<tr><td>State/State</td>\"\n",
    "    for k in range(col):\n",
    "          k1=k+1\n",
    "          l=l+'<td><div align=\"center\">%s<br>%s</div></td>' % (k1,state[k])\n",
    "          k++1  \n",
    "    for i in range(1,row+1):\n",
    "        l=l+'<tr><td><div align=\"center\">%s %s</div></td>' %(i,state[i-1])\n",
    "        for j in range(1,col+1):\n",
    "            if (P[i-1,j-1]<1e-6):\n",
    "                P[i-1,j-1]=0\n",
    "            l=l+\"<td> %.3f </td>\" %(P[i-1,j-1]);\n",
    "            j++1\n",
    "        l=l+\"</tr>\"\n",
    "        i++1\n",
    "    l=l+\"</table></small></small></small></small></div>\"\n",
    "    return HTML(l)"
   ]
  },
  {
   "cell_type": "markdown",
   "metadata": {},
   "source": [
    "## Transition matrix for 2009 MLB Postseason"
   ]
  },
  {
   "cell_type": "code",
   "execution_count": null,
   "metadata": {
    "collapsed": false
   },
   "outputs": [],
   "source": [
    "n=np.arange(1,26)\n",
    "P=np.matrix([[0.023,0.22,0.046,0.002,0.,0.,0.,0.,0.709,0.,0.,0.,0.,0.,0.,0.,0.,0.,0.,0.,0.,0.,0.,0.,0.]\n",
    "            ,[0.026,0.,0.035,0.,0.243,0.026,0.052,0.,0.,0.339,0.157,0.,0.,0.,0.,0.122,0.,0.,0.,0.,0.,0.,0.,0.,0.]\n",
    "            ,[0.,0.026,0.026,0.026,0.079,0.132,0.,0.,0.026,0.158,0.422,0.105,0.,0.,0.,0.,0.,0.,0.,0.,0.,0.,0.,0.,0.]\n",
    "            ,[0.,0.667,0.,0.,0.,0.,0.,0.,0.,0.,0.,0.333,0.,0.,0.,0.,0.,0.,0.,0.,0.,0.,0.,0.,0.] \n",
    "            ,[0.091,0.,0.,0.,0.030,0.061,0.030,0.061,0.,0.030,0.030,0.,0.303,0.091,0.152,0.,0.,0.,0.,0.121,0.,0.,0.,0.,0.] \n",
    "            ,[0.,0.,0.,0.,0.2,0.,0.1,0.2,0.,0.1,0.,0.,0.,0.3,0.,0.,0.1,0.,0.,0.,0.,0.,0.,0.,0.] \n",
    "            ,[0.,0.125,0.125,0.,0.,0.,0.,0.125,0.,0.,0.,0.125,0.,0.,0.5,0.,0.,0.,0.,0.,0.,0.,0.,0.,0.]             \n",
    "            ,[0.,0.,0.,0.,0.,0.,0.,0.286,0.,0.,0.,0.,0.,0.,0.,0.428,0.,0.,0.,0.,0.143,0.,0.143,0.,0.]  \n",
    "            ,[0.,0.,0.,0.,0.,0.,0.,0.,0.035,0.241,0.032,0.007,0.,0.,0.,0.,0.685,0.,0.,0.,0.,0.,0.,0.,0.] \n",
    "            ,[0.,0.,0.,0.,0.,0.,0.,0.,0.021,0.,0.007,0.,0.201,0.014,0.014,0.,0.,0.563,0.097,0.,0.,0.,0.,0.,0.083]              \n",
    "            ,[0.,0.,0.,0.,0.,0.,0.,0.,0.,0.069,0.028,0.,0.25,0.083,0.014,0.,0.,0.028,0.403,0.083,0.,0.,0.,0.,0.042]              \n",
    "            ,[0.,0.,0.,0.,0.,0.,0.,0.,0.071,0.286,0.143,0.,0.,0.143,0.,0.,0.215,0.,0.071,0.071,0.,0.,0.,0.,0.]              \n",
    "            ,[0.,0.,0.,0.,0.,0.,0.,0.,0.,0.,0.062,0.,0.062,0.,0.016,0.125,0.,0.,0.,0.016,0.406,0.094,0.094,0.,0.125] \n",
    "            ,[0.,0.,0.,0.,0.,0.,0.,0.,0.056,0.,0.,0.056,0.11,0.,0.,0.111,0.,0.278,0.167,0.,0.,0.222,0.,0.,0.]   \n",
    "            ,[0.,0.,0.,0.,0.,0.,0.,0.,0.067,0.067,0.,0.,0.,0.067,0.,0.333,0.,0.,0.067,0.2,0.,0.067,0.132,0.,0.]                                        \n",
    "            ,[0.,0.,0.,0.,0.,0.,0.,0.,0.,0.,0.,0.,0.091,0.,0.,0.182,0.,0.,0.0,0.,0.045,0.045,0.045,0.455,0.137]                                        \n",
    "            ,[0.,0.,0.,0.,0.,0.,0.,0.,0.,0.,0.,0.,0.,0.,0.,0.,0.039,0.232,0.054,0.006,0.,0.,0.,0.,0.669] \n",
    "            ,[0.,0.,0.,0.,0.,0.,0.,0.,0.,0.,0.,0.,0.,0.,0.,0.,0.039,0.,0.039,0.013,0.161,0.052,0.032,0.,0.664]                                                     \n",
    "            ,[0.,0.,0.,0.,0.,0.,0.,0.,0.,0.,0.,0.,0.,0.,0.,0.,0.02,0.102,0.02,0.01,0.225,0.02,0.,0.,0.603]\n",
    "            ,[0.,0.,0.,0.,0.,0.,0.,0.,0.,0.,0.,0.,0.,0.,0.,0.,0.,0.167,0.,0.,0.042,0.125,0.,0.,0.666]\n",
    "            ,[0.,0.,0.,0.,0.,0.,0.,0.,0.,0.,0.,0.,0.,0.,0.,0.,0.012,0.,0.059,0.024,0.071,0.035,0.024,0.129,0.646]\n",
    "            ,[0.,0.,0.,0.,0.,0.,0.,0.,0.,0.,0.,0.,0.,0.,0.,0.,0.,0.,0.043,0.,0.088,0.,0.043,0.13,0.696]\n",
    "            ,[0.,0.,0.,0.,0.,0.,0.,0.,0.,0.,0.,0.,0.,0.,0.,0.,0.,0.091,0.,0.,0.,0.045,0.045,0.319,0.5]\n",
    "            ,[0.,0.,0.,0.,0.,0.,0.,0.,0.,0.,0.,0.,0.,0.,0.,0.,0.,0.,0.029,0.,0.086,0.,0.029,0.142,0.714]\n",
    "            ,[0.,0.,0.,0.,0.,0.,0.,0.,0.,0.,0.,0.,0.,0.,0.,0.,0.,0.,0.,0.,0.,0.,0.,0.,1.]                       \n",
    "            ])\n",
    "printP(P)"
   ]
  },
  {
   "cell_type": "code",
   "execution_count": null,
   "metadata": {
    "collapsed": false
   },
   "outputs": [],
   "source": [
    "sum(np.transpose(P))\n"
   ]
  },
  {
   "cell_type": "code",
   "execution_count": null,
   "metadata": {
    "collapsed": false
   },
   "outputs": [],
   "source": [
    "P100=P**(4)\n",
    "printP(P100)"
   ]
  },
  {
   "cell_type": "markdown",
   "metadata": {},
   "source": [
    "## Facts\n",
    "\n",
    "1. $$P^2=\\left(\\matrix{ A_{24\\times24} &B_{24\\times1}\\\\0_{1\\times24} &1}\\right)\n",
    "         \\left(\\matrix{ A_{24\\times24} &B_{24\\times1}\\\\0_{1\\times24} &1}\\right)\n",
    "        =\\left(\\matrix{&A^2 ,&(I+A)B \\cr &0 ,&I}\\right) \\\\\n",
    "     P^n=\\left(\\matrix{&A^n ,&(I+A+\\cdots+A^{n-1})B \\cr &0 ,&I}\\right)\n",
    "   $$\n",
    "2. Fundamental matrix $W=(I-A)^{-1}$\n",
    "   $$\\lim_{n\\to\\infty}P^n=\\left(\\matrix{&0_{24\\times24} ,&W B \\cr &0 ,&I}\\right)$$"
   ]
  },
  {
   "cell_type": "markdown",
   "metadata": {},
   "source": [
    "## How many are there hitters until the game over?\n",
    "\n",
    "From the definition of $A_{24\\times24}$, \n",
    "- $ 1\\cdot A^0_{ij}$: the run of hitter himself,\n",
    "- $ 1\\cdot A_{ij}$:  one more hit and transtion from $i$-state to $j$-state,\n",
    "- $ 1\\cdot A^2_{ij}$:  two more hits and transtion from $i$-state to $j$-state,\n",
    "\n",
    "and so on. Thus,  the expected sum of hitters from $i$-state to $j$-states is\n",
    "\n",
    "$$ 1\\cdot A^0_{ij}+1\\cdot A_{ij}+1\\cdot A^2_{ij}+1\\cdot A^3_{ij}+\\cdots = W_{ij}$$\n"
   ]
  },
  {
   "cell_type": "markdown",
   "metadata": {
    "collapsed": false,
    "slideshow": {
     "slide_type": "subslide"
    }
   },
   "source": [
    "## Fundamental Matrix $W$\n",
    "\n",
    "$$W=I_n+A+A^2+\\cdots=\\frac{1}{I_n-A}$$\n",
    "\n",
    "In other words, $W$ brings the infomation when the game is over. By Neumann theorem, W (sum of infinite matrices) exists since $||A||<1$ and it is easy to calulate the inverse of matrix by linalg submodule in numpy:"
   ]
  },
  {
   "cell_type": "code",
   "execution_count": null,
   "metadata": {
    "collapsed": false
   },
   "outputs": [],
   "source": [
    "from numpy.linalg import inv\n",
    "I24=np.identity(24)\n",
    "A,B=P[0:24,0:24],P[:24,24:25]\n",
    "W=inv(I24-A)\n"
   ]
  },
  {
   "cell_type": "code",
   "execution_count": null,
   "metadata": {
    "collapsed": false
   },
   "outputs": [],
   "source": [
    "printP(W)"
   ]
  },
  {
   "cell_type": "markdown",
   "metadata": {},
   "source": [
    "Meaning of $W$\n",
    "---\n",
    "- $W_{1,1}=1.036$, no one on base and one out: the interger <b>1</b> is just the hitter himself, and the additional part, <b>.036</b>, is contributed by hitting the homerun. \n",
    "- $W_{1,2}=0.234$, one-base hit\n",
    "- $W_{1,3}=0.059$, two-base hit \n",
    "\n",
    "and so on."
   ]
  },
  {
   "cell_type": "markdown",
   "metadata": {},
   "source": [
    "## Sum of each row of $W$\n",
    "While at $i_0$-state,\n",
    "\n",
    "$W_{i_0,j}$: expected number of hitters from $i_0$-state to $j$-state during same half-inning,  \n",
    "\n",
    "$\\sum_{j=1}^{24} W_{i_0,j}$: total expected numbers of hitters from $i_0$-state to end of half-inning."
   ]
  },
  {
   "cell_type": "code",
   "execution_count": null,
   "metadata": {
    "collapsed": false,
    "slideshow": {
     "slide_type": "subslide"
    }
   },
   "outputs": [],
   "source": [
    "def printW(P):\n",
    "    l='<div align=\"center\"><table>';\n",
    "    row=P.shape[0]\n",
    "    col=P.shape[1]\n",
    "    i=j=k=0;\n",
    "    l=l+\"<tr>\"\n",
    "    for k in range(3):\n",
    "          k1=k+1\n",
    "          l=l+'<th><div align=\"center\">State</div></th>' \n",
    "          l=l+'<th><div align=\"center\">Expected Hitters</div></th>'\n",
    "          k++1\n",
    "    l=l+'</tr>'    \n",
    "    for i in range(1,int((row+1)/3)+1):\n",
    "        l=l+'<tr><td><div align=\"center\">%s %s (%d out)</div></td>' %(i,state[i-1],np.float((i-1)/8))\n",
    "        for j in range(1,col+1):\n",
    "            if (P[i-1,j-1]<1e-6):\n",
    "                P[i-1,j-1]=0\n",
    "            l=l+'<td><div align=\"center\"> %.3f </div></td>' %(P[i-1,j-1]);\n",
    "            j++1\n",
    "        l=l+'<td><div align=\"center\">%s %s (%d out)</div></td>' %(8+i,state[8+i-1],np.float((8+i-1)/8))\n",
    "        for j in range(1,col+1):\n",
    "            if (P[i-1,j-1]<1e-6):\n",
    "                P[i-1,j-1]=0\n",
    "            l=l+'<td><div align=\"center\"> %.3f </div></td>' %(P[8+i-1,j-1]);\n",
    "            j++1\n",
    "        l=l+'<td><div align=\"center\">%s %s (%d out)</div></td>' %(16+i,state[16+i-1],np.float((16+i-1)/8))\n",
    "        for j in range(1,col+1):\n",
    "            if (P[i-1,j-1]<1e-6):\n",
    "                P[i-1,j-1]=0\n",
    "            l=l+'<td><div align=\"center\"> %.3f </div></td>' %(P[16+i-1,j-1]);\n",
    "            j++1\n",
    "        l=l+\"</tr>\"\n",
    "        i++1\n",
    "    l=l+\"</table></div>\"\n",
    "    return HTML(l)"
   ]
  },
  {
   "cell_type": "code",
   "execution_count": null,
   "metadata": {
    "collapsed": false
   },
   "outputs": [],
   "source": [
    "printW(sum(W.transpose()).transpose())"
   ]
  },
  {
   "cell_type": "markdown",
   "metadata": {},
   "source": [
    "## Discussion\n",
    "\n",
    "$$\\sum_{j}W_{7,j}=4.546, \\sum_{j}W_{15,j}=3.169, \\sum_{j} W_{24,j}=1.433$$\n",
    "\n",
    "- $\\sum_{j}W_{7,j}$: there are 4.546 hitters expected until the half inning over while two teamers are on bases 2 and 3 respectively.\n",
    "- $\\sum_{j}W_{15,j}$: : there are 3.169 hitters expected until the half inning over after 1 out while two teamers are on bases 2 and 3 respectively.\n",
    "- $\\sum_{j}W_{24,j}$: : there are only 1.433 hitters expected until the half inning over after 2 out but three teamers are on bases 1, 2 and 3 respectively."
   ]
  },
  {
   "cell_type": "markdown",
   "metadata": {},
   "source": [
    "## Problems\n",
    "\n",
    "1). How many would hitter be in half inn from the following data (2009 postseason)?<br>\n",
    "2). Suppose that during of the fifth half-inning, the team A is still two runs behind but there are two runners on base 2 and 3 . Now the pitcher is at bat next. How do you to make decision if you were the manager? \n"
   ]
  },
  {
   "cell_type": "markdown",
   "metadata": {},
   "source": [
    "## Another Interesting Concern\n",
    "\n",
    "The most concerned is \n",
    "```\n",
    "How about the expected final score?\n",
    "```\n",
    "For instance, the expected score for state 10 (1,1), after one run can be calculated  by the following:\n",
    "$$ R_{1,1}^{1s}=1\\times P_{1,1}+0\\times(1-P_{1,1})=0.023$$\n",
    "i.e. home run in this case."
   ]
  },
  {
   "cell_type": "markdown",
   "metadata": {},
   "source": [
    "## Example\n",
    " \n",
    "The case of one step from state 18 (1.2), one on base and 2 outs:\n",
    "\n",
    "                Next State    score(s)\n",
    "     18 (1,2)    17 (0,2)        2\n",
    "                 18 (1,2)        1\n",
    "                 19 (2,2)        1\n",
    "                 20 (3,2)        1\n",
    " \n",
    "other steps get zero. And the Expected score is:\n",
    "$$ R_{18,1}^{1s}= 2\\times P_{18,17}+1\\times (P_{18,18}+P_{18,19}+P_{18,20})=0.13$$"
   ]
  },
  {
   "cell_type": "markdown",
   "metadata": {},
   "source": [
    "## Matrix $R^{1s}$\n",
    "---\n",
    "\n",
    " $R^{1s}_{i,j}$: the expected scoring from $i$-state to $j$-state after 1 run."
   ]
  },
  {
   "cell_type": "code",
   "execution_count": null,
   "metadata": {
    "collapsed": true
   },
   "outputs": [],
   "source": [
    "R=np.matrix([[0.023],[0.087],[0.105],[0.667],[0.455],[0.5],[0.625],[0.286],\n",
    "             [0.035],[0.049],[0.097],[0.786],[0.219],[0.833],[0.667],[0.5],\n",
    "             [0.039],[0.129],[0.173],[0.167],[0.329],[0.217],[0.273],[0.457]])"
   ]
  },
  {
   "cell_type": "code",
   "execution_count": null,
   "metadata": {
    "collapsed": false
   },
   "outputs": [],
   "source": [
    "printWR(R)"
   ]
  },
  {
   "cell_type": "markdown",
   "metadata": {},
   "source": [
    "## Run Potential Matrix\n",
    "\n",
    "$$RP=W\\times R=(W_{i,j})(R^{1s}_{j,1})$$\n",
    "\n",
    "Intrincally, \n",
    "\n",
    "<b>Expected scores in one game = expected hitters $\\times$ expected scores</b>\n"
   ]
  },
  {
   "cell_type": "markdown",
   "metadata": {},
   "source": [
    "## Data of $W\\times R$   "
   ]
  },
  {
   "cell_type": "code",
   "execution_count": null,
   "metadata": {
    "collapsed": false,
    "slideshow": {
     "slide_type": "subslide"
    }
   },
   "outputs": [],
   "source": [
    "def printWR(P):\n",
    "    l='<div align=\"center\"><table>';\n",
    "    row=P.shape[0]\n",
    "    col=P.shape[1]\n",
    "    i=j=k=0;\n",
    "    l=l+\"<tr>\"\n",
    "    for k in range(3):\n",
    "          k1=k+1\n",
    "          l=l+\"<th>State/Scores</th>\"  \n",
    "          l=l+'<th><div align=\"center\">Expected Scores</div></th>'\n",
    "          k++1\n",
    "    l=l+'</tr>'    \n",
    "    for i in range(1,int((row+1)/3)+1):\n",
    "        l=l+'<tr><td><div align=\"center\">%s %s (%d out)</div></td>' %(i,state[i-1],np.float((i-1)/8))\n",
    "        for j in range(1,col+1):\n",
    "            if (P[i-1,j-1]<1e-6):\n",
    "                P[i-1,j-1]=0\n",
    "            l=l+'<td><div align=\"center\"> %.3f </div></td>' %(P[i-1,j-1]);\n",
    "            j++1\n",
    "        l=l+'<td><div align=\"center\">%s %s (%d out)</div></td>' %(8+i,state[8+i-1],np.float((8+i-1)/8))\n",
    "        for j in range(1,col+1):\n",
    "            if (P[i-1,j-1]<1e-6):\n",
    "                P[i-1,j-1]=0\n",
    "            l=l+'<td><div align=\"center\"> %.3f </div></td>' %(P[8+i-1,j-1]);\n",
    "            j++1\n",
    "        l=l+'<td><div align=\"center\">%s %s (%d out)</div></td>' %(16+i,state[16+i-1],np.float((16+i-1)/8))\n",
    "        for j in range(1,col+1):\n",
    "            if (P[i-1,j-1]<1e-6):\n",
    "                P[i-1,j-1]=0\n",
    "            l=l+'<td><div align=\"center\"> %.3f </div></td>' %(P[16+i-1,j-1]);\n",
    "            j++1\n",
    "        l=l+\"</tr>\"\n",
    "        i++1\n",
    "    l=l+\"</table></div>\"\n",
    "    return HTML(l)"
   ]
  },
  {
   "cell_type": "code",
   "execution_count": null,
   "metadata": {
    "collapsed": false
   },
   "outputs": [],
   "source": [
    "printWR(W*R)"
   ]
  },
  {
   "cell_type": "markdown",
   "metadata": {},
   "source": [
    "## Tseng's Playbook\n",
    "\n",
    "曾紀恩被人所熟知的戰術 : 在無人出局一壘有人的狀態下,命令打者以犧牲短打來將跑者送到二壘。二壘有人一出局後的兩個打席,若有一支安打就有機會得分。相對地,無人出局一壘有人,想要得分,好像要在三個打席中出現兩支安打才行。\n",
    "\n",
    "Is it reasonable?\n",
    "\n",
    "Answer: Tseng's playbook gets 0.628 (**RP(2,1)**, 1 0ut and one on two base) smarller than 0.997 (**RP(1,0)**, no out and one on base 1). "
   ]
  },
  {
   "cell_type": "markdown",
   "metadata": {
    "collapsed": true
   },
   "source": [
    "Discrete-time Markov chain Simulation\n",
    "---\n",
    "Suppose that we have some results about Markov chains, how could we confirm these facts by experiments? For instance, to describe the fact about the drunkard falling valley, should we let them to test?\n",
    "\n",
    "Monte-Carlo simulation of Markov Chain (MCMC) can take over the risk to make experiment safely, at least no one hurt."
   ]
  },
  {
   "cell_type": "markdown",
   "metadata": {},
   "source": [
    "Drunkard Example Revisit\n",
    "---\n"
   ]
  },
  {
   "cell_type": "code",
   "execution_count": 2,
   "metadata": {
    "collapsed": true
   },
   "outputs": [],
   "source": [
    "%matplotlib inline\n",
    "import matplotlib.pylab as plt"
   ]
  },
  {
   "cell_type": "markdown",
   "metadata": {},
   "source": [
    " Initially, at $x=5$ and begin the test. "
   ]
  },
  {
   "cell_type": "code",
   "execution_count": 3,
   "metadata": {
    "collapsed": true
   },
   "outputs": [],
   "source": [
    "N=10\n",
    "nsteps = 100\n",
    "x = np.zeros(nsteps)\n",
    "x[0] = 5"
   ]
  },
  {
   "cell_type": "markdown",
   "metadata": {},
   "source": [
    "Go left if the random uniform data $<0.5$ otherwise go right."
   ]
  },
  {
   "cell_type": "code",
   "execution_count": null,
   "metadata": {
    "collapsed": false
   },
   "outputs": [],
   "source": [
    "for t in range(nsteps - 1):\n",
    "    if 0 < x[t] < N:\n",
    "        if (np.random.rand()>0.5):\n",
    "            x[t+1] = x[t]+1           \n",
    "        else:\n",
    "            x[t+1] = x[t]-1\n",
    "    elif x[t]==0:\n",
    "         x[t+1]=x[t]+1        \n",
    "    # The evolution stops if we reach $N$.\n",
    "    else:\n",
    "        x[t+1] = x[t]"
   ]
  },
  {
   "cell_type": "code",
   "execution_count": null,
   "metadata": {
    "collapsed": false
   },
   "outputs": [],
   "source": [
    "plt.figure(figsize=(6,3));\n",
    "plt.ylim(0,10)\n",
    "plt.step(range(len(x)),x);"
   ]
  },
  {
   "cell_type": "markdown",
   "metadata": {},
   "source": [
    "Note\n",
    "---\n",
    "Have you notice that\n",
    "```\n",
    "The simulated trajectory of drunkward is differecnt at each experiment even at same intial position. \n",
    "```"
   ]
  },
  {
   "cell_type": "markdown",
   "metadata": {},
   "source": [
    "\n",
    "One hundred drunkwards are at randomly generated positions\n"
   ]
  },
  {
   "cell_type": "code",
   "execution_count": 4,
   "metadata": {
    "collapsed": false
   },
   "outputs": [],
   "source": [
    "def BDMC(x0,N=10,nsteps=1000):\n",
    "    x = np.zeros(nsteps)\n",
    "    x[0] = x0\n",
    "    for t in range(nsteps - 1):\n",
    "        if 0 < x[t] < N:\n",
    "           if (np.random.rand()>0.5):\n",
    "              x[t+1] = x[t]+1\n",
    "           else:\n",
    "              x[t+1] = x[t]-1\n",
    "        elif x[t]==0:\n",
    "             x[t+1]=x[t]+1\n",
    "        else:\n",
    "           x[t+1] = x[t]\n",
    "    plt.figure(figsize=(6,3));\n",
    "    plt.step(range(len(x)),x);\n",
    "    plt.ylim(0,N)\n",
    "    return x"
   ]
  },
  {
   "cell_type": "code",
   "execution_count": null,
   "metadata": {
    "collapsed": false
   },
   "outputs": [],
   "source": [
    "y=BDMC(4,nsteps=100)"
   ]
  },
  {
   "cell_type": "markdown",
   "metadata": {},
   "source": [
    "Continued\n",
    "---\n",
    "```\n",
    "One experiment (especially by computer simulation) says nothing at all.\n",
    "```\n",
    "\n",
    "\n",
    "\n",
    "Now, we will simulate many independent trials of this Markov chain. We could run the previous simulation with a loop, but it would be very slow (two nested for loops). Instead, we vectorize the simulation by considering all independent trials at once. There is a single loop over time. At every time step, we update all trials simultaneously with vectorized operations on vectors. The vector **x** now contains the initial position of all trials, at a particular time. At initialization time, the initial positions are set to random numbers between 0 and $N$."
   ]
  },
  {
   "cell_type": "code",
   "execution_count": 5,
   "metadata": {
    "collapsed": false
   },
   "outputs": [
    {
     "data": {
      "text/plain": [
       "array([ 8,  7,  4,  9,  5,  0,  5,  8,  2,  0,  6,  5,  6, 10,  9,  5,  9,\n",
       "        8,  1,  3,  3,  5,  2,  0, 10,  4,  4,  4, 10,  2,  7,  4, 10,  2,\n",
       "        4,  6,  8,  2,  0,  6,  7,  8,  2, 10,  1,  5,  7,  8,  1,  1, 10,\n",
       "        2,  6,  6,  3, 10,  3,  4,  4,  3,  8,  7, 10,  5,  9,  4,  2,  5,\n",
       "        1,  9,  6,  9,  1,  4,  0,  2,  9,  0,  7,  4,  2,  7,  8,  4,  4,\n",
       "       10,  2,  8,  2,  2,  8,  5,  6,  3,  9,  2,  6, 10,  2,  6])"
      ]
     },
     "execution_count": 5,
     "metadata": {},
     "output_type": "execute_result"
    }
   ],
   "source": [
    "# generated initial positions of all trials\n",
    "ntrials = 100\n",
    "x = np.random.randint(size=ntrials, \n",
    "                      low=0, high=N+1)\n",
    "x"
   ]
  },
  {
   "cell_type": "code",
   "execution_count": 12,
   "metadata": {
    "collapsed": false
   },
   "outputs": [],
   "source": [
    "def simulate(x, nsteps):\n",
    "    \"\"\"Run the simulation.\"\"\"\n",
    "    for _ in range(nsteps - 1):\n",
    "        # Which trials to update?\n",
    "        upd = (0 < x) & (x < N)\n",
    "        # In which trials go right\n",
    "        right = 1*(np.random.rand(ntrials)>0.5)\n",
    "        # In which trialsgo left\n",
    "        left = 1*(np.random.rand(ntrials)<0.5)\n",
    "        # We update position for all trials.\n",
    "        x[upd] += right[upd] - left[upd]\n",
    "        upd0 =(x==0)\n",
    "        \n",
    "        x[upd0] +=1\n",
    "    return x    "
   ]
  },
  {
   "cell_type": "code",
   "execution_count": null,
   "metadata": {
    "collapsed": true
   },
   "outputs": [],
   "source": [
    "bins = np.linspace(0, N, 20);"
   ]
  },
  {
   "cell_type": "code",
   "execution_count": null,
   "metadata": {
    "collapsed": false
   },
   "outputs": [],
   "source": [
    "plt.figure(figsize=(16,4));\n",
    "nsteps_list = [10,100,1000]\n",
    "x = np.random.randint(size=ntrials, \n",
    "                      low=0, high=N+1)\n",
    "z=x/ntrials\n",
    "plt.subplot(1, len(nsteps_list)+1, 1);\n",
    "plt.hist(x, bins=bins);\n",
    "plt.title(\"Initial positions of 100 trials\");\n",
    "plt.xlim(0,10)\n",
    "plt.ylim(0,100)\n",
    "plt.ylabel(\"Number of Trials\");\n",
    "for i, nsteps in enumerate(nsteps_list):\n",
    "    plt.subplot(1, len(nsteps_list)+1, i + 2);\n",
    "    y=simulate(x, nsteps)\n",
    "    plt.hist(y, bins=bins);\n",
    "    #plt.step(x)\n",
    "    plt.xlim(0,10)\n",
    "    plt.ylim(0,100)\n",
    "    plt.xlabel(\"Distribution of States\");\n",
    "    #if i == 0:\n",
    "    #    plt.ylabel(\"number of trials\");\n",
    "    plt.title(\"After {0:d} steps\".format(nsteps));"
   ]
  },
  {
   "cell_type": "markdown",
   "metadata": {
    "collapsed": true
   },
   "source": [
    "Eventually, drunkward (  &nbsp;  &nbsp;   &nbsp;   &nbsp;    )."
   ]
  },
  {
   "cell_type": "markdown",
   "metadata": {
    "collapsed": true
   },
   "source": [
    "Computer Practice\n",
    "---\n",
    "Suppose that stetps, 0 and 10, represent faiiling down the valley. Make a experiment for 200 drunkwards as above. \n",
    "\n",
    "Challenge\n",
    "---\n",
    "Before the drunkward falling the valley, how many do he walk around? "
   ]
  },
  {
   "cell_type": "code",
   "execution_count": 6,
   "metadata": {
    "collapsed": true
   },
   "outputs": [],
   "source": [
    "from matplotlib import animation\n",
    "from JSAnimation import IPython_display\n",
    "#from ipywidgets import interactive\n",
    "import matplotlib.patches as patches\n",
    "import matplotlib.path as path"
   ]
  },
  {
   "cell_type": "code",
   "execution_count": 9,
   "metadata": {
    "collapsed": false
   },
   "outputs": [
    {
     "data": {
      "image/png": "[encoded data removed]",
      "text/plain": [
       "<matplotlib.figure.Figure at 0x108388588>"
      ]
     },
     "metadata": {},
     "output_type": "display_data"
    }
   ],
   "source": [
    "x = np.random.randint(size=ntrials, \n",
    "                      low=0, high=N+1)\n",
    "anim = plt.figure(figsize=(6,6))\n",
    "bins = np.linspace(0, N, 20);\n",
    "ax = anim.add_subplot(111)\n",
    "ax.set_title(\"Drunkward's Walking\",fontsize=14)\n",
    "\n",
    "ax.hist(x, bins=bins);\n",
    "plt.title(\"Initial positions of 100 trials\");\n",
    "plt.xlim(-1,11)\n",
    "plt.ylim(0,100)\n",
    "plt.ylabel(\"Number of Trials\");\n",
    "\n",
    "def init():\n",
    "    return None\n",
    "def animate(i):\n",
    "    y=simulate(x, 5*i)\n",
    "    result=ax.hist(y, bins=bins);\n",
    "    return result,\n"
   ]
  },
  {
   "cell_type": "code",
   "execution_count": 66,
   "metadata": {
    "collapsed": false
   },
   "outputs": [
    {
     "data": {
      "image/png": "[encoded data removed]",
      "text/plain": [
       "<matplotlib.figure.Figure at 0x10ccdca90>"
      ]
     },
     "metadata": {},
     "output_type": "display_data"
    }
   ],
   "source": [
    "x = np.random.randint(size=ntrials, \n",
    "                      low=0, high=N+1)\n",
    "alpha1 =0.05\n",
    "anim = plt.figure(figsize=(6,6))\n",
    "ax = anim.add_subplot(111)\n",
    "ax.set_title(\"Drunkward's Walking\",fontsize=14)\n",
    "\n",
    "ax.hist(x, bins=bins,alpha=alpha1);\n",
    "\n",
    "plt.title(\"Initial positions of 100 trials\");\n",
    "plt.xlim(0,10)\n",
    "plt.ylim(0,100)\n",
    "plt.ylabel(\"Number of Trials\");\n",
    "\n",
    "def init():\n",
    "    return None\n",
    "def animate(i,alpha1=0.4):\n",
    "    y=simulate(x, 5*i)\n",
    "    # refresh the display\n",
    "    ax.cla()    \n",
    "    results=ax.hist(y, bins=bins,alpha=alpha1);\n",
    "    # ax.xlim(0,10)\n",
    "    ax.set_title(\"Drunkward's Walking\",fontsize=14)\n",
    "    ax.set_ylabel(\"Number of Trials\");\n",
    "    ax.set_ylim(0,100)\n",
    "    return results,\n"
   ]
  },
  {
   "cell_type": "code",
   "execution_count": 67,
   "metadata": {
    "collapsed": false
   },
   "outputs": [
    {
     "data": {
      "text/html": [
       "\n",
       "<script language=\"javascript\">\n",
       "  /* Define the Animation class */\n",
       "  function Animation(frames, img_id, slider_id, interval, loop_select_id){\n",
       "    this.img_id = img_id;\n",
       "    this.slider_id = slider_id;\n",
       "    this.loop_select_id = loop_select_id;\n",
       "    this.interval = interval;\n",
       "    this.current_frame = 0;\n",
       "    this.direction = 0;\n",
       "    this.timer = null;\n",
       "    this.frames = new Array(frames.length);\n",
       "\n",
       "    for (var i=0; i<frames.length; i++)\n",
       "    {\n",
       "     this.frames[i] = new Image();\n",
       "     this.frames[i].src = frames[i];\n",
       "    }\n",
       "    document.getElementById(this.slider_id).max = this.frames.length - 1;\n",
       "    this.set_frame(this.current_frame);\n",
       "  }\n",
       "\n",
       "  Animation.prototype.get_loop_state = function(){\n",
       "    var button_group = document[this.loop_select_id].state;\n",
       "    for (var i = 0; i < button_group.length; i++) {\n",
       "        var button = button_group[i];\n",
       "        if (button.checked) {\n",
       "            return button.value;\n",
       "        }\n",
       "    }\n",
       "    return undefined;\n",
       "  }\n",
       "\n",
       "  Animation.prototype.set_frame = function(frame){\n",
       "    this.current_frame = frame;\n",
       "    document.getElementById(this.img_id).src = this.frames[this.current_frame].src;\n",
       "    document.getElementById(this.slider_id).value = this.current_frame;\n",
       "  }\n",
       "\n",
       "  Animation.prototype.next_frame = function()\n",
       "  {\n",
       "    this.set_frame(Math.min(this.frames.length - 1, this.current_frame + 1));\n",
       "  }\n",
       "\n",
       "  Animation.prototype.previous_frame = function()\n",
       "  {\n",
       "    this.set_frame(Math.max(0, this.current_frame - 1));\n",
       "  }\n",
       "\n",
       "  Animation.prototype.first_frame = function()\n",
       "  {\n",
       "    this.set_frame(0);\n",
       "  }\n",
       "\n",
       "  Animation.prototype.last_frame = function()\n",
       "  {\n",
       "    this.set_frame(this.frames.length - 1);\n",
       "  }\n",
       "\n",
       "  Animation.prototype.slower = function()\n",
       "  {\n",
       "    this.interval /= 0.7;\n",
       "    if(this.direction > 0){this.play_animation();}\n",
       "    else if(this.direction < 0){this.reverse_animation();}\n",
       "  }\n",
       "\n",
       "  Animation.prototype.faster = function()\n",
       "  {\n",
       "    this.interval *= 0.7;\n",
       "    if(this.direction > 0){this.play_animation();}\n",
       "    else if(this.direction < 0){this.reverse_animation();}\n",
       "  }\n",
       "\n",
       "  Animation.prototype.anim_step_forward = function()\n",
       "  {\n",
       "    this.current_frame += 1;\n",
       "    if(this.current_frame < this.frames.length){\n",
       "      this.set_frame(this.current_frame);\n",
       "    }else{\n",
       "      var loop_state = this.get_loop_state();\n",
       "      if(loop_state == \"loop\"){\n",
       "        this.first_frame();\n",
       "      }else if(loop_state == \"reflect\"){\n",
       "        this.last_frame();\n",
       "        this.reverse_animation();\n",
       "      }else{\n",
       "        this.pause_animation();\n",
       "        this.last_frame();\n",
       "      }\n",
       "    }\n",
       "  }\n",
       "\n",
       "  Animation.prototype.anim_step_reverse = function()\n",
       "  {\n",
       "    this.current_frame -= 1;\n",
       "    if(this.current_frame >= 0){\n",
       "      this.set_frame(this.current_frame);\n",
       "    }else{\n",
       "      var loop_state = this.get_loop_state();\n",
       "      if(loop_state == \"loop\"){\n",
       "        this.last_frame();\n",
       "      }else if(loop_state == \"reflect\"){\n",
       "        this.first_frame();\n",
       "        this.play_animation();\n",
       "      }else{\n",
       "        this.pause_animation();\n",
       "        this.first_frame();\n",
       "      }\n",
       "    }\n",
       "  }\n",
       "\n",
       "  Animation.prototype.pause_animation = function()\n",
       "  {\n",
       "    this.direction = 0;\n",
       "    if (this.timer){\n",
       "      clearInterval(this.timer);\n",
       "      this.timer = null;\n",
       "    }\n",
       "  }\n",
       "\n",
       "  Animation.prototype.play_animation = function()\n",
       "  {\n",
       "    this.pause_animation();\n",
       "    this.direction = 1;\n",
       "    var t = this;\n",
       "    if (!this.timer) this.timer = setInterval(function(){t.anim_step_forward();}, this.interval);\n",
       "  }\n",
       "\n",
       "  Animation.prototype.reverse_animation = function()\n",
       "  {\n",
       "    this.pause_animation();\n",
       "    this.direction = -1;\n",
       "    var t = this;\n",
       "    if (!this.timer) this.timer = setInterval(function(){t.anim_step_reverse();}, this.interval);\n",
       "  }\n",
       "</script>\n",
       "\n",
       "<div class=\"animation\" align=\"center\">\n",
       "    <img id=\"_anim_imgHJSIROOPPJGEMWGX\">\n",
       "    <br>\n",
       "    <input id=\"_anim_sliderHJSIROOPPJGEMWGX\" type=\"range\" style=\"width:350px\" name=\"points\" min=\"0\" max=\"1\" step=\"1\" value=\"0\" onchange=\"animHJSIROOPPJGEMWGX.set_frame(parseInt(this.value));\"></input>\n",
       "    <br>\n",
       "    <button onclick=\"animHJSIROOPPJGEMWGX.slower()\">&#8211;</button>\n",
       "    <button onclick=\"animHJSIROOPPJGEMWGX.first_frame()\"><img class=\"anim_icon\" src=\"data:image/png;base64,iVBORw0KGgoAAAANSUhEUgAAABQAAAAUCAQAAAAngNWGAAAAAXNSR0IArs4c6QAAAAJiS0dEAP+Hj8y/AAAACXBIWXMAAAsTAAALEwEAmpwYAAAAB3RJTUUH3QURCAgaeZk4EQAAASlJREFUKM/dkj9LQnEUhp9zr3bpj1uBcKGiJWxzLWivKAIRjIhcCqcgqJbKRagPICiVSVEuNTu0tLYGUg4tkRGUdxLJ0u79Ndxr5FfwTO/L+xzO4XCgO+v2T70AFU+/A/Dhmlzg6Pr0DKAMwOH4zQxAAbAkv2xNeF2RoQUVc1ytgttXUbWVdN1dOPE8pz4j4APQsdFtKA0WY6vpKjqvVciHnvZTS6Ja4HgggJLs7MHxl9nCh8NYcO+iGG0agiaC4h9oa6Vsw2yiK+QHSZT934YoEQABNBcTNDszsrhm1m1B+bFS86PT6QFppx6oeSaeOwlMXRp1h4aK13Y2kuHhUo9ykPboPvFjeEvsrhTMt3ylHyB0r8KZyYdCrbfj4OveoHMANjuyx+76rV+/blxKMZUnLgAAAABJRU5ErkJggg==\"></button>\n",
       "    <button onclick=\"animHJSIROOPPJGEMWGX.previous_frame()\"><img class=\"anim_icon\" src=\"data:image/png;base64,iVBORw0KGgoAAAANSUhEUgAAABQAAAAUCAQAAAAngNWGAAAAAXNSR0IArs4c6QAAAAJiS0dEAP+Hj8y/AAAACXBIWXMAAAsTAAALEwEAmpwYAAAAB3RJTUUH3QURCAgyTCyQ6wAAANRJREFUKM9jYBjO4AiUfgzFGGAp4+yayUvX6jMwMDCsYmBgOCS4OAOrSYmMgcc8/pd5Q3irC+Neh/1AlmeBMVgZmP8yMLD8/c/cqv9r90whzv/MX7Eq/MfAwMDIwCuZdfSV8U8WDgZGRmYGrAoZGRgY/jO8b3sj/J2F6T8j4z80pzEhmIwMjAxsSbqqlkeZGP//Z8SlkJnhPwMjwx/Guoe1NhmRwk+YGH5jV8jOwMPHzcDBysAwh8FrxQwtPU99HrwBXsnAwMDAsJiBgYGBoZ1xmKYqALHhMpn1o7igAAAAAElFTkSuQmCC\"></button>\n",
       "    <button onclick=\"animHJSIROOPPJGEMWGX.reverse_animation()\"><img class=\"anim_icon\" src=\"data:image/png;base64,iVBORw0KGgoAAAANSUhEUgAAABQAAAAUCAQAAAAngNWGAAAAAXNSR0IArs4c6QAAAAJiS0dEAP+Hj8y/AAAACXBIWXMAAAsTAAALEwEAmpwYAAAAB3RJTUUH3QURCAgmVvZElgAAAVFJREFUKM+t0k8ow3EYx/H3s/2aLDUSZctFkgsHEi1XLi5ukpPSWsuJklwclsPSsDKFi7MSJ0I5qF2GHO2m0FY7+BdNv7Y9DpuxDSt5vsfvq+fT9/k+8D8VBxIAWH6H0ead4Qb5BRwCENoceZi5Stl/6BgCBmtWhjzxg4mUQ02rAhil7JgB9tze7aTLxFAKsUUd14B9ZzCyFUk401gQyQJaDNcBHwv7t7ETd0ZVQFEEzcNCdE/1wtj15imGWlEB8qkf2QaAWjbG/bPSamIDyX65/iwDIFx7tWjUvWCoSo5oGbYATN7PORt7W9IZEQXJH8ohuN7C0VVX91KNqYhq4a1lEGJI0j892tazXCWQRUpwAbYDcHczPxXuajq3mbnhfANz5eOJxsuNvs7+jud0UcuyL3QAkuEMx4rnIvBYq1JhEwPAUb3fG7x8tVdc292/7Po7f2VqA+Yz7ZwAAAAASUVORK5CYII=\"></button>\n",
       "    <button onclick=\"animHJSIROOPPJGEMWGX.pause_animation()\"><img class=\"anim_icon\" src=\"data:image/png;base64,iVBORw0KGgoAAAANSUhEUgAAABQAAAAUCAQAAAAngNWGAAAAAXNSR0IArs4c6QAAAAJiS0dEAP+Hj8y/AAAACXBIWXMAAAsTAAALEwEAmpwYAAAAB3RJTUUH3QURCAkR91DQ2AAAAKtJREFUKM9jYCANTEVib2K4jcRbzQihGWEC00JuNjN8Z2Q0Zo3VYWA4lL005venH9+c3ZK5IfIsMIXMBtc12Bj+MMgxMDAwMPzWe2TBzPCf4SLcZCYY4/9/RgZGBiaYFf8gljFhKiQERhUOeoX/Gf8y/GX4y/APmlj+Mfxj+MfwH64Qnnq0zr9fyfLrPzP3eQYGBobvk5x4GX4xMIij23gdib0cRWYHiVmAAQDK5ircshCbHQAAAABJRU5ErkJggg==\"></button>\n",
       "    <button onclick=\"animHJSIROOPPJGEMWGX.play_animation()\"><img class=\"anim_icon\" src=\"data:image/png;base64,iVBORw0KGgoAAAANSUhEUgAAABQAAAAUCAQAAAAngNWGAAAAAXNSR0IArs4c6QAAAAJiS0dEAP+Hj8y/AAAACXBIWXMAAAsTAAALEwEAmpwYAAAAB3RJTUUH3QURCAkEmo00MwAAAS9JREFUKM+tkj1IQmEUhp9j94LQj0FD4RRBLdLQ3ftb26PRcCiQIIiIDFwKC0OhaAiam5wVDBpqCKohQojMLYzaAiUatOtpuQrKVQl64fu+4Xt4OLwc+Fs+nNM16jsPAWS6gZXggoZfXmfhog3hcZ6aTXF87Sp68OmH4/YggAo8bmfyyeh6Z1AAKPVldyO1+Iz2uILq3AriJSe3l+H7aj+cuRnrTsVDxSxay+VYbMDnCtZxxQOU9G4nlU9E1HQBxRkCQMRGRnIbpxMARkvxCIoAorYMMrq0mJ0qu4COUW3xyVDqJC4P+86P0ewDQbQqgevhlc2C8ETApXAEFLzvwa3EXG9BoIE1GQUbv1h7k4fTXxBu6cKgUbX5M3ZzNC+a7rQ936HV56SlRpcle+Mf8wvgJ16zo/4BtQAAAABJRU5ErkJggg==\"></button>\n",
       "    <button onclick=\"animHJSIROOPPJGEMWGX.next_frame()\"><img class=\"anim_icon\" src=\"data:image/png;base64,iVBORw0KGgoAAAANSUhEUgAAABQAAAAUCAQAAAAngNWGAAAAAXNSR0IArs4c6QAAAAJiS0dEAP+Hj8y/AAAACXBIWXMAAAsTAAALEwEAmpwYAAAAB3RJTUUH3QURCAkd/uac8wAAAMhJREFUKM9jYBie4DEUQ8B+fEq3+3UrMzAwMFxjYGBgYJizYubaOUxYFUaXh/6vWfRfEMIL/+//P5gZJoei4/f/7wxnY1PeNUXdE2RgYGZgYoCrY2BBVsjKwMDAwvCS4f3SG/dXxm5gYESSQ1HIwvCPgZmB8f8Pxv+Kxxb/YfiPJIdi9T8GJgaG/38ZFd4Fx0xUYsZt4h8GBgb2D2bLy7KnMTAwMEIxFoVCXIYr1IoDnkF4XAysqNIwUMDAwMDAsADKS2NkGL4AAIARMlfNIfZMAAAAAElFTkSuQmCC\"></button>\n",
       "    <button onclick=\"animHJSIROOPPJGEMWGX.last_frame()\"><img class=\"anim_icon\" src=\"data:image/png;base64,iVBORw0KGgoAAAANSUhEUgAAABQAAAAUCAQAAAAngNWGAAAAAXNSR0IArs4c6QAAAAJiS0dEAP+Hj8y/AAAACXBIWXMAAAsTAAALEwEAmpwYAAAAB3RJTUUH3QURCAknOOpFQQAAAS9JREFUKM/dkrEvQ3EQxz/33mtoQxiYpANbLU26NAabSCcSUouGBVNDjYQaOiDpIEiKjURIw2Kx04hEYmkHEpGoJpSISaXq9Wd4P03/ht5y98197/u9XA4aK4rAWw3lgWddZ3S+/G9mEovtAB8AHE4pgTQAx8PbJweRmsq6GimmNpxaNYXVzMNNCI6A2figimwCGACK786zuWgh3qcsKf/w0pM4X0m/doNVFVzVGlEQsdRj193VxEWpH0RsdRu+zi3tVMqCAsDShoiYqiSV4OouVDFEqS9Pbiyg7vV62lpQ2BJ4Gg0meg0MbNpkYG/e+540NNFyrE1a8qHk5BaAjfnrzUaHfAWImVrLIXbgnx4/9X06s35cweWsVACa3a24PVp0X+rPv1aHFnSONdiL8Qci0lzwpOM5sQAAAABJRU5ErkJggg==\"></button>\n",
       "    <button onclick=\"animHJSIROOPPJGEMWGX.faster()\">+</button>\n",
       "  <form action=\"#n\" name=\"_anim_loop_selectHJSIROOPPJGEMWGX\" class=\"anim_control\">\n",
       "    <input type=\"radio\" name=\"state\" value=\"once\" > Once </input>\n",
       "    <input type=\"radio\" name=\"state\" value=\"loop\" checked> Loop </input>\n",
       "    <input type=\"radio\" name=\"state\" value=\"reflect\" > Reflect </input>\n",
       "  </form>\n",
       "</div>\n",
       "\n",
       "\n",
       "<script language=\"javascript\">\n",
       "  /* Instantiate the Animation class. */\n",
       "  /* The IDs given should match those used in the template above. */\n",
       "  (function() {\n",
       "    var img_id = \"_anim_imgHJSIROOPPJGEMWGX\";\n",
       "    var slider_id = \"_anim_sliderHJSIROOPPJGEMWGX\";\n",
       "    var loop_select_id = \"_anim_loop_selectHJSIROOPPJGEMWGX\";\n",
       "    var frames = new Array(0);\n",
       "    \n",
       "  frames[0] = \"data:image/png;base64,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\"\n",
       "  frames[1] = \"data:image/png;base64,iVBORw0KGgoAAAANSUhEUgAAAbAAAAGwCAYAAADITjAqAAAABHNCSVQICAgIfAhkiAAAAAlwSFlzAAALEgAACxIB0t1+/AAAIABJREFUeJzt3X9QVXX+x/HXuYpWopIkoKJSGQikqwamzaYgouWEmRlpvzCzrKbdslq1+laUpWitpmUza1lr2mo2uUjauuXGtdTMH6RYWpaJv8EMSQlTwfP9w+HWTVHCA+d+9PmYcQYO937O+55Tnxefz/mcg2Xbti0AAAzjcbsAAABqggADABiJAAMAGIkAAwAYiQADABiJAAMAGIkAAwAYiQADABiJAAMAGIkAAwAYiQADABiJAAMAGIkAAwAYiQADABiJAAMAGIkAAwAYiQADABiJAAMAGIkAAwAYiQADABiJAAMAGIkAAwAYiQADABiJAAMAGIkAAwAYiQADABiJAMNZy+v1yuPxqLi42O1STvDiiy/q4osvdruMUyooKJDH41FeXp6k6h1Pj8ej+fPn11WJOMcRYHDc0KFD5fF45PF41KBBA4WHh6tXr1569dVXVV5e7nZ5ASkzM1N33nlnjd772GOP6bLLLvPbtnPnTnk8HqWlpfltX7JkiTwej7Zu3VrjWk+lsLBQ1113Xa20DfweAQbHWZal1NRUFRYWatu2bfroo4+Ulpamp59+WldffbXKysqqfO+RI0fqsNLad/To0Wq9zrKsGu+jV69e2rJli3bt2uXblpubq9atW2vZsmU6duyY3/a2bdvW2ugvLCxMDRo0qJW2gd8jwOA427bVoEEDhYWFqUWLFurYsaNGjhwpr9ervLw8TZw40ffaqKgoPfPMMxo2bJguvPBC3X777dq2bZvf1FWl305PVU5vzZ8/X6mpqWrUqJHi4+O1ZMmSKus6fPiwbrjhBiUkJOiHH37Q4MGDdd999/l+/n//93/yeDz6/PPPfdtat26tf/3rX5Kk1atXq0+fPmrevLmaNm2qq6++WitXrjyhxldffVUDBw5UcHCwnnjiCUnSxIkTFRERocaNGysjI0OlpaUnHLPf+uSTT9StWzc1btxYISEhuvLKK/XVV1+d9HNdddVVCgoKUm5urm+b1+vVHXfcoeDgYL/jmJubq169ekmSZs+ercTERDVp0kTh4eFKT0/X7t27qzx+VR3PK664Qvv27fN9/j96jhYtWqSYmBidf/75Sk5O1jvvvCOPx6Pt27dXuxacmwgw1Jn4+Hhdc801eu+99/y2T5o0SXFxcVq7dq3GjRt3Qmd+Kk888YQeeugh5efnKzExUYMHD9bPP/98wusOHDiga665RiUlJfJ6vWrevLmSk5Pl9Xp9r6ncXrntu+++065du5SUlCRJKi0tVUZGhpYtW6bVq1erU6dO6tev3wnXhJ555hldd911+vLLL3X//fdr3rx5evLJJzV27Fh98cUXiomJ0aRJk/xGXZZl+b4vLy/X9ddfrx49eig/P1+rVq3SyJEjVa9evZMeg0aNGqlr165+AZabm6ukpCT17NnTt720tFRr1qxRcnKypOOjw7Fjxyo/P18LFy7Uvn37NGTIkGod998ez6VLl+qiiy6q8rWnOkfbt2/XwIEDlZaWpvz8fD3wwAMaNWrUGY1IcQ6xAYdlZGTY11133Ul/Nnr0aPuCCy7wfd+2bVu7f//+fq/ZunWrbVmWvXbtWr/tlmXZ7733nt9rpk+f7vv5rl27bMuy7OXLl9u2bdu5ubm2ZVn2xo0b7S5dutjXX3+9ffjwYd/rN23aZFuWZRcWFto///yz3bBhQ3vixIl23759bdu27ddee82+7LLLqvycx44ds1u0aGHPnj3br8a//vWvfq/r3r27fc899/ht6927t33xxReftN0ff/zRtizLXrp0aZX7/r0nn3zS197WrVvthg0b2ocOHbKnT59uX3vttbZt2/Z//vMf27Ise9euXSdto/J4VP789+fhdMez8vP/kXM0ZswYOy4uzq+NcePG2ZZl2du2bav258e5iREY6pRt2yeMPBISEmrcXseOHX1ft2jRQpK0d+9ev9f07dtXrVu31vz58/2uz7Rv314RERHKzc3VihUr1K5dO6Wnp2v58uUqLy+X1+v1jb4q2x0xYoRiYmIUEhKiJk2aaO/evdqxY4ff/n7/eb7++mt1797db1u3bt2qHGk2a9ZMQ4cOVd++fXXddddp8uTJJ+zj95KTk1VQUKBt27YpNzdXXbt21XnnnaeePXtq2bJlqqioUG5uri677DK1bNlSkpSXl6frr79eUVFRatKkiRITEyXptFN3VR3PqpzqHH399de+/Vbq2rXradsEJKYQUcc2btyoSy+91G9bo0aN/L73eI7/Z/nbDr6qxRBBQUG+ryuD8beLFiQpLS1Ny5Yt04YNG054f+UU29KlS5WcnKy2bdvqoosu0urVq/XJJ5/4BVhGRobWrl2rl156SZ999pnWrVunyMjIExae/P7z1MQbb7yhzz//XD169FBOTo5iYmL04YcfVvn67t27q2HDhvJ6vX7BGx0drcaNG2vNmjXyer2+618///yz+vbtq+DgYM2ePVtr1qzR4sWLJZ1+Ic2pjufJnOocWZb1h6aMgd8iwFArTnYN48svv9R///tfDRo06JTvbd68uST5LShYt25djWsZO3as7r33XqWkpGj9+vV+P0tKSlJubq5fp5+UlKTp06dr586dfgG2fPly/eUvf9G1116r2NhYBQcHa8+ePafdf2xsrD777DO/bStXrjztdZ6OHTtq1KhRvutZM2fOrPK15513nrp3737CZ5GOh3R2drby8vJ8Afb111/rxx9/1Lhx4/TnP/9Z0dHRKioqOu1nkU59PP+o9u3ba82aNX7bVq1adUZt4txBgKFW/PLLLyoqKtLu3bu1fv16TZo0ScnJyUpISNCjjz56yveef/756tatmyZMmKCNGzdqxYoVp33P6Tz33HMaMWKEevfurfz8fN/2pKQkfffdd1q9erVfgM2ePVvt2rXzTbdJx0czs2bN0qZNm7R69WoNHjy4WlNoDz74oGbOnKnXX39d3377rcaPH3/KTrqgoEBjxozRZ5995psSzM/PV3x8/Cn3k5ycrPnz52vv3r266qqrfNt79uypadOm6dixY74FHG3atFHDhg318ssv6/vvv9eiRYv05JNPnvazVKrqeP5R9957r7Zs2aK//e1v+uabbzR//nxNnz7db1ELUBUCDI6zLEtLlixRixYt1LZtW/Xu3VsLFy7UM888o08++UTnn3/+adt44403JEmJiYm677779Pzzz590P9WppdLzzz+vu+++WykpKb7pr5iYGEVERCg6OlqhoaGSjgdYRUWF3yimsqbS0lJdccUVuuWWWzR8+HBFRUWdtob09HRlZmbqiSeeUJcuXfTVV1/p4YcfrvL1F1xwgb799lvddNNNiomJ0dChQ3Xbbbdp9OjRp9xPcnKySktLlZiYqPPOO8+3PSkpSaWlpYqPj/etFmzevLlmzpyp7OxsxcfHa+zYsZo8efIJx/RU35/seP7e6c5RmzZt9N577yknJ0edOnXSlClT9NRTT8m2bb/PAJyMZQfABPSwYcO0aNEihYWF+f5HKC4u1s0336xt27YpKipK8+bNU0hIiCRp/PjxeuONN1SvXj1NnTpVffr0cbN8AA6aMmWKMjMztX//frdLQYALiBHYnXfe6buAXCkrK0upqanavHmzUlJSlJWVJen4IoB33nlHGzdu1OLFi3X//fefcNEegDmmTZumVatWaevWrZozZ46ee+45DR061O2yYICACLCrr75aF154od+2nJwcZWRkSDq++is7O1uStGDBAg0ZMkRBQUGKiopSu3btuOgLGGzLli0aOHCg4uLi9NRTT+m+++7TCy+84HZZMEB9twuoSlFRkcLDwyVJ4eHhvhVSu3fvVrdu3Xyvi4yM9HsGHACzTJo0SZMmTXK7DBgoIEZgp3O6FUmsVgKAc0/AjsDCw8NVWFioiIgI7dmzR2FhYZKkVq1a+T2VYOfOnWrVqtUJ7yfUAKBmAmBtX7UE7Aisf//+vhs3Z86cqQEDBvi2z507V0eOHNHWrVv17bffVvnoGdu2+Wfbevrpp12vIVD+cSw4FhyLU/8zSUCMwIYMGaKlS5dq3759at26tZ599lmNGTNG6enpmjFjhm8ZvSTFxcUpPT1dcXFxql+/vl599VVGWwBwDgqIAJszZ85Jt1f1t50ef/xxPf7447VZEgAgwAXsFCKc8/snSpzLOBa/4lj8imNhpoB4Ekdt4CnXAPDHmdR3MgIDABiJAAMAGIkAAwAYiQADABiJAAMAGIkAAwAYiQADABiJAAMAGIkAAwAYiQADABiJAAMAGIkAAwAYiQADABiJAAMAGIkAAwAYiQADABiJAAMAGIkAAwAYiQADABiJAAMAGIkAAwAYiQADABiJAAMAGIkAAwAYiQADABiJAAMAGIkAAwAYiQADABiJAAMAGIkAAwAYiQADABiJAAMAGIkAAwAYiQADABiJAAMAGIkAAwAYiQADABiJAAMAGIkAAwAYiQADABiJAAMAGIkAAwAYiQADABiJAAMAGIkAAwAYiQADABiJAAMAGIkAAwAYiQADABiJAAMAGIkAAwAYiQADABiJAAMAGIkAAwAYiQADABiJAAMAGCngA2z8+PGKj49Xhw4ddMstt+jw4cMqLi5WamqqoqOj1adPH5WUlLhdJgCgjgV0gBUUFOi1115TXl6eNmzYoIqKCs2dO1dZWVlKTU3V5s2blZKSoqysLLdLBQDUsYAOsCZNmigoKEhlZWUqLy9XWVmZWrZsqZycHGVkZEiSMjIylJ2d7XKlAIC6FtAB1qxZMz3yyCNq06aNWrZsqZCQEKWmpqqoqEjh4eGSpPDwcBUVFblcKQCgrgV0gG3ZskUvvfSSCgoKtHv3bpWWlmr27Nl+r7EsS5ZluVQhAMAt9d0u4FTWrFmjq666SqGhoZKkgQMH6rPPPlNERIQKCwsVERGhPXv2KCws7KTvz8zM9H2dlJSkpKSkOqgaAMzh9Xrl9XrdLqNGLNu2bbeLqMr69et16623avXq1TrvvPM0dOhQde3aVdu2bVNoaKhGjx6trKwslZSUnLCQw7IsBfBHA4CAZFLfGdABJkkTJ07UzJkz5fF41KVLF73++us6ePCg0tPTtX37dkVFRWnevHkKCQnxe59JJwEAAoVJfWfAB1hNmXQSACBQmNR3BvQiDgAAqkKAAQCMRIABAIxEgAEAjESAAQCMRIABAIxEgAEAjESAAQCMRIABAIxEgAEAjESAAQCMRIABAIxEgAEAjESAAQCMRIABAIxEgAEAjESAAQCMRIABAIxEgAEAjESAAQCMRIABAIxEgAEAjESAAQCMRIABAIxEgAEAjESAAQCMRIABAIxEgAEAjESAAQCMRIABAIxEgAEAjESAAQCMRIABAIxEgAEAjESAAQCMRIABAIxEgAEAjESAAQCMRIABAIxEgAEAjESAAQCMRIABAIxEgAEAjESAAQCMRIABAIxEgAEAjESAAQCMRIABAIxEgAEAjESAAQCMRIABAIxEgAEAjESAAQCMRIABAIxEgAEAjESAAQCMVGsBVlFRoQMHDtRW8wCAc5yjATZkyBAdOHBAP//8szp06KDY2FhNnDjRyV0AACDJ4QDbuHGjmjRpouzsbF177bUqKCjQrFmzzqjNkpISDRo0SLGxsYqLi9Pnn3+u4uJipaamKjo6Wn369FFJSYlDnwAAYApHA6y8vFxHjx5Vdna20tLSFBQUJMuyzqjNBx98UP369dOmTZuUn5+v9u3bKysrS6mpqdq8ebNSUlKUlZXl0CcAAJjC0QAbMWKEoqKiVFpaqh49eqigoEBNmzatcXs//fSTPv30Uw0bNkySVL9+fTVt2lQ5OTnKyMiQJGVkZCg7O9uR+gEA5rBs27Zrq3HbtlVRUaH69evX6P3r1q3TiBEjFBcXp/Xr1+uKK67QSy+9pMjISO3fv9+3j2bNmvm+r2RZlmrxowHAWcmkvrNmyfI7f//7331fV04ZVh4Ay7L08MMP16jd8vJy5eXl6ZVXXlFiYqIeeuihE6YLLcs642lKAIB5HAmwgwcPnjREbNs+o3CJjIxUZGSkEhMTJUmDBg3S+PHjFRERocLCQkVERGjPnj0KCws76fszMzN9XyclJSkpKanGtQDA2cjr9crr9bpdRo3U6hSiE3r06KHXX39d0dHRyszMVFlZmSQpNDRUo0ePVlZWlkpKSk46MgvwjwYAAcekvtPRADt06JBmzJihjRs36tChQ77R1xtvvFHjNtevX6/hw4fryJEjuvTSS/Xmm2+qoqJC6enp2r59u6KiojRv3jyFhIT4vc+kkwAAgcKkvtPRAKu8X+vtt9/W008/rdmzZys2NlZTp051ahfVZtJJAIBAYVLf6WiAderUSevWrVPHjh2Vn5+vo0eP6s9//rM+//xzp3ZRbSadBAAIFCb1nY7eB9agQQNJUtOmTbVhwwaVlJTohx9+cHIXAABIcmgVYqW7775bxcXFeu6559S/f3+VlpZq7NixTu4CAABJBqxCrCmThsEAEChM6jsdGYHNmjVLt99++wk3NFfeB1bTG5kBAKiKIwFWeW9WaWmpE80BAHBajgTYiBEjVFFRocaNGzPaAgDUCcdWIdarV09z5sxxqjkAAE7J0UUcI0eO1NGjR3XzzTerUaNGvu1dunRxahfVZtKFSAAIFCb1nY4EWJ8+ffThhx8qKSnppA/vzc3NPdNd/GEmnQQACBQm9Z2OXAOrvFnZ1CcaAwDM40iA/fTTT5o/f36VPx84cKATuwEAwMexAHv//fer/DkBBgBwmiPXwDp37qwvvvjCiXocY9I8LgAECpP6Tkcf5gsAQF1xJMDeeustJ5oBAKDaeJgvAMDHpL6TKUQAgJEcCbCUlBRJ0qhRo5xoDgCA03JkGf2ePXu0YsUK5eTkaPDgwb4/o1LJjUdJAQDObo5cA3v33Xc1Y8YMLV++XAkJCSf8nEdJAYAZTOo7HV3E8eyzz+qpp55yqrkzYtJJAIBAYVLf6fgqxAULFuiTTz6RZVnq2bOn0tLSnGy+2kw6CQAQKEzqOx0NsDFjxmj16tW69dZbZdu25s6dq4SEBI0fP96pXVSbSScBAAKFSX2nowHWoUMHrVu3TvXq1ZMkVVRUqFOnTtqwYYNTu6g2k04CAAQKk/pOR+8DsyxLJSUlvu9LSkpO+vfBAAA4U44so6/02GOPqUuXLkpOTpZt21q6dKmysrKc3AUAAJJqYRHH7t27tXr1almWpcTERLVo0cLJ5qvNpGEwAAQKk/pOnoUIAPAxqe/kWYgAACMRYAAAIzkWYOXl5YqJiXGqOQAATsmxAKtfv77at2+vbdu2OdUkAABVcnQZfXFxseLj49W1a1c1atRI0vELgjk5OU7uBgAAZwNs7NixJ2zjRmYAQG1wfBl9QUGBvvvuO/Xu3VtlZWUqLy9XkyZNnNxFtZi0FBQAAoVJfaejqxCnT5+um266SSNGjJAk7dy5UzfccIOTuwAAQJLDATZt2jQtW7bMN+KKjo7W3r17ndwFAACSHA6whg0bqmHDhr7vy8vLuQYGAKgVjgZYz5499fzzz6usrEwfffSRbrrpJtf+oCUA4Ozm6CKOiooKzZgxQx9++KEkqW/fvho+fLgrozCTLkQCQKAwqe90fBXi4cOH9fXXX8uyLLVv314NGjRwsvlqM+kkAECgMKnvdPQ+sEWLFunee+/VJZdcIkn6/vvv9Y9//EP9+vVzcjcAADg7AouJidGiRYvUrl07SdKWLVvUr18/ffPNN07totpM+i0CAAKFSX2no4s4mjRp4gsvSbrkkktcuYkZAHD2c2QK8b333pMkJSQkqF+/fkpPT5ckvfvuu0pISHBiFwAA+HEkwN5//33fSsOwsDAtXbpUktS8eXP98ssvTuwCAAA/jq9CDBQmzeMCQKAwqe90dBXi999/r5dfflkFBQUqLy+XxJ9TAQDUDkcDbMCAARo+fLjS0tLk8RxfH8KjpAAAtcHRKcSuXbtq1apVTjV3RkwaBgNAoDCp73Q0wGbNmqUtW7aob9++fg/17dKli1O7qDaTTgIABAqT+k5HpxC/+uorzZo1S7m5ub4pREnKzc11cjcAADg7Arv00ku1adMm155/+Fsm/RYBAIHCpL7T0SdxdOjQQfv373eySQAATsrRKcT9+/erffv2SkxM9F0DYxk9AKA2OBpgzzzzjJPNAQBQJZ7EAQDwManvdPQaWHBwsBo3bqzGjRurYcOG8ng8Z/w0+oqKCnXu3FlpaWmSpOLiYqWmpio6Olp9+vRRSUmJE6UDAAzjaICVlpbq4MGDOnjwoA4dOqT58+fr/vvvP6M2p0yZori4ON8TPbKyspSamqrNmzcrJSVFWVlZTpQOADCMowHm17DHowEDBmjx4sU1bmPnzp364IMPNHz4cN+QNicnRxkZGZKkjIwMZWdnO1IvAMAsji7iqPy7YJJ07NgxrV27Vueff36N2xs5cqReeOEFHThwwLetqKhI4eHhkqTw8HAVFRXVvGAAgLEcDbDf/l2w+vXrKyoqSgsWLKhRWwsXLlRYWJg6d+4sr9d70tdYlsXDggHgHOVogP3zn/90rK0VK1YoJydHH3zwgX755RcdOHBAt99+u8LDw1VYWKiIiAjt2bNHYWFhVbaRmZnp+zopKUlJSUmO1QcAZwOv11vlICHQObKMvqr7vypHR0899dQZtb906VK9+OKLev/99zVq1CiFhoZq9OjRysrKUklJyUkXcpi0FBQAAoVJfacjizgaNWqk4OBgv3+WZWnGjBmaMGGCE7vwheGYMWP00UcfKTo6Wh9//LHGjBnjSPsAALM4fiPzgQMHNHXqVM2YMUPp6el65JFHTjnNV1tM+i0CAAKFSX2nY9fAfvzxR02ePFlvv/227rjjDuXl5enCCy90qnkAAPw4EmCPPvqo/v3vf+uee+5Rfn6+Gjdu7ESzAABUyZEpRI/HowYNGigoKOjEHViW331cdcWkYTAABAqT+k5HRmDHjh1zohkAAKqt1h4lBQBAbSLAAABGIsAAAEYiwAAARiLAAABGIsAAAEYiwAAARiLAAABGIsAAAEYiwAAARiLAAABGIsAAAEYiwAAARiLAAABGIsAAAEYiwAAARiLAAABGIsAAAEYiwAAARiLAAABGIsAAAEYiwAAARiLAAABGIsAAAEYiwAAARiLAAABGIsAAAEYiwAAARiLAAABGIsAAAEYiwAAARiLAAABGIsAAAEYiwAAARiLAAABGIsAAAEYiwAAARiLAAABGIsAAAEYiwAAARiLAAABGIsAAAEYiwAAARiLAAABGIsAAAEYiwAAARiLAAABGIsAAAEYiwAAARiLAAABGIsAAAEYiwAAARiLAAABGIsAAAEYK6ADbsWOHkpOTFR8fr8svv1xTp06VJBUXFys1NVXR0dHq06ePSkpKXK4UAFDXLNu2bbeLqEphYaEKCwvVqVMnlZaW6oorrlB2drbefPNNXXTRRRo1apQmTJig/fv3Kysry++9lmUpgD8aAAQkk/rOgB6BRUREqFOnTpKk4OBgxcbGateuXcrJyVFGRoYkKSMjQ9nZ2W6WCQBwQUCPwH6roKBAPXv21Jdffqk2bdpo//79kiTbttWsWTPf95VM+i0CAAKFSX1nQI/AKpWWlurGG2/UlClT1LhxY7+fWZYly7JcqgwA4Jb6bhdwOkePHtWNN96o22+/XQMGDJAkhYeHq7CwUBEREdqzZ4/CwsJO+t7MzEzf10lJSUpKSqqDigHAHF6vV16v1+0yaiSgpxBt21ZGRoZCQ0M1efJk3/ZRo0YpNDRUo0ePVlZWlkpKSljEAQAOMKnvDOgAW7ZsmXr06KGOHTv6pgnHjx+vrl27Kj09Xdu3b1dUVJTmzZunkJAQv/eadBIAIFCY1HcGdICdCZNOAgAECpP6TiMWcQAA8HsEGADASAQYAMBIBBgAwEgEGADASAQYAMBIBBgAwEgEGADASAQYAMBIAf8wX/zqhRem60z/+HRIiPS3v93jTEEA4CICzCAlJVLbtmcWPtu2TXeoGgBwF1OIAAAjEWAAACMRYAAAIxFgAAAjEWAAACOxCvE0WLoOAIGJADsNlq4DQGBiChEAYCRGYABwFnDicodpCDAAOAs4cbnjuBEOtFE3mEIEABiJAAMAGIkpRMBh3HoB1A0CDHAYt14AdYMpRACAkRiBoUacWrLLVBmAmiLAUCNOLdllqgxATTGFCAAwEgEGADASU4gwHtfjgHMTAQbjcT0OODcxhQgAMBIBBgAwEgEGADASAQYAMBKLOADUiUBaLRpItaDmCDAAdSKQVosGUi2oOaYQAQBGIsAAAEYiwAAARiLAAABGIsAAAEYiwAAARiLAAABGIsAAAEbiRmbgLObEEyd42gQCFQEGnMWceOIET5tAoGIKEQBgJAIMAGAkAgwAYCQCDABgJAIMAGAkViECgMucuN1h5co8tW3rTD2mIMAAwGVO3O7g9d7rUDXmYAoRAGAkAgwAYCQCDABgJGMDbPHixWrfvr0uu+wyTZgwwe1yAAB1zMgAq6io0AMPPKDFixdr48aNmjNnjjZt2uR2WQHrm2+8bpcQMDgWv+JY/IpjYSYjA2zVqlVq166doqKiFBQUpMGDB2vBggVulxWwNm/2ul1CwOBY/Ipj8SuOhZmMDLBdu3apdevWvu8jIyO1a9cuFysCANQ1I+8DsyyrWq9bu3btGe0nNDT0jN4PAKg9lm3btttF/FErV65UZmamFi9eLEkaP368PB6PRo8e7XtNdUMOAODPlFgwMsDKy8sVExOj//3vf2rZsqW6du2qOXPmKDY21u3SAAB1xMgpxPr16+uVV15R3759VVFRobvuuovwAoBzjJEjMAAAjFyFeDrc5Hzcjh07lJycrPj4eF1++eWaOnWq2yW5qqKiQp07d1ZaWprbpbiqpKREgwYNUmxsrOLi4rRy5Uq3S3LN+PEb2PiWAAAEX0lEQVTjFR8frw4dOuiWW27R4cOH3S6pzgwbNkzh4eHq0KGDb1txcbFSU1MVHR2tPn36qORMH5Ffy866AOMm518FBQVp8uTJ+uqrr7Ry5UpNmzbtnD0WkjRlyhTFxcWd8wt8HnzwQfXr10+bNm1Sfn7+OTv9XlBQoNdee015eXnasGGDKioqNHfuXLfLqjN33nmnbyFcpaysLKWmpmrz5s1KSUlRVlaWS9VVz1kXYNzk/KuIiAh16tRJkhQcHKzY2Fjt3r3b5arcsXPnTn3wwQcaPny4MSusasNPP/2kTz/9VMOGDZN0/Hpy06ZNXa7KHU2aNFFQUJDKyspUXl6usrIytWrVyu2y6szVV1+tCy+80G9bTk6OMjIyJEkZGRnKzs52o7RqO+sCjJucT66goEBffPGFrrzySrdLccXIkSP1wgsvyOM56/6T/0O2bt2q5s2b684771SXLl109913q6yszO2yXNGsWTM98sgjatOmjVq2bKmQkBD17t3b7bJcVVRUpPDwcElSeHi4ioqKXK7o1M66/5vP9emhkyktLdWgQYM0ZcoUBQcHu11OnVu4cKHCwsLUuXPnc3r0JR2/BSUvL0/333+/8vLy1KhRo4CfJqotW7Zs0UsvvaSCggLt3r1bpaWlevvtt90uK2BYlhXw/elZF2CtWrXSjh07fN/v2LFDkZGRLlbkrqNHj+rGG2/UbbfdpgEDBrhdjitWrFihnJwcXXzxxRoyZIg+/vhj3XHHHW6X5YrIyEhFRkYqMTFRkjRo0CDl5eW5XJU71qxZo6uuukqhoaGqX7++Bg4cqBUrVrhdlqvCw8NVWFgoSdqzZ4/CwsJcrujUzroAS0hI0LfffquCggIdOXJE77zzjvr37+92Wa6wbVt33XWX4uLi9NBDD7ldjmvGjRunHTt2aOvWrZo7d6569eqlt956y+2yXBEREaHWrVtr8+bNkqQlS5YoPj7e5arc0b59e61cuVKHDh2SbdtasmSJ4uLi3C7LVf3799fMmTMlSTNnzgz4X3qNvJH5VLjJ+VfLly/X7Nmz1bFjR3Xu3FnS8WXD11xzjcuVuSvQp0Vq28svv6xbb71VR44c0aWXXqo333zT7ZJc8ac//Ul33HGHEhIS5PF41KVLF91zzz1ul1VnhgwZoqVLl2rfvn1q3bq1nn32WY0ZM0bp6emaMWOGoqKiNG/ePLfLPCVuZAYAGOmsm0IEAJwbCDAAgJEIMACAkQgwAICRCDAAgJEIMACAkQgwAICRCDAAgJEIMACAkQgwAICRCDAAgJEIMACAkQgwAICRCDAAgJEIMACAkQgwAICRCDAAgJEIMACAkQgwAICRCDAAgJEIMACAkQgwAICRCDAAgJEIMACAkQgwAICRCDAAgJEIMACAkQgwAICRCDAAgJEIMACAkQgwAICRCDAAgJEIMACAkQgwAICRCDAAgJEIMACAkQgwAICRCDAAgJEIMACAkQgwAICRCDAAgJH+H1F9F00VofwCAAAAAElFTkSuQmCC\"\n",
       "  frames[2] = \"data:image/png;base64,iVBORw0KGgoAAAANSUhEUgAAAbAAAAGwCAYAAADITjAqAAAABHNCSVQICAgIfAhkiAAAAAlwSFlzAAALEgAACxIB0t1+/AAAIABJREFUeJzt3X9wVNX9xvHnrgS0BIhEkoABYsWEJIUCJlSdCokQUMYgIqag1SBFUaetUlug9atGUYnYgmB1pihaChbEkcYoliptFguI/IgQFBRFwu/EaogYg0DC/f7BZHWFQAw32f3A+zXDTPZm99zP3tXz5Jx77l3HdV1XAAAY4wt1AQAANAYBBgAwiQADAJhEgAEATCLAAAAmEWAAAJMIMACASQQYAMAkAgwAYBIBBgAwiQADAJhEgAEATCLAAAAmEWAAAJMIMACASQQYAMAkAgwAYBIBBgAwiQADAJhEgAEATCLAAAAmEWAAAJMIMACASQQYAMAkAgwAYBIBBgAwiQDDacvv98vn86mioiLUpRzjj3/8oy644IJQl3FCpaWl8vl8Ki4ultSw4+nz+bRo0aLmKhFnOAIMnhs9erR8Pp98Pp9atmyp2NhYXXHFFXr66adVU1MT6vLCUl5enm655ZZGvfb3v/+9LrrooqBtu3btks/nU3Z2dtD2pUuXyufzadu2bY2u9UTKysp09dVXN0nbwHcRYPCc4zjKyspSWVmZtm/frjfffFPZ2dl64IEHdPnll6u6urre1x46dKgZK216hw8fbtDzHMdp9D6uuOIKbd26Vbt37w5sKyoqUufOnbV8+XIdOXIkaHvXrl2bbPQXExOjli1bNknbwHcRYPCc67pq2bKlYmJi1LFjR/Xs2VPjx4+X3+9XcXGxpk6dGnhuQkKCHnzwQY0ZM0bnnnuubrrpJm3fvj1o6qrOt6en6qa3Fi1apKysLLVu3VqpqalaunRpvXUdPHhQ1157rdLS0vS///1PI0eO1B133BH4/f/93//J5/PpnXfeCWzr3Lmz/v73v0uS1qxZo0GDBqlDhw5q166dLr/8cq1ateqYGp9++mkNHz5ckZGRuvfeeyVJU6dOVVxcnNq0aaPc3FxVVVUdc8y+7a233tIll1yiNm3aKCoqSj/5yU/0/vvvH/d9XXbZZYqIiFBRUVFgm9/v180336zIyMig41hUVKQrrrhCkjRv3jylp6erbdu2io2NVU5Ojvbs2VPv8avveF588cX67LPPAu//+35GixcvVlJSks455xxlZmbqxRdflM/n044dOxpcC85MBBiaTWpqqq688kq9/PLLQdunTZumlJQUrVu3To8++ugxnfmJ3Hvvvbr77rtVUlKi9PR0jRw5Ul999dUxz9u/f7+uvPJKVVZWyu/3q0OHDsrMzJTf7w88p2573baPP/5Yu3fvVkZGhiSpqqpKubm5Wr58udasWaNevXppyJAhx5wTevDBB3X11Vfrvffe05133qmFCxfqvvvu0+TJk/Xuu+8qKSlJ06ZNCxp1OY4TeFxTU6NrrrlG/fr1U0lJiVavXq3x48frrLPOOu4xaN26tfr27RsUYEVFRcrIyFD//v0D26uqqrR27VplZmZKOjo6nDx5skpKSvTaa6/ps88+06hRoxp03L99PJctW6bzzjuv3uee6DPasWOHhg8fruzsbJWUlOiXv/ylJkyYcEojUpxBXMBjubm57tVXX33c302cONH9wQ9+EHjctWtXd+jQoUHP2bZtm+s4jrtu3bqg7Y7juC+//HLQc2bNmhX4/e7du13HcdwVK1a4ruu6RUVFruM47qZNm9w+ffq411xzjXvw4MHA8zdv3uw6juOWlZW5X331lduqVSt36tSp7uDBg13Xdd1nnnnGveiii+p9n0eOHHE7duzozps3L6jGX//610HPu/TSS93bbrstaNvAgQPdCy644Ljtfv75567jOO6yZcvq3fd33XfffYH2tm3b5rZq1co9cOCAO2vWLPeqq65yXdd1//nPf7qO47i7d+8+bht1x6Pu99/9HE52POve//f5jCZNmuSmpKQEtfHoo4+6juO427dvb/D7x5mJERialeu6x4w80tLSGt1ez549Az937NhRkvTpp58GPWfw4MHq3LmzFi1aFHR+pnv37oqLi1NRUZFWrlypbt26KScnRytWrFBNTY38fn9g9FXX7rhx45SUlKSoqCi1bdtWn376qXbu3Bm0v+++nw8++ECXXnpp0LZLLrmk3pFm+/btNXr0aA0ePFhXX321pk+ffsw+viszM1OlpaXavn27ioqK1LdvX5199tnq37+/li9frtraWhUVFemiiy5Sp06dJEnFxcW65pprlJCQoLZt2yo9PV2STjp1V9/xrM+JPqMPPvggsN86ffv2PWmbgMQUIprZpk2bdOGFFwZta926ddBjn+/of5bf7uDrWwwRERER+LkuGL+9aEGSsrOztXz5cm3cuPGY19dNsS1btkyZmZnq2rWrzjvvPK1Zs0ZvvfVWUIDl5uZq3bp1euKJJ/T2229r/fr1io+PP2bhyXffT2M899xzeuedd9SvXz8VFhYqKSlJb7zxRr3Pv/TSS9WqVSv5/f6g4E1MTFSbNm20du1a+f3+wPmvr776SoMHD1ZkZKTmzZuntWvXasmSJZJOvpDmRMfzeE70GTmO872mjIFvI8DQJI53DuO9997Tv/71L40YMeKEr+3QoYMkBS0oWL9+faNrmTx5sm6//XYNGDBAGzZsCPpdRkaGioqKgjr9jIwMzZo1S7t27QoKsBUrVuhXv/qVrrrqKiUnJysyMlJ79+496f6Tk5P19ttvB21btWrVSc/z9OzZUxMmTAicz5ozZ069zz377LN16aWXHvNepKMhXVBQoOLi4kCAffDBB/r888/16KOP6qc//akSExNVXl5+0vcinfh4fl/du3fX2rVrg7atXr36lNrEmYMAQ5P4+uuvVV5erj179mjDhg2aNm2aMjMzlZaWpt/+9rcnfO0555yjSy65RI899pg2bdqklStXnvQ1J/Pwww9r3LhxGjhwoEpKSgLbMzIy9PHHH2vNmjVBATZv3jx169YtMN0mHR3NzJ07V5s3b9aaNWs0cuTIBk2h3XXXXZozZ46effZZffTRR5oyZcoJO+nS0lJNmjRJb7/9dmBKsKSkRKmpqSfcT2ZmphYtWqRPP/1Ul112WWB7//799dRTT+nIkSOBBRxdunRRq1at9OSTT+qTTz7R4sWLdd999530vdSp73h+X7fffru2bt2q3/3ud/rwww+1aNEizZo1K2hRC1AfAgyecxxHS5cuVceOHdW1a1cNHDhQr732mh588EG99dZbOuecc07axnPPPSdJSk9P1x133KFHHnnkuPtpSC11HnnkEd16660aMGBAYPorKSlJcXFxSkxMVHR0tKSjAVZbWxs0iqmrqaqqShdffLFuuOEGjR07VgkJCSetIScnR3l5ebr33nvVp08fvf/++/rNb35T7/N/8IMf6KOPPtL111+vpKQkjR49Wj//+c81ceLEE+4nMzNTVVVVSk9P19lnnx3YnpGRoaqqKqWmpgZWC3bo0EFz5sxRQUGBUlNTNXnyZE2fPv2YY3qix8c7nt91ss+oS5cuevnll1VYWKhevXppxowZuv/+++W6btB7AI7HccNgAnrMmDFavHixYmJiAv8jVFRU6Gc/+5m2b9+uhIQELVy4UFFRUZKkKVOm6LnnntNZZ52lmTNnatCgQaEsH4CHZsyYoby8PO3bty/UpSDMhcUI7JZbbgmcQK6Tn5+vrKwsbdmyRQMGDFB+fr6ko4sAXnzxRW3atElLlizRnXfeecxJewB2PPXUU1q9erW2bdum+fPn6+GHH9bo0aNDXRYMCIsAu/zyy3XuuecGbSssLFRubq6ko6u/CgoKJEmvvPKKRo0apYiICCUkJKhbt26c9AUM27p1q4YPH66UlBTdf//9uuOOO/T444+HuiwY0CLUBdSnvLxcsbGxkqTY2NjACqk9e/bokksuCTwvPj4+6B5wAGyZNm2apk2bFuoyYFBYjMBO5mQrklitBABnnrAdgcXGxqqsrExxcXHau3evYmJiJEnnn39+0F0Jdu3apfPPP/+Y1xNqANA4YbC2r0HCdgQ2dOjQwIWbc+bM0bBhwwLbFyxYoEOHDmnbtm366KOP6r31jOu6/HNdPfDAAyGvIVz+cSw4FhyLE/+zJCxGYKNGjdKyZcv02WefqXPnznrooYc0adIk5eTkaPbs2YFl9JKUkpKinJwcpaSkqEWLFnr66acZbQHAGSgsAmz+/PnH3V7fdzv94Q9/0B/+8IemLAkAEObCdgoR3vnuHSXOZByLb3AsvsGxsCks7sTRFLjLNQB8f5b6TkZgAACTCDAAgEkEGADAJAIMAGASAQYAMIkAAwCYRIABAEwiwAAAJhFgAACTCDAAgEkEGADAJAIMAGASAQYAMIkAAwCYRIABAEwiwAAAJhFgAACTCDAAgEkEGADAJAIMAGASAQYAMIkAAwCYRIABAEwiwAAAJhFgAACTCDAAgEkEGADAJAIMAGASAQYAMIkAAwCYRIABAEwiwAAAJhFgAACTCDAAgEkEGADAJAIMAGASAQYAMIkAAwCYRIABAEwiwAAAJhFgAACTCDAAgEkEGADAJAIMAGASAQYAMIkAAwCYRIABAEwiwAAAJhFgAACTCDAAgEkEGADAJAIMAGASAQYAMIkAAwCYRIABAEwiwAAAJoV9gE2ZMkWpqanq0aOHbrjhBh08eFAVFRXKyspSYmKiBg0apMrKylCXCQBoZmEdYKWlpXrmmWdUXFysjRs3qra2VgsWLFB+fr6ysrK0ZcsWDRgwQPn5+aEuFQDQzMI6wNq2bauIiAhVV1erpqZG1dXV6tSpkwoLC5WbmytJys3NVUFBQYgrBQA0t7AOsPbt2+uee+5Rly5d1KlTJ0VFRSkrK0vl5eWKjY2VJMXGxqq8vDzElQIAmltYB9jWrVv1xBNPqLS0VHv27FFVVZXmzZsX9BzHceQ4TogqBACESotQF3Aia9eu1WWXXabo6GhJ0vDhw/X2228rLi5OZWVliouL0969exUTE3Pc1+fl5QV+zsjIUEZGRjNUDQB2+P1++f3+UJfRKI7rum6oi6jPhg0bdOONN2rNmjU6++yzNXr0aPXt21fbt29XdHS0Jk6cqPz8fFVWVh6zkMNxHIXxWwOAsGSp7wzrAJOkqVOnas6cOfL5fOrTp4+effZZffnll8rJydGOHTuUkJCghQsXKioqKuh1lj4EAAgXlvrOsA+wxrL0IQBAuLDUd4b1Ig4AAOpDgAEATCLAAAAmEWAAAJMIMACASQQYAMAkAgwAYBIBBgAwiQADAJhEgAEATCLAAAAmEWAAAJMIMACASQQYAMAkAgwAYBIBBgAwiQADAJhEgAEATCLAAAAmEWAAAJMIMACASQQYAMAkAgwAYBIBBgAwiQADAJhEgAEATCLAAAAmEWAAAJMIMACASQQYAMAkAgwAYBIBBgAwiQADAJhEgAEATCLAAAAmEWAAAJMIMACASQQYAMAkAgwAYBIBBgAwiQADAJhEgAEATCLAAAAmEWAAAJMIMACASQQYAMAkAgwAYBIBBgAwiQADAJhEgAEATCLAAAAmEWAAAJMIMACASQQYAMAkAgwAYBIBBgAwqckCrLa2Vvv372+q5gEAZzhPA2zUqFHav3+/vvrqK/Xo0UPJycmaOnWql7sAAECSxwG2adMmtW3bVgUFBbrqqqtUWlqquXPnnlKblZWVGjFihJKTk5WSkqJ33nlHFRUVysrKUmJiogYNGqTKykqP3gEAwApPA6ympkaHDx9WQUGBsrOzFRERIcdxTqnNu+66S0OGDNHmzZtVUlKi7t27Kz8/X1lZWdqyZYsGDBig/Px8j94BAMAKTwNs3LhxSkhIUFVVlfr166fS0lK1a9eu0e198cUX+u9//6sxY8ZIklq0aKF27dqpsLBQubm5kqTc3FwVFBR4Uj8AwA7HdV23qRp3XVe1tbVq0aJFo16/fv16jRs3TikpKdqwYYMuvvhiPfHEE4qPj9e+ffsC+2jfvn3gcR3HcdSEbw0ATkuW+s7GJct3/OlPfwr8XDdlWHcAHMfRb37zm0a1W1NTo+LiYv35z39Wenq67r777mOmCx3HOeVpSgCAPZ4E2JdffnncEHFd95TCJT4+XvHx8UpPT5ckjRgxQlOmTFFcXJzKysoUFxenvXv3KiYm5rivz8vLC/yckZGhjIyMRtcCAKcjv98vv98f6jIapUmnEL3Qr18/Pfvss0pMTFReXp6qq6slSdHR0Zo4caLy8/NVWVl53JFZmL81AAg7lvpOTwPswIEDmj17tjZt2qQDBw4ERl/PPfdco9vcsGGDxo4dq0OHDunCCy/U888/r9raWuXk5GjHjh1KSEjQwoULFRUVFfQ6Sx8CAIQLS32npwFWd73WCy+8oAceeEDz5s1TcnKyZs6c6dUuGszShwAA4cJS3+lpgPXq1Uvr169Xz549VVJSosOHD+unP/2p3nnnHa920WCWPgQACBeW+k5PrwNr2bKlJKldu3bauHGjKisr9b///c/LXQAAIMmjVYh1br31VlVUVOjhhx/W0KFDVVVVpcmTJ3u5CwAAJBlYhdhYlobBABAuLPWdnozA5s6dq5tuuumYC5rrrgNr7IXMAADUx5MAq7s2q6qqyovmAAA4KU8CbNy4caqtrVWbNm0YbQEAmoVnqxDPOusszZ8/36vmAAA4IU8XcYwfP16HDx/Wz372M7Vu3TqwvU+fPl7tosEsnYgEgHBhqe/0JMAGDRqkN954QxkZGce9eW9RUdGp7uJ7s/QhAEC4sNR3enIOrO5iZat3NAYA2ONJgH3xxRdatGhRvb8fPny4F7sBACDAswB79dVX6/09AQYA8Jon58B69+6td99914t6PGNpHhcAwoWlvtPTm/kCANBcPAmwv/3tb140AwBAg3EzXwBAgKW+kylEAIBJngTYgAEDJEkTJkzwojkAAE7Kk2X0e/fu1cqVK1VYWKiRI0cGvkalTihuJQUAOL15cg7spZde0uzZs7VixQqlpaUd83tuJQUANljqOz1dxPHQQw/p/vvv96q5U2LpQwCAcGGp7/R8FeIrr7yit956S47jqH///srOzvay+Qaz9CEAQLiw1Hd6GmCTJk3SmjVrdOONN8p1XS1YsEBpaWmaMmWKV7toMEsfAgCEC0t9p6cB1qNHD61fv15nnXWWJKm2tla9evXSxo0bvdpFg1n6EAAgXFjqOz29DsxxHFVWVgYeV1ZWHvf7wQAAOFWeLKOv8/vf/159+vRRZmamXNfVsmXLlJ+f7+UuAACQ1ASLOPbs2aM1a9bIcRylp6erY8eOXjbfYJaGwQAQLiz1ndwLEQAQYKnv5F6IAACTCDAAgEmeBVhNTY2SkpK8ag4AgBPyLMBatGih7t27a/v27V41CQBAvTxdRl9RUaHU1FT17dtXrVu3lnT0hGBhYaGXuwEAwNsAmzx58jHbuJAZANAUPF9GX1paqo8//lgDBw5UdXW1ampq1LZtWy930SCWloICQLiw1Hd6ugpx1qxZuv766zVu3DhJ0q5du3Tttdd6uQsAACR5HGBPPfWUli9fHhhxJSYm6tNPP/VyFwAASPI4wFq1aqVWrVoFHtfU1HAODADQJDwNsP79++uRRx5RdXW13nzzTV1//fUh+0JLAMDpzdNFHLW1tZo9e7beeOMNSdLgwYM1duzYkIzCLJ2IBIBwYanv9HwV4sGDB/XBBx/IcRx1795dLVu29LL5BrP0IQBAuLDUd3p6HdjixYt1++2364c//KEk6ZNPPtFf/vIXDRkyxMvdAADg7QgsKSlJixcvVrdu3SRJW7du1ZAhQ/Thhx96tYsGs/RXBACEC0t9p6eLONq2bRsIL0n64Q9/GJKLmAEApz9PphBffvllSVJaWpqGDBminJwcSdJLL72ktLQ0L3YBAEAQTwLs1VdfDaw0jImJ0bJlyyRJHTp00Ndff+3FLgAACOL5KsRwYWkeFwDChaW+09NViJ988omefPJJlZaWqqamRhJfpwIAaBqeBtiwYcM0duxYZWdny+c7uj6EW0kBAJqCp1OIffv21erVq71q7pRYGgYDQLiw1Hd6GmBz587V1q1bNXjw4KCb+vbp08erXTSYpQ8BAMKFpb7T0ynE999/X3PnzlVRUVFgClGSioqKvNwNAADejsAuvPBCbd68OWT3P/w2S39FAEC4sNR3enonjh49emjfvn1eNgkAwHF5OoW4b98+de/eXenp6YFzYCyjBwA0BU8D7MEHH/SyOQAA6sWdOAAAAZb6Tk/PgUVGRqpNmzZq06aNWrVqJZ/Pd8p3o6+trVXv3r2VnZ0tSaqoqFBWVpYSExM1aNAgVVZWelE6AMAYTwOsqqpKX375pb788ksdOHBAixYt0p133nlKbc6YMUMpKSmBO3rk5+crKytLW7Zs0YABA5Sfn+9F6QAAYzwNsKCGfT4NGzZMS5YsaXQbu3bt0uuvv66xY8cGhrSFhYXKzc2VJOXm5qqgoMCTegEAtni6iKPue8Ek6ciRI1q3bp3OOeecRrc3fvx4Pf7449q/f39gW3l5uWJjYyVJsbGxKi8vb3zBAACzPA2wb38vWIsWLZSQkKBXXnmlUW299tpriomJUe/eveX3+4/7HMdxuFkwAJyhPA2wv/71r561tXLlShUWFur111/X119/rf379+umm25SbGysysrKFBcXp7179yomJqbeNvLy8gI/Z2RkKCMjw7P6AOB04Pf76x0khDtPltHXd/1X3ejo/vvvP6X2ly1bpj/+8Y969dVXNWHCBEVHR2vixInKz89XZWXlcRdyWFoKCgDhwlLf6ckijtatWysyMjLon+M4mj17th577DEvdhEIw0mTJunNN99UYmKi/vOf/2jSpEmetA8AsMXzC5n379+vmTNnavbs2crJydE999xzwmm+pmLprwgACBeW+k7PzoF9/vnnmj59ul544QXdfPPNKi4u1rnnnutV8wAABPEkwH7729/qH//4h2677TaVlJSoTZs2XjQLAEC9PJlC9Pl8atmypSIiIo7dgeMEXcfVXCwNgwEgXFjqOz0ZgR05csSLZgAAaLAmu5UUAABNiQADAJhEgAEATCLAAAAmEWAAAJMIMACASQQYAMAkAgwAYBIBBgAwiQADAJhEgAEATCLAAAAmEWAAAJMIMACASQQYAMAkAgwAYBIBBgAwiQADAJhEgAEATCLAAAAmEWAAAJMIMACASQQYAMAkAgwAYBIBBgAwiQADAJhEgAEATCLAAAAmEWAAAJMIMACASQQYAMAkAgwAYBIBBgAwiQADAJhEgAEATCLAAAAmEWAAAJMIMACASQQYAMAkAgwAYBIBBgAwiQADAJhEgAEATCLAAAAmEWAAAJMIMACASQQYAMAkAgwAYBIBBgAwiQADAJhEgAEATCLAAAAmEWAAAJMIMACASWEdYDt37lRmZqZSU1P1ox/9SDNnzpQkVVRUKCsrS4mJiRo0aJAqKytDXCkAoLk5ruu6oS6iPmVlZSorK1OvXr1UVVWliy++WAUFBXr++ed13nnnacKECXrssce0b98+5efnB73WcRyF8VsDgLBkqe8M6xFYXFycevXqJUmKjIxUcnKydu/ercLCQuXm5kqScnNzVVBQEMoyAQAhENYjsG8rLS1V//799d5776lLly7at2+fJMl1XbVv3z7wuI6lvyIAIFxY6jvDegRWp6qqStddd51mzJihNm3aBP3OcRw5jhOiygAAodIi1AWczOHDh3Xdddfppptu0rBhwyRJsbGxKisrU1xcnPbu3auYmJjjvjYvLy/wc0ZGhjIyMpqhYgCww+/3y+/3h7qMRgnrKUTXdZWbm6vo6GhNnz49sH3ChAmKjo7WxIkTlZ+fr8rKShZxAIAHLPWdYR1gy5cvV79+/dSzZ8/ANOGUKVPUt29f5eTkaMeOHUpISNDChQsVFRUV9FpLHwIAhAtLfWdYB9ipsPQhAEC4sNR3mljEAQDAdxFgAACTCDAAgElhv4weAHByjz8+S2fabWEJMAA4DVRWSl273uZBS+M8aKN5MIUIADCJAAMAmESAAQBMIsAAACYRYAAAkwgwAIBJBBgAwCQCDABgEhcyn4QXV7dHRUm/+50XFxgCAOoQYCfhxdXt27fP8qgaAEAdphABACYRYAAAkwgwAIBJBBgAwCQWcRjCikgA+AYBZggrIgHgG0whAgBMIsAAACYRYAAAkwgwAIBJBBgAwCQCDABgEgEGADCJAAMAmESAAQBM4k4cMM+LW2xJ3t1mi1t+Ac2DAIN5XtxiS/LuNlvc8gtoHkwhAgBMYgQGoFmE21Qv7CPAADSLcJvqhX1MIQIATGIEhkZhOsgGVkTidEaAoVGYDrKBFZE4nTGFCAAwiQADAJjEFCKAMw7ncE8PBBiAMw7ncE8PTCECAEwiwAAAJhFgAACTCDAAgEkEGADAJAIMAGASAQYAMIkAAwCYRIABAEwiwAAAJhFgAACTCDAAgEkEGADAJAIMAGASX6cCACHmxfeTrVpVrK5dvanHCgIMAELMi+8n8/tv96gaO8xOIS5ZskTdu3fXRRddpMceeyzU5QAAmpnJAKutrdUvf/lLLVmyRJs2bdL8+fO1efPmUJcVtj780B/qEsIGx+IbHItvcCxsMhlgq1evVrdu3ZSQkKCIiAiNHDlSr7zySqjLCltbtvhDXULY4Fh8g2PxDY6FTSYDbPfu3ercuXPgcXx8vHbv3h3CigAAzc3kIg7HcRr0vHXr1p3SfqKjo0/p9QCApuO4ruuGuojva9WqVcrLy9OSJUskSVOmTJHP59PEiRMDz2loyAEAglmJBZMBVlNTo6SkJP373/9Wp06d1LdvX82fP1/JycmhLg0A0ExMTiG2aNFCf/7znzV48GDV1tbqF7/4BeEFAGcYkyMwAABMrkI8GS5yPmrnzp3KzMxUamqqfvSjH2nmzJmhLimkamtr1bt3b2VnZ4e6lJCqrKzUiBEjlJycrJSUFK1atSrUJYXMlClTlJqaqh49eujknp1fAAAEW0lEQVSGG27QwYMHQ11SsxkzZoxiY2PVo0ePwLaKigplZWUpMTFRgwYNUuWp3t+qiZ12AcZFzt+IiIjQ9OnT9f7772vVqlV66qmnzthjIUkzZsxQSkrKGb/A56677tKQIUO0efNmlZSUnLHT76WlpXrmmWdUXFysjRs3qra2VgsWLAh1Wc3mlltuCSyEq5Ofn6+srCxt2bJFAwYMUH5+foiqa5jTLsC4yPkbcXFx6tWrlyQpMjJSycnJ2rNnT4irCo1du3bp9ddf19ixY82ssGoKX3zxhf773/9qzJgxko6eT27Xrl2IqwqNtm3bKiIiQtXV1aqpqVF1dbXOP//8UJfVbC6//HKde+65QdsKCwuVm5srScrNzVVBQUEoSmuw0y7AuMj5+EpLS/Xuu+/qJz/5SahLCYnx48fr8ccfl8932v0n/71s27ZNHTp00C233KI+ffro1ltvVXV1dajLCon27dvrnnvuUZcuXdSpUydFRUVp4MCBoS4rpMrLyxUbGytJio2NVXl5eYgrOrHT7v/mM3166Hiqqqo0YsQIzZgxQ5GRkaEup9m99tpriomJUe/evc/o0Zd09BKU4uJi3XnnnSouLlbr1q3DfpqoqWzdulVPPPGESktLtWfPHlVVVemFF14IdVlhw3GcsO9PT7sAO//887Vz587A4507dyo+Pj6EFYXW4cOHdd111+nnP/+5hg0bFupyQmLlypUqLCzUBRdcoFGjRuk///mPbr755lCXFRLx8fGKj49Xenq6JGnEiBEqLi4OcVWhsXbtWl122WWKjo5WixYtNHz4cK1cuTLUZYVUbGysysrKJEl79+5VTExMiCs6sdMuwNLS0vTRRx+ptLRUhw4d0osvvqihQ4eGuqyQcF1Xv/jFL5SSkqK777471OWEzKOPPqqdO3dq27ZtWrBgga644gr97W9/C3VZIREXF6fOnTtry5YtkqSlS5cqNTU1xFWFRvfu3bVq1SodOHBArutq6dKlSklJCXVZITV06FDNmTNHkjRnzpyw/6PX5IXMJ8JFzt9YsWKF5s2bp549e6p3796Sji4bvvLKK0NcWWiF+7RIU3vyySd144036tChQ7rwwgv1/PPPh7qkkPjxj3+sm2++WWlpafL5fOrTp49uu+3UvlTSklGjRmnZsmX67LPP1LlzZz300EOaNGmScnJyNHv2bCUkJGjhwoWhLvOEuJAZAGDSaTeFCAA4MxBgAACTCDAAgEkEGADAJAIMAGASAQYAMIkAAwCYRIABAEwiwAAAJhFgAACTCDAAgEkEGADAJAIMAGASAQYAMIkAAwCYRIABAEwiwAAAJhFgAACTCDAAgEkEGADAJAIMAGASAQYAMIkAAwCYRIABAEwiwAAAJhFgAACTCDAAgEkEGADAJAIMAGASAQYAMIkAAwCYRIABAEwiwAAAJhFgAACTCDAAgEkEGADAJAIMAGASAQYAMIkAAwCYRIABAEwiwAAAJv0/Fa8XSUsJu8AAAAAASUVORK5CYII=\"\n",
       "  frames[3] = \"data:image/png;base64,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\"\n",
       "  frames[4] = \"data:image/png;base64,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\"\n",
       "  frames[5] = \"data:image/png;base64,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\"\n",
       "  frames[6] = \"data:image/png;base64,iVBORw0KGgoAAAANSUhEUgAAAbAAAAGwCAYAAADITjAqAAAABHNCSVQICAgIfAhkiAAAAAlwSFlzAAALEgAACxIB0t1+/AAAIABJREFUeJzt3X1UVHXix/HPHUEt8aFIQMOkMhBIV03s4VQOIVqeMDMl7WnMLKvTk9Wqrb8MtXLSVtOyc9ay1rK17OQSPaxbbmCpaSoppRZlYj5BDzQZYSl4f394mJoENbxw56vv1zmeA5eZ7/3OnW3ee+/cO2PZtm0LAADDeNyeAAAA9UHAAABGImAAACMRMACAkQgYAMBIBAwAYCQCBgAwEgEDABiJgAEAjETAAABGImAAACMRMACAkQgYAMBIBAwAYCQCBgAwEgEDABiJgAEAjETAAABGImAAACMRMACAkQgYAMBIBAwAYCQCBgAwEgEDABiJgAEAjETAAABGImA4ZhUUFMjj8ai8vNztqRzk8ccf1+mnn+72NA6ppKREHo9HhYWFko5se3o8Hi1atKixpojjHAGD44YPHy6PxyOPx6OmTZsqNjZWl1xyiZ5++mlVVVW5Pb2wlJOToxtvvLFe933ggQd01llnhSzbvn27PB6PsrKyQpYvWbJEHo9HW7ZsqfdcD6W0tFSXX355g4wN/BEBg+Msy1JmZqZKS0u1detWvfvuu8rKytJDDz2kiy66SJWVlXXed+/evY0404a3b9++I7qdZVn1Xscll1yizZs3a8eOHcFl+fn56tChg5YtW6b9+/eHLO/YsWOD7f3FxMSoadOmDTI28EcEDI6zbVtNmzZVTEyM2rVrp65du2r06NEqKChQYWGhpk6dGrxtQkKCJk6cqBEjRuikk07S9ddfr61bt4Ycuqrx+8NTNYe3Fi1apMzMTLVo0UKpqalasmRJnfP69ddfdeWVV6pnz5769ttvNXToUN12223Bv//f//2fPB6PVq1aFVzWoUMH/etf/5IkrV69Wn379lXbtm3VunVrXXTRRVq5cuVBc3z66ac1aNAgRUVFafz48ZKkqVOnKi4uTi1btpTP51NFRcVB2+z33n//fZ133nlq2bKl2rRpo3PPPVcbNmyo9XFdcMEFioyMVH5+fnBZQUGBbrjhBkVFRYVsx/z8fF1yySWSpPnz5ystLU2tWrVSbGyssrOztXPnzjq3X13b85xzztF3330XfPx/9jl66623lJSUpBNOOEHp6el65ZVX5PF49PXXXx/xXHB8ImBoNKmpqbr00kv12muvhSyfPn26UlJStHbtWj366KMHvZgfyvjx43XPPfeoqKhIaWlpGjp0qH7++eeDbrd7925deumlCgQCKigoUNu2bZWenq6CgoLgbWqW1yz78ssvtWPHDnm9XklSRUWFfD6fli1bptWrV6tbt27q37//Qe8JTZw4UZdffrk+/fRT3X777Vq4cKEefPBBTZ48WR9//LGSkpI0ffr0kL0uy7KCv1dVVemKK67QxRdfrKKiIn300UcaPXq0mjRpUus2aNGihXr16hUSsPz8fHm9XvXu3Tu4vKKiQmvWrFF6erqkA3uHkydPVlFRkd5880199913GjZs2BFt999vz6VLl+qUU06p87aHeo6+/vprDRo0SFlZWSoqKtIdd9yhMWPGHNUeKY4jNuAwn89nX3755bX+bezYsfaJJ54Y/L1jx472gAEDQm6zZcsW27Ise+3atSHLLcuyX3vttZDbzJkzJ/j3HTt22JZl2cuXL7dt27bz8/Nty7LsjRs32j169LCvuOIK+9dffw3eftOmTbZlWXZpaan9888/282aNbOnTp1q9+vXz7Zt237mmWfss846q87HuX//frtdu3b2/PnzQ+Z41113hdzu/PPPt2+55ZaQZX369LFPP/30Wsf9/vvvbcuy7KVLl9a57j968MEHg+Nt2bLFbtasmb1nzx57zpw59mWXXWbbtm3/5z//sS3Lsnfs2FHrGDXbo+bvf3weDrc9ax7/n3mOxo0bZ6ekpISM8eijj9qWZdlbt2494seP4xN7YGhUtm0ftOfRs2fPeo/XtWvX4M/t2rWTJH3zzTcht+nXr586dOigRYsWhbw/07lzZ8XFxSk/P18rVqxQp06dlJ2dreXLl6uqqkoFBQXBva+acUeNGqWkpCS1adNGrVq10jfffKNt27aFrO+Pj+ezzz7T+eefH7LsvPPOq3NP8+STT9bw4cPVr18/XX755ZoxY8ZB6/ij9PR0lZSUaOvWrcrPz1evXr3UvHlz9e7dW8uWLVN1dbXy8/N11llnqX379pKkwsJCXXHFFUpISFCrVq2UlpYmSYc9dFfX9qzLoZ6jzz77LLjeGr169TrsmIDEIUQ0so0bN+rMM88MWdaiRYuQ3z2eA/+z/P0LfF0nQ0RGRgZ/rgnj709akKSsrCwtW7ZMn3zyyUH3rznEtnTpUqWnp6tjx4465ZRTtHr1ar3//vshAfP5fFq7dq2eeOIJffjhh1q3bp3i4+MPOvHkj4+nPp577jmtWrVKF198sfLy8pSUlKR33nmnztuff/75atasmQoKCkLCm5iYqJYtW2rNmjUqKCgIvv/1888/q1+/foqKitL8+fO1Zs0aLV68WNLhT6Q51PaszaGeI8uy/tQhY+D3CBgaRG3vYXz66af673//q8GDBx/yvm3btpWkkBMK1q1bV++5TJ48WbfeeqsyMjK0fv36kL95vV7l5+eHvOh7vV7NmTNH27dvDwnY8uXLdeedd+qyyy5TcnKyoqKitGvXrsOuPzk5WR9++GHIspUrVx72fZ6uXbtqzJgxwfez5s2bV+dtmzdvrvPPP/+gxyIdiHRubq4KCwuDAfvss8/0/fff69FHH9WFF16oxMRElZWVHfaxSIfenn9W586dtWbNmpBlH3300VGNieMHAUOD+OWXX1RWVqadO3dq/fr1mj59utLT09WzZ0/df//9h7zvCSecoPPOO0+PPfaYNm7cqBUrVhz2Pofz8MMPa9SoUerTp4+KioqCy71er7788kutXr06JGDz589Xp06dgofbpAN7My+++KI2bdqk1atXa+jQoUd0CO3uu+/WvHnz9Oyzz+qLL77QlClTDvkiXVJSonHjxunDDz8MHhIsKipSamrqIdeTnp6uRYsW6ZtvvtEFF1wQXN67d2/Nnj1b+/fvD57Acdppp6lZs2Z68skn9dVXX+mtt97Sgw8+eNjHUqOu7fln3Xrrrdq8ebP++te/6vPPP9eiRYs0Z86ckJNagLoQMDjOsiwtWbJE7dq1U8eOHdWnTx+9+eabmjhxot5//32dcMIJhx3jueeekySlpaXptttu0yOPPFLreo5kLjUeeeQR3XzzzcrIyAge/kpKSlJcXJwSExMVHR0t6UDAqqurQ/ZiauZUUVGhc845R9dcc41GjhyphISEw84hOztbOTk5Gj9+vHr06KENGzbo3nvvrfP2J554or744gsNGTJESUlJGj58uK677jqNHTv2kOtJT09XRUWF0tLS1Lx58+Byr9eriooKpaamBs8WbNu2rebNm6fc3FylpqZq8uTJmjFjxkHb9FC/17Y9/+hwz9Fpp52m1157TXl5eerWrZtmzpypCRMmyLbtkMcA1Mayw+AA9IgRI/TWW28pJiYm+B9CeXm5rr76am3dulUJCQlauHCh2rRpI0maMmWKnnvuOTVp0kSzZs1S37593Zw+AAfNnDlTOTk5+uGHH9yeCsJcWOyB3XjjjcE3kGv4/X5lZmaquLhYGRkZ8vv9kg6cBPDKK69o48aNWrx4sW6//faD3rQHYI7Zs2fro48+0pYtW7RgwQI9/PDDGj58uNvTggHCImAXXXSRTjrppJBleXl58vl8kg6c/ZWbmytJev311zVs2DBFRkYqISFBnTp14k1fwGCbN2/WoEGDlJKSogkTJui2227TtGnT3J4WDBDh9gTqUlZWptjYWElSbGxs8AypnTt36rzzzgveLj4+PuQz4ACYZfr06Zo+fbrb04CBwmIP7HAOd0YSZysBwPEnbPfAYmNjVVpaqri4OO3atUsxMTGSpFNPPTXkUwm2b9+uU0899aD7EzUAqJ8wOLfviITtHtiAAQOCF27OmzdPAwcODC5/+eWXtXfvXm3ZskVffPFFnR89Y9s2/2xbDz30kOtzCJd/bAu2Bdvi0P9MEhZ7YMOGDdPSpUv13XffqUOHDpo0aZLGjRun7OxszZ07N3gavSSlpKQoOztbKSkpioiI0NNPP83eFgAch8IiYAsWLKh1eV3f7fS3v/1Nf/vb3xpySgCAMBe2hxDhnD9+osTxjG3xG7bFb9gWZgqLT+JoCHzKNQD8eSa9drIHBgAwEgEDABiJgAEAjETAAABGImAAACMRMACAkQgYAMBIBAwAYCQCBgAwEgEDABiJgAEAjETAAABGImAAACMRMACAkQgYAMBIBAwAYCQCBgAwEgEDABiJgAEAjETAAABGImAAACMRMACAkQgYAMBIBAwAYCQCBgAwEgEDABiJgAEAjETAAABGImAAACMRMACAkQgYAMBIBAwAYCQCBgAwEgEDABiJgAEAjETAAABGImAAACMRMACAkQgYAMBIBAwAYCQCBgAwEgEDABiJgAEAjETAAABGImAAACMRMACAkQgYAMBIBAwAYCQCBgAwEgEDABiJgAEAjETAAABGImAAACMRMACAkQgYAMBIBAwAYKSwD9iUKVOUmpqqLl266JprrtGvv/6q8vJyZWZmKjExUX379lUgEHB7mgCARhbWASspKdEzzzyjwsJCffLJJ6qurtbLL78sv9+vzMxMFRcXKyMjQ36/3+2pAgAaWVgHrFWrVoqMjFRlZaWqqqpUWVmp9u3bKy8vTz6fT5Lk8/mUm5vr8kwBAI0trAN28skn67777tNpp52m9u3bq02bNsrMzFRZWZliY2MlSbGxsSorK3N5pgCAxhbWAdu8ebOeeOIJlZSUaOfOnaqoqND8+fNDbmNZlizLcmmGAAC3RLg9gUNZs2aNLrjgAkVHR0uSBg0apA8//FBxcXEqLS1VXFycdu3apZiYmFrvn5OTE/zZ6/XK6/U2wqwBwBwFBQUqKChwexr1Ytm2bbs9ibqsX79e1157rVavXq3mzZtr+PDh6tWrl7Zu3aro6GiNHTtWfr9fgUDgoBM5LMtSGD80AAhLJr12hnXAJGnq1KmaN2+ePB6PevTooWeffVY//fSTsrOz9fXXXyshIUELFy5UmzZtQu5n0pMAAOHCpNfOsA9YfZn0JABAuDDptTOsT+IAAKAuBAwAYCQCBgAwEgEDABiJgAEAjETAAABGImAAACMRMACAkQgYAMBIBAwAYCQCBgAwEgEDABiJgAEAjETAAABGImAAACMRMACAkQgYAMBIBAwAYCQCBgAwEgEDABiJgAEAjETAAABGImAAACMRMACAkQgYAMBIBAwAYCQCBgAwEgEDABiJgAEAjETAAABGImAAACMRMACAkQgYAMBIBAwAYCQCBgAwEgEDABiJgAEAjETAAABGImAAACMRMACAkQgYAMBIBAwAYCQCBgAwEgEDABiJgAEAjETAAABGImAAACMRMACAkQgYAMBIBAwAYCQCBgAwEgEDABiJgAEAjETAAABGImAAACMRMACAkRosYNXV1dq9e3dDDQ8AOM45GrBhw4Zp9+7d+vnnn9WlSxclJydr6tSpTq4CAABJDgds48aNatWqlXJzc3XZZZeppKREL7744lGNGQgENHjwYCUnJyslJUWrVq1SeXm5MjMzlZiYqL59+yoQCDj0CAAApnA0YFVVVdq3b59yc3OVlZWlyMhIWZZ1VGPefffd6t+/vzZt2qSioiJ17txZfr9fmZmZKi4uVkZGhvx+v0OPAABgCkcDNmrUKCUkJKiiokIXX3yxSkpK1Lp163qP9+OPP+qDDz7QiBEjJEkRERFq3bq18vLy5PP5JEk+n0+5ubmOzB8AYA7Ltm27oQa3bVvV1dWKiIio1/3XrVunUaNGKSUlRevXr9c555yjJ554QvHx8frhhx+C6zj55JODv9ewLEsN+NAA4Jhk0mtn/cryB3//+9+DP9ccMqzZAJZl6d57763XuFVVVSosLNRTTz2ltLQ03XPPPQcdLrQs66gPUwIAzONIwH766adaI2Lb9lHFJT4+XvHx8UpLS5MkDR48WFOmTFFcXJxKS0sVFxenXbt2KSYmptb75+TkBH/2er3yer31ngsAHIsKCgpUUFDg9jTqpUEPITrh4osv1rPPPqvExETl5OSosrJSkhQdHa2xY8fK7/crEAjUumcW5g8NAMKOSa+djgZsz549mjt3rjZu3Kg9e/YE976ee+65eo+5fv16jRw5Unv37tWZZ56p559/XtXV1crOztbXX3+thIQELVy4UG3atAm5n0lPAgCEC5NeOx0NWM31Wi+99JIeeughzZ8/X8nJyZo1a5ZTqzhiJj0JABAuTHrtdDRg3bp107p169S1a1cVFRVp3759uvDCC7Vq1SqnVnHETHoSACBcmPTa6eh1YE2bNpUktW7dWp988okCgYC+/fZbJ1cBAIAkh85CrHHzzTervLxcDz/8sAYMGKCKigpNnjzZyVUAACDJgLMQ68uk3WAACBcmvXY6sgf24osv6vrrrz/oguaa68DqeyEzAAB1cSRgNddmVVRUODEcAACH5UjARo0aperqarVs2ZK9LQBAo3DsLMQmTZpowYIFTg0HAMAhOXoSx+jRo7Vv3z5dffXVatGiRXB5jx49nFrFETPpjUgACBcmvXY6ErC+ffvqnXfekdfrrfXDe/Pz8492FX+aSU8CAIQLk147HXkPrOZiZVM/0RgAYB5HAvbjjz9q0aJFdf590KBBTqwGAIAgxwL2xhtv1Pl3AgYAcJoj74F1795dH3/8sRPzcYxJx3EBIFyY9Nrp6If5AgDQWBwJ2AsvvODEMAAAHDFH3gPr0qWLE8MAAOpp2rQ5CgTcnkXjcvTrVAAA7ggEpI4db3FgpFEOjNE4HDmEmJGRIUkaM2aME8MBAHBYjuyB7dq1SytWrFBeXp6GDh0a/BqVGm58lBQA4NjmSMAmTpyoSZMmaceOHbrvvvsO+rsbHyUFADi2ORKwIUOGaMiQIZo0aZImTJjgxJAAABySoydxTJgwQa+//rref/99WZal3r17Kysry8lVAAAgyeELmceNG6dZs2YpNTVVycnJmjVrlh544AEnVwEAgCSH98DeeustrVu3Tk2aNJEkDR8+XN26ddOUKVOcXA0AAM7ugVmWpcDvrqQLBAK1fj8YAABHy9E9sAceeEA9evRQenq6bNvW0qVL5ff7nVwFAACSHA7YsGHD1Lt3b61evVqWZcnv96tdu3ZOrgIAAEkN8FFS7du31xVXXOH0sAAAhODrVAAARiJgAAAjORawqqoqJSUlOTUcAACH5FjAIiIi1LlzZ23dutWpIQEAqJOjJ3GUl5crNTVVvXr1UosWLSQduDYsLy/PydUAAOBswCZPnnzQMi5kBgA0BEcD5vV6VVJSoi+//FJ9+vRRZWWlqqqqnFwFAACSHD4Lcc6cORoyZIhGjTrwldTbt2/XlVde6eQqAACQ5HDAZs+erWXLlqlVq1aSpMTERH3zzTdOrgIAAEkOB6xZs2Zq1qxZ8PeqqireAwMANAhHA9a7d2898sgjqqys1LvvvqshQ4bwhZYAgAbhaMD8fr/atm2rLl266B//+If69++vhx9+2MlVAAAgyeGzEJs0aSKfz6dzzz1XlmWpc+fOHEIEADQIx7+R+dZbb9UZZ5whSfrqq6+Ce2IAADjJ0YDde++9ys/PV6dOnSRJmzdvVv/+/QkYAMBxjr4H1qpVq2C8JOmMM84InlIPAICTHNkDe+211yRJPXv2VP/+/ZWdnS1JevXVV9WzZ08nVgEAQAhHAvbGG28ET9aIiYnR0qVLJUlt27bVL7/84sQqAAAI4UjA/vnPfzoxDAAAR8zRkzi++uorPfnkkyopKQl+iC9fpwIAaAiOBmzgwIEaOXKksrKy5PEcOD+E68AAAA3B0YA1b95cd911l5NDAgBQK0cDdueddyonJ0f9+vUL+VDfHj16OLkaAACcDdiGDRv04osvKj8/P3gIUZLy8/OdXA0AAM4G7NVXX9WWLVvUtGlTJ4cFAOAgjn4SR5cuXfTDDz84OSQAALVydA/shx9+UOfOnZWWlhZ8D4zT6AEADcHRgE2cONHJ4QAAqJOjAfN6vU4OBwBAnRx9DywqKkotW7ZUy5Yt1axZM3k8nqP+NPrq6mp1795dWVlZkqTy8nJlZmYqMTFRffv2VSAQcGLqAADDOBqwiooK/fTTT/rpp5+0Z88eLVq0SLfffvtRjTlz5kylpKQEP9HD7/crMzNTxcXFysjIkN/vd2LqAADDOBqwkIE9Hg0cOFCLFy+u9xjbt2/X22+/rZEjR8q2bUlSXl6efD6fJMnn8yk3N9eR+QIAzOLoe2A13wsmSfv379fatWt1wgkn1Hu80aNHa9q0adq9e3dwWVlZmWJjYyVJsbGxKisrq/+EAQDGcjRgv/9esIiICCUkJOj111+v11hvvvmmYmJi1L17dxUUFNR6G8uy+LBgADhOORowJ78XbMWKFcrLy9Pbb7+tX375Rbt379b111+v2NhYlZaWKi4uTrt27VJMTEydY+Tk5AR/9nq9nCUJAH/w+ecFKi4ucHsa9WLZNW8uHYW6rv+q2TuaMGHCUY2/dOlSPf7443rjjTc0ZswYRUdHa+zYsfL7/QoEArWeyGFZlhx4aABghPHj56hjx1uOepxRo8x57XTkJI4WLVooKioq5J9lWZo7d64ee+wxJ1YRjOG4ceP07rvvKjExUe+9957GjRvnyPgAALM4sgf2e7t379asWbM0d+5cZWdn67777jvkYb6Gwh4YgOPJ8bgH5th7YN9//71mzJihl156STfccIMKCwt10kknOTU8AAAhHAnY/fffr3//+9+65ZZbVFRUpJYtWzoxLAAAdXLkEKLH41HTpk0VGRl58AosK+Q6rsbCIUQAxxMOIdbT/v37nRgGAIAj1mAfJQUAQEMiYAAAIxEwAICRCBgAwEgEDABgJAIGADASAQMAGImAAQCMRMAAAEYiYAAAIxEwAICRCBgAwEgEDABgJAIGADASAQMAGImAAQCMRMAAAEYiYAAAIxEwAICRCBgAwEgEDABgJAIGADASAQMAGImAAQCMRMAAAEYiYAAAIxEwAICRCBgAwEgEDABgJAIGADASAQMAGImAAQCMRMAAAEYiYAAAIxEwAICRCBgAwEgEDABgJAIGADASAQMAGImAAQCMRMAAAEYiYAAAIxEwAICRCBgAwEgEDABgJAIGADASAQMAGImAAQCMRMAAAEYiYAAAIxEwAICRCBgAwEgEDABgJAIGADBSWAds27ZtSk9PV2pqqs4++2zNmjVLklReXq7MzEwlJiaqb9++CgQCLs8UANDYwjpgkZGRmjFjhjZs2KCVK1dq9uzZ2rRpk/x+vzIzM1VcXKyMjAz5/X63pwoAaGRhHbC4uDh169ZNkhQVFaXk5GTt2LFDeXl58vl8kiSfz6fc3Fw3pwkAcEFYB+z3SkpK9PHHH+vcc89VWVmZYmNjJUmxsbEqKytzeXYAgMZmRMAqKip01VVXaebMmWrZsmXI3yzLkmVZLs0MAOCWCLcncDj79u3TVVddpeuvv14DBw6UdGCvq7S0VHFxcdq1a5diYmJqvW9OTk7wZ6/XK6/X2wgzBgBzfP55gYqLC9yeRr1Ytm3bbk+iLrZty+fzKTo6WjNmzAguHzNmjKKjozV27Fj5/X4FAoGDTuSwLEth/NAAwFHjx89Rx463HPU4o0aZ89oZ1ntgy5cv1/z589W1a1d1795dkjRlyhSNGzdO2dnZmjt3rhISErRw4UKXZwoAaGxhHbALL7xQ+/fvr/VvS5YsaeTZAADCiREncQAA8EcEDABgJAIGADASAQMAGImAAQCMRMAAAEYiYAAAIxEwAICRCBgAwEgEDABgJAIGADASAQMAGImAAQCMRMAAAEYiYAAAIxEwAICRCBgAwEgEDABgJAIGADASAQMAGImAAQCMRMAAAEYiYAAAIxEwAICRCBgAwEgEDABgpAi3J4AjN23aHAUCRzdGmzbSX/96izMTAgAXETCDBAJSx45HF5+tW+c4NBsAcBeHEAEARiJgAAAjETAAgJEIGADASAQMAGAkAgYAMBIBAwAYiYABAIxEwAAARiJgAAAjETAAgJEIGADASHyYL3AM4xsMcCwjYMAxjG8wwLGMQ4gAACOxB4Z6ceLQlOTM4alwmguAxkPAUC9OHJqSnDk8FU5zAdB4OIQIADASe2CAwzjzD2gcBAxwGGf+AY2DQ4gAACMRMACAkTiEeBi8nwEA4YmAHQbvZwBAeOIQIgDASOyBAWgU4fSJKeE0F9QfAQPQKMLpE1PCaS6oPw4hAgCMRMAAAEYiYAAAIxkbsMWLF6tz584666yz9Nhjj7k9HQBAIzMyYNXV1brjjju0ePFibdy4UQsWLNCmTZvcnlbY+vzzArenEDbYFr9hW/yGbWEmI89C/Oijj9SpUyclJCRIkoYOHarXX39dycnJ7k4sTBUXFygpyev2NMIC2+I3bIvfuL0tnDitf+XKQnXs6Mx8TGFkwHbs2KEOHToEf4+Pj9eqVatcnBEA1J8Tp/UXFNzq0GzMYWTALMs6otutXbv2qNYTHR19VPcHADQcy7Zt2+1J/FkrV65UTk6OFi9eLEmaMmWKPB6Pxo4dG7zNkUYOABDKlCwYGbCqqiolJSXpf//7n9q3b69evXppwYIFvAcGAMcRIw8hRkRE6KmnnlK/fv1UXV2tm266iXgBwHHGyD0wAACMvA7scLjI+YBt27YpPT1dqampOvvsszVr1iy3p+Sq6upqde/eXVlZWW5PxVWBQECDBw9WcnKyUlJStHLlSren5JopU6YoNTVVXbp00TXXXKNff/3V7Sk1mhEjRig2NlZdunQJLisvL1dmZqYSExPVt29fBZz4yP4GdMwFjIucfxMZGakZM2Zow4apXWKaAAAEKklEQVQNWrlypWbPnn3cbgtJmjlzplJSUo77E3zuvvtu9e/fX5s2bVJRUdFxe/i9pKREzzzzjAoLC/XJJ5+ourpaL7/8stvTajQ33nhj8ES4Gn6/X5mZmSouLlZGRob8fr9Lszsyx1zAfn+Rc2RkZPAi5+NRXFycunXrJkmKiopScnKydu7c6fKs3LF9+3a9/fbbGjlypDFnWDWEH3/8UR988IFGjBgh6cD7ya1bt3Z5Vu5o1aqVIiMjVVlZqaqqKlVWVurUU091e1qN5qKLLtJJJ50UsiwvL08+n0+S5PP5lJub68bUjtgxF7DaLnLesWOHizMKDyUlJfr444917rnnuj0VV4wePVrTpk2Tx3PM/U/+T9myZYvatm2rG2+8UT169NDNN9+syspKt6flipNPPln33XefTjvtNLVv315t2rRRnz593J6Wq8rKyhQbGytJio2NVVlZmcszOrRj7r/m4/3wUG0qKio0ePBgzZw5U1FRUW5Pp9G9+eabiomJUffu3Y/rvS/pwCUohYWFuv3221VYWKgWLVqE/WGihrJ582Y98cQTKikp0c6dO1VRUaGXXnrJ7WmFDcuywv719JgL2Kmnnqpt27YFf9+2bZvi4+NdnJG79u3bp6uuukrXXXedBg4c6PZ0XLFixQrl5eXp9NNP17Bhw/Tee+/phhtucHtaroiPj1d8fLzS0tIkSYMHD1ZhYaHLs3LHmjVrdMEFFyg6OloREREaNGiQVqxY4fa0XBUbG6vS0lJJ0q5duxQTE+PyjA7tmAtYz5499cUXX6ikpER79+7VK6+8ogEDBrg9LVfYtq2bbrpJKSkpuueee9yejmseffRRbdu2TVu2bNHLL7+sSy65RC+88ILb03JFXFycOnTooOLiYknSkiVLlJqa6vKs3NG5c2etXLlSe/bskW3bWrJkiVJSUtyelqsGDBigefPmSZLmzZsX9v+n18gLmQ+Fi5x/s3z5cs2fP19du3ZV9+7dJR04bfjSSy91eWbuCvfDIg3tySef1LXXXqu9e/fqzDPP1PPPP+/2lFzxl7/8RTfccIN69uwpj8ejHj166JZbju4DdU0ybNgwLV26VN999506dOigSZMmady4ccrOztbcuXOVkJCghQsXuj3NQ+JCZgCAkY65Q4gAgOMDAQMAGImAAQCMRMAAAEYiYAAAIxEwAICRCBgAwEgEDABgJAIGADASAQMAGImAAQCMRMAAAEYiYAAAIxEwAICRCBgAwEgEDABgJAIGADASAQMAGImAAQCMRMAAAEYiYAAAIxEwAICRCBgAwEgEDABgJAIGADASAQMAGImAAQCMRMAAAEYiYAAAIxEwAICRCBgAwEgEDABgJAIGADASAQMAGImAAQCMRMAAAEYiYAAAIxEwAICRCBgAwEgEDABgJAIGADDS/wNSKFCYibS0WwAAAABJRU5ErkJggg==\"\n",
       "  frames[7] = \"data:image/png;base64,iVBORw0KGgoAAAANSUhEUgAAAbAAAAGwCAYAAADITjAqAAAABHNCSVQICAgIfAhkiAAAAAlwSFlzAAALEgAACxIB0t1+/AAAIABJREFUeJzt3X9wFOXhx/HPHgSwhB+akgsIJFZMSFIopAR/jEJiCChjkCKkoMUDqqCO9WcLWL5iEJUTLAgWZ4qipdKidKQx/iittDkoIAhEjQU0iglCILEaTwxBMWG/fzA5PSCAYZO9h7xfM8wkm7tnn9vUe3f3nrtYtm3bAgDAMB63JwAAQGMQMACAkQgYAMBIBAwAYCQCBgAwEgEDABiJgAEAjETAAABGImAAACMRMACAkQgYAMBIBAwAYCQCBgAwEgEDABiJgAEAjETAAABGImAAACMRMACAkQgYAMBIBAwAYCQCBgAwEgEDABiJgAEAjETAAABGImAAACMRMACAkQgYzlqBQEAej0dVVVVuT+U4jz32mC644AK3p3FSZWVl8ng8KioqknR6x9Pj8WjVqlXNNUW0cAQMjpswYYI8Ho88Ho/atGkjr9erK6+8Uk8++aRqa2vdnl5EysvL08SJExt13/vuu08XXXRR2La9e/fK4/EoJycnbPuaNWvk8XhUWlra6LmeTEVFha655pomGRs4FgGD4yzLUnZ2tioqKrR79269/vrrysnJ0QMPPKArrrhCNTU1Dd738OHDzTjTpvfNN9+c1u0sy2r0Pq688krt2rVL5eXloW2FhYXq0aOH1q9fryNHjoRtj4+Pb7Kzv9jYWLVp06ZJxgaORcDgONu21aZNG8XGxqpr167q27ev7r77bgUCARUVFWnu3Lmh2yYkJGjWrFmaNGmSzj33XI0fP167d+8Ou3RV77uXp+ovb61atUrZ2dlq3769UlNTtWbNmgbn9fXXX+tnP/uZBgwYoP/9738aO3asbr311tDP/+///k8ej0ebN28ObevRo4f+8pe/SJK2bNmioUOHqkuXLurUqZOuuOIKbdq06bg5Pvnkkxo1apSio6M1Y8YMSdLcuXMVFxenDh06yOfzqbq6+rhj9l3r1q3TJZdcog4dOqhz5866+OKLtX379hM+rssuu0xRUVEqLCwMbQsEArrxxhsVHR0ddhwLCwt15ZVXSpKWL1+u9PR0dezYUV6vV7m5udq3b1+Dx6+h4/nTn/5Un376aejxf9/f0auvvqqkpCSdc845yszM1AsvvCCPx6OPP/74tOeClomAodmkpqbqqquu0osvvhi2ff78+UpJSdG2bdv0yCOPHPdkfjIzZszQXXfdpeLiYqWnp2vs2LE6ePDgcbc7cOCArrrqKgWDQQUCAXXp0kWZmZkKBAKh29Rvr9/24Ycfqry8XBkZGZKk6upq+Xw+rV+/Xlu2bFG/fv00fPjw414TmjVrlq655hr997//1W233aaVK1fq/vvv1+zZs/XWW28pKSlJ8+fPDzvrsiwr9H1tba2uvfZaDRo0SMXFxXrzzTd19913q1WrVic8Bu3bt9fAgQPDAlZYWKiMjAwNHjw4tL26ulpbt25VZmampKNnh7Nnz1ZxcbFeeeUVffrppxo3btxpHffvHs+1a9fqhz/8YYO3Pdnv6OOPP9aoUaOUk5Oj4uJi3X777Zo6deoZnZGiBbEBh/l8Pvuaa6454c+mTZtm/+AHPwh9Hx8fb48YMSLsNqWlpbZlWfa2bdvCtluWZb/44otht1myZEno5+Xl5bZlWfaGDRts27btwsJC27Ise8eOHXZaWpp97bXX2l9//XXo9jt37rQty7IrKirsgwcP2m3btrXnzp1rDxs2zLZt237qqafsiy66qMHHeeTIEbtr16728uXLw+Z4xx13hN3u0ksvtSdPnhy2bciQIfYFF1xwwnE/++wz27Ise+3atQ3u+1j3339/aLzS0lK7bdu29qFDh+wlS5bYV199tW3btv33v//dtizLLi8vP+EY9cej/ufH/h5OdTzrH//3+R1Nnz7dTklJCRvjkUcesS3Lsnfv3n3ajx8tE2dgaFa2bR935jFgwIBGj9e3b9/Q1127dpUkffLJJ2G3GTZsmHr06KFVq1aFvT7Tu3dvxcXFqbCwUBs3blSvXr2Um5urDRs2qLa2VoFAIHT2VT/ulClTlJSUpM6dO6tjx4765JNPtGfPnrD9Hft43nvvPV166aVh2y655JIGzzTPO+88TZgwQcOGDdM111yjBQsWHLePY2VmZqqsrEy7d+9WYWGhBg4cqHbt2mnw4MFav3696urqVFhYqIsuukjdunWTJBUVFenaa69VQkKCOnbsqPT0dEk65aW7ho5nQ072O3rvvfdC+603cODAU44JSFxCRDPbsWOHLrzwwrBt7du3D/ve4zn6P8vvPsE3tBgiKioq9HV9GL+7aEGScnJytH79er377rvH3b/+EtvatWuVmZmp+Ph4/fCHP9SWLVu0bt26sID5fD5t27ZNjz/+uN544w29/fbb6t69+3ELT459PI3xzDPPaPPmzRo0aJAKCgqUlJSkf/7znw3e/tJLL1Xbtm0VCATCwpuYmKgOHTpo69atCgQCode/Dh48qGHDhik6OlrLly/X1q1btXr1akmnXkhzsuN5Iif7HVmW9b0uGQPfRcDQJE70GsZ///tf/eMf/9Do0aNPet8uXbpIUtiCgrfffrvRc5k9e7ZuueUWZWVl6Z133gn7WUZGhgoLC8Oe9DMyMrRkyRLt3bs3LGAbNmzQr371K1199dVKTk5WdHS09u/ff8r9Jycn64033gjbtmnTplO+ztO3b19NnTo19HrWsmXLGrxtu3btdOmllx73WKSjkc7Pz1dRUVEoYO+9954+++wzPfLII7r88suVmJioysrKUz4W6eTH8/vq3bu3tm7dGrbtzTffPKMx0XIQMDSJr776SpWVldq3b5/eeecdzZ8/X5mZmRowYIB+/etfn/S+55xzji655BI9+uij2rFjhzZu3HjK+5zKQw89pClTpmjIkCEqLi4Obc/IyNCHH36oLVu2hAVs+fLl6tWrV+hym3T0bOa5557Tzp07tWXLFo0dO/a0LqHdeeedWrZsmZ5++ml98MEHmjNnzkmfpMvKyjR9+nS98cYboUuCxcXFSk1NPel+MjMztWrVKn3yySe67LLLQtsHDx6sxYsX68iRI6EFHD179lTbtm31xBNP6KOPPtKrr76q+++//5SPpV5Dx/P7uuWWW7Rr1y795je/0fvvv69Vq1ZpyZIlYYtagIYQMDjOsiytWbNGXbt2VXx8vIYMGaJXXnlFs2bN0rp163TOOeeccoxnnnlGkpSenq5bb71VDz/88An3czpzqffwww/r5ptvVlZWVujyV1JSkuLi4pSYmKiYmBhJRwNWV1cXdhZTP6fq6mr99Kc/1fXXX6+bbrpJCQkJp5xDbm6u8vLyNGPGDKWlpWn79u265557Grz9D37wA33wwQcaM2aMkpKSNGHCBP3iF7/QtGnTTrqfzMxMVVdXKz09Xe3atQttz8jIUHV1tVJTU0OrBbt06aJly5YpPz9fqampmj17thYsWHDcMT3Z9yc6nsc61e+oZ8+eevHFF1VQUKB+/fpp4cKFmjlzpmzbDnsMwIlYdgRcgJ40aZJeffVVxcbGhv5DqKqq0s9//nPt3r1bCQkJWrlypTp37ixJmjNnjp555hm1atVKixYt0tChQ92cPgAHLVy4UHl5efr888/dngoiXEScgU2cODH0AnI9v9+v7OxslZSUKCsrS36/X9LRRQAvvPCCduzYodWrV+u222477kV7AOZYvHix3nzzTZWWlmrFihV66KGHNGHCBLenBQNERMCuuOIKnXvuuWHbCgoK5PP5JB1d/ZWfny9JeumllzRu3DhFRUUpISFBvXr14kVfwGC7du3SqFGjlJKSopkzZ+rWW2/VvHnz3J4WDNDa7Qk0pLKyUl6vV5Lk9XpDK6T27dunSy65JHS77t27h30GHACzzJ8/X/Pnz3d7GjBQRJyBncqpViSxWgkAWp6IPQPzer2qqKhQXFyc9u/fr9jYWEnS+eefH/apBHv37tX5559/3P2JGgA0TgSs7TstEXsGNmLEiNAbN5ctW6aRI0eGtj///PM6fPiwSktL9cEHHzT40TO2bfPPtvXAAw+4PodI+cex4FhwLE7+zyQRcQY2btw4rV27Vp9++ql69OihBx98UNOnT1dubq6WLl0aWkYvSSkpKcrNzVVKSopat26tJ598krMtAGiBIiJgK1asOOH2hv62029/+1v99re/bcopAQAiXMReQoRzjv1EiZaMY/EtjsW3OBZmiohP4mgKfMo1AHx/Jj13cgYGADASAQMAGImAAQCMRMAAAEYiYAAAIxEwAICRCBgAwEgEDABgJAIGADASAQMAGImAAQCMRMAAAEYiYAAAIxEwAICRCBgAwEgEDABgJAIGADASAQMAGImAAQCMRMAAAEYiYAAAIxEwAICRCBgAwEgEDABgJAIGADASAQMAGImAAQCMRMAAAEYiYAAAIxEwAICRCBgAwEgEDABgJAIGADASAQMAGImAAQCMRMAAAEYiYAAAIxEwAICRCBgAwEgEDABgJAIGADASAQMAGImAAQCMRMAAAEYiYAAAIxEwAICRCBgAwEgEDABgJAIGADASAQMAGImAAQCMRMAAAEYiYAAAIxEwAICRCBgAwEgEDABgpIgP2Jw5c5Samqo+ffro+uuv19dff62qqiplZ2crMTFRQ4cOVTAYdHuaAIBmFtEBKysr01NPPaWioiK9++67qqur0/PPPy+/36/s7GyVlJQoKytLfr/f7akCAJpZRAesY8eOioqKUk1NjWpra1VTU6Nu3bqpoKBAPp9PkuTz+ZSfn+/yTAEAzS2iA3beeefp3nvvVc+ePdWtWzd17txZ2dnZqqyslNfrlSR5vV5VVla6PFMAQHOL6IDt2rVLjz/+uMrKyrRv3z5VV1dr+fLlYbexLEuWZbk0QwCAW1q7PYGT2bp1qy677DLFxMRIkkaNGqU33nhDcXFxqqioUFxcnPbv36/Y2NgT3j8vLy/0dUZGhjIyMpph1gBgjkAgoEAg4PY0GsWybdt2exINeeedd3TDDTdoy5YtateunSZMmKCBAwdq9+7diomJ0bRp0+T3+xUMBo9byGFZliL4oQFARDLpuTOiAyZJc+fO1bJly+TxeJSWlqann35aX375pXJzc/Xxxx8rISFBK1euVOfOncPuZ9IvAQAihUnPnREfsMYy6ZcAAJHCpOfOiF7EAQBAQwgYAMBIBAwAYCQCBgAwEgEDABiJgAEAjETAAABGImAAACMRMACAkQgYAMBIBAwAYCQCBgAwEgEDABiJgAEAjETAAABGImAAACMRMACAkQgYAMBIBAwAYCQCBgAwEgEDABiJgAEAjETAAABGImAAACMRMACAkQgYAMBIBAwAYCQCBgAwEgEDABiJgAEAjETAAABGImAAACMRMACAkQgYAMBIBAwAYCQCBgAwEgEDABiJgAEAjETAAABGImAAACMRMACAkQgYAMBIBAwAYKTWbk8AAHDm5s1bomDQ7Vk0LwIGAGeBYFCKj5/swEhTHBijeXAJEQBgJAIGADASAQMAGImAAQCMRMAAAEYiYAAAIxEwAICRCBgAwEgEDABgJAIGADASAQMAGKnJAlZXV6cDBw401fAAgBbO0YCNGzdOBw4c0MGDB9WnTx8lJydr7ty5Tu4CAABJDgdsx44d6tixo/Lz83X11VerrKxMzz333BmNGQwGNXr0aCUnJyslJUWbN29WVVWVsrOzlZiYqKFDhyrY0v6GAADA2YDV1tbqm2++UX5+vnJychQVFSXLss5ozDvvvFPDhw/Xzp07VVxcrN69e8vv9ys7O1slJSXKysqS3+936BEAAEzhaMCmTJmihIQEVVdXa9CgQSorK1OnTp0aPd4XX3yh//znP5o0aZIkqXXr1urUqZMKCgrk8/kkST6fT/n5+Y7MHwBgDkcDdscdd6i8vFx///vf5fF4FB8fr8LCwkaPV1paqi5dumjixIlKS0vTzTffrIMHD6qyslJer1eS5PV6VVlZ6dRDAAAYwpG/yPy73/0u9HX9JUPbtkPf33PPPY0at7a2VkVFRfr973+v9PR03XXXXcddLrQs64wvUwIAzONIwL788ssTRsS27TOKS/fu3dW9e3elp6dLkkaPHq05c+YoLi5OFRUViouL0/79+xUbG3vC++fl5YW+zsjIUEZGRqPnAgBno/ffD6ikJOD2NBrFsutPlSLUoEGD9PTTTysxMVF5eXmqqamRJMXExGjatGny+/0KBoMnPDOL8IcGAI6ZMWOJ4uMnn/E4U6aY89zpyBlYvUOHDmnp0qXasWOHDh06FDr7euaZZxo95hNPPKEbbrhBhw8f1oUXXqhnn31WdXV1ys3N1dKlS5WQkKCVK1c69RAAAIZwNGDjx49XcnKyVq9erQceeEDLly9XcnLyGY35k5/8RFu2bDlu+5o1a85oXACA2Rxdhfjhhx9q9uzZio6Ols/n02uvvabNmzc7uQsAACQ5HLA2bdpIkjp16qR3331XwWBQ//vf/5zcBQAAkhy+hHjzzTerqqpKDz30kEaMGKHq6mrNnj3byV0AACCpCQImSYMHD1ZpaamTQwMAEMaRgD333HMaP378cW9orn8fWGPfyAwAQEMcCVj9e7Oqq6udGA4AgFNyJGBTpkxRXV2dOnTowNkWAKBZOLYKsVWrVlqxYoVTwwEAcFKOLuK4/PLLdfvtt+vnP/+52rdvH9qelpbm5G4AAHAmYEOHDtU///lPvfXWW7IsSzNnzgz7+Zn8SRUAAE7EkYDVv1k5EAg4MRwAAKfkSMC++OILrVq1qsGfjxo1yondAAAQ4ljAXn755QZ/TsAAAE5zJGA9e/bUs88+68RQAACcFkc/zBcAgObiSMD+9Kc/OTEMAACnzZGA9enTx4lhAAA4bVxCBAAYyZGAZWVlSZKmTp3qxHAAAJySI6sQ9+/fr40bN6qgoEBjx44N/RmVenyUFADAaY4EbNasWXrwwQdVXl6ue++997if81FSAACnORKwMWPGaMyYMXrwwQeP+xxEAACagqOfRj9z5ky99NJLWrdunSzL0uDBg5WTk+PkLgAAkOTwKsTp06dr0aJFSk1NVXJyshYtWqT77rvPyV0AACDJ4TOwV199VW+//bZatWolSZowYYL69eunOXPmOLkbAACcPQOzLEvBYDD0fTAYDFuNCACAUxw9A7vvvvuUlpamzMxM2battWvXyu/3O7kLAAAkORywcePGafDgwdqyZYssy5Lf71fXrl2d3AUAAJIcDpgkdevWTddee63TwwIAEIbPQgQAGImAAQCM5FjAamtrlZSU5NRwAACclGMBa926tXr37q3du3c7NSQAAA1ydBFHVVWVUlNTNXDgQLVv317S0feGFRQUOLkbAACcDdjs2bOP28YbmQEATcHRgGVkZKisrEwffvihhgwZopqaGtXW1jq5CwAAJDm8CnHJkiUaM2aMpkyZIknau3evfvaznzm5CwAAJDkcsMWLF2v9+vXq2LGjJCkxMVGffPKJk7sAAECSwwFr27at2rZtG/q+traW18AAAE3C0YANHjxYDz/8sGpqavT6669rzJgx/EFLAECTcDRgfr9fXbp0UZ8+ffSHP/xBw4cP10MPPeTkLgAAkOTwKsRWrVrJ5/Pp4osvlmVZ6t27N5cQAQBNwvG/yHzLLbfoRz/6kSTpo48+Cp2JAQDgJEcDds8996iwsFC9evWSJO3atUvDhw8nYAAAxzn6GljHjh1D8ZKkH/3oR6El9QAAOMmRM7AXX3xRkjRgwAANHz5cubm5kqS//vWvGjBggBO7AAAgjCMBe/nll0OLNWJjY7V27VpJUpcuXfTVV185sQsAAMI4ErA//vGPTgwDAMBpc3QRx0cffaQnnnhCZWVloQ/x5c+pAACagqMBGzlypG666Sbl5OTI4zm6PoT3gQEAmoKjAWvXrp3uuOMOJ4cEAOCEHA3Yr371K+Xl5WnYsGFhH+qblpbm5G4AAHA2YNu3b9dzzz2nwsLC0CVESSosLHRyNwAAOBuwv/71ryotLVWbNm2cHBYAgOM4+kkcffr00eeff+7kkAAAnJCjZ2Cff/65evfurfT09NBrYCyjBwA0BUcDNmvWLCeHAwCgQY4GLCMjw8nhAABokKOvgUVHR6tDhw7q0KGD2rZtK4/Hc8afRl9XV6f+/fsrJydHklRVVaXs7GwlJiZq6NChCgaDTkwdAGAYRwNWXV2tL7/8Ul9++aUOHTqkVatW6bbbbjujMRcuXKiUlJTQJ3r4/X5lZ2erpKREWVlZ8vv9TkwdAGAYRwMWNrDHo5EjR2r16tWNHmPv3r167bXXdNNNN8m2bUlSQUGBfD6fJMnn8yk/P9+R+QIAzOLoa2D1fxdMko4cOaJt27bpnHPOafR4d999t+bNm6cDBw6EtlVWVsrr9UqSvF6vKisrGz9hAICxHA3Yd/8uWOvWrZWQkKCXXnqpUWO98sorio2NVf/+/RUIBE54G8uy+LBgAGihHA2Yk38XbOPGjSooKNBrr72mr776SgcOHND48ePl9XpVUVGhuLg47d+/X7GxsQ2OkZeXF/o6IyODVZIAcIz33w+opCTg9jQaxbLrX1w6Aw29/6v+7GjmzJlnNP7atWv12GOP6eWXX9bUqVMVExOjadOmye/3KxgMnnAhh2VZcuChAYARZsxYovj4yWc8zpQp5jx3OrKIo3379oqOjg77Z1mWli5dqkcffdSJXYRiOH36dL3++utKTEzUv//9b02fPt2R8QEAZnHkDOy7Dhw4oEWLFmnp0qXKzc3Vvffee9LLfE2FMzAALUlLPANz7DWwzz77TAsWLNCf//xn3XjjjSoqKtK5557r1PAAAIRxJGC//vWv9be//U2TJ09WcXGxOnTo4MSwAAA0yJFLiB6PR23atFFUVNTxO7CssPdxNRcuIQJoSbiE2EhHjhxxYhgAAE5bk32UFAAATYmAAQCMRMAAAEYiYAAAIxEwAICRCBgAwEgEDABgJAIGADASAQMAGImAAQCMRMAAAEYiYAAAIxEwAICRCBgAwEgEDABgJAIGADASAQMAGImAAQCMRMAAAEYiYAAAIxEwAICRCBgAwEgEDABgJAIGADASAQMAGImAAQCMRMAAAEYiYAAAIxEwAICRCBgAwEgEDABgJAIGADASAQMAGImAAQCMRMAAAEYiYAAAIxEwAICRCBgAwEgEDABgJAIGADASAQMAGImAAQCMRMAAAEYiYAAAIxEwAICRCBgAwEgEDABgJAIGADASAQMAGImAAQCMRMAAAEYiYAAAIxEwAICRCBgAwEgRHbA9e/YoMzNTqamp+vGPf6xFixZJkqqqqpSdna3ExEQNHTpUwWDQ5ZkCAJpbRAcsKipKCxYs0Pbt27Vp0yYtXrxYO3fulN/vV3Z2tkpKSpSVlSW/3+/2VAEAzSyiAxYXF6d+/fpJkqKjo5WcnKzy8nIVFBTI5/NJknw+n/Lz892cJgDABREdsO8qKyvTW2+9pYsvvliVlZXyer2SJK/Xq8rKSpdnBwBobkYErLq6Wtddd50WLlyoDh06hP3MsixZluXSzAAAbmnt9gRO5ZtvvtF1112n8ePHa+TIkZKOnnVVVFQoLi5O+/fvV2xs7Anvm5eXF/o6IyNDGRkZzTBjADDH++8HVFIScHsajWLZtm27PYmG2LYtn8+nmJgYLViwILR96tSpiomJ0bRp0+T3+xUMBo9byGFZliL4oQGAo2bMWKL4+MlnPM6UKeY8d0b0GdiGDRu0fPly9e3bV/3795ckzZkzR9OnT1dubq6WLl2qhIQErVy50uWZAgCaW0QH7PLLL9eRI0dO+LM1a9Y082wAAJHEiEUcAAAci4ABAIxEwAAARiJgAAAjETAAgJEIGADASAQMAGAkAgYAMBIBAwAYiYABAIxEwAAARiJgAAAjETAAgJEIGADASAQMAGAkAgYAMBIBAwAYiYABAIxEwAAARiJgAAAjETAAgJEIGADASAQMAGAkAgYAMBIBAwAYiYABAIxEwAAARiJgAAAjETAAgJEIGADASAQMAGAkAgYAMBIBAwAYiYABAIxEwAAARiJgAAAjtXZ7AjDTvHlLFAye+TidO0u/+c3kMx8IQItDwNAowaAUH3/m4dm9e4kDswHQEnEJEQBgJAIGADASAQMAGImAAQCMRMAAAEZiFSKMx5J+oGUiYDAeS/qBlolLiAAAIxEwAICRCBgAwEgEDABgJAIGADASqxBPwYkl2k4tz46kuQCA2wjYKTixRNup5dmRNBcAcBuXEAEARuIMDDiLRdJlZz4xpWFOHJtNm4oUH+/MfExBwICzWCRdduYTUxrmxLEJBG5xaDbm4BIiAMBInIEBDouky3bA2YyAAQ6LpMt2wNnM2EuIq1evVu/evXXRRRfp0UcfdXs6AIBmZmTA6urqdPvtt2v16tXasWOHVqxYoZ07d7o9rYj1/vsBt6cQMTgW3+JYfCsQCLg9BTSCkZcQ33zzTfXq1UsJCQmSpLFjx+qll15ScnKyuxOLUCUlASUlZbg9jYjAsfhWSz4Wx75OuW7dyxo0qOR7j8Nrle4yMmDl5eXq0aNH6Pvu3btr8+bNLs4IgEmOfZ2yc+d9jXrdktcq3WVkwCzLOq3bbdu27Yz2ExMTc0b3BwA0Hcu2bdvtSXxfmzZtUl5enlavXi1JmjNnjjwej6ZNmxa6zelGDgAQzpQsGBmw2tpaJSUl6V//+pe6deumgQMHasWKFbwGBgAtiJGXEFu3bq3f//73GjZsmOrq6vTLX/6SeAFAC2PkGRgAAEa+D+xUeJPzUXv27FFmZqZSU1P14x//WIsWLXJ7Sq6qq6tT//79lZOT4/ZUXBUMBjV69GglJycrJSVFmzZtcntKrpkzZ45SU1PVp08fXX/99fr666/dnlKzmTRpkrxer/r06RPaVlVVpezsbCUmJmro0KEKOvHnA5rQWRcw3uT8raioKC1YsEDbt2/Xpk15y76tAAAEJklEQVSbtHjx4hZ7LCRp4cKFSklJafELfO68804NHz5cO3fuVHFxcYu9/F5WVqannnpKRUVFevfdd1VXV6fnn3/e7Wk1m4kTJ4YWwtXz+/3Kzs5WSUmJsrKy5Pf7XZrd6TnrAvbdNzlHRUWF3uTcEsXFxalfv36SpOjoaCUnJ2vfvn0uz8ode/fu1WuvvaabbrrJmBVWTeGLL77Qf/7zH02aNEnS0deTO3Xq5PKs3NGxY0dFRUWppqZGtbW1qqmp0fnnn+/2tJrNFVdcoXPPPTdsW0FBgXw+nyTJ5/MpPz/fjamdtrMuYCd6k3N5ebmLM4oMZWVleuutt3TxxRe7PRVX3H333Zo3b548nrPuf/LfS2lpqbp06aKJEycqLS1NN998s2pqatyelivOO+883XvvverZs6e6deumzp07a8iQIW5Py1WVlZXyer2SJK/Xq8rKSpdndHJn3X/NLf3y0IlUV1dr9OjRWrhwoaKjo92eTrN75ZVXFBsbq/79+7fosy/p6FtQioqKdNttt6moqEjt27eP+MtETWXXrl16/PHHVVZWpn379qm6ulp//vOf3Z5WxLAsK+KfT8+6gJ1//vnas2dP6Ps9e/aoe/fuLs7IXd98842uu+46/eIXv9DIkSPdno4rNm7cqIKCAl1wwQUaN26c/v3vf+vGG290e1qu6N69u7p376709HRJ0ujRo1VUVOTyrNyxdetWXXbZZYqJiVHr1q01atQobdy40e1pucrr9aqiokKStH//fsXGxro8o5M76wI2YMAAffDBByorK9Phw4f1wgsvaMSIEW5PyxW2beuXv/ylUlJSdNddd7k9Hdc88sgj2rNnj0pLS/X888/ryiuv1J/+9Ce3p+WKuLg49ejRQyUlRz+4ds2aNUpNTXV5Vu7o3bu3Nm3apEOHDsm2ba1Zs0YpKSluT8tVI0aM0LJlyyRJy5Yti/j/02vkG5lPhjc5f2vDhg1avny5+vbtq/79+0s6umz4qquucnlm7or0yyJN7YknntANN9ygw4cP68ILL9Szzz7r9pRc8ZOf/EQ33nijBgwYII/Ho7S0NE2e3HI+WX7cuHFau3atPv30U/Xo0UMPPvigpk+frtzcXC1dulQJCQlauXKl29M8Kd7IDAAw0ll3CREA0DIQMACAkQgYAMBIBAwAYCQCBgAwEgEDABiJgAEAjETAAABGImAAACMRMACAkQgYAMBIBAwAYCQCBgAwEgEDABiJgAEAjETAAABGImAAACMRMACAkQgYAMBIBAwAYCQCBgAwEgEDABiJgAEAjETAAABGImAAACMRMACAkQgYAMBIBAwAYCQCBgAwEgEDABiJgAEAjETAAABGImAAACMRMACAkQgYAMBIBAwAYCQCBgAwEgEDABiJgAEAjETAAABGImAAACP9P/IiCfReT20kAAAAAElFTkSuQmCC\"\n",
       "  frames[8] = \"data:image/png;base64,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\"\n",
       "  frames[9] = \"data:image/png;base64,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\"\n",
       "  frames[10] = \"data:image/png;base64,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\"\n",
       "  frames[11] = \"data:image/png;base64,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\"\n",
       "  frames[12] = \"data:image/png;base64,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\"\n",
       "  frames[13] = \"data:image/png;base64,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\"\n",
       "  frames[14] = \"data:image/png;base64,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\"\n",
       "  frames[15] = \"data:image/png;base64,iVBORw0KGgoAAAANSUhEUgAAAbAAAAGwCAYAAADITjAqAAAABHNCSVQICAgIfAhkiAAAAAlwSFlzAAALEgAACxIB0t1+/AAAIABJREFUeJzt3X1UVHXix/HPHUUt8aFIBh+hMhRIUxJLTyWEaHnEzJS00lErqU7PtmrrL0OtnLLV1Oyctay1bC07ukhPbrmBpaapVJRalIEpClY0KWIZeH9/eJiaFDW8MHzz/TrHc+DOzPd+57LNe++de2cs27ZtAQBgGFewJwAAQE0QMACAkQgYAMBIBAwAYCQCBgAwEgEDABiJgAEAjETAAABGImAAACMRMACAkQgYAMBIBAwAYCQCBgAwEgEDABiJgAEAjETAAABGImAAACMRMACAkQgYAMBIBAwAYCQCBgAwEgEDABiJgAEAjETAAABGImAAACMRMACAkQgY/rJycnLkcrlUWloa7Kkc5cknn9S5554b7GkcV2FhoVwul3JzcyWd3PZ0uVxavnx5XU0RpzkCBseNHj1aLpdLLpdLjRo1ktvt1pVXXqlnnnlGFRUVwZ5evZSRkaExY8bU6LEPPvigLrjggoBlu3btksvlUmpqasDyVatWyeVyqaCgoMZzPZ7i4mINHDiwVsYG/oiAwXGWZSklJUXFxcXasWOH3n33XaWmpurhhx/W5ZdfrvLy8mofe+jQoTqcae379ddfT+p+lmXVeB1XXnmltm/frqKiIv+y7OxstW/fXmvWrNHhw4cDlkdGRtba3l94eLgaNWpUK2MDf0TA4DjbttWoUSOFh4erdevW6tq1q+677z7l5OQoNzdXTzzxhP++UVFRmjp1qsaOHauzzjpLI0eO1I4dOwIOXVX5/eGpqsNby5cvV0pKipo2baq4uDitWrWq2nn98ssvuvbaa9WjRw999913Gj58uG6//Xb/7f/3f/8nl8ulDRs2+Je1b99e//73vyVJGzduVL9+/dSqVSu1aNFCl19+udavX3/UHJ955hkNGTJEoaGhmjx5siTpiSeeUEREhJo1ayaPx6OysrKjttnvvf/++7r00kvVrFkztWzZUpdccom2bNlyzOfVu3dvhYSEKDs7278sJydHo0aNUmhoaMB2zM7O1pVXXilJWrx4sRISEtS8eXO53W6lpaVp9+7d1W6/6rbnxRdfrO+//97//P/s3+jNN99Up06ddMYZZygpKUmvvvqqXC6Xvv3225OeC05PBAx1Ji4uTldddZWWLVsWsHzWrFmKjY3V5s2b9dhjjx31Yn48kydP1r333qu8vDwlJCRo+PDhOnDgwFH327dvn6666ir5fD7l5OSoVatWSkpKUk5Ojv8+Vcurln399dcqKipSYmKiJKmsrEwej0dr1qzRxo0b1a1bNw0YMOCo94SmTp2qgQMH6vPPP9cdd9yhpUuX6qGHHtL06dP18ccfq1OnTpo1a1bAXpdlWf7fKyoqdM011+iKK65QXl6ePvroI913331q0KDBMbdB06ZN1bNnz4CAZWdnKzExUX369PEvLysr06ZNm5SUlCTpyN7h9OnTlZeXpzfeeEPff/+9RowYcVLb/ffbc/Xq1TrnnHOqve/x/kbffvuthgwZotTUVOXl5enOO+/UhAkTTmmPFKcRG3CYx+OxBw4ceMzbJk6caJ955pn+3yMjI+1BgwYF3KegoMC2LMvevHlzwHLLsuxly5YF3GfBggX+24uKimzLsuy1a9fatm3b2dnZtmVZ9tatW+34+Hj7mmuusX/55Rf//bdt22ZblmUXFxfbBw4csBs3bmw/8cQTdv/+/W3btu1nn33WvuCCC6p9nocPH7Zbt25tL168OGCOd999d8D9evXqZY8bNy5gWd++fe1zzz33mOP+8MMPtmVZ9urVq6td9x899NBD/vEKCgrsxo0b2wcPHrQXLFhgX3311bZt2/bbb79tW5ZlFxUVHXOMqu1Rdfsf/w4n2p5Vz//P/I0mTZpkx8bGBozx2GOP2ZZl2Tt27Djp54/TE3tgqFO2bR+159GjR48aj9e1a1f/z61bt5Yk7d27N+A+/fv3V/v27bV8+fKA92c6d+6siIgIZWdna926derYsaPS0tK0du1aVVRUKCcnx7/3VTVuenq6OnXqpJYtW6p58+bau3evdu7cGbC+Pz6fL774Qr169QpYdumll1a7p3n22Wdr9OjR6t+/vwYOHKjZs2cftY4/SkpKUmFhoXbs2KHs7Gz17NlTTZo0UZ8+fbRmzRpVVlYqOztbF1xwgdq0aSNJys3N1TXXXKOoqCg1b95cCQkJknTCQ3fVbc/qHO9v9MUXX/jXW6Vnz54nHBOQOISIOrZ161adf/75AcuaNm0a8LvLdeR/lr9/ga/uZIiQkBD/z1Vh/P1JC5KUmpqqNWvW6LPPPjvq8VWH2FavXq2kpCRFRkbqnHPO0caNG/X+++8HBMzj8Wjz5s166qmn9OGHH+qTTz5Ru3btjjrx5I/Ppyaef/55bdiwQVdccYWysrLUqVMnvfPOO9Xev1evXmrcuLFycnICwhsdHa1mzZpp06ZNysnJ8b//deDAAfXv31+hoaFavHixNm3apJUrV0o68Yk0x9uex3K8v5FlWX/qkDHwewQMteJY72F8/vnn+u9//6uhQ4ce97GtWrWSpIATCj755JMaz2X69Om67bbblJycrE8//TTgtsTERGVnZwe86CcmJmrBggXatWtXQMDWrl2ru+66S1dffbViYmIUGhqqPXv2nHD9MTEx+vDDDwOWrV+//oTv83Tt2lUTJkzwv5+1aNGiau/bpEkT9erV66jnIh2JdGZmpnJzc/0B++KLL/TDDz/oscce02WXXabo6GiVlJSc8LlIx9+ef1bnzp21adOmgGUfffTRKY2J0wcBQ634+eefVVJSot27d+vTTz/VrFmzlJSUpB49euiBBx447mPPOOMMXXrppXr88ce1detWrVu37oSPOZFHHnlE6enp6tu3r/Ly8vzLExMT9fXXX2vjxo0BAVu8eLE6duzoP9wmHdmbeemll7Rt2zZt3LhRw4cPP6lDaPfcc48WLVqk5557Tl999ZVmzJhx3BfpwsJCTZo0SR9++KH/kGBeXp7i4uKOu56kpCQtX75ce/fuVe/evf3L+/Tpo/nz5+vw4cP+Ezg6dOigxo0ba968efrmm2/05ptv6qGHHjrhc6lS3fb8s2677TZt375df/vb3/Tll19q+fLlWrBgQcBJLUB1CBgcZ1mWVq1apdatWysyMlJ9+/bVG2+8oalTp+r999/XGWecccIxnn/+eUlSQkKCbr/9dj366KPHXM/JzKXKo48+qltvvVXJycn+w1+dOnVSRESEoqOjFRYWJulIwCorKwP2YqrmVFZWposvvlg33HCDbrnlFkVFRZ1wDmlpacrIyNDkyZMVHx+vLVu26P7776/2/meeeaa++uorDRs2TJ06ddLo0aN10003aeLEicddT1JSksrKypSQkKAmTZr4lycmJqqsrExxcXH+swVbtWqlRYsWKTMzU3FxcZo+fbpmz5591DY93u/H2p5/dKK/UYcOHbRs2TJlZWWpW7dumjNnjqZMmSLbtgOeA3Asll0PDkCPHTtWb775psLDw/3/IZSWlur666/Xjh07FBUVpaVLl6ply5aSpBkzZuj5559XgwYNNHfuXPXr1y+Y0wfgoDlz5igjI0M//vhjsKeCeq5e7IGNGTPG/wZyFa/Xq5SUFOXn5ys5OVler1fSkZMAXn31VW3dulUrV67UHXfccdSb9gDMMX/+fH300UcqKCjQkiVL9Mgjj2j06NHBnhYMUC8Cdvnll+uss84KWJaVlSWPxyPpyNlfmZmZkqQVK1ZoxIgRCgkJUVRUlDp27MibvoDBtm/friFDhig2NlZTpkzR7bffrpkzZwZ7WjBAw2BPoDolJSVyu92SJLfb7T9Davfu3br00kv992vXrl3AZ8ABMMusWbM0a9asYE8DBqoXe2AncqIzkjhbCQBOP/V2D8ztdqu4uFgRERHas2ePwsPDJUlt27YN+FSCXbt2qW3btkc9nqgBQM3Ug3P7Tkq93QMbNGiQ/8LNRYsWafDgwf7lr7zyig4dOqSCggJ99dVX1X70jG3b/LNtPfzww0GfQ335x7ZgW7Atjv/PJPViD2zEiBFavXq1vv/+e7Vv317Tpk3TpEmTlJaWpoULF/pPo5ek2NhYpaWlKTY2Vg0bNtQzzzzD3hYAnIbqRcCWLFlyzOXVfbfT3//+d/3973+vzSkBAOq5ehEw1K4/fqLE6Yxt8Ru2xW/+Ctti5swF8vmCPYu6VS8+iaM28CnXAE4nkycvUGTkuFMeJz3dnNfOensSBwAAx0PAAABGImAAACMRMACAkQgYAMBIBAwAYCQCBgAwEgEDABiJgAEAjETAAABGImAAACMRMACAkQgYAMBIBAwAYCQCBgAwEgEDABiJgAEAjETAAABGImAAACMRMACAkQgYAMBIBAwAYCQCBgAwEgEDABiJgAEAjETAAABGImAAACMRMACAkQgYAMBIBAwAYCQCBgAwEgEDABiJgAEAjETAAABGImAAACMRMACAkQgYAMBIBAwAYCQCBgAwEgEDABiJgAEAjETAAABGImAAACMRMACAkQgYAMBIBAwAYCQCBgAwEgEDABiJgAEAjETAAABGImAAACMRMACAkQgYAMBIBAwAYCQCBgAwEgEDABip3gdsxowZiouLU5cuXXTDDTfol19+UWlpqVJSUhQdHa1+/frJ5/MFe5oAgDpWrwNWWFioZ599Vrm5ufrss89UWVmpV155RV6vVykpKcrPz1dycrK8Xm+wpwoAqGP1OmDNmzdXSEiIysvLVVFRofLycrVp00ZZWVnyeDySJI/Ho8zMzCDPFABQ1+p1wM4++2yNHz9eHTp0UJs2bdSyZUulpKSopKREbrdbkuR2u1VSUhLkmQIA6lq9Dtj27dv11FNPqbCwULt371ZZWZkWL14ccB/LsmRZVpBmCAAIlobBnsDxbNq0Sb1791ZYWJgkaciQIfrwww8VERGh4uJiRUREaM+ePQoPDz/m4zMyMvw/JyYmKjExsQ5mDQDm+PLLHOXn5wR7GjVi2bZtB3sS1fn000914403auPGjWrSpIlGjx6tnj17aseOHQoLC9PEiRPl9Xrl8/mOOpHDsizV46cGAI6aPHmBIiPHnfI46enmvHbW6z2wiy66SKNGjVKPHj3kcrkUHx+vcePGaf/+/UpLS9PChQsVFRWlpUuXBnuqAIA6Vq/3wE4Fe2AATien4x5YvT6JAwCA6hAwAICRCBgAwEgEDABgJAIGADASAQMAGImAAQCMRMAAAEYiYAAAIxEwAICRCBgAwEgEDABgJAIGADASAQMAGImAAQCMRMAAAEYiYAAAIxEwAICRCBgAwEgEDABgJAIGADASAQMAGImAAQCMRMAAAEYiYAAAIxEwAICRCBgAwEgEDABgJAIGADASAQMAGImAAQCMRMAAAEYiYAAAIxEwAICRCBgAwEgEDABgJAIGADASAQMAGImAAQCMRMAAAEYiYAAAIxEwAICRCBgAwEgEDABgJAIGADASAQMAGImAAQCMRMAAAEYiYAAAIxEwAICRCBgAwEgEDABgJAIGADASAQMAGImAAQCMRMAAAEaqtYBVVlZq3759tTU8AOA052jARowYoX379unAgQPq0qWLYmJi9MQTTzi5CgAAJDkcsK1bt6p58+bKzMzU1VdfrcLCQr300kunNKbP59PQoUMVExOj2NhYbdiwQaWlpUpJSVF0dLT69esnn8/n0DMAAJjC0YBVVFTo119/VWZmplJTUxUSEiLLsk5pzHvuuUcDBgzQtm3blJeXp86dO8vr9SolJUX5+flKTk6W1+t16BkAAEzhaMDS09MVFRWlsrIyXXHFFSosLFSLFi1qPN5PP/2kDz74QGPHjpUkNWzYUC1atFBWVpY8Ho8kyePxKDMz05H5AwDM4WjA7r77bhUVFentt9+Wy+VSZGSksrOzazxeQUGBWrVqpTFjxig+Pl633nqrDhw4oJKSErndbkmS2+1WSUmJU08BAGCIhk4M8o9//MP/c9UhQ9u2/b/ff//9NRq3oqJCubm5evrpp5WQkKB77733qMOFlmWd8mFKAIB5HAnY/v37jxkR27ZPKS7t2rVTu3btlJCQIEkaOnSoZsyYoYiICBUXFysiIkJ79uxReHj4MR+fkZHh/zkxMVGJiYk1ngsA/BV9+WWO8vNzgj2NGrHsql2leuqKK67Qc889p+joaGVkZKi8vFySFBYWpokTJ8rr9crn8x1zz6yePzUAcMzkyQsUGTnulMdJTzfntdORPbAqBw8e1MKFC7V161YdPHjQv/f1/PPP13jMefPm6cYbb9ShQ4d0/vnn64UXXlBlZaXS0tK0cOFCRUVFaenSpU49BQCAIRwN2MiRIxUTE6OVK1fq4Ycf1uLFixUTE3NKY1500UXauHHjUctXrVp1SuMCAMzm6FmIX3/9taZPn67Q0FB5PB699dZb2rBhg5OrAABAksMBa9SokSSpRYsW+uyzz+Tz+fTdd985uQoAACQ5fAjx1ltvVWlpqR555BENGjRIZWVlmj59upOrAABAUi0ETJL69OmjgoICJ4cGACCAIwF76aWXNHLkyKMuaK66DqymFzIDAFAdRwJWdW1WWVmZE8MBAHBCjgQsPT1dlZWVatasGXtbAIA64dhZiA0aNNCSJUucGg4AgONy9CSOyy67THfeeaeuv/56NW3a1L88Pj7eydUAAOBMwPr166d33nlHH3/8sSzL0pQpUwJuP5WvVAEA4FgcCVjVxco5OTlODAcAwAk5ErCffvpJy5cvr/b2IUOGOLEaAAD8HAvY66+/Xu3tBAwA4DRHAtahQwe98MILTgwFAMBJcfTDfAEAqCuOBOzFF190YhgAAE6aIwHr0qWLE8MAAHDSOIQIADCSIwFLTk6WJE2YMMGJ4QAAOCFHzkLcs2eP1q1bp6ysLA0fPtz/NSpV+CgpAIDTHAnY1KlTNW3aNBUVFWn8+PFH3c5HSQEAnOZIwIYNG6Zhw4Zp2rRpR30OIgAAtcHRT6OfMmWKVqxYoffff1+WZalPnz5KTU11chUAAEhy+CzESZMmae7cuYqLi1NMTIzmzp2rBx980MlVAAAgyeE9sDfffFOffPKJGjRoIEkaPXq0unXrphkzZji5GgAAnN0DsyxLPp/P/7vP5ws4GxEAAKc4ugf24IMPKj4+XklJSbJtW6tXr5bX63VyFQAASHI4YCNGjFCfPn20ceNGWZYlr9er1q1bO7kKAAAkORwwSWrTpo2uueYap4cFACAAn4UIADASAQMAGMmxgFVUVKhTp05ODQcAwHE5FrCGDRuqc+fO2rFjh1NDAgBQLUdP4igtLVVcXJx69uyppk2bSjpybVhWVpaTqwEAwNmATZ8+/ahlXMgMAKgNjgYsMTFRhYWF+vrrr9W3b1+Vl5eroqLCyVUAACDJ4bMQFyxYoGHDhik9PV2StGvXLl177bVOrgIAAEkOB2z+/Plas2aNmjdvLkmKjo7W3r17nVwFAACSHA5Y48aN1bhxY//vFRUVvAcGAKgVjgasT58+evTRR1VeXq53331Xw4YN4wstAQC1wtGAeb1etWrVSl26dNE///lPDRgwQI888oiTqwAAQJLDZyE2aNBAHo9Hl1xyiSzLUufOnTmECACoFY5/I/Ntt92m8847T5L0zTff+PfEAABwkqMBu//++5Wdna2OHTtKkrZv364BAwYQMACA4xx9D6x58+b+eEnSeeed5z+lHgAAJzmyB7Zs2TJJUo8ePTRgwAClpaVJkl577TX16NHDiVUAABDAkYC9/vrr/pM1wsPDtXr1aklSq1at9PPPPzuxCgAAAjgSsH/9619ODAMAwElz9CSOb775RvPmzVNhYaH/Q3z5OhUAQG1wNGCDBw/WLbfcotTUVLlcR84P4TowAEBtcDRgTZo00d133+3kkAAAHJOjAbvrrruUkZGh/v37B3yob3x8vJOrAQDA2YBt2bJFL730krKzs/2HECUpOzvbydUAAOBswF577TUVFBSoUaNGTg4LAMBRHP0kji5duujHH390ckgAAI7J0T2wH3/8UZ07d1ZCQoL/PTBOowcA1AZHAzZ16lQnhwMAoFqOBiwxMdHJ4QAAqJaj74GFhoaqWbNmatasmRo3biyXy3XKn0ZfWVmp7t27KzU1VZJUWlqqlJQURUdHq1+/fvL5fE5MHQBgGEcDVlZWpv3792v//v06ePCgli9frjvuuOOUxpwzZ45iY2P9n+jh9XqVkpKi/Px8JScny+v1OjF1AIBhHA1YwMAulwYPHqyVK1fWeIxdu3bprbfe0i233CLbtiVJWVlZ8ng8kiSPx6PMzExH5gsAMIuj74FVfS+YJB0+fFibN2/WGWecUePx7rvvPs2cOVP79u3zLyspKZHb7ZYkud1ulZSU1HzCAABjORqw338vWMOGDRUVFaUVK1bUaKw33nhD4eHh6t69u3Jyco55H8uy+LBgADhNORowJ78XbN26dcrKytJbb72ln3/+Wfv27dPIkSPldrtVXFysiIgI7dmzR+Hh4dWOkZGR4f85MTGRsyQB4A++/DJH+fk5wZ5GjVh21ZtLp6C667+q9o6mTJlySuOvXr1aTz75pF5//XVNmDBBYWFhmjhxorxer3w+3zFP5LAsSw48NQAwwuTJCxQZOe6Ux0lPN+e105GTOJo2barQ0NCAf5ZlaeHChXr88cedWIU/hpMmTdK7776r6Ohovffee5o0aZIj4wMAzOLIHtjv7du3T3PnztXChQuVlpam8ePHH/cwX21hDwzA6eR03ANz7D2wH374QbNnz9bLL7+sUaNGKTc3V2eddZZTwwMAEMCRgD3wwAP6z3/+o3HjxikvL0/NmjVzYlgAAKrlyCFEl8ulRo0aKSQk5OgVWFbAdVx1hUOIAE4nHEKsocOHDzsxDAAAJ63WPkoKAIDaRMAAAEYiYAAAIxEwAICRCBgAwEgEDABgJAIGADASAQMAGImAAQCMRMAAAEYiYAAAIxEwAICRCBgAwEgEDABgJAIGADASAQMAGImAAQCMRMAAAEYiYAAAIxEwAICRCBgAwEgEDABgJAIGADASAQMAGImAAQCMRMAAAEYiYAAAIxEwAICRCBgAwEgEDABgJAIGADASAQMAGImAAQCMRMAAAEYiYAAAIxEwAICRCBgAwEgEDABgJAIGADASAQMAGImAAQCMRMAAAEYiYAAAIxEwAICRCBgAwEgEDABgJAIGADASAQMAGImAAQCMRMAAAEYiYAAAIxEwAICRCBgAwEgEDABgpHodsJ07dyopKUlxcXG68MILNXfuXElSaWmpUlJSFB0drX79+snn8wV5pgCAulavAxYSEqLZs2dry5YtWr9+vebPn69t27bJ6/UqJSVF+fn5Sk5OltfrDfZUAQB1rF4HLCIiQt26dZMkhYaGKiYmRkVFRcrKypLH45EkeTweZWZmBnOaAIAgqNcB+73CwkJ9/PHHuuSSS1RSUiK32y1JcrvdKikpCfLsAAB1zYiAlZWV6brrrtOcOXPUrFmzgNssy5JlWUGaGQAgWBoGewIn8uuvv+q6667TyJEjNXjwYElH9rqKi4sVERGhPXv2KDw8/JiPzcjI8P+cmJioxMTEOpgxAJjjyy9zlJ+fE+xp1Ihl27Yd7ElUx7ZteTwehYWFafbs2f7lEyZMUFhYmCZOnCiv1yufz3fUiRyWZakePzUAcNTkyQsUGTnulMdJTzfntbNe74GtXbtWixcvVteuXdW9e3dJ0owZMzRp0iSlpaVp4cKFioqK0tKlS4M8UwBAXavXAbvssst0+PDhY962atWqOp4NAKA+MeIkDgAA/oiAAQCMRMAAAEYiYAAAIxEwAICRCBgAwEgEDABgJAIGADASAQMAGImAAQCMRMAAAEYiYAAAIxEwAICRCBgAwEgEDABgJAIGADASAQMAGImAAQCMRMAAAEYiYAAAIxEwAICRCBgAwEgEDABgJAIGADASAQMAGImAAQCMRMAAAEYiYAAAIxEwAICRCBgAwEgEDABgJAIGADASAQMAGImAAQCMRMAAAEYiYAAAIxEwAICRCBgAwEgEDABgJAIGADASAQMAGImAAQCMRMAAAEYiYAAAIxEwAICRCBgAwEgEDABgJAIGADASAQMAGImAAQCMRMAAAEYiYAAAIxEwAICRCBgAwEgEDABgJAIGADASAQMAGImAAQCMZGzAVq5cqc6dO+uCCy7Q448/HuzpAADqmJEBq6ys1J133qmVK1dq69atWrJkibZt2xbsadVbOTk5wZ5CvcG2+A3b4jdsCzM1DPYEauKjjz5Sx44dFRUVJUkaPny4VqxYoZiYGMfXNXPmAvl8pzZGy5bS3/42zpkJ1UBOTo4SExODtv76hG3xG7bFb9gWZjIyYEVFRWrfvr3/93bt2mnDhg21si6fT4qMPLX47NixwKHZAACqGBkwy7JO6n6bN28+pfWEhYWd0uMBALXHsm3bDvYk/qz169crIyNDK1eulCTNmDFDLpdLEydO9N/nZCMHAAhkShaMDFhFRYU6deqk//3vf2rTpo169uypJUuW1Mp7YACA+snIQ4gNGzbU008/rf79+6uyslI333wz8QKA04yRe2AAABh5HdiJcJHzETt37lRSUpLi4uJ04YUXau7cucGeUlBVVlaqe/fuSk1NDfZUgsrn82no0KGKiYlRbGys1q9fH+wpBc2MGTMUFxenLl266IYbbtAvv/wS7CnVmbFjx8rtdqtLly7+ZaWlpUpJSVF0dLT69esn36leQ1TL/nIB4yLn34SEhGj27NnasmWL1q9fr/nz55+220KS5syZo9jY2NP+BJ977rlHAwYM0LZt25SXl3faHn4vLCzUs88+q9zcXH322WeqrKzUK6+8Euxp1ZkxY8b4T4Sr4vV6lZKSovz8fCUnJ8vr9QZpdifnLxew31/kHBIS4r/I+XQUERGhbt26SZJCQ0MVExPLivkoAAADrklEQVSj3bt3B3lWwbFr1y699dZbuuWWW4w5w6o2/PTTT/rggw80duxYSUfeT27RokWQZxUczZs3V0hIiMrLy1VRUaHy8nK1bds22NOqM5dffrnOOuusgGVZWVnyeDySJI/Ho8zMzGBM7aT95QJ2rIuci4qKgjij+qGwsFAff/yxLrnkkmBPJSjuu+8+zZw5Uy7XX+5/8n9KQUGBWrVqpTFjxig+Pl633nqrysvLgz2toDj77LM1fvx4dejQQW3atFHLli3Vt2/fYE8rqEpKSuR2uyVJbrdbJSUlQZ7R8f3l/ms+3Q8PHUtZWZmGDh2qOXPmKDQ0NNjTqXNvvPGGwsPD1b1799N670s6cglKbm6u7rjjDuXm5qpp06b1/jBRbdm+fbueeuopFRYWavfu3SorK9PLL78c7GnVG5Zl1fvX079cwNq2baudO3f6f9+5c6fatWsXxBkF16+//qrrrrtON910kwYPHhzs6QTFunXrlJWVpXPPPVcjRozQe++9p1GjRgV7WkHRrl07tWvXTgkJCZKkoUOHKjc3N8izCo5Nmzapd+/eCgsLU8OGDTVkyBCtW7cu2NMKKrfbreLiYknSnj17FB4eHuQZHd9fLmA9evTQV199pcLCQh06dEivvvqqBg0aFOxpBYVt27r55psVGxure++9N9jTCZrHHntMO3fuVEFBgV555RVdeeWVevHFF4M9raCIiIhQ+/btlZ+fL0latWqV4uLigjyr4OjcubPWr1+vgwcPyrZtrVq1SrGxscGeVlANGjRIixYtkiQtWrSo3v+fXiMvZD4eLnL+zdq1a7V48WJ17dpV3bt3l3TktOGrrroqyDMLrvp+WKS2zZs3TzfeeKMOHTqk888/Xy+88EKwpxQUF110kUaNGqUePXrI5XIpPj5e48YF71sj6tqIESO0evVqff/992rfvr2mTZumSZMmKS0tTQsXLlRUVJSWLl0a7GkeFxcyAwCM9Jc7hAgAOD0QMACAkQgYAMBIBAwAYCQCBgAwEgEDABiJgAEAjETAAABGImAAACMRMACAkQgYAMBIBAwAYCQCBgAwEgEDABiJgAEAjETAAABGImAAACMRMACAkQgYAMBIBAwAYCQCBgAwEgEDABiJgAEAjETAAABGImAAACMRMACAkQgYAMBIBAwAYCQCBgAwEgEDABiJgAEAjETAAABGImAAACMRMACAkQgYAMBIBAwAYCQCBgAwEgEDABiJgAEAjETAAABGImAAACP9P5lZsOf5bVqYAAAAAElFTkSuQmCC\"\n",
       "  frames[16] = \"data:image/png;base64,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\"\n",
       "  frames[17] = \"data:image/png;base64,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\"\n",
       "  frames[18] = \"data:image/png;base64,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\"\n",
       "  frames[19] = \"data:image/png;base64,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\"\n",
       "\n",
       "\n",
       "    /* set a timeout to make sure all the above elements are created before\n",
       "       the object is initialized. */\n",
       "    setTimeout(function() {\n",
       "        animHJSIROOPPJGEMWGX = new Animation(frames, img_id, slider_id, 200, loop_select_id);\n",
       "    }, 0);\n",
       "  })()\n",
       "</script>\n"
      ],
      "text/plain": [
       "<matplotlib.animation.FuncAnimation at 0x10bdd2588>"
      ]
     },
     "execution_count": 67,
     "metadata": {},
     "output_type": "execute_result"
    }
   ],
   "source": [
    "animation.FuncAnimation(anim, animate, init_func=init,frames=20)     "
   ]
  },
  {
   "cell_type": "code",
   "execution_count": null,
   "metadata": {
    "collapsed": true
   },
   "outputs": [],
   "source": []
  }
 ],
 "metadata": {
  "kernelspec": {
   "display_name": "Python 3",
   "language": "python",
   "name": "python3"
  },
  "language_info": {
   "codemirror_mode": {
    "name": "ipython",
    "version": 3
   },
   "file_extension": ".py",
   "mimetype": "text/x-python",
   "name": "python",
   "nbconvert_exporter": "python",
   "pygments_lexer": "ipython3",
   "version": "3.4.3"
  }
 },
 "nbformat": 4,
 "nbformat_minor": 0
}
