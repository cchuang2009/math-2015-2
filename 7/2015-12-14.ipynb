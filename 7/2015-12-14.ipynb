{
 "cells": [
  {
   "cell_type": "markdown",
   "metadata": {
    "slideshow": {
     "slide_type": "slide"
    }
   },
   "source": [
    "# Markov Chains"
   ]
  },
  {
   "cell_type": "markdown",
   "metadata": {
    "slideshow": {
     "slide_type": "subslide"
    }
   },
   "source": [
    "## Overview\n",
    "\n",
    "Markov chains are one of the most fundamental classes of stochastic processes\n",
    "\n",
    "Attributes\n",
    "\n",
    "1. simple, flexible and supported by many elegant theoretical results\n",
    "2. valuable for building intuition about random dynamic models\n",
    "3. very useful in their own right\n",
    "\n",
    "Reference\n",
    "\n",
    "    1. Thomas J. Sargent and John Stachurski, http://quant-econ.net\n",
    "    2. Richard Weber, http://www.statslab.cam.ac.uk/~rrw1/markov\n",
    "    3. Eugenia Stoimenova, http://www.math.bas.bg/~jeni/\n",
    "    4. http://www.tcs.hut.fi/Studies\n",
    "    5. http://steep.inrialpes.fr/~Arnaud\n",
    "    6. http://www.philol.msu.ru/~lex/khmelev/published/llc/khmelev.html\n",
    "    7. 李中傑, 棒球比賽宛如是一個馬可夫過程, 真理大學\n"
   ]
  },
  {
   "cell_type": "code",
   "execution_count": 6,
   "metadata": {
    "collapsed": false,
    "slideshow": {
     "slide_type": "subslide"
    }
   },
   "outputs": [
    {
     "data": {
      "text/html": [
       "\n",
       "        <iframe\n",
       "            width=\"400\"\n",
       "            height=\"300\"\n",
       "            src=\"https://www.youtube.com/embed/AiAHlZVgXjk\"\n",
       "            frameborder=\"0\"\n",
       "            allowfullscreen\n",
       "        ></iframe>\n",
       "        "
      ],
      "text/plain": [
       "<IPython.lib.display.YouTubeVideo at 0x10665c6a0>"
      ]
     },
     "execution_count": 6,
     "metadata": {},
     "output_type": "execute_result"
    }
   ],
   "source": [
    "from IPython.display import YouTubeVideo\n",
    "YouTubeVideo(\"AiAHlZVgXjk\")"
   ]
  },
  {
   "cell_type": "code",
   "execution_count": 7,
   "metadata": {
    "collapsed": false,
    "slideshow": {
     "slide_type": "subslide"
    }
   },
   "outputs": [
    {
     "data": {
      "text/html": [
       "\n",
       "        <iframe\n",
       "            width=\"400\"\n",
       "            height=\"300\"\n",
       "            src=\"https://www.youtube.com/embed/jIKJUIFkTro\"\n",
       "            frameborder=\"0\"\n",
       "            allowfullscreen\n",
       "        ></iframe>\n",
       "        "
      ],
      "text/plain": [
       "<IPython.lib.display.YouTubeVideo at 0x10665cb38>"
      ]
     },
     "execution_count": 7,
     "metadata": {},
     "output_type": "execute_result"
    }
   ],
   "source": [
    "from IPython.display import YouTubeVideo\n",
    "YouTubeVideo(\"jIKJUIFkTro\")"
   ]
  },
  {
   "cell_type": "code",
   "execution_count": 2,
   "metadata": {
    "collapsed": false,
    "slideshow": {
     "slide_type": "slide"
    }
   },
   "outputs": [],
   "source": [
    "import numpy as np\n",
    "import scipy as sp\n",
    "from scipy.linalg import eig\n",
    "from numpy import cumsum\n",
    "from numpy.random import uniform\n",
    "from IPython.display import HTML"
   ]
  },
  {
   "cell_type": "code",
   "execution_count": 21,
   "metadata": {
    "collapsed": false,
    "slideshow": {
     "slide_type": "subslide"
    }
   },
   "outputs": [],
   "source": [
    "def printP(P):\n",
    "    l='<div align=\"center\"><table>';\n",
    "    row=len(P[:,0])\n",
    "    i=j=k=0;\n",
    "    l=l+\"<tr><td>State</td>\"\n",
    "    for k in range(row):\n",
    "          k1=k+1\n",
    "          l=l+'<td><div align=\"center\">%s</div></td>' % (k1)\n",
    "          k++1  \n",
    "    for i in range(1,row+1):\n",
    "        l=l+'<tr><td><div align=\"center\">%s</div></td>' %i\n",
    "        for j in range(1,row+1):\n",
    "            l=l+\"<td> %1.4f </td>\" %(P[i-1,j-1]);\n",
    "            j++1\n",
    "        l=l+\"</tr>\"\n",
    "        i++1\n",
    "    l=l+\"</table></div>\"\n",
    "    return HTML(l)"
   ]
  },
  {
   "cell_type": "code",
   "execution_count": 3,
   "metadata": {
    "collapsed": false,
    "slideshow": {
     "slide_type": "subslide"
    }
   },
   "outputs": [],
   "source": [
    "def printP2(P,states):\n",
    "    \"\"\"\n",
    "    printP2(P,states):\n",
    "      input: P, transition probability matrix,\n",
    "          states, array of all states\n",
    "      output: well-formated HTML table for the transition Probability matrix       \n",
    "    \"\"\"\n",
    "    #if states:\n",
    "    #    states=np.arange(size(P[0,]))\n",
    "    l='<div align=\"center\"><table>';\n",
    "    row=len(P[:,0])\n",
    "    i=j=k=0;\n",
    "    l=l+\"<tr><td>State</td>\";\n",
    "    #for n in arange(size(states)):\n",
    "        \n",
    "    for k in range(row):\n",
    "          l=l+'<td><div align=\"center\">%s</div></td>' % (states[k])\n",
    "          k++1\n",
    "    l=l+'</tr>';        \n",
    "    for i in range(1,row+1):\n",
    "        l=l+'<tr><td><div align=\"center\">%s</div></td>' %states[i-1]\n",
    "        for j in range(1,row+1):\n",
    "            l=l+\"<td> %1.4f </td>\" %P[i-1,j-1];\n",
    "            j++1\n",
    "        l=l+\"</tr>\"\n",
    "        i++1\n",
    "    l=l+\"</table></div>\"\n",
    "    return HTML(l)"
   ]
  },
  {
   "cell_type": "code",
   "execution_count": 4,
   "metadata": {
    "collapsed": false,
    "slideshow": {
     "slide_type": "subslide"
    }
   },
   "outputs": [],
   "source": [
    "def StableDist(P):\n",
    "    \"\"\"\n",
    "    StableDist(P)\n",
    "      input: P, transition probability matrix,\n",
    "      output: stable distribution \n",
    "    \"\"\"\n",
    "    evals, evecs = sp.linalg.eig(P,left=True,right=False)\n",
    "    eps=1e-6\n",
    "    ind=evals[:]>1.-eps\n",
    "    p0=np.transpose(evecs[:,ind]/sum(evecs[:,ind]))\n",
    "    return p0"
   ]
  },
  {
   "cell_type": "markdown",
   "metadata": {
    "slideshow": {
     "slide_type": "slide"
    }
   },
   "source": [
    "## Markov and Markov Chains\n",
    "\n",
    "Markov chains have been introduced by the Russian mathematician Andrei Andreyevich Markov in the early 1900s.\n",
    "\n"
   ]
  },
  {
   "cell_type": "markdown",
   "metadata": {
    "slideshow": {
     "slide_type": "subslide"
    }
   },
   "source": [
    "## Introduction\n",
    "\n",
    "<div class=\"alert alert-success\" align=\"center\">\n",
    "    The system is `evolving` randomly in time\n",
    "</div>\n",
    "\n",
    "\n",
    "A system at time $t=0,1,2,\\cdots$\n",
    "The system can be in one state of a collection of possible states, e.g. **$S$={Happy,So-so,Blue}**\n",
    "The observation of the system is considered as an experience whose (random) result is the state’s system, so called stochastic process.\n",
    "\n"
   ]
  },
  {
   "cell_type": "markdown",
   "metadata": {
    "slideshow": {
     "slide_type": "subslide"
    }
   },
   "source": [
    "## Definition\n",
    "\n",
    "A discrete time **markov chain** is a stochastic process modeling a sequence of random variables within a system. The likelihood of the next random variable in the sequence only depends on the current state. \n",
    "\n",
    "\n",
    "\n",
    "\n",
    "Formally, given a sequence of events $X_0,X_1,... X_n$ the probability of transitioning to state $i_n$ can be written as:\n",
    "\n",
    "$$P\\left\\{X_n=i_n| X_0=i_0,...,X_{n-1}=i_{n-1}\\right\\} = P\\left\\{X_n=i_n | X_{n-1}=i_{n-1} \\right\\}$$\n",
    "\n",
    "A stochastic matrix describes the dynamics of a Markov chain $\\{X_n\\}$ that takes values in the state space $S$.\n",
    "\n",
    "Formally, we say that a discrete time stochastic process $\\{X_n\\}$ taking values in S is a Markov chain with stochastic matrix $P$ (called **transtition matrix**) if \n",
    "$$   {\\cal P}\\{X_{n+1}=j|X_n=i\\}=P[i,j] $$\n",
    "\n",
    "for any $t\\ge0$ and $i,j\\in S$; here $\\cal P$ means probability.\n"
   ]
  },
  {
   "cell_type": "markdown",
   "metadata": {
    "slideshow": {
     "slide_type": "subslide"
    }
   },
   "source": [
    "## examples :\n",
    "\n",
    "    – state of an engine (working, not working)\n",
    "    – weather (rain, cloud, snow, sun)\n",
    "    – robot’s position on a grid\n",
    "<p>\n",
    "<div class=\"alert alert-success\" align=\"center\">\n",
    "    What kind of experience do you have about Markov property? \n",
    "</div>\n"
   ]
  },
  {
   "cell_type": "markdown",
   "metadata": {
    "slideshow": {
     "slide_type": "subslide"
    }
   },
   "source": [
    "## Stochastic Matrices\n",
    "\n",
    "A stochastic matrix (or Markov matrix) is an n×n square matrix $P=P[i,j]$ such that\n",
    "\n",
    "each element $P[i,j]$ is nonnegative, and each row $P[i,⋅]$ sums to one\n",
    "\n",
    "Let $S:=0,\\cdots,n$\n",
    "\n",
    "Evidently, each row $P[i,⋅]$ can be regarded as a distribution (probability mass function) on $S$."
   ]
  },
  {
   "cell_type": "markdown",
   "metadata": {
    "slideshow": {
     "slide_type": "subslide"
    }
   },
   "source": [
    "## Example (Drunkard walk)\n",
    "\n",
    "A random walk on the number line where, at each step, the position may change by +1 or −1 with equal probability.\n",
    "\n",
    "\n",
    "```           \n",
    "                     p   O    p\n",
    "                        /|\\\n",
    "                   <--- / \\ --->             \n",
    "         ----------|-----|-----|----|---------\n",
    "                  n-1    n    n+1\n",
    "```\n",
    "\n",
    "From any position there are two possible transitions, to the next or previous integer. The transition probabilities depend only on the current position, not on the manner in which the position was reached. For example, the transition probabilities from 5 to 4 and 5 to 6 are both 0.5, and all other transition probabilities from 5 are 0. These probabilities are independent of whether the system was previously in 4 or 6.\n",
    "\n",
    "Suppose the the drunk man will fall down valley if he go 10 steps straightly toward east. And his first step is toward east and never go west if he is back to the intial position.\n"
   ]
  },
  {
   "cell_type": "markdown",
   "metadata": {
    "slideshow": {
     "slide_type": "subslide"
    }
   },
   "source": [
    "Transition Matrix of The position\n",
    "---\n",
    "The transition probability from state $i$ to state $j$, $p_{i,j}$:\n",
    "$$P=(p_{ij}),0\\le i,j\\le10$$"
   ]
  },
  {
   "cell_type": "code",
   "execution_count": 8,
   "metadata": {
    "collapsed": false,
    "slideshow": {
     "slide_type": "slide"
    }
   },
   "outputs": [
    {
     "data": {
      "text/plain": [
       "matrix([[ 0. ,  1. ,  0. ,  0. ,  0. ,  0. ,  0. ,  0. ,  0. ,  0. ,  0. ],\n",
       "        [ 0.5,  0. ,  0.5,  0. ,  0. ,  0. ,  0. ,  0. ,  0. ,  0. ,  0. ],\n",
       "        [ 0. ,  0.5,  0. ,  0.5,  0. ,  0. ,  0. ,  0. ,  0. ,  0. ,  0. ],\n",
       "        [ 0. ,  0. ,  0.5,  0. ,  0.5,  0. ,  0. ,  0. ,  0. ,  0. ,  0. ],\n",
       "        [ 0. ,  0. ,  0. ,  0.5,  0. ,  0.5,  0. ,  0. ,  0. ,  0. ,  0. ],\n",
       "        [ 0. ,  0. ,  0. ,  0. ,  0.5,  0. ,  0.5,  0. ,  0. ,  0. ,  0. ],\n",
       "        [ 0. ,  0. ,  0. ,  0. ,  0. ,  0.5,  0. ,  0.5,  0. ,  0. ,  0. ],\n",
       "        [ 0. ,  0. ,  0. ,  0. ,  0. ,  0. ,  0.5,  0. ,  0.5,  0. ,  0. ],\n",
       "        [ 0. ,  0. ,  0. ,  0. ,  0. ,  0. ,  0. ,  0.5,  0. ,  0.5,  0. ],\n",
       "        [ 0. ,  0. ,  0. ,  0. ,  0. ,  0. ,  0. ,  0. ,  0.5,  0. ,  0.5],\n",
       "        [ 0. ,  0. ,  0. ,  0. ,  0. ,  0. ,  0. ,  0. ,  0. ,  0. ,  1. ]])"
      ]
     },
     "execution_count": 8,
     "metadata": {},
     "output_type": "execute_result"
    }
   ],
   "source": [
    "P=np.zeros((11,11))\n",
    "P=np.matrix(P)\n",
    "P[0,1]=P[10,10]=1.\n",
    "for i in np.arange(1,10):\n",
    "    P[i,i-1]=P[i,i+1]=1/2.\n",
    "P    "
   ]
  },
  {
   "cell_type": "code",
   "execution_count": 9,
   "metadata": {
    "collapsed": false,
    "slideshow": {
     "slide_type": "subslide"
    }
   },
   "outputs": [
    {
     "data": {
      "text/html": [
       "<div align=\"center\"><table><tr><td>State</td><td><div align=\"center\">0</div></td><td><div align=\"center\">1</div></td><td><div align=\"center\">2</div></td><td><div align=\"center\">3</div></td><td><div align=\"center\">4</div></td><td><div align=\"center\">5</div></td><td><div align=\"center\">6</div></td><td><div align=\"center\">7</div></td><td><div align=\"center\">8</div></td><td><div align=\"center\">9</div></td><td><div align=\"center\">10</div></td></tr><tr><td><div align=\"center\">0</div></td><td> 0.0000 </td><td> 1.0000 </td><td> 0.0000 </td><td> 0.0000 </td><td> 0.0000 </td><td> 0.0000 </td><td> 0.0000 </td><td> 0.0000 </td><td> 0.0000 </td><td> 0.0000 </td><td> 0.0000 </td></tr><tr><td><div align=\"center\">1</div></td><td> 0.5000 </td><td> 0.0000 </td><td> 0.5000 </td><td> 0.0000 </td><td> 0.0000 </td><td> 0.0000 </td><td> 0.0000 </td><td> 0.0000 </td><td> 0.0000 </td><td> 0.0000 </td><td> 0.0000 </td></tr><tr><td><div align=\"center\">2</div></td><td> 0.0000 </td><td> 0.5000 </td><td> 0.0000 </td><td> 0.5000 </td><td> 0.0000 </td><td> 0.0000 </td><td> 0.0000 </td><td> 0.0000 </td><td> 0.0000 </td><td> 0.0000 </td><td> 0.0000 </td></tr><tr><td><div align=\"center\">3</div></td><td> 0.0000 </td><td> 0.0000 </td><td> 0.5000 </td><td> 0.0000 </td><td> 0.5000 </td><td> 0.0000 </td><td> 0.0000 </td><td> 0.0000 </td><td> 0.0000 </td><td> 0.0000 </td><td> 0.0000 </td></tr><tr><td><div align=\"center\">4</div></td><td> 0.0000 </td><td> 0.0000 </td><td> 0.0000 </td><td> 0.5000 </td><td> 0.0000 </td><td> 0.5000 </td><td> 0.0000 </td><td> 0.0000 </td><td> 0.0000 </td><td> 0.0000 </td><td> 0.0000 </td></tr><tr><td><div align=\"center\">5</div></td><td> 0.0000 </td><td> 0.0000 </td><td> 0.0000 </td><td> 0.0000 </td><td> 0.5000 </td><td> 0.0000 </td><td> 0.5000 </td><td> 0.0000 </td><td> 0.0000 </td><td> 0.0000 </td><td> 0.0000 </td></tr><tr><td><div align=\"center\">6</div></td><td> 0.0000 </td><td> 0.0000 </td><td> 0.0000 </td><td> 0.0000 </td><td> 0.0000 </td><td> 0.5000 </td><td> 0.0000 </td><td> 0.5000 </td><td> 0.0000 </td><td> 0.0000 </td><td> 0.0000 </td></tr><tr><td><div align=\"center\">7</div></td><td> 0.0000 </td><td> 0.0000 </td><td> 0.0000 </td><td> 0.0000 </td><td> 0.0000 </td><td> 0.0000 </td><td> 0.5000 </td><td> 0.0000 </td><td> 0.5000 </td><td> 0.0000 </td><td> 0.0000 </td></tr><tr><td><div align=\"center\">8</div></td><td> 0.0000 </td><td> 0.0000 </td><td> 0.0000 </td><td> 0.0000 </td><td> 0.0000 </td><td> 0.0000 </td><td> 0.0000 </td><td> 0.5000 </td><td> 0.0000 </td><td> 0.5000 </td><td> 0.0000 </td></tr><tr><td><div align=\"center\">9</div></td><td> 0.0000 </td><td> 0.0000 </td><td> 0.0000 </td><td> 0.0000 </td><td> 0.0000 </td><td> 0.0000 </td><td> 0.0000 </td><td> 0.0000 </td><td> 0.5000 </td><td> 0.0000 </td><td> 0.5000 </td></tr><tr><td><div align=\"center\">10</div></td><td> 0.0000 </td><td> 0.0000 </td><td> 0.0000 </td><td> 0.0000 </td><td> 0.0000 </td><td> 0.0000 </td><td> 0.0000 </td><td> 0.0000 </td><td> 0.0000 </td><td> 0.0000 </td><td> 1.0000 </td></tr></table></div>"
      ],
      "text/plain": [
       "<IPython.core.display.HTML object>"
      ]
     },
     "execution_count": 9,
     "metadata": {},
     "output_type": "execute_result"
    }
   ],
   "source": [
    "n=np.arange(np.size(P[0,]))\n",
    "printP2(P,n)"
   ]
  },
  {
   "cell_type": "markdown",
   "metadata": {
    "slideshow": {
     "slide_type": "slide"
    }
   },
   "source": [
    "What is his position after 20 steps?\n",
    "---\n"
   ]
  },
  {
   "cell_type": "markdown",
   "metadata": {
    "slideshow": {
     "slide_type": "fragment"
    }
   },
   "source": [
    "\n",
    "Just $P^{20}=(p_{i,j}^{20})$ where \n",
    "$$p_{i,j}^{20}=\\text{Probability of entering state }j\\text{ after moving 20 steps randomly and starting from }i\\text{ state.}$$ "
   ]
  },
  {
   "cell_type": "code",
   "execution_count": 6,
   "metadata": {
    "collapsed": false,
    "slideshow": {
     "slide_type": "subslide"
    }
   },
   "outputs": [
    {
     "data": {
      "text/html": [
       "<div align=\"center\"><table><tr><td>State</td><td><div align=\"center\">0</div></td><td><div align=\"center\">1</div></td><td><div align=\"center\">2</div></td><td><div align=\"center\">3</div></td><td><div align=\"center\">4</div></td><td><div align=\"center\">5</div></td><td><div align=\"center\">6</div></td><td><div align=\"center\">7</div></td><td><div align=\"center\">8</div></td><td><div align=\"center\">9</div></td><td><div align=\"center\">10</div></td></tr><tr><td><div align=\"center\">0</div></td><td> 0.1762 </td><td> 0.0000 </td><td> 0.3203 </td><td> 0.0000 </td><td> 0.2399 </td><td> 0.0000 </td><td> 0.1457 </td><td> 0.0000 </td><td> 0.0647 </td><td> 0.0000 </td><td> 0.0532 </td></tr><tr><td><div align=\"center\">1</div></td><td> 0.0000 </td><td> 0.3364 </td><td> 0.0000 </td><td> 0.2801 </td><td> 0.0000 </td><td> 0.1928 </td><td> 0.0000 </td><td> 0.1052 </td><td> 0.0000 </td><td> 0.0323 </td><td> 0.0532 </td></tr><tr><td><div align=\"center\">2</div></td><td> 0.1602 </td><td> 0.0000 </td><td> 0.2961 </td><td> 0.0000 </td><td> 0.2330 </td><td> 0.0000 </td><td> 0.1523 </td><td> 0.0000 </td><td> 0.0728 </td><td> 0.0000 </td><td> 0.0856 </td></tr><tr><td><div align=\"center\">3</div></td><td> 0.0000 </td><td> 0.2801 </td><td> 0.0000 </td><td> 0.2490 </td><td> 0.0000 </td><td> 0.1925 </td><td> 0.0000 </td><td> 0.1200 </td><td> 0.0000 </td><td> 0.0405 </td><td> 0.1179 </td></tr><tr><td><div align=\"center\">4</div></td><td> 0.1200 </td><td> 0.0000 </td><td> 0.2330 </td><td> 0.0000 </td><td> 0.2085 </td><td> 0.0000 </td><td> 0.1602 </td><td> 0.0000 </td><td> 0.0876 </td><td> 0.0000 </td><td> 0.1907 </td></tr><tr><td><div align=\"center\">5</div></td><td> 0.0000 </td><td> 0.1928 </td><td> 0.0000 </td><td> 0.1925 </td><td> 0.0000 </td><td> 0.1762 </td><td> 0.0000 </td><td> 0.1278 </td><td> 0.0000 </td><td> 0.0471 </td><td> 0.2636 </td></tr><tr><td><div align=\"center\">6</div></td><td> 0.0728 </td><td> 0.0000 </td><td> 0.1523 </td><td> 0.0000 </td><td> 0.1602 </td><td> 0.0000 </td><td> 0.1439 </td><td> 0.0000 </td><td> 0.0873 </td><td> 0.0000 </td><td> 0.3835 </td></tr><tr><td><div align=\"center\">7</div></td><td> 0.0000 </td><td> 0.1052 </td><td> 0.0000 </td><td> 0.1200 </td><td> 0.0000 </td><td> 0.1278 </td><td> 0.0000 </td><td> 0.1034 </td><td> 0.0000 </td><td> 0.0402 </td><td> 0.5035 </td></tr><tr><td><div align=\"center\">8</div></td><td> 0.0323 </td><td> 0.0000 </td><td> 0.0728 </td><td> 0.0000 </td><td> 0.0876 </td><td> 0.0000 </td><td> 0.0873 </td><td> 0.0000 </td><td> 0.0562 </td><td> 0.0000 </td><td> 0.6636 </td></tr><tr><td><div align=\"center\">9</div></td><td> 0.0000 </td><td> 0.0323 </td><td> 0.0000 </td><td> 0.0405 </td><td> 0.0000 </td><td> 0.0471 </td><td> 0.0000 </td><td> 0.0402 </td><td> 0.0000 </td><td> 0.0160 </td><td> 0.8238 </td></tr><tr><td><div align=\"center\">10</div></td><td> 0.0000 </td><td> 0.0000 </td><td> 0.0000 </td><td> 0.0000 </td><td> 0.0000 </td><td> 0.0000 </td><td> 0.0000 </td><td> 0.0000 </td><td> 0.0000 </td><td> 0.0000 </td><td> 1.0000 </td></tr></table></div>"
      ],
      "text/plain": [
       "<IPython.core.display.HTML object>"
      ]
     },
     "execution_count": 6,
     "metadata": {},
     "output_type": "execute_result"
    }
   ],
   "source": [
    "printP2(P**20,n)"
   ]
  },
  {
   "cell_type": "markdown",
   "metadata": {
    "slideshow": {
     "slide_type": "slide"
    }
   },
   "source": [
    "Okay, what happens eventually?\n",
    "---\n",
    "\n",
    "Suppose that he always walk left and right if not falling down the valley."
   ]
  },
  {
   "cell_type": "code",
   "execution_count": 9,
   "metadata": {
    "collapsed": false,
    "slideshow": {
     "slide_type": "subslide"
    }
   },
   "outputs": [
    {
     "data": {
      "text/html": [
       "<div align=\"center\"><table><tr><td>State</td><td><div align=\"center\">0</div></td><td><div align=\"center\">1</div></td><td><div align=\"center\">2</div></td><td><div align=\"center\">3</div></td><td><div align=\"center\">4</div></td><td><div align=\"center\">5</div></td><td><div align=\"center\">6</div></td><td><div align=\"center\">7</div></td><td><div align=\"center\">8</div></td><td><div align=\"center\">9</div></td><td><div align=\"center\">10</div></td></tr><tr><td><div align=\"center\">0</div></td><td> 0.0579 </td><td> 0.0000 </td><td> 0.1102 </td><td> 0.0000 </td><td> 0.0938 </td><td> 0.0000 </td><td> 0.0681 </td><td> 0.0000 </td><td> 0.0358 </td><td> 0.0000 </td><td> 0.6341 </td></tr><tr><td><div align=\"center\">1</div></td><td> 0.0000 </td><td> 0.1131 </td><td> 0.0000 </td><td> 0.1020 </td><td> 0.0000 </td><td> 0.0809 </td><td> 0.0000 </td><td> 0.0520 </td><td> 0.0000 </td><td> 0.0179 </td><td> 0.6341 </td></tr><tr><td><div align=\"center\">2</div></td><td> 0.0551 </td><td> 0.0000 </td><td> 0.1048 </td><td> 0.0000 </td><td> 0.0892 </td><td> 0.0000 </td><td> 0.0648 </td><td> 0.0000 </td><td> 0.0341 </td><td> 0.0000 </td><td> 0.6521 </td></tr><tr><td><div align=\"center\">3</div></td><td> 0.0000 </td><td> 0.1020 </td><td> 0.0000 </td><td> 0.0920 </td><td> 0.0000 </td><td> 0.0730 </td><td> 0.0000 </td><td> 0.0469 </td><td> 0.0000 </td><td> 0.0162 </td><td> 0.6700 </td></tr><tr><td><div align=\"center\">4</div></td><td> 0.0469 </td><td> 0.0000 </td><td> 0.0892 </td><td> 0.0000 </td><td> 0.0759 </td><td> 0.0000 </td><td> 0.0551 </td><td> 0.0000 </td><td> 0.0290 </td><td> 0.0000 </td><td> 0.7040 </td></tr><tr><td><div align=\"center\">5</div></td><td> 0.0000 </td><td> 0.0809 </td><td> 0.0000 </td><td> 0.0730 </td><td> 0.0000 </td><td> 0.0579 </td><td> 0.0000 </td><td> 0.0372 </td><td> 0.0000 </td><td> 0.0128 </td><td> 0.7381 </td></tr><tr><td><div align=\"center\">6</div></td><td> 0.0341 </td><td> 0.0000 </td><td> 0.0648 </td><td> 0.0000 </td><td> 0.0551 </td><td> 0.0000 </td><td> 0.0400 </td><td> 0.0000 </td><td> 0.0211 </td><td> 0.0000 </td><td> 0.7850 </td></tr><tr><td><div align=\"center\">7</div></td><td> 0.0000 </td><td> 0.0520 </td><td> 0.0000 </td><td> 0.0469 </td><td> 0.0000 </td><td> 0.0372 </td><td> 0.0000 </td><td> 0.0239 </td><td> 0.0000 </td><td> 0.0082 </td><td> 0.8318 </td></tr><tr><td><div align=\"center\">8</div></td><td> 0.0179 </td><td> 0.0000 </td><td> 0.0341 </td><td> 0.0000 </td><td> 0.0290 </td><td> 0.0000 </td><td> 0.0211 </td><td> 0.0000 </td><td> 0.0111 </td><td> 0.0000 </td><td> 0.8869 </td></tr><tr><td><div align=\"center\">9</div></td><td> 0.0000 </td><td> 0.0179 </td><td> 0.0000 </td><td> 0.0162 </td><td> 0.0000 </td><td> 0.0128 </td><td> 0.0000 </td><td> 0.0082 </td><td> 0.0000 </td><td> 0.0028 </td><td> 0.9421 </td></tr><tr><td><div align=\"center\">10</div></td><td> 0.0000 </td><td> 0.0000 </td><td> 0.0000 </td><td> 0.0000 </td><td> 0.0000 </td><td> 0.0000 </td><td> 0.0000 </td><td> 0.0000 </td><td> 0.0000 </td><td> 0.0000 </td><td> 1.0000 </td></tr></table></div>"
      ],
      "text/plain": [
       "<IPython.core.display.HTML object>"
      ]
     },
     "execution_count": 9,
     "metadata": {},
     "output_type": "execute_result"
    }
   ],
   "source": [
    "printP2(P**100,n)"
   ]
  },
  {
   "cell_type": "markdown",
   "metadata": {
    "slideshow": {
     "slide_type": "fragment"
    }
   },
   "source": [
    "What happens at the even rows, in which there are 5 transtion probabilities are zero?\n",
    "---"
   ]
  },
  {
   "cell_type": "code",
   "execution_count": 15,
   "metadata": {
    "collapsed": false,
    "slideshow": {
     "slide_type": "slide"
    }
   },
   "outputs": [
    {
     "data": {
      "text/html": [
       "<div align=\"center\"><table><tr><td>State</td><td><div align=\"center\">0</div></td><td><div align=\"center\">1</div></td><td><div align=\"center\">2</div></td><td><div align=\"center\">3</div></td><td><div align=\"center\">4</div></td><td><div align=\"center\">5</div></td><td><div align=\"center\">6</div></td><td><div align=\"center\">7</div></td><td><div align=\"center\">8</div></td><td><div align=\"center\">9</div></td><td><div align=\"center\">10</div></td></tr><tr><td><div align=\"center\">0</div></td><td> 0.0000 </td><td> 0.0000 </td><td> 0.0000 </td><td> 0.0000 </td><td> 0.0000 </td><td> 0.0000 </td><td> 0.0000 </td><td> 0.0000 </td><td> 0.0000 </td><td> 0.0000 </td><td> 1.0000 </td></tr><tr><td><div align=\"center\">1</div></td><td> 0.0000 </td><td> 0.0000 </td><td> 0.0000 </td><td> 0.0000 </td><td> 0.0000 </td><td> 0.0000 </td><td> 0.0000 </td><td> 0.0000 </td><td> 0.0000 </td><td> 0.0000 </td><td> 1.0000 </td></tr><tr><td><div align=\"center\">2</div></td><td> 0.0000 </td><td> 0.0000 </td><td> 0.0000 </td><td> 0.0000 </td><td> 0.0000 </td><td> 0.0000 </td><td> 0.0000 </td><td> 0.0000 </td><td> 0.0000 </td><td> 0.0000 </td><td> 1.0000 </td></tr><tr><td><div align=\"center\">3</div></td><td> 0.0000 </td><td> 0.0000 </td><td> 0.0000 </td><td> 0.0000 </td><td> 0.0000 </td><td> 0.0000 </td><td> 0.0000 </td><td> 0.0000 </td><td> 0.0000 </td><td> 0.0000 </td><td> 1.0000 </td></tr><tr><td><div align=\"center\">4</div></td><td> 0.0000 </td><td> 0.0000 </td><td> 0.0000 </td><td> 0.0000 </td><td> 0.0000 </td><td> 0.0000 </td><td> 0.0000 </td><td> 0.0000 </td><td> 0.0000 </td><td> 0.0000 </td><td> 1.0000 </td></tr><tr><td><div align=\"center\">5</div></td><td> 0.0000 </td><td> 0.0000 </td><td> 0.0000 </td><td> 0.0000 </td><td> 0.0000 </td><td> 0.0000 </td><td> 0.0000 </td><td> 0.0000 </td><td> 0.0000 </td><td> 0.0000 </td><td> 1.0000 </td></tr><tr><td><div align=\"center\">6</div></td><td> 0.0000 </td><td> 0.0000 </td><td> 0.0000 </td><td> 0.0000 </td><td> 0.0000 </td><td> 0.0000 </td><td> 0.0000 </td><td> 0.0000 </td><td> 0.0000 </td><td> 0.0000 </td><td> 1.0000 </td></tr><tr><td><div align=\"center\">7</div></td><td> 0.0000 </td><td> 0.0000 </td><td> 0.0000 </td><td> 0.0000 </td><td> 0.0000 </td><td> 0.0000 </td><td> 0.0000 </td><td> 0.0000 </td><td> 0.0000 </td><td> 0.0000 </td><td> 1.0000 </td></tr><tr><td><div align=\"center\">8</div></td><td> 0.0000 </td><td> 0.0000 </td><td> 0.0000 </td><td> 0.0000 </td><td> 0.0000 </td><td> 0.0000 </td><td> 0.0000 </td><td> 0.0000 </td><td> 0.0000 </td><td> 0.0000 </td><td> 1.0000 </td></tr><tr><td><div align=\"center\">9</div></td><td> 0.0000 </td><td> 0.0000 </td><td> 0.0000 </td><td> 0.0000 </td><td> 0.0000 </td><td> 0.0000 </td><td> 0.0000 </td><td> 0.0000 </td><td> 0.0000 </td><td> 0.0000 </td><td> 1.0000 </td></tr><tr><td><div align=\"center\">10</div></td><td> 0.0000 </td><td> 0.0000 </td><td> 0.0000 </td><td> 0.0000 </td><td> 0.0000 </td><td> 0.0000 </td><td> 0.0000 </td><td> 0.0000 </td><td> 0.0000 </td><td> 0.0000 </td><td> 1.0000 </td></tr></table></div>"
      ],
      "text/plain": [
       "<IPython.core.display.HTML at 0x1073d4490>"
      ]
     },
     "execution_count": 15,
     "metadata": {},
     "output_type": "execute_result"
    }
   ],
   "source": [
    "printP2(P**1001,n)"
   ]
  },
  {
   "cell_type": "markdown",
   "metadata": {
    "slideshow": {
     "slide_type": "subslide"
    }
   },
   "source": [
    "## Discussions\n",
    "\n",
    " \n",
    "- Eventually, the drunkard would fall down the valley. But why?\n",
    "\n",
    "Roughtly, we can make the folloing simple conclusion\n",
    "```\n",
    "   Once he falled down the valley, says at 1001 step here, he never move again!\n",
    "```   "
   ]
  },
  {
   "cell_type": "code",
   "execution_count": 17,
   "metadata": {
    "collapsed": false,
    "slideshow": {
     "slide_type": "subslide"
    }
   },
   "outputs": [
    {
     "data": {
      "text/plain": [
       "array([[ 0.,  0.,  0.,  0.,  0.,  0.,  0.,  0.,  0.,  0.,  1.]])"
      ]
     },
     "execution_count": 17,
     "metadata": {},
     "output_type": "execute_result"
    }
   ],
   "source": [
    "stableS=StableDist(P)\n",
    "stableS"
   ]
  },
  {
   "cell_type": "code",
   "execution_count": 18,
   "metadata": {
    "collapsed": false,
    "slideshow": {
     "slide_type": "fragment"
    }
   },
   "outputs": [
    {
     "data": {
      "text/plain": [
       "matrix([[ 0.,  0.,  0.,  0.,  0.,  0.,  0.,  0.,  0.,  0.,  1.]])"
      ]
     },
     "execution_count": 18,
     "metadata": {},
     "output_type": "execute_result"
    }
   ],
   "source": [
    "stableS*P"
   ]
  },
  {
   "cell_type": "markdown",
   "metadata": {
    "slideshow": {
     "slide_type": "fragment"
    }
   },
   "source": [
    "## Question:\n",
    "\n",
    "What's your conclusion about the last two results?"
   ]
  },
  {
   "cell_type": "markdown",
   "metadata": {
    "slideshow": {
     "slide_type": "slide"
    }
   },
   "source": [
    "## Note:\n",
    "Numpy provides two kinds of data type to store vector/matrix data, **array() and matrix()**. However, there are some differences between these types, especially the algebraic calculation."
   ]
  },
  {
   "cell_type": "markdown",
   "metadata": {
    "slideshow": {
     "slide_type": "slide"
    }
   },
   "source": [
    "<h3> Drunkard Example again</h3>\n",
    "Suppose that the state \"0\"  also represents falling valley. Reconsider the example again."
   ]
  },
  {
   "cell_type": "code",
   "execution_count": 10,
   "metadata": {
    "collapsed": false,
    "slideshow": {
     "slide_type": "subslide"
    }
   },
   "outputs": [
    {
     "data": {
      "text/html": [
       "<div align=\"center\"><table><tr><td>State</td><td><div align=\"center\">0</div></td><td><div align=\"center\">1</div></td><td><div align=\"center\">2</div></td><td><div align=\"center\">3</div></td><td><div align=\"center\">4</div></td><td><div align=\"center\">5</div></td><td><div align=\"center\">6</div></td><td><div align=\"center\">7</div></td><td><div align=\"center\">8</div></td><td><div align=\"center\">9</div></td><td><div align=\"center\">10</div></td></tr><tr><td><div align=\"center\">0</div></td><td> 1.0000 </td><td> 0.0000 </td><td> 0.0000 </td><td> 0.0000 </td><td> 0.0000 </td><td> 0.0000 </td><td> 0.0000 </td><td> 0.0000 </td><td> 0.0000 </td><td> 0.0000 </td><td> 0.0000 </td></tr><tr><td><div align=\"center\">1</div></td><td> 0.5000 </td><td> 0.0000 </td><td> 0.5000 </td><td> 0.0000 </td><td> 0.0000 </td><td> 0.0000 </td><td> 0.0000 </td><td> 0.0000 </td><td> 0.0000 </td><td> 0.0000 </td><td> 0.0000 </td></tr><tr><td><div align=\"center\">2</div></td><td> 0.0000 </td><td> 0.5000 </td><td> 0.0000 </td><td> 0.5000 </td><td> 0.0000 </td><td> 0.0000 </td><td> 0.0000 </td><td> 0.0000 </td><td> 0.0000 </td><td> 0.0000 </td><td> 0.0000 </td></tr><tr><td><div align=\"center\">3</div></td><td> 0.0000 </td><td> 0.0000 </td><td> 0.5000 </td><td> 0.0000 </td><td> 0.5000 </td><td> 0.0000 </td><td> 0.0000 </td><td> 0.0000 </td><td> 0.0000 </td><td> 0.0000 </td><td> 0.0000 </td></tr><tr><td><div align=\"center\">4</div></td><td> 0.0000 </td><td> 0.0000 </td><td> 0.0000 </td><td> 0.5000 </td><td> 0.0000 </td><td> 0.5000 </td><td> 0.0000 </td><td> 0.0000 </td><td> 0.0000 </td><td> 0.0000 </td><td> 0.0000 </td></tr><tr><td><div align=\"center\">5</div></td><td> 0.0000 </td><td> 0.0000 </td><td> 0.0000 </td><td> 0.0000 </td><td> 0.5000 </td><td> 0.0000 </td><td> 0.5000 </td><td> 0.0000 </td><td> 0.0000 </td><td> 0.0000 </td><td> 0.0000 </td></tr><tr><td><div align=\"center\">6</div></td><td> 0.0000 </td><td> 0.0000 </td><td> 0.0000 </td><td> 0.0000 </td><td> 0.0000 </td><td> 0.5000 </td><td> 0.0000 </td><td> 0.5000 </td><td> 0.0000 </td><td> 0.0000 </td><td> 0.0000 </td></tr><tr><td><div align=\"center\">7</div></td><td> 0.0000 </td><td> 0.0000 </td><td> 0.0000 </td><td> 0.0000 </td><td> 0.0000 </td><td> 0.0000 </td><td> 0.5000 </td><td> 0.0000 </td><td> 0.5000 </td><td> 0.0000 </td><td> 0.0000 </td></tr><tr><td><div align=\"center\">8</div></td><td> 0.0000 </td><td> 0.0000 </td><td> 0.0000 </td><td> 0.0000 </td><td> 0.0000 </td><td> 0.0000 </td><td> 0.0000 </td><td> 0.5000 </td><td> 0.0000 </td><td> 0.5000 </td><td> 0.0000 </td></tr><tr><td><div align=\"center\">9</div></td><td> 0.0000 </td><td> 0.0000 </td><td> 0.0000 </td><td> 0.0000 </td><td> 0.0000 </td><td> 0.0000 </td><td> 0.0000 </td><td> 0.0000 </td><td> 0.5000 </td><td> 0.0000 </td><td> 0.5000 </td></tr><tr><td><div align=\"center\">10</div></td><td> 0.0000 </td><td> 0.0000 </td><td> 0.0000 </td><td> 0.0000 </td><td> 0.0000 </td><td> 0.0000 </td><td> 0.0000 </td><td> 0.0000 </td><td> 0.0000 </td><td> 0.0000 </td><td> 1.0000 </td></tr></table></div>"
      ],
      "text/plain": [
       "<IPython.core.display.HTML object>"
      ]
     },
     "execution_count": 10,
     "metadata": {},
     "output_type": "execute_result"
    }
   ],
   "source": [
    "P2=P\n",
    "P2[0,0]=1.;P2[0,1]=0.;\n",
    "printP2(P2,n)"
   ]
  },
  {
   "cell_type": "code",
   "execution_count": 11,
   "metadata": {
    "collapsed": false,
    "slideshow": {
     "slide_type": "subslide"
    }
   },
   "outputs": [
    {
     "data": {
      "text/html": [
       "<div align=\"center\"><table><tr><td>State</td><td><div align=\"center\">0</div></td><td><div align=\"center\">1</div></td><td><div align=\"center\">2</div></td><td><div align=\"center\">3</div></td><td><div align=\"center\">4</div></td><td><div align=\"center\">5</div></td><td><div align=\"center\">6</div></td><td><div align=\"center\">7</div></td><td><div align=\"center\">8</div></td><td><div align=\"center\">9</div></td><td><div align=\"center\">10</div></td></tr><tr><td><div align=\"center\">0</div></td><td> 1.0000 </td><td> 0.0000 </td><td> 0.0000 </td><td> 0.0000 </td><td> 0.0000 </td><td> 0.0000 </td><td> 0.0000 </td><td> 0.0000 </td><td> 0.0000 </td><td> 0.0000 </td><td> 0.0000 </td></tr><tr><td><div align=\"center\">1</div></td><td> 0.9000 </td><td> 0.0000 </td><td> 0.0000 </td><td> 0.0000 </td><td> 0.0000 </td><td> 0.0000 </td><td> 0.0000 </td><td> 0.0000 </td><td> 0.0000 </td><td> 0.0000 </td><td> 0.1000 </td></tr><tr><td><div align=\"center\">2</div></td><td> 0.8000 </td><td> 0.0000 </td><td> 0.0000 </td><td> 0.0000 </td><td> 0.0000 </td><td> 0.0000 </td><td> 0.0000 </td><td> 0.0000 </td><td> 0.0000 </td><td> 0.0000 </td><td> 0.2000 </td></tr><tr><td><div align=\"center\">3</div></td><td> 0.7000 </td><td> 0.0000 </td><td> 0.0000 </td><td> 0.0000 </td><td> 0.0000 </td><td> 0.0000 </td><td> 0.0000 </td><td> 0.0000 </td><td> 0.0000 </td><td> 0.0000 </td><td> 0.3000 </td></tr><tr><td><div align=\"center\">4</div></td><td> 0.6000 </td><td> 0.0000 </td><td> 0.0000 </td><td> 0.0000 </td><td> 0.0000 </td><td> 0.0000 </td><td> 0.0000 </td><td> 0.0000 </td><td> 0.0000 </td><td> 0.0000 </td><td> 0.4000 </td></tr><tr><td><div align=\"center\">5</div></td><td> 0.5000 </td><td> 0.0000 </td><td> 0.0000 </td><td> 0.0000 </td><td> 0.0000 </td><td> 0.0000 </td><td> 0.0000 </td><td> 0.0000 </td><td> 0.0000 </td><td> 0.0000 </td><td> 0.5000 </td></tr><tr><td><div align=\"center\">6</div></td><td> 0.4000 </td><td> 0.0000 </td><td> 0.0000 </td><td> 0.0000 </td><td> 0.0000 </td><td> 0.0000 </td><td> 0.0000 </td><td> 0.0000 </td><td> 0.0000 </td><td> 0.0000 </td><td> 0.6000 </td></tr><tr><td><div align=\"center\">7</div></td><td> 0.3000 </td><td> 0.0000 </td><td> 0.0000 </td><td> 0.0000 </td><td> 0.0000 </td><td> 0.0000 </td><td> 0.0000 </td><td> 0.0000 </td><td> 0.0000 </td><td> 0.0000 </td><td> 0.7000 </td></tr><tr><td><div align=\"center\">8</div></td><td> 0.2000 </td><td> 0.0000 </td><td> 0.0000 </td><td> 0.0000 </td><td> 0.0000 </td><td> 0.0000 </td><td> 0.0000 </td><td> 0.0000 </td><td> 0.0000 </td><td> 0.0000 </td><td> 0.8000 </td></tr><tr><td><div align=\"center\">9</div></td><td> 0.1000 </td><td> 0.0000 </td><td> 0.0000 </td><td> 0.0000 </td><td> 0.0000 </td><td> 0.0000 </td><td> 0.0000 </td><td> 0.0000 </td><td> 0.0000 </td><td> 0.0000 </td><td> 0.9000 </td></tr><tr><td><div align=\"center\">10</div></td><td> 0.0000 </td><td> 0.0000 </td><td> 0.0000 </td><td> 0.0000 </td><td> 0.0000 </td><td> 0.0000 </td><td> 0.0000 </td><td> 0.0000 </td><td> 0.0000 </td><td> 0.0000 </td><td> 1.0000 </td></tr></table></div>"
      ],
      "text/plain": [
       "<IPython.core.display.HTML object>"
      ]
     },
     "execution_count": 11,
     "metadata": {},
     "output_type": "execute_result"
    }
   ],
   "source": [
    "printP2(P2**1000,n)"
   ]
  },
  {
   "cell_type": "code",
   "execution_count": 13,
   "metadata": {
    "collapsed": false,
    "slideshow": {
     "slide_type": "subslide"
    }
   },
   "outputs": [
    {
     "data": {
      "text/html": [
       "<div align=\"center\"><table><tr><td>State</td><td><div align=\"center\">0</div></td><td><div align=\"center\">1</div></td><td><div align=\"center\">2</div></td><td><div align=\"center\">3</div></td><td><div align=\"center\">4</div></td><td><div align=\"center\">5</div></td><td><div align=\"center\">6</div></td><td><div align=\"center\">7</div></td><td><div align=\"center\">8</div></td><td><div align=\"center\">9</div></td><td><div align=\"center\">10</div></td></tr><tr><td><div align=\"center\">0</div></td><td> 1.0000 </td><td> 0.0000 </td><td> 0.0000 </td><td> 0.0000 </td><td> 0.0000 </td><td> 0.0000 </td><td> 0.0000 </td><td> 0.0000 </td><td> 0.0000 </td><td> 0.0000 </td><td> 0.0000 </td></tr><tr><td><div align=\"center\">1</div></td><td> 0.9000 </td><td> 0.0000 </td><td> 0.0000 </td><td> 0.0000 </td><td> 0.0000 </td><td> 0.0000 </td><td> 0.0000 </td><td> 0.0000 </td><td> 0.0000 </td><td> 0.0000 </td><td> 0.1000 </td></tr><tr><td><div align=\"center\">2</div></td><td> 0.8000 </td><td> 0.0000 </td><td> 0.0000 </td><td> 0.0000 </td><td> 0.0000 </td><td> 0.0000 </td><td> 0.0000 </td><td> 0.0000 </td><td> 0.0000 </td><td> 0.0000 </td><td> 0.2000 </td></tr><tr><td><div align=\"center\">3</div></td><td> 0.7000 </td><td> 0.0000 </td><td> 0.0000 </td><td> 0.0000 </td><td> 0.0000 </td><td> 0.0000 </td><td> 0.0000 </td><td> 0.0000 </td><td> 0.0000 </td><td> 0.0000 </td><td> 0.3000 </td></tr><tr><td><div align=\"center\">4</div></td><td> 0.6000 </td><td> 0.0000 </td><td> 0.0000 </td><td> 0.0000 </td><td> 0.0000 </td><td> 0.0000 </td><td> 0.0000 </td><td> 0.0000 </td><td> 0.0000 </td><td> 0.0000 </td><td> 0.4000 </td></tr><tr><td><div align=\"center\">5</div></td><td> 0.5000 </td><td> 0.0000 </td><td> 0.0000 </td><td> 0.0000 </td><td> 0.0000 </td><td> 0.0000 </td><td> 0.0000 </td><td> 0.0000 </td><td> 0.0000 </td><td> 0.0000 </td><td> 0.5000 </td></tr><tr><td><div align=\"center\">6</div></td><td> 0.4000 </td><td> 0.0000 </td><td> 0.0000 </td><td> 0.0000 </td><td> 0.0000 </td><td> 0.0000 </td><td> 0.0000 </td><td> 0.0000 </td><td> 0.0000 </td><td> 0.0000 </td><td> 0.6000 </td></tr><tr><td><div align=\"center\">7</div></td><td> 0.3000 </td><td> 0.0000 </td><td> 0.0000 </td><td> 0.0000 </td><td> 0.0000 </td><td> 0.0000 </td><td> 0.0000 </td><td> 0.0000 </td><td> 0.0000 </td><td> 0.0000 </td><td> 0.7000 </td></tr><tr><td><div align=\"center\">8</div></td><td> 0.2000 </td><td> 0.0000 </td><td> 0.0000 </td><td> 0.0000 </td><td> 0.0000 </td><td> 0.0000 </td><td> 0.0000 </td><td> 0.0000 </td><td> 0.0000 </td><td> 0.0000 </td><td> 0.8000 </td></tr><tr><td><div align=\"center\">9</div></td><td> 0.1000 </td><td> 0.0000 </td><td> 0.0000 </td><td> 0.0000 </td><td> 0.0000 </td><td> 0.0000 </td><td> 0.0000 </td><td> 0.0000 </td><td> 0.0000 </td><td> 0.0000 </td><td> 0.9000 </td></tr><tr><td><div align=\"center\">10</div></td><td> 0.0000 </td><td> 0.0000 </td><td> 0.0000 </td><td> 0.0000 </td><td> 0.0000 </td><td> 0.0000 </td><td> 0.0000 </td><td> 0.0000 </td><td> 0.0000 </td><td> 0.0000 </td><td> 1.0000 </td></tr></table></div>"
      ],
      "text/plain": [
       "<IPython.core.display.HTML object>"
      ]
     },
     "execution_count": 13,
     "metadata": {},
     "output_type": "execute_result"
    }
   ],
   "source": [
    "printP2(P2**1001,n)"
   ]
  },
  {
   "cell_type": "code",
   "execution_count": 14,
   "metadata": {
    "collapsed": false,
    "slideshow": {
     "slide_type": "subslide"
    }
   },
   "outputs": [
    {
     "data": {
      "text/plain": [
       "array([[ 1.,  0.,  0.,  0.,  0.,  0.,  0.,  0.,  0.,  0.,  0.],\n",
       "       [ 0.,  0.,  0.,  0.,  0.,  0.,  0.,  0.,  0.,  0.,  1.]])"
      ]
     },
     "execution_count": 14,
     "metadata": {},
     "output_type": "execute_result"
    }
   ],
   "source": [
    "StableDist(P)"
   ]
  },
  {
   "cell_type": "markdown",
   "metadata": {
    "collapsed": false,
    "slideshow": {
     "slide_type": "subslide"
    }
   },
   "source": [
    "Question\n",
    "---\n",
    "What the situation does the drunkard still alive? Why?"
   ]
  },
  {
   "cell_type": "markdown",
   "metadata": {
    "slideshow": {
     "slide_type": "slide"
    }
   },
   "source": [
    "<h3> Note: Difference between Array and Matrix Operations</h3>\n",
    "Matrices can be treated as a 2D values (data). However, matrix operations are different from general value arithmatic operations.  For instance:\n",
    "$ M\\times M=0$ does not imply $M=0$ for matrix $M$. "
   ]
  },
  {
   "cell_type": "code",
   "execution_count": 13,
   "metadata": {
    "collapsed": false,
    "slideshow": {
     "slide_type": "subslide"
    }
   },
   "outputs": [
    {
     "data": {
      "text/plain": [
       "(array([[ 1, -1],\n",
       "        [ 1, -1]]), matrix([[ 1, -1],\n",
       "         [ 1, -1]]))"
      ]
     },
     "execution_count": 13,
     "metadata": {},
     "output_type": "execute_result"
    }
   ],
   "source": [
    "A=np.array([[1,-1],[1,-1]])\n",
    "B=np.matrix(A)\n",
    "A,B"
   ]
  },
  {
   "cell_type": "code",
   "execution_count": 14,
   "metadata": {
    "collapsed": false,
    "slideshow": {
     "slide_type": "subslide"
    }
   },
   "outputs": [
    {
     "data": {
      "text/html": [
       "<div align=\"center\"><table><tr><td>State</td><td><div align=\"center\">1</div></td><td><div align=\"center\">2</div></td><tr><td><div align=\"center\">1</div></td><td> 1.0000 </td><td> 1.0000 </td></tr><tr><td><div align=\"center\">2</div></td><td> 1.0000 </td><td> 1.0000 </td></tr></table></div>"
      ],
      "text/plain": [
       "<IPython.core.display.HTML object>"
      ]
     },
     "execution_count": 14,
     "metadata": {},
     "output_type": "execute_result"
    }
   ],
   "source": [
    "printP(A*A)"
   ]
  },
  {
   "cell_type": "code",
   "execution_count": 15,
   "metadata": {
    "collapsed": false,
    "slideshow": {
     "slide_type": "subslide"
    }
   },
   "outputs": [
    {
     "data": {
      "text/html": [
       "<div align=\"center\"><table><tr><td>State</td><td><div align=\"center\">1</div></td><td><div align=\"center\">2</div></td><tr><td><div align=\"center\">1</div></td><td> 0.0000 </td><td> 0.0000 </td></tr><tr><td><div align=\"center\">2</div></td><td> 0.0000 </td><td> 0.0000 </td></tr></table></div>"
      ],
      "text/plain": [
       "<IPython.core.display.HTML object>"
      ]
     },
     "execution_count": 15,
     "metadata": {},
     "output_type": "execute_result"
    }
   ],
   "source": [
    "printP(B*B)"
   ]
  },
  {
   "cell_type": "markdown",
   "metadata": {
    "slideshow": {
     "slide_type": "slide"
    }
   },
   "source": [
    "## Example (Learning Or Not)\n",
    "\n",
    "Arnorld, a student in the class, would be in one of four states:\n",
    "\n",
    "    1. learning\n",
    "    2. watch his facebook,\n",
    "    3. write exercise or lab report,\n",
    "    4. dozing off.\n",
    "\n",
    "Every ten minutes, Arnold can change his activity or continue the current one. Suppose that the behavior of Arnold's changing state is a process without memory.\n",
    "\n",
    "    - When he dozes off, there is 9 chances over 10 that he will not wake up the next ten minute, otherwise 1 chance over 10 that he will wake up and listen what he had lost.\n",
    "    - When he wakes up, there is 1 chance over 3 that listens lecture, and 1 chance over 3 that logins his facebook, and 1 chance over 3 that will write lab report;\n",
    "    - when teacher ask to him shutdown his cell phone, there is 3 chances over 5 that he will fall in asleep, and 2 chances over 5 that he will write his lab report.\n",
    "    - when teacher stop his writing staff, there is 1 chances over 4 that he will attend the lecture listening, and 1 chances over 2 that he will doze off.\n",
    "\n"
   ]
  },
  {
   "cell_type": "markdown",
   "metadata": {
    "slideshow": {
     "slide_type": "subslide"
    }
   },
   "source": [
    "# Example (continued)\n",
    "\n",
    "**State $S$**: 1 for listening, 2 for using cell phone, 3 for writing, and 4 for dozzling.\n",
    "\n",
    "**The first state**: 1\n",
    "\n",
    "**Question**: After ten minutes, in what state is Arnold we can predict? How about 20 minutes? and so on?\n"
   ]
  },
  {
   "cell_type": "markdown",
   "metadata": {
    "slideshow": {
     "slide_type": "subslide"
    }
   },
   "source": [
    "## Answer (continued)\n",
    "\n",
    "After ten minutes,\n",
    "\n",
    "1. $1\\to1$ (still listening to the lecture): 1/3\n",
    "2. $1\\to2$: 1/3\n",
    "3. $1\\to3$: 1/3\n",
    "4. $1\\to4$: 0\n",
    "\n"
   ]
  },
  {
   "cell_type": "markdown",
   "metadata": {
    "slideshow": {
     "slide_type": "subslide"
    }
   },
   "source": [
    "\n",
    "<div class=\"alert alert-success\" align=\"center\">\n",
    "    The case becomes more `complicated` while time elapses!\n",
    "\n",
    "</div>\n",
    "\n",
    "\n",
    "The probability transtion matrix would do much help!"
   ]
  },
  {
   "cell_type": "code",
   "execution_count": 16,
   "metadata": {
    "collapsed": false,
    "slideshow": {
     "slide_type": "subslide"
    }
   },
   "outputs": [],
   "source": [
    "P1=np.matrix([[1/3.,1/3.,1/3.,0],[0,0,2/5.,3/5.],[1/4.,1/4.,0,1/2.],[1/10.,0,0,9/10.]])"
   ]
  },
  {
   "cell_type": "code",
   "execution_count": 17,
   "metadata": {
    "collapsed": false,
    "slideshow": {
     "slide_type": "subslide"
    }
   },
   "outputs": [
    {
     "data": {
      "text/html": [
       "<div align=\"center\"><table><tr><td>State</td><td><div align=\"center\">1</div></td><td><div align=\"center\">2</div></td><td><div align=\"center\">3</div></td><td><div align=\"center\">4</div></td><tr><td><div align=\"center\">1</div></td><td> 0.3333 </td><td> 0.3333 </td><td> 0.3333 </td><td> 0.0000 </td></tr><tr><td><div align=\"center\">2</div></td><td> 0.0000 </td><td> 0.0000 </td><td> 0.4000 </td><td> 0.6000 </td></tr><tr><td><div align=\"center\">3</div></td><td> 0.2500 </td><td> 0.2500 </td><td> 0.0000 </td><td> 0.5000 </td></tr><tr><td><div align=\"center\">4</div></td><td> 0.1000 </td><td> 0.0000 </td><td> 0.0000 </td><td> 0.9000 </td></tr></table></div>"
      ],
      "text/plain": [
       "<IPython.core.display.HTML object>"
      ]
     },
     "execution_count": 17,
     "metadata": {},
     "output_type": "execute_result"
    }
   ],
   "source": [
    "printP(P1)"
   ]
  },
  {
   "cell_type": "markdown",
   "metadata": {
    "slideshow": {
     "slide_type": "slide"
    }
   },
   "source": [
    "## Example (continued)\n",
    "\n",
    "After the first result, the transition states from any state could be any state in $S$; the following calculation shows the probability, staring from state 1 to any states and back to state again:\n",
    "$$\n",
    "1 \\to [1,2,3,4] \\to 1\\\\\n",
    "   P(X_2=1|X_0=1)=\\sum_{i\\in S}P(X_1=i|X_0=1)\\times P(X_2=1|X_1=i)\n",
    "$$\n",
    "\n",
    "Above result describes the case that Arnold still awake and keeps on listening after two time units elapsed.\n",
    "\n",
    "<h3>Symbols</h3>\n",
    "\n",
    "$P(X_{n+1}=j|X_n=i)$: the probability of being in $i$-state at time $n+1$ given by condition which is in state $i$ at time $n$. "
   ]
  },
  {
   "cell_type": "markdown",
   "metadata": {
    "slideshow": {
     "slide_type": "subslide"
    }
   },
   "source": [
    "## Question:\n",
    "\n",
    "1. Does this mean that the person always awakes at the first twenty minutes?\n",
    "2. How many changes does this person awake and listen to the lectecure during two hours? (very hard)"
   ]
  },
  {
   "cell_type": "markdown",
   "metadata": {},
   "source": [
    "<h2>Note</h2>\n",
    "$$P(X_2=1|X_0=1)= \\sum_i P(X_2=1|X_1=i)P(X_1=i|X_0=1)=\\sum_i P(X_1=1|X_0=i)P(X_1=i|X_0=1)=P^2[1,1]$$"
   ]
  },
  {
   "cell_type": "code",
   "execution_count": 18,
   "metadata": {
    "collapsed": false
   },
   "outputs": [
    {
     "data": {
      "text/html": [
       "<div align=\"center\"><table><tr><td>State</td><td><div align=\"center\">1</div></td><td><div align=\"center\">2</div></td><td><div align=\"center\">3</div></td><td><div align=\"center\">4</div></td><tr><td><div align=\"center\">1</div></td><td> 0.1944 </td><td> 0.1944 </td><td> 0.2444 </td><td> 0.3667 </td></tr><tr><td><div align=\"center\">2</div></td><td> 0.1600 </td><td> 0.1000 </td><td> 0.0000 </td><td> 0.7400 </td></tr><tr><td><div align=\"center\">3</div></td><td> 0.1333 </td><td> 0.0833 </td><td> 0.1833 </td><td> 0.6000 </td></tr><tr><td><div align=\"center\">4</div></td><td> 0.1233 </td><td> 0.0333 </td><td> 0.0333 </td><td> 0.8100 </td></tr></table></div>"
      ],
      "text/plain": [
       "<IPython.core.display.HTML object>"
      ]
     },
     "execution_count": 18,
     "metadata": {},
     "output_type": "execute_result"
    }
   ],
   "source": [
    "printP(P1**2)"
   ]
  },
  {
   "cell_type": "markdown",
   "metadata": {},
   "source": [
    "<div class=\"alert alert-success\" align=\"center\">\n",
    "<b>Answer for last question<b>: Only about <code>2</code> chances over 10, he is still listening after 20 minutes.\n",
    "</div>"
   ]
  },
  {
   "cell_type": "code",
   "execution_count": 27,
   "metadata": {
    "collapsed": false,
    "slideshow": {
     "slide_type": "notes"
    }
   },
   "outputs": [
    {
     "data": {
      "text/plain": [
       "array([[ 0.13602015,  0.06297229,  0.07052897,  0.73047859]])"
      ]
     },
     "execution_count": 27,
     "metadata": {},
     "output_type": "execute_result"
    }
   ],
   "source": [
    "StableDist(P1)"
   ]
  },
  {
   "cell_type": "code",
   "execution_count": 69,
   "metadata": {
    "collapsed": false,
    "slideshow": {
     "slide_type": "subslide"
    }
   },
   "outputs": [
    {
     "data": {
      "text/html": [
       "<div align=\"center\"><table><tr><td>State</td><td><div align=\"center\">1</div></td><td><div align=\"center\">2</div></td><td><div align=\"center\">3</div></td><td><div align=\"center\">4</div></td><tr><td><div align=\"center\">1</div></td><td> 0.1361 </td><td> 0.0632 </td><td> 0.0708 </td><td> 0.7300 </td></tr><tr><td><div align=\"center\">2</div></td><td> 0.1360 </td><td> 0.0630 </td><td> 0.0705 </td><td> 0.7305 </td></tr><tr><td><div align=\"center\">3</div></td><td> 0.1360 </td><td> 0.0630 </td><td> 0.0706 </td><td> 0.7303 </td></tr><tr><td><div align=\"center\">4</div></td><td> 0.1360 </td><td> 0.0629 </td><td> 0.0705 </td><td> 0.7306 </td></tr></table></div>"
      ],
      "text/plain": [
       "<IPython.core.display.HTML at 0x7f7e755035c0>"
      ]
     },
     "execution_count": 69,
     "metadata": {},
     "output_type": "execute_result"
    }
   ],
   "source": [
    "printP(P1**10)"
   ]
  },
  {
   "cell_type": "code",
   "execution_count": 70,
   "metadata": {
    "collapsed": false,
    "slideshow": {
     "slide_type": "subslide"
    }
   },
   "outputs": [
    {
     "data": {
      "text/html": [
       "<div align=\"center\"><table><tr><td>State</td><td><div align=\"center\">1</div></td><td><div align=\"center\">2</div></td><td><div align=\"center\">3</div></td><td><div align=\"center\">4</div></td><tr><td><div align=\"center\">1</div></td><td> 0.1360 </td><td> 0.0630 </td><td> 0.0705 </td><td> 0.7305 </td></tr><tr><td><div align=\"center\">2</div></td><td> 0.1360 </td><td> 0.0630 </td><td> 0.0705 </td><td> 0.7305 </td></tr><tr><td><div align=\"center\">3</div></td><td> 0.1360 </td><td> 0.0630 </td><td> 0.0705 </td><td> 0.7305 </td></tr><tr><td><div align=\"center\">4</div></td><td> 0.1360 </td><td> 0.0630 </td><td> 0.0705 </td><td> 0.7305 </td></tr></table></div>"
      ],
      "text/plain": [
       "<IPython.core.display.HTML at 0x7f7e755039e8>"
      ]
     },
     "execution_count": 70,
     "metadata": {},
     "output_type": "execute_result"
    }
   ],
   "source": [
    "printP(P1**100)"
   ]
  },
  {
   "cell_type": "markdown",
   "metadata": {
    "slideshow": {
     "slide_type": "subslide"
    }
   },
   "source": [
    "<div class=\"alert alert-success\" align=\"center\">\n",
    "How about the last two computed results? \n",
    "</div>"
   ]
  },
  {
   "cell_type": "markdown",
   "metadata": {},
   "source": [
    "## Observation\n",
    "\n",
    "While at the (large) $n$ step, the transtion probability seems to be distributed as constant as follows:\n",
    "\n",
    "$$\\pi_n=(p_1,p_2,p_3,p_4)^{t=n}$$\n",
    "\n",
    "Then the transtion probability to the next step should be\n",
    "\n",
    "1. state 1: $p_1*p_{11}+p_2*p_{21}+p_3*p_{31}+p_4*p_{41}(\\sim p_1)$\n",
    "$$   \n",
    "   P(X_{n+1}=1) = P(X_n=1) P(X_{n+1}=1|X_n=1)+P(X_n=2) P(X_{n+1}=1|X_n=2)+\\cdots+P(X_n=4) P(X_{n+1}=1|X_n=4) \n",
    "$$\n",
    "2. states $i=2,3,4$: $p_1*p_{1i}+p_2*p_{2i}+p_3*p_{3i}+p_4*p_{4i}(\\sim p_i)$\n",
    "3. $$ (p_1,p_2,p_3,p_4)^{n+1}=(p_1,p_2,p_3,p_4)^{n}\\times P$$\n",
    "\n",
    "This implies: $$ \\pi_{n+1}=\\pi_n\\times P$$ if time $n$ is large enough (eventually). This is stable if the following exists:\n",
    "$$\\pi=\\lim_{n\\to\\infty}\\pi_{n+1}=\\lim_{n\\to\\infty}\\pi_n\\times P=\\pi P$$\n"
   ]
  },
  {
   "cell_type": "markdown",
   "metadata": {
    "slideshow": {
     "slide_type": "subslide"
    }
   },
   "source": [
    "## Tools for evaluate stable $\\pi$\n",
    "\n",
    "Although $\\pi$ is calculated by matrix theory, NumPy/SciPy is the best choice for computing Linear Algebra and for computing transition matix!\n"
   ]
  },
  {
   "cell_type": "markdown",
   "metadata": {
    "slideshow": {
     "slide_type": "slide"
    }
   },
   "source": [
    "## Mathematical Background\n",
    "\n",
    "**Definition**\n",
    "\n",
    "An $n×k$ matrix is a rectangular array $A$ of numbers with $n$ rows and $k$ columns:\n",
    "\n",
    "\\begin{split}A = \\left[ \\begin{array}{cccc} a_{11} & a_{12} & \\cdots & a_{1k} \\\\ a_{21} & a_{22} & \\cdots & a_{2k} \\\\ \\vdots & \\vdots & & \\vdots \\\\ a_{n1} & a_{n2} & \\cdots & a_{nk} \\end{array} \\right]\\end{split}\n",
    "\n",
    "$A$ is called square matrix if $n=k$."
   ]
  },
  {
   "cell_type": "markdown",
   "metadata": {
    "slideshow": {
     "slide_type": "subslide"
    }
   },
   "source": [
    "**Definition**\n",
    "---\n",
    "Let $P$ be an $n×n$ square matrix\n",
    "\n",
    "**a).** If $\\lambda$ is scalar and $\\vec v$ is a non-zero vector in $\\mathbb{R}^n$ such that \n",
    "$$\\mathbb{P\\vec v=\\lambda \\vec v},$$\n",
    "then we say that $\\lambda$ is a **right eigenvalue** of $P$, and $\\vec v$ is a **right eigenvector**.\n",
    "\n",
    "**b).** If $\\lambda$ is scalar and $\\vec v$ is a non-zero vector in $\\mathbb{R}^n$ such that \n",
    "$$\\mathbb{\\vec v P=\\lambda \\vec v},$$\n",
    "then we say that $\\lambda$ is a **left eigenvalue **of $P$, and $\\vec v$ is a **left eigenvector**\n"
   ]
  },
  {
   "cell_type": "markdown",
   "metadata": {
    "slideshow": {
     "slide_type": "subslide"
    }
   },
   "source": [
    "\n",
    "<div class=\"alert alert-success\" align=\"center\">\n",
    "<big>Left {*eigenvalues*, *eigenvectors*} is the key point to describe the stable property for $P$.</big>\n",
    "</div>"
   ]
  },
  {
   "cell_type": "markdown",
   "metadata": {
    "slideshow": {
     "slide_type": "subslide"
    }
   },
   "source": [
    "**Theorem**\n",
    "Let $P$ be an $n×n$ Transition matrix. 1 is an eigenvalue since\n",
    "$$ P\\cdot[1,1,\\cdots,1]^t=\\left[\\sum_i^n p_{1i},\\cdots,\\sum_i^n p_{ni}\\right]=[1,1,\\cdots,1]^t$$\n"
   ]
  },
  {
   "cell_type": "markdown",
   "metadata": {
    "slideshow": {
     "slide_type": "fragment"
    }
   },
   "source": [
    "\n",
    "\n",
    "**Theorem** (Accumulated Effect)\n",
    "\n",
    "$\\vec v P=\\lambda \\vec v$ impies $\\lambda^m$ is eigenvalue of $P^m$ with the same eigenvector:\n",
    "\n",
    "$$\\vec v P^m=(\\vec v P) P^{m-1}=\\lambda \\vec v P^{m-1}=\\lambda^2 \\vec v P^{m-2}=\\cdots= \\lambda^m\\vec v $$\n",
    "\n"
   ]
  },
  {
   "cell_type": "markdown",
   "metadata": {
    "slideshow": {
     "slide_type": "fragment"
    }
   },
   "source": [
    "\n",
    "**Theorem**\n",
    "\n",
    "Every left eigenvalue $\\lambda_j$ satisfies $|\\lambda_j|\\le1$\n",
    "$$ \\lambda_j^m \\vec v = \\sum_i^n v_i p^m_{ij} \\\\\n",
    "   |\\lambda_j^m|\\cdot ||\\vec v|| \\le \\sum_i^n |v_i| p_{ij} \\\\\n",
    "   |\\lambda_j^m|  \\le \\sum_i^n  p_{ij}\\le C \\\\\n",
    "$$   \n",
    "This proves the theorem since the last result would holds for every $m\\ge1$.\n",
    "\n",
    "<div align=\"center\"><big>\n",
    "(If not, $\\lambda^m$ should be not bounded for some $m$ large enough.)\n",
    "</big>\n",
    "</div>\n",
    "   "
   ]
  },
  {
   "cell_type": "markdown",
   "metadata": {
    "slideshow": {
     "slide_type": "slide"
    }
   },
   "source": [
    "## Example\n",
    "\n",
    "**Definition**\n",
    "\n",
    "Suppose that $P$ is a $2x2$ transition matrix, $P$, as follows:\n",
    "\n",
    "\\begin{split}P = \\left[ \\begin{array}{cc} p_{11} & p_{12}\\\\ p_{21} & p_{22} \\end{array} \\right]\\end{split}\n",
    "\n",
    "\n",
    "**Facts**\n",
    "\n",
    "1. If $p_{12}=p_{21}=0$ $\\to$ 2 recurrent states and $\\lambda=1$ with multiplicity 2.\n",
    "2. If $p_{12}=p_{21}=1$ $\\to$ periodic and eigenvalues are 1 and $\\lambda=-1$ (otherwise $|\\lambda|<1$).\n"
   ]
  },
  {
   "cell_type": "markdown",
   "metadata": {
    "slideshow": {
     "slide_type": "slide"
    }
   },
   "source": [
    "## Neumann's Theorem\n",
    "\n",
    "If $∥A^k∥\\lt 1$ for some $k∈\\mathbb{N}$, then $I−A$ is invertible, and\n",
    "\n",
    "\\begin{split} (I - A)^{-1} = \\sum_{k=0}^{\\infty} A^k \\end{split} where \\begin{split} \\| A \\| := \\max_{\\| x \\| = 1} \\| A x \\| \\end{split}\n"
   ]
  },
  {
   "cell_type": "markdown",
   "metadata": {
    "slideshow": {
     "slide_type": "subslide"
    }
   },
   "source": [
    "## Properties of MC\n",
    "\n",
    "1. A state $j$ is said to be **accessible** from a state $i$ if $ P^n(i,j)>0$ for some $n\\ge0$. \n",
    "2. Periodic: A state $ i$ has **period** $k$ if any return to state $i$ must occur in multiples of $k$ time steps. If $k = 1$, then the state is said to be *aperiodic*\n",
    "3. Recurrence: A state $i$ is said to be *transient* if, given that we start in state $i$, there is a non-zero probability that we will never return to $i$.  A state $i$ is said to be *recurrent* if and only if the expected number, starting from $i$, back to $i$ is infinite.\n",
    "$$\\text{ recurrent if } \\sum_{n\\ge 1}P_{i,i}^n=\\infty;\\\\\n",
    "  \\text{ transient if } \\sum_{n\\ge 1}P_{i,i}^n<\\infty;\\\\                       \n",
    "$$\n",
    "4. A state $i$ is called *absorbing* if it is impossible to leave this state.\n",
    "5. Ergodicity: A state $i$ is said to be ergodic if it is aperiodic and positive recurrent. In other words, a state i is ergodic if it is recurrent, has a period of 1 and it has finite mean recurrence time. If all states in an irreducible Markov chain are ergodic, then the chain is said to be ergodic.\n",
    "6. $\\pi$ is called stationary if\n",
    "   \n",
    "$$\n",
    "   \\pi=[\\pi_1,\\cdots,\\pi_n], \\pi_i\\ge0; \\\\\n",
    "   \\sum_{i\\in S}\\pi_i=1;\\\\\n",
    "   \\pi=\\pi P\n",
    "$$ \n",
    "\n"
   ]
  },
  {
   "cell_type": "markdown",
   "metadata": {
    "slideshow": {
     "slide_type": "subslide"
    }
   },
   "source": [
    "## Theorem\n",
    "An irreducible chain has a stationary distribution if and only if all of its states are positive recurrent, i.e.\n",
    "$$ \\pi=\\pi P$$"
   ]
  },
  {
   "cell_type": "markdown",
   "metadata": {
    "slideshow": {
     "slide_type": "subslide"
    }
   },
   "source": [
    "## Note\n",
    "An irreducible aperiod Markov chain satisfies:\n",
    "$$ \\pi=\\pi P \\\\\n",
    "   \\to \\pi(I_n-1\\cdot P)=0$$\n",
    "   This means $\\pi$ is the eigenvector of $P$ with respect to the eigenvalue <font color=\"red\">\"$1$\"</font>.   <br>  \n",
    "   <img src=\"images/invariant.png\">   \n"
   ]
  },
  {
   "cell_type": "code",
   "execution_count": 19,
   "metadata": {
    "collapsed": false,
    "slideshow": {
     "slide_type": "slide"
    }
   },
   "outputs": [
    {
     "data": {
      "text/html": [
       "<div align=\"center\"><table><tr><td>State</td><td><div align=\"center\">1</div></td><td><div align=\"center\">2</div></td><tr><td><div align=\"center\">1</div></td><td> 0.4000 </td><td> 0.6000 </td></tr><tr><td><div align=\"center\">2</div></td><td> 0.2000 </td><td> 0.8000 </td></tr></table></div>"
      ],
      "text/plain": [
       "<IPython.core.display.HTML object>"
      ]
     },
     "execution_count": 19,
     "metadata": {},
     "output_type": "execute_result"
    }
   ],
   "source": [
    "B=np.matrix([[0.4,0.6],[0.2,0.8]])\n",
    "printP(B)"
   ]
  },
  {
   "cell_type": "code",
   "execution_count": 9,
   "metadata": {
    "collapsed": false,
    "slideshow": {
     "slide_type": "subslide"
    }
   },
   "outputs": [
    {
     "data": {
      "text/plain": [
       "array([ 0.2,  1. ])"
      ]
     },
     "execution_count": 9,
     "metadata": {},
     "output_type": "execute_result"
    }
   ],
   "source": [
    "evals, evecs =sp.linalg.eig(B,left=True,right=False)\n",
    "\n",
    "evals=np.real(evals)\n",
    "evals"
   ]
  },
  {
   "cell_type": "code",
   "execution_count": 10,
   "metadata": {
    "collapsed": false,
    "slideshow": {
     "slide_type": "subslide"
    }
   },
   "outputs": [
    {
     "data": {
      "text/plain": [
       "array([-0.31622777, -0.9486833 ])"
      ]
     },
     "execution_count": 10,
     "metadata": {},
     "output_type": "execute_result"
    }
   ],
   "source": [
    "ev0=evecs[:,1];ev0"
   ]
  },
  {
   "cell_type": "code",
   "execution_count": 11,
   "metadata": {
    "collapsed": false,
    "slideshow": {
     "slide_type": "subslide"
    }
   },
   "outputs": [
    {
     "data": {
      "text/plain": [
       "array([ 0.25,  0.75])"
      ]
     },
     "execution_count": 11,
     "metadata": {},
     "output_type": "execute_result"
    }
   ],
   "source": [
    "ev0=ev0/sum(ev0);ev0"
   ]
  },
  {
   "cell_type": "code",
   "execution_count": 20,
   "metadata": {
    "collapsed": false,
    "slideshow": {
     "slide_type": "subslide"
    }
   },
   "outputs": [
    {
     "data": {
      "text/plain": [
       "array([[ 0.25,  0.75]])"
      ]
     },
     "execution_count": 20,
     "metadata": {},
     "output_type": "execute_result"
    }
   ],
   "source": [
    "ev1=StableDist(B)\n",
    "ev1"
   ]
  },
  {
   "cell_type": "code",
   "execution_count": 14,
   "metadata": {
    "collapsed": false,
    "slideshow": {
     "slide_type": "subslide"
    }
   },
   "outputs": [
    {
     "data": {
      "text/plain": [
       "matrix([[ 0.25,  0.75]])"
      ]
     },
     "execution_count": 14,
     "metadata": {},
     "output_type": "execute_result"
    }
   ],
   "source": [
    "ev1*B"
   ]
  },
  {
   "cell_type": "markdown",
   "metadata": {
    "slideshow": {
     "slide_type": "slide"
    }
   },
   "source": [
    "## Procedure for Evaluating $\\pi$\n",
    "\n",
    "1. Find out all the eigenvalues of $P$ with eigenvales repectively; \n",
    "\n",
    "2. the eigenvector with respect to eigenvale 1 is the stable distribution, $\\pi$, that  we want to find.\n",
    "\n",
    "## By SciPy\n",
    "\n",
    "1. Find eigenvalues by <br>\n",
    "   <font color=\"brown\">eigvals,eigvecs=scipy.linalg.eig(P,left=True,right=False)</font>\n",
    "\n",
    "2. Suppose that eigvec = eigvec[:,i] is the eigenvector with respect to eigenvalue1. It is the stable distribution, $\\pi$ if eigenvec is unit vector; otherwise, $\\pi$ is <font color=\"brown\">eigvec/sum(eigvec)</font> since total sum of transition probability is equal to 1."
   ]
  },
  {
   "cell_type": "code",
   "execution_count": 20,
   "metadata": {
    "collapsed": false,
    "slideshow": {
     "slide_type": "subslide"
    }
   },
   "outputs": [
    {
     "data": {
      "text/html": [
       "<div align=\"center\"><table><tr><td>State</td><td><div align=\"center\">1</div></td><td><div align=\"center\">2</div></td><td><div align=\"center\">3</div></td><tr><td><div align=\"center\">1</div></td><td> 0.7000 </td><td> 0.2000 </td><td> 0.1000 </td></tr><tr><td><div align=\"center\">2</div></td><td> 0.0000 </td><td> 0.5000 </td><td> 0.5000 </td></tr><tr><td><div align=\"center\">3</div></td><td> 0.0000 </td><td> 0.9000 </td><td> 0.1000 </td></tr></table></div>"
      ],
      "text/plain": [
       "<IPython.core.display.HTML at 0x10734ff10>"
      ]
     },
     "execution_count": 20,
     "metadata": {},
     "output_type": "execute_result"
    }
   ],
   "source": [
    "A = np.matrix([[0.7,0.2,0.1],[0,0.5,0.5],[0.,0.9,0.1]])\n",
    "printP(A)"
   ]
  },
  {
   "cell_type": "code",
   "execution_count": 21,
   "metadata": {
    "collapsed": false,
    "slideshow": {
     "slide_type": "subslide"
    }
   },
   "outputs": [
    {
     "data": {
      "text/html": [
       "<div align=\"center\"><table><tr><td>State</td><td><div align=\"center\">1</div></td><td><div align=\"center\">2</div></td><td><div align=\"center\">3</div></td><tr><td><div align=\"center\">1</div></td><td> 0.0000 </td><td> 0.6429 </td><td> 0.3571 </td></tr><tr><td><div align=\"center\">2</div></td><td> 0.0000 </td><td> 0.6429 </td><td> 0.3571 </td></tr><tr><td><div align=\"center\">3</div></td><td> 0.0000 </td><td> 0.6429 </td><td> 0.3571 </td></tr></table></div>"
      ],
      "text/plain": [
       "<IPython.core.display.HTML at 0x1073d4410>"
      ]
     },
     "execution_count": 21,
     "metadata": {},
     "output_type": "execute_result"
    }
   ],
   "source": [
    "printP(A**1000)"
   ]
  },
  {
   "cell_type": "code",
   "execution_count": 16,
   "metadata": {
    "collapsed": false,
    "slideshow": {
     "slide_type": "subslide"
    }
   },
   "outputs": [
    {
     "data": {
      "text/html": [
       "<div align=\"center\"><table><tr><td>State</td><td><div align=\"center\">1</div></td><td><div align=\"center\">2</div></td><td><div align=\"center\">3</div></td><tr><td><div align=\"center\">1</div></td><td> 0.0000 </td><td> 0.6429 </td><td> 0.3571 </td></tr><tr><td><div align=\"center\">2</div></td><td> 0.0000 </td><td> 0.6429 </td><td> 0.3571 </td></tr><tr><td><div align=\"center\">3</div></td><td> 0.0000 </td><td> 0.6429 </td><td> 0.3571 </td></tr></table></div>"
      ],
      "text/plain": [
       "<IPython.core.display.HTML object>"
      ]
     },
     "execution_count": 16,
     "metadata": {},
     "output_type": "execute_result"
    }
   ],
   "source": [
    "printP(A**2000)"
   ]
  },
  {
   "cell_type": "code",
   "execution_count": 22,
   "metadata": {
    "collapsed": false,
    "slideshow": {
     "slide_type": "subslide"
    }
   },
   "outputs": [
    {
     "data": {
      "text/plain": [
       "array([ 0.7,  1. , -0.4])"
      ]
     },
     "execution_count": 22,
     "metadata": {},
     "output_type": "execute_result"
    }
   ],
   "source": [
    "evals, evecs =sp.linalg.eig(A,left=True,right=False)\n",
    "\n",
    "evals=np.real(evals)\n",
    "evals"
   ]
  },
  {
   "cell_type": "code",
   "execution_count": 24,
   "metadata": {
    "collapsed": false,
    "slideshow": {
     "slide_type": "subslide"
    }
   },
   "outputs": [
    {
     "data": {
      "text/plain": [
       "array([ 0.        ,  0.87415728,  0.48564293])"
      ]
     },
     "execution_count": 24,
     "metadata": {},
     "output_type": "execute_result"
    }
   ],
   "source": [
    "ev0=evecs[:,1]\n",
    "ev0"
   ]
  },
  {
   "cell_type": "code",
   "execution_count": 25,
   "metadata": {
    "collapsed": false,
    "slideshow": {
     "slide_type": "subslide"
    }
   },
   "outputs": [
    {
     "data": {
      "text/plain": [
       "array([ 0.        ,  0.64285714,  0.35714286])"
      ]
     },
     "execution_count": 25,
     "metadata": {},
     "output_type": "execute_result"
    }
   ],
   "source": [
    "ev0=ev0/sum(ev0);ev0"
   ]
  },
  {
   "cell_type": "code",
   "execution_count": 36,
   "metadata": {
    "collapsed": false,
    "slideshow": {
     "slide_type": "subslide"
    }
   },
   "outputs": [
    {
     "data": {
      "text/plain": [
       "array([[ 0.        ],\n",
       "       [ 0.64285714],\n",
       "       [ 0.35714286]])"
      ]
     },
     "execution_count": 36,
     "metadata": {},
     "output_type": "execute_result"
    }
   ],
   "source": [
    "eps=1e-6\n",
    "ind=evals[:]>1.-eps\n",
    "#evals[:,ind]\n",
    "evecs[:,ind]/sum(evecs[:,ind])"
   ]
  },
  {
   "cell_type": "code",
   "execution_count": 26,
   "metadata": {
    "collapsed": false,
    "slideshow": {
     "slide_type": "subslide"
    }
   },
   "outputs": [
    {
     "data": {
      "text/plain": [
       "array([[ 0.        ,  0.64285714,  0.35714286]])"
      ]
     },
     "execution_count": 26,
     "metadata": {},
     "output_type": "execute_result"
    }
   ],
   "source": [
    "StableDist(A)"
   ]
  },
  {
   "cell_type": "markdown",
   "metadata": {
    "slideshow": {
     "slide_type": "slide"
    }
   },
   "source": [
    "## Frog on the 7 lily pad\n",
    "\n",
    "A frog hops about on 7 lily pads. The numbers next to arrows show the probabilities with which, at the next jump, \n",
    "he jumps to a neighbouring lily pad (and when out-going probabilities sum to less than 1 he stays where he is with \n",
    "the remaining probability).\n",
    "<p>\n",
    "<img src=\"images/frog.png\">\n"
   ]
  },
  {
   "cell_type": "markdown",
   "metadata": {
    "slideshow": {
     "slide_type": "subslide"
    }
   },
   "source": [
    "## Challenges\n",
    "\n",
    "    a) Starting in state 1, what is the probability that we are still in state 1 after 3 steps?\n",
    "    b) after 5 steps?\n",
    "    c) after 100 steps (or eventually)?\n",
    "\n"
   ]
  },
  {
   "cell_type": "code",
   "execution_count": 17,
   "metadata": {
    "collapsed": false,
    "slideshow": {
     "slide_type": "subslide"
    }
   },
   "outputs": [
    {
     "data": {
      "text/html": [
       "<div align=\"center\"><table><tr><td>State</td><td><div align=\"center\">1</div></td><td><div align=\"center\">2</div></td><td><div align=\"center\">3</div></td><td><div align=\"center\">4</div></td><td><div align=\"center\">5</div></td><td><div align=\"center\">6</div></td><td><div align=\"center\">7</div></td><tr><td><div align=\"center\">1</div></td><td> 0.0000 </td><td> 1.0000 </td><td> 0.0000 </td><td> 0.0000 </td><td> 0.0000 </td><td> 0.0000 </td><td> 0.0000 </td></tr><tr><td><div align=\"center\">2</div></td><td> 0.0000 </td><td> 0.5000 </td><td> 0.5000 </td><td> 0.0000 </td><td> 0.0000 </td><td> 0.0000 </td><td> 0.0000 </td></tr><tr><td><div align=\"center\">3</div></td><td> 0.5000 </td><td> 0.0000 </td><td> 0.5000 </td><td> 0.0000 </td><td> 0.0000 </td><td> 0.0000 </td><td> 0.0000 </td></tr><tr><td><div align=\"center\">4</div></td><td> 0.0000 </td><td> 0.0000 </td><td> 0.2500 </td><td> 0.5000 </td><td> 0.2500 </td><td> 0.0000 </td><td> 0.0000 </td></tr><tr><td><div align=\"center\">5</div></td><td> 0.0000 </td><td> 0.0000 </td><td> 0.0000 </td><td> 0.0000 </td><td> 0.0000 </td><td> 0.5000 </td><td> 0.5000 </td></tr><tr><td><div align=\"center\">6</div></td><td> 0.0000 </td><td> 0.0000 </td><td> 1.0000 </td><td> 0.0000 </td><td> 0.0000 </td><td> 0.0000 </td><td> 0.0000 </td></tr><tr><td><div align=\"center\">7</div></td><td> 0.0000 </td><td> 0.0000 </td><td> 0.0000 </td><td> 0.0000 </td><td> 0.0000 </td><td> 0.0000 </td><td> 1.0000 </td></tr></table></div>"
      ],
      "text/plain": [
       "<IPython.core.display.HTML at 0x7f3cd4125c50>"
      ]
     },
     "execution_count": 17,
     "metadata": {},
     "output_type": "execute_result"
    }
   ],
   "source": [
    "P=np.matrix([[0,1,0,0,0,0,0],\n",
    "             [0,1/2.,1/2.,0,0,0,0],\n",
    "             [1/2.,0,1/2.,0,0,0,0],\n",
    "             [0,0,1/4.,1/2.,1/4.,0,0],\n",
    "             [0,0,0,0,0,1/2.,1/2.],\n",
    "             [0,0,1,0,0,0,0],\n",
    "             [0,0,0,0,0,0,1]])\n",
    "printP(P)"
   ]
  },
  {
   "cell_type": "code",
   "execution_count": 17,
   "metadata": {
    "collapsed": false,
    "slideshow": {
     "slide_type": "subslide"
    }
   },
   "outputs": [
    {
     "data": {
      "text/html": [
       "<div align=\"center\"><table><tr><td>State</td><td><div align=\"center\">1</div></td><td><div align=\"center\">2</div></td><td><div align=\"center\">3</div></td><td><div align=\"center\">4</div></td><td><div align=\"center\">5</div></td><td><div align=\"center\">6</div></td><td><div align=\"center\">7</div></td><tr><td><div align=\"center\">1</div></td><td> 0.2500 </td><td> 0.2500 </td><td> 0.5000 </td><td> 0.0000 </td><td> 0.0000 </td><td> 0.0000 </td><td> 0.0000 </td></tr><tr><td><div align=\"center\">2</div></td><td> 0.2500 </td><td> 0.3750 </td><td> 0.3750 </td><td> 0.0000 </td><td> 0.0000 </td><td> 0.0000 </td><td> 0.0000 </td></tr><tr><td><div align=\"center\">3</div></td><td> 0.1250 </td><td> 0.5000 </td><td> 0.3750 </td><td> 0.0000 </td><td> 0.0000 </td><td> 0.0000 </td><td> 0.0000 </td></tr><tr><td><div align=\"center\">4</div></td><td> 0.1250 </td><td> 0.1250 </td><td> 0.3125 </td><td> 0.1250 </td><td> 0.0625 </td><td> 0.0625 </td><td> 0.1875 </td></tr><tr><td><div align=\"center\">5</div></td><td> 0.2500 </td><td> 0.0000 </td><td> 0.2500 </td><td> 0.0000 </td><td> 0.0000 </td><td> 0.0000 </td><td> 0.5000 </td></tr><tr><td><div align=\"center\">6</div></td><td> 0.2500 </td><td> 0.5000 </td><td> 0.2500 </td><td> 0.0000 </td><td> 0.0000 </td><td> 0.0000 </td><td> 0.0000 </td></tr><tr><td><div align=\"center\">7</div></td><td> 0.0000 </td><td> 0.0000 </td><td> 0.0000 </td><td> 0.0000 </td><td> 0.0000 </td><td> 0.0000 </td><td> 1.0000 </td></tr></table></div>"
      ],
      "text/plain": [
       "<IPython.core.display.HTML at 0x7f4ccab8f9b0>"
      ]
     },
     "execution_count": 17,
     "metadata": {},
     "output_type": "execute_result"
    }
   ],
   "source": [
    "printP(P*P*P)"
   ]
  },
  {
   "cell_type": "code",
   "execution_count": 18,
   "metadata": {
    "collapsed": false,
    "slideshow": {
     "slide_type": "subslide"
    }
   },
   "outputs": [
    {
     "data": {
      "text/html": [
       "<div align=\"center\"><table><tr><td>State</td><td><div align=\"center\">1</div></td><td><div align=\"center\">2</div></td><td><div align=\"center\">3</div></td><td><div align=\"center\">4</div></td><td><div align=\"center\">5</div></td><td><div align=\"center\">6</div></td><td><div align=\"center\">7</div></td><tr><td><div align=\"center\">1</div></td><td> 0.1875 </td><td> 0.4375 </td><td> 0.3750 </td><td> 0.0000 </td><td> 0.0000 </td><td> 0.0000 </td><td> 0.0000 </td></tr><tr><td><div align=\"center\">2</div></td><td> 0.1875 </td><td> 0.4062 </td><td> 0.4062 </td><td> 0.0000 </td><td> 0.0000 </td><td> 0.0000 </td><td> 0.0000 </td></tr><tr><td><div align=\"center\">3</div></td><td> 0.2188 </td><td> 0.3750 </td><td> 0.4062 </td><td> 0.0000 </td><td> 0.0000 </td><td> 0.0000 </td><td> 0.0000 </td></tr><tr><td><div align=\"center\">4</div></td><td> 0.1562 </td><td> 0.2500 </td><td> 0.2969 </td><td> 0.0312 </td><td> 0.0156 </td><td> 0.0156 </td><td> 0.2344 </td></tr><tr><td><div align=\"center\">5</div></td><td> 0.0625 </td><td> 0.2500 </td><td> 0.1875 </td><td> 0.0000 </td><td> 0.0000 </td><td> 0.0000 </td><td> 0.5000 </td></tr><tr><td><div align=\"center\">6</div></td><td> 0.1875 </td><td> 0.3750 </td><td> 0.4375 </td><td> 0.0000 </td><td> 0.0000 </td><td> 0.0000 </td><td> 0.0000 </td></tr><tr><td><div align=\"center\">7</div></td><td> 0.0000 </td><td> 0.0000 </td><td> 0.0000 </td><td> 0.0000 </td><td> 0.0000 </td><td> 0.0000 </td><td> 1.0000 </td></tr></table></div>"
      ],
      "text/plain": [
       "<IPython.core.display.HTML at 0x7f4ccab8f828>"
      ]
     },
     "execution_count": 18,
     "metadata": {},
     "output_type": "execute_result"
    }
   ],
   "source": [
    "printP(P**5)"
   ]
  },
  {
   "cell_type": "code",
   "execution_count": 19,
   "metadata": {
    "collapsed": false,
    "slideshow": {
     "slide_type": "subslide"
    }
   },
   "outputs": [
    {
     "data": {
      "text/plain": [
       "0.20000000000000001"
      ]
     },
     "execution_count": 19,
     "metadata": {},
     "output_type": "execute_result"
    }
   ],
   "source": [
    "P000=P**100\n",
    "P000[0,0]"
   ]
  },
  {
   "cell_type": "code",
   "execution_count": 19,
   "metadata": {
    "collapsed": false,
    "slideshow": {
     "slide_type": "subslide"
    }
   },
   "outputs": [
    {
     "data": {
      "text/html": [
       "<div align=\"center\"><table><tr><td>State</td><td><div align=\"center\">1</div></td><td><div align=\"center\">2</div></td><td><div align=\"center\">3</div></td><td><div align=\"center\">4</div></td><td><div align=\"center\">5</div></td><td><div align=\"center\">6</div></td><td><div align=\"center\">7</div></td><tr><td><div align=\"center\">1</div></td><td> 0.2000 </td><td> 0.4000 </td><td> 0.4000 </td><td> 0.0000 </td><td> 0.0000 </td><td> 0.0000 </td><td> 0.0000 </td></tr><tr><td><div align=\"center\">2</div></td><td> 0.2000 </td><td> 0.4000 </td><td> 0.4000 </td><td> 0.0000 </td><td> 0.0000 </td><td> 0.0000 </td><td> 0.0000 </td></tr><tr><td><div align=\"center\">3</div></td><td> 0.2000 </td><td> 0.4000 </td><td> 0.4000 </td><td> 0.0000 </td><td> 0.0000 </td><td> 0.0000 </td><td> 0.0000 </td></tr><tr><td><div align=\"center\">4</div></td><td> 0.1500 </td><td> 0.3000 </td><td> 0.3000 </td><td> 0.0000 </td><td> 0.0000 </td><td> 0.0000 </td><td> 0.2500 </td></tr><tr><td><div align=\"center\">5</div></td><td> 0.1000 </td><td> 0.2000 </td><td> 0.2000 </td><td> 0.0000 </td><td> 0.0000 </td><td> 0.0000 </td><td> 0.5000 </td></tr><tr><td><div align=\"center\">6</div></td><td> 0.2000 </td><td> 0.4000 </td><td> 0.4000 </td><td> 0.0000 </td><td> 0.0000 </td><td> 0.0000 </td><td> 0.0000 </td></tr><tr><td><div align=\"center\">7</div></td><td> 0.0000 </td><td> 0.0000 </td><td> 0.0000 </td><td> 0.0000 </td><td> 0.0000 </td><td> 0.0000 </td><td> 1.0000 </td></tr></table></div>"
      ],
      "text/plain": [
       "<IPython.core.display.HTML at 0x7f3cd41250f0>"
      ]
     },
     "execution_count": 19,
     "metadata": {},
     "output_type": "execute_result"
    }
   ],
   "source": [
    "printP(P**1000)"
   ]
  },
  {
   "cell_type": "markdown",
   "metadata": {
    "slideshow": {
     "slide_type": "slide"
    }
   },
   "source": [
    "## Problem\n",
    "\n",
    "Suppose that the climate record is as follows (one-day transition):\n",
    "\n",
    "           cloud  sun rain  snow\n",
    "    cloud   0.6   0.2  0.2    0\n",
    "     sun    0.7   0.3    0    0\n",
    "    rain    0.55    0  0.4  0.05\n",
    "    snow    0       0  0.5  0.5\n",
    "\n",
    "What about the climate of tomorrow, and the day after tomorrow? Guess where the place locates. How to introtruce the climate information for travellers?\n"
   ]
  },
  {
   "cell_type": "markdown",
   "metadata": {
    "slideshow": {
     "slide_type": "slide"
    }
   },
   "source": [
    "Problem\n",
    "---\n",
    "\n",
    "Physicians who diagnose asymptomatic gallstones are faced with the decision to either immediately remove the gall bladder to prevent possible life-threatening complications or to postpone surgery until complications do occur. What is the long-term trend of each strategy?\n",
    "\n",
    "        A      C    R     W     D\n",
    "    A  0.95  0.04   0     0    0.01 \n",
    "    C   0      0   0.995  0    0.005\n",
    "    R   0      0   0.09  0.90  0.01 \n",
    "    W   0      0   0     0.99  0.01\n",
    "    D   0      0   0      0     1 \n",
    "\n",
    "Where the state is one of the follows:\n",
    "\n",
    "    A (1): Asymptomatic gallstone; postpone surgery from 4-month delay with 0.95 probability;\n",
    "    C (2): cholecystitis or biliary complications; will require surgery with 0.04 probability;\n",
    "    D (5): natual death state; with probability 0.01 due to age\n",
    "    R (3): Recovery state;\n",
    "    W (4): well state; 99% well recovery and 1% to death\n",
    "\n",
    "Ninety percent of the patients move onto the well state (W) while 9% stay in the recovery state each year and 1% die of natural causes. If the disease progresses and becomes symptomatic, then surgery is performed with a risk of death from complications due to surgery of 0.005.\n",
    "\n",
    "a). Contruct the transition matrix, $P$.<br>\n",
    "b). Is there any stationary state? What does it mean?<br>\n",
    "c). What is your suggestion for a 60 years old patient in state A?<br>"
   ]
  },
  {
   "cell_type": "markdown",
   "metadata": {},
   "source": [
    "# Markov Chain Model for Baseball\n",
    "\n",
    "        \n",
    "```\n",
    "   Yogi Berra\n",
    "   \n",
    "   It's not over until it's over.\n",
    "```"
   ]
  },
  {
   "cell_type": "markdown",
   "metadata": {
    "slideshow": {
     "slide_type": "subslide"
    }
   },
   "source": [
    "## RUNNERS AND OUTS COMBINATIONS\n",
    "```     \n",
    "      state ( xyz , outs)\n",
    "      \n",
    "      xyz: runners on on the bases x,y,z\n",
    "      outs: number of outs\n",
    "```     \n",
    "\n",
    "Runners (on any base): 0(none) 1     2     3     12     13     23     123\n",
    "\n",
    "         0: (0,0)[1]  (1,0)[2]  (2,0)[3]  (3,0)[4]  (12,0)[5]  (13,0)[6]  (23,0)[7]  (123,0)[8]\n",
    "    Outs 1: (0,1)[9]  (1,1)[10] (2,1)[11] (3,1)[12] (12,1)[13] (13,1)[14] (23,1)[15] (123,1)[16]\n",
    "         2: (0,2)[17] (1,2)[18] (2,2)[19] (3,2)[20] (12,2)[21] (13,2)[22] (23,2)[23] (123,2)[24]\n",
    "\n",
    " Three outs state [25]\n",
    "\n",
    "There are 25 states considered, in other words, the transition matrix, $P$, is a $25\\times25$ matrix.\n"
   ]
  },
  {
   "cell_type": "markdown",
   "metadata": {
    "slideshow": {
     "slide_type": "subslide"
    }
   },
   "source": [
    "## States of Markov Chain Model for Baseball\n",
    "\n",
    "<table border=\"1\" cellpadding=\"2\" cellspacing=\"2\" width=\"70%\">\n",
    "<tbody>\n",
    "<tr>\n",
    "<td align=\"center\" valign=\"top\">no.<br>\n",
    "</td>\n",
    "<td align=\"center\" valign=\"top\">state<br>\n",
    "</td>\n",
    "<td align=\"center\" valign=\"top\">no.<br>\n",
    "</td>\n",
    "<td align=\"center\" valign=\"top\">state<br>\n",
    "</td>\n",
    "<td align=\"center\" valign=\"top\">no.<br>\n",
    "</td>\n",
    "<td align=\"center\" valign=\"top\">state<br>\n",
    "</td>\n",
    "</tr>\n",
    "<tr>\n",
    "<td align=\"center\" valign=\"top\">1<br>\n",
    "</td>\n",
    "<td align=\"center\" valign=\"top\">(0,0)<br>\n",
    "</td>\n",
    "<td align=\"center\" valign=\"top\">9<br>\n",
    "</td>\n",
    "<td align=\"center\" valign=\"top\">(0,1)<br>\n",
    "</td>\n",
    "<td align=\"center\" valign=\"top\">17<br>\n",
    "</td>\n",
    "<td align=\"center\" valign=\"top\">(0,2)<br>\n",
    "</td>\n",
    "</tr>\n",
    "<tr>\n",
    "<td align=\"center\" valign=\"top\">2<br>\n",
    "</td>\n",
    "<td align=\"center\" valign=\"top\">(1,0)<br>\n",
    "</td>\n",
    "<td align=\"center\" valign=\"top\">10<br>\n",
    "</td>\n",
    "<td align=\"center\" valign=\"top\">(1,1)<br>\n",
    "</td>\n",
    "<td align=\"center\" valign=\"top\">18<br>\n",
    "</td>\n",
    "<td align=\"center\" valign=\"top\">(1,2)<br>\n",
    "</td>\n",
    "</tr>\n",
    "<tr>\n",
    "<td align=\"center\" valign=\"top\">3<br>\n",
    "</td>\n",
    "<td align=\"center\" valign=\"top\">(2,0)<br>\n",
    "</td>\n",
    "<td align=\"center\" valign=\"top\">11<br>\n",
    "</td>\n",
    "<td align=\"center\" valign=\"top\">(2,1)<br>\n",
    "</td>\n",
    "<td align=\"center\" valign=\"top\">19<br>\n",
    "</td>\n",
    "<td align=\"center\" valign=\"top\">(2,2)<br>\n",
    "</td>\n",
    "</tr>\n",
    "<tr>\n",
    "<td align=\"center\" valign=\"top\">4<br>\n",
    "</td>\n",
    "<td align=\"center\" valign=\"top\">(3,0)<br>\n",
    "</td>\n",
    "<td align=\"center\" valign=\"top\">12<br>\n",
    "</td>\n",
    "<td align=\"center\" valign=\"top\">(3,1)<br>\n",
    "</td>\n",
    "<td align=\"center\" valign=\"top\">20<br>\n",
    "</td>\n",
    "<td align=\"center\" valign=\"top\">(3,2)<br>\n",
    "</td>\n",
    "</tr>\n",
    "<tr>\n",
    "<td align=\"center\" valign=\"top\">5<br>\n",
    "</td>\n",
    "<td align=\"center\" valign=\"top\">(12,0)<br>\n",
    "</td>\n",
    "<td align=\"center\" valign=\"top\">13<br>\n",
    "</td>\n",
    "<td align=\"center\" valign=\"top\">(12,1)<br>\n",
    "</td>\n",
    "<td align=\"center\" valign=\"top\">21<br>\n",
    "</td>\n",
    "<td align=\"center\" valign=\"top\">(12,2)<br>\n",
    "</td>\n",
    "</tr>\n",
    "<tr>\n",
    "<td align=\"center\" valign=\"top\">6<br>\n",
    "</td>\n",
    "<td align=\"center\" valign=\"top\">(13,0)<br>\n",
    "</td>\n",
    "<td align=\"center\" valign=\"top\">14<br>\n",
    "</td>\n",
    "<td align=\"center\" valign=\"top\">(13,1)<br>\n",
    "</td>\n",
    "<td align=\"center\" valign=\"top\">22<br>\n",
    "</td>\n",
    "<td align=\"center\" valign=\"top\">(13,2)<br>\n",
    "</td>\n",
    "</tr>\n",
    "<tr>\n",
    "<td align=\"center\" valign=\"top\">7<br>\n",
    "</td>\n",
    "<td align=\"center\" valign=\"top\">(23,0)<br>\n",
    "</td>\n",
    "<td align=\"center\" valign=\"top\">15<br>\n",
    "</td>\n",
    "<td align=\"center\" valign=\"top\">(23,1)<br>\n",
    "</td>\n",
    "<td align=\"center\" valign=\"top\">23<br>\n",
    "</td>\n",
    "<td align=\"center\" valign=\"top\">(23,2)<br>\n",
    "</td>\n",
    "</tr>\n",
    "<tr>\n",
    "<td align=\"center\" valign=\"top\">8<br>\n",
    "</td>\n",
    "<td valign=\"top\">(123,0)<br>\n",
    "</td>\n",
    "<td align=\"center\" valign=\"top\">16<br>\n",
    "</td>\n",
    "<td align=\"center\" valign=\"top\">(123,1)<br>\n",
    "</td>\n",
    "<td align=\"center\" valign=\"top\">24<br>\n",
    "</td>\n",
    "<td align=\"center\" valign=\"top\">(123,2)<br>\n",
    "</td>\n",
    "</tr>\n",
    "<tr>\n",
    "<td colspan=\"4\" valign=\"top\"><br>\n",
    "</td>\n",
    "<td align=\"center\" valign=\"top\">25<br>\n",
    "</td>\n",
    "<td align=\"center\" valign=\"top\">(X,3)<br>\n",
    "</td>\n",
    "</tr>\n",
    "</tbody>\n",
    "</table>\n",
    "\n"
   ]
  },
  {
   "cell_type": "code",
   "execution_count": 161,
   "metadata": {
    "collapsed": true
   },
   "outputs": [],
   "source": [
    "state=['(0,0)','(1,0)','(2,0)','(3,0)','(12,0)','(13,0)','(23,0)','(123,0)','(0,1)','(1,1)','(2,1)','(3,1)',\n",
    "      '(12,1)','(13,1)','(23,1)','(123,1)','(0,2)','(1,2)','(2,2)','(3,2)','(12,2)','(13,2)','(23,2)',\n",
    "       '(123,2)','(X,3)']"
   ]
  },
  {
   "cell_type": "markdown",
   "metadata": {
    "slideshow": {
     "slide_type": "subslide"
    }
   },
   "source": [
    "## Note1\n",
    "\n",
    "Not all the tansition from state $i$ to state $j$ could occur, i.e. there are some $p_{ij}=0$ for certain $i,j$.\n",
    "For instance, the transition from (0,0), state 1, to (0,2), state 17, is impossible.\n",
    "\n"
   ]
  },
  {
   "cell_type": "markdown",
   "metadata": {},
   "source": [
    "## Note 2\n",
    "\n",
    "Data from 2009 MLB postseason: there are 560 occurences for state 1, (0,0) and\n",
    "\n",
    "\n",
    "                    Times\n",
    "    (0,0) -> (0,0)    13\n",
    "             (1,0)   123\n",
    "             (2,0)    26\n",
    "             (3,0)     1\n",
    "             (0,1)   397\n",
    "\n",
    "This shows that \"triple\" (with probability 0.00179) is more difficult than home run (with probability 0.0232)!\n"
   ]
  },
  {
   "cell_type": "code",
   "execution_count": null,
   "metadata": {
    "collapsed": true
   },
   "outputs": [],
   "source": [
    "print(1/560.);print(13/560.)"
   ]
  },
  {
   "cell_type": "markdown",
   "metadata": {},
   "source": [
    "Question\n",
    "---\n",
    "\n",
    "a). What are the probability $p_{1,2},p_{1,3},p_{1,4}$ given by the data, in note2? What is the meaning of these results?<br>\n",
    "b). Is it possible, transition from state (1,2) to (1,2)? If yes, what happens?\n"
   ]
  },
  {
   "cell_type": "markdown",
   "metadata": {},
   "source": [
    "## Note 3\n",
    "\n",
    "State 25 means that it is an absorbing state, i,e. no more player while entering this state. \n",
    "Then $$ P=\\left(\\matrix{ A_{24\\times24} &B_{24\\times1}\\\\0_{1\\times24} &1}\\right)$$\n"
   ]
  },
  {
   "cell_type": "code",
   "execution_count": 196,
   "metadata": {
    "collapsed": false,
    "slideshow": {
     "slide_type": "subslide"
    }
   },
   "outputs": [],
   "source": [
    "def printP(P):\n",
    "    l='<div align=\"center\"><small><small><small><small><table>';\n",
    "    row=P.shape[0]\n",
    "    col=P.shape[1]\n",
    "    i=j=k=0;\n",
    "    l=l+\"<tr><td> State/State </td>\"\n",
    "    for k in range(col):\n",
    "          k1=k+1\n",
    "          l=l+'<td><div align=\"center\">%s<br>%s</div></td>' % (k1,state[k])\n",
    "          k++1  \n",
    "    for i in range(1,row+1):\n",
    "        l=l+'<tr><td><div align=\"center\">%s %s</div></td>' %(i,state[i-1])\n",
    "        for j in range(1,col+1):\n",
    "            if (P[i-1,j-1]<1e-6):\n",
    "                P[i-1,j-1]=0\n",
    "            if ((P[i-1,j-1])==0): \n",
    "               l=l+\"<td> 0 </td>\"\n",
    "            else:\n",
    "               l=l+\"<td> %.3f </td>\" %(P[i-1,j-1]);\n",
    "            j++1\n",
    "        l=l+\"</tr>\"\n",
    "        i++1\n",
    "    l=l+\"</table></small></small></small></small></div>\"\n",
    "    return HTML(l)"
   ]
  },
  {
   "cell_type": "code",
   "execution_count": 181,
   "metadata": {
    "collapsed": false,
    "slideshow": {
     "slide_type": "subslide"
    }
   },
   "outputs": [],
   "source": [
    "def printP2(P):\n",
    "    l='<div align=\"center\"><small><small><small><small><table>';\n",
    "    row=P.shape[0]\n",
    "    col=P.shape[1]\n",
    "    i=j=k=0;\n",
    "    l=l+\"<tr><td>State/State</td>\"\n",
    "    for k in range(col):\n",
    "          k1=k+1\n",
    "          l=l+'<td><div align=\"center\">%s<br>%s</div></td>' % (k1,state[k])\n",
    "          k++1  \n",
    "    for i in range(1,row+1):\n",
    "        l=l+'<tr><td><div align=\"center\">%s %s</div></td>' %(i,state[i-1])\n",
    "        for j in range(1,col+1):\n",
    "            if (P[i-1,j-1]<1e-6):\n",
    "                P[i-1,j-1]=0\n",
    "            l=l+\"<td> %.3f </td>\" %(P[i-1,j-1]);\n",
    "            j++1\n",
    "        l=l+\"</tr>\"\n",
    "        i++1\n",
    "    l=l+\"</table></small></small></small></small></div>\"\n",
    "    return HTML(l)"
   ]
  },
  {
   "cell_type": "markdown",
   "metadata": {},
   "source": [
    "## Transition matrix for 2009 MLB Postseason"
   ]
  },
  {
   "cell_type": "code",
   "execution_count": 197,
   "metadata": {
    "collapsed": false
   },
   "outputs": [
    {
     "data": {
      "text/html": [
       "<div align=\"center\"><small><small><small><small><table><tr><td> State/State </td><td><div align=\"center\">1<br>(0,0)</div></td><td><div align=\"center\">2<br>(1,0)</div></td><td><div align=\"center\">3<br>(2,0)</div></td><td><div align=\"center\">4<br>(3,0)</div></td><td><div align=\"center\">5<br>(12,0)</div></td><td><div align=\"center\">6<br>(13,0)</div></td><td><div align=\"center\">7<br>(23,0)</div></td><td><div align=\"center\">8<br>(123,0)</div></td><td><div align=\"center\">9<br>(0,1)</div></td><td><div align=\"center\">10<br>(1,1)</div></td><td><div align=\"center\">11<br>(2,1)</div></td><td><div align=\"center\">12<br>(3,1)</div></td><td><div align=\"center\">13<br>(12,1)</div></td><td><div align=\"center\">14<br>(13,1)</div></td><td><div align=\"center\">15<br>(23,1)</div></td><td><div align=\"center\">16<br>(123,1)</div></td><td><div align=\"center\">17<br>(0,2)</div></td><td><div align=\"center\">18<br>(1,2)</div></td><td><div align=\"center\">19<br>(2,2)</div></td><td><div align=\"center\">20<br>(3,2)</div></td><td><div align=\"center\">21<br>(12,2)</div></td><td><div align=\"center\">22<br>(13,2)</div></td><td><div align=\"center\">23<br>(23,2)</div></td><td><div align=\"center\">24<br>(123,2)</div></td><td><div align=\"center\">25<br>(X,3)</div></td><tr><td><div align=\"center\">1 (0,0)</div></td><td> 0.023 </td><td> 0.220 </td><td> 0.046 </td><td> 0.002 </td><td> 0 </td><td> 0 </td><td> 0 </td><td> 0 </td><td> 0.709 </td><td> 0 </td><td> 0 </td><td> 0 </td><td> 0 </td><td> 0 </td><td> 0 </td><td> 0 </td><td> 0 </td><td> 0 </td><td> 0 </td><td> 0 </td><td> 0 </td><td> 0 </td><td> 0 </td><td> 0 </td><td> 0 </td></tr><tr><td><div align=\"center\">2 (1,0)</div></td><td> 0.026 </td><td> 0 </td><td> 0.035 </td><td> 0 </td><td> 0.243 </td><td> 0.026 </td><td> 0.052 </td><td> 0 </td><td> 0 </td><td> 0.339 </td><td> 0.157 </td><td> 0 </td><td> 0 </td><td> 0 </td><td> 0 </td><td> 0.122 </td><td> 0 </td><td> 0 </td><td> 0 </td><td> 0 </td><td> 0 </td><td> 0 </td><td> 0 </td><td> 0 </td><td> 0 </td></tr><tr><td><div align=\"center\">3 (2,0)</div></td><td> 0 </td><td> 0.026 </td><td> 0.026 </td><td> 0.026 </td><td> 0.079 </td><td> 0.132 </td><td> 0 </td><td> 0 </td><td> 0.026 </td><td> 0.158 </td><td> 0.422 </td><td> 0.105 </td><td> 0 </td><td> 0 </td><td> 0 </td><td> 0 </td><td> 0 </td><td> 0 </td><td> 0 </td><td> 0 </td><td> 0 </td><td> 0 </td><td> 0 </td><td> 0 </td><td> 0 </td></tr><tr><td><div align=\"center\">4 (3,0)</div></td><td> 0 </td><td> 0.667 </td><td> 0 </td><td> 0 </td><td> 0 </td><td> 0 </td><td> 0 </td><td> 0 </td><td> 0 </td><td> 0 </td><td> 0 </td><td> 0.333 </td><td> 0 </td><td> 0 </td><td> 0 </td><td> 0 </td><td> 0 </td><td> 0 </td><td> 0 </td><td> 0 </td><td> 0 </td><td> 0 </td><td> 0 </td><td> 0 </td><td> 0 </td></tr><tr><td><div align=\"center\">5 (12,0)</div></td><td> 0.091 </td><td> 0 </td><td> 0 </td><td> 0 </td><td> 0.030 </td><td> 0.061 </td><td> 0.030 </td><td> 0.061 </td><td> 0 </td><td> 0.030 </td><td> 0.030 </td><td> 0 </td><td> 0.303 </td><td> 0.091 </td><td> 0.152 </td><td> 0 </td><td> 0 </td><td> 0 </td><td> 0 </td><td> 0.121 </td><td> 0 </td><td> 0 </td><td> 0 </td><td> 0 </td><td> 0 </td></tr><tr><td><div align=\"center\">6 (13,0)</div></td><td> 0 </td><td> 0 </td><td> 0 </td><td> 0 </td><td> 0.200 </td><td> 0 </td><td> 0.100 </td><td> 0.200 </td><td> 0 </td><td> 0.100 </td><td> 0 </td><td> 0 </td><td> 0 </td><td> 0.300 </td><td> 0 </td><td> 0 </td><td> 0.100 </td><td> 0 </td><td> 0 </td><td> 0 </td><td> 0 </td><td> 0 </td><td> 0 </td><td> 0 </td><td> 0 </td></tr><tr><td><div align=\"center\">7 (23,0)</div></td><td> 0 </td><td> 0.125 </td><td> 0.125 </td><td> 0 </td><td> 0 </td><td> 0 </td><td> 0 </td><td> 0.125 </td><td> 0 </td><td> 0 </td><td> 0 </td><td> 0.125 </td><td> 0 </td><td> 0 </td><td> 0.500 </td><td> 0 </td><td> 0 </td><td> 0 </td><td> 0 </td><td> 0 </td><td> 0 </td><td> 0 </td><td> 0 </td><td> 0 </td><td> 0 </td></tr><tr><td><div align=\"center\">8 (123,0)</div></td><td> 0 </td><td> 0 </td><td> 0 </td><td> 0 </td><td> 0 </td><td> 0 </td><td> 0 </td><td> 0.286 </td><td> 0 </td><td> 0 </td><td> 0 </td><td> 0 </td><td> 0 </td><td> 0 </td><td> 0 </td><td> 0.428 </td><td> 0 </td><td> 0 </td><td> 0 </td><td> 0 </td><td> 0.143 </td><td> 0 </td><td> 0.143 </td><td> 0 </td><td> 0 </td></tr><tr><td><div align=\"center\">9 (0,1)</div></td><td> 0 </td><td> 0 </td><td> 0 </td><td> 0 </td><td> 0 </td><td> 0 </td><td> 0 </td><td> 0 </td><td> 0.035 </td><td> 0.241 </td><td> 0.032 </td><td> 0.007 </td><td> 0 </td><td> 0 </td><td> 0 </td><td> 0 </td><td> 0.685 </td><td> 0 </td><td> 0 </td><td> 0 </td><td> 0 </td><td> 0 </td><td> 0 </td><td> 0 </td><td> 0 </td></tr><tr><td><div align=\"center\">10 (1,1)</div></td><td> 0 </td><td> 0 </td><td> 0 </td><td> 0 </td><td> 0 </td><td> 0 </td><td> 0 </td><td> 0 </td><td> 0.021 </td><td> 0 </td><td> 0.007 </td><td> 0 </td><td> 0.201 </td><td> 0.014 </td><td> 0.014 </td><td> 0 </td><td> 0 </td><td> 0.563 </td><td> 0.097 </td><td> 0 </td><td> 0 </td><td> 0 </td><td> 0 </td><td> 0 </td><td> 0.083 </td></tr><tr><td><div align=\"center\">11 (2,1)</div></td><td> 0 </td><td> 0 </td><td> 0 </td><td> 0 </td><td> 0 </td><td> 0 </td><td> 0 </td><td> 0 </td><td> 0 </td><td> 0.069 </td><td> 0.028 </td><td> 0 </td><td> 0.250 </td><td> 0.083 </td><td> 0.014 </td><td> 0 </td><td> 0 </td><td> 0.028 </td><td> 0.403 </td><td> 0.083 </td><td> 0 </td><td> 0 </td><td> 0 </td><td> 0 </td><td> 0.042 </td></tr><tr><td><div align=\"center\">12 (3,1)</div></td><td> 0 </td><td> 0 </td><td> 0 </td><td> 0 </td><td> 0 </td><td> 0 </td><td> 0 </td><td> 0 </td><td> 0.071 </td><td> 0.286 </td><td> 0.143 </td><td> 0 </td><td> 0 </td><td> 0.143 </td><td> 0 </td><td> 0 </td><td> 0.215 </td><td> 0 </td><td> 0.071 </td><td> 0.071 </td><td> 0 </td><td> 0 </td><td> 0 </td><td> 0 </td><td> 0 </td></tr><tr><td><div align=\"center\">13 (12,1)</div></td><td> 0 </td><td> 0 </td><td> 0 </td><td> 0 </td><td> 0 </td><td> 0 </td><td> 0 </td><td> 0 </td><td> 0 </td><td> 0 </td><td> 0.062 </td><td> 0 </td><td> 0.062 </td><td> 0 </td><td> 0.016 </td><td> 0.125 </td><td> 0 </td><td> 0 </td><td> 0 </td><td> 0.016 </td><td> 0.406 </td><td> 0.094 </td><td> 0.094 </td><td> 0 </td><td> 0.125 </td></tr><tr><td><div align=\"center\">14 (13,1)</div></td><td> 0 </td><td> 0 </td><td> 0 </td><td> 0 </td><td> 0 </td><td> 0 </td><td> 0 </td><td> 0 </td><td> 0.056 </td><td> 0 </td><td> 0 </td><td> 0.056 </td><td> 0.110 </td><td> 0 </td><td> 0 </td><td> 0.111 </td><td> 0 </td><td> 0.278 </td><td> 0.167 </td><td> 0 </td><td> 0 </td><td> 0.222 </td><td> 0 </td><td> 0 </td><td> 0 </td></tr><tr><td><div align=\"center\">15 (23,1)</div></td><td> 0 </td><td> 0 </td><td> 0 </td><td> 0 </td><td> 0 </td><td> 0 </td><td> 0 </td><td> 0 </td><td> 0.067 </td><td> 0.067 </td><td> 0 </td><td> 0 </td><td> 0 </td><td> 0.067 </td><td> 0 </td><td> 0.333 </td><td> 0 </td><td> 0 </td><td> 0.067 </td><td> 0.200 </td><td> 0 </td><td> 0.067 </td><td> 0.132 </td><td> 0 </td><td> 0 </td></tr><tr><td><div align=\"center\">16 (123,1)</div></td><td> 0 </td><td> 0 </td><td> 0 </td><td> 0 </td><td> 0 </td><td> 0 </td><td> 0 </td><td> 0 </td><td> 0 </td><td> 0 </td><td> 0 </td><td> 0 </td><td> 0.091 </td><td> 0 </td><td> 0 </td><td> 0.182 </td><td> 0 </td><td> 0 </td><td> 0 </td><td> 0 </td><td> 0.045 </td><td> 0.045 </td><td> 0.045 </td><td> 0.455 </td><td> 0.137 </td></tr><tr><td><div align=\"center\">17 (0,2)</div></td><td> 0 </td><td> 0 </td><td> 0 </td><td> 0 </td><td> 0 </td><td> 0 </td><td> 0 </td><td> 0 </td><td> 0 </td><td> 0 </td><td> 0 </td><td> 0 </td><td> 0 </td><td> 0 </td><td> 0 </td><td> 0 </td><td> 0.039 </td><td> 0.232 </td><td> 0.054 </td><td> 0.006 </td><td> 0 </td><td> 0 </td><td> 0 </td><td> 0 </td><td> 0.669 </td></tr><tr><td><div align=\"center\">18 (1,2)</div></td><td> 0 </td><td> 0 </td><td> 0 </td><td> 0 </td><td> 0 </td><td> 0 </td><td> 0 </td><td> 0 </td><td> 0 </td><td> 0 </td><td> 0 </td><td> 0 </td><td> 0 </td><td> 0 </td><td> 0 </td><td> 0 </td><td> 0.039 </td><td> 0 </td><td> 0.039 </td><td> 0.013 </td><td> 0.161 </td><td> 0.052 </td><td> 0.032 </td><td> 0 </td><td> 0.664 </td></tr><tr><td><div align=\"center\">19 (2,2)</div></td><td> 0 </td><td> 0 </td><td> 0 </td><td> 0 </td><td> 0 </td><td> 0 </td><td> 0 </td><td> 0 </td><td> 0 </td><td> 0 </td><td> 0 </td><td> 0 </td><td> 0 </td><td> 0 </td><td> 0 </td><td> 0 </td><td> 0.020 </td><td> 0.102 </td><td> 0.020 </td><td> 0.010 </td><td> 0.225 </td><td> 0.020 </td><td> 0 </td><td> 0 </td><td> 0.603 </td></tr><tr><td><div align=\"center\">20 (3,2)</div></td><td> 0 </td><td> 0 </td><td> 0 </td><td> 0 </td><td> 0 </td><td> 0 </td><td> 0 </td><td> 0 </td><td> 0 </td><td> 0 </td><td> 0 </td><td> 0 </td><td> 0 </td><td> 0 </td><td> 0 </td><td> 0 </td><td> 0 </td><td> 0.167 </td><td> 0 </td><td> 0 </td><td> 0.042 </td><td> 0.125 </td><td> 0 </td><td> 0 </td><td> 0.666 </td></tr><tr><td><div align=\"center\">21 (12,2)</div></td><td> 0 </td><td> 0 </td><td> 0 </td><td> 0 </td><td> 0 </td><td> 0 </td><td> 0 </td><td> 0 </td><td> 0 </td><td> 0 </td><td> 0 </td><td> 0 </td><td> 0 </td><td> 0 </td><td> 0 </td><td> 0 </td><td> 0.012 </td><td> 0 </td><td> 0.059 </td><td> 0.024 </td><td> 0.071 </td><td> 0.035 </td><td> 0.024 </td><td> 0.129 </td><td> 0.646 </td></tr><tr><td><div align=\"center\">22 (13,2)</div></td><td> 0 </td><td> 0 </td><td> 0 </td><td> 0 </td><td> 0 </td><td> 0 </td><td> 0 </td><td> 0 </td><td> 0 </td><td> 0 </td><td> 0 </td><td> 0 </td><td> 0 </td><td> 0 </td><td> 0 </td><td> 0 </td><td> 0 </td><td> 0 </td><td> 0.043 </td><td> 0 </td><td> 0.088 </td><td> 0 </td><td> 0.043 </td><td> 0.130 </td><td> 0.696 </td></tr><tr><td><div align=\"center\">23 (23,2)</div></td><td> 0 </td><td> 0 </td><td> 0 </td><td> 0 </td><td> 0 </td><td> 0 </td><td> 0 </td><td> 0 </td><td> 0 </td><td> 0 </td><td> 0 </td><td> 0 </td><td> 0 </td><td> 0 </td><td> 0 </td><td> 0 </td><td> 0 </td><td> 0.091 </td><td> 0 </td><td> 0 </td><td> 0 </td><td> 0.045 </td><td> 0.045 </td><td> 0.319 </td><td> 0.500 </td></tr><tr><td><div align=\"center\">24 (123,2)</div></td><td> 0 </td><td> 0 </td><td> 0 </td><td> 0 </td><td> 0 </td><td> 0 </td><td> 0 </td><td> 0 </td><td> 0 </td><td> 0 </td><td> 0 </td><td> 0 </td><td> 0 </td><td> 0 </td><td> 0 </td><td> 0 </td><td> 0 </td><td> 0 </td><td> 0.029 </td><td> 0 </td><td> 0.086 </td><td> 0 </td><td> 0.029 </td><td> 0.142 </td><td> 0.714 </td></tr><tr><td><div align=\"center\">25 (X,3)</div></td><td> 0 </td><td> 0 </td><td> 0 </td><td> 0 </td><td> 0 </td><td> 0 </td><td> 0 </td><td> 0 </td><td> 0 </td><td> 0 </td><td> 0 </td><td> 0 </td><td> 0 </td><td> 0 </td><td> 0 </td><td> 0 </td><td> 0 </td><td> 0 </td><td> 0 </td><td> 0 </td><td> 0 </td><td> 0 </td><td> 0 </td><td> 0 </td><td> 1.000 </td></tr></table></small></small></small></small></div>"
      ],
      "text/plain": [
       "<IPython.core.display.HTML object>"
      ]
     },
     "execution_count": 197,
     "metadata": {},
     "output_type": "execute_result"
    }
   ],
   "source": [
    "n=np.arange(1,26)\n",
    "P=np.matrix([[0.023,0.22,0.046,0.002,0.,0.,0.,0.,0.709,0.,0.,0.,0.,0.,0.,0.,0.,0.,0.,0.,0.,0.,0.,0.,0.]\n",
    "            ,[0.026,0.,0.035,0.,0.243,0.026,0.052,0.,0.,0.339,0.157,0.,0.,0.,0.,0.122,0.,0.,0.,0.,0.,0.,0.,0.,0.]\n",
    "            ,[0.,0.026,0.026,0.026,0.079,0.132,0.,0.,0.026,0.158,0.422,0.105,0.,0.,0.,0.,0.,0.,0.,0.,0.,0.,0.,0.,0.]\n",
    "            ,[0.,0.667,0.,0.,0.,0.,0.,0.,0.,0.,0.,0.333,0.,0.,0.,0.,0.,0.,0.,0.,0.,0.,0.,0.,0.] \n",
    "            ,[0.091,0.,0.,0.,0.030,0.061,0.030,0.061,0.,0.030,0.030,0.,0.303,0.091,0.152,0.,0.,0.,0.,0.121,0.,0.,0.,0.,0.] \n",
    "            ,[0.,0.,0.,0.,0.2,0.,0.1,0.2,0.,0.1,0.,0.,0.,0.3,0.,0.,0.1,0.,0.,0.,0.,0.,0.,0.,0.] \n",
    "            ,[0.,0.125,0.125,0.,0.,0.,0.,0.125,0.,0.,0.,0.125,0.,0.,0.5,0.,0.,0.,0.,0.,0.,0.,0.,0.,0.]             \n",
    "            ,[0.,0.,0.,0.,0.,0.,0.,0.286,0.,0.,0.,0.,0.,0.,0.,0.428,0.,0.,0.,0.,0.143,0.,0.143,0.,0.]  \n",
    "            ,[0.,0.,0.,0.,0.,0.,0.,0.,0.035,0.241,0.032,0.007,0.,0.,0.,0.,0.685,0.,0.,0.,0.,0.,0.,0.,0.] \n",
    "            ,[0.,0.,0.,0.,0.,0.,0.,0.,0.021,0.,0.007,0.,0.201,0.014,0.014,0.,0.,0.563,0.097,0.,0.,0.,0.,0.,0.083]              \n",
    "            ,[0.,0.,0.,0.,0.,0.,0.,0.,0.,0.069,0.028,0.,0.25,0.083,0.014,0.,0.,0.028,0.403,0.083,0.,0.,0.,0.,0.042]              \n",
    "            ,[0.,0.,0.,0.,0.,0.,0.,0.,0.071,0.286,0.143,0.,0.,0.143,0.,0.,0.215,0.,0.071,0.071,0.,0.,0.,0.,0.]              \n",
    "            ,[0.,0.,0.,0.,0.,0.,0.,0.,0.,0.,0.062,0.,0.062,0.,0.016,0.125,0.,0.,0.,0.016,0.406,0.094,0.094,0.,0.125] \n",
    "            ,[0.,0.,0.,0.,0.,0.,0.,0.,0.056,0.,0.,0.056,0.11,0.,0.,0.111,0.,0.278,0.167,0.,0.,0.222,0.,0.,0.]   \n",
    "            ,[0.,0.,0.,0.,0.,0.,0.,0.,0.067,0.067,0.,0.,0.,0.067,0.,0.333,0.,0.,0.067,0.2,0.,0.067,0.132,0.,0.]                                        \n",
    "            ,[0.,0.,0.,0.,0.,0.,0.,0.,0.,0.,0.,0.,0.091,0.,0.,0.182,0.,0.,0.0,0.,0.045,0.045,0.045,0.455,0.137]                                        \n",
    "            ,[0.,0.,0.,0.,0.,0.,0.,0.,0.,0.,0.,0.,0.,0.,0.,0.,0.039,0.232,0.054,0.006,0.,0.,0.,0.,0.669] \n",
    "            ,[0.,0.,0.,0.,0.,0.,0.,0.,0.,0.,0.,0.,0.,0.,0.,0.,0.039,0.,0.039,0.013,0.161,0.052,0.032,0.,0.664]                                                     \n",
    "            ,[0.,0.,0.,0.,0.,0.,0.,0.,0.,0.,0.,0.,0.,0.,0.,0.,0.02,0.102,0.02,0.01,0.225,0.02,0.,0.,0.603]\n",
    "            ,[0.,0.,0.,0.,0.,0.,0.,0.,0.,0.,0.,0.,0.,0.,0.,0.,0.,0.167,0.,0.,0.042,0.125,0.,0.,0.666]\n",
    "            ,[0.,0.,0.,0.,0.,0.,0.,0.,0.,0.,0.,0.,0.,0.,0.,0.,0.012,0.,0.059,0.024,0.071,0.035,0.024,0.129,0.646]\n",
    "            ,[0.,0.,0.,0.,0.,0.,0.,0.,0.,0.,0.,0.,0.,0.,0.,0.,0.,0.,0.043,0.,0.088,0.,0.043,0.13,0.696]\n",
    "            ,[0.,0.,0.,0.,0.,0.,0.,0.,0.,0.,0.,0.,0.,0.,0.,0.,0.,0.091,0.,0.,0.,0.045,0.045,0.319,0.5]\n",
    "            ,[0.,0.,0.,0.,0.,0.,0.,0.,0.,0.,0.,0.,0.,0.,0.,0.,0.,0.,0.029,0.,0.086,0.,0.029,0.142,0.714]\n",
    "            ,[0.,0.,0.,0.,0.,0.,0.,0.,0.,0.,0.,0.,0.,0.,0.,0.,0.,0.,0.,0.,0.,0.,0.,0.,1.]                       \n",
    "            ])\n",
    "printP(P)"
   ]
  },
  {
   "cell_type": "code",
   "execution_count": 111,
   "metadata": {
    "collapsed": false
   },
   "outputs": [
    {
     "data": {
      "text/plain": [
       "matrix([[ 1.,  1.,  1.,  1.,  1.,  1.,  1.,  1.,  1.,  1.,  1.,  1.,  1.,\n",
       "          1.,  1.,  1.,  1.,  1.,  1.,  1.,  1.,  1.,  1.,  1.,  1.]])"
      ]
     },
     "execution_count": 111,
     "metadata": {},
     "output_type": "execute_result"
    }
   ],
   "source": [
    "sum(np.transpose(P))\n"
   ]
  },
  {
   "cell_type": "code",
   "execution_count": 198,
   "metadata": {
    "collapsed": false
   },
   "outputs": [
    {
     "data": {
      "text/html": [
       "<div align=\"center\"><small><small><small><small><table><tr><td> State/State </td><td><div align=\"center\">1<br>(0,0)</div></td><td><div align=\"center\">2<br>(1,0)</div></td><td><div align=\"center\">3<br>(2,0)</div></td><td><div align=\"center\">4<br>(3,0)</div></td><td><div align=\"center\">5<br>(12,0)</div></td><td><div align=\"center\">6<br>(13,0)</div></td><td><div align=\"center\">7<br>(23,0)</div></td><td><div align=\"center\">8<br>(123,0)</div></td><td><div align=\"center\">9<br>(0,1)</div></td><td><div align=\"center\">10<br>(1,1)</div></td><td><div align=\"center\">11<br>(2,1)</div></td><td><div align=\"center\">12<br>(3,1)</div></td><td><div align=\"center\">13<br>(12,1)</div></td><td><div align=\"center\">14<br>(13,1)</div></td><td><div align=\"center\">15<br>(23,1)</div></td><td><div align=\"center\">16<br>(123,1)</div></td><td><div align=\"center\">17<br>(0,2)</div></td><td><div align=\"center\">18<br>(1,2)</div></td><td><div align=\"center\">19<br>(2,2)</div></td><td><div align=\"center\">20<br>(3,2)</div></td><td><div align=\"center\">21<br>(12,2)</div></td><td><div align=\"center\">22<br>(13,2)</div></td><td><div align=\"center\">23<br>(23,2)</div></td><td><div align=\"center\">24<br>(123,2)</div></td><td><div align=\"center\">25<br>(X,3)</div></td><tr><td><div align=\"center\">1 (0,0)</div></td><td> 0.001 </td><td> 0.002 </td><td> 0.001 </td><td> 0.000 </td><td> 0.002 </td><td> 0.001 </td><td> 0.001 </td><td> 0.004 </td><td> 0.008 </td><td> 0.008 </td><td> 0.009 </td><td> 0.002 </td><td> 0.019 </td><td> 0.005 </td><td> 0.005 </td><td> 0.024 </td><td> 0.023 </td><td> 0.044 </td><td> 0.028 </td><td> 0.012 </td><td> 0.100 </td><td> 0.032 </td><td> 0.021 </td><td> 0.005 </td><td> 0.644 </td></tr><tr><td><div align=\"center\">2 (1,0)</div></td><td> 0.001 </td><td> 0.001 </td><td> 0.001 </td><td> 0.000 </td><td> 0.003 </td><td> 0.001 </td><td> 0.001 </td><td> 0.005 </td><td> 0.005 </td><td> 0.013 </td><td> 0.007 </td><td> 0.002 </td><td> 0.023 </td><td> 0.005 </td><td> 0.004 </td><td> 0.029 </td><td> 0.025 </td><td> 0.038 </td><td> 0.030 </td><td> 0.011 </td><td> 0.054 </td><td> 0.024 </td><td> 0.020 </td><td> 0.073 </td><td> 0.624 </td></tr><tr><td><div align=\"center\">3 (2,0)</div></td><td> 0.001 </td><td> 0.001 </td><td> 0.001 </td><td> 0.000 </td><td> 0.002 </td><td> 0.001 </td><td> 0.001 </td><td> 0.006 </td><td> 0.007 </td><td> 0.011 </td><td> 0.008 </td><td> 0.002 </td><td> 0.021 </td><td> 0.006 </td><td> 0.004 </td><td> 0.032 </td><td> 0.021 </td><td> 0.032 </td><td> 0.031 </td><td> 0.013 </td><td> 0.078 </td><td> 0.028 </td><td> 0.024 </td><td> 0.057 </td><td> 0.612 </td></tr><tr><td><div align=\"center\">4 (3,0)</div></td><td> 0.002 </td><td> 0.005 </td><td> 0.002 </td><td> 0.000 </td><td> 0.005 </td><td> 0.002 </td><td> 0.002 </td><td> 0.009 </td><td> 0.018 </td><td> 0.019 </td><td> 0.017 </td><td> 0.004 </td><td> 0.030 </td><td> 0.012 </td><td> 0.008 </td><td> 0.053 </td><td> 0.031 </td><td> 0.047 </td><td> 0.036 </td><td> 0.020 </td><td> 0.136 </td><td> 0.046 </td><td> 0.035 </td><td> 0.019 </td><td> 0.442 </td></tr><tr><td><div align=\"center\">5 (12,0)</div></td><td> 0.001 </td><td> 0.001 </td><td> 0.000 </td><td> 0.000 </td><td> 0.001 </td><td> 0.001 </td><td> 0.001 </td><td> 0.005 </td><td> 0.004 </td><td> 0.007 </td><td> 0.005 </td><td> 0.001 </td><td> 0.021 </td><td> 0.004 </td><td> 0.003 </td><td> 0.023 </td><td> 0.014 </td><td> 0.045 </td><td> 0.026 </td><td> 0.007 </td><td> 0.048 </td><td> 0.016 </td><td> 0.017 </td><td> 0.065 </td><td> 0.685 </td></tr><tr><td><div align=\"center\">6 (13,0)</div></td><td> 0.001 </td><td> 0.001 </td><td> 0.001 </td><td> 0.000 </td><td> 0.002 </td><td> 0.001 </td><td> 0.001 </td><td> 0.009 </td><td> 0.004 </td><td> 0.011 </td><td> 0.005 </td><td> 0.002 </td><td> 0.025 </td><td> 0.004 </td><td> 0.003 </td><td> 0.037 </td><td> 0.020 </td><td> 0.037 </td><td> 0.027 </td><td> 0.008 </td><td> 0.047 </td><td> 0.022 </td><td> 0.021 </td><td> 0.092 </td><td> 0.619 </td></tr><tr><td><div align=\"center\">7 (23,0)</div></td><td> 0.001 </td><td> 0.001 </td><td> 0.001 </td><td> 0.000 </td><td> 0.002 </td><td> 0.001 </td><td> 0.001 </td><td> 0.007 </td><td> 0.006 </td><td> 0.008 </td><td> 0.009 </td><td> 0.002 </td><td> 0.024 </td><td> 0.005 </td><td> 0.005 </td><td> 0.037 </td><td> 0.017 </td><td> 0.041 </td><td> 0.028 </td><td> 0.009 </td><td> 0.095 </td><td> 0.028 </td><td> 0.027 </td><td> 0.066 </td><td> 0.581 </td></tr><tr><td><div align=\"center\">8 (123,0)</div></td><td> 0 </td><td> 0 </td><td> 0 </td><td> 0 </td><td> 0 </td><td> 0 </td><td> 0 </td><td> 0.007 </td><td> 0.000 </td><td> 0.000 </td><td> 0.001 </td><td> 0 </td><td> 0.009 </td><td> 0.000 </td><td> 0.000 </td><td> 0.027 </td><td> 0.002 </td><td> 0.006 </td><td> 0.011 </td><td> 0.003 </td><td> 0.040 </td><td> 0.011 </td><td> 0.018 </td><td> 0.082 </td><td> 0.783 </td></tr><tr><td><div align=\"center\">9 (0,1)</div></td><td> 0 </td><td> 0 </td><td> 0 </td><td> 0 </td><td> 0 </td><td> 0 </td><td> 0 </td><td> 0 </td><td> 0.000 </td><td> 0.001 </td><td> 0.001 </td><td> 0.000 </td><td> 0.003 </td><td> 0.001 </td><td> 0.000 </td><td> 0.003 </td><td> 0.004 </td><td> 0.011 </td><td> 0.011 </td><td> 0.004 </td><td> 0.022 </td><td> 0.008 </td><td> 0.006 </td><td> 0.024 </td><td> 0.902 </td></tr><tr><td><div align=\"center\">10 (1,1)</div></td><td> 0 </td><td> 0 </td><td> 0 </td><td> 0 </td><td> 0 </td><td> 0 </td><td> 0 </td><td> 0 </td><td> 0.000 </td><td> 0.000 </td><td> 0.001 </td><td> 0.000 </td><td> 0.002 </td><td> 0.000 </td><td> 0.000 </td><td> 0.003 </td><td> 0.002 </td><td> 0.008 </td><td> 0.007 </td><td> 0.002 </td><td> 0.022 </td><td> 0.006 </td><td> 0.006 </td><td> 0.023 </td><td> 0.917 </td></tr><tr><td><div align=\"center\">11 (2,1)</div></td><td> 0 </td><td> 0 </td><td> 0 </td><td> 0 </td><td> 0 </td><td> 0 </td><td> 0 </td><td> 0 </td><td> 0.000 </td><td> 0.001 </td><td> 0.001 </td><td> 0.000 </td><td> 0.004 </td><td> 0.001 </td><td> 0.000 </td><td> 0.005 </td><td> 0.003 </td><td> 0.013 </td><td> 0.011 </td><td> 0.003 </td><td> 0.027 </td><td> 0.008 </td><td> 0.008 </td><td> 0.035 </td><td> 0.878 </td></tr><tr><td><div align=\"center\">12 (3,1)</div></td><td> 0 </td><td> 0 </td><td> 0 </td><td> 0 </td><td> 0 </td><td> 0 </td><td> 0 </td><td> 0 </td><td> 0.001 </td><td> 0.002 </td><td> 0.002 </td><td> 0.000 </td><td> 0.007 </td><td> 0.001 </td><td> 0.001 </td><td> 0.007 </td><td> 0.007 </td><td> 0.018 </td><td> 0.018 </td><td> 0.006 </td><td> 0.036 </td><td> 0.013 </td><td> 0.010 </td><td> 0.039 </td><td> 0.833 </td></tr><tr><td><div align=\"center\">13 (12,1)</div></td><td> 0 </td><td> 0 </td><td> 0 </td><td> 0 </td><td> 0 </td><td> 0 </td><td> 0 </td><td> 0 </td><td> 0.000 </td><td> 0.000 </td><td> 0.001 </td><td> 0.000 </td><td> 0.002 </td><td> 0.000 </td><td> 0.000 </td><td> 0.003 </td><td> 0.002 </td><td> 0.005 </td><td> 0.008 </td><td> 0.002 </td><td> 0.020 </td><td> 0.006 </td><td> 0.006 </td><td> 0.027 </td><td> 0.917 </td></tr><tr><td><div align=\"center\">14 (13,1)</div></td><td> 0 </td><td> 0 </td><td> 0 </td><td> 0 </td><td> 0 </td><td> 0 </td><td> 0 </td><td> 0 </td><td> 0.000 </td><td> 0.001 </td><td> 0.001 </td><td> 0.000 </td><td> 0.003 </td><td> 0.000 </td><td> 0.000 </td><td> 0.004 </td><td> 0.004 </td><td> 0.010 </td><td> 0.009 </td><td> 0.002 </td><td> 0.029 </td><td> 0.008 </td><td> 0.007 </td><td> 0.024 </td><td> 0.896 </td></tr><tr><td><div align=\"center\">15 (23,1)</div></td><td> 0 </td><td> 0 </td><td> 0 </td><td> 0 </td><td> 0 </td><td> 0 </td><td> 0 </td><td> 0 </td><td> 0.000 </td><td> 0.001 </td><td> 0.001 </td><td> 0.000 </td><td> 0.004 </td><td> 0.000 </td><td> 0.000 </td><td> 0.006 </td><td> 0.003 </td><td> 0.010 </td><td> 0.012 </td><td> 0.003 </td><td> 0.029 </td><td> 0.008 </td><td> 0.009 </td><td> 0.039 </td><td> 0.874 </td></tr><tr><td><div align=\"center\">16 (123,1)</div></td><td> 0 </td><td> 0 </td><td> 0 </td><td> 0 </td><td> 0 </td><td> 0 </td><td> 0 </td><td> 0 </td><td> 0.000 </td><td> 0.000 </td><td> 0.000 </td><td> 0.000 </td><td> 0.002 </td><td> 0.000 </td><td> 0.000 </td><td> 0.003 </td><td> 0.001 </td><td> 0.004 </td><td> 0.006 </td><td> 0.001 </td><td> 0.017 </td><td> 0.004 </td><td> 0.005 </td><td> 0.026 </td><td> 0.928 </td></tr><tr><td><div align=\"center\">17 (0,2)</div></td><td> 0 </td><td> 0 </td><td> 0 </td><td> 0 </td><td> 0 </td><td> 0 </td><td> 0 </td><td> 0 </td><td> 0 </td><td> 0 </td><td> 0 </td><td> 0 </td><td> 0 </td><td> 0 </td><td> 0 </td><td> 0 </td><td> 0.001 </td><td> 0.001 </td><td> 0.001 </td><td> 0.000 </td><td> 0.004 </td><td> 0.001 </td><td> 0.001 </td><td> 0.004 </td><td> 0.986 </td></tr><tr><td><div align=\"center\">18 (1,2)</div></td><td> 0 </td><td> 0 </td><td> 0 </td><td> 0 </td><td> 0 </td><td> 0 </td><td> 0 </td><td> 0 </td><td> 0 </td><td> 0 </td><td> 0 </td><td> 0 </td><td> 0 </td><td> 0 </td><td> 0 </td><td> 0 </td><td> 0.000 </td><td> 0.001 </td><td> 0.002 </td><td> 0.000 </td><td> 0.004 </td><td> 0.001 </td><td> 0.001 </td><td> 0.005 </td><td> 0.986 </td></tr><tr><td><div align=\"center\">19 (2,2)</div></td><td> 0 </td><td> 0 </td><td> 0 </td><td> 0 </td><td> 0 </td><td> 0 </td><td> 0 </td><td> 0 </td><td> 0 </td><td> 0 </td><td> 0 </td><td> 0 </td><td> 0 </td><td> 0 </td><td> 0 </td><td> 0 </td><td> 0.001 </td><td> 0.001 </td><td> 0.002 </td><td> 0.000 </td><td> 0.005 </td><td> 0.001 </td><td> 0.001 </td><td> 0.005 </td><td> 0.984 </td></tr><tr><td><div align=\"center\">20 (3,2)</div></td><td> 0 </td><td> 0 </td><td> 0 </td><td> 0 </td><td> 0 </td><td> 0 </td><td> 0 </td><td> 0 </td><td> 0 </td><td> 0 </td><td> 0 </td><td> 0 </td><td> 0 </td><td> 0 </td><td> 0 </td><td> 0 </td><td> 0.000 </td><td> 0.001 </td><td> 0.001 </td><td> 0.000 </td><td> 0.004 </td><td> 0.001 </td><td> 0.001 </td><td> 0.004 </td><td> 0.987 </td></tr><tr><td><div align=\"center\">21 (12,2)</div></td><td> 0 </td><td> 0 </td><td> 0 </td><td> 0 </td><td> 0 </td><td> 0 </td><td> 0 </td><td> 0 </td><td> 0 </td><td> 0 </td><td> 0 </td><td> 0 </td><td> 0 </td><td> 0 </td><td> 0 </td><td> 0 </td><td> 0.000 </td><td> 0.001 </td><td> 0.001 </td><td> 0.000 </td><td> 0.004 </td><td> 0.001 </td><td> 0.001 </td><td> 0.005 </td><td> 0.986 </td></tr><tr><td><div align=\"center\">22 (13,2)</div></td><td> 0 </td><td> 0 </td><td> 0 </td><td> 0 </td><td> 0 </td><td> 0 </td><td> 0 </td><td> 0 </td><td> 0 </td><td> 0 </td><td> 0 </td><td> 0 </td><td> 0 </td><td> 0 </td><td> 0 </td><td> 0 </td><td> 0.000 </td><td> 0.001 </td><td> 0.001 </td><td> 0.000 </td><td> 0.003 </td><td> 0.001 </td><td> 0.001 </td><td> 0.004 </td><td> 0.988 </td></tr><tr><td><div align=\"center\">23 (23,2)</div></td><td> 0 </td><td> 0 </td><td> 0 </td><td> 0 </td><td> 0 </td><td> 0 </td><td> 0 </td><td> 0 </td><td> 0 </td><td> 0 </td><td> 0 </td><td> 0 </td><td> 0 </td><td> 0 </td><td> 0 </td><td> 0 </td><td> 0.000 </td><td> 0.001 </td><td> 0.002 </td><td> 0.000 </td><td> 0.005 </td><td> 0.001 </td><td> 0.001 </td><td> 0.006 </td><td> 0.982 </td></tr><tr><td><div align=\"center\">24 (123,2)</div></td><td> 0 </td><td> 0 </td><td> 0 </td><td> 0 </td><td> 0 </td><td> 0 </td><td> 0 </td><td> 0 </td><td> 0 </td><td> 0 </td><td> 0 </td><td> 0 </td><td> 0 </td><td> 0 </td><td> 0 </td><td> 0 </td><td> 0.000 </td><td> 0.001 </td><td> 0.001 </td><td> 0.000 </td><td> 0.003 </td><td> 0.001 </td><td> 0.001 </td><td> 0.004 </td><td> 0.989 </td></tr><tr><td><div align=\"center\">25 (X,3)</div></td><td> 0 </td><td> 0 </td><td> 0 </td><td> 0 </td><td> 0 </td><td> 0 </td><td> 0 </td><td> 0 </td><td> 0 </td><td> 0 </td><td> 0 </td><td> 0 </td><td> 0 </td><td> 0 </td><td> 0 </td><td> 0 </td><td> 0 </td><td> 0 </td><td> 0 </td><td> 0 </td><td> 0 </td><td> 0 </td><td> 0 </td><td> 0 </td><td> 1.000 </td></tr></table></small></small></small></small></div>"
      ],
      "text/plain": [
       "<IPython.core.display.HTML object>"
      ]
     },
     "execution_count": 198,
     "metadata": {},
     "output_type": "execute_result"
    }
   ],
   "source": [
    "P100=P**(4)\n",
    "printP(P100)"
   ]
  },
  {
   "cell_type": "markdown",
   "metadata": {},
   "source": [
    "## Facts\n",
    "\n",
    "1. $$P^2=\\left(\\matrix{ A_{24\\times24} &B_{24\\times1}\\\\0_{1\\times24} &1}\\right)\n",
    "         \\left(\\matrix{ A_{24\\times24} &B_{24\\times1}\\\\0_{1\\times24} &1}\\right)\n",
    "        =\\left(\\matrix{&A^2 ,&(I+A)B \\cr &0 ,&I}\\right) \\\\\n",
    "     P^n=\\left(\\matrix{&A^n ,&(I+A+\\cdots+A^{n-1})B \\cr &0 ,&I}\\right)\n",
    "   $$\n",
    "2. Fundamental matrix $W=(I-A)^{-1}$\n",
    "   $$\\lim_{n\\to\\infty}P^n=\\left(\\matrix{&0_{24\\times24} ,&W B \\cr &0 ,&I}\\right)$$"
   ]
  },
  {
   "cell_type": "markdown",
   "metadata": {},
   "source": [
    "## How many are there hitters until the game over?\n",
    "\n",
    "From the definition of $A_{24\\times24}$, \n",
    "- $ 1\\cdot A^0_{ij}$: the run of hitter himself,\n",
    "- $ 1\\cdot A_{ij}$:  one more hit and transtion from $i$-state to $j$-state,\n",
    "- $ 1\\cdot A^2_{ij}$:  two more hits and transtion from $i$-state to $j$-state,\n",
    "\n",
    "and so on. Thus,  the expected sum of hitters from $i$-state to $j$-states is\n",
    "\n",
    "$$ 1\\cdot A^0_{ij}+1\\cdot A_{ij}+1\\cdot A^2_{ij}+1\\cdot A^3_{ij}+\\cdots = W_{ij}$$\n"
   ]
  },
  {
   "cell_type": "markdown",
   "metadata": {
    "collapsed": false,
    "slideshow": {
     "slide_type": "subslide"
    }
   },
   "source": [
    "## Fundamental Matrix $W$\n",
    "\n",
    "$$W=I_n+A+A^2+\\cdots=\\frac{1}{I_n-A}$$\n",
    "\n",
    "In other words, $W$ brings the infomation when the game is over. By Neumann theorem, W (sum of infinite matrices) exists since $||A||<1$ and it is easy to calulate the inverse of matrix by linalg submodule in numpy:"
   ]
  },
  {
   "cell_type": "code",
   "execution_count": 277,
   "metadata": {
    "collapsed": false
   },
   "outputs": [],
   "source": [
    "from numpy.linalg import inv\n",
    "I24=np.identity(24)\n",
    "A,B=P[0:24,0:24],P[:24,24:25]\n",
    "W=inv(I24-A)\n"
   ]
  },
  {
   "cell_type": "code",
   "execution_count": 199,
   "metadata": {
    "collapsed": false
   },
   "outputs": [
    {
     "data": {
      "text/html": [
       "<div align=\"center\"><small><small><small><small><table><tr><td> State/State </td><td><div align=\"center\">1<br>(0,0)</div></td><td><div align=\"center\">2<br>(1,0)</div></td><td><div align=\"center\">3<br>(2,0)</div></td><td><div align=\"center\">4<br>(3,0)</div></td><td><div align=\"center\">5<br>(12,0)</div></td><td><div align=\"center\">6<br>(13,0)</div></td><td><div align=\"center\">7<br>(23,0)</div></td><td><div align=\"center\">8<br>(123,0)</div></td><td><div align=\"center\">9<br>(0,1)</div></td><td><div align=\"center\">10<br>(1,1)</div></td><td><div align=\"center\">11<br>(2,1)</div></td><td><div align=\"center\">12<br>(3,1)</div></td><td><div align=\"center\">13<br>(12,1)</div></td><td><div align=\"center\">14<br>(13,1)</div></td><td><div align=\"center\">15<br>(23,1)</div></td><td><div align=\"center\">16<br>(123,1)</div></td><td><div align=\"center\">17<br>(0,2)</div></td><td><div align=\"center\">18<br>(1,2)</div></td><td><div align=\"center\">19<br>(2,2)</div></td><td><div align=\"center\">20<br>(3,2)</div></td><td><div align=\"center\">21<br>(12,2)</div></td><td><div align=\"center\">22<br>(13,2)</div></td><td><div align=\"center\">23<br>(23,2)</div></td><td><div align=\"center\">24<br>(123,2)</div></td><tr><td><div align=\"center\">1 (0,0)</div></td><td> 1.036 </td><td> 0.234 </td><td> 0.059 </td><td> 0.004 </td><td> 0.067 </td><td> 0.018 </td><td> 0.016 </td><td> 0.014 </td><td> 0.774 </td><td> 0.293 </td><td> 0.103 </td><td> 0.016 </td><td> 0.123 </td><td> 0.028 </td><td> 0.026 </td><td> 0.075 </td><td> 0.576 </td><td> 0.333 </td><td> 0.139 </td><td> 0.038 </td><td> 0.166 </td><td> 0.055 </td><td> 0.042 </td><td> 0.089 </td></tr><tr><td><div align=\"center\">2 (1,0)</div></td><td> 0.052 </td><td> 1.022 </td><td> 0.048 </td><td> 0.001 </td><td> 0.270 </td><td> 0.049 </td><td> 0.066 </td><td> 0.048 </td><td> 0.060 </td><td> 0.408 </td><td> 0.219 </td><td> 0.018 </td><td> 0.267 </td><td> 0.072 </td><td> 0.087 </td><td> 0.264 </td><td> 0.072 </td><td> 0.315 </td><td> 0.194 </td><td> 0.087 </td><td> 0.273 </td><td> 0.103 </td><td> 0.087 </td><td> 0.229 </td></tr><tr><td><div align=\"center\">3 (2,0)</div></td><td> 0.013 </td><td> 0.050 </td><td> 1.032 </td><td> 0.027 </td><td> 0.127 </td><td> 0.145 </td><td> 0.021 </td><td> 0.055 </td><td> 0.063 </td><td> 0.287 </td><td> 0.499 </td><td> 0.127 </td><td> 0.261 </td><td> 0.122 </td><td> 0.045 </td><td> 0.111 </td><td> 0.110 </td><td> 0.289 </td><td> 0.310 </td><td> 0.093 </td><td> 0.280 </td><td> 0.105 </td><td> 0.071 </td><td> 0.143 </td></tr><tr><td><div align=\"center\">4 (3,0)</div></td><td> 0.035 </td><td> 0.682 </td><td> 0.032 </td><td> 1.001 </td><td> 0.180 </td><td> 0.033 </td><td> 0.044 </td><td> 0.032 </td><td> 0.071 </td><td> 0.379 </td><td> 0.200 </td><td> 0.348 </td><td> 0.223 </td><td> 0.102 </td><td> 0.061 </td><td> 0.191 </td><td> 0.152 </td><td> 0.327 </td><td> 0.213 </td><td> 0.092 </td><td> 0.251 </td><td> 0.101 </td><td> 0.072 </td><td> 0.181 </td></tr><tr><td><div align=\"center\">5 (12,0)</div></td><td> 0.099 </td><td> 0.027 </td><td> 0.011 </td><td> 0.000 </td><td> 1.052 </td><td> 0.066 </td><td> 0.040 </td><td> 0.115 </td><td> 0.097 </td><td> 0.094 </td><td> 0.074 </td><td> 0.015 </td><td> 0.418 </td><td> 0.138 </td><td> 0.189 </td><td> 0.224 </td><td> 0.093 </td><td> 0.170 </td><td> 0.121 </td><td> 0.190 </td><td> 0.314 </td><td> 0.144 </td><td> 0.122 </td><td> 0.233 </td></tr><tr><td><div align=\"center\">6 (13,0)</div></td><td> 0.021 </td><td> 0.019 </td><td> 0.016 </td><td> 0.000 </td><td> 0.215 </td><td> 1.016 </td><td> 0.109 </td><td> 0.322 </td><td> 0.047 </td><td> 0.147 </td><td> 0.036 </td><td> 0.035 </td><td> 0.178 </td><td> 0.341 </td><td> 0.093 </td><td> 0.282 </td><td> 0.164 </td><td> 0.253 </td><td> 0.145 </td><td> 0.065 </td><td> 0.261 </td><td> 0.150 </td><td> 0.121 </td><td> 0.257 </td></tr><tr><td><div align=\"center\">7 (23,0)</div></td><td> 0.008 </td><td> 0.134 </td><td> 0.135 </td><td> 0.004 </td><td> 0.050 </td><td> 0.024 </td><td> 1.011 </td><td> 0.188 </td><td> 0.065 </td><td> 0.171 </td><td> 0.115 </td><td> 0.147 </td><td> 0.127 </td><td> 0.079 </td><td> 0.519 </td><td> 0.360 </td><td> 0.096 </td><td> 0.199 </td><td> 0.165 </td><td> 0.142 </td><td> 0.223 </td><td> 0.127 </td><td> 0.157 </td><td> 0.302 </td></tr><tr><td><div align=\"center\">8 (123,0)</div></td><td> 0 </td><td> 0 </td><td> 0 </td><td> 0 </td><td> 0 </td><td> 0 </td><td> 0 </td><td> 1.401 </td><td> 0.000 </td><td> 0.000 </td><td> 0.005 </td><td> 0.000 </td><td> 0.074 </td><td> 0.000 </td><td> 0.001 </td><td> 0.745 </td><td> 0.007 </td><td> 0.034 </td><td> 0.045 </td><td> 0.011 </td><td> 0.360 </td><td> 0.070 </td><td> 0.283 </td><td> 0.565 </td></tr><tr><td><div align=\"center\">9 (0,1)</div></td><td> 0 </td><td> 0 </td><td> 0 </td><td> 0 </td><td> 0 </td><td> 0 </td><td> 0 </td><td> 0 </td><td> 1.043 </td><td> 0.257 </td><td> 0.042 </td><td> 0.008 </td><td> 0.069 </td><td> 0.009 </td><td> 0.005 </td><td> 0.014 </td><td> 0.763 </td><td> 0.342 </td><td> 0.111 </td><td> 0.019 </td><td> 0.125 </td><td> 0.037 </td><td> 0.026 </td><td> 0.041 </td></tr><tr><td><div align=\"center\">10 (1,1)</div></td><td> 0 </td><td> 0 </td><td> 0 </td><td> 0 </td><td> 0 </td><td> 0 </td><td> 0 </td><td> 0 </td><td> 0.024 </td><td> 1.009 </td><td> 0.023 </td><td> 0.001 </td><td> 0.229 </td><td> 0.017 </td><td> 0.018 </td><td> 0.045 </td><td> 0.049 </td><td> 0.611 </td><td> 0.163 </td><td> 0.025 </td><td> 0.265 </td><td> 0.079 </td><td> 0.061 </td><td> 0.098 </td></tr><tr><td><div align=\"center\">11 (2,1)</div></td><td> 0 </td><td> 0 </td><td> 0 </td><td> 0 </td><td> 0 </td><td> 0 </td><td> 0 </td><td> 0 </td><td> 0.009 </td><td> 0.077 </td><td> 1.050 </td><td> 0.005 </td><td> 0.314 </td><td> 0.090 </td><td> 0.021 </td><td> 0.069 </td><td> 0.029 </td><td> 0.179 </td><td> 0.493 </td><td> 0.112 </td><td> 0.317 </td><td> 0.101 </td><td> 0.059 </td><td> 0.121 </td></tr><tr><td><div align=\"center\">12 (3,1)</div></td><td> 0 </td><td> 0 </td><td> 0 </td><td> 0 </td><td> 0 </td><td> 0 </td><td> 0 </td><td> 0 </td><td> 0.091 </td><td> 0.323 </td><td> 0.163 </td><td> 1.010 </td><td> 0.136 </td><td> 0.163 </td><td> 0.009 </td><td> 0.047 </td><td> 0.313 </td><td> 0.351 </td><td> 0.251 </td><td> 0.103 </td><td> 0.205 </td><td> 0.097 </td><td> 0.041 </td><td> 0.085 </td></tr><tr><td><div align=\"center\">13 (12,1)</div></td><td> 0 </td><td> 0 </td><td> 0 </td><td> 0 </td><td> 0 </td><td> 0 </td><td> 0 </td><td> 0 </td><td> 0.002 </td><td> 0.007 </td><td> 0.071 </td><td> 0.000 </td><td> 1.104 </td><td> 0.007 </td><td> 0.019 </td><td> 0.177 </td><td> 0.012 </td><td> 0.040 </td><td> 0.082 </td><td> 0.042 </td><td> 0.558 </td><td> 0.150 </td><td> 0.150 </td><td> 0.256 </td></tr><tr><td><div align=\"center\">14 (13,1)</div></td><td> 0 </td><td> 0 </td><td> 0 </td><td> 0 </td><td> 0 </td><td> 0 </td><td> 0 </td><td> 0 </td><td> 0.064 </td><td> 0.033 </td><td> 0.020 </td><td> 0.057 </td><td> 0.147 </td><td> 1.010 </td><td> 0.003 </td><td> 0.161 </td><td> 0.080 </td><td> 0.352 </td><td> 0.239 </td><td> 0.022 </td><td> 0.236 </td><td> 0.282 </td><td> 0.058 </td><td> 0.185 </td></tr><tr><td><div align=\"center\">15 (23,1)</div></td><td> 0 </td><td> 0 </td><td> 0 </td><td> 0 </td><td> 0 </td><td> 0 </td><td> 0 </td><td> 0 </td><td> 0.076 </td><td> 0.087 </td><td> 0.008 </td><td> 0.004 </td><td> 0.071 </td><td> 0.070 </td><td> 1.002 </td><td> 0.428 </td><td> 0.066 </td><td> 0.150 </td><td> 0.130 </td><td> 0.210 </td><td> 0.166 </td><td> 0.160 </td><td> 0.193 </td><td> 0.348 </td></tr><tr><td><div align=\"center\">16 (123,1)</div></td><td> 0 </td><td> 0 </td><td> 0 </td><td> 0 </td><td> 0 </td><td> 0 </td><td> 0 </td><td> 0 </td><td> 0.000 </td><td> 0.001 </td><td> 0.008 </td><td> 0.000 </td><td> 0.123 </td><td> 0.001 </td><td> 0.002 </td><td> 1.242 </td><td> 0.004 </td><td> 0.017 </td><td> 0.042 </td><td> 0.009 </td><td> 0.204 </td><td> 0.082 </td><td> 0.103 </td><td> 0.740 </td></tr><tr><td><div align=\"center\">17 (0,2)</div></td><td> 0 </td><td> 0 </td><td> 0 </td><td> 0 </td><td> 0 </td><td> 0 </td><td> 0 </td><td> 0 </td><td> 0 </td><td> 0 </td><td> 0 </td><td> 0 </td><td> 0 </td><td> 0 </td><td> 0 </td><td> 0 </td><td> 1.053 </td><td> 0.255 </td><td> 0.073 </td><td> 0.012 </td><td> 0.066 </td><td> 0.019 </td><td> 0.012 </td><td> 0.017 </td></tr><tr><td><div align=\"center\">18 (1,2)</div></td><td> 0 </td><td> 0 </td><td> 0 </td><td> 0 </td><td> 0 </td><td> 0 </td><td> 0 </td><td> 0 </td><td> 0 </td><td> 0 </td><td> 0 </td><td> 0 </td><td> 0 </td><td> 0 </td><td> 0 </td><td> 0 </td><td> 0.045 </td><td> 1.024 </td><td> 0.060 </td><td> 0.019 </td><td> 0.204 </td><td> 0.066 </td><td> 0.044 </td><td> 0.057 </td></tr><tr><td><div align=\"center\">19 (2,2)</div></td><td> 0 </td><td> 0 </td><td> 0 </td><td> 0 </td><td> 0 </td><td> 0 </td><td> 0 </td><td> 0 </td><td> 0 </td><td> 0 </td><td> 0 </td><td> 0 </td><td> 0 </td><td> 0 </td><td> 0 </td><td> 0 </td><td> 0.030 </td><td> 0.118 </td><td> 1.047 </td><td> 0.019 </td><td> 0.284 </td><td> 0.040 </td><td> 0.015 </td><td> 0.054 </td></tr><tr><td><div align=\"center\">20 (3,2)</div></td><td> 0 </td><td> 0 </td><td> 0 </td><td> 0 </td><td> 0 </td><td> 0 </td><td> 0 </td><td> 0 </td><td> 0 </td><td> 0 </td><td> 0 </td><td> 0 </td><td> 0 </td><td> 0 </td><td> 0 </td><td> 0 </td><td> 0.009 </td><td> 0.173 </td><td> 0.021 </td><td> 1.005 </td><td> 0.097 </td><td> 0.139 </td><td> 0.016 </td><td> 0.042 </td></tr><tr><td><div align=\"center\">21 (12,2)</div></td><td> 0 </td><td> 0 </td><td> 0 </td><td> 0 </td><td> 0 </td><td> 0 </td><td> 0 </td><td> 0 </td><td> 0 </td><td> 0 </td><td> 0 </td><td> 0 </td><td> 0 </td><td> 0 </td><td> 0 </td><td> 0 </td><td> 0.016 </td><td> 0.020 </td><td> 0.077 </td><td> 0.028 </td><td> 1.122 </td><td> 0.047 </td><td> 0.037 </td><td> 0.189 </td></tr><tr><td><div align=\"center\">22 (13,2)</div></td><td> 0 </td><td> 0 </td><td> 0 </td><td> 0 </td><td> 0 </td><td> 0 </td><td> 0 </td><td> 0 </td><td> 0 </td><td> 0 </td><td> 0 </td><td> 0 </td><td> 0 </td><td> 0 </td><td> 0 </td><td> 0 </td><td> 0.003 </td><td> 0.012 </td><td> 0.058 </td><td> 0.004 </td><td> 0.130 </td><td> 1.009 </td><td> 0.055 </td><td> 0.193 </td></tr><tr><td><div align=\"center\">23 (23,2)</div></td><td> 0 </td><td> 0 </td><td> 0 </td><td> 0 </td><td> 0 </td><td> 0 </td><td> 0 </td><td> 0 </td><td> 0 </td><td> 0 </td><td> 0 </td><td> 0 </td><td> 0 </td><td> 0 </td><td> 0 </td><td> 0 </td><td> 0.005 </td><td> 0.101 </td><td> 0.023 </td><td> 0.003 </td><td> 0.067 </td><td> 0.057 </td><td> 1.067 </td><td> 0.415 </td></tr><tr><td><div align=\"center\">24 (123,2)</div></td><td> 0 </td><td> 0 </td><td> 0 </td><td> 0 </td><td> 0 </td><td> 0 </td><td> 0 </td><td> 0 </td><td> 0 </td><td> 0 </td><td> 0 </td><td> 0 </td><td> 0 </td><td> 0 </td><td> 0 </td><td> 0 </td><td> 0.003 </td><td> 0.009 </td><td> 0.044 </td><td> 0.004 </td><td> 0.124 </td><td> 0.008 </td><td> 0.040 </td><td> 1.200 </td></tr></table></small></small></small></small></div>"
      ],
      "text/plain": [
       "<IPython.core.display.HTML object>"
      ]
     },
     "execution_count": 199,
     "metadata": {},
     "output_type": "execute_result"
    }
   ],
   "source": [
    "printP(W)"
   ]
  },
  {
   "cell_type": "markdown",
   "metadata": {},
   "source": [
    "Meaning of $W$\n",
    "---\n",
    "- $W_{1,1}=1.036$, no one on base and one out: the interger <b>1</b> is just the hitter himself, and the additional part, <b>.036</b>, is contributed by hitting the homerun. \n",
    "- $W_{1,2}=0.234$, one-base hit\n",
    "- $W_{1,3}=0.059$, two-base hit \n",
    "\n",
    "and so on."
   ]
  },
  {
   "cell_type": "markdown",
   "metadata": {},
   "source": [
    "## Sum of each row of $W$\n",
    "While at $i_0$-state,\n",
    "\n",
    "$W_{i_0,j}$: expected number of hitters from $i_0$-state to $j$-state during same half-inning,  \n",
    "\n",
    "$\\sum_{j=1}^{24} W_{i_0,j}$: total expected numbers of hitters from $i_0$-state to end of half-inning."
   ]
  },
  {
   "cell_type": "code",
   "execution_count": 287,
   "metadata": {
    "collapsed": false,
    "slideshow": {
     "slide_type": "subslide"
    }
   },
   "outputs": [],
   "source": [
    "def printW(P):\n",
    "    l='<div align=\"center\"><table>';\n",
    "    row=P.shape[0]\n",
    "    col=P.shape[1]\n",
    "    i=j=k=0;\n",
    "    l=l+\"<tr>\"\n",
    "    for k in range(3):\n",
    "          k1=k+1\n",
    "          l=l+'<th><div align=\"center\">State</div></th>' \n",
    "          l=l+'<th><div align=\"center\">Expected Hitters</div></th>'\n",
    "          k++1\n",
    "    l=l+'</tr>'    \n",
    "    for i in range(1,int((row+1)/3)+1):\n",
    "        l=l+'<tr><td><div align=\"center\">%s %s (%d out)</div></td>' %(i,state[i-1],np.float((i-1)/8))\n",
    "        for j in range(1,col+1):\n",
    "            if (P[i-1,j-1]<1e-6):\n",
    "                P[i-1,j-1]=0\n",
    "            l=l+'<td><div align=\"center\"> %.3f </div></td>' %(P[i-1,j-1]);\n",
    "            j++1\n",
    "        l=l+'<td><div align=\"center\">%s %s (%d out)</div></td>' %(8+i,state[8+i-1],np.float((8+i-1)/8))\n",
    "        for j in range(1,col+1):\n",
    "            if (P[i-1,j-1]<1e-6):\n",
    "                P[i-1,j-1]=0\n",
    "            l=l+'<td><div align=\"center\"> %.3f </div></td>' %(P[8+i-1,j-1]);\n",
    "            j++1\n",
    "        l=l+'<td><div align=\"center\">%s %s (%d out)</div></td>' %(16+i,state[16+i-1],np.float((16+i-1)/8))\n",
    "        for j in range(1,col+1):\n",
    "            if (P[i-1,j-1]<1e-6):\n",
    "                P[i-1,j-1]=0\n",
    "            l=l+'<td><div align=\"center\"> %.3f </div></td>' %(P[16+i-1,j-1]);\n",
    "            j++1\n",
    "        l=l+\"</tr>\"\n",
    "        i++1\n",
    "    l=l+\"</table></div>\"\n",
    "    return HTML(l)"
   ]
  },
  {
   "cell_type": "code",
   "execution_count": 288,
   "metadata": {
    "collapsed": false
   },
   "outputs": [
    {
     "data": {
      "text/html": [
       "<div align=\"center\"><table><tr><th><div align=\"center\">State</div></th><th><div align=\"center\">Expected Hitters</div></th><th><div align=\"center\">State</div></th><th><div align=\"center\">Expected Hitters</div></th><th><div align=\"center\">State</div></th><th><div align=\"center\">Expected Hitters</div></th></tr><tr><td><div align=\"center\">1 (0,0) (0 out)</div></td><td><div align=\"center\"> 4.323 </div></td><td><div align=\"center\">9 (0,1) (1 out)</div></td><td><div align=\"center\"> 2.911 </div></td><td><div align=\"center\">17 (0,2) (2 out)</div></td><td><div align=\"center\"> 1.507 </div></td></tr><tr><td><div align=\"center\">2 (1,0) (0 out)</div></td><td><div align=\"center\"> 4.312 </div></td><td><div align=\"center\">10 (1,1) (1 out)</div></td><td><div align=\"center\"> 2.718 </div></td><td><div align=\"center\">18 (1,2) (2 out)</div></td><td><div align=\"center\"> 1.520 </div></td></tr><tr><td><div align=\"center\">3 (2,0) (0 out)</div></td><td><div align=\"center\"> 4.389 </div></td><td><div align=\"center\">11 (2,1) (1 out)</div></td><td><div align=\"center\"> 3.046 </div></td><td><div align=\"center\">19 (2,2) (2 out)</div></td><td><div align=\"center\"> 1.607 </div></td></tr><tr><td><div align=\"center\">4 (3,0) (0 out)</div></td><td><div align=\"center\"> 5.004 </div></td><td><div align=\"center\">12 (3,1) (1 out)</div></td><td><div align=\"center\"> 3.386 </div></td><td><div align=\"center\">20 (3,2) (2 out)</div></td><td><div align=\"center\"> 1.502 </div></td></tr><tr><td><div align=\"center\">5 (12,0) (0 out)</div></td><td><div align=\"center\"> 4.048 </div></td><td><div align=\"center\">13 (12,1) (1 out)</div></td><td><div align=\"center\"> 2.677 </div></td><td><div align=\"center\">21 (12,2) (2 out)</div></td><td><div align=\"center\"> 1.536 </div></td></tr><tr><td><div align=\"center\">6 (13,0) (0 out)</div></td><td><div align=\"center\"> 4.292 </div></td><td><div align=\"center\">14 (13,1) (1 out)</div></td><td><div align=\"center\"> 2.949 </div></td><td><div align=\"center\">22 (13,2) (2 out)</div></td><td><div align=\"center\"> 1.465 </div></td></tr><tr><td><div align=\"center\">7 (23,0) (0 out)</div></td><td><div align=\"center\"> 4.546 </div></td><td><div align=\"center\">15 (23,1) (1 out)</div></td><td><div align=\"center\"> 3.169 </div></td><td><div align=\"center\">23 (23,2) (2 out)</div></td><td><div align=\"center\"> 1.740 </div></td></tr><tr><td><div align=\"center\">8 (123,0) (0 out)</div></td><td><div align=\"center\"> 3.602 </div></td><td><div align=\"center\">16 (123,1) (1 out)</div></td><td><div align=\"center\"> 2.578 </div></td><td><div align=\"center\">24 (123,2) (2 out)</div></td><td><div align=\"center\"> 1.433 </div></td></tr></table></div>"
      ],
      "text/plain": [
       "<IPython.core.display.HTML object>"
      ]
     },
     "execution_count": 288,
     "metadata": {},
     "output_type": "execute_result"
    }
   ],
   "source": [
    "printW(sum(W.transpose()).transpose())"
   ]
  },
  {
   "cell_type": "markdown",
   "metadata": {},
   "source": [
    "## Discussion\n",
    "\n",
    "$$\\sum_{j}W_{7,j}=4.546, \\sum_{j}W_{15,j}=3.169, \\sum_{j} W_{24,j}=1.433$$\n",
    "\n",
    "- $\\sum_{j}W_{7,j}$: there are 4.546 hitters expected until the half inning over while two teamers are on bases 2 and 3 respectively.\n",
    "- $\\sum_{j}W_{15,j}$: : there are 3.169 hitters expected until the half inning over after 1 out while two teamers are on bases 2 and 3 respectively.\n",
    "- $\\sum_{j}W_{24,j}$: : there are only 1.433 hitters expected until the half inning over after 2 out but three teamers are on bases 1, 2 and 3 respectively."
   ]
  },
  {
   "cell_type": "markdown",
   "metadata": {},
   "source": [
    "## Problems\n",
    "\n",
    "1). How many would hitter be in half inn from the following data (2009 postseason)?<br>\n",
    "2). Suppose that during of the fifth half-inning, the team A is still two runs behind but there are two runners on base 2 and 3 . Now the pitcher is at bat next. How do you to make decision if you were the manager? \n"
   ]
  },
  {
   "cell_type": "markdown",
   "metadata": {},
   "source": [
    "## Another Interesting Concern\n",
    "\n",
    "The most concerned is \n",
    "```\n",
    "How about the expected final score?\n",
    "```\n",
    "For instance, the expected score for state 10 (1,1), after one run can be calculated  by the following:\n",
    "$$ R_{1,1}^{1s}=1\\times P_{1,1}+0\\times(1-P_{1,1})=0.023$$\n",
    "i.e. home run in this case."
   ]
  },
  {
   "cell_type": "markdown",
   "metadata": {},
   "source": [
    "## Example\n",
    " \n",
    "The case of one step from state 18 (1.2), one on base and 2 outs:\n",
    "\n",
    "                Next State    score(s)\n",
    "     18 (1,2)    17 (0,2)        2\n",
    "                 18 (1,2)        1\n",
    "                 19 (2,2)        1\n",
    "                 20 (3,2)        1\n",
    " \n",
    "other steps get zero. And the Expected score is:\n",
    "$$ R_{18,1}^{1s}= 2\\times P_{18,17}+1\\times (P_{18,18}+P_{18,19}+P_{18,20})=0.13$$"
   ]
  },
  {
   "cell_type": "markdown",
   "metadata": {},
   "source": [
    "## Matrix $R^{1s}$\n",
    "---\n",
    "\n",
    " $R^{1s}_{i,j}$: the expected scoring from $i$-state to $j$-state after 1 run."
   ]
  },
  {
   "cell_type": "code",
   "execution_count": 289,
   "metadata": {
    "collapsed": true
   },
   "outputs": [],
   "source": [
    "R=np.matrix([[0.023],[0.087],[0.105],[0.667],[0.455],[0.5],[0.625],[0.286],\n",
    "             [0.035],[0.049],[0.097],[0.786],[0.219],[0.833],[0.667],[0.5],\n",
    "             [0.039],[0.129],[0.173],[0.167],[0.329],[0.217],[0.273],[0.457]])"
   ]
  },
  {
   "cell_type": "code",
   "execution_count": 295,
   "metadata": {
    "collapsed": false
   },
   "outputs": [
    {
     "data": {
      "text/html": [
       "<div align=\"center\"><table><tr><th>State/Scores</th><th><div align=\"center\">Expected Scores</div></th><th>State/Scores</th><th><div align=\"center\">Expected Scores</div></th><th>State/Scores</th><th><div align=\"center\">Expected Scores</div></th></tr><tr><td><div align=\"center\">1 (0,0) (0 out)</div></td><td><div align=\"center\"> 0.023 </div></td><td><div align=\"center\">9 (0,1) (1 out)</div></td><td><div align=\"center\"> 0.035 </div></td><td><div align=\"center\">17 (0,2) (2 out)</div></td><td><div align=\"center\"> 0.039 </div></td></tr><tr><td><div align=\"center\">2 (1,0) (0 out)</div></td><td><div align=\"center\"> 0.087 </div></td><td><div align=\"center\">10 (1,1) (1 out)</div></td><td><div align=\"center\"> 0.049 </div></td><td><div align=\"center\">18 (1,2) (2 out)</div></td><td><div align=\"center\"> 0.129 </div></td></tr><tr><td><div align=\"center\">3 (2,0) (0 out)</div></td><td><div align=\"center\"> 0.105 </div></td><td><div align=\"center\">11 (2,1) (1 out)</div></td><td><div align=\"center\"> 0.097 </div></td><td><div align=\"center\">19 (2,2) (2 out)</div></td><td><div align=\"center\"> 0.173 </div></td></tr><tr><td><div align=\"center\">4 (3,0) (0 out)</div></td><td><div align=\"center\"> 0.667 </div></td><td><div align=\"center\">12 (3,1) (1 out)</div></td><td><div align=\"center\"> 0.786 </div></td><td><div align=\"center\">20 (3,2) (2 out)</div></td><td><div align=\"center\"> 0.167 </div></td></tr><tr><td><div align=\"center\">5 (12,0) (0 out)</div></td><td><div align=\"center\"> 0.455 </div></td><td><div align=\"center\">13 (12,1) (1 out)</div></td><td><div align=\"center\"> 0.219 </div></td><td><div align=\"center\">21 (12,2) (2 out)</div></td><td><div align=\"center\"> 0.329 </div></td></tr><tr><td><div align=\"center\">6 (13,0) (0 out)</div></td><td><div align=\"center\"> 0.500 </div></td><td><div align=\"center\">14 (13,1) (1 out)</div></td><td><div align=\"center\"> 0.833 </div></td><td><div align=\"center\">22 (13,2) (2 out)</div></td><td><div align=\"center\"> 0.217 </div></td></tr><tr><td><div align=\"center\">7 (23,0) (0 out)</div></td><td><div align=\"center\"> 0.625 </div></td><td><div align=\"center\">15 (23,1) (1 out)</div></td><td><div align=\"center\"> 0.667 </div></td><td><div align=\"center\">23 (23,2) (2 out)</div></td><td><div align=\"center\"> 0.273 </div></td></tr><tr><td><div align=\"center\">8 (123,0) (0 out)</div></td><td><div align=\"center\"> 0.286 </div></td><td><div align=\"center\">16 (123,1) (1 out)</div></td><td><div align=\"center\"> 0.500 </div></td><td><div align=\"center\">24 (123,2) (2 out)</div></td><td><div align=\"center\"> 0.457 </div></td></tr></table></div>"
      ],
      "text/plain": [
       "<IPython.core.display.HTML object>"
      ]
     },
     "execution_count": 295,
     "metadata": {},
     "output_type": "execute_result"
    }
   ],
   "source": [
    "printWR(R)"
   ]
  },
  {
   "cell_type": "markdown",
   "metadata": {},
   "source": [
    "## Run Potential Matrix\n",
    "\n",
    "$RP=W\\times R=(W_{i,j})(R^{1s}_{j,1})$\n",
    "\n",
    "Expected scores in one game = expected hitter $\\times$ expected scores\n"
   ]
  },
  {
   "cell_type": "markdown",
   "metadata": {},
   "source": [
    "## Data of $W\\times R$   "
   ]
  },
  {
   "cell_type": "code",
   "execution_count": 293,
   "metadata": {
    "collapsed": false,
    "slideshow": {
     "slide_type": "subslide"
    }
   },
   "outputs": [],
   "source": [
    "def printWR(P):\n",
    "    l='<div align=\"center\"><table>';\n",
    "    row=P.shape[0]\n",
    "    col=P.shape[1]\n",
    "    i=j=k=0;\n",
    "    l=l+\"<tr>\"\n",
    "    for k in range(3):\n",
    "          k1=k+1\n",
    "          l=l+\"<th>State/Scores</th>\"  \n",
    "          l=l+'<th><div align=\"center\">Expected Scores</div></th>'\n",
    "          k++1\n",
    "    l=l+'</tr>'    \n",
    "    for i in range(1,int((row+1)/3)+1):\n",
    "        l=l+'<tr><td><div align=\"center\">%s %s (%d out)</div></td>' %(i,state[i-1],np.float((i-1)/8))\n",
    "        for j in range(1,col+1):\n",
    "            if (P[i-1,j-1]<1e-6):\n",
    "                P[i-1,j-1]=0\n",
    "            l=l+'<td><div align=\"center\"> %.3f </div></td>' %(P[i-1,j-1]);\n",
    "            j++1\n",
    "        l=l+'<td><div align=\"center\">%s %s (%d out)</div></td>' %(8+i,state[8+i-1],np.float((8+i-1)/8))\n",
    "        for j in range(1,col+1):\n",
    "            if (P[i-1,j-1]<1e-6):\n",
    "                P[i-1,j-1]=0\n",
    "            l=l+'<td><div align=\"center\"> %.3f </div></td>' %(P[8+i-1,j-1]);\n",
    "            j++1\n",
    "        l=l+'<td><div align=\"center\">%s %s (%d out)</div></td>' %(16+i,state[16+i-1],np.float((16+i-1)/8))\n",
    "        for j in range(1,col+1):\n",
    "            if (P[i-1,j-1]<1e-6):\n",
    "                P[i-1,j-1]=0\n",
    "            l=l+'<td><div align=\"center\"> %.3f </div></td>' %(P[16+i-1,j-1]);\n",
    "            j++1\n",
    "        l=l+\"</tr>\"\n",
    "        i++1\n",
    "    l=l+\"</table></div>\"\n",
    "    return HTML(l)"
   ]
  },
  {
   "cell_type": "code",
   "execution_count": 294,
   "metadata": {
    "collapsed": false
   },
   "outputs": [
    {
     "data": {
      "text/html": [
       "<div align=\"center\"><table><tr><th>State/Scores</th><th><div align=\"center\">Expected Scores</div></th><th>State/Scores</th><th><div align=\"center\">Expected Scores</div></th><th>State/Scores</th><th><div align=\"center\">Expected Scores</div></th></tr><tr><td><div align=\"center\">1 (0,0) (0 out)</div></td><td><div align=\"center\"> 0.490 </div></td><td><div align=\"center\">9 (0,1) (1 out)</div></td><td><div align=\"center\"> 0.263 </div></td><td><div align=\"center\">17 (0,2) (2 out)</div></td><td><div align=\"center\"> 0.125 </div></td></tr><tr><td><div align=\"center\">2 (1,0) (0 out)</div></td><td><div align=\"center\"> 0.997 </div></td><td><div align=\"center\">10 (1,1) (1 out)</div></td><td><div align=\"center\"> 0.431 </div></td><td><div align=\"center\">18 (1,2) (2 out)</div></td><td><div align=\"center\"> 0.267 </div></td></tr><tr><td><div align=\"center\">3 (2,0) (0 out)</div></td><td><div align=\"center\"> 1.010 </div></td><td><div align=\"center\">11 (2,1) (1 out)</div></td><td><div align=\"center\"> 0.628 </div></td><td><div align=\"center\">19 (2,2) (2 out)</div></td><td><div align=\"center\"> 0.332 </div></td></tr><tr><td><div align=\"center\">4 (3,0) (0 out)</div></td><td><div align=\"center\"> 1.758 </div></td><td><div align=\"center\">12 (3,1) (1 out)</div></td><td><div align=\"center\"> 1.280 </div></td><td><div align=\"center\">20 (3,2) (2 out)</div></td><td><div align=\"center\"> 0.280 </div></td></tr><tr><td><div align=\"center\">5 (12,0) (0 out)</div></td><td><div align=\"center\"> 1.400 </div></td><td><div align=\"center\">13 (12,1) (1 out)</div></td><td><div align=\"center\"> 0.757 </div></td><td><div align=\"center\">21 (12,2) (2 out)</div></td><td><div align=\"center\"> 0.497 </div></td></tr><tr><td><div align=\"center\">6 (13,0) (0 out)</div></td><td><div align=\"center\"> 1.679 </div></td><td><div align=\"center\">14 (13,1) (1 out)</div></td><td><div align=\"center\"> 1.340 </div></td><td><div align=\"center\">22 (13,2) (2 out)</div></td><td><div align=\"center\"> 0.377 </div></td></tr><tr><td><div align=\"center\">7 (23,0) (0 out)</div></td><td><div align=\"center\"> 1.869 </div></td><td><div align=\"center\">15 (23,1) (1 out)</div></td><td><div align=\"center\"> 1.348 </div></td><td><div align=\"center\">23 (23,2) (2 out)</div></td><td><div align=\"center\"> 0.533 </div></td></tr><tr><td><div align=\"center\">8 (123,0) (0 out)</div></td><td><div align=\"center\"> 1.274 </div></td><td><div align=\"center\">16 (123,1) (1 out)</div></td><td><div align=\"center\"> 1.113 </div></td><td><div align=\"center\">24 (123,2) (2 out)</div></td><td><div align=\"center\"> 0.612 </div></td></tr></table></div>"
      ],
      "text/plain": [
       "<IPython.core.display.HTML object>"
      ]
     },
     "execution_count": 294,
     "metadata": {},
     "output_type": "execute_result"
    }
   ],
   "source": [
    "printWR(W*R)"
   ]
  },
  {
   "cell_type": "markdown",
   "metadata": {},
   "source": [
    "## Tseng's Playbook\n",
    "\n",
    "曾紀恩被人所熟知的戰術 : 在無人出局一壘有人的狀態下,命令打者以犧牲短打來將跑者送到二壘。二壘有人一出局後的兩個打席,若有一支安打就有機會得分。相對地,無人出局一壘有人,想要得分,好像要在三個打席中出現兩支安打才行。\n",
    "\n",
    "Is it reasonable?\n",
    "\n",
    "Answer: Tseng's playbook gets 0.628 (**RP(2,1)**, 1 0ut and one on two base) smarller than 0.997 (**RP(1,0)**, no out and one on base 1). "
   ]
  },
  {
   "cell_type": "markdown",
   "metadata": {
    "collapsed": true
   },
   "source": [
    "Discrete-time Markov chain Simulation\n",
    "---\n",
    "Suppose that we have some results about Markov chains, how could we confirm these facts by experiments? For instance, to describe the fact about the drunkard falling valley, should we let them to test?\n",
    "\n",
    "Monte-Carlo simulation can take over the risk to make experiment safely, at least no one hurt."
   ]
  },
  {
   "cell_type": "code",
   "execution_count": 1,
   "metadata": {
    "collapsed": true
   },
   "outputs": [],
   "source": [
    "%matplotlib inline\n",
    "import matplotlib.pylab as plt"
   ]
  },
  {
   "cell_type": "code",
   "execution_count": 3,
   "metadata": {
    "collapsed": true
   },
   "outputs": [],
   "source": [
    "N=10\n",
    "nsteps = 100\n",
    "x = np.zeros(nsteps)\n",
    "x[0] = 5"
   ]
  },
  {
   "cell_type": "markdown",
   "metadata": {},
   "source": [
    "Go left if the random uniform data $<0.5$ otherwise go right."
   ]
  },
  {
   "cell_type": "code",
   "execution_count": 4,
   "metadata": {
    "collapsed": false
   },
   "outputs": [],
   "source": [
    "for t in range(nsteps - 1):\n",
    "    if 0 < x[t] < N:\n",
    "        if (np.random.rand()>0.5):\n",
    "            x[t+1] = x[t]+1\n",
    "        else:\n",
    "            x[t+1] = x[t]-1\n",
    "    # The evolution stops if we reach $0$ or $N$.\n",
    "    else:\n",
    "        x[t+1] = x[t]"
   ]
  },
  {
   "cell_type": "code",
   "execution_count": 355,
   "metadata": {
    "collapsed": false
   },
   "outputs": [
    {
     "data": {
      "image/png": "[encoded data removed]",
      "text/plain": [
       "<matplotlib.figure.Figure at 0x108579c88>"
      ]
     },
     "metadata": {},
     "output_type": "display_data"
    }
   ],
   "source": [
    "plt.figure(figsize=(6,3));\n",
    "plt.ylim(0,10)\n",
    "plt.plot(x);"
   ]
  },
  {
   "cell_type": "code",
   "execution_count": 5,
   "metadata": {
    "collapsed": true
   },
   "outputs": [],
   "source": [
    "def BDMC(x0,N=100,nsteps=1000):\n",
    "    x = np.zeros(nsteps)\n",
    "    x[0] = x0\n",
    "    for t in range(nsteps - 1):\n",
    "        if 0 < x[t] < N:\n",
    "           if (np.random.rand()>0.5):\n",
    "              x[t+1] = x[t]+1\n",
    "           else:\n",
    "              x[t+1] = x[t]-1\n",
    "        else:\n",
    "           x[t+1] = x[t]\n",
    "    plt.figure(figsize=(6,3));\n",
    "    plt.ylim(0,np.max(x)+5)\n",
    "    plt.plot(x);\n",
    "    return x"
   ]
  },
  {
   "cell_type": "code",
   "execution_count": 6,
   "metadata": {
    "collapsed": false
   },
   "outputs": [
    {
     "data": {
      "image/png": "[encoded data removed]",
      "text/plain": [
       "<matplotlib.figure.Figure at 0x107dc2518>"
      ]
     },
     "metadata": {},
     "output_type": "display_data"
    }
   ],
   "source": [
    "y=BDMC(4,N=1000)"
   ]
  },
  {
   "cell_type": "markdown",
   "metadata": {},
   "source": [
    "Now, we will simulate many independent trials of this Markov chain. We could run the previous simulation with a loop, but it would be very slow (two nested for loops). Instead, we vectorize the simulation by considering all independent trials at once. There is a single loop over time. At every time step, we update all trials simultaneously with vectorized operations on vectors. The vector **x** now contains the initial position of all trials, at a particular time. At initialization time, the initial positions are set to random numbers between 0 and $N$."
   ]
  },
  {
   "cell_type": "code",
   "execution_count": 7,
   "metadata": {
    "collapsed": false
   },
   "outputs": [
    {
     "data": {
      "text/plain": [
       "array([ 4,  3,  3,  9,  2,  9,  9,  1,  4,  2,  5,  1,  4,  6,  6,  7,  5,\n",
       "        2,  3,  5,  8,  0,  9,  8,  1,  4,  4, 10,  5,  4, 10, 10,  7,  3,\n",
       "        9,  7,  8,  0,  3,  0,  3,  1,  5,  2,  2,  2,  7,  7,  3,  7,  4,\n",
       "        1,  1,  3, 10, 10,  7,  7,  5,  9,  2,  8,  6,  8,  9,  0,  0,  6,\n",
       "       10,  3, 10,  7,  1,  4,  9,  1,  2, 10,  8,  5,  7,  5,  2,  2,  8,\n",
       "        0,  6,  6,  2,  0,  6,  4,  7,  8,  1,  9,  7,  0,  1,  7])"
      ]
     },
     "execution_count": 7,
     "metadata": {},
     "output_type": "execute_result"
    }
   ],
   "source": [
    "# generated initial positions of all trials\n",
    "ntrials = 100\n",
    "x = np.random.randint(size=ntrials, \n",
    "                      low=0, high=N+1)\n",
    "x"
   ]
  },
  {
   "cell_type": "code",
   "execution_count": 21,
   "metadata": {
    "collapsed": true
   },
   "outputs": [],
   "source": [
    "def simulate(x, nsteps):\n",
    "    \"\"\"Run the simulation.\"\"\"\n",
    "    for _ in range(nsteps - 1):\n",
    "        # Which trials to update?\n",
    "        upd = (0 < x) & (x < N)\n",
    "        # In which trials go right\n",
    "        right = 1*(np.random.rand(ntrials)>0.5)\n",
    "        # In which trialsgo left\n",
    "        left = 1*(np.random.rand(ntrials)<0.5)\n",
    "        # We update position for all trials.\n",
    "        x[upd] += right[upd] - left[upd]\n",
    "    return x    "
   ]
  },
  {
   "cell_type": "code",
   "execution_count": 33,
   "metadata": {
    "collapsed": true
   },
   "outputs": [],
   "source": [
    "bins = np.linspace(0, N, 25);"
   ]
  },
  {
   "cell_type": "code",
   "execution_count": 47,
   "metadata": {
    "collapsed": false
   },
   "outputs": [
    {
     "data": {
      "image/png": "[encoded data removed]",
      "text/plain": [
       "<matplotlib.figure.Figure at 0x10894f940>"
      ]
     },
     "metadata": {},
     "output_type": "display_data"
    }
   ],
   "source": [
    "plt.figure(figsize=(16,4));\n",
    "nsteps_list = [10,100,1000]\n",
    "x = np.random.randint(size=ntrials, \n",
    "                      low=0, high=N+1)\n",
    "z=x/ntrials\n",
    "plt.subplot(1, len(nsteps_list)+1, 1);\n",
    "plt.hist(x, bins=bins);\n",
    "plt.title(\"Initial positions of 100 trials\");\n",
    "plt.xlim(0,10)\n",
    "plt.ylim(0,60)\n",
    "plt.ylabel(\"Number of Trials\");\n",
    "for i, nsteps in enumerate(nsteps_list):\n",
    "    plt.subplot(1, len(nsteps_list)+1, i + 2);\n",
    "    y=simulate(x, nsteps)\n",
    "    plt.hist(y, bins=bins);\n",
    "    #plt.step(x)\n",
    "    plt.xlim(0,10)\n",
    "    plt.ylim(0,60)\n",
    "    plt.xlabel(\"Distribution of States\");\n",
    "    #if i == 0:\n",
    "    #    plt.ylabel(\"number of trials\");\n",
    "    plt.title(\"After {0:d} steps\".format(nsteps));"
   ]
  },
  {
   "cell_type": "markdown",
   "metadata": {
    "collapsed": true
   },
   "source": [
    "Eventually, drunkward (  &nbsp;  &nbsp;   &nbsp;   &nbsp;    )."
   ]
  },
  {
   "cell_type": "code",
   "execution_count": null,
   "metadata": {
    "collapsed": true
   },
   "outputs": [],
   "source": []
  }
 ],
 "metadata": {
  "celltoolbar": "Slideshow",
  "kernelspec": {
   "display_name": "Python 3",
   "language": "python",
   "name": "python3"
  },
  "language_info": {
   "codemirror_mode": {
    "name": "ipython",
    "version": 3
   },
   "file_extension": ".py",
   "mimetype": "text/x-python",
   "name": "python",
   "nbconvert_exporter": "python",
   "pygments_lexer": "ipython3",
   "version": "3.4.3"
  }
 },
 "nbformat": 4,
 "nbformat_minor": 0
}
