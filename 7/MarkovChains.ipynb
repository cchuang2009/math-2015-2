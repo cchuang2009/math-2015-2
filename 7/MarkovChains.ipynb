{
 "cells": [
  {
   "cell_type": "markdown",
   "metadata": {},
   "source": [
    "# Markov Chains"
   ]
  },
  {
   "cell_type": "markdown",
   "metadata": {},
   "source": [
    "##Overview\n",
    "\n",
    "Markov chains are one of the most fundamental classes of stochastic processes\n",
    "\n",
    "Attributes\n",
    "\n",
    "1. simple, flexible and supported by many elegant theoretical results\n",
    "2. valuable for building intuition about random dynamic models\n",
    "3. very useful in their own right\n",
    "\n",
    "Reference\n",
    "\n",
    "    1. Thomas J. Sargent and John Stachurski, http://quant-econ.net\n",
    "    2. Richard Weber, http://www.statslab.cam.ac.uk/~rrw1/markov\n",
    "    3. Eugenia Stoimenova, http://www.math.bas.bg/~jeni/\n",
    "    4. http://www.tcs.hut.fi/Studies\n",
    "    5. http://steep.inrialpes.fr/~Arnaud\n",
    "    6. http://www.philol.msu.ru/~lex/khmelev/published/llc/khmelev.html\n",
    "    7. 李中傑, 棒球比賽宛如是一個馬可夫過程, 真理大學\n",
    "\n",
    "\n",
    "   \n",
    "<div align=\"center\"> Money Ball<br>\n",
    "<audio controls=\"\" src=\"audio/show.wav\">\n",
    "</audio></div>"
   ]
  },
  {
   "cell_type": "code",
   "execution_count": 1,
   "metadata": {
    "collapsed": false
   },
   "outputs": [],
   "source": [
    "import numpy as np\n",
    "import scipy as sp\n",
    "from scipy.linalg import eig\n",
    "from numpy import cumsum\n",
    "from numpy.random import uniform\n",
    "from IPython.display import HTML"
   ]
  },
  {
   "cell_type": "code",
   "execution_count": 2,
   "metadata": {
    "collapsed": false
   },
   "outputs": [],
   "source": [
    "def printP(P):\n",
    "    l='<div align=\"center\"><table>';\n",
    "    row=len(P[:,0])\n",
    "    i=j=k=0;\n",
    "    l=l+\"<tr><td>State</td>\"\n",
    "    for k in range(row):\n",
    "          k1=k+1\n",
    "          l=l+'<td><div align=\"center\">%s</div></td>' % (k1)\n",
    "          k++1  \n",
    "    for i in range(1,row+1):\n",
    "        l=l+'<tr><td><div align=\"center\">%s</div></td>' %i\n",
    "        for j in range(1,row+1):\n",
    "            l=l+\"<td> %1.4f </td>\" %P[i-1,j-1];\n",
    "            j++1\n",
    "        l=l+\"</tr>\"\n",
    "        i++1\n",
    "    l=l+\"</table></div>\"\n",
    "    return HTML(l)"
   ]
  },
  {
   "cell_type": "code",
   "execution_count": 2,
   "metadata": {
    "collapsed": false
   },
   "outputs": [],
   "source": [
    "def printP2(P,states):\n",
    "    \"\"\"\n",
    "    printP2(P,states):\n",
    "      input: P, transition probability matrix,\n",
    "          states, array of all states\n",
    "      output: well-formated HTML table for the transition Probability matrix       \n",
    "    \"\"\"\n",
    "    #if states:\n",
    "    #    states=np.arange(size(P[0,]))\n",
    "    l='<div align=\"center\"><table>';\n",
    "    row=len(P[:,0])\n",
    "    i=j=k=0;\n",
    "    l=l+\"<tr><td>State</td>\";\n",
    "    #for n in arange(size(states)):\n",
    "        \n",
    "    for k in range(row):\n",
    "          l=l+'<td><div align=\"center\">%s</div></td>' % (states[k])\n",
    "          k++1\n",
    "    l=l+'</tr>';        \n",
    "    for i in range(1,row+1):\n",
    "        l=l+'<tr><td><div align=\"center\">%s</div></td>' %states[i-1]\n",
    "        for j in range(1,row+1):\n",
    "            l=l+\"<td> %1.4f </td>\" %P[i-1,j-1];\n",
    "            j++1\n",
    "        l=l+\"</tr>\"\n",
    "        i++1\n",
    "    l=l+\"</table></div>\"\n",
    "    return HTML(l)"
   ]
  },
  {
   "cell_type": "code",
   "execution_count": 3,
   "metadata": {
    "collapsed": false
   },
   "outputs": [],
   "source": [
    "def StableDist(P):\n",
    "    \"\"\"\n",
    "    StableDist(P)\n",
    "      input: P, transition probability matrix,\n",
    "      output: stable distribution \n",
    "    \"\"\"\n",
    "    evals, evecs = sp.linalg.eig(P,left=True,right=False)\n",
    "    eps=1e-6\n",
    "    ind=evals[:]>1.-eps\n",
    "    p0=np.transpose(evecs[:,ind]/sum(evecs[:,ind]))\n",
    "    return p0"
   ]
  },
  {
   "cell_type": "markdown",
   "metadata": {},
   "source": [
    "## Markov and Markov Chains\n",
    "\n",
    "Markov chains have been introduced by the Russian mathematician Andrei Andreyevich Markov in the early 1900s.\n",
    "\n"
   ]
  },
  {
   "cell_type": "markdown",
   "metadata": {},
   "source": [
    "## Introduction\n",
    "\n",
    "<div class=\"alert alert-success\" align=\"center\">\n",
    "    The system is `evolving` randomly in time\n",
    "</div>\n",
    "\n",
    "\n",
    "A system at time $t=0,1,2,\\cdots$\n",
    "The system can be in one state of a collection of possible states, e.g. **$S$={Happy,So-so,Blue}**\n",
    "The observation of the system is considered as an experience whose (random) result is the state’s system, so called stochastic process.\n",
    "\n"
   ]
  },
  {
   "cell_type": "markdown",
   "metadata": {},
   "source": [
    "##Definition\n",
    "\n",
    "A discrete time markov chain is a stochastic process modeling a sequence of random variables within a system. The likelihood of the next random variable in the sequence only depends on the current state. \n",
    "\n",
    "Formally, given a sequence of events $X_0,X_1,... X_n$ the probability of transitioning to state $i_n$ can be written as:\n",
    "\n",
    "$$P\\left\\{X_n=i_n| X_0=i_0,...,X_{n-1}=i_{n-1}\\right\\} = P\\left\\{X_n=i_n | X_{n-1}=i_{n-1} \\right\\}$$\n",
    "\n",
    "A stochastic matrix describes the dynamics of a Markov chain $\\{X_n\\}$ that takes values in the state space $S$.\n",
    "\n",
    "Formally, we say that a discrete time stochastic process $\\{X_n\\}$ taking values in S is a Markov chain with stochastic matrix $P$ (called **transtition matrix**) if \n",
    "$$   {\\cal P}\\{X_{n+1}=j|X_n=i\\}=P[i,j] $$\n",
    "\n",
    "for any $t\\ge0$ and $i,j\\in S$; here $\\cal P$ means probability.\n"
   ]
  },
  {
   "cell_type": "markdown",
   "metadata": {},
   "source": [
    "## examples :\n",
    "\n",
    "    – state of an engine (working, not working)\n",
    "    – weather (rain, cloud, snow, sun)\n",
    "    – robot’s position on a grid\n",
    "<p>\n",
    "<div class=\"alert alert-success\" align=\"center\">\n",
    "    What kind of experience do you have about Markov property? \n",
    "</div>\n"
   ]
  },
  {
   "cell_type": "markdown",
   "metadata": {},
   "source": [
    "## Stochastic Matrices\n",
    "\n",
    "A stochastic matrix (or Markov matrix) is an n×n square matrix $P=P[i,j]$ such that\n",
    "\n",
    "each element $P[i,j]$ is nonnegative, and each row $P[i,⋅]$ sums to one\n",
    "\n",
    "Let $S:=0,\\cdots,n$\n",
    "\n",
    "Evidently, each row $P[i,⋅]$ can be regarded as a distribution (probability mass function) on $S$."
   ]
  },
  {
   "cell_type": "markdown",
   "metadata": {},
   "source": [
    "##Example (Drunkard walk)\n",
    "\n",
    "A random walk on the number line where, at each step, the position may change by +1 or −1 with equal probability. From any position there are two possible transitions, to the next or previous integer. The transition probabilities depend only on the current position, not on the manner in which the position was reached. For example, the transition probabilities from 5 to 4 and 5 to 6 are both 0.5, and all other transition probabilities from 5 are 0. These probabilities are independent of whether the system was previously in 4 or 6.\n",
    "\n",
    "Suppose the the drunk man will fall down valley if he go 10 steps straightly toward east. And his first step is toward east and never go west if he is back to the intial position.\n"
   ]
  },
  {
   "cell_type": "code",
   "execution_count": 4,
   "metadata": {
    "collapsed": false
   },
   "outputs": [],
   "source": [
    "P=np.zeros((11,11))\n",
    "P=np.matrix(P)\n",
    "P[0,1]=P[10,10]=1.\n",
    "for i in np.arange(1,10):\n",
    "    P[i,i-1]=P[i,i+1]=1/2."
   ]
  },
  {
   "cell_type": "code",
   "execution_count": 5,
   "metadata": {
    "collapsed": false
   },
   "outputs": [
    {
     "data": {
      "text/plain": [
       "matrix([[ 0. ,  1. ,  0. ,  0. ,  0. ,  0. ,  0. ,  0. ,  0. ,  0. ,  0. ],\n",
       "        [ 0.5,  0. ,  0.5,  0. ,  0. ,  0. ,  0. ,  0. ,  0. ,  0. ,  0. ],\n",
       "        [ 0. ,  0.5,  0. ,  0.5,  0. ,  0. ,  0. ,  0. ,  0. ,  0. ,  0. ],\n",
       "        [ 0. ,  0. ,  0.5,  0. ,  0.5,  0. ,  0. ,  0. ,  0. ,  0. ,  0. ],\n",
       "        [ 0. ,  0. ,  0. ,  0.5,  0. ,  0.5,  0. ,  0. ,  0. ,  0. ,  0. ],\n",
       "        [ 0. ,  0. ,  0. ,  0. ,  0.5,  0. ,  0.5,  0. ,  0. ,  0. ,  0. ],\n",
       "        [ 0. ,  0. ,  0. ,  0. ,  0. ,  0.5,  0. ,  0.5,  0. ,  0. ,  0. ],\n",
       "        [ 0. ,  0. ,  0. ,  0. ,  0. ,  0. ,  0.5,  0. ,  0.5,  0. ,  0. ],\n",
       "        [ 0. ,  0. ,  0. ,  0. ,  0. ,  0. ,  0. ,  0.5,  0. ,  0.5,  0. ],\n",
       "        [ 0. ,  0. ,  0. ,  0. ,  0. ,  0. ,  0. ,  0. ,  0.5,  0. ,  0.5],\n",
       "        [ 0. ,  0. ,  0. ,  0. ,  0. ,  0. ,  0. ,  0. ,  0. ,  0. ,  1. ]])"
      ]
     },
     "execution_count": 5,
     "metadata": {},
     "output_type": "execute_result"
    }
   ],
   "source": [
    "P"
   ]
  },
  {
   "cell_type": "code",
   "execution_count": 5,
   "metadata": {
    "collapsed": false
   },
   "outputs": [
    {
     "data": {
      "text/html": [
       "<div align=\"center\"><table><tr><td>State</td><td><div align=\"center\">0</div></td><td><div align=\"center\">1</div></td><td><div align=\"center\">2</div></td><td><div align=\"center\">3</div></td><td><div align=\"center\">4</div></td><td><div align=\"center\">5</div></td><td><div align=\"center\">6</div></td><td><div align=\"center\">7</div></td><td><div align=\"center\">8</div></td><td><div align=\"center\">9</div></td><td><div align=\"center\">10</div></td></tr><tr><td><div align=\"center\">0</div></td><td> 0.0000 </td><td> 1.0000 </td><td> 0.0000 </td><td> 0.0000 </td><td> 0.0000 </td><td> 0.0000 </td><td> 0.0000 </td><td> 0.0000 </td><td> 0.0000 </td><td> 0.0000 </td><td> 0.0000 </td></tr><tr><td><div align=\"center\">1</div></td><td> 0.5000 </td><td> 0.0000 </td><td> 0.5000 </td><td> 0.0000 </td><td> 0.0000 </td><td> 0.0000 </td><td> 0.0000 </td><td> 0.0000 </td><td> 0.0000 </td><td> 0.0000 </td><td> 0.0000 </td></tr><tr><td><div align=\"center\">2</div></td><td> 0.0000 </td><td> 0.5000 </td><td> 0.0000 </td><td> 0.5000 </td><td> 0.0000 </td><td> 0.0000 </td><td> 0.0000 </td><td> 0.0000 </td><td> 0.0000 </td><td> 0.0000 </td><td> 0.0000 </td></tr><tr><td><div align=\"center\">3</div></td><td> 0.0000 </td><td> 0.0000 </td><td> 0.5000 </td><td> 0.0000 </td><td> 0.5000 </td><td> 0.0000 </td><td> 0.0000 </td><td> 0.0000 </td><td> 0.0000 </td><td> 0.0000 </td><td> 0.0000 </td></tr><tr><td><div align=\"center\">4</div></td><td> 0.0000 </td><td> 0.0000 </td><td> 0.0000 </td><td> 0.5000 </td><td> 0.0000 </td><td> 0.5000 </td><td> 0.0000 </td><td> 0.0000 </td><td> 0.0000 </td><td> 0.0000 </td><td> 0.0000 </td></tr><tr><td><div align=\"center\">5</div></td><td> 0.0000 </td><td> 0.0000 </td><td> 0.0000 </td><td> 0.0000 </td><td> 0.5000 </td><td> 0.0000 </td><td> 0.5000 </td><td> 0.0000 </td><td> 0.0000 </td><td> 0.0000 </td><td> 0.0000 </td></tr><tr><td><div align=\"center\">6</div></td><td> 0.0000 </td><td> 0.0000 </td><td> 0.0000 </td><td> 0.0000 </td><td> 0.0000 </td><td> 0.5000 </td><td> 0.0000 </td><td> 0.5000 </td><td> 0.0000 </td><td> 0.0000 </td><td> 0.0000 </td></tr><tr><td><div align=\"center\">7</div></td><td> 0.0000 </td><td> 0.0000 </td><td> 0.0000 </td><td> 0.0000 </td><td> 0.0000 </td><td> 0.0000 </td><td> 0.5000 </td><td> 0.0000 </td><td> 0.5000 </td><td> 0.0000 </td><td> 0.0000 </td></tr><tr><td><div align=\"center\">8</div></td><td> 0.0000 </td><td> 0.0000 </td><td> 0.0000 </td><td> 0.0000 </td><td> 0.0000 </td><td> 0.0000 </td><td> 0.0000 </td><td> 0.5000 </td><td> 0.0000 </td><td> 0.5000 </td><td> 0.0000 </td></tr><tr><td><div align=\"center\">9</div></td><td> 0.0000 </td><td> 0.0000 </td><td> 0.0000 </td><td> 0.0000 </td><td> 0.0000 </td><td> 0.0000 </td><td> 0.0000 </td><td> 0.0000 </td><td> 0.5000 </td><td> 0.0000 </td><td> 0.5000 </td></tr><tr><td><div align=\"center\">10</div></td><td> 0.0000 </td><td> 0.0000 </td><td> 0.0000 </td><td> 0.0000 </td><td> 0.0000 </td><td> 0.0000 </td><td> 0.0000 </td><td> 0.0000 </td><td> 0.0000 </td><td> 0.0000 </td><td> 1.0000 </td></tr></table></div>"
      ],
      "text/plain": [
       "<IPython.core.display.HTML object>"
      ]
     },
     "execution_count": 5,
     "metadata": {},
     "output_type": "execute_result"
    }
   ],
   "source": [
    "n=np.arange(np.size(P[0,]))\n",
    "printP2(P,n)"
   ]
  },
  {
   "cell_type": "code",
   "execution_count": 6,
   "metadata": {
    "collapsed": false
   },
   "outputs": [
    {
     "data": {
      "text/html": [
       "<div align=\"center\"><table><tr><td>State</td><td><div align=\"center\">0</div></td><td><div align=\"center\">1</div></td><td><div align=\"center\">2</div></td><td><div align=\"center\">3</div></td><td><div align=\"center\">4</div></td><td><div align=\"center\">5</div></td><td><div align=\"center\">6</div></td><td><div align=\"center\">7</div></td><td><div align=\"center\">8</div></td><td><div align=\"center\">9</div></td><td><div align=\"center\">10</div></td></tr><tr><td><div align=\"center\">0</div></td><td> 0.1762 </td><td> 0.0000 </td><td> 0.3203 </td><td> 0.0000 </td><td> 0.2399 </td><td> 0.0000 </td><td> 0.1457 </td><td> 0.0000 </td><td> 0.0647 </td><td> 0.0000 </td><td> 0.0532 </td></tr><tr><td><div align=\"center\">1</div></td><td> 0.0000 </td><td> 0.3364 </td><td> 0.0000 </td><td> 0.2801 </td><td> 0.0000 </td><td> 0.1928 </td><td> 0.0000 </td><td> 0.1052 </td><td> 0.0000 </td><td> 0.0323 </td><td> 0.0532 </td></tr><tr><td><div align=\"center\">2</div></td><td> 0.1602 </td><td> 0.0000 </td><td> 0.2961 </td><td> 0.0000 </td><td> 0.2330 </td><td> 0.0000 </td><td> 0.1523 </td><td> 0.0000 </td><td> 0.0728 </td><td> 0.0000 </td><td> 0.0856 </td></tr><tr><td><div align=\"center\">3</div></td><td> 0.0000 </td><td> 0.2801 </td><td> 0.0000 </td><td> 0.2490 </td><td> 0.0000 </td><td> 0.1925 </td><td> 0.0000 </td><td> 0.1200 </td><td> 0.0000 </td><td> 0.0405 </td><td> 0.1179 </td></tr><tr><td><div align=\"center\">4</div></td><td> 0.1200 </td><td> 0.0000 </td><td> 0.2330 </td><td> 0.0000 </td><td> 0.2085 </td><td> 0.0000 </td><td> 0.1602 </td><td> 0.0000 </td><td> 0.0876 </td><td> 0.0000 </td><td> 0.1907 </td></tr><tr><td><div align=\"center\">5</div></td><td> 0.0000 </td><td> 0.1928 </td><td> 0.0000 </td><td> 0.1925 </td><td> 0.0000 </td><td> 0.1762 </td><td> 0.0000 </td><td> 0.1278 </td><td> 0.0000 </td><td> 0.0471 </td><td> 0.2636 </td></tr><tr><td><div align=\"center\">6</div></td><td> 0.0728 </td><td> 0.0000 </td><td> 0.1523 </td><td> 0.0000 </td><td> 0.1602 </td><td> 0.0000 </td><td> 0.1439 </td><td> 0.0000 </td><td> 0.0873 </td><td> 0.0000 </td><td> 0.3835 </td></tr><tr><td><div align=\"center\">7</div></td><td> 0.0000 </td><td> 0.1052 </td><td> 0.0000 </td><td> 0.1200 </td><td> 0.0000 </td><td> 0.1278 </td><td> 0.0000 </td><td> 0.1034 </td><td> 0.0000 </td><td> 0.0402 </td><td> 0.5035 </td></tr><tr><td><div align=\"center\">8</div></td><td> 0.0323 </td><td> 0.0000 </td><td> 0.0728 </td><td> 0.0000 </td><td> 0.0876 </td><td> 0.0000 </td><td> 0.0873 </td><td> 0.0000 </td><td> 0.0562 </td><td> 0.0000 </td><td> 0.6636 </td></tr><tr><td><div align=\"center\">9</div></td><td> 0.0000 </td><td> 0.0323 </td><td> 0.0000 </td><td> 0.0405 </td><td> 0.0000 </td><td> 0.0471 </td><td> 0.0000 </td><td> 0.0402 </td><td> 0.0000 </td><td> 0.0160 </td><td> 0.8238 </td></tr><tr><td><div align=\"center\">10</div></td><td> 0.0000 </td><td> 0.0000 </td><td> 0.0000 </td><td> 0.0000 </td><td> 0.0000 </td><td> 0.0000 </td><td> 0.0000 </td><td> 0.0000 </td><td> 0.0000 </td><td> 0.0000 </td><td> 1.0000 </td></tr></table></div>"
      ],
      "text/plain": [
       "<IPython.core.display.HTML object>"
      ]
     },
     "execution_count": 6,
     "metadata": {},
     "output_type": "execute_result"
    }
   ],
   "source": [
    "printP2(P**20,n)"
   ]
  },
  {
   "cell_type": "code",
   "execution_count": 13,
   "metadata": {
    "collapsed": false
   },
   "outputs": [
    {
     "data": {
      "text/html": [
       "<div align=\"center\"><table><tr><td>State</td><td><div align=\"center\">0</div></td><td><div align=\"center\">1</div></td><td><div align=\"center\">2</div></td><td><div align=\"center\">3</div></td><td><div align=\"center\">4</div></td><td><div align=\"center\">5</div></td><td><div align=\"center\">6</div></td><td><div align=\"center\">7</div></td><td><div align=\"center\">8</div></td><td><div align=\"center\">9</div></td><td><div align=\"center\">10</div></td></tr><tr><td><div align=\"center\">0</div></td><td> 0.0000 </td><td> 0.0000 </td><td> 0.0000 </td><td> 0.0000 </td><td> 0.0000 </td><td> 0.0000 </td><td> 0.0000 </td><td> 0.0000 </td><td> 0.0000 </td><td> 0.0000 </td><td> 1.0000 </td></tr><tr><td><div align=\"center\">1</div></td><td> 0.0000 </td><td> 0.0000 </td><td> 0.0000 </td><td> 0.0000 </td><td> 0.0000 </td><td> 0.0000 </td><td> 0.0000 </td><td> 0.0000 </td><td> 0.0000 </td><td> 0.0000 </td><td> 1.0000 </td></tr><tr><td><div align=\"center\">2</div></td><td> 0.0000 </td><td> 0.0000 </td><td> 0.0000 </td><td> 0.0000 </td><td> 0.0000 </td><td> 0.0000 </td><td> 0.0000 </td><td> 0.0000 </td><td> 0.0000 </td><td> 0.0000 </td><td> 1.0000 </td></tr><tr><td><div align=\"center\">3</div></td><td> 0.0000 </td><td> 0.0000 </td><td> 0.0000 </td><td> 0.0000 </td><td> 0.0000 </td><td> 0.0000 </td><td> 0.0000 </td><td> 0.0000 </td><td> 0.0000 </td><td> 0.0000 </td><td> 1.0000 </td></tr><tr><td><div align=\"center\">4</div></td><td> 0.0000 </td><td> 0.0000 </td><td> 0.0000 </td><td> 0.0000 </td><td> 0.0000 </td><td> 0.0000 </td><td> 0.0000 </td><td> 0.0000 </td><td> 0.0000 </td><td> 0.0000 </td><td> 1.0000 </td></tr><tr><td><div align=\"center\">5</div></td><td> 0.0000 </td><td> 0.0000 </td><td> 0.0000 </td><td> 0.0000 </td><td> 0.0000 </td><td> 0.0000 </td><td> 0.0000 </td><td> 0.0000 </td><td> 0.0000 </td><td> 0.0000 </td><td> 1.0000 </td></tr><tr><td><div align=\"center\">6</div></td><td> 0.0000 </td><td> 0.0000 </td><td> 0.0000 </td><td> 0.0000 </td><td> 0.0000 </td><td> 0.0000 </td><td> 0.0000 </td><td> 0.0000 </td><td> 0.0000 </td><td> 0.0000 </td><td> 1.0000 </td></tr><tr><td><div align=\"center\">7</div></td><td> 0.0000 </td><td> 0.0000 </td><td> 0.0000 </td><td> 0.0000 </td><td> 0.0000 </td><td> 0.0000 </td><td> 0.0000 </td><td> 0.0000 </td><td> 0.0000 </td><td> 0.0000 </td><td> 1.0000 </td></tr><tr><td><div align=\"center\">8</div></td><td> 0.0000 </td><td> 0.0000 </td><td> 0.0000 </td><td> 0.0000 </td><td> 0.0000 </td><td> 0.0000 </td><td> 0.0000 </td><td> 0.0000 </td><td> 0.0000 </td><td> 0.0000 </td><td> 1.0000 </td></tr><tr><td><div align=\"center\">9</div></td><td> 0.0000 </td><td> 0.0000 </td><td> 0.0000 </td><td> 0.0000 </td><td> 0.0000 </td><td> 0.0000 </td><td> 0.0000 </td><td> 0.0000 </td><td> 0.0000 </td><td> 0.0000 </td><td> 1.0000 </td></tr><tr><td><div align=\"center\">10</div></td><td> 0.0000 </td><td> 0.0000 </td><td> 0.0000 </td><td> 0.0000 </td><td> 0.0000 </td><td> 0.0000 </td><td> 0.0000 </td><td> 0.0000 </td><td> 0.0000 </td><td> 0.0000 </td><td> 1.0000 </td></tr></table></div>"
      ],
      "text/plain": [
       "<IPython.core.display.HTML at 0x1073d4610>"
      ]
     },
     "execution_count": 13,
     "metadata": {},
     "output_type": "execute_result"
    }
   ],
   "source": [
    "printP2(P**1000,n)"
   ]
  },
  {
   "cell_type": "code",
   "execution_count": 15,
   "metadata": {
    "collapsed": false
   },
   "outputs": [
    {
     "data": {
      "text/html": [
       "<div align=\"center\"><table><tr><td>State</td><td><div align=\"center\">0</div></td><td><div align=\"center\">1</div></td><td><div align=\"center\">2</div></td><td><div align=\"center\">3</div></td><td><div align=\"center\">4</div></td><td><div align=\"center\">5</div></td><td><div align=\"center\">6</div></td><td><div align=\"center\">7</div></td><td><div align=\"center\">8</div></td><td><div align=\"center\">9</div></td><td><div align=\"center\">10</div></td></tr><tr><td><div align=\"center\">0</div></td><td> 0.0000 </td><td> 0.0000 </td><td> 0.0000 </td><td> 0.0000 </td><td> 0.0000 </td><td> 0.0000 </td><td> 0.0000 </td><td> 0.0000 </td><td> 0.0000 </td><td> 0.0000 </td><td> 1.0000 </td></tr><tr><td><div align=\"center\">1</div></td><td> 0.0000 </td><td> 0.0000 </td><td> 0.0000 </td><td> 0.0000 </td><td> 0.0000 </td><td> 0.0000 </td><td> 0.0000 </td><td> 0.0000 </td><td> 0.0000 </td><td> 0.0000 </td><td> 1.0000 </td></tr><tr><td><div align=\"center\">2</div></td><td> 0.0000 </td><td> 0.0000 </td><td> 0.0000 </td><td> 0.0000 </td><td> 0.0000 </td><td> 0.0000 </td><td> 0.0000 </td><td> 0.0000 </td><td> 0.0000 </td><td> 0.0000 </td><td> 1.0000 </td></tr><tr><td><div align=\"center\">3</div></td><td> 0.0000 </td><td> 0.0000 </td><td> 0.0000 </td><td> 0.0000 </td><td> 0.0000 </td><td> 0.0000 </td><td> 0.0000 </td><td> 0.0000 </td><td> 0.0000 </td><td> 0.0000 </td><td> 1.0000 </td></tr><tr><td><div align=\"center\">4</div></td><td> 0.0000 </td><td> 0.0000 </td><td> 0.0000 </td><td> 0.0000 </td><td> 0.0000 </td><td> 0.0000 </td><td> 0.0000 </td><td> 0.0000 </td><td> 0.0000 </td><td> 0.0000 </td><td> 1.0000 </td></tr><tr><td><div align=\"center\">5</div></td><td> 0.0000 </td><td> 0.0000 </td><td> 0.0000 </td><td> 0.0000 </td><td> 0.0000 </td><td> 0.0000 </td><td> 0.0000 </td><td> 0.0000 </td><td> 0.0000 </td><td> 0.0000 </td><td> 1.0000 </td></tr><tr><td><div align=\"center\">6</div></td><td> 0.0000 </td><td> 0.0000 </td><td> 0.0000 </td><td> 0.0000 </td><td> 0.0000 </td><td> 0.0000 </td><td> 0.0000 </td><td> 0.0000 </td><td> 0.0000 </td><td> 0.0000 </td><td> 1.0000 </td></tr><tr><td><div align=\"center\">7</div></td><td> 0.0000 </td><td> 0.0000 </td><td> 0.0000 </td><td> 0.0000 </td><td> 0.0000 </td><td> 0.0000 </td><td> 0.0000 </td><td> 0.0000 </td><td> 0.0000 </td><td> 0.0000 </td><td> 1.0000 </td></tr><tr><td><div align=\"center\">8</div></td><td> 0.0000 </td><td> 0.0000 </td><td> 0.0000 </td><td> 0.0000 </td><td> 0.0000 </td><td> 0.0000 </td><td> 0.0000 </td><td> 0.0000 </td><td> 0.0000 </td><td> 0.0000 </td><td> 1.0000 </td></tr><tr><td><div align=\"center\">9</div></td><td> 0.0000 </td><td> 0.0000 </td><td> 0.0000 </td><td> 0.0000 </td><td> 0.0000 </td><td> 0.0000 </td><td> 0.0000 </td><td> 0.0000 </td><td> 0.0000 </td><td> 0.0000 </td><td> 1.0000 </td></tr><tr><td><div align=\"center\">10</div></td><td> 0.0000 </td><td> 0.0000 </td><td> 0.0000 </td><td> 0.0000 </td><td> 0.0000 </td><td> 0.0000 </td><td> 0.0000 </td><td> 0.0000 </td><td> 0.0000 </td><td> 0.0000 </td><td> 1.0000 </td></tr></table></div>"
      ],
      "text/plain": [
       "<IPython.core.display.HTML at 0x1073d4490>"
      ]
     },
     "execution_count": 15,
     "metadata": {},
     "output_type": "execute_result"
    }
   ],
   "source": [
    "printP2(P**1001,n)"
   ]
  },
  {
   "cell_type": "markdown",
   "metadata": {},
   "source": [
    "## Discussions\n",
    "\n",
    "1. How do you explain the reason why the values at the $P[0,0]$ of the last results are so different with respect to anther? \n",
    "2. Eventually, the drunkard would fall down the valley, refenence the following stable discussion."
   ]
  },
  {
   "cell_type": "code",
   "execution_count": 10,
   "metadata": {
    "collapsed": false
   },
   "outputs": [
    {
     "data": {
      "text/plain": [
       "array([[ 0.,  0.,  0.,  0.,  0.,  0.,  0.,  0.,  0.,  0.,  1.]])"
      ]
     },
     "execution_count": 10,
     "metadata": {},
     "output_type": "execute_result"
    }
   ],
   "source": [
    "StableDist(P)"
   ]
  },
  {
   "cell_type": "code",
   "execution_count": 13,
   "metadata": {
    "collapsed": false
   },
   "outputs": [
    {
     "data": {
      "text/html": [
       "<div align=\"center\"><table><tr><td>State</td><td><div align=\"center\">0</div></td><td><div align=\"center\">1</div></td><td><div align=\"center\">2</div></td><td><div align=\"center\">3</div></td><td><div align=\"center\">4</div></td><td><div align=\"center\">5</div></td><td><div align=\"center\">6</div></td><td><div align=\"center\">7</div></td><td><div align=\"center\">8</div></td><td><div align=\"center\">9</div></td><td><div align=\"center\">10</div></td></tr><tr><td><div align=\"center\">0</div></td><td> 0.0579 </td><td> 0.0000 </td><td> 0.1102 </td><td> 0.0000 </td><td> 0.0938 </td><td> 0.0000 </td><td> 0.0681 </td><td> 0.0000 </td><td> 0.0358 </td><td> 0.0000 </td><td> 0.6341 </td></tr><tr><td><div align=\"center\">1</div></td><td> 0.0000 </td><td> 0.1131 </td><td> 0.0000 </td><td> 0.1020 </td><td> 0.0000 </td><td> 0.0809 </td><td> 0.0000 </td><td> 0.0520 </td><td> 0.0000 </td><td> 0.0179 </td><td> 0.6341 </td></tr><tr><td><div align=\"center\">2</div></td><td> 0.0551 </td><td> 0.0000 </td><td> 0.1048 </td><td> 0.0000 </td><td> 0.0892 </td><td> 0.0000 </td><td> 0.0648 </td><td> 0.0000 </td><td> 0.0341 </td><td> 0.0000 </td><td> 0.6521 </td></tr><tr><td><div align=\"center\">3</div></td><td> 0.0000 </td><td> 0.1020 </td><td> 0.0000 </td><td> 0.0920 </td><td> 0.0000 </td><td> 0.0730 </td><td> 0.0000 </td><td> 0.0469 </td><td> 0.0000 </td><td> 0.0162 </td><td> 0.6700 </td></tr><tr><td><div align=\"center\">4</div></td><td> 0.0469 </td><td> 0.0000 </td><td> 0.0892 </td><td> 0.0000 </td><td> 0.0759 </td><td> 0.0000 </td><td> 0.0551 </td><td> 0.0000 </td><td> 0.0290 </td><td> 0.0000 </td><td> 0.7040 </td></tr><tr><td><div align=\"center\">5</div></td><td> 0.0000 </td><td> 0.0809 </td><td> 0.0000 </td><td> 0.0730 </td><td> 0.0000 </td><td> 0.0579 </td><td> 0.0000 </td><td> 0.0372 </td><td> 0.0000 </td><td> 0.0128 </td><td> 0.7381 </td></tr><tr><td><div align=\"center\">6</div></td><td> 0.0341 </td><td> 0.0000 </td><td> 0.0648 </td><td> 0.0000 </td><td> 0.0551 </td><td> 0.0000 </td><td> 0.0400 </td><td> 0.0000 </td><td> 0.0211 </td><td> 0.0000 </td><td> 0.7850 </td></tr><tr><td><div align=\"center\">7</div></td><td> 0.0000 </td><td> 0.0520 </td><td> 0.0000 </td><td> 0.0469 </td><td> 0.0000 </td><td> 0.0372 </td><td> 0.0000 </td><td> 0.0239 </td><td> 0.0000 </td><td> 0.0082 </td><td> 0.8318 </td></tr><tr><td><div align=\"center\">8</div></td><td> 0.0179 </td><td> 0.0000 </td><td> 0.0341 </td><td> 0.0000 </td><td> 0.0290 </td><td> 0.0000 </td><td> 0.0211 </td><td> 0.0000 </td><td> 0.0111 </td><td> 0.0000 </td><td> 0.8869 </td></tr><tr><td><div align=\"center\">9</div></td><td> 0.0000 </td><td> 0.0179 </td><td> 0.0000 </td><td> 0.0162 </td><td> 0.0000 </td><td> 0.0128 </td><td> 0.0000 </td><td> 0.0082 </td><td> 0.0000 </td><td> 0.0028 </td><td> 0.9421 </td></tr><tr><td><div align=\"center\">10</div></td><td> 0.0000 </td><td> 0.0000 </td><td> 0.0000 </td><td> 0.0000 </td><td> 0.0000 </td><td> 0.0000 </td><td> 0.0000 </td><td> 0.0000 </td><td> 0.0000 </td><td> 0.0000 </td><td> 1.0000 </td></tr></table></div>"
      ],
      "text/plain": [
       "<IPython.core.display.HTML at 0x104ee6690>"
      ]
     },
     "execution_count": 13,
     "metadata": {},
     "output_type": "execute_result"
    }
   ],
   "source": [
    "printP2(P**100,n)"
   ]
  },
  {
   "cell_type": "code",
   "execution_count": 14,
   "metadata": {
    "collapsed": false
   },
   "outputs": [
    {
     "data": {
      "text/html": [
       "<div align=\"center\"><table><tr><td>State</td><td><div align=\"center\">0</div></td><td><div align=\"center\">1</div></td><td><div align=\"center\">2</div></td><td><div align=\"center\">3</div></td><td><div align=\"center\">4</div></td><td><div align=\"center\">5</div></td><td><div align=\"center\">6</div></td><td><div align=\"center\">7</div></td><td><div align=\"center\">8</div></td><td><div align=\"center\">9</div></td><td><div align=\"center\">10</div></td></tr><tr><td><div align=\"center\">0</div></td><td> 0.0000 </td><td> 0.0000 </td><td> 0.0000 </td><td> 0.0000 </td><td> 0.0000 </td><td> 0.0000 </td><td> 0.0000 </td><td> 0.0000 </td><td> 0.0000 </td><td> 0.0000 </td><td> 1.0000 </td></tr><tr><td><div align=\"center\">1</div></td><td> 0.0000 </td><td> 0.0000 </td><td> 0.0000 </td><td> 0.0000 </td><td> 0.0000 </td><td> 0.0000 </td><td> 0.0000 </td><td> 0.0000 </td><td> 0.0000 </td><td> 0.0000 </td><td> 1.0000 </td></tr><tr><td><div align=\"center\">2</div></td><td> 0.0000 </td><td> 0.0000 </td><td> 0.0000 </td><td> 0.0000 </td><td> 0.0000 </td><td> 0.0000 </td><td> 0.0000 </td><td> 0.0000 </td><td> 0.0000 </td><td> 0.0000 </td><td> 1.0000 </td></tr><tr><td><div align=\"center\">3</div></td><td> 0.0000 </td><td> 0.0000 </td><td> 0.0000 </td><td> 0.0000 </td><td> 0.0000 </td><td> 0.0000 </td><td> 0.0000 </td><td> 0.0000 </td><td> 0.0000 </td><td> 0.0000 </td><td> 1.0000 </td></tr><tr><td><div align=\"center\">4</div></td><td> 0.0000 </td><td> 0.0000 </td><td> 0.0000 </td><td> 0.0000 </td><td> 0.0000 </td><td> 0.0000 </td><td> 0.0000 </td><td> 0.0000 </td><td> 0.0000 </td><td> 0.0000 </td><td> 1.0000 </td></tr><tr><td><div align=\"center\">5</div></td><td> 0.0000 </td><td> 0.0000 </td><td> 0.0000 </td><td> 0.0000 </td><td> 0.0000 </td><td> 0.0000 </td><td> 0.0000 </td><td> 0.0000 </td><td> 0.0000 </td><td> 0.0000 </td><td> 1.0000 </td></tr><tr><td><div align=\"center\">6</div></td><td> 0.0000 </td><td> 0.0000 </td><td> 0.0000 </td><td> 0.0000 </td><td> 0.0000 </td><td> 0.0000 </td><td> 0.0000 </td><td> 0.0000 </td><td> 0.0000 </td><td> 0.0000 </td><td> 1.0000 </td></tr><tr><td><div align=\"center\">7</div></td><td> 0.0000 </td><td> 0.0000 </td><td> 0.0000 </td><td> 0.0000 </td><td> 0.0000 </td><td> 0.0000 </td><td> 0.0000 </td><td> 0.0000 </td><td> 0.0000 </td><td> 0.0000 </td><td> 1.0000 </td></tr><tr><td><div align=\"center\">8</div></td><td> 0.0000 </td><td> 0.0000 </td><td> 0.0000 </td><td> 0.0000 </td><td> 0.0000 </td><td> 0.0000 </td><td> 0.0000 </td><td> 0.0000 </td><td> 0.0000 </td><td> 0.0000 </td><td> 1.0000 </td></tr><tr><td><div align=\"center\">9</div></td><td> 0.0000 </td><td> 0.0000 </td><td> 0.0000 </td><td> 0.0000 </td><td> 0.0000 </td><td> 0.0000 </td><td> 0.0000 </td><td> 0.0000 </td><td> 0.0000 </td><td> 0.0000 </td><td> 1.0000 </td></tr><tr><td><div align=\"center\">10</div></td><td> 0.0000 </td><td> 0.0000 </td><td> 0.0000 </td><td> 0.0000 </td><td> 0.0000 </td><td> 0.0000 </td><td> 0.0000 </td><td> 0.0000 </td><td> 0.0000 </td><td> 0.0000 </td><td> 1.0000 </td></tr></table></div>"
      ],
      "text/plain": [
       "<IPython.core.display.HTML at 0x104ee6610>"
      ]
     },
     "execution_count": 14,
     "metadata": {},
     "output_type": "execute_result"
    }
   ],
   "source": [
    "printP2(P**1001,n)"
   ]
  },
  {
   "cell_type": "markdown",
   "metadata": {},
   "source": [
    "##Question:\n",
    "\n",
    "What's your conclusion about the last two results?"
   ]
  },
  {
   "cell_type": "code",
   "execution_count": null,
   "metadata": {
    "collapsed": false
   },
   "outputs": [],
   "source": []
  },
  {
   "cell_type": "markdown",
   "metadata": {},
   "source": [
    "## Note:\n",
    "Numpy provides two kinds of data type to store vector/matrix data, **array() and matrix()**. However, there are some differences between these types, especially the algebraic calculation."
   ]
  },
  {
   "cell_type": "markdown",
   "metadata": {},
   "source": [
    "<h3> Drunkard Example again</h3>\n",
    "Suppose that the state \"0\"  also repreents falling valley. Reconsider the example again."
   ]
  },
  {
   "cell_type": "code",
   "execution_count": 16,
   "metadata": {
    "collapsed": false
   },
   "outputs": [
    {
     "data": {
      "text/html": [
       "<div align=\"center\"><table><tr><td>State</td><td><div align=\"center\">0</div></td><td><div align=\"center\">1</div></td><td><div align=\"center\">2</div></td><td><div align=\"center\">3</div></td><td><div align=\"center\">4</div></td><td><div align=\"center\">5</div></td><td><div align=\"center\">6</div></td><td><div align=\"center\">7</div></td><td><div align=\"center\">8</div></td><td><div align=\"center\">9</div></td><td><div align=\"center\">10</div></td></tr><tr><td><div align=\"center\">0</div></td><td> 1.0000 </td><td> 0.0000 </td><td> 0.0000 </td><td> 0.0000 </td><td> 0.0000 </td><td> 0.0000 </td><td> 0.0000 </td><td> 0.0000 </td><td> 0.0000 </td><td> 0.0000 </td><td> 0.0000 </td></tr><tr><td><div align=\"center\">1</div></td><td> 0.5000 </td><td> 0.0000 </td><td> 0.5000 </td><td> 0.0000 </td><td> 0.0000 </td><td> 0.0000 </td><td> 0.0000 </td><td> 0.0000 </td><td> 0.0000 </td><td> 0.0000 </td><td> 0.0000 </td></tr><tr><td><div align=\"center\">2</div></td><td> 0.0000 </td><td> 0.5000 </td><td> 0.0000 </td><td> 0.5000 </td><td> 0.0000 </td><td> 0.0000 </td><td> 0.0000 </td><td> 0.0000 </td><td> 0.0000 </td><td> 0.0000 </td><td> 0.0000 </td></tr><tr><td><div align=\"center\">3</div></td><td> 0.0000 </td><td> 0.0000 </td><td> 0.5000 </td><td> 0.0000 </td><td> 0.5000 </td><td> 0.0000 </td><td> 0.0000 </td><td> 0.0000 </td><td> 0.0000 </td><td> 0.0000 </td><td> 0.0000 </td></tr><tr><td><div align=\"center\">4</div></td><td> 0.0000 </td><td> 0.0000 </td><td> 0.0000 </td><td> 0.5000 </td><td> 0.0000 </td><td> 0.5000 </td><td> 0.0000 </td><td> 0.0000 </td><td> 0.0000 </td><td> 0.0000 </td><td> 0.0000 </td></tr><tr><td><div align=\"center\">5</div></td><td> 0.0000 </td><td> 0.0000 </td><td> 0.0000 </td><td> 0.0000 </td><td> 0.5000 </td><td> 0.0000 </td><td> 0.5000 </td><td> 0.0000 </td><td> 0.0000 </td><td> 0.0000 </td><td> 0.0000 </td></tr><tr><td><div align=\"center\">6</div></td><td> 0.0000 </td><td> 0.0000 </td><td> 0.0000 </td><td> 0.0000 </td><td> 0.0000 </td><td> 0.5000 </td><td> 0.0000 </td><td> 0.5000 </td><td> 0.0000 </td><td> 0.0000 </td><td> 0.0000 </td></tr><tr><td><div align=\"center\">7</div></td><td> 0.0000 </td><td> 0.0000 </td><td> 0.0000 </td><td> 0.0000 </td><td> 0.0000 </td><td> 0.0000 </td><td> 0.5000 </td><td> 0.0000 </td><td> 0.5000 </td><td> 0.0000 </td><td> 0.0000 </td></tr><tr><td><div align=\"center\">8</div></td><td> 0.0000 </td><td> 0.0000 </td><td> 0.0000 </td><td> 0.0000 </td><td> 0.0000 </td><td> 0.0000 </td><td> 0.0000 </td><td> 0.5000 </td><td> 0.0000 </td><td> 0.5000 </td><td> 0.0000 </td></tr><tr><td><div align=\"center\">9</div></td><td> 0.0000 </td><td> 0.0000 </td><td> 0.0000 </td><td> 0.0000 </td><td> 0.0000 </td><td> 0.0000 </td><td> 0.0000 </td><td> 0.0000 </td><td> 0.5000 </td><td> 0.0000 </td><td> 0.5000 </td></tr><tr><td><div align=\"center\">10</div></td><td> 0.0000 </td><td> 0.0000 </td><td> 0.0000 </td><td> 0.0000 </td><td> 0.0000 </td><td> 0.0000 </td><td> 0.0000 </td><td> 0.0000 </td><td> 0.0000 </td><td> 0.0000 </td><td> 1.0000 </td></tr></table></div>"
      ],
      "text/plain": [
       "<IPython.core.display.HTML at 0x1073d4e50>"
      ]
     },
     "execution_count": 16,
     "metadata": {},
     "output_type": "execute_result"
    }
   ],
   "source": [
    "P2=P\n",
    "P2[0,0]=1.;P2[0,1]=0.;\n",
    "printP2(P2,n)"
   ]
  },
  {
   "cell_type": "code",
   "execution_count": 17,
   "metadata": {
    "collapsed": false
   },
   "outputs": [
    {
     "data": {
      "text/html": [
       "<div align=\"center\"><table><tr><td>State</td><td><div align=\"center\">0</div></td><td><div align=\"center\">1</div></td><td><div align=\"center\">2</div></td><td><div align=\"center\">3</div></td><td><div align=\"center\">4</div></td><td><div align=\"center\">5</div></td><td><div align=\"center\">6</div></td><td><div align=\"center\">7</div></td><td><div align=\"center\">8</div></td><td><div align=\"center\">9</div></td><td><div align=\"center\">10</div></td></tr><tr><td><div align=\"center\">0</div></td><td> 1.0000 </td><td> 0.0000 </td><td> 0.0000 </td><td> 0.0000 </td><td> 0.0000 </td><td> 0.0000 </td><td> 0.0000 </td><td> 0.0000 </td><td> 0.0000 </td><td> 0.0000 </td><td> 0.0000 </td></tr><tr><td><div align=\"center\">1</div></td><td> 0.9000 </td><td> 0.0000 </td><td> 0.0000 </td><td> 0.0000 </td><td> 0.0000 </td><td> 0.0000 </td><td> 0.0000 </td><td> 0.0000 </td><td> 0.0000 </td><td> 0.0000 </td><td> 0.1000 </td></tr><tr><td><div align=\"center\">2</div></td><td> 0.8000 </td><td> 0.0000 </td><td> 0.0000 </td><td> 0.0000 </td><td> 0.0000 </td><td> 0.0000 </td><td> 0.0000 </td><td> 0.0000 </td><td> 0.0000 </td><td> 0.0000 </td><td> 0.2000 </td></tr><tr><td><div align=\"center\">3</div></td><td> 0.7000 </td><td> 0.0000 </td><td> 0.0000 </td><td> 0.0000 </td><td> 0.0000 </td><td> 0.0000 </td><td> 0.0000 </td><td> 0.0000 </td><td> 0.0000 </td><td> 0.0000 </td><td> 0.3000 </td></tr><tr><td><div align=\"center\">4</div></td><td> 0.6000 </td><td> 0.0000 </td><td> 0.0000 </td><td> 0.0000 </td><td> 0.0000 </td><td> 0.0000 </td><td> 0.0000 </td><td> 0.0000 </td><td> 0.0000 </td><td> 0.0000 </td><td> 0.4000 </td></tr><tr><td><div align=\"center\">5</div></td><td> 0.5000 </td><td> 0.0000 </td><td> 0.0000 </td><td> 0.0000 </td><td> 0.0000 </td><td> 0.0000 </td><td> 0.0000 </td><td> 0.0000 </td><td> 0.0000 </td><td> 0.0000 </td><td> 0.5000 </td></tr><tr><td><div align=\"center\">6</div></td><td> 0.4000 </td><td> 0.0000 </td><td> 0.0000 </td><td> 0.0000 </td><td> 0.0000 </td><td> 0.0000 </td><td> 0.0000 </td><td> 0.0000 </td><td> 0.0000 </td><td> 0.0000 </td><td> 0.6000 </td></tr><tr><td><div align=\"center\">7</div></td><td> 0.3000 </td><td> 0.0000 </td><td> 0.0000 </td><td> 0.0000 </td><td> 0.0000 </td><td> 0.0000 </td><td> 0.0000 </td><td> 0.0000 </td><td> 0.0000 </td><td> 0.0000 </td><td> 0.7000 </td></tr><tr><td><div align=\"center\">8</div></td><td> 0.2000 </td><td> 0.0000 </td><td> 0.0000 </td><td> 0.0000 </td><td> 0.0000 </td><td> 0.0000 </td><td> 0.0000 </td><td> 0.0000 </td><td> 0.0000 </td><td> 0.0000 </td><td> 0.8000 </td></tr><tr><td><div align=\"center\">9</div></td><td> 0.1000 </td><td> 0.0000 </td><td> 0.0000 </td><td> 0.0000 </td><td> 0.0000 </td><td> 0.0000 </td><td> 0.0000 </td><td> 0.0000 </td><td> 0.0000 </td><td> 0.0000 </td><td> 0.9000 </td></tr><tr><td><div align=\"center\">10</div></td><td> 0.0000 </td><td> 0.0000 </td><td> 0.0000 </td><td> 0.0000 </td><td> 0.0000 </td><td> 0.0000 </td><td> 0.0000 </td><td> 0.0000 </td><td> 0.0000 </td><td> 0.0000 </td><td> 1.0000 </td></tr></table></div>"
      ],
      "text/plain": [
       "<IPython.core.display.HTML at 0x1073d4790>"
      ]
     },
     "execution_count": 17,
     "metadata": {},
     "output_type": "execute_result"
    }
   ],
   "source": [
    "printP2(P2**1000,n)"
   ]
  },
  {
   "cell_type": "code",
   "execution_count": 13,
   "metadata": {
    "collapsed": false
   },
   "outputs": [
    {
     "data": {
      "text/html": [
       "<div align=\"center\"><table><tr><td>State</td><td><div align=\"center\">0</div></td><td><div align=\"center\">1</div></td><td><div align=\"center\">2</div></td><td><div align=\"center\">3</div></td><td><div align=\"center\">4</div></td><td><div align=\"center\">5</div></td><td><div align=\"center\">6</div></td><td><div align=\"center\">7</div></td><td><div align=\"center\">8</div></td><td><div align=\"center\">9</div></td><td><div align=\"center\">10</div></td></tr><tr><td><div align=\"center\">0</div></td><td> 1.0000 </td><td> 0.0000 </td><td> 0.0000 </td><td> 0.0000 </td><td> 0.0000 </td><td> 0.0000 </td><td> 0.0000 </td><td> 0.0000 </td><td> 0.0000 </td><td> 0.0000 </td><td> 0.0000 </td></tr><tr><td><div align=\"center\">1</div></td><td> 0.9000 </td><td> 0.0000 </td><td> 0.0000 </td><td> 0.0000 </td><td> 0.0000 </td><td> 0.0000 </td><td> 0.0000 </td><td> 0.0000 </td><td> 0.0000 </td><td> 0.0000 </td><td> 0.1000 </td></tr><tr><td><div align=\"center\">2</div></td><td> 0.8000 </td><td> 0.0000 </td><td> 0.0000 </td><td> 0.0000 </td><td> 0.0000 </td><td> 0.0000 </td><td> 0.0000 </td><td> 0.0000 </td><td> 0.0000 </td><td> 0.0000 </td><td> 0.2000 </td></tr><tr><td><div align=\"center\">3</div></td><td> 0.7000 </td><td> 0.0000 </td><td> 0.0000 </td><td> 0.0000 </td><td> 0.0000 </td><td> 0.0000 </td><td> 0.0000 </td><td> 0.0000 </td><td> 0.0000 </td><td> 0.0000 </td><td> 0.3000 </td></tr><tr><td><div align=\"center\">4</div></td><td> 0.6000 </td><td> 0.0000 </td><td> 0.0000 </td><td> 0.0000 </td><td> 0.0000 </td><td> 0.0000 </td><td> 0.0000 </td><td> 0.0000 </td><td> 0.0000 </td><td> 0.0000 </td><td> 0.4000 </td></tr><tr><td><div align=\"center\">5</div></td><td> 0.5000 </td><td> 0.0000 </td><td> 0.0000 </td><td> 0.0000 </td><td> 0.0000 </td><td> 0.0000 </td><td> 0.0000 </td><td> 0.0000 </td><td> 0.0000 </td><td> 0.0000 </td><td> 0.5000 </td></tr><tr><td><div align=\"center\">6</div></td><td> 0.4000 </td><td> 0.0000 </td><td> 0.0000 </td><td> 0.0000 </td><td> 0.0000 </td><td> 0.0000 </td><td> 0.0000 </td><td> 0.0000 </td><td> 0.0000 </td><td> 0.0000 </td><td> 0.6000 </td></tr><tr><td><div align=\"center\">7</div></td><td> 0.3000 </td><td> 0.0000 </td><td> 0.0000 </td><td> 0.0000 </td><td> 0.0000 </td><td> 0.0000 </td><td> 0.0000 </td><td> 0.0000 </td><td> 0.0000 </td><td> 0.0000 </td><td> 0.7000 </td></tr><tr><td><div align=\"center\">8</div></td><td> 0.2000 </td><td> 0.0000 </td><td> 0.0000 </td><td> 0.0000 </td><td> 0.0000 </td><td> 0.0000 </td><td> 0.0000 </td><td> 0.0000 </td><td> 0.0000 </td><td> 0.0000 </td><td> 0.8000 </td></tr><tr><td><div align=\"center\">9</div></td><td> 0.1000 </td><td> 0.0000 </td><td> 0.0000 </td><td> 0.0000 </td><td> 0.0000 </td><td> 0.0000 </td><td> 0.0000 </td><td> 0.0000 </td><td> 0.0000 </td><td> 0.0000 </td><td> 0.9000 </td></tr><tr><td><div align=\"center\">10</div></td><td> 0.0000 </td><td> 0.0000 </td><td> 0.0000 </td><td> 0.0000 </td><td> 0.0000 </td><td> 0.0000 </td><td> 0.0000 </td><td> 0.0000 </td><td> 0.0000 </td><td> 0.0000 </td><td> 1.0000 </td></tr></table></div>"
      ],
      "text/plain": [
       "<IPython.core.display.HTML at 0x104f2c5d0>"
      ]
     },
     "execution_count": 13,
     "metadata": {},
     "output_type": "execute_result"
    }
   ],
   "source": [
    "printP2(P2**1001,n)"
   ]
  },
  {
   "cell_type": "code",
   "execution_count": 31,
   "metadata": {
    "collapsed": false
   },
   "outputs": [
    {
     "data": {
      "text/plain": [
       "array([[ 1.,  0.,  0.,  0.,  0.,  0.,  0.,  0.,  0.,  0.,  0.],\n",
       "       [ 0.,  0.,  0.,  0.,  0.,  0.,  0.,  0.,  0.,  0.,  1.]])"
      ]
     },
     "execution_count": 31,
     "metadata": {},
     "output_type": "execute_result"
    }
   ],
   "source": [
    "StableDist(P)"
   ]
  },
  {
   "cell_type": "code",
   "execution_count": null,
   "metadata": {
    "collapsed": false
   },
   "outputs": [],
   "source": []
  },
  {
   "cell_type": "markdown",
   "metadata": {},
   "source": [
    "<h3> Note </h3>\n",
    "Matrices can be treated as a 2D values (data). However, matrix operations are different from general value arithmatic operations.  For instance:\n",
    "$ M\\times M=0$ does not imply $M=0$ for matrix $M$. "
   ]
  },
  {
   "cell_type": "code",
   "execution_count": 4,
   "metadata": {
    "collapsed": false
   },
   "outputs": [
    {
     "data": {
      "text/plain": [
       "(array([[ 1, -1],\n",
       "        [ 1, -1]]), matrix([[ 1, -1],\n",
       "         [ 1, -1]]))"
      ]
     },
     "execution_count": 4,
     "metadata": {},
     "output_type": "execute_result"
    }
   ],
   "source": [
    "A=np.array([[1,-1],[1,-1]])\n",
    "B=np.matrix(A)\n",
    "A,B"
   ]
  },
  {
   "cell_type": "code",
   "execution_count": 5,
   "metadata": {
    "collapsed": false
   },
   "outputs": [
    {
     "data": {
      "text/html": [
       "<div align=\"center\"><table><tr><td>State</td><td><div align=\"center\">1</div></td><td><div align=\"center\">2</div></td><tr><td><div align=\"center\">1</div></td><td> 1.0000 </td><td> 1.0000 </td></tr><tr><td><div align=\"center\">2</div></td><td> 1.0000 </td><td> 1.0000 </td></tr></table></div>"
      ],
      "text/plain": [
       "<IPython.core.display.HTML at 0x104eb2bd0>"
      ]
     },
     "execution_count": 5,
     "metadata": {},
     "output_type": "execute_result"
    }
   ],
   "source": [
    "printP(A*A)"
   ]
  },
  {
   "cell_type": "code",
   "execution_count": 6,
   "metadata": {
    "collapsed": false
   },
   "outputs": [
    {
     "data": {
      "text/html": [
       "<div align=\"center\"><table><tr><td>State</td><td><div align=\"center\">1</div></td><td><div align=\"center\">2</div></td><tr><td><div align=\"center\">1</div></td><td> 0.0000 </td><td> 0.0000 </td></tr><tr><td><div align=\"center\">2</div></td><td> 0.0000 </td><td> 0.0000 </td></tr></table></div>"
      ],
      "text/plain": [
       "<IPython.core.display.HTML at 0x104eb2e10>"
      ]
     },
     "execution_count": 6,
     "metadata": {},
     "output_type": "execute_result"
    }
   ],
   "source": [
    "printP(B*B)"
   ]
  },
  {
   "cell_type": "code",
   "execution_count": 62,
   "metadata": {
    "collapsed": false
   },
   "outputs": [],
   "source": []
  },
  {
   "cell_type": "markdown",
   "metadata": {},
   "source": [
    "## Example (Lecture or others)\n",
    "\n",
    "Arnorld, a student in the class, would be in one of four states:\n",
    "\n",
    "    1. learning\n",
    "    2. watch his facebook,\n",
    "    3. write exercise or lab report,\n",
    "    4. dozing off.\n",
    "\n",
    "Every ten minutes, Arnold can change his activity or continue the current one. Suppose that the behavior of Arnold's changing state is a process without memory.\n",
    "\n",
    "    - When he dozes off, there is 9 chances over 10 that he will not wake up the next ten minute, otherwise 1 chance over 10 that he will wake up and listen what he had lost.\n",
    "    - When he wakes up, there is 1 chance over 3 that listens lecture, and 1 chance over 3 that logins his facebook, and 1 chance over 3 that will write lab report;\n",
    "    - when teacher ask to him shutdown his cell phone, there is 3 chances over 5 that he will fall in asleep, and 2 chances over 5 that he will write his lab report.\n",
    "    - when teacher stop his writing staff, there is 1 chances over 4 that he will attend the lecture listening, and 1 chances over 2 that he will doze off.\n",
    "\n"
   ]
  },
  {
   "cell_type": "markdown",
   "metadata": {},
   "source": [
    "# Example (continued)\n",
    "\n",
    "**State $S$**: 1 for listening, 2 for using cell phone, 3 for writing, and 4 for dozzling.\n",
    "\n",
    "**The first state**: 1\n",
    "\n",
    "**Question**: After ten minutes, in what state is Arnold we can predict? How about 20 minutes? and so on?\n"
   ]
  },
  {
   "cell_type": "markdown",
   "metadata": {},
   "source": [
    "##Answer (continued)\n",
    "\n",
    "After ten minutes,\n",
    "\n",
    "1. $1\\to1$ (still listening to the lecture): 1/3\n",
    "2. $1\\to2$: 1/3\n",
    "3. $1\\to3$: 1/3\n",
    "4. $1\\to4$: 0\n",
    "\n"
   ]
  },
  {
   "cell_type": "markdown",
   "metadata": {},
   "source": [
    "##Example (continued)\n",
    "\n",
    "After the first result, the transition states from any state could be any state in $S$; the following calculation shows the probability, staring from state 1 to any states and back to state again:\n",
    "$$\n",
    "1 \\to [1,2,3,4] \\to 1\\\\\n",
    "   P(X_2=1|X_0=1)=\\sum_{i\\in S}P(X_1=i|X_0=1)\\times P(X_2=1|X_1=i)\n",
    "$$\n",
    "\n",
    "Above result describes the case that Arnold still awake and keeps on listening after two time units elapsed.\n",
    "\n",
    "<h3>Symbols</h3>\n",
    "\n",
    "$P(X_{n+1}=j|X_n=i)$: the probability of being in $i$-state at time $n+1$ given by condition which is in state $i$ at time $n$. "
   ]
  },
  {
   "cell_type": "markdown",
   "metadata": {},
   "source": [
    "##Question:\n",
    "\n",
    "1. Does this mean that the person always awakes at the first twenty minutes?\n",
    "2. How many changes does this person awake and listen to the lectecure during two hours?"
   ]
  },
  {
   "cell_type": "code",
   "execution_count": null,
   "metadata": {
    "collapsed": false
   },
   "outputs": [],
   "source": []
  },
  {
   "cell_type": "markdown",
   "metadata": {},
   "source": [
    "<div class=\"alert alert-failed\"  align=\"center\">\n",
    "\n",
    "The case becomes more complicated while time elapses!\n",
    "\n",
    "</div>\n",
    "\n",
    "The probability transtion matrix would do much help!"
   ]
  },
  {
   "cell_type": "code",
   "execution_count": 18,
   "metadata": {
    "collapsed": false
   },
   "outputs": [],
   "source": [
    "P1=np.matrix([[1/3.,1/3.,1/3.,0],[0,0,2/5.,3/5.],[1/4.,1/4.,0,1/2.],[1/10.,0,0,9/10.]])"
   ]
  },
  {
   "cell_type": "code",
   "execution_count": 66,
   "metadata": {
    "collapsed": false
   },
   "outputs": [
    {
     "data": {
      "text/html": [
       "<div align=\"center\"><table><tr><td>State</td><td><div align=\"center\">1</div></td><td><div align=\"center\">2</div></td><td><div align=\"center\">3</div></td><td><div align=\"center\">4</div></td><tr><td><div align=\"center\">1</div></td><td> 0.3333 </td><td> 0.3333 </td><td> 0.3333 </td><td> 0.0000 </td></tr><tr><td><div align=\"center\">2</div></td><td> 0.0000 </td><td> 0.0000 </td><td> 0.4000 </td><td> 0.6000 </td></tr><tr><td><div align=\"center\">3</div></td><td> 0.2500 </td><td> 0.2500 </td><td> 0.0000 </td><td> 0.5000 </td></tr><tr><td><div align=\"center\">4</div></td><td> 0.1000 </td><td> 0.0000 </td><td> 0.0000 </td><td> 0.9000 </td></tr></table></div>"
      ],
      "text/plain": [
       "<IPython.core.display.HTML at 0x7f7e75503470>"
      ]
     },
     "execution_count": 66,
     "metadata": {},
     "output_type": "execute_result"
    }
   ],
   "source": [
    "printP(P1)"
   ]
  },
  {
   "cell_type": "code",
   "execution_count": 19,
   "metadata": {
    "collapsed": false
   },
   "outputs": [
    {
     "data": {
      "text/html": [
       "<div align=\"center\"><table><tr><td>State</td><td><div align=\"center\">1</div></td><td><div align=\"center\">2</div></td><td><div align=\"center\">3</div></td><td><div align=\"center\">4</div></td><tr><td><div align=\"center\">1</div></td><td> 0.1361 </td><td> 0.0632 </td><td> 0.0708 </td><td> 0.7300 </td></tr><tr><td><div align=\"center\">2</div></td><td> 0.1360 </td><td> 0.0630 </td><td> 0.0705 </td><td> 0.7305 </td></tr><tr><td><div align=\"center\">3</div></td><td> 0.1360 </td><td> 0.0630 </td><td> 0.0706 </td><td> 0.7303 </td></tr><tr><td><div align=\"center\">4</div></td><td> 0.1360 </td><td> 0.0629 </td><td> 0.0705 </td><td> 0.7306 </td></tr></table></div>"
      ],
      "text/plain": [
       "<IPython.core.display.HTML at 0x10734fdd0>"
      ]
     },
     "execution_count": 19,
     "metadata": {},
     "output_type": "execute_result"
    }
   ],
   "source": [
    "printP(P1**10)"
   ]
  },
  {
   "cell_type": "code",
   "execution_count": 27,
   "metadata": {
    "collapsed": false
   },
   "outputs": [
    {
     "data": {
      "text/plain": [
       "array([[ 0.13602015,  0.06297229,  0.07052897,  0.73047859]])"
      ]
     },
     "execution_count": 27,
     "metadata": {},
     "output_type": "execute_result"
    }
   ],
   "source": [
    "StableDist(P1)"
   ]
  },
  {
   "cell_type": "markdown",
   "metadata": {},
   "source": [
    "<div class=\"alert alert-success\" align=\"center\">\n",
    "<b>Answer for last question<b>: Only about <code>2</code> chances over 10, he is still listening after 20 minutes.\n",
    "</div>"
   ]
  },
  {
   "cell_type": "markdown",
   "metadata": {},
   "source": [
    "<h2>Note</h2>\n",
    "$$P(X_2=1|X_0=1)= \\sum_i P(X_2=1|X_1=i)P(X_1=i|X_0=1)=\\sum_i P(X_1=1|X_0=i)P(X_1=i|X_0=1)=P^2[1,1]$$"
   ]
  },
  {
   "cell_type": "code",
   "execution_count": 69,
   "metadata": {
    "collapsed": false
   },
   "outputs": [
    {
     "data": {
      "text/html": [
       "<div align=\"center\"><table><tr><td>State</td><td><div align=\"center\">1</div></td><td><div align=\"center\">2</div></td><td><div align=\"center\">3</div></td><td><div align=\"center\">4</div></td><tr><td><div align=\"center\">1</div></td><td> 0.1361 </td><td> 0.0632 </td><td> 0.0708 </td><td> 0.7300 </td></tr><tr><td><div align=\"center\">2</div></td><td> 0.1360 </td><td> 0.0630 </td><td> 0.0705 </td><td> 0.7305 </td></tr><tr><td><div align=\"center\">3</div></td><td> 0.1360 </td><td> 0.0630 </td><td> 0.0706 </td><td> 0.7303 </td></tr><tr><td><div align=\"center\">4</div></td><td> 0.1360 </td><td> 0.0629 </td><td> 0.0705 </td><td> 0.7306 </td></tr></table></div>"
      ],
      "text/plain": [
       "<IPython.core.display.HTML at 0x7f7e755035c0>"
      ]
     },
     "execution_count": 69,
     "metadata": {},
     "output_type": "execute_result"
    }
   ],
   "source": [
    "printP(P1**10)"
   ]
  },
  {
   "cell_type": "code",
   "execution_count": 70,
   "metadata": {
    "collapsed": false
   },
   "outputs": [
    {
     "data": {
      "text/html": [
       "<div align=\"center\"><table><tr><td>State</td><td><div align=\"center\">1</div></td><td><div align=\"center\">2</div></td><td><div align=\"center\">3</div></td><td><div align=\"center\">4</div></td><tr><td><div align=\"center\">1</div></td><td> 0.1360 </td><td> 0.0630 </td><td> 0.0705 </td><td> 0.7305 </td></tr><tr><td><div align=\"center\">2</div></td><td> 0.1360 </td><td> 0.0630 </td><td> 0.0705 </td><td> 0.7305 </td></tr><tr><td><div align=\"center\">3</div></td><td> 0.1360 </td><td> 0.0630 </td><td> 0.0705 </td><td> 0.7305 </td></tr><tr><td><div align=\"center\">4</div></td><td> 0.1360 </td><td> 0.0630 </td><td> 0.0705 </td><td> 0.7305 </td></tr></table></div>"
      ],
      "text/plain": [
       "<IPython.core.display.HTML at 0x7f7e755039e8>"
      ]
     },
     "execution_count": 70,
     "metadata": {},
     "output_type": "execute_result"
    }
   ],
   "source": [
    "printP(P1**100)"
   ]
  },
  {
   "cell_type": "markdown",
   "metadata": {},
   "source": [
    "<div class=\"alert alert\" align=\"center\">\n",
    "How about the last two computed results? \n",
    "</div>"
   ]
  },
  {
   "cell_type": "markdown",
   "metadata": {},
   "source": [
    "## Observation\n",
    "\n",
    "While at the (large) $n$ step, the transtion probability seems to be distributed as constant as follows:\n",
    "\n",
    "$$\\pi_n=(p_1,p_2,p_3,p_4)^{t=n}$$\n",
    "\n",
    "Then the transtion probability to the next step should be\n",
    "\n",
    "1. state 1: $p_1*p_{11}+p_2*p_{21}+p_3*p_{31}+p_4*p_{41}(\\sim p_1)$\n",
    "$$   \n",
    "   P(X_{n+1}=1) = P(X_n=1) P(X_{n+1}=1|X_n=1)+P(X_n=2) P(X_{n+1}=1|X_n=2)+\\cdots+P(X_n=4) P(X_{n+1}=1|X_n=4) \n",
    "$$\n",
    "2. states $i=2,3,4$: $p_1*p_{1i}+p_2*p_{2i}+p_3*p_{3i}+p_4*p_{4i}(\\sim p_i)$\n",
    "3. $$ (p_1,p_2,p_3,p_4)^{n+1}=(p_1,p_2,p_3,p_4)^{n}\\times P$$\n",
    "\n",
    "This implies: $$ \\pi_{n+1}=\\pi_n\\times P$$ if time $n$ is large enough (eventually). This is stable if the following exists:\n",
    "$$\\pi=\\lim_{n\\to\\infty}\\pi_{n+1}=\\lim_{n\\to\\infty}\\pi_n\\times P=\\pi P$$\n"
   ]
  },
  {
   "cell_type": "markdown",
   "metadata": {},
   "source": [
    "## Tools for evaluate stable $\\pi$\n",
    "\n",
    "NumPy/SciPy is the best choice for computing Linear Algebra and for computing transition matix!\n"
   ]
  },
  {
   "cell_type": "markdown",
   "metadata": {},
   "source": [
    "## Example\n",
    "\n",
    "Physicians who diagnose asymptomatic gallstones are faced with the decision to either immediately remove the gall bladder to prevent possible life-threatening complications or to postpone surgery until complications do occur. What is the long-term trend of each strategy?\n",
    "\n",
    "        A      C    R     W     D\n",
    "    A  0.95  0.04   0     0    0.01 \n",
    "    C   0      0   0.995  0    0.005\n",
    "    R   0      0   0.09  0.90  0.01 \n",
    "    W   0      0   0     0.99  0.01\n",
    "    D   0      0   0      0     1 \n",
    "\n",
    "Where the state is one of the follows:\n",
    "\n",
    "    A (1): Asymptomatic gallstone; postpone surgery from 4-month delay with 0.95 probability;\n",
    "    C (2): cholecystitis or biliary complications; will require surgery with 0.04 probability;\n",
    "    D (5): natual death state; with probability 0.01 due to age\n",
    "    R (3): Recovery state;\n",
    "    W (4): well state; 99% well recovery and 1% to death\n",
    "\n",
    "Ninety percent of the patients move onto the well state (W) while 9% stay in the recovery state each year and 1% die of natural causes. If the disease progresses and becomes symptomatic, then surgery is performed with a risk of death from complications due to surgery of 0.005.\n",
    "In [14]:\n",
    "\n"
   ]
  },
  {
   "cell_type": "code",
   "execution_count": 28,
   "metadata": {
    "collapsed": false
   },
   "outputs": [
    {
     "data": {
      "text/html": [
       "<div align=\"center\"><table><tr><td>State</td><td><div align=\"center\">A</div></td><td><div align=\"center\">C</div></td><td><div align=\"center\">R</div></td><td><div align=\"center\">W</div></td><td><div align=\"center\">D</div></td></tr><tr><td><div align=\"center\">A</div></td><td> 0.9500 </td><td> 0.0400 </td><td> 0.0000 </td><td> 0.0000 </td><td> 0.0100 </td></tr><tr><td><div align=\"center\">C</div></td><td> 0.0000 </td><td> 0.0000 </td><td> 0.9950 </td><td> 0.0000 </td><td> 0.0050 </td></tr><tr><td><div align=\"center\">R</div></td><td> 0.0000 </td><td> 0.0000 </td><td> 0.0900 </td><td> 0.9000 </td><td> 0.0100 </td></tr><tr><td><div align=\"center\">W</div></td><td> 0.0000 </td><td> 0.0000 </td><td> 0.0000 </td><td> 0.9900 </td><td> 0.0100 </td></tr><tr><td><div align=\"center\">D</div></td><td> 0.0000 </td><td> 0.0000 </td><td> 0.0000 </td><td> 0.0000 </td><td> 1.0000 </td></tr></table></div>"
      ],
      "text/plain": [
       "<IPython.core.display.HTML at 0x106bda150>"
      ]
     },
     "execution_count": 28,
     "metadata": {},
     "output_type": "execute_result"
    }
   ],
   "source": [
    "P2=np.matrix([[0.95,0.04,0,0,0.01],[0,0,0.995,0,0.005],[0,0,0.09,0.9,0.01],[0,0,0,0.99,0.01],\\\n",
    "              [0,0,0,0,1]])\n",
    "states=['A','C','R','W','D']\n",
    "printP2(P2,states)"
   ]
  },
  {
   "cell_type": "code",
   "execution_count": 29,
   "metadata": {
    "collapsed": false
   },
   "outputs": [
    {
     "data": {
      "text/html": [
       "<div align=\"center\"><table><tr><td>State</td><td><div align=\"center\">A</div></td><td><div align=\"center\">C</div></td><td><div align=\"center\">R</div></td><td><div align=\"center\">W</div></td><td><div align=\"center\">D</div></td></tr><tr><td><div align=\"center\">A</div></td><td> 0.8574 </td><td> 0.0361 </td><td> 0.0414 </td><td> 0.0358 </td><td> 0.0293 </td></tr><tr><td><div align=\"center\">C</div></td><td> 0.0000 </td><td> 0.0000 </td><td> 0.0081 </td><td> 0.9671 </td><td> 0.0248 </td></tr><tr><td><div align=\"center\">R</div></td><td> 0.0000 </td><td> 0.0000 </td><td> 0.0007 </td><td> 0.9696 </td><td> 0.0297 </td></tr><tr><td><div align=\"center\">W</div></td><td> 0.0000 </td><td> 0.0000 </td><td> 0.0000 </td><td> 0.9703 </td><td> 0.0297 </td></tr><tr><td><div align=\"center\">D</div></td><td> 0.0000 </td><td> 0.0000 </td><td> 0.0000 </td><td> 0.0000 </td><td> 1.0000 </td></tr></table></div>"
      ],
      "text/plain": [
       "<IPython.core.display.HTML at 0x10734fed0>"
      ]
     },
     "execution_count": 29,
     "metadata": {},
     "output_type": "execute_result"
    }
   ],
   "source": [
    "#np.set_printoptions(precision=3)\n",
    "#numpy.set_printoptions(formatter={'float': lambda x: str(x)})\n",
    "printP2(P2**3,states)"
   ]
  },
  {
   "cell_type": "code",
   "execution_count": 30,
   "metadata": {
    "collapsed": false
   },
   "outputs": [
    {
     "data": {
      "text/html": [
       "<div align=\"center\"><table><tr><td>State</td><td><div align=\"center\">A</div></td><td><div align=\"center\">C</div></td><td><div align=\"center\">R</div></td><td><div align=\"center\">W</div></td><td><div align=\"center\">D</div></td></tr><tr><td><div align=\"center\">A</div></td><td> 0.2146 </td><td> 0.0090 </td><td> 0.0105 </td><td> 0.5082 </td><td> 0.2577 </td></tr><tr><td><div align=\"center\">C</div></td><td> 0.0000 </td><td> 0.0000 </td><td> 0.0000 </td><td> 0.7434 </td><td> 0.2566 </td></tr><tr><td><div align=\"center\">R</div></td><td> 0.0000 </td><td> 0.0000 </td><td> 0.0000 </td><td> 0.7397 </td><td> 0.2603 </td></tr><tr><td><div align=\"center\">W</div></td><td> 0.0000 </td><td> 0.0000 </td><td> 0.0000 </td><td> 0.7397 </td><td> 0.2603 </td></tr><tr><td><div align=\"center\">D</div></td><td> 0.0000 </td><td> 0.0000 </td><td> 0.0000 </td><td> 0.0000 </td><td> 1.0000 </td></tr></table></div>"
      ],
      "text/plain": [
       "<IPython.core.display.HTML at 0x1073d4510>"
      ]
     },
     "execution_count": 30,
     "metadata": {},
     "output_type": "execute_result"
    }
   ],
   "source": [
    "printP2(P2**30,states)"
   ]
  },
  {
   "cell_type": "code",
   "execution_count": null,
   "metadata": {
    "collapsed": false
   },
   "outputs": [],
   "source": []
  },
  {
   "cell_type": "markdown",
   "metadata": {},
   "source": [
    "## Appendix\n",
    "\n",
    "**Definition**\n",
    "\n",
    "An $n×k$ matrix is a rectangular array $A$ of numbers with $n$ rows and $k$ columns:\n",
    "\n",
    "\\begin{split}A = \\left[ \\begin{array}{cccc} a_{11} & a_{12} & \\cdots & a_{1k} \\\\ a_{21} & a_{22} & \\cdots & a_{2k} \\\\ \\vdots & \\vdots & & \\vdots \\\\ a_{n1} & a_{n2} & \\cdots & a_{nk} \\end{array} \\right]\\end{split}\n",
    "\n",
    "$A$ is called sqrare matrix if $n=k$.\n",
    "\n",
    "**Definition**\n",
    "\n",
    "Let $P$ be an $n×n$ square matrix\n",
    "\n",
    "a. If $\\lambda$ is scalar and $\\vec v$ is a non-zero vector in $\\mathbb{R}^n$ such that $\\mathbb{P\\vec v=\\lambda \\vec v}$, then we say that $\\lambda$ is a right eigenvalue of $P$, and $\\vec v$ is a right eigenvector\n",
    "\n",
    "b. If $\\lambda$ is scalar and $\\vec v$ is a non-zero vector in $\\mathbb{R}^n$ such that $\\mathbb{\\vec v P=\\lambda \\vec v}$, then we say that $\\lambda$ is a left eigenvalue of $P$, and $\\vec v$ is a left eigenvector\n",
    "\n",
    "<b>Here, we use left {eigenvalues, eigenvectors} to describe the stable property for $P$.</b>\n",
    "\n"
   ]
  },
  {
   "cell_type": "markdown",
   "metadata": {},
   "source": [
    "**Theorem**\n",
    "Let $P$ be an $n×n$ Transition matrix. 1 is an eigenvalue since\n",
    "$$ P\\cdot[1,1,\\cdots,1]^t=\\left[\\sum_i^n p_{1i},\\cdots,\\sum_i^n p_{ni}\\right]=[1,1,\\cdots,1]^t$$\n",
    "\n",
    "**Theorem**\n",
    "\n",
    "a. $\\vec v P=\\lambda \\vec v$ impies $\\lambda^m$ is eigenvalue of $P^m$ with the same eigenvector:\n",
    "\n",
    "$$\\vec v P^m=(\\vec v P) P^{m-1}=\\lambda \\vec v P^{m-1}=\\lambda^2 \\vec v P^{m-2}=\\cdots= \\lambda^m\\vec v $$\n",
    "\n",
    "**Theorem**\n",
    "Every left eigenvalue $\\lambda_j$ satisfies $|\\lambda_j|\\le1$\n",
    "$$ \\lambda_j^m \\vec v = \\sum_i^n v_i p^m_{ij} \\\\\n",
    "   |\\lambda_j^m|\\cdot ||\\vec v|| \\le \\sum_i^n |v_i| p_{ij} \\\\\n",
    "   |\\lambda_j^m|  \\le \\sum_i^n  p_{ij}\\le C \\\\\n",
    "$$   \n",
    "This proves the theorem since the last result would holds for every $m\\ge1$.\n",
    "   "
   ]
  },
  {
   "cell_type": "markdown",
   "metadata": {},
   "source": [
    "## Example\n",
    "\n",
    "**Definition**\n",
    "\n",
    "Suppose that $P$ is a $2x2$ transition matrix, $P$, as follows:\n",
    "\n",
    "\\begin{split}P = \\left[ \\begin{array}{cc} p_{11} & p_{12}\\\\ p_{21} & p_{22} \\end{array} \\right]\\end{split}\n",
    "\n",
    "\n",
    "**Facts**\n",
    "\n",
    "1. If $p_{12}=p_{21}=0$ $\\to$ 2 recurrent states and $\\lambda=1$ with multiplicity 2.\n",
    "2. If $p_{12}=p_{21}=1$ $\\to$ periodic and eigenvalues are 1 and $\\lambda=-1$ (otherwise $|\\lambda|<1$).\n"
   ]
  },
  {
   "cell_type": "markdown",
   "metadata": {},
   "source": [
    "##Neumann's Theorem\n",
    "\n",
    "If $∥A^k∥\\lt 1$ for some $k∈\\mathbb{N}$, then $I−A$ is invertible, and\n",
    "\n",
    "\\begin{split} (I - A)^{-1} = \\sum_{k=0}^{\\infty} A^k \\end{split} where \\begin{split} \\| A \\| := \\max_{\\| x \\| = 1} \\| A x \\| \\end{split}\n"
   ]
  },
  {
   "cell_type": "markdown",
   "metadata": {},
   "source": [
    "## Properties of MC\n",
    "\n",
    "1. A state $j$ is said to be **accessible** from a state $i$ if $ P^n(i,j)>0$ for some $n\\ge0$. \n",
    "2. Periodic: A state $ i$ has **period** $k$ if any return to state $i$ must occur in multiples of $k$ time steps. If $k = 1$, then the state is said to be *aperiodic*\n",
    "3. Recurrence: A state $i$ is said to be *transient* if, given that we start in state $i$, there is a non-zero probability that we will never return to $i$.  A state $i$ is said to be *recurrent* if and only if the expected number, starting from $i$, back to $i$ is infinite.\n",
    "$$\\text{ recurrent if } \\sum_{n\\ge 1}P_{i,i}^n=\\infty;\\\\\n",
    "  \\text{ transient if } \\sum_{n\\ge 1}P_{i,i}^n<\\infty;\\\\                       \n",
    "$$\n",
    "4. A state $i$ is called *absorbing* if it is impossible to leave this state.\n",
    "5. Ergodicity: A state $i$ is said to be ergodic if it is aperiodic and positive recurrent. In other words, a state i is ergodic if it is recurrent, has a period of 1 and it has finite mean recurrence time. If all states in an irreducible Markov chain are ergodic, then the chain is said to be ergodic.\n",
    "6. $\\pi$ is called stationary if\n",
    "   \n",
    "$$\n",
    "   \\pi=[\\pi_1,\\cdots,\\pi_n], \\pi_i\\ge0; \\\\\n",
    "   \\sum_{i\\in S}\\pi_i=1;\\\\\n",
    "   \\pi=\\pi P\n",
    "$$ \n",
    "\n"
   ]
  },
  {
   "cell_type": "markdown",
   "metadata": {},
   "source": [
    "## Theorem\n",
    "An irreducible chain has a stationary distribution if and only if all of its states are positive recurrent, i.e.\n",
    "$$ \\pi=\\pi P$$"
   ]
  },
  {
   "cell_type": "markdown",
   "metadata": {},
   "source": [
    "##Note\n",
    "An irreducible aperiod Markov chain satisfies:\n",
    "$$ \\pi=\\pi P \\\\\n",
    "   \\to \\pi(I_n-1\\cdot P)=0$$\n",
    "   This means $\\pi$ is the eigenvector of $P$ with respect to the eigenvalue <font color=\"red\">\"$1$\"</font>.   <br>  \n",
    "   <img src=\"images/invariant.png\">   \n"
   ]
  },
  {
   "cell_type": "code",
   "execution_count": 7,
   "metadata": {
    "collapsed": false
   },
   "outputs": [
    {
     "data": {
      "text/html": [
       "<div align=\"center\"><table><tr><td>State</td><td><div align=\"center\">1</div></td><td><div align=\"center\">2</div></td><tr><td><div align=\"center\">1</div></td><td> 0.4000 </td><td> 0.6000 </td></tr><tr><td><div align=\"center\">2</div></td><td> 0.2000 </td><td> 0.8000 </td></tr></table></div>"
      ],
      "text/plain": [
       "<IPython.core.display.HTML at 0x104eb2b10>"
      ]
     },
     "execution_count": 7,
     "metadata": {},
     "output_type": "execute_result"
    }
   ],
   "source": [
    "B=np.matrix([[0.4,0.6],[0.2,0.8]])\n",
    "printP(B)"
   ]
  },
  {
   "cell_type": "code",
   "execution_count": 9,
   "metadata": {
    "collapsed": false
   },
   "outputs": [
    {
     "data": {
      "text/plain": [
       "array([ 0.2,  1. ])"
      ]
     },
     "execution_count": 9,
     "metadata": {},
     "output_type": "execute_result"
    }
   ],
   "source": [
    "evals, evecs =sp.linalg.eig(B,left=True,right=False)\n",
    "\n",
    "evals=np.real(evals)\n",
    "evals"
   ]
  },
  {
   "cell_type": "code",
   "execution_count": 10,
   "metadata": {
    "collapsed": false
   },
   "outputs": [
    {
     "data": {
      "text/plain": [
       "array([-0.31622777, -0.9486833 ])"
      ]
     },
     "execution_count": 10,
     "metadata": {},
     "output_type": "execute_result"
    }
   ],
   "source": [
    "ev0=evecs[:,1];ev0"
   ]
  },
  {
   "cell_type": "code",
   "execution_count": 11,
   "metadata": {
    "collapsed": false
   },
   "outputs": [
    {
     "data": {
      "text/plain": [
       "array([ 0.25,  0.75])"
      ]
     },
     "execution_count": 11,
     "metadata": {},
     "output_type": "execute_result"
    }
   ],
   "source": [
    "ev0=ev0/sum(ev0);ev0"
   ]
  },
  {
   "cell_type": "code",
   "execution_count": null,
   "metadata": {
    "collapsed": false
   },
   "outputs": [],
   "source": [
    "ev1=StableDist(B)\n",
    "ev1"
   ]
  },
  {
   "cell_type": "code",
   "execution_count": 14,
   "metadata": {
    "collapsed": false
   },
   "outputs": [
    {
     "data": {
      "text/plain": [
       "matrix([[ 0.25,  0.75]])"
      ]
     },
     "execution_count": 14,
     "metadata": {},
     "output_type": "execute_result"
    }
   ],
   "source": [
    "ev1*B"
   ]
  },
  {
   "cell_type": "markdown",
   "metadata": {},
   "source": [
    "## Procedure for Evaluating $\\pi$\n",
    "\n",
    "1. Find out all the eigenvalues of $P$ with eigenvales repectively; \n",
    "\n",
    "2. the eigenvector with respect to eigenvale 1 is the stable distribution, $\\pi$, that  we want to find.\n",
    "\n",
    "## By SciPy\n",
    "\n",
    "1. Find eigenvalues by <br>\n",
    "   <font color=\"brown\">eigvals,eigvecs=scipy.linalg.eig(P,left=True,right=False)</font>\n",
    "\n",
    "2. Suppose that eigvec = eigvec[:,i] is the eigenvector with respect to eigenvalue1. It is the stable distribution, $\\pi$ if eigenvec is unit vector; otherwise, $\\pi$ is <font color=\"brown\">eigvec/sum(eigvec)</font> since total sum of transition probability is equal to 1."
   ]
  },
  {
   "cell_type": "code",
   "execution_count": 20,
   "metadata": {
    "collapsed": false
   },
   "outputs": [
    {
     "data": {
      "text/html": [
       "<div align=\"center\"><table><tr><td>State</td><td><div align=\"center\">1</div></td><td><div align=\"center\">2</div></td><td><div align=\"center\">3</div></td><tr><td><div align=\"center\">1</div></td><td> 0.7000 </td><td> 0.2000 </td><td> 0.1000 </td></tr><tr><td><div align=\"center\">2</div></td><td> 0.0000 </td><td> 0.5000 </td><td> 0.5000 </td></tr><tr><td><div align=\"center\">3</div></td><td> 0.0000 </td><td> 0.9000 </td><td> 0.1000 </td></tr></table></div>"
      ],
      "text/plain": [
       "<IPython.core.display.HTML at 0x10734ff10>"
      ]
     },
     "execution_count": 20,
     "metadata": {},
     "output_type": "execute_result"
    }
   ],
   "source": [
    "A = np.matrix([[0.7,0.2,0.1],[0,0.5,0.5],[0.,0.9,0.1]])\n",
    "printP(A)"
   ]
  },
  {
   "cell_type": "code",
   "execution_count": 21,
   "metadata": {
    "collapsed": false
   },
   "outputs": [
    {
     "data": {
      "text/html": [
       "<div align=\"center\"><table><tr><td>State</td><td><div align=\"center\">1</div></td><td><div align=\"center\">2</div></td><td><div align=\"center\">3</div></td><tr><td><div align=\"center\">1</div></td><td> 0.0000 </td><td> 0.6429 </td><td> 0.3571 </td></tr><tr><td><div align=\"center\">2</div></td><td> 0.0000 </td><td> 0.6429 </td><td> 0.3571 </td></tr><tr><td><div align=\"center\">3</div></td><td> 0.0000 </td><td> 0.6429 </td><td> 0.3571 </td></tr></table></div>"
      ],
      "text/plain": [
       "<IPython.core.display.HTML at 0x1073d4410>"
      ]
     },
     "execution_count": 21,
     "metadata": {},
     "output_type": "execute_result"
    }
   ],
   "source": [
    "printP(A**1000)"
   ]
  },
  {
   "cell_type": "code",
   "execution_count": 16,
   "metadata": {
    "collapsed": false
   },
   "outputs": [
    {
     "data": {
      "text/html": [
       "<div align=\"center\"><table><tr><td>State</td><td><div align=\"center\">1</div></td><td><div align=\"center\">2</div></td><td><div align=\"center\">3</div></td><tr><td><div align=\"center\">1</div></td><td> 0.0000 </td><td> 0.6429 </td><td> 0.3571 </td></tr><tr><td><div align=\"center\">2</div></td><td> 0.0000 </td><td> 0.6429 </td><td> 0.3571 </td></tr><tr><td><div align=\"center\">3</div></td><td> 0.0000 </td><td> 0.6429 </td><td> 0.3571 </td></tr></table></div>"
      ],
      "text/plain": [
       "<IPython.core.display.HTML object>"
      ]
     },
     "execution_count": 16,
     "metadata": {},
     "output_type": "execute_result"
    }
   ],
   "source": [
    "printP(A**2000)"
   ]
  },
  {
   "cell_type": "code",
   "execution_count": 22,
   "metadata": {
    "collapsed": false
   },
   "outputs": [
    {
     "data": {
      "text/plain": [
       "array([ 0.7,  1. , -0.4])"
      ]
     },
     "execution_count": 22,
     "metadata": {},
     "output_type": "execute_result"
    }
   ],
   "source": [
    "evals, evecs =sp.linalg.eig(A,left=True,right=False)\n",
    "\n",
    "evals=np.real(evals)\n",
    "evals"
   ]
  },
  {
   "cell_type": "code",
   "execution_count": 24,
   "metadata": {
    "collapsed": false
   },
   "outputs": [
    {
     "data": {
      "text/plain": [
       "array([ 0.        ,  0.87415728,  0.48564293])"
      ]
     },
     "execution_count": 24,
     "metadata": {},
     "output_type": "execute_result"
    }
   ],
   "source": [
    "ev0=evecs[:,1]\n",
    "ev0"
   ]
  },
  {
   "cell_type": "code",
   "execution_count": 25,
   "metadata": {
    "collapsed": false
   },
   "outputs": [
    {
     "data": {
      "text/plain": [
       "array([ 0.        ,  0.64285714,  0.35714286])"
      ]
     },
     "execution_count": 25,
     "metadata": {},
     "output_type": "execute_result"
    }
   ],
   "source": [
    "ev0=ev0/sum(ev0);ev0"
   ]
  },
  {
   "cell_type": "code",
   "execution_count": 36,
   "metadata": {
    "collapsed": false
   },
   "outputs": [
    {
     "data": {
      "text/plain": [
       "array([[ 0.        ],\n",
       "       [ 0.64285714],\n",
       "       [ 0.35714286]])"
      ]
     },
     "execution_count": 36,
     "metadata": {},
     "output_type": "execute_result"
    }
   ],
   "source": [
    "eps=1e-6\n",
    "ind=evals[:]>1.-eps\n",
    "#evals[:,ind]\n",
    "evecs[:,ind]/sum(evecs[:,ind])"
   ]
  },
  {
   "cell_type": "code",
   "execution_count": 26,
   "metadata": {
    "collapsed": false
   },
   "outputs": [
    {
     "data": {
      "text/plain": [
       "array([[ 0.        ,  0.64285714,  0.35714286]])"
      ]
     },
     "execution_count": 26,
     "metadata": {},
     "output_type": "execute_result"
    }
   ],
   "source": [
    "StableDist(A)"
   ]
  },
  {
   "cell_type": "code",
   "execution_count": null,
   "metadata": {
    "collapsed": false
   },
   "outputs": [],
   "source": []
  },
  {
   "cell_type": "code",
   "execution_count": null,
   "metadata": {
    "collapsed": false
   },
   "outputs": [],
   "source": []
  },
  {
   "cell_type": "markdown",
   "metadata": {},
   "source": [
    "##Problem\n",
    "\n",
    "Suppose that the climate record is as follows (one-day transition):\n",
    "\n",
    "           cloud  sun rain  snow\n",
    "    cloud   0.6   0.2  0.2    0\n",
    "     sun    0.7   0.3    0    0\n",
    "    rain    0.55    0  0.4  0.05\n",
    "    snow    0       0  0.5  0.5\n",
    "\n",
    "What about the climate of tomorrow, and the day after tomorrow? Guess where the place locates. How to introtruce the climate information for travellers?\n"
   ]
  },
  {
   "cell_type": "code",
   "execution_count": null,
   "metadata": {
    "collapsed": false
   },
   "outputs": [],
   "source": []
  },
  {
   "cell_type": "markdown",
   "metadata": {},
   "source": [
    "## Frog on the 7 lily pad\n",
    "\n",
    "A frog hops about on 7 lily pads. The numbers next to arrows show the probabilities with which, at the next jump, \n",
    "he jumps to a neighbouring lily pad (and when out-going probabilities sum to less than 1 he stays where he is with \n",
    "the remaining probability).\n",
    "<p>\n",
    "<img src=\"images/frog.png\">\n"
   ]
  },
  {
   "cell_type": "markdown",
   "metadata": {},
   "source": [
    "## Challenges\n",
    "\n",
    "    a) Starting in state 1, what is the probability that we are still in state 1 after 3 steps?\n",
    "    b) after 5 steps?\n",
    "    c) after 100 steps (or eventually)?\n",
    "\n"
   ]
  },
  {
   "cell_type": "code",
   "execution_count": 17,
   "metadata": {
    "collapsed": false
   },
   "outputs": [
    {
     "data": {
      "text/html": [
       "<div align=\"center\"><table><tr><td>State</td><td><div align=\"center\">1</div></td><td><div align=\"center\">2</div></td><td><div align=\"center\">3</div></td><td><div align=\"center\">4</div></td><td><div align=\"center\">5</div></td><td><div align=\"center\">6</div></td><td><div align=\"center\">7</div></td><tr><td><div align=\"center\">1</div></td><td> 0.0000 </td><td> 1.0000 </td><td> 0.0000 </td><td> 0.0000 </td><td> 0.0000 </td><td> 0.0000 </td><td> 0.0000 </td></tr><tr><td><div align=\"center\">2</div></td><td> 0.0000 </td><td> 0.5000 </td><td> 0.5000 </td><td> 0.0000 </td><td> 0.0000 </td><td> 0.0000 </td><td> 0.0000 </td></tr><tr><td><div align=\"center\">3</div></td><td> 0.5000 </td><td> 0.0000 </td><td> 0.5000 </td><td> 0.0000 </td><td> 0.0000 </td><td> 0.0000 </td><td> 0.0000 </td></tr><tr><td><div align=\"center\">4</div></td><td> 0.0000 </td><td> 0.0000 </td><td> 0.2500 </td><td> 0.5000 </td><td> 0.2500 </td><td> 0.0000 </td><td> 0.0000 </td></tr><tr><td><div align=\"center\">5</div></td><td> 0.0000 </td><td> 0.0000 </td><td> 0.0000 </td><td> 0.0000 </td><td> 0.0000 </td><td> 0.5000 </td><td> 0.5000 </td></tr><tr><td><div align=\"center\">6</div></td><td> 0.0000 </td><td> 0.0000 </td><td> 1.0000 </td><td> 0.0000 </td><td> 0.0000 </td><td> 0.0000 </td><td> 0.0000 </td></tr><tr><td><div align=\"center\">7</div></td><td> 0.0000 </td><td> 0.0000 </td><td> 0.0000 </td><td> 0.0000 </td><td> 0.0000 </td><td> 0.0000 </td><td> 1.0000 </td></tr></table></div>"
      ],
      "text/plain": [
       "<IPython.core.display.HTML at 0x7f3cd4125c50>"
      ]
     },
     "execution_count": 17,
     "metadata": {},
     "output_type": "execute_result"
    }
   ],
   "source": [
    "P=np.matrix([[0,1,0,0,0,0,0],\n",
    "             [0,1/2.,1/2.,0,0,0,0],\n",
    "             [1/2.,0,1/2.,0,0,0,0],\n",
    "             [0,0,1/4.,1/2.,1/4.,0,0],\n",
    "             [0,0,0,0,0,1/2.,1/2.],\n",
    "             [0,0,1,0,0,0,0],\n",
    "             [0,0,0,0,0,0,1]])\n",
    "printP(P)"
   ]
  },
  {
   "cell_type": "code",
   "execution_count": 17,
   "metadata": {
    "collapsed": false
   },
   "outputs": [
    {
     "data": {
      "text/html": [
       "<div align=\"center\"><table><tr><td>State</td><td><div align=\"center\">1</div></td><td><div align=\"center\">2</div></td><td><div align=\"center\">3</div></td><td><div align=\"center\">4</div></td><td><div align=\"center\">5</div></td><td><div align=\"center\">6</div></td><td><div align=\"center\">7</div></td><tr><td><div align=\"center\">1</div></td><td> 0.2500 </td><td> 0.2500 </td><td> 0.5000 </td><td> 0.0000 </td><td> 0.0000 </td><td> 0.0000 </td><td> 0.0000 </td></tr><tr><td><div align=\"center\">2</div></td><td> 0.2500 </td><td> 0.3750 </td><td> 0.3750 </td><td> 0.0000 </td><td> 0.0000 </td><td> 0.0000 </td><td> 0.0000 </td></tr><tr><td><div align=\"center\">3</div></td><td> 0.1250 </td><td> 0.5000 </td><td> 0.3750 </td><td> 0.0000 </td><td> 0.0000 </td><td> 0.0000 </td><td> 0.0000 </td></tr><tr><td><div align=\"center\">4</div></td><td> 0.1250 </td><td> 0.1250 </td><td> 0.3125 </td><td> 0.1250 </td><td> 0.0625 </td><td> 0.0625 </td><td> 0.1875 </td></tr><tr><td><div align=\"center\">5</div></td><td> 0.2500 </td><td> 0.0000 </td><td> 0.2500 </td><td> 0.0000 </td><td> 0.0000 </td><td> 0.0000 </td><td> 0.5000 </td></tr><tr><td><div align=\"center\">6</div></td><td> 0.2500 </td><td> 0.5000 </td><td> 0.2500 </td><td> 0.0000 </td><td> 0.0000 </td><td> 0.0000 </td><td> 0.0000 </td></tr><tr><td><div align=\"center\">7</div></td><td> 0.0000 </td><td> 0.0000 </td><td> 0.0000 </td><td> 0.0000 </td><td> 0.0000 </td><td> 0.0000 </td><td> 1.0000 </td></tr></table></div>"
      ],
      "text/plain": [
       "<IPython.core.display.HTML at 0x7f4ccab8f9b0>"
      ]
     },
     "execution_count": 17,
     "metadata": {},
     "output_type": "execute_result"
    }
   ],
   "source": [
    "printP(P*P*P)"
   ]
  },
  {
   "cell_type": "code",
   "execution_count": 18,
   "metadata": {
    "collapsed": false
   },
   "outputs": [
    {
     "data": {
      "text/html": [
       "<div align=\"center\"><table><tr><td>State</td><td><div align=\"center\">1</div></td><td><div align=\"center\">2</div></td><td><div align=\"center\">3</div></td><td><div align=\"center\">4</div></td><td><div align=\"center\">5</div></td><td><div align=\"center\">6</div></td><td><div align=\"center\">7</div></td><tr><td><div align=\"center\">1</div></td><td> 0.1875 </td><td> 0.4375 </td><td> 0.3750 </td><td> 0.0000 </td><td> 0.0000 </td><td> 0.0000 </td><td> 0.0000 </td></tr><tr><td><div align=\"center\">2</div></td><td> 0.1875 </td><td> 0.4062 </td><td> 0.4062 </td><td> 0.0000 </td><td> 0.0000 </td><td> 0.0000 </td><td> 0.0000 </td></tr><tr><td><div align=\"center\">3</div></td><td> 0.2188 </td><td> 0.3750 </td><td> 0.4062 </td><td> 0.0000 </td><td> 0.0000 </td><td> 0.0000 </td><td> 0.0000 </td></tr><tr><td><div align=\"center\">4</div></td><td> 0.1562 </td><td> 0.2500 </td><td> 0.2969 </td><td> 0.0312 </td><td> 0.0156 </td><td> 0.0156 </td><td> 0.2344 </td></tr><tr><td><div align=\"center\">5</div></td><td> 0.0625 </td><td> 0.2500 </td><td> 0.1875 </td><td> 0.0000 </td><td> 0.0000 </td><td> 0.0000 </td><td> 0.5000 </td></tr><tr><td><div align=\"center\">6</div></td><td> 0.1875 </td><td> 0.3750 </td><td> 0.4375 </td><td> 0.0000 </td><td> 0.0000 </td><td> 0.0000 </td><td> 0.0000 </td></tr><tr><td><div align=\"center\">7</div></td><td> 0.0000 </td><td> 0.0000 </td><td> 0.0000 </td><td> 0.0000 </td><td> 0.0000 </td><td> 0.0000 </td><td> 1.0000 </td></tr></table></div>"
      ],
      "text/plain": [
       "<IPython.core.display.HTML at 0x7f4ccab8f828>"
      ]
     },
     "execution_count": 18,
     "metadata": {},
     "output_type": "execute_result"
    }
   ],
   "source": [
    "printP(P**5)"
   ]
  },
  {
   "cell_type": "code",
   "execution_count": 19,
   "metadata": {
    "collapsed": false
   },
   "outputs": [
    {
     "data": {
      "text/plain": [
       "0.20000000000000001"
      ]
     },
     "execution_count": 19,
     "metadata": {},
     "output_type": "execute_result"
    }
   ],
   "source": [
    "P000=P**100\n",
    "P000[0,0]"
   ]
  },
  {
   "cell_type": "code",
   "execution_count": 19,
   "metadata": {
    "collapsed": false
   },
   "outputs": [
    {
     "data": {
      "text/html": [
       "<div align=\"center\"><table><tr><td>State</td><td><div align=\"center\">1</div></td><td><div align=\"center\">2</div></td><td><div align=\"center\">3</div></td><td><div align=\"center\">4</div></td><td><div align=\"center\">5</div></td><td><div align=\"center\">6</div></td><td><div align=\"center\">7</div></td><tr><td><div align=\"center\">1</div></td><td> 0.2000 </td><td> 0.4000 </td><td> 0.4000 </td><td> 0.0000 </td><td> 0.0000 </td><td> 0.0000 </td><td> 0.0000 </td></tr><tr><td><div align=\"center\">2</div></td><td> 0.2000 </td><td> 0.4000 </td><td> 0.4000 </td><td> 0.0000 </td><td> 0.0000 </td><td> 0.0000 </td><td> 0.0000 </td></tr><tr><td><div align=\"center\">3</div></td><td> 0.2000 </td><td> 0.4000 </td><td> 0.4000 </td><td> 0.0000 </td><td> 0.0000 </td><td> 0.0000 </td><td> 0.0000 </td></tr><tr><td><div align=\"center\">4</div></td><td> 0.1500 </td><td> 0.3000 </td><td> 0.3000 </td><td> 0.0000 </td><td> 0.0000 </td><td> 0.0000 </td><td> 0.2500 </td></tr><tr><td><div align=\"center\">5</div></td><td> 0.1000 </td><td> 0.2000 </td><td> 0.2000 </td><td> 0.0000 </td><td> 0.0000 </td><td> 0.0000 </td><td> 0.5000 </td></tr><tr><td><div align=\"center\">6</div></td><td> 0.2000 </td><td> 0.4000 </td><td> 0.4000 </td><td> 0.0000 </td><td> 0.0000 </td><td> 0.0000 </td><td> 0.0000 </td></tr><tr><td><div align=\"center\">7</div></td><td> 0.0000 </td><td> 0.0000 </td><td> 0.0000 </td><td> 0.0000 </td><td> 0.0000 </td><td> 0.0000 </td><td> 1.0000 </td></tr></table></div>"
      ],
      "text/plain": [
       "<IPython.core.display.HTML at 0x7f3cd41250f0>"
      ]
     },
     "execution_count": 19,
     "metadata": {},
     "output_type": "execute_result"
    }
   ],
   "source": [
    "printP(P**1000)"
   ]
  },
  {
   "cell_type": "markdown",
   "metadata": {},
   "source": [
    "## Markov Chain Model for Baseball\n",
    "\n",
    "        \n",
    "     TABLE 1: RUNNERS AND OUTS COMBINATIONS\n",
    "\n",
    "Runners: 0(none)1     2     3     12     13     23     123\n",
    "\n",
    "         0: (0,0)[1]  (1,0)[2]  (2,0)[3]  (3,0)[4]  (12,0)[5]  (13,0)[6]  (23,0)[7]  (123,0)[8]\n",
    "    Outs 1: (0,1)[9]  (1,1)[10] (2,1)[11] (3,1)[12] (12,1)[13] (13,1)[14] (23,1)[15] (123,1)[16]\n",
    "         2: (0,2)[17] (1,2)[18] (2,2)[19] (3,2)[20] (12,2)[21] (13,2)[22] (23,2)[23] (123,2)[24]\n",
    "\n",
    " Three outs state [25]\n",
    "\n",
    "There are 25 states, in other words, the transition matrix, $P$, is a $25\\times25$ matrix.\n"
   ]
  },
  {
   "cell_type": "markdown",
   "metadata": {},
   "source": [
    "## Markov Chain Model for Baseball\n",
    "\n",
    "<table border=\"1\" cellpadding=\"2\" cellspacing=\"2\" width=\"70%\">\n",
    "<tbody>\n",
    "<tr>\n",
    "<td align=\"center\" valign=\"top\">no.<br>\n",
    "</td>\n",
    "<td align=\"center\" valign=\"top\">state<br>\n",
    "</td>\n",
    "<td align=\"center\" valign=\"top\">no.<br>\n",
    "</td>\n",
    "<td align=\"center\" valign=\"top\">state<br>\n",
    "</td>\n",
    "<td align=\"center\" valign=\"top\">no.<br>\n",
    "</td>\n",
    "<td align=\"center\" valign=\"top\">state<br>\n",
    "</td>\n",
    "</tr>\n",
    "<tr>\n",
    "<td align=\"center\" valign=\"top\">1<br>\n",
    "</td>\n",
    "<td align=\"center\" valign=\"top\">(0,0)<br>\n",
    "</td>\n",
    "<td align=\"center\" valign=\"top\">9<br>\n",
    "</td>\n",
    "<td align=\"center\" valign=\"top\">(0,1)<br>\n",
    "</td>\n",
    "<td align=\"center\" valign=\"top\">17<br>\n",
    "</td>\n",
    "<td align=\"center\" valign=\"top\">(0,2)<br>\n",
    "</td>\n",
    "</tr>\n",
    "<tr>\n",
    "<td align=\"center\" valign=\"top\">2<br>\n",
    "</td>\n",
    "<td align=\"center\" valign=\"top\">(1,0)<br>\n",
    "</td>\n",
    "<td align=\"center\" valign=\"top\">10<br>\n",
    "</td>\n",
    "<td align=\"center\" valign=\"top\">(1,1)<br>\n",
    "</td>\n",
    "<td align=\"center\" valign=\"top\">18<br>\n",
    "</td>\n",
    "<td align=\"center\" valign=\"top\">(1,2)<br>\n",
    "</td>\n",
    "</tr>\n",
    "<tr>\n",
    "<td align=\"center\" valign=\"top\">3<br>\n",
    "</td>\n",
    "<td align=\"center\" valign=\"top\">(2,0)<br>\n",
    "</td>\n",
    "<td align=\"center\" valign=\"top\">11<br>\n",
    "</td>\n",
    "<td align=\"center\" valign=\"top\">(2,1)<br>\n",
    "</td>\n",
    "<td align=\"center\" valign=\"top\">19<br>\n",
    "</td>\n",
    "<td align=\"center\" valign=\"top\">(2,2)<br>\n",
    "</td>\n",
    "</tr>\n",
    "<tr>\n",
    "<td align=\"center\" valign=\"top\">4<br>\n",
    "</td>\n",
    "<td align=\"center\" valign=\"top\">(3,0)<br>\n",
    "</td>\n",
    "<td align=\"center\" valign=\"top\">12<br>\n",
    "</td>\n",
    "<td align=\"center\" valign=\"top\">(3,1)<br>\n",
    "</td>\n",
    "<td align=\"center\" valign=\"top\">20<br>\n",
    "</td>\n",
    "<td align=\"center\" valign=\"top\">(2,3)<br>\n",
    "</td>\n",
    "</tr>\n",
    "<tr>\n",
    "<td align=\"center\" valign=\"top\">5<br>\n",
    "</td>\n",
    "<td align=\"center\" valign=\"top\">(12,0)<br>\n",
    "</td>\n",
    "<td align=\"center\" valign=\"top\">13<br>\n",
    "</td>\n",
    "<td align=\"center\" valign=\"top\">(12,1)<br>\n",
    "</td>\n",
    "<td align=\"center\" valign=\"top\">21<br>\n",
    "</td>\n",
    "<td align=\"center\" valign=\"top\">(3,2)<br>\n",
    "</td>\n",
    "</tr>\n",
    "<tr>\n",
    "<td align=\"center\" valign=\"top\">6<br>\n",
    "</td>\n",
    "<td align=\"center\" valign=\"top\">(23,0)<br>\n",
    "</td>\n",
    "<td align=\"center\" valign=\"top\">14<br>\n",
    "</td>\n",
    "<td align=\"center\" valign=\"top\">(13,1)<br>\n",
    "</td>\n",
    "<td align=\"center\" valign=\"top\">22<br>\n",
    "</td>\n",
    "<td align=\"center\" valign=\"top\">(12,2)<br>\n",
    "</td>\n",
    "</tr>\n",
    "<tr>\n",
    "<td align=\"center\" valign=\"top\">7<br>\n",
    "</td>\n",
    "<td align=\"center\" valign=\"top\">(123,0)<br>\n",
    "</td>\n",
    "<td align=\"center\" valign=\"top\">15<br>\n",
    "</td>\n",
    "<td align=\"center\" valign=\"top\">(23,1)<br>\n",
    "</td>\n",
    "<td align=\"center\" valign=\"top\">23<br>\n",
    "</td>\n",
    "<td align=\"center\" valign=\"top\">(13,2)<br>\n",
    "</td>\n",
    "</tr>\n",
    "<tr>\n",
    "<td align=\"center\" valign=\"top\">8<br>\n",
    "</td>\n",
    "<td valign=\"top\"><br>\n",
    "</td>\n",
    "<td align=\"center\" valign=\"top\">16<br>\n",
    "</td>\n",
    "<td align=\"center\" valign=\"top\">(123,1)<br>\n",
    "</td>\n",
    "<td align=\"center\" valign=\"top\">24<br>\n",
    "</td>\n",
    "<td align=\"center\" valign=\"top\">(23,2)<br>\n",
    "</td>\n",
    "</tr>\n",
    "<tr>\n",
    "<td colspan=\"4\" valign=\"top\"><br>\n",
    "</td>\n",
    "<td align=\"center\" valign=\"top\">25<br>\n",
    "</td>\n",
    "<td align=\"center\" valign=\"top\">(X,3)<br>\n",
    "</td>\n",
    "</tr>\n",
    "</tbody>\n",
    "</table>\n",
    "\n",
    "where (xyz,out) means (runner(s) on 'x,y,z'-bases, out(s))."
   ]
  },
  {
   "cell_type": "markdown",
   "metadata": {},
   "source": [
    "##Note1\n",
    "\n",
    "Not all the tansition from state $i$ to state $j$ could occur, i.e. there are some $p_{ij}=0$ for certain $i,j$.\n",
    "For instance, the transition from (0,0), state 1, to (0,2), state 17, is impossible.\n",
    "\n"
   ]
  },
  {
   "cell_type": "markdown",
   "metadata": {},
   "source": [
    "## Note 2\n",
    "\n",
    "Data from 2009 MLB postseason: there are 560 occurences for state 1, (0,0) and\n",
    "\n",
    "\n",
    "                    Times\n",
    "    (0,0) -> (0,0)    13\n",
    "             (1,0)   123\n",
    "             (2,0)    26\n",
    "             (3,0)     1\n",
    "             (0,1)   397\n",
    "\n",
    "This shows that it is more difficulty to get a \"triple\" than home run!\n"
   ]
  },
  {
   "cell_type": "code",
   "execution_count": 20,
   "metadata": {
    "collapsed": false
   },
   "outputs": [
    {
     "name": "stdout",
     "output_type": "stream",
     "text": [
      "0.0017857142857142857\n",
      "0.023214285714285715\n"
     ]
    }
   ],
   "source": [
    "print(1/560.);print(13/560.)"
   ]
  },
  {
   "cell_type": "markdown",
   "metadata": {},
   "source": [
    "##Note 3\n",
    "\n",
    "state 25 means that it is an absorbing state, i,e. no one can come out while entering this state. \n",
    "Then $$ P=\\left(\\matrix{ A_{24\\times24} &B_{24\\times1}\\\\0_{1\\times24} &1}\\right)$$\n"
   ]
  },
  {
   "cell_type": "markdown",
   "metadata": {},
   "source": [
    "Transition matrix for 2009 MLB Postseason\n",
    "\n",
    "\n",
    "<img src=\"images/mlb2009-1.png\">\n",
    "\n",
    " The data in grey color is zero. The elements of left lower triangle are almost being zero since it is impossible to move from (0,0) to there! "
   ]
  },
  {
   "cell_type": "markdown",
   "metadata": {},
   "source": [
    "## Facts\n",
    "\n",
    "1. $$P^2=\\left(\\matrix{&A ,&(I+A)B \\cr &0 ,&I}\\right) \\\\\n",
    "     P^n=\\left(\\matrix{&A ,&(I+A+\\cdots+A^{n-1})B \\cr &0 ,&I}\\right)\n",
    "   $$\n",
    "2. Fundamental matrix $W=(I-A)^{-1}$\n",
    "   $$\\lim_{n\\to\\infty}P^n=\\left(\\matrix{&A ,&W B \\cr &0 ,&I}\\right)$$"
   ]
  },
  {
   "cell_type": "markdown",
   "metadata": {},
   "source": [
    "## How many are there hitters until the game over?\n",
    "\n",
    "From the definition of $A_{24\\times24}$, the expected sum of hitters from $i$-state to $j$states is\n",
    "\n",
    "$$ 1\\cdot A^0_{ij}+1\\cdot A_{ij}+1\\cdot A^2_{ij}+1\\cdot A^3_{ij}+\\cdots = W_{ij}$$\n",
    "\n",
    "\n",
    "\n"
   ]
  },
  {
   "cell_type": "markdown",
   "metadata": {},
   "source": [
    "## Fundamental Matrix\n",
    "\n",
    "<img src=\"images/fundamental.png\" width=90%>\n"
   ]
  },
  {
   "cell_type": "markdown",
   "metadata": {},
   "source": [
    "##Question## \n",
    "How many would hitter be in half inn from the following data (2009 postseason)?\n",
    "\n",
    "## Values of elemnts in the first row of $W$\n",
    "<font size=\"1px\">\n",
    "$W_{1,1}=1.036,W_{1,2}=0.234,W_{1,3}=0.059,W_{1,4}=0.004,W_{1,5}=0.067,\n",
    "W_{1,6}=0.018, W_{1,7}=0.016, W_{1,8}=0.014$<br>\n",
    "$W_{1,9}=0.774,W_{1,10}=0.293,W_{1,11}=0.103,W_{1,12}=0.016,W_{1,13}=0.119,\n",
    "W_{1,14}=0.028, W_{1,15}=0.026, W_{1,16}=0.04$<br>\n",
    "$W_{1,17}=0.606,W_{1,18}=0.34,W_{1,19}=0.149,W_{1,20}=0.038,W_{1,21}=0.162,\n",
    "W_{1,22}=0.054, W_{1,23}=0.039, W_{1,24}=0.068$<br>\n",
    "</font>"
   ]
  },
  {
   "cell_type": "markdown",
   "metadata": {},
   "source": [
    "## Question\n",
    "\n",
    "Suppose that in the bottom of the fifth inning, the team A is still two runs behind but there are two runners on base 2 and 3 . Now the pitcher is at bat next. How do you to make decision if you were the manager? \n"
   ]
  },
  {
   "cell_type": "markdown",
   "metadata": {},
   "source": [
    "## Discussion\n",
    "\n",
    "$$\\sum_{j}W_{7,j}=4.530, \\sum_{j}W_{15,j}=3.171, \\sum_{j} W_{24,j}=1.738$$"
   ]
  },
  {
   "cell_type": "markdown",
   "metadata": {},
   "source": [
    "## Another Question\n",
    "\n",
    "The most concerned is how about the expected score.\n",
    "\n",
    "For instance, the expected score (1,1) one step can be calculated  by the following:\n",
    "$$ R_{1,1}^{1s}=1\\times P_{1,1}+0\\times(1-P_{1,1})=0.023$$\n",
    "i.e. home run in this case."
   ]
  },
  {
   "cell_type": "markdown",
   "metadata": {},
   "source": [
    "##Another Example\n",
    " \n",
    "The case of one step from state 18 (1.2), one on base and 2 outs:\n",
    "\n",
    "                Next State    score(s)\n",
    "     18 (1,2)    17 (0,2)        2\n",
    "                 18 (1,2)        1\n",
    "                 19 (2,2)        1\n",
    "                 20 (3,2)        1\n",
    " \n",
    "And the Expected score is:\n",
    "$$ R_{18,1}^{1s}= 2\\times P_{18,17}+1\\times (P_{18,18}+P_{18,19}+P_{18,20})=0.13$$"
   ]
  },
  {
   "cell_type": "markdown",
   "metadata": {},
   "source": [
    "## Matrix $R^{1s}$\n",
    "<img src=\"images/R.png\">"
   ]
  },
  {
   "cell_type": "markdown",
   "metadata": {},
   "source": [
    "## Run Potential Matrix\n",
    "\n",
    "$RP=W\\times R=(W_{i,j})(R^{1s}_{j,1})$\n",
    "\n",
    "i.e. Expected scores in one game = expected hitter $\\times$ expected scores\n"
   ]
  },
  {
   "cell_type": "markdown",
   "metadata": {},
   "source": [
    "##Data of $W\\times R$   \n",
    "\n",
    "              RP(1,1)   RP(2,1)   RP(3,1)   RP(4,1)   RP(5,1)   RP(6,1)  RP(7,1)   RP(8,1)\n",
    "      0 out   0.462     0.873     1.004     1.675     1.398     1.679    1.853     1.275 \n",
    "              RP(9,1)   RP(10,1)  RP(11,1)  RP(12,1)  RP(13,1)  RP(14,1) RP(15,1)  RP(16,1)\n",
    "      1 out   0.263     0.431     0.628     1.280     0.759     1.342    1.348     1.114\n",
    "              RP(17,1)  RP(18,1)  RP(19,1)  RP(20,1)  RP(21,1)  RP(22,1) RP(23,1)  RP(24,1)\n",
    "      2 out   0.126     0.267     0.332     0.280     0.498     0.377    0.533     0.613     "
   ]
  },
  {
   "cell_type": "markdown",
   "metadata": {},
   "source": [
    "## Tseng's Playbook\n",
    "\n",
    "曾紀恩被人所熟知的戰術 : 在無人出局一壘有人的狀態下,命令打者以犧牲短打來將跑者送到二壘。二壘有人一出局後的兩個打席,若有一支安打就有機會得分。相對地,無人出局一壘有人,想要得分,好像要在三個打席中出現兩支安打才行。\n",
    "\n",
    "Is it reasonable?\n",
    "\n",
    "Answer: Tseng's trajedy gets 0.628 (**RP(2,1)**, 1 0ut and one on two base) smarller than 0.873 (**RP(2,1)**, no out and one on base 1). "
   ]
  },
  {
   "cell_type": "code",
   "execution_count": 0,
   "metadata": {
    "collapsed": false
   },
   "outputs": [],
   "source": []
  },
  {
   "cell_type": "code",
   "execution_count": 22,
   "metadata": {
    "collapsed": false
   },
   "outputs": [],
   "source": [
    "class discreteRV(object):\n",
    "\n",
    "    def __init__(self, q):\n",
    "        self._q = q\n",
    "        self.Q = cumsum(q)\n",
    "\n",
    "    def get_q(self):\n",
    "        return self._q\n",
    "\n",
    "    def set_q(self, val):\n",
    "        self._q = val\n",
    "        self.Q = cumsum(val)\n",
    "\n",
    "    q = property(get_q, set_q)\n",
    "\n",
    "    def draw(self, k=1):\n",
    "        return self.Q.searchsorted(uniform(0, 1, size=k)) \n",
    "\n"
   ]
  },
  {
   "cell_type": "markdown",
   "metadata": {},
   "source": [
    "##Example 1\n",
    "\n",
    "Consider a worker who, at any given time $t$, is either unemployed (state 0) or employed (state 1)\n",
    "\n",
    "Let’s write this mathematically as $X_t= 0 \\text{ or }1$\n",
    "\n",
    "Suppose that, over a one month period,\n",
    "\n",
    "* An unemployed worker finds a job with probability $\\alpha\\in(0,1)$\n",
    "* An employed worker loses her job and becomes unemployed with probability $\\beta\\in(0,1)$\n",
    "\n",
    "The stochastic matrix is $$ P=\\left(\\matrix{\\alpha &1-\\alpha \\\\ 1-\\beta &\\beta}\\right)$$\n",
    "\n",
    "$\\psi=(p,1-p)$ where represents probability at state being $0,1$ respectively.\n",
    "\n",
    "For instance, $p=0.1$\n"
   ]
  },
  {
   "cell_type": "code",
   "execution_count": 23,
   "metadata": {
    "collapsed": false
   },
   "outputs": [
    {
     "data": {
      "text/plain": [
       "array([0, 1, 1, 1, 1, 1, 1, 1, 1, 1])"
      ]
     },
     "execution_count": 23,
     "metadata": {},
     "output_type": "execute_result"
    }
   ],
   "source": [
    "psi=(0.1,0.9)\n",
    "d = discreteRV(psi)\n",
    "d.draw(10)\n",
    "\n"
   ]
  },
  {
   "cell_type": "code",
   "execution_count": 24,
   "metadata": {
    "collapsed": false
   },
   "outputs": [],
   "source": [
    "def sample_path(P, init=0, sample_size=1000): \n",
    "\n",
    "    # === set up array to store output === #\n",
    "Values of elemnts in the first row of W W1,1=1.036,W1,2=0.234,W1,3=0.059,W1,4=0.004,W1,5=0.067,W1,6=0.018,W1,7=0.016,W1,8=0.014\n",
    "W1,9=0.774,W1,10=0.293,W1,11=0.103,W1,12=0.016,W1,13=0.119,W1,14=0.028,W1,15=0.026,W1,16=0.04\n",
    "W1,17=0.606,W1,18=0.34,W1,19=0.149,W1,20=0.038,W1,21=0.162,W1,22=0.054,W1,23=0.039,W1,24=0.068\n",
    "\n",
    "    X = np.empty(sample_size, dtype=int)\n",
    "    if isinstance(init, int):\n",
    "        X[0] = init\n",
    "    else:\n",
    "        X[0] = discreteRV(init).draw()\n",
    "    n = len(P)\n",
    "    P_dist = [discreteRV(P[i,:]) for i in range(n)]\n",
    "\n",
    "    # === generate the sample path === #\n",
    "    for t in range(sample_size - 1):\n",
    "        X[t+1] = P_dist[X[t]].draw()\n",
    "    return X\n",
    "\n"
   ]
  },
  {
   "cell_type": "code",
   "execution_count": 25,
   "metadata": {
    "collapsed": false
   },
   "outputs": [],
   "source": [
    "P = np.array([[.4, .6], [.2, .8]])"
   ]
  },
  {
   "cell_type": "code",
   "execution_count": 26,
   "metadata": {
    "collapsed": false
   },
   "outputs": [
    {
     "data": {
      "text/plain": [
       "0.25241999999999998"
      ]
     },
     "execution_count": 26,
     "metadata": {},
     "output_type": "execute_result"
    }
   ],
   "source": [
    "s = sample_path(P, init=(0.5, 0.5), sample_size=100000)\n",
    "(s == 0).mean()\n",
    "\n"
   ]
  },
  {
   "cell_type": "code",
   "execution_count": 27,
   "metadata": {
    "collapsed": false
   },
   "outputs": [],
   "source": [
    "P = np.array([[.4, .6], [.2, .8]])"
   ]
  },
  {
   "cell_type": "code",
   "execution_count": null,
   "metadata": {
    "collapsed": false
   },
   "outputs": [],
   "source": []
  }
 ],
 "metadata": {
  "kernelspec": {
   "display_name": "Python 2",
   "language": "python",
   "name": "python2"
  },
  "language_info": {
   "codemirror_mode": {
    "name": "ipython",
    "version": 2
   },
   "file_extension": ".py",
   "mimetype": "text/x-python",
   "name": "python",
   "nbconvert_exporter": "python",
   "pygments_lexer": "ipython2",
   "version": "2.7.9"
  }
 },
 "nbformat": 4,
 "nbformat_minor": 0
}
